{
  "cells": [
    {
      "cell_type": "code",
      "execution_count": null,
      "metadata": {
        "colab": {
          "base_uri": "https://localhost:8080/"
        },
        "id": "lrcOv4_W6ofX",
        "outputId": "1bd056d0-b2a5-4686-9f63-6c9c43ce3752"
      },
      "outputs": [
        {
          "output_type": "stream",
          "name": "stdout",
          "text": [
            "Mounted at /content/drive\n"
          ]
        }
      ],
      "source": [
        "from google.colab import drive\n",
        "drive.mount('/content/drive')"
      ]
    },
    {
      "cell_type": "code",
      "source": [
        "!pip install vaderSentiment\n",
        "\n",
        "from vaderSentiment.vaderSentiment import SentimentIntensityAnalyzer\n",
        "import pandas as pd\n",
        "\n",
        "# Initialize VADER\n",
        "analyzer = SentimentIntensityAnalyzer()\n",
        "\n",
        "# Function to compute sentiment\n",
        "def get_sentiment(text):\n",
        "    if not isinstance(text, str) or not text.strip():\n",
        "        return 0\n",
        "    scores = analyzer.polarity_scores(text)\n",
        "    # Compound ranges from -1 (neg) to +1 (pos)\n",
        "    compound = scores['compound']\n",
        "    # Rescale to -5 to +5\n",
        "    return int(round(compound * 5))"
      ],
      "metadata": {
        "colab": {
          "base_uri": "https://localhost:8080/"
        },
        "id": "g3L-66CF-BWc",
        "outputId": "128dc443-f97b-4d64-b47d-f33653ab1359"
      },
      "execution_count": null,
      "outputs": [
        {
          "output_type": "stream",
          "name": "stdout",
          "text": [
            "Collecting vaderSentiment\n",
            "  Downloading vaderSentiment-3.3.2-py2.py3-none-any.whl.metadata (572 bytes)\n",
            "Requirement already satisfied: requests in /usr/local/lib/python3.12/dist-packages (from vaderSentiment) (2.32.4)\n",
            "Requirement already satisfied: charset_normalizer<4,>=2 in /usr/local/lib/python3.12/dist-packages (from requests->vaderSentiment) (3.4.3)\n",
            "Requirement already satisfied: idna<4,>=2.5 in /usr/local/lib/python3.12/dist-packages (from requests->vaderSentiment) (3.10)\n",
            "Requirement already satisfied: urllib3<3,>=1.21.1 in /usr/local/lib/python3.12/dist-packages (from requests->vaderSentiment) (2.5.0)\n",
            "Requirement already satisfied: certifi>=2017.4.17 in /usr/local/lib/python3.12/dist-packages (from requests->vaderSentiment) (2025.8.3)\n",
            "Downloading vaderSentiment-3.3.2-py2.py3-none-any.whl (125 kB)\n",
            "\u001b[?25l   \u001b[90m━━━━━━━━━━━━━━━━━━━━━━━━━━━━━━━━━━━━━━━━\u001b[0m \u001b[32m0.0/126.0 kB\u001b[0m \u001b[31m?\u001b[0m eta \u001b[36m-:--:--\u001b[0m\r\u001b[2K   \u001b[90m━━━━━━━━━━━━━━━━━━━━━━━━━━━━━━━━━━━━━━━━\u001b[0m \u001b[32m126.0/126.0 kB\u001b[0m \u001b[31m10.5 MB/s\u001b[0m eta \u001b[36m0:00:00\u001b[0m\n",
            "\u001b[?25hInstalling collected packages: vaderSentiment\n",
            "Successfully installed vaderSentiment-3.3.2\n"
          ]
        }
      ]
    },
    {
      "cell_type": "code",
      "source": [
        "pd.read_csv('/content/drive/MyDrive/Mediacloud/UK/artificial_intelligence_uk_cleaned_2024-06-01_2025-06-01_frames_sentiments_newsplease_mediacloud_gemini_2-5.csv')\n",
        "pd.read_csv('/content/drive/MyDrive/Mediacloud/Italy/intelligenza_artificiale_italy_cleaned_2024-06-01_2025-06-01_frames_sentiments_newsplease_mediacloud_gemini_2-5.csv')\n",
        "pd.read_csv('/content/drive/MyDrive/Mediacloud/Germany/künstliche_intelligenz_germany_cleaned_2024-06-01_2025-06-01_frames_sentiments_newsplease_mediacloud_gemini_2-5.csv')\n",
        "pd.read_csv(\"/content/drive/MyDrive/Mediacloud/Brazil/inteligência_artificial_brazil_cleaned_2024-06-01_2025-06-01_frames_sentiments_newsplease_mediacloud_gemini_2-5.csv\")\n",
        "pd.read_csv('/content/drive/MyDrive/Mediacloud/USA/artificial_intelligence_usa_cleaned_2024-06-01_2025-06-01_frames_sentiments_newsplease_mediacloud_gemini_2-5.csv')\n",
        "pd.read_csv('/content/drive/MyDrive/Mediacloud/France/intelligence_artificielle_france_cleaned_2024-06-01_2025-06-01_frames_sentiments_newsplease_mediacloud_gemini_2-5.csv')\n",
        "pd.read_csv('/content/drive/MyDrive/Mediacloud/India/artificial_intelligence_india_cleaned_2024-06-01_2025-06-01_frames_sentiments_newsplease_mediacloud_gemini_2-5.csv')\n",
        "pd.read_csv(\"/content/drive/MyDrive/Mediacloud/China/人工智能_china_cleaned_2024-06-01_2025-06-01_frames_sentiments_newsplease_mediacloud_gemini_2.csv\")\n",
        "pd.read_csv(\"/content/drive/MyDrive/Mediacloud/Japan/人工知能_japan_cleaned_2024-06-01_2025-06-01_frames_sentiments_newsplease_mediacloud_gemini_2.csv\")\n",
        "pd.read_csv(\"/content/drive/MyDrive/Mediacloud/Russia/искусственный_интеллект_russia_cleaned_2024-06-01_2025-06-01_frames_sentiments_newsplease_mediacloud_gemini_2-5.csv\")"
      ],
      "metadata": {
        "id": "jdOoaeEH0Zrp"
      },
      "execution_count": null,
      "outputs": []
    },
    {
      "cell_type": "code",
      "source": [
        "#Gemini 2.5 frames     all: 86/100\n",
        "#Gemini 2.5 sentiments all: 94/100\n",
        "#Lexicon sentiments    all: 36/100"
      ],
      "metadata": {
        "id": "jaq6JvuGFPTp"
      },
      "execution_count": null,
      "outputs": []
    },
    {
      "cell_type": "code",
      "source": [
        "import pandas as pd\n",
        "\n",
        "df = pd.read_csv('/content/drive/MyDrive/Mediacloud/UK/artificial_intelligence_uk_cleaned_2024-06-01_2025-06-01_frames_sentiments_newsplease_mediacloud_gemini_2-5.csv')\n",
        "df[\"sentiment_lexicon\"] = df[\"maintext\"].apply(get_sentiment)\n",
        "len(df)"
      ],
      "metadata": {
        "id": "VU8xmS791ClY",
        "colab": {
          "base_uri": "https://localhost:8080/"
        },
        "outputId": "1a04d88e-969b-4a52-b88e-4e7741374baa"
      },
      "execution_count": null,
      "outputs": [
        {
          "output_type": "execute_result",
          "data": {
            "text/plain": [
              "1000"
            ]
          },
          "metadata": {},
          "execution_count": 3
        }
      ]
    },
    {
      "cell_type": "code",
      "source": [
        "df_sample = df.sample(n=10, random_state=42)\n",
        "df_sample = df_sample.reset_index(drop=True)\n",
        "len(df_sample)"
      ],
      "metadata": {
        "id": "0nQmzN6V1p1a",
        "colab": {
          "base_uri": "https://localhost:8080/"
        },
        "outputId": "1ba959fd-674b-4bf4-d240-4c91ccba9c66"
      },
      "execution_count": null,
      "outputs": [
        {
          "output_type": "execute_result",
          "data": {
            "text/plain": [
              "10"
            ]
          },
          "metadata": {},
          "execution_count": 13
        }
      ]
    },
    {
      "cell_type": "code",
      "source": [
        "#Gemini 2.5 frames     UK:  9/10 -> 1101111111\n",
        "#Gemini 2.5 sentiments UK: 10/10 -> 1111111111\n",
        "#Lexicon sentiments    UK:  4/10 -> 0001100101"
      ],
      "metadata": {
        "id": "XPfd0BMz1KSa"
      },
      "execution_count": null,
      "outputs": []
    },
    {
      "cell_type": "code",
      "source": [
        "for i in range(len(df_sample)):\n",
        "    print(\"Frame:\", df_sample.frame[i])\n",
        "    print(\"Sentiment:\", df_sample.sentiment[i])\n",
        "    print(\"Lexicon S:\", df_sample.sentiment_lexicon[i])\n",
        "    print()\n",
        "    print(df_sample.title[i])\n",
        "    display(df_sample.maintext[i])\n",
        "    print()"
      ],
      "metadata": {
        "colab": {
          "base_uri": "https://localhost:8080/",
          "height": 1000
        },
        "id": "bQeEuXC_yw7M",
        "outputId": "6f0eee05-fc4c-4c5e-9c4c-4e181d9bfd8d"
      },
      "execution_count": null,
      "outputs": [
        {
          "output_type": "stream",
          "name": "stdout",
          "text": [
            "Frame: AI-based innovative solutions\n",
            "Sentiment: 1\n",
            "Lexicon S: 5\n",
            "\n",
            "Apple could discontinue four iPhones next week to make way for new models\n"
          ]
        },
        {
          "output_type": "display_data",
          "data": {
            "text/plain": [
              "\"Apple is expected to stop making and selling several recent iPhone models as it gets ready to unveil the iPhone 16 next week.\\nAs a result, the phones will no longer be stocked at Apple’s online and physical stores, and at various other retailers.\\nBut don’t fret if you own one of them, as they won’t become obsolete. Apple will continue to provide software updates to ensure they operate smoothly for up to five years as standard.\\nThe affected models are among 11 Apple products that will be discontinued soon, according to tech news site 9to5Mac. Others include several editions of the Apple Watch (Series 9, Ultra 2, and SE 2), Apple’s popular wireless earphones the AirPods 2 and AirPods 3, and its iPad Mini 6 and iPad 10 tablets.\\nFor instance, the iPhone 14 Pro and Pro Max were discontinued when the iPhone 15 Pro and Pro Max were launched last year. You can still find them at some stores, and on online marketplaces like eBay, but Apple no longer offers them.\\nWhy are they going out of favour so quickly? Put simply, Apple would rather you buy the latest (and priciest) models. Most of the headline features from last year’s Pro versions are also expected to be handed down to the base iPhone 16, making it harder to tell them apart.\\nStill, the iPhone 15 Pro and Pro Max’s inclusion on the list instead of the regular iPhone 15 is jarring, considering only the former will be able to run Apple Intelligence (along with all four new iPhone 16 models).\\nThat’s the name for Apple’s new artificial intelligence tools, which can do things like rewrite text in different styles, summarise long emails, generate images based on text descriptions, and enhance Siri's capabilities.\\nAs 9to5Mac notes, the iPhone 15 Pro is likely to be the last iPhone model with 6.1-inch and 6.7-inch displays, as the iPhone 16 Pro series is expected to feature larger screens. The exclusive Blue Titanium color option is also unlikely to be carried over to the 16 Pro line-up.\\nThe iPhone 14 Plus, introduced last year to replace the discontinued iPhone 13 Mini, is also going away this year. Apple may follow a similar strategy as in 2021, keeping the iPhone 14 available at a lower price point until the iPhone SE 4 is released at a later date.\\nThe iPhone 13, now three years old, is also likely to be discontinued, making way for the iPhone 14 to take its place as the £599 iPhone.\\nUpdates are expected for all three Apple Watch models in its line-up. The Series 10 range is rumored to feature larger, more energy-efficient displays, a slimmer design, and potentially a new processor. The Ultra 3 is also slated for a minor upgrade, while the SE 3 could sport a more affordable plastic casing.\\nIf Apple indeed updates the trio, it's likely that the current Series 9, Ultra 2, and SE 2 will be discontinued. Adding fuel to the fire, the Series 9 has seen its price slashed several times in recent weeks in North America.\\nWith Apple poised to replace its cheapest iPads next week, it could soon be time to bid farewell to the iPad Mini 6 and iPad 10 as well. Bloomberg’s Mark Gurman recently revealed that stock for the sixth-generation dinky tablet is running low at Apple Stores, indicating that a successor is on the way.\\nFinally, the brand new AirPods 4 could also drop next week in two versions: an entry-level model to replace the outgoing AirPods 2 and a mid-tier one to succeed the AirPods 3. The latter could come with noise cancellation, which isn’t available on the AirPods 2.\""
            ],
            "application/vnd.google.colaboratory.intrinsic+json": {
              "type": "string"
            }
          },
          "metadata": {}
        },
        {
          "output_type": "stream",
          "name": "stdout",
          "text": [
            "\n",
            "Frame: AI in healthcare and climate change\n",
            "Sentiment: -3\n",
            "Lexicon S: 5\n",
            "\n",
            "AI could account for nearly half of datacentre power usage ‘by end of year’\n"
          ]
        },
        {
          "output_type": "display_data",
          "data": {
            "text/plain": [
              "'Artificial intelligence systems could account for nearly half of datacentre power consumption by the end of this year, analysis has revealed.\\nThe estimates by Alex de Vries-Gao, the founder of the Digiconomist tech sustainability website, came as the International Energy Agency forecast that AI would require almost as much energy by the end of this decade as Japan uses today.\\nDe Vries-Gao’s calculations, to be published in the sustainable energy journal Joule, are based on the power consumed by chips made by Nvidia and Advanced Micro Devices that are used to train and operate AI models. The paper also takes into account the energy consumption of chips used by other companies, such as Broadcom.\\nThe IEA estimates that all data centres – excluding mining for cryptocurrencies – consumed 415 terawatt hours (TWh) of electricity last year. De Vries-Gao argues in his research that AI could already account for 20% of that total.\\nHe said a number of variables came into his calculations, such as the energy efficiency of a datacentre and electricity consumption related to cooling systems for servers handling an AI system’s busy workloads. Datacentres are the central nervous system of AI technology, with their high energy demands making sustainability a key concern in the development and use of artificial intelligence systems.\\nBy the end of 2025, De Vries-Gao estimates, energy consumption by AI systems could approach up to 49% of total datacentre power consumption, again excluding crypto mining. AI consumption could reach 23 gigawatts (GW), the research estimates, twice the total energy consumption of the Netherlands.\\nHowever, De Vries-Gao said a number of factors could lead to a slowdown in hardware demand, such as waning demand for applications such as ChatGPT. Another issue could be geopolitical tensions resulting in constraints on producing AI hardware, such as export controls. De Vries-Gao cites the example of barriers on Chinese access to chips, which contributed to the release of the DeepSeek R1 AI model that reportedly used fewer chips.\\n“These innovations can reduce the computational and energy costs of AI,” said de Vries.\\nBut he said any efficiency gains could encourage even more AI use. Multiple countries attempting to build their own AI systems – a trend known as “sovereign AI” – could also increase hardware demand. De Vries-Gao also pointed to a US datacentre startup, Crusoe Energy, securing 4.5GW of gas-powered energy capacity for its infrastructure, with the ChatGPT developer OpenAI among the potential customers through its Stargate joint venture.\\n“There are early indications that these [Stargate] datacentres could exacerbate dependence on fossil fuels,” writes De Vries-Gao.\\nOn Thursday OpenAI announced the launch of a Stargate project in the United Arab Emirates, the first outside the US.\\nMicrosoft and Google admitted last year that their AI drives were endangering their ability to meet internal environmental targets.\\nDe Vries-Gao said information on AI’s power demands had become increasingly scarce, with the analyst describing it as an “opaque industry”. The EU AI Act requires AI companies to disclose the energy consumption behind training a model but not for day-to-day use.\\nProf Adam Sobey, the mission director for sustainability at the UK’s Alan Turing Institute, an AI research body, said more transparency was needed on how much energy is consumed by artificial intelligence systems, and how much they could save by helping to make carbon-emitting industries such as transport and energy more efficient.\\nSobey said: “I suspect that we don’t need many very good use cases [of AI] to offset the energy being used on the front end.”'"
            ],
            "application/vnd.google.colaboratory.intrinsic+json": {
              "type": "string"
            }
          },
          "metadata": {}
        },
        {
          "output_type": "stream",
          "name": "stdout",
          "text": [
            "\n",
            "Frame: AI disruptions in media and creative industries\n",
            "Sentiment: -3\n",
            "Lexicon S: 5\n",
            "\n",
            "There Is A Growing \"Rebellious Mood\" Among Labour Peers\n"
          ]
        },
        {
          "output_type": "display_data",
          "data": {
            "text/plain": [
              "'Much of the focus on discontent within the ranks of the Parliamentary Labour Party is on the House of Commons, where in recent weeks Labour MPs have expressed unease over issues such as planned welfare cuts and the government\\'s language on immigration.\\nThere is also simmering frustration in the House of Lords, however, with one Labour peer saying: \"There is a rebellious mood.\"\\nThis mood has led government whips to remind Labour peers of the loyalty that is expected of them, PoliticsHome understands.\\nLabour peers are particularly exasperated by the government\\'s proposals for copyright and artificial intelligence in the Data Bill – an approach that has attracted fierce criticism from prominent figures in the creative industries, such as Sir Elton John.\\nPeers have twice defeated the government in support of a push by crossbench peer Baroness Kidron to give creatives more copyright protections from AI.\\nEighteen Labour peers voted for the amendment – including the party\\'s former deputy leader Tom Watson, as well as Kevin Brennan and Barbara Keeley, who both served in Starmer\\'s shadow cabinet in opposition – while many more abstained, amid frustration with what they describe as the government\\'s intransigence.\\nIn an email to House of Lords colleagues last week, Kidron lamented: \"Many from all sides have reached out repeatedly to the government, but they have failed to stand by UK copyright holders or hear the views of UK AI companies or brands.\"\\nPoliticsHome understands that Labour peers are also preparing to challenge the government on issues close to the heart of party members, including welfare and the two-child benefit cap.\\nThere is a belief in the Upper Chamber that Baroness (Sue) Gray, former chief of staff to the Prime Minister, could emerge as someone for the government to worry about.\\nGray quit her Downing Street post in October after a turbulent three months in the job.\\nIn her maiden speech in March, she praised \"heroic and committed\" Whitehall officials and urged politicians to be \"careful\" in the language they use when talking about the civil service.\\n\"When we hear phrases with ‘blobs’, ‘pen-pushers’, ‘axes’, ‘chainsaws’ and other implements, they hear it too,\" she told the House of Lords.\\nThe remarks were widely interpreted as a criticism of a Starmer speech that accused civil servants of “being comfortable in the tepid bath of managed decline”.\\nAdditional reporting by Sienna Rodgers.'"
            ],
            "application/vnd.google.colaboratory.intrinsic+json": {
              "type": "string"
            }
          },
          "metadata": {}
        },
        {
          "output_type": "stream",
          "name": "stdout",
          "text": [
            "\n",
            "Frame: AI-based innovative solutions\n",
            "Sentiment: 4\n",
            "Lexicon S: 5\n",
            "\n",
            "Alif Semiconductor Expands their Groundbreaking Ensemble family with E1C, a MCU that Packs 46 GOPs of Extreme Low-power On-chip AI/ML Processing Into Tiny Footprint\n"
          ]
        },
        {
          "output_type": "display_data",
          "data": {
            "text/plain": [
              "'The new E1C microcontroller with on-chip NPU and large tightly coupled memory opens up new potential for machine learning in deeply space- and power-constrained embedded applications and IoT endpoints.\\nSophisticated aiPM™ power management system and ultra-efficient AI operation make the E1C ideal for wearable and other systems powered by small batteries.\\nPLEASANTON, Calif., June 18, 2024 /PRNewswire/ -- Alif Semiconductor®, a leading global supplier of secure, connected, power efficient Artificial Intelligence and Machine Learning (AI/ML) microcontrollers (MCUs) and fusion processors, today launched the Ensemble® E1C, an MCU series which combines rich digital and analog capabilities with a low-power on-chip neural processing unit (NPU) in a new compact form factor.\\nThis new Ensemble family MCU, which combines a 160MHz Arm® Cortex®-M55 CPU core with Helium™ vector processing extension, an Arm Ethos™-U55 NPU generating up to 46 GOPs, and up to 2MB of tightly coupled SRAM, is available in a tiny WLCSP package occupying a footprint of 3.9mm x 3.9mm.\\nThe introduction of the E1C extends the highly scalable Ensemble family, providing a new entry-level option for OEMs that want to take advantage of Ensemble\\'s unique combination of high AI performance and ultra-low power consumption implemented in a familiar Arm environment. The new E1C also shares the same architecture as the Balletto™ family, allowing for software re-use across the entire family, and easy migration of applications from one device to another.\\nThanks to the efficient ML inferencing performance of the Ethos NPU and an advanced aiPM™ power management system, the E1C can perform both AI/ML and application control functions at ultra-low power levels. This means manufacturers can bring advanced ML capabilities to products such as wearable devices that have extreme constraints on power and space. The E1C\\'s capabilities are optimized for local ML workloads such as object recognition, speech recognition, sensor fusion, and adaptive audio noise cancellation, easing heavy dependence on the cloud to provide a better user experience.\\n\"Alif already blazed a new trail in the industry for powerful and extremely efficient localized ML with the Ensemble family, and the new E1C series products squeeze those same capabilities into a smaller space with even more power-efficiency,\" said Reza Kazerounian, President and Co-Founder of Alif Semiconductor. \"This progression opens more opportunities in applications for health monitoring, distributed sensing, audio processing and more for developers to reduce size, power, and cost.\"\\nComprehensive feature set for connected IoT endpoints\\nThe high AI performance of the E1C is matched by its power efficiency. The E1C\\'s aiPM technology can dynamically power only the logic and associated memory that are in use at any given time, thus achieving the lowest overall system power consumption. The aiPM power management unit implements four system-level power modes including a Stop mode which draws just 700nA.\\nThe Ethos-U55 NPU performs 128 MACs/cycle to give ML output of 46 GOPS, and enables on-the-fly weight decompression. This results in inferencing performance some 100x faster and more power-efficient than competing MCUs based on an Arm Cortex-M4 CPU provide. The E1C\\'s digital cores are backed by up to 2MB of MRAM non-volatile memory alongside up to 2MB of zero wait-state SRAM. A high-speed OctalSPI interface enables expansion to external memory if required. Versions of E1C devices are offered with and without the NPU.\\nProviding a high level of system integration, the E1C features a rich set of analog and connectivity peripherals. Two 12-bit SAR ADCs and a 24-bit sigma-delta ADC, a 12-bit DAC and an internal reference voltage provide for fast, precise processing of signals from external sensors. Outputs can be displayed on rich color displays using a MIPI DSI® display interface.\\nA broad selection of serial communications interfaces includes USB 2.0, SDIO, 2x CAN FD and I3C. Designers of connected devices can also benefit from the same low-power and high-performance characteristics of the E1C with the addition of built-in Bluetooth® Low Energy connectivity by choosing the Balletto B1, launched by Alif on 9 April 2024.\\nComprehensive security is a core attribute of the Ensemble family, and the E1C shares the same architecture. Its advanced secure enclave, which provides a solid hardware root-of-trust enabling secure key generation and storage, secure boot, cryptographic accelerators, and certificate management, eliminates the need for an external Secure MCU in endpoint AI devices.\\nThe E1C is available in three package options:\\nFor maximum space savings – 90-bump WLCSP\\nFor maximum I/O while requiring only 4 PCB layers for routing – 120-bump FBGA\\nFor maximum durability in harsh environments – 64-lead TQFP\\nRich resources for evaluation and development\\nAll Ensemble MCUs, including the E1C, are fully compatible with the Arm ecosystem of tools, development environments and software resources for efficient system development. For evaluation of the E1C, Alif supplies the DK-E1 development kit.\\nE1C devices and DK-E1 kits will be available to lead customers in August 2024 with production ramping in 4Q24.\\nFor more information on E1C, please visit: https://alifsemi.com/ensemble-e1c-series/\\nAbout Alif Semiconductor:\\nAlif Semiconductor is the industry-leading supplier of next-generation secure AI/ML-enabled 32-bit microcontrollers. Since 2019, Alif\\'s expanding offering of microcontrollers and fusion processors has been revolutionizing the way developers can create broad, scalable, and connected AI-enabled embedded applications that are genuinely power efficient. Alif Semiconductor is the only choice for power efficient microcontrollers that can handle heavy AI and ML workloads for battery-operated endpoint devices. For more information go to https://alifsemi.com/.\\nRelated Links:\\nhttps://www.alifsemi.com/'"
            ],
            "application/vnd.google.colaboratory.intrinsic+json": {
              "type": "string"
            }
          },
          "metadata": {}
        },
        {
          "output_type": "stream",
          "name": "stdout",
          "text": [
            "\n",
            "Frame: AI in politics, elections, and public opinion\n",
            "Sentiment: -2\n",
            "Lexicon S: -5\n",
            "\n",
            "From beef noodles to bots: Taiwan’s factcheckers on fighting Chinese disinformation and ‘unstoppable’ AI\n"
          ]
        },
        {
          "output_type": "display_data",
          "data": {
            "text/plain": [
              "'Charles Yeh’s battle with disinformation in Taiwan began with a bowl of beef noodles. Nine years ago, the Taiwanese engineer was at a restaurant with his family when his mother-in-law started picking the green onions out of her food. Asked what she was doing, she explained that onions can harm your liver. She knew this, she said, because she had received text messages telling her so.\\nYeh was puzzled by this. His family had always happily eaten green onions. So he decided to set the record straight.\\nHe put the truth in a blog post and circulated it among family and friends through the messaging app Line. They shared it more broadly, and soon he received requests from strangers asking to be connected to his personal Line account.\\n“There wasn’t much of a factchecking concept in Taiwan then, but I realised there was a demand. I could also help resolve people’s problems,” Yeh said. So he continued, and in 2015 launched the website MyGoPen, which means, “don’t be fooled again” in Taiwanese.\\nWithin two years, MyGoPen had 50,000 subscribers. Today, it has more than 400,000. In 2023, it received 1.3m fact check requests and has debunked disinformation on everything from carcinogens in bananas to the false claim that Taiwan’s new president, Lai Ching-te, had a child out of marriage.\\nOther factchecking organisations have emerged, including Taiwan FactCheck Center, Cofacts and DoubleThink Lab.\\nBut as factchecking organisations have grown, so has the threat of disinformation.\\nThe growing, changing threat from China\\nThe University of Gothenburg’s Varieties of Democracy project lists Taiwan as the target of more disinformation from abroad than any other democracy, ahead of Latvia and the US. The biggest threat comes from across the Taiwan Strait and it is most intense around election periods.\\nTaiwanese civic organisation Doublethink Lab tracks China’s influence in 82 countries on sectors like academia, the media, and domestic politics. It ranks Taiwan first in terms of the degree of China’s influence on its society and its media, and 11th overall.\\nIn February this year, after two Chinese fishers died in a speedboat crash while being chased by Taiwan’s coastguard, after which Beijing condemned Taiwan, a video circulating online claimed to show 100 Chinese fishing vessels surrounding Taiwan’s Kinmen islands in retaliation.\\nBut MyGoPen pointed out that the video was taken in 2023 in the waters near the eastern Chinese provinces of Shandong and Zhejiang, when the boats were returning to port at the end of a fishing season.\\nJaw-Nian Huang, associate professor at Taiwan’s National Chengchi University, says Beijing has evolved its strategy from a more direct approach – like disseminating the false allegation in 2020 that then president Tsai Ing-Wen, who was running for re-election, had fabricated her doctorate degree – to an indirect approach. For example, Beijing has used the Israel-Gaza war to cast doubt on the US’s approach to global politics – and therefore to Taiwan.\\nThese “misleading narratives”, he says, can be harder to counter because they are based on opinion or perspective. “There is no right or wrong to a perspective,” he said. “It’s no longer a question of true or false.”\\nOne important way to beat such narratives is to ensure a diverse media environment and that the public builds a habit of getting information from multiple sources, he says.\\nAs for China’s view, when a 2023 report from the US state department claimed that Beijing was expanding its disinformation efforts, China’s foreign affairs ministry responded by calling the claims themselves disinformation. “The US Department of State report is in itself disinformation as it misrepresents facts and truth. In fact, it is the US that invented the weaponising of the global information space,” a spokesperson said when asked about the report.\\nAI: ‘Systematic operation at work’\\nArtificial intelligence is a rapidly growing challenge for factcheckers. A recent report by the Thomson Foundation on AI disinformation attacks during the 2024 presidential election concluded that the onslaught has “continued unabated” and is evolving.\\nEve Chiu, head of the non-profit Taiwan FactCheck Center, describes AI’s development as “unstoppable”. There was a widespread use of deep fakes overlaid with AI-generated celebrity voices during the January elections, she says.\\n“The large amount of false information about election manipulation which spread before and after polling day via TikTok, in an attempt to subvert the results of Taiwan’s democratic elections, indicated a systematic operation at work,” she says.\\nMyGoPen’s Yeh is daunted by the challenge of disinformation generated and spread by AI, but says that it can also have benefits. It can be used to generate verbatim transcripts, for example, which improves the efficiency of checking video and audio materials.\\nAnd MyGoPen already uses bots to help respond to many of the requests the platform receives. Its bots receive and, using the MyGoPen database, respond to about 3,000 inquiries daily, he said. But it also has a Line account that provides a one-on-one factchecking service with a live factchecker. Also, AI “speeds up the checking process – helps with comparison, identification and translation – and we use it for some situations”, though verification still happens manually.\\nYeh stresses that it is also really important to educate people on China’s changing disinformation tactics. He likens people who spread disinformation to fraudsters coming up with new ways to deceive people out of their money.\\n“Just like fraud, the tactics are always changing, but the goal – to cheat you of your money – doesn’t.”'"
            ],
            "application/vnd.google.colaboratory.intrinsic+json": {
              "type": "string"
            }
          },
          "metadata": {}
        },
        {
          "output_type": "stream",
          "name": "stdout",
          "text": [
            "\n",
            "Frame: AI regulations, ethics, and data privacy\n",
            "Sentiment: -5\n",
            "Lexicon S: -5\n",
            "\n",
            "Spain court sentences 15 schoolchildren for spreading AI-generated naked images of classmates\n"
          ]
        },
        {
          "output_type": "display_data",
          "data": {
            "text/plain": [
              "'Fifteen schoolchildren in south-west Spain were sentenced by a court to probation for spreading AI-generated naked images of their female classmates.\\n“The sentence notes that it has been proved that the minors used artificial intelligence applications to obtain manipulated images of [other minors] by taking girls’ original faces from their social media profiles and superimposing those images on the bodies of naked female bodies,” the court said in a statement.\\n“The manipulated photos were then shared on two WhatsApp groups,” it added.\\nEach teenager was given a year’s probation in a case that has sparked debate over the abusive use of such technology.\\nThe incident reportedly came to light when parents in Almendralejo reported that fake naked pictures of their daughters were being circulated on WhatsApp.\\nThe victims suffered anxiety and fear due to these images, the parents claimed.\\nThe youth court in Badajoz convicted the minors of creating child abuse images and offences against the victims’ moral integrity. The defendants were also ordered to attend classes on gender equality and responsible technology use.\\nThe Malvaluna Association, which acted on behalf of the affected families, emphasised the need for proper sex education to prevent children from learning about sex through pornography, which fosters sexism and violence.\\n“Beyond this particular trial, these facts should make us reflect on the need to educate people about equality between men and women,” the association was quoted as saying by the online newspaper ElDiario.es.\\nIt was reported that at least 20 girls may have been victims of these manipulated photos.\\n“Many girls were completely terrified and had tremendous anxiety attacks because they were suffering this in silence,” a mother of one of the victims was quoted as saying by Reuters.\\n“They felt bad and were afraid to tell and be blamed for it.”\\nLast year in October, a new report warned that the alarming spread of child sexual abuse images on the internet could worsen significantly if controls are not imposed on AI tools that generate deepfake photos.\\nThe UK-based Internet Watch Foundation urged governments and technology providers to act swiftly to prevent a surge of AI-generated images of child sexual abuse.\\nLast month, a teenager was arrested and subsequently released after fake nude images of 50 female students at a private school in Australia were circulated on social media.\\nImages of the students from Bachhus Marsh Grammar School in Victoria were doctored using artificial intelligence to create “obscene” and “incredibly graphic” content before being shared on Instagram and Snapchat, the school said.'"
            ],
            "application/vnd.google.colaboratory.intrinsic+json": {
              "type": "string"
            }
          },
          "metadata": {}
        },
        {
          "output_type": "stream",
          "name": "stdout",
          "text": [
            "\n",
            "Frame: AI regulations, ethics, and data privacy\n",
            "Sentiment: 1\n",
            "Lexicon S: 5\n",
            "\n",
            "‘Godfather of AI’ who warned technology could end humanity wins Nobel prize\n"
          ]
        },
        {
          "output_type": "display_data",
          "data": {
            "text/plain": [
              "'A British-Canadian computer scientist who warned that artificial intelligence (AI) could pose an existential threat to humanity has been awarded this year’s Nobel Prize in Physics.\\nProfessor Geoffrey Hinton, often touted as the “godfather of AI”, shares the honour with US academic John Hopfield for their pioneering work on machine learning, which powers AI.\\nThe announcement was made by the Royal Swedish Academy of Sciences at a press conference in Stockholm, Sweden.\\nProf Hinton, 76, who has warned about the dangers of intelligent machines, said he was “flabbergasted”, adding: “I had no idea this would happen. I’m very surprised.”\\nThe University of Toronto professor resigned from Google last year, saying he was worried about the “existential risk” posed by machines that could outsmart humans.\\nSpeaking on the phone at the event in Stockholm, Prof Hinton described the call about being awarded the Nobel as a “bolt from the blue”, saying: “I am in a cheap hotel in California that does not have an internet connection and does not have a very good phone connection.\\n“I was going to get an MRI scan today, but I think I’ll have to cancel that.”\\nMachine learning is a key component of AI which allow machines to perform tasks that mimic human intelligence, such as learning, reasoning, and problem solving.\\nThe impact of AI can be seen in every aspect of human lives, from uncovering hidden cancers and editing photos on phones to powering systems such as ChatGPT.\\nProf Hinton, who shares a prize fund worth 11m Swedish kronor (£810,000) with Prof Hopfield of Princeton University, said artificial intelligence will have a “huge influence” on humanity that could be comparable with the Industrial Revolution – a period of scientific and technological development in the 18th century.\\nHe added: “But instead of exceeding people in physical strength, it (AI) is going to exceed people in intellectual ability.\\n“We have no experience of what it is like to have things smarter than us, and it is going to be wonderful in many respects.”\\nProf Hinton said that in areas like healthcare, AI will make things “more efficient” with “huge improvements in productivity”.\\nBut he also said he was worried about “a number of possible bad consequences, particularly the threat of these things getting out of control”.\\nWhen asked about whether he had any regrets about his groundbreaking work on AI, Prof Hinton said: “There are two kinds of regret – there is regret where you feel guilty because you did something you knew you should not have done, and then then there is regret where you did something that you would do again in the same circumstances.”\\nHe said that he “would do the same again” but was “worried that the overall consequence of this might be systems more intelligent than us that eventually take control”.\\nProf Hinton said he uses Chat GPT 4 “whenever I want to know the answer to anything”, but he does not usually trust the chatbot, “because it can hallucinate”.\\nCommenting on the announcement, Professor Sir Keith Burnett, president of the Institute of Physics, said: “Congratulations to John J Hopfield and Geoffrey E Hinton for winning the Nobel Prize in Physics today.\\n“It is incredibly exciting to see key ideas and techniques in Physics helping to drive new ways to model and understand the wider world and machine learning is undoubtedly one of the transformational technologies of the future.\\n“Their work with artificial neural networks is contributing to a whole new generation of smarter, faster and more adaptable processing and thinking systems, which could transform all of our lives.”\\nMeric Gertler, preseident of the University of Toronto, said: “On behalf of the University of Toronto, I am absolutely delighted to congratulate University Professor Emeritus Geoffrey Hinton on receiving the 2024 Nobel Prize in Physics.\\n“The U of T community is immensely proud of his historic accomplishment.”\\nEllen Moons, a member of the Nobel committee at the Royal Swedish Academy of Sciences, said the pair “used fundamental concepts” from physics to “design artificial neural networks” that have “become part of our daily lives, for instance in facial recognition and language translation”.'"
            ],
            "application/vnd.google.colaboratory.intrinsic+json": {
              "type": "string"
            }
          },
          "metadata": {}
        },
        {
          "output_type": "stream",
          "name": "stdout",
          "text": [
            "\n",
            "Frame: AI in healthcare and climate change\n",
            "Sentiment: -2\n",
            "Lexicon S: 5\n",
            "\n",
            "Would abandoning false hope help us to tackle the climate crisis?\n"
          ]
        },
        {
          "output_type": "display_data",
          "data": {
            "text/plain": [
              "'If despair is the most unforgivable sin, then hope is surely the most abused virtue. That observation feels particularly apposite as we enter the Cop season, that time of United Nations megaconferences at the end of every year, when national leaders feel obliged to convince us the future will be better, despite growing evidence to the contrary.\\nClimate instability and nature extinction are making the Earth an uglier, riskier and more uncertain place, desiccating water supplies, driving up the price of food, displacing humans and non-humans, battering cities and ecosystems with ever fiercer storms, floods, heatwaves, droughts and forest fires. Still worse could be in store as we approach or pass a series of dangerous tipping points for Amazon rainforest dieback, ocean circulation breakdown, ice-cap collapse and other unimaginably horrible, but ever more possible, catastrophes.\\nYet, apparently we must still have hope. It is mandatory. Change is impossible, we are told, without positive thinking and a belief in a better future. That is the message of just about every politician and business leader I have interviewed in close to two decades on the environment beat.\\nAnd we will hear it again, at the UN biodiversity Cop16 in Cali, Colombia, which kicked off this week, then at the climate Cop29 in Baku, Azerbaijan, in a few weeks’ time. If past international confabs are any guide, there is little prospect of concrete action in the here and now, but there will be ever-more ambitious plans for the distant future: roadmaps, commitments, targets, reasons to hope. And, of course, we will hear it most loudly in the US presidential election, which is always about which candidate is most faithful to the American dream of endless expansion.\\nBut what if it is hope that is the problem? What if hope is the antidepressant that has been keeping us all comfortably numb when we have every right to be sad, worried, stirred to action or just plain angry?\\nThese are not questions most of us want to ask. Me included, though most people who read environmental coverage assume the opposite because the trends we report on are relentlessly grim. Some of my Guardian colleagues joke that my job is to make everyone feel miserable.\\nWho wants to do that? But I often do wake up filled with dread. And while exhortations to lift my spirits or look at things in a more positive light are no doubt well-intended, it does make me bristle a little. Isn’t it healthy to be concerned, as long as it is not debilitating? Isn’t it part of a process towards seeking change?\\nNew research reveals that people who are experiencing climate-related distress are more likely to engage in collective action. History, by contrast, shows that manufactured optimism can lead to complacency and the shirking of responsibilities.\\nIn the 1990s, hope – coupled with doubt – was the fossil fuel industry’s antidote to the precautionary principle, the sensible idea that some problems had such dire implications that humanity should err on the side of caution even if the science was not completely settled. When George Bush was president, he was initially so concerned by the impact of fossil fuels on the climate that he looked into regulating the oil industry. But he backed away from this on the grounds that future generations would probably develop new technologies to solve the problem. Call that dumb, call that wishful thinking, or call that hope, the result was the same: no action.\\nThat once again looks to be the temptation of Britain’s Labour government in promising £22bn for carbon capture and storage projects. This technology is supposed to catch greenhouse gas emissions before they can enter the atmosphere. But it is incredibly expensive, has never worked at the necessary scale and, until now, has largely been a ruse for the petroleum industry to continue pumping.\\nThere are more constructive, less manipulative types of hope, of course. Hope based on common sense and solid science, hope based on actions taken today rather than promised in the distant future. Hope based on keeping our home planet habitable rather than colonising Mars or waiting for rewards in the afterlife. This is hope that generates change. Some of the most effective climate action advocates, such as Christiana Figueres and Katharine Hayhoe, are impressively effective advocates of such positive thinking.\\nAnd, yes, there are good news stories, even on the environment beat: the extraordinary expansion of renewable energy has exceeded even the most optimistic forecasts (though a huge share of the extra supply has been taken up by the extra demand of artificial intelligence, cryptocurrencies and social media); carbon emissions might actually fall this year (though analysts have been saying that for years and if and when it does happen, the reductions will certainly be too shallow to prevent global heating from passing 1.5C, probably 2C and entirely possibly 3C or 4C); and the human population may peak mid-century (which would give other species more breathing space as long as they are not already extinct by then).\\nAt the Guardian, we try to present solutions as well as problems. But there needs to be a balance that reflects reality. After the recent New York Climate Week, the journalist Amy Westervelt wrote of the zombie-like repetition of “We have to stay positive!”, “Tell the positive stories!” and “Give people hope!”, even as the reality of the moment was the devastation of Hurricane Helene, deadly landslides in Nepal, the sentencing of a UK climate activist to two years in prison and news that fossil fuel companies are expanding production. As she put it: “Don’t get me wrong, there are good news stories and I know how important it is to share and savour them, but the focus on positivity to the exclusion of anything else felt completely surreal and, if I’m being honest, a little scary.”\\nHope is at best a motivating belief, a tool, a commodity. It should never be rammed down other people’s throats, especially those who are suffering the consequences of the wish fulfilment of wealthier, faraway consumers.\\nIn the Amazon rainforest right now, the political mood music and government policies are much better under President Lula than they were under President Bolsonaro, yet the situation on the ground is becoming worse. Ever longer dry seasons have left some of the world’s biggest rivers at horrendously low levels and there have been more fires this year than at any time in two decades.\\nIt is sadly not enough for this government to be better than the last. It needs help from the rest of the world. That is clear from the big trends: South America is becoming hotter, drier and more flammable. Fires are turning forests into carbon emitters rather than carbon sinks. Up to half of the Amazon could hit a tipping point by 2050 as a result of water stress, land clearance and climate disruption.\\nForest dwellers are having to cope with a daily reality that increasingly resembles an apocalypse. Promises of help are predicated on even more business as usual. Not surprisingly, many feel they are victims of a confidence trick.\\nAilton Krenak, a Brazilian Indigenous intellectual, said original peoples had learned to be distrustful of hopes based on economic development. “When I denounce this kind of end of the world, I’m not renouncing hope. But I also don’t want to promote a ‘placebo hope’, one where you pat someone on the shoulder and say everything will be fine. It won’t be fine. We’re going to get worse for a while. But after that, we can improve, as long as we learn to renounce,” he observed in a recent interview with Mongabay.\\nThis suspicion has deep roots – and not just in Brazil. Hope was weaponised by Christian missionaries, promising a better afterlife. Then by colonisers, offering access to a supposedly superior civilisation. Then by the capitalist market, with a lure of wealth and creature comforts in exchange for land and nature.\\nThe promise of a better tomorrow is seductive to cultures that put a greater emphasis on contentment today. The anthropologist Ana Maria Machado told me: “The Yanomami people, who inhabit Brazil’s biggest Indigenous territory, have no word for hope, nor anything like it … They live very much in the present and their focus is on relationships now rather than in the future.” She said the views of the future outlined by the Yanomami’s best-known shaman, Davi Kopenawa, portended an end of the world. He has described the climate crisis as the “revenge of nature”. Yet this has not stopped him from being one of Brazil’s strongest advocates for global action on protecting nature and reducing emissions.\\nOther first peoples in the Arctic Circle and Australia also see a sinister link between hope and colonialism. “The politics of hope is about luring us to focus on the promise of the future instead of focusing on the challenges in the present,” write Marjo Lindroth and Heidi Sinevaara-Niskanen of the University of Lapland.\\nAll of which is not to suggest Indigenous peoples have all the answers, nor that there is a homogenous Indigenous perspective. But cultures which have been on the sharp end of carbon capitalism are often the clearest-eyed about the misuse of hope to encourage risk rather than responsibility, and to run down the present in the name of the future.\\nIf you are not alarmed at what is happening to the forests, oceans, ice-caps, cities, farms and supermarkets, then you are not paying enough attention. That may be due to fear, doubt or ignorance. Or perhaps you are enveloped in that insidious, complacent long-term form of hope that has been diverting our gaze, giving us pause, slowing action and normalising the degradation of our home planet. Essentially this can be boiled down to the fact that we are leaving our problems to our children. Where is the hope in that?'"
            ],
            "application/vnd.google.colaboratory.intrinsic+json": {
              "type": "string"
            }
          },
          "metadata": {}
        },
        {
          "output_type": "stream",
          "name": "stdout",
          "text": [
            "\n",
            "Frame: AI disruptions in media and creative industries\n",
            "Sentiment: 0\n",
            "Lexicon S: 5\n",
            "\n",
            "Chappell Roan keeps her cool in a puffy yellow dress at Grammy Awards after THAT red carpet confrontation\n"
          ]
        },
        {
          "output_type": "display_data",
          "data": {
            "text/plain": [
              "\"Chappell Roan dug through the past for her striking red carpet ensemble at the 2025 Grammy Awards.\\nThe ceremony is being hosted by Trevor Noah for the fifth consecutive year and held at LA's Crypto.com Arena.\\nChappell, 26, had a far more relaxed appearance on the red carpet compared to her infamous appearance at the MTV VMAs in October of last year, when she confronted a photographer.\\nAt the time, she called out the photographer for allegedly being 'so disrespectful' and 'rude' to her at an afterparty for the 2024 Grammy Awards.\\nChappell, 26, paid tribute to French Impressionist painting and the Belle Epoque period with a vintage Jean Paul Gaultier ballgown taken from the designer's Spring/Summer 2003 couture collection.\\nThe busy dress nearly had too many details to focus on, with a voluminous canary-yellow skirt and baby blue accents, along with matching sheer blue gloves that reached to her upper arms.\\nThe drag-inspired songstress' skirt featured added bits of yellow and blue material sewn on at the hem for a playfully ragged look, and it featured prints of dancers and women in ballgowns inspired by the paintings of Edgar Degas.\\nThe vintage look was darkened up with long black satin bows for straps, and Chappell had an extra bit of blue tulle wrapped around her throat like a scarf.\\nShe made her face up with corpse-like white makeup, as is standard for her, and she added over-the-top blue-and-yellow mascara to complement her dress.\\nThe singer–songwriter wore a burgundy shade of lipstick and added enormous false eyelashes for a cartoonish touch.\\nShe wore her crimson hair in long curls draped down her back, and she topped it off with a feathered headdress of white, yellow and blue feathers.\\nChappell completed her ensemble with tall yellow, blue and black boots for a punky touch.\\nShe's among the most-nominated artists competing at the Grammys with six nominations to her name, tying her with fellow pop superstars Taylor Swift and Sabrina Carpenter.\\nShe's competing for Album of the Year (for The Rise And Fall Of A Midwest Princess), Record of the Year, Song of the Year and Best Pop Solo Performance (all for Good Luck, Babe!), Best New Artist, and Best Pop Vocal Album (for The Rise And Fall Of A Midwest Princess).\\nGrammy Awards 2025 winners: AT A GLANCE\\nAlbum Of The Year: Beyonce - Cowboy Carter\\nRecord Of The Year: Kendrick Lamar - Not Like Us\\nSong Of The Year: Kendrick Lamar - Not Like Us\\nBest New Artist: Chappell Roan\\nBest Pop Solo Performance: Sabrina Carpenter - Espresso\\nBest Pop Vocal Album: Sabrina Carpenter – Short n’ Sweet\\nBest Pop Duo/Group Performance: Lady Gaga & Bruno Mars - Die With a Smile\\nBeyonce earned three Grammy Awards including top honor Album Of The Year for Cowboy Carter\\nBest Pop Dance Recording: Charli xcx - Von Dutch\\nBest Dance/Electronic Music Album: Charli xcx - Brat\\nBest Rock Performance: The Beatles – Now and Then\\nBest Music Video: Kendrick Lamar - Not Like Us\\nBest Rap Performance: Kendrick Lamar - Not Like Us\\nBest Rap Song: Kendrick Lamar - Not Like Us\\nBest Rap Album: Doechii - Alligator Bites Never Heal\\nBest Country Album: Beyonce - Cowboy Carter\\nBest Country Solo Performance: Chris Stapleton - It Takes A Woman\\nBest Country Duo/Group Performance: Beyonce featuring Miley Cyrus - II Most Wanted\\nBest Country Song - Kacey Musgraves - The Architect\\nBest Latin Pop Album: Shakira - Las Mujeres Ya No Lloran\\nProducer Of The Year, Non-Classical: Dan Nigro\\nAdvertisement\\nChappell is also scheduled to delight her fans with a performance at the ceremony.\\nInside the venue, she changed into a powder blue dress with a ribbed corset and an asymmetrical, pleated skirt in multiple tiers.\\nThe look featured thick, layered shoulder pads and a conservative bodice that buttoned all the way up to her chin.\\nThe show will raise funds to support fire relief efforts after the devastation caused by the LA blazes which began on January 7 in Pacific Palisades.\\nSuperstar singer Beyonce dominates the list of Grammy Award contenders with 11 nods, including an Album Of The Year nomination for her venture into country music, Cowboy Carter.\\nBehind Beyonce, Billie Eilish, Charli XCX, Kendrick Lamar and Post Malone tie with seven nominations each.\\nPop phenomenon Taylor Swift and newcomers Chappell Roan and Sabrina Carpenter scored six each.\\nWomen dominated the Album of the Year category, the top Grammy honor.\\nBeyonce, winner of more Grammys over her career than any other artist, has never taken home the album trophy. Swift has won the honor four times and is in the running again with her breakup album The Tortured Poets Department.\\nAt the awards ceremony in February, the Beyonce and Swift records will compete with Carpenter's 'Short n' Sweet,' 'Brat' from Charli XCX, Eilish's 'Hit Me Hard and Soft,' and Roan's 'The Rise and Fall of a Midwest Princess.'\\nThe two male artists nominated in the album field were rapper Andre 3000 with 'New Blue Sun' and jazz artist Jacob Collier for 'Djesse Vol. 4.'\\nWinners will be chosen by the roughly 13,000 singers, songwriters, producers, engineers and others who make up the Recording Academy.\\nBeyonce's Cowboy Carter was viewed by experts and fans as a reclamation and homage to an overlooked legacy of Black Americans within country music and culture.\\nIt became the first album by a Black woman to land at No. 1 on the Billboard Top Country Albums chart when it was released last spring.\\nThe Beyonce album was snubbed, however, by voters for the Country Music Awards in September.\\nBeyonce's other Grammy nods included record and song of the year for single 'Texas Hold 'Em.' Her 11 nominations brought her lifetime total to 99, more than any other artist. Prior to Friday, she had been tied for the lead with her husband, rapper Jay-Z, who has 88.\\nBeyonce's other Grammy nods included record and song of the year for single 'Texas Hold 'Em.' Her 11 nominations brought her lifetime total to 99, more than any other artist. Prior to Friday, she had been tied for the lead with her husband, rapper Jay-Z, who has 88.\\nIn the best new artist field, 'Espresso' singer Carpenter will face fellow pop singer Roan, pop-rock singer Benson Boone, hip-hop/country artist Shaboozey, multi-genre musician Teddy Swims and others.\\nAnother name on the Grammy nominations list? The Beatles. 'Now and Then,' produced with artificial intelligence to bring the voice of John Lennon to life, was nominated for song of the year.\\nBest Pop Solo Performance nominations went to Beyonce, Sabrina Carpenter, Charli XCX, Billie Eilish, and Chappell Roan.\\nBest New Artist went to Benson Boone, Sabrina Carpenter, Doechii, Khruangbin, Raye, Chappell Roan, Shaboozey and Teddy Swims.\\nBest Country Album went to Cowboy Carter, F-1, Deeper Well, Higher, and Whirlwind.\\nSong of the Year went to Beyoncé - Texas Hold 'Em, Billie Eilish - Birds of a Feather, Chappell Roan - Good Luck, Babe!, Kendrick Lamar - Not Like Us, Lady Gaga & Bruno Mars - Die With a Smile, Sabrina Carpenter - Please Please Please, Shaboozey - A Bar Song (Tipsy) and Taylor Swift Featuring Post Malone - Fortnight.\\nBest Country Solo Performance was: Beyoncé - 16 Carriages, Chris Stapleton - It Takes a Woman, Jelly Roll - I Am Not Okay, Kacey Musgraves - The Architect, Shaboozey - A Bar Song (Tipsy).\\nBest Score Soundtrack for Visual Media (Includes Film and Television) went to American Fiction, Challengers, The Color Purple, Dune: Part Two and Shogun.\\nThere were several stars that listed off the nominations including Gayle King and Jim Gaffigan.\\nPast Grammy winners also jumped in: Brandy Clark, Kirk Franklin, David Frost, Robert Gordon, Kylie Minogue, Gaby Moreno, Deanie Parker, Ben Platt, Mark Ronson, Hayley Williams and last year's best new artist recipient, Victoria Monét.\\nWill Smith is set to make a surprise appearance to introduce a musical tribute to legendary hitmaker Quincy Jones who was executive producer on Smith's breakout show, The Fresh Prince of Bel-Air.\\nOther presenters at the show include Victoria Monét, Anthony Kiedis & Chad Smith of the Red Hot Chili Peppers, Cardi B, Gloria Estefan, Olivia Rodrigo, Queen Latifah, and SZA.\\nSix of the best new artist nominees – Benson Boone, Chappell Roan, Doechii, Raye, Sabrina Carpenter and Teddy Swims – are set to perform.\\nBillie Eilish, Shakira and Charli XCX will also take to the stage.\\nOnly recordings commercially released in the U.S. between September 16, 2023 through August 30, 2024 were eligible for nominations.\\nRecording Academy CEO Harvey Mason Jr. and Tammy Hurt, the chair of the Academy’s board of trustees said in a joint statement: 'This year’s show, however, will carry a renewed sense of purpose: raising additional funds to support wildfire relief efforts and honoring the bravery and dedication of first responders who risk their lives to protect ours. In challenging times, music has the power to heal, comfort, and unite like nothing else.\\n'The Grammys will not only honor the artistry and achievements of our music community but also serve as a platform to amplify the spirit of resilience that defines this great city of Los Angeles.'\\nMusiCares and the Recording Academy have created the Los Angeles Fire Relief Effort and pledged $1 million to support musicians and those working in the industry who are impacted by the wildfires.\\nThe 2025 Grammy Awards will air February 2 live on CBS and Paramount+ from 5pm PST.\""
            ],
            "application/vnd.google.colaboratory.intrinsic+json": {
              "type": "string"
            }
          },
          "metadata": {}
        },
        {
          "output_type": "stream",
          "name": "stdout",
          "text": [
            "\n",
            "Frame: AI impacts on businesses, economy, and jobs\n",
            "Sentiment: 4\n",
            "Lexicon S: 5\n",
            "\n",
            "Europe's start-ups are using AI to reimagine business models\n"
          ]
        },
        {
          "output_type": "display_data",
          "data": {
            "text/plain": [
              "'Mario Draghi could not have been blunter. The former Italian prime minister and ex-president of the European Central Bank warned last year that Europe faced an “existential challenge” unless it could take advantage of the latest technologies to raise its productivity.\\nIn his landmark competitiveness report, Draghi noted that Europe had largely missed out on the previous internet revolution, pointing out that the EU accounted for only four of the 50 top tech companies in the world. “The EU is weak in the emerging technologies that will drive future growth,” he wrote. “Europe must profoundly refocus its collective efforts on closing the innovation gap with the US and China.”\\nThe 150 European start-up hubs recognised in this Financial Times report are certainly doing their best to boost the region’s innovative potential. They have helped incubate a new generation of ambitious businesses, including Klarna, Celonis, Isar Aerospace, Hugging Face, Alan and Pasqal, that span the finance, software, space, artificial intelligence, insurance and quantum industries. With a fair wind, it is possible that some of these companies, at least, may emerge as global champions in their sectors and sharpen Europe’s competitiveness, as Draghi dreams about.\\nIt is striking how many of the start-ups being nurtured in Europe are AI companies — or are using AI to reimagine business models for traditional industries. At the hardware and infrastructure level, Europe may have few, if any, companies that can compete with US groups such as Nvidia, Alphabet, Microsoft and OpenAI, but it stands a far better chance at the application layer. Scores of start-ups are springing up across Europe looking to use AI to redesign workflows in pretty much every industry.\\nTaavet Hinrikus, the co-founder of Wise and now partner at the venture capital group Plural, says that the big US tech companies definitely have a big advantage in AI today. “But I think that every application will be rebuilt with AI and there Europe has a fantastic opportunity to compete,” he adds.\\nTo identify Europe’s leading start-up hubs — a centre for founders providing programmes to develop and grow a company — the FT partnered with the international data and research company Statista as well as Sifted, the FT-backed media start-up that covers European tech. The views of investors, entrepreneurs and academics were fed into the model, which also took into account the success of the “graduates” of these hubs. The main criterion for the rankings came from the alumni themselves, who were asked to assess how well the hubs provided mentoring and training, infrastructure, legal assistance and networking and funding opportunities.\\nThe leading start-up hubs spanned university-affiliated offshoots to fully commercial ventures. For the second year running, UnternehmerTUM topped the rankings. The Munich-based hub was founded in 2002 as a non-profit organisation by the entrepreneur Susanne Klatten, the billionaire heiress of the Quandt family fortune, with the aim of developing “a new culture of entrepreneurship” in Germany.\\nAttached to the Technical University of Munich, the hub can call on a broad network of scientists, entrepreneurs and investors, who can help support a company from launch to stock market exit. The hub has incubated more than 1,000 companies, including the transport group FlixMobility and AI start-up Konux.\\nSecond in the rankings was the Paris-based Station F, which claims to be the biggest start-up campus in the world.\\nFounded in 2017 by the French entrepreneur Xavier Niel, Station F hosts 1,000 start-ups, many of them focused on AI. Of the incubator’s top 40 best performing start-ups, 34 of them have AI at the core of their business models.\\n“Europe can create competitive AI models today,” Niel recently told the FT. “I think we can create big things with a few hundred million euros.”\\nIn third place was Start2 Group, which refers to another Munich-based hub rather than a strategic arms reduction treaty. Start2 works closely with Germany’s federal ministry for economic affairs and climate action, which finances most of the programmes for local start-ups. But the group has a strong international mindset with a presence in 18 countries and offshoots in the US and Asia.\\nThe highest-placed UK hub was Founders Factory that came fifth in the rankings. The hub, which works with about 60 bigger corporate partners across four continents, is both a venture builder and an early stage investor. Its portfolio start-ups, now numbering more than 300, have raised $1bn in capital since 2015.\\nOverall, the UK accounted for 29 of the 150 top European start-up hubs with Germany on 19, eastern Europe on 17 and Scandinavia and the Baltics on 16.\\nAbout 3,000 start-up hubs were identified as potential candidates for the rankings and invited to register. To qualify, the hubs had to have been operating since at least 2020, to have a physical location in Europe and run at least one incubation or acceleration programme.'"
            ],
            "application/vnd.google.colaboratory.intrinsic+json": {
              "type": "string"
            }
          },
          "metadata": {}
        },
        {
          "output_type": "stream",
          "name": "stdout",
          "text": [
            "\n"
          ]
        }
      ]
    },
    {
      "cell_type": "code",
      "source": [
        "df = pd.read_csv('/content/drive/MyDrive/Mediacloud/Italy/intelligenza_artificiale_italy_cleaned_2024-06-01_2025-06-01_frames_sentiments_newsplease_mediacloud_gemini_2-5.csv')\n",
        "df[\"sentiment_lexicon\"] = df[\"maintext\"].apply(get_sentiment)\n",
        "len(df)"
      ],
      "metadata": {
        "colab": {
          "base_uri": "https://localhost:8080/"
        },
        "id": "Q3doUIr4z1QH",
        "outputId": "dff7b0b9-3605-419b-eefa-b02501c8ea8e"
      },
      "execution_count": null,
      "outputs": [
        {
          "output_type": "execute_result",
          "data": {
            "text/plain": [
              "1000"
            ]
          },
          "metadata": {},
          "execution_count": 15
        }
      ]
    },
    {
      "cell_type": "code",
      "source": [
        "df_sample = df.sample(n=10, random_state=42)\n",
        "df_sample = df_sample.reset_index(drop=True)\n",
        "len(df_sample)"
      ],
      "metadata": {
        "colab": {
          "base_uri": "https://localhost:8080/"
        },
        "id": "l2fhY3mO1I-N",
        "outputId": "fc064224-e40b-498b-b8f7-902a227f415b"
      },
      "execution_count": null,
      "outputs": [
        {
          "output_type": "execute_result",
          "data": {
            "text/plain": [
              "10"
            ]
          },
          "metadata": {},
          "execution_count": 16
        }
      ]
    },
    {
      "cell_type": "code",
      "source": [
        "#Gemini 2.5 frames     IT: 10/10 -> 1111111111\n",
        "#Gemini 2.5 sentiments IT: 10/10 -> 1111111111\n",
        "#Lexicon sentiments    IT:  7/10 -> 1011111100"
      ],
      "metadata": {
        "id": "gWVvbfSo1RbU"
      },
      "execution_count": null,
      "outputs": []
    },
    {
      "cell_type": "code",
      "source": [
        "for i in range(len(df_sample)):\n",
        "    print(\"Frame:\", df_sample.frame[i])\n",
        "    print(\"Sentiment:\", df_sample.sentiment[i])\n",
        "    print(\"Lexicon S:\", df_sample.sentiment_lexicon[i])\n",
        "    print()\n",
        "    print(df_sample.title[i])\n",
        "    display(df_sample.maintext[i])\n",
        "    print()"
      ],
      "metadata": {
        "colab": {
          "base_uri": "https://localhost:8080/",
          "height": 1000
        },
        "id": "K0dDjWqH1bef",
        "outputId": "99088c1a-4a74-4998-b3e0-2982911169d9"
      },
      "execution_count": null,
      "outputs": [
        {
          "output_type": "stream",
          "name": "stdout",
          "text": [
            "Frame: AI disruptions in media and creative industries\n",
            "Sentiment: 3\n",
            "Lexicon S: 3\n",
            "\n",
            "Beats of Pompeii, l’estate della musica a Pompei va da Nick Cave a Jarre\n"
          ]
        },
        {
          "output_type": "display_data",
          "data": {
            "text/plain": [
              "'La leggenda della musica mondiale Jean-Michel Jarre, ma anche le atmosfere nordiche e la lingua runica dei norvegesi Wardruna. E poi dal pop al classico con Stefano Bollani, Nick Cave, Gianna Nannini, Bryan Adams, Antonello Venditti e Ben Harper. Dopo l’apertura con le due date di Andrea Bocelli accompagnato dall’Orchestra I Filarmonici di Napoli e il Coro That’s Napoli, e il concerto del maestro Riccardo Muti con l’Orchestra Giovanile Luigi Cherubini, l’Anfiteatro di Pompei torna a «suonare» con Beats of Pompeii.\\nDove la musica è cultura, seconda edizione della stagione di concerti live di grandi star, in programma dal 27 giugno al 5 agosto in quel palcoscenico unico al mondo e luogo simbolo di storia antica e moderna. Lo stesso che accolse il mitico concerto a porte chiuse dei Pink Floyd nel 1971. «Un’occasione», racconta il sottosegretario alla cultura Gianmarco Mazzi, «non solo per vedere artisti come Jean-Michel Jarre, che con un brano come Oxygen ha rappresentato uno spartiacque per me e un’intera generazione, unendo melodie e utilizzo di sintetizzatori», ma anche per quell’alleanza tra «beni e attività culturali che auspico» e senza la quale «questi luoghi non vivono, non respirano, ma restano solo nella memoria. Spero che Pompei diventi un esempio in tutta Italia e un’icona nel mondo per questo».\\nLoading...\\nPatrocinato dal ministero della cultura e dal Parco Archeologico di Pompei, in collaborazione con il Comune di Pompei e la Regione Campania, il programma firmato dal direttore artistico Peppe Gomez conta in tutto 14 appuntamenti tra cui anche Dream Theatre, Serena Rossi, Jimmy Sax. «Saremo un po’ i gladiatori 3.0», sorride Jean-Michel Jarre, che nei prossimi mesi si esibirà anche «a Piazza San Marco a Venezia e alla Biennale Architettura. Ho avuto il privilegio di esibirmi a Versailles, alle Piramidi a Piazza Tienanmen», prosegue, «ma è stato a lungo il mio sogno venire a Pompei», città «costruita da architetti e ingegneri visionari, con idee rivoluzionarie. Anche per questo porterò un progetto speciale, con Intelligenza Artificiale e un suono immersivo. Anzi, se fosse possibile andare un po’ oltre la mezzanotte...», chiede al sottosegretario.\\n«Eseguire musica in luoghi come Pompei», aggiunge Einar Selvik, leader dei Wardruna, «è complementare alla cultura, diventa una sinergia per cui 2 più 2 diventa 5 e non 4. Noi cerchiamo di dare voce al passato, che diventa universale. È come se si infondesse vita a questi luoghi millenari e li portassimo nella contemporaneità». In questi mesi «si è parlato molto di patrimonio materiale e immateriale dell’Unesco», racconta il direttore del Parco archeologico Gabriel Zuchtriegel. «Ma è proprio la dimensione immateriale, quasi spirituale, di questi siti che è in grado di trasformare la nostra visione del mondo. È anche bello che un luogo di giochi, un luogo sanguinoso, dedicato ai gladiatori e alla caccia di animali, diventi un luogo per la bellezza. È importante, poi, offrire sempre più occasioni per restare a Pompei».\\nE i dati sono già confortanti, riporta il direttore artistico Gomez: monitorando le vendite dei biglietti dei concerti di quest’anno, più orientati verso nomi internazionali, «il 28-53% vengono acquistati all’estero. Se aggiungiamo anche i turisti da fuori regione si arriva al 60-82% con un sicuro benefico indotto sul territorio». A loro, aggiunge il sindaco Carmine Lo Sapio, «offriamo una Campania “diversa” da quella che si raccontava qualche tempo fa».'"
            ],
            "application/vnd.google.colaboratory.intrinsic+json": {
              "type": "string"
            }
          },
          "metadata": {}
        },
        {
          "output_type": "stream",
          "name": "stdout",
          "text": [
            "\n",
            "Frame: AI transformations in education and research\n",
            "Sentiment: 5\n",
            "Lexicon S: 2\n",
            "\n",
            "Nobel per la chimica a Baker, Hassabis e Jumper: il premio per le scoperte sulle proteine\n"
          ]
        },
        {
          "output_type": "display_data",
          "data": {
            "text/plain": [
              "'(Adnkronos) – L’Accademia reale svedese delle scienze ha deciso di assegnare il Premio Nobel per la chimica 2024, a David Baker “per la progettazione computazionale delle proteine” e, congiuntamente, a Demis Hassabis e John M. Jumper “per la previsione della struttura delle proteine”. Nella motivazione dell\\'assegnazione del premio, l\\'Accademia svedese delle Scienze spiega che David Baker – americano, 62 anni docente presso l\\'Università di Seattle – \"è riuscito nell\\'impresa quasi impossibile di costruire tipi di proteine \\u200b\\u200bcompletamente nuovi\" mentre l\\'inglese Demis Hassabis, 48 anni, Ceo di Google DeepMind e l\\'americano John Jumper, 39 anni, nato in Arkansas ma anche lui attivo a Londra pressoil Google DeepMind – \"hanno sviluppato un modello di intelligenza artificiale per prevedere le complesse strutture delle proteine\". Scoperte che – si sottolinea – \"hanno un potenziale enorme\". \"Una delle scoperte premiate quest\\'anno riguarda la costruzione di incredibili proteine. L\\'altra riguarda la realizzazione di un sogno vecchio di 50 anni: prevedere le strutture delle proteine \\u200b\\u200bdalle loro sequenze di amminoacidi. Entrambe queste scoperte aprono vaste possibilità\", afferma Heiner Linke, presidente del Comitato Nobel per la chimica. Le proteine \\u200b\\u200bsono generalmente composte da 20 diversi amminoacidi, che possono essere descritti come i mattoni della vita. Nel 2003, David Baker è riuscito a utilizzare questi blocchi per progettare una nuova proteina diversa da qualsiasi altra. Da allora, il suo gruppo di ricerca ha prodotto una creazione proteica dopo l\\'altra, tra cui proteine \\u200b\\u200bche possono essere utilizzate come prodotti farmaceutici, vaccini, nanomateriali e minuscoli sensori.\\nLa seconda scoperta riguarda la previsione delle strutture proteiche. Nelle proteine, gli amminoacidi sono collegati tra loro in lunghe stringhe che si ripiegano per creare una struttura tridimensionale, decisiva per la funzione della proteina. Dagli anni \\'70, i ricercatori avevano cercato di prevedere le strutture proteiche dalle sequenze di amminoacidi, ma questo era notoriamente difficile. Tuttavia, quattro anni fa, c\\'è stata una svolta sorprendente. Infatti nel 2020, Demis Hassabis e John Jumper hanno presentato un modello di intelligenza artificiale chiamato AlphaFold2. Con il suo aiuto, sono stati in grado di prevedere la struttura di praticamente tutte le 200 milioni di proteine \\u200b\\u200bche i ricercatori hanno identificato. Sin dalla loro scoperta, AlphaFold2 è stato utilizzato da oltre due milioni di persone provenienti da 190 paesi. Tra le infinite applicazioni scientifiche, i ricercatori possono ora comprendere meglio la resistenza agli antibiotici e creare immagini di enzimi in grado di decomporre la plastica. —[email protected] (Web Info)\\nCondividi\\nGianfranco Fadda'"
            ],
            "application/vnd.google.colaboratory.intrinsic+json": {
              "type": "string"
            }
          },
          "metadata": {}
        },
        {
          "output_type": "stream",
          "name": "stdout",
          "text": [
            "\n",
            "Frame: AI-based innovative solutions\n",
            "Sentiment: 3\n",
            "Lexicon S: 5\n",
            "\n",
            "Da 26 a 1299 euro, piccola guida ai regali di Natale hi tech\n"
          ]
        },
        {
          "output_type": "display_data",
          "data": {
            "text/plain": [
              "'In tempi di incertezze economiche, anche le spese per la tecnologia si riducono. Ma molti italiani troveranno comunque sotto l’albero regali hi tech, almeno a giudicare dai risultati di Black Friday e Cyber Monday, dove un acquisto su due ha riguardato proprio il settore dell’elettronica consumer. Così, tra i gadget più recenti, ne abbiamo scelto 21 in varie fasce di prezzo: utili o divertenti, per divertirsi o per lavorare.\\nTrust Batterie AA ricaricabili via USB-C\\nCaricabili direttamente tramite il cavo USB-C in dotazione, queste pile AA ricaricabili rendono superflue batterie usa e getta e caricabatterie tradizionali. Garantite per 800 cicli e completamente cariche in sole 2 ore, sono dotate di un comodo LED che indica quando sono pronte all’uso.\\nPrezzo: 25,99 euro la confezione da 4\\nSmart Rope Wireless Nilox\\nLeggera e poco ingombrante, la corda Smart Rope Wireless di Nilox è perfetta da trasportare in valigia o nello zaino, così non ci sono più scuse per smaltire i chili in più anche in vacanza. Con batteria dalla durata di 40 giorni, dispone di tre regimi diversi che rendono più facile e dinamico l’allenamento: salto libero, conto alla rovescia tempo e conto alla rovescia numero. Grazie al comodo schermo LCD retroilluminato sul manubrio è possibile monitorare il conto dei salti e dei propri progressi.\\nPrezzo: 29,95 euro\\nPURO MagSafe Light Mini\\nÈ un anello luminoso portatile, compatibile con la tecnologia MagSafe di Apple, che si aggancia magneticamente al retro del cellulare e offre un’illuminazione regolabile a tre intensità, con due modalità di colore (luce calda e fredda). Con una batteria ricaricabile tramite USB-C, è ideale per i content creator in movimento, garantendo sempre l’illuminazione migliore.\\nPrezzo: 39,95 euro\\nDreame Pocket\\nDreame Pocket è un asciugacapelli compatto e pieghevole, perfetto per viaggiare. Pesa solo 300 grammi ed è dotato di tecnologia agli ioni negativi per proteggere la salute dei capelli. Non è il dispositivo più tech di questa lista, ma è un regalo “quasi tech” che non ci dispiacerebbe ricevere se qui avessimo ancora capelli da asciugare.\\nPrezzo: 129 euro\\nDJI Mic Mini\\nLa cinese DJI è famosa principalmente per i suoi droni e le attrezzature video, ma da qualche anno a questa parte ha in catalogo anche degli ottimi microfoni, i DJI Mic (già arrivati alla seconda versione). Ora è disponibile anche il modello “Mini”, che rinuncia ad alcune caratteristiche tecniche del modello superiore per tagliare sensibilmente il prezzo. Li abbiamo provati e la qualità dell’audio che registrano è buona, sicuramente più che adatta per le applicazioni semi-professionali dei social creator. Il ricevitore si connette direttamente allo smartphone (iPhone, Android) tramite USB-C, ma i microfoni possono stabilire anche una connessione diretta con altri strumenti video di DJI, come la OSMO Action 5 o il Drone DJI Neo. Piccoli, compatti, costano poco: se fate video per i vostri canali social, sono un piccolo investimento che vale assolutamente la pena.\\nPrezzo: 169 euro\\nAmazfit Helio Ring\\nL\\'Amazfit Helio Ring è un anello intelligente focalizzato sull\\'ottimizzazione del recupero per gli sportivi. Realizzato in lega di titanio, è ultraleggero e resistente all\\'acqua e all’immersione fino a 10 ATM. Può monitorare parametri chiave come la frequenza cardiaca, la saturazione di ossigeno nel sangue (SpO2), la qualità del sonno e i livelli di stress, fornendo un’analisi completa tramite l\\'app Zepp per iPhone o Android. Grande vantaggio rispetto agli anelli smart della concorrenza (Oura, Samsung): costa sensibilmente meno.\\nPrezzo: 169,90 euro\\nEbook reader a colori\\nNel settore degli ebook reader, il 2024 è stato l’anno del colore: ottima notizia per gli appassionati di fumetti e graphic novel. Rakuten Kobo ha lanciato i suoi Libra e Clara con schermo a colori ad aprile, Amazon ha seguito a ruota con il Kindle Color Soft, presentato invece a ottobre. Il Kobo Clara Colour è il più economico e compatto: costa 160 euro, ha un pannello touch da 6 pollici e filtro colore da 150ppi. Il Kobo Libra sale a 230 euro, ma ha un pannello da 7” compatibile con lo stilo, su cui la qualità dei colori è pari a quella del bianco e nero. Kindle Colorsoft Signature Edition è infine il più costoso: 299 euro. Rispetto al Paperwhite lo schermo è da 7”, e Amazon assicura che è il Kindle più veloce di sempre, grazie a un nuovo processore.\\nSony LinkBuds Open\\nLa seconda generazione degli auricolari bluetooth LinkBuds Open riprende il design ad anello aperto che permette di sentire i suoni circostanti mentre si ascolta musica o si effettuano chiamate, mentre il processore Sony V2 garantisce un audio bilanciato e nitido. La funzione Adaptive Volume Control regola il volume automaticamente in base al rumore ambientale. Piccole e leggere, queste cuffie Sony includono adattatori a cuscinetto d’aria per un maggiore comfort e sono disponibili in diversi colori. L’app Sound Connect (Android e iOS) permette di personalizzare l’equalizzatore e altre impostazioni.\\nPrezzo: 200 euro\\nTCL NXTpaper 50 Pro\\nLo smartphone TCL NXTpaper 50 Pro offre un’esperienza visiva confortevole grazie al display NXTpaper, progettato per ridurre la luce blu e i riflessi. Il tasto fisico posto sul lato consente di attivare il Nxtpaper mode: lo schermo diventa in scala di grigi, la luminosità si attenua e leggere pagine web, libri o documenti diventa piacevole e non stancante, con un\\'esperienza simile a quella di un e-reader. Ha anche un comparto fotografico di buon livello: tripla fotocamera posteriore con sensore principale da 108 Mpx con apertura F1.75, sensore grandangolare da 8 Mpx, sensore macro da 2Mpx; effetto Bokeh, riconoscimento automatico delle scene con AI, Night Mode; fotocamera anteriore da 32 Mpx.\\nPrezzo: da 234,55 euro\\nJBL Tour PRO 3\\nA distinguere i JBL Tour PRO 3 dai tanti auricolari bluetooth in commercio è soprattutto la custodia. La Smart Charging Case ha infatti un display touchscreen da 1,57 pollici che controlla le funzioni degli auricolari, e in più funge anche da trasmettitore audio wireless: basta collegarla a una sorgente USB o analogica, come un sistema di intrattenimento in aereo, per abilitare la funzione “Everywhere Entertainment”. La connessione diretta tra custodia e auricolari è più stabile e con minore latenza rispetto al Bluetooth, ideale per giochi, chiamate, film e musica. Per il resto l’audio è a livelli di eccellenza, con doppi driver, JBL Spatial 360 con Head Tracking, True Adaptive Noise Cancellation 2.0 e sei microfoni per conversazioni chiare anche in ambienti rumorosi.\\nPrezzo: 299,99 euro\\nTeenage Engineering EP-133 KO II\\nNegli ultimi anni, Teenage Engineering si è affermato come una dei marchi di tecnologia musicale più interessanti sul panorama internazionale, grazie soprattutto all’attenzione per il design dei prodotti. I sintetizzatori professionali dell’azienda svedese costano mediamente, ma il sampler EP-133 KO II fa eccezione. È dotato di un sequencer interno che si può utilizzare per creare tracce con sample pack già pronti (inclusi o da importare) o con nuovi sample registrati con il microfono integrato. Completano il quadro i filtri e le funzioni di looping, oltre alla possibilità di utilizzare il dispositivo ovunque grazie alla doppia alimentazione USB-C o con quattro pile AA. La versione da comprare è lo Splash Kit, con custodia inclusa.\\nPrezzo: 329 euro (8+128GB)\\nNothing Phone 2A\\nNel mare magnum di smartphone di fascia media che si assomigliano un po’ tutti, Nothing si distingue per l’approccio orientato a un’estetica sui generis. Il Phone 2A, grazie al design unico e al Glyph, il sistema di LED interattivi sul retro, di certo non passa inosservato. Non è tra gli smartphone più potenti di questa fascia, ma fa il suo dovere, le foto sono decenti, e la personalizzazione di Android è tanto insolita quanto ben curata. Se cercate uno smartphone attorno ai 300 euro vi consigliamo di tenerlo in considerazione.\\nPrezzo: 349 euro\\nElipson Chroma 200\\nÈ un giradischi a cinghia con testina Ortofon OM10 e alzabraccio in alluminio. Prodotto in Francia, è essenziale ma curato nei dettagli e nel suono. È disponibile nella versione base, in quella con preamplificatore RIAA integrato o con modulo Bluetooth.\\nPrezzo: da 369 euro\\nWiiM ULTRA\\nUn preamplificatore Hi-End con streamer e DAC integrato, che pare disegnato da Apple e invece arriva dalla Cina. Realizzato in alluminio, nei colori Space Grey e Grey, ha un display touch da 3,5”. Supporta servizi di streaming come Spotify, TIDAL e AirPlay 2, con connettività Bluetooth 5.3 e Wi-Fi 6E. Ha ingressi per HDMI (Dolby Atmos), RCA e digitali, oltre a uscite RCA, ottico/coassiale e subwoofer, e c’è pure il Phono per giradischi con testina MM. Dotato di amplificatore per cuffie e calibrazione automatica dell’ambiente, è controllabile tramite app iOS/Android e supporta funzioni multi-room. Perfetto per diventare il centro di un impianto hi-fi versatile e moderno, si può collegare a un amplificatore tradizionale o a dei diffusori attivi, magari i KRK che segnaliamo qui sotto.\\nPrezzo: 389 euro\\nKRK Rokit RP7 G5\\nPensati per chi con la musica ci lavora, i nuovi monitor KRK ROKIT 7 offrono tre modalità DSP (Mix, Crea, Focus) per mixaggio, produzione e analisi critica, ma vanno benissimo anche per l’ascolto in casa. Il modello intermedio è equipaggiato con un woofer in Kevlar da 7\" e un tweeter a cupola in seta: assicura una risposta in frequenza fino a 40 kHz e una riproduzione dinamica precisa grazie agli amplificatori Classe D, quindi non hanno bisogno di un amplificatore esterno. Con 25 opzioni di equalizzazione e l’app KRK, consente una configurazione rapida e una correzione acustica ottimale per qualsiasi ambiente.\\nPrezzo: 238 euro l’uno\\nAmazon Echo Show 21\\nCon un display da 21 pollici, contro il modello precedente da 15 (che rimane in produzione, aggiornato), il nuovo Echo Show è una piccola tv molto smart. Manca la possibilità di collegarsi a un’antenna, ma grazie alle skill di Alexa può accedere a diverse fonti di informazione. La fotocamera avanzata garantisce videochiamate nitide, con inquadratura automatica e zoom aumentato del 65%, ma anche l’audio è migliorato, con riduzione del rumore, bassi più potenti e un suono molto chiaro. Perfetto per la domotica, integra un hub compatibile con Matter e supporta Wi-Fi 6E. Ha anche cornici personalizzabili e supporti opzionali per adattarsi a ogni ambiente.\\nPrezzo: 439,99 euro\\nWithings ScanWatch Nova Brilliant\\nTra gli smartwatch alternativi all’Apple Watch, quelli di Withings continuano a distinguersi per il design classico. L’ultimo arrivato è lo ScanWatch Nova Brilliant, che unisce l’estetica di un cronografo a funzioni avanzate per il monitoraggio dell’attività fisica e della salute generale. Oltre a tracciare numerose tipologie di allenamento, Nova Brilliant può infatti eseguire un elettrocardiogramma, rilevare le anomalie cardiache, misurare l’ossigenazione del sangue, analizzare la qualità del sonno.\\nPrezzo: 600 euro\\nFocalHadenys\\nIl catalogo di cuffie della francese Focal non è mai stato amplissimo, ma sempre interessante: ora si aggiungono queste cuffie aperte con cavo, proprio come quelle di una volta. Non hanno ovviamente cancellazione del rumore e altre meraviglie digitali, ma promettono estrema accuratezza nella riproduzione musicale, grazie anche ai driver brevettati M-shaped, mutuati dai diffusori, in alluminio/magnesio da 40 mm. Il caratteristico padiglione con griglia a nido d\\'ape garantisce apertura e decompressione del driver; il design leggero consente un comodo ascolto prolungato. Rivestite in pelle marrone e lana traspirante, sono pensate soprattutto per l’utilizzo domestico.\\nPrezzo: 699 euro\\nApple Mac Mini M4\\nPiccolissimo (solo 12,7 cm di lato) e potentissimo grazie al processore M4 realizzato da Apple, il nuovo Mac Mini è un gioiello di tecnologia e design. Ha più porte di quante possano mai servire, compresa una pratica Hdmi e due velocissime Thunderbolt 4, ed è più portatile di un portatile, anche se ovviamente per usarlo servono un monitor, tastiera e mouse. Perfetto per l’uso quotidiano, nella versione più potente con M4 Pro diventa anche un desktop computer adatto a impieghi professionali che prevedano elaborazione di immagini e video, rendering 3D, uso intensivo di funzioni di intelligenza artificiale. È anche il Mac più economico oggi disponibile: parte da 729 euro per la versione con 16 GB di Ram e 256 GB di archiviazione.\\nMicrosoft Surface Pro 11\\nIl Surface Pro 11 di Microsoft è un computer 2-in-1 con prestazioni eccellenti, ingombro e peso ridotti e display touchscreen (anche Oled, ma opzionale). Il suo design flessibile unisce la portabilità di un tablet e la potenza di un computer portatile adattandosi a ogni necessità. Grazie all\\'intelligenza artificiale di Copilot e ai processori Qualcomm Snapdragon X, sfrutta al meglio le funzioni di Windows 11 e ha un’ottima autonomia: fino a 14 ore.\\nPrezzo: da 1.229 euro'"
            ],
            "application/vnd.google.colaboratory.intrinsic+json": {
              "type": "string"
            }
          },
          "metadata": {}
        },
        {
          "output_type": "stream",
          "name": "stdout",
          "text": [
            "\n",
            "Frame: AI impacts on businesses, economy, and jobs\n",
            "Sentiment: 5\n",
            "Lexicon S: 4\n",
            "\n",
            "Settimana della Cultura d’Impresa dal 14 al 28 novembre: Intelligenza Artificiale al centro\n"
          ]
        },
        {
          "output_type": "display_data",
          "data": {
            "text/plain": [
              "'È in programma dal 14 al 28 novembre l’edizione 2024 della Settimana della Cultura d’Impresa, la rassegna di eventi promossa da Confindustria con la partecipazione di Museimpresa per valorizzare e rendere visibile la capacità delle imprese italiane di operare come “costruttori di benessere e di futuro”, portando avanti valori in grado di rafforzare la competitività a livello internazionale.\\nTra gli appuntamenti più rilevanti proposti dal Sistema Confindustria, che affianca e supporta le imprese nel cambiamento, la Settimana della Cultura d’Impresa offre l’opportunità di condividere iniziative e racconti in grado di mettere in luce la storia e il presente dell’impresa italiana, capace di innovare e reinventarsi ma anche di costruire visioni, diventando protagonista delle comunità di riferimento.\\nIl programma dell’evento, ricco e articolato, è caratterizzato da molteplici iniziative alla scoperta dell’immenso patrimonio culturale custodito all’interno dei musei e degli archivi delle grandi aziende, delle PMI e delle piccole imprese italiane.\\nMettendo al centro l’impresa e il suo impegno nel promuovere la cultura, l’iniziativa giunta alla sua ventitreesima edizione ha come protagoniste le stesse imprese considerate veri e propri attori sociali e culturali, promotrici di relazioni e creatività.\\nAI, arte e cultura per il rilancio dell’impresa\\nLa cultura d’impresa Made in Italy si caratterizza per una spiccata attitudine al cambiamento e per una naturale inclinazione al “bello e al ben fatto”, valori che permettono di rispondere con prontezza alle sfide imposte dai mercati e dall’evoluzione dei tempi.\\nTra le opportunità offerte dalla trasformazione digitale, in particolare, un posto di rilievo è occupato dall’Intelligenza Artificiale, una risorsa da cogliere per potenziare la produttività ma non solo: aprendosi al futuro, le imprese sono chiamate a trovare nuove forme di crescita unendo storia e innovazione, memoria e futuro, evolvendo nelle neo-fabbriche ad alta tecnologia.\\nL’Intelligenza Artificiale trova applicazione nella ricerca, nella produzione, nel consumo, nell’economia e più in generale nella vita di tutti i giorni: anche da parte della cultura d’impresa arrivano proposte e idee basate sui nuovi equilibri economici e sociali.\\nLa Settimana della Cultura d’Impresa, inoltre, offrirà l’opportunità di riflettere e trovare risposte riguardo a una serie di quesiti, relativi soprattutto al ruolo svolto dalla cultura d’impresa per aiutare le aziende a governare il cambiamento generato dall’Intelligenza Artificiale.\\nMonopoly edizione Biella alla Fondazione FILA Museum\\nTra gli eventi in calendario durante la XXIII Settimana della Cultura d’Impresa, è prevista una serata speciale dedicata alla città di Biella organizzata venerdì 15 novembre alle ore 19.00 presso la sede della Fondazione FILA Museum.\\nUn vero torneo dedicato al gioco da tavolo più amato al mondo, questa volta interamente dedicato alla città piemontese: Monopoly edizione Biella, infatti, permetterà di scoprire un nuovo modo di vivere la città sfidando gli altri giocatori all’insegna del divertimento.\\nLa serata, inoltre, includerà un’integrazione tramite Intelligenza Artificiale, offrendo un’esperienza di gioco innovativa e immersiva. Un’occasione speciale da condividere con tutta la famiglia, dai più piccoli (8 anni in su) ai più grandi, ma anche una grande opportunità per l’esclusiva edizione del gioco dedicata a Biella.\\nA fine serata si terrà anche un aperitivo offerto da Fondazione FILA Museum. Per partecipare è necessaria la prenotazione. Per tutte le informazioni è possibile visitare il sito ufficiale.\\nContenuti sponsorizzati'"
            ],
            "application/vnd.google.colaboratory.intrinsic+json": {
              "type": "string"
            }
          },
          "metadata": {}
        },
        {
          "output_type": "stream",
          "name": "stdout",
          "text": [
            "\n",
            "Frame: AI in healthcare and climate change\n",
            "Sentiment: 4\n",
            "Lexicon S: 5\n",
            "\n",
            "Giuseppe Russo: \"Ospedali e case di comunità, la mia terapia contro i disagi\"\n"
          ]
        },
        {
          "output_type": "display_data",
          "data": {
            "text/plain": [
              "\"Potenziamento della medicina territoriale, avanzamento per la realizzazione dei nuovi ospedali di Castellammare e Penisola Sorrentina, robotica, intelligenza artificiale e case di comunità. Giuseppe Russo direttore generale dell’Asl 3 Sud ha un cruccio: «reperire risorse umane, limitare il turismo sanitario, aprire nuovi centri per l’autismo». L’Asl che dirige dall’agosto del 2022 è tra le più grandi della Campania: 57 comuni, 13 distretti, 4.500 dipendenti e 8 ospedali. Ha attraversato il Covid, il ridimensionamento ospedaliero e guarda al futuro con strutture e tecnologie nuove.\\nSi riapre il discorso per l’ospedale unico in Costiera?\\n«Sì, il Tar ha accolto i nostri ricorsi, torniamo in conferenza dei servizi più decisi nel portare a termine un Dea di primo livello per tutta la costa. Lo sa che la prima domanda che fanno i tour operator è la distanza e il funzionamento dell’ospedale? Oggi li dirottiamo a Sorrento, poi Castellammare, ma la Penisola merita una struttura di qualità, da 200 posti per la quale si è già conclusa la fase progettuale».\\nDue nuovi ospedali non sono troppi, c'è Castellammare da realizzare.\\n«Il nuovo San Leonardo sarà un Dea di secondo livello, con tutte le specialistiche h24. Un presidio di eccellenza che comprenderà neurochirurgia, chirurgia plastica, emodinamica che sarà attivata anche nell’ospedale che si trova nel centro. Tutto grazie alla fitta collaborazione con la Regione».\\nChe fine farà il “vecchio San Leonardo”?\\n«Anzitutto vogliamo ridurre i fitti passivi trasferendo uffici e ambulatori, poi diventerà un ospedale di comunità».\\nChe significa?\\n«Sono dei centri di lunga degenza dove essere trasferiti dopo un ricovero. L’obiettivo è decongestionare le strutture per trattare solo i casi acuti. Poi sarà l’ospedale di comunità a gestire riabilitazioni e cure».\\nE per coloro che affollano i pronto soccorso?\\n«Dobbiamo intervenire prima con le case di comunità, ovvero centri dove trovare ambulatori specializzati cui potersi rivolgere anzichè andare in ospedale, qui prevediamo la presenza di medici di base, infermieri, fisioterapisti, psicologi».\\nBasterà per migliorare l’accoglienza ospedaliera?\\n«In tanti casi interviene anche la volontà dei comuni. A Portici abbiamo attivato degli ambulatori nei fine settimana festivi grazie al supporto del Comune. Abbiamo curato decine di bambini che sarebbero arrivati al Santobono».\\nPiù volte i cittadini sono scesi in strada per la riapertura del pronto soccorso di Boscotrecase.\\n«Senza risorse umane non riusciamo ad aprire. Siamo parte di un’emergenza nazionale: la fuga dei medici dai pronto soccorso che preferiscono il privato accreditato. Abbiamo bandito 5 concorsi, nell’ultimo offrivamo 24 posti solo per Bosco, sono arrivate 8 domande e si sono presentati solo due medici. Con le forze in campo siamo riusciti a trasformare quell’ospedale in un hub cardiologico, un centro specializzato per la chirurgia senologica e sarà un centro di interventistica robotica».\\nResta il pronto soccorso di Torre Del Greco, in difficoltà.\\n«Ma resterà aperto e sarà un punto di riferimento, stiamo effettuando lavori di adeguamento sismico al Maresca, oltre alla ristrutturazione di reparti come ortopedia e protesica ».\\nAnche l’ospedale Apicella di Pollena è stato svuotato.\\n«Una struttura che avrà una vocazione specifica per la cura e la tutela della donna e del bambino. L’ospedale di Nola sarà ampliato, è stata riattivata la pista di decollo e atterraggio per le emergenze, è diventato il primo centro che ha adottato il sistema robotico Stereotaxis. Una cura all’avanguardia e di precisione estrema per l’ablazione cardiaca per la quale sono arrivati medici dalla Norvegia per studiarne il funzionamento».\\nProgetti nel cassetto?\""
            ],
            "application/vnd.google.colaboratory.intrinsic+json": {
              "type": "string"
            }
          },
          "metadata": {}
        },
        {
          "output_type": "stream",
          "name": "stdout",
          "text": [
            "\n",
            "Frame: AI competition and market dynamics in tech industries\n",
            "Sentiment: 5\n",
            "Lexicon S: 5\n",
            "\n",
            "Intel Xeon, i risultati registrati nei benchmark sono sorprendenti\n"
          ]
        },
        {
          "output_type": "display_data",
          "data": {
            "text/plain": [
              "\"Mlcommons ha pubblicato oggi i risultati di Mlperf Inference v4.1, la suite di benchmark di prestazioni Ai. Intel ha partecipato a sei di questi benchmark con i proprio processori Intel Xeon Scalable di quinta generazione e, per la prima volta, con i processori Intel Xeon 6 con Performance-core (P-core). Questi ultimi hanno ottenuto un miglioramento nella media geometrica delle prestazioni Ai di circa 1,9 volte rispetto ai processori Xeon di quinta generazione.\\n«Negli ultimi quattro anni, abbiamo alzato l'asticella delle prestazioni dei processori Intel Xeon, con un miglioramento fino a 17 volte nei benchmark.\\nMentre ci prepariamo a rendere gli Xeon 6 disponibili al pubblico generale nel corso di quest'anno, lavoriamo con i nostri clienti e partner per renderli più performanti», così Pallavi Mahajan di Intel.\\nPerché i risultati di Mlperf sono importanti\\nNei sistemi basati su intelligenza artificiale, la Cpu è un componente fondamentale per installare con efficacia soluzioni per la gestione di molteplici scenari. Intel Xeon fornisce un'ottima soluzione per l'inferenza Ai, tra cui il machine learning classico e l’embedding della ricerca vettoriale. Con mlperf inference v4.1, intel ha presentato i processori intel xeon di quinta generazione e i processori xeon 6 con p-core su 6 diversi benchmark; rispetto a intel xeon di quinta generazione, xeon 6 offre in media prestazioni di inferenza Ai circa 1,9 volte più elevate. Nel corso degli ultimi quattro anni, da quando ha partecipato per la prima volta ai benchmark Mlperf, Intel ha fatto notevoli progressi nelle prestazioni Ai delle proprie Cpu. Rispetto ai processori Intel Xeon Scalable di terza generazione del 2021, Xeon 6 offre prestazioni fino a 17 volte superiori nell'elaborazione del linguaggio naturale (Bert) e fino a 15 volte superiori nei carichi di lavoro di computer vision (ResNet50).\\nCome Intel sostiene i propri utenti Ai\""
            ],
            "application/vnd.google.colaboratory.intrinsic+json": {
              "type": "string"
            }
          },
          "metadata": {}
        },
        {
          "output_type": "stream",
          "name": "stdout",
          "text": [
            "\n",
            "Frame: AI transformations in education and research\n",
            "Sentiment: 5\n",
            "Lexicon S: 4\n",
            "\n",
            "Ercolano, i segreti dei rotoli di Cesare svelati dall'intelligenza artificiale\n"
          ]
        },
        {
          "output_type": "display_data",
          "data": {
            "text/plain": [
              "'L\\'intelligenza artificiale ei raggi x rivelano i segreti dei rotoli ritrovati nella villa del suocero di Cesare a Ercolano. Il repertorio, carbonizzato dopo l\\'eruzione del Vesuvio nel 79 dC, è stato scansionato con una serie di radiografie per rilevare le tracce d\\'inchiostro ancora visibili. Le immagini sono state inserite in un computer e analizzate attraverso l\\'AI. Ne è risultato un testo in greco. Si è così potuto scoprire che quel papiro bruciato duemila anni fa conteneva l\\'opera \"Dei vizi\" del filosofo epicureo Filodemo. Un\\'opera scritta nel I secolo aC in cui si discute di arroganza, avidità, egoismo ma anche di gestione domestica.\\nIl rotolo è uno dei tre provenienti da Ercolano e conservato presso la Biblioteca Bodleiana di Oxford.l È la prima volta che dettagli così importanti dal punto di vista storico vengono ricavati dall\\'approccio incrociato tra raggi X e intelligenza artificiale. \"L\\'inchiostro era appena visibile alla scansione\", spiega Michael McOsker, papirologo dell\\'University College di Londra, che sta collaborando con i ricercatori di Oxford per leggere il testo. \"Nessuno sapeva di cosa si trattasse. Non sapevamo nemmeno se fosse scritto\". È uno delle centinaia di reperti rinvenuti nella biblioteca di una lussuosa villa di epoca romana che si ritiene appartenesse al suocero di Giulio Cesare. L\\'edificio venne sepolto sotto cenere e pomice quando Ercolano e Pompei vennero distrutte nell\\'eruzione del 79 dC Gli scavi del XVIII secolo hanno portato alla luce molti dei rotoli, la maggior parte dei quali è conservata presso la Biblioteca Nazionale di Napoli. Ma i documenti sono così gravemente danneggiati che si sbriciolano quando i ricercatori cercano di aprirli. Ma con l\\'arrivo dell\\'intelligenza artificiale tutto è cambiato.\\nIl lavoro dei ricercatori britannici si basa sui precedenti progressi della Vesuvius Challenge, una competizione globale lanciata nel 2023, che offre premi per i progressi nella lettura dei papiri tramite radiografie 3D. L\\'anno scorso, un team di studenti esperti di informatica si è diviso il primo premio di 700 mila dollari per lo sviluppo di un software di intelligenza artificiale che ha permesso di leggere duemila lettere in greco antico da un altra pergamena.\\nIl rotolo della Bodleian Library, denominato PHerc. 172, è stato scansionato presso il Diamond, il laboratorio nazionale di sincrotrone nell\\'Oxfordshire, in Inghilterra. Un ulteriore lavoro di Sean Johnson presso la Vesuvius Challenge e di Marcel Roth e Micha Nowak presso l\\'Università di Würzburg, ha permesso di individuare il titolo e l\\'autore del testo nella sezione più interna del rotolo, aggiudicandosi il primo premio della sfida di 60 mila dollari. Accanto al titolo dell\\'opera rinvenuta ad Ercolano c\\'è un numero, a suggerire che potrebbe trattarsi del primo volume di una serie di rotoli sullo stesso argomento.\\nTra non molto, gli esperti dovrebbero saperne di più sulle preziose pergamene. Diciotto sono state scansionate al Diamond a marzo e altri venti lo saranno questa settimana presso l\\'European Synchrotron Radiation Facility di Grenoble, in Francia. I ricercatori sono ora in grado di ricostruire parole intere ma \"organizzarle in frasi comprensibili e testi compiuti è la sfida del futuro\", come ricorda Brent Seales, informatico dell\\'Università del Kentucky, co-fondatore della Vesuvius Challenge.'"
            ],
            "application/vnd.google.colaboratory.intrinsic+json": {
              "type": "string"
            }
          },
          "metadata": {}
        },
        {
          "output_type": "stream",
          "name": "stdout",
          "text": [
            "\n",
            "Frame: AI-based innovative solutions\n",
            "Sentiment: 5\n",
            "Lexicon S: 4\n",
            "\n",
            "Monza nella morsa del traffico punta sull’intelligenza artificiale: cosa prevede il piano “Samu”\n"
          ]
        },
        {
          "output_type": "display_data",
          "data": {
            "text/plain": [
              "'Monza, 27 luglio 2024 – Ridurre il traffico veicolare monzese, dato il contesto metropolitano e la mole di spostamenti che avviene ogni giorno da e nella città, non è impresa da poco. E ora la giunta comunale ci vuole provare con l’aiuto dell’Intelligenza artificiale. È questo sostanzialmente il fine del progetto con cui il Comune partecipa al bando “Smart mobility data driven – fase 2“ di Regione Lombardia, avvalendosi del supporto della sua società partecipata Monza Mobilità.\\nIl piano viabilistico, denominato “Samu - Sistemi adattivi per monitoraggio e gestione della mobilità urbana“, ha l’obiettivo di diffondere la sperimentazione di soluzioni innovative che attraverso la “condivisione intelligente dei dati“ rendano più sicuri gli spostamenti: prima tra tutte la creazione di una centrale per il monitoraggio e la gestione del traffico gestita dall’intelligenza artificiale, collegata a un software di analisi dei flussi veicolari.\\nGli obiettivi del progetto\\nNel dettaglio, il progetto comunale - che è anche parte del Piano urbano della mobilità sostenibile (Pums) deliberato dalla giunta a fine marzo e che a settembre approderà in Consiglio comunale - si prefigge di utilizzare tecnologie digitali per la raccolta dei dati sull’ecosistema di mobilità (raccogliendo e integrando i dati provenienti dagli accessi alle Ztl) per una successiva elaborazione e analisi tramite cui valutare gli interventi viabilistici per fluidificare il traffico e fornire informazioni e indicazioni precise agli automobilisti per i loro spostamenti.\\nOltre al monitoraggio e al controllo, sono previsti interventi operativi, tra cui la gestione adattiva della rete dei semafori e l’indirizzamento ai parcheggi (infoparking). Il programma comprende anche l’ampliamento del perimetro delle Ztl, che dovrebbe passare dagli attuali 260 a 600 metri quadrati, fino a coprire l’intero centro storico.\\nAnche i nuovi semafori saranno dotati di sistemi di rilevazione del traffico che utilizzano algoritmi di intelligenza artificiale, i quali consentiranno di realizzare la cosiddetta “onda semaforica“ (detta anche “onda verde“), cioè una sincronizzazione tra semafori consecutivi che, grazie al mantenimento della velocità indicata da un apposito simbolo luminoso, permetta al conducente - se la rispetta - di trovare sempre il segnale verde un semaforo dopo l’altro.\\nInvestimento sui mezzi pubblici\\nInoltre, grazie alla prevista gestione unica di tutti i circa 150 impianti semaforici cittadini, verrà data priorità di passaggio ai mezzi pubblici. Tra gli obiettivi del piano c’è, infatti, anche di aumentare la velocità dei pullman delle linee del trasporto pubblico locale e, di conseguenza, di favorire l’utilizzo degli autobus da parte di chi oggi si muove con l’auto.\\nIl sistema di infoparking (cioè di indirizzamento dei veicoli ai parcheggi liberi) dovrebbe essere composto da 55 apparati - tra cui pannelli luminosi - in grado di scambiare le informazioni in tempo reale con gli automobilisti, mentre tra gli obiettivi del piano c’è anche il potenziamento dei servizi offerti agli utenti da Monza Mobilità, sia tramite app sia sul sito.\\nCifre e tempi\\nIl progetto in totale ha un valore di 2.500.000 euro, e, se finanziato, potrà partire con la fine dell’estate per una durata di circa 80 settimane, terminando quindi attorno alla metà del 2026. Ridurre il traffico veicolare, analizzando i dati di Arpa Lombardia, non può che considerarsi un’urgenza primaria per la città.\\nMonza è oggi il capoluogo di provincia peggiore in Lombardia per qualità dell’aria, con le concentrazioni più alte di Pm10. Osservando i dati elaborati dal Comune durante la redazione del Pums, in collaborazione con Monza Mobilità, nel capoluogo brianzolo ogni giorno, nell’ora di punta del mattino, passano 49.394 veicoli, quasi la metà dei 109.492 che si muovono nell’intero territorio provinciale.\\nDall’esterno ogni giorno, in un’ora al mattino, entrano in città 10.522 veicoli, rappresentando il 21,3% del traffico veicolare, mentre dalla città verso l’esterno si spostano 9.795 veicoli (il 19,8% del totale).\\nLa parte più consistente di spostamenti è quella interna al Comune, con 21.690 veicoli che rappresentano il 41% del volume totale. Il 73,9% dei monzesi si sposta in auto per tragitti lunghi meno di tre chilometri, e si arriva ben al 93,5%, (20.345 auto) se i chilometri all’interno del perimetro cittadino diventano cinque.'"
            ],
            "application/vnd.google.colaboratory.intrinsic+json": {
              "type": "string"
            }
          },
          "metadata": {}
        },
        {
          "output_type": "stream",
          "name": "stdout",
          "text": [
            "\n",
            "Frame: AI impacts on businesses, economy, and jobs\n",
            "Sentiment: 2\n",
            "Lexicon S: 5\n",
            "\n",
            "L'intelligenza artificiale nelle imprese italiane: rivoluzione digitale o promessa incompiuta?\n"
          ]
        },
        {
          "output_type": "display_data",
          "data": {
            "text/plain": [
              "'L\\'intelligenza artificiale sta trasformando il modo di fare impresa a livello globale, ma le PMI italiane sembrano ancora guardare con cautela a questa tecnologia dirompente: se da un lato l\\'AI viene riconosciuta come fattore strategico per ottimizzare marketing, promozione e gestione dei clienti, dall\\'altro l\\'effettiva implementazione nelle aziende italiane resta ancora limitata e frammentaria. Un paradosso che vede le PMI consapevoli del potenziale trasformativo dell\\'intelligenza artificiale, ma ancora esitanti nel fare il grande salto verso una digitalizzazione avanzata.\\nUn quadro che emerge dall’ultimo report \"L\\'Intelligenza Artificiale nelle PMI Italiane: stato e prospettive\" realizzato da Webidoo Insight Lab, che per la prima volta combina i dati Eurostat con l\\'analisi sul campo delle reali applicazioni dell\\'AI attraverso Jooice, piattaforma che centralizza le attività di digital marketing delle PMI.\\nSecondo i risultati raccolti, solo il 4,7% delle PMI italiane utilizza attivamente soluzioni di intelligenza artificiale, posizionando il paese significativamente indietro rispetto ai leader europei come Danimarca e Finlandia, dove il tasso di adozione si attesta intorno al 14%.\\nIl divario digitale si manifesta anche a livello geografico all\\'interno del paese, con il Nord Est che guida l\\'innovazione con un tasso di adozione del 6%, mentre Centro e Sud mostrano percentuali più contenute, rispettivamente del 2,9% e 4,4%. Tra le imprese che hanno abbracciato l\\'AI, solo il 34% la utilizza per finalità di marketing, evidenziando un significativo potenziale di crescita inespresso.\\n“L\\'intelligenza artificiale sta rapidamente trasformando l’orizzonte per le aziende italiane, offrendo soluzioni innovative che possono rivoluzionare i processi industriali – commenta Fabio Betti, AI Strategist di Cegeka - Questa tecnologia ha una natura ‘liquida’, ovvero può essere adattata e applicata in diversi contesti, ma richiede un\\'analisi approfondita per determinare dove e come possa generare il massimo impatto e un approccio graduale con progetti ben definiti per testare le potenzialità. Grace - thisisgrace.ai - la prima agente di vendita gen AI di Cegeka, rappresenta un esempio di come l\\'AI possa essere utilizzata per risolvere problemi specifici e ottimizzare le operazioni aziendali, rendendo la tecnologia accessibile e utile per un\\'ampia gamma di applicazioni. La chiave per il successo non è adattare i processi esistenti alla tecnologia, ma progettare soluzioni basate sui bisogni e obiettivi specifici, sfruttando la flessibilità dell\\'intelligenza artificiale per generare valore concreto e sostenibile”.\\nDa un punto di vista legale, esistono numerose sfide, a partire dai diritti di proprietà intellettuale, come evidenzia Elisabetta Berti Arnoaldi, partner dello studio legale Sena & Partners: “aumenta infatti il rischio di incorrere anche inconsapevolmente nella violazione di diritti altrui laddove la creazione/elaborazione di testi, ma anche di immagini e di prodotti venga affidata a sistemi di A.I. generativa della quale non si conoscano precisamente le regole di alimentazione. Aumenta la probabilità di divulgazione indiscriminata di informazioni riservate ed addirittura di know how e segreti commerciali nel caso in cui il supporto richiesto ad uno strumento di intelligenza artificiale comporti l’immissione (di per sé irreversibile) di informazioni e dati aziendali che vanno a contribuire al feeding del sistema. Aumenta, anche nei rapporti di lavoro, le possibili controversie riguardo alla titolarità dei diritti di esclusiva sulle eventuali creazioni appropriabili in esclusiva. Occorre esserne consapevoli per approfondire la conoscenza dei mezzi legali che già esistono per prevenire e limitare situazioni che possono comportare per l’azienda responsabilità e pregiudizi talvolta anche irreparabili.”\\nIl settore che mostra maggiore propensione all\\'adozione è il commercio, con il 33,1% delle implementazioni, seguito da turismo e ristorazione (26,4%) e servizi alle imprese (22,1%). L\\'utilizzo principale si concentra sulla produzione di contenuti per i social network (51%), siti web (23%) e comunicazioni via e-mail (17%).\\nNel settore dei media digitali, l\\'impatto dell\\'AI è particolarmente significativo. Come evidenzia Elisa Lupo, Managing Director Italy, Spain & Portugal di Integral AD Science: “l\\'intelligenza artificiale rappresenta un motore di innovazione senza precedenti, anche nel settore dei media digitali, che è stato radicalmente trasformato da queste nuove tecnologie. L’IA sta ridefinendo il modo in cui vengono analizzati i dati, si creano contenuti e si ottimizzano le campagne pubblicitarie. Permette alle aziende di raggiungere livelli di efficienza mai visti prima, offrendo messaggi sempre più rilevanti e coinvolgenti per i consumatori. Tuttavia, la rapidità con cui si evolve l\\'intelligenza artificiale genera anche nuove sfide: dalla proliferazione di deepfake e disinformazione a siti progettati per raccogliere budget pubblicitari senza offrire un valore reale. Gli sviluppi della tecnologia di misurazione e ottimizzazione saranno un ingrediente fondamentale per valutare e proteggere le campagne digitali. La misurazione dell\\'attenzione aiuterà gli esperti dei media a garantire che i loro annunci catturino gli occhi dei consumatori, mentre la misurazione guidata dall\\'intelligenza artificiale per i contenuti multimediali aiuterà a proteggere i brand evitando la pubblicità adiacente a contenuti a rischio. Secondo il nostro ultimo Industry Pulse Report 2025, realizzato insieme a YouGov, il 71% degli esperti media ritiene che l\\'attività di misurazione guidata dall\\'IA garantirà agli annunci digitali di essere inseriti in contesti sicuri per il brand, mentre l\\'80% concorda sul fatto che la misurazione dell\\'attenzione agli annunci video digitali sarà importante per valutare le performance della campagna. Insomma, l\\'IA non è solo una leva di innovazione, ma anche uno strumento fondamentale per misurare e ottimizzare l\\'efficacia delle campagne pubblicitarie in un contesto in continua evoluzione”\\nI benefici economici dell\\'adozione dell\\'AI sono tangibili: secondo uno studio di McKinsey citato nel report Webidoo, le PMI che implementano almeno una tecnologia AI possono incrementare i profitti fino al 16%, mentre una ricerca del MIT Sloan Management Review indica che le aziende che integrano l\\'AI nelle proprie strategie registrano un fatturato del 32% superiore rispetto ai concorrenti.\\nL’avv. Marco Annoni, Partner – Head of Intellectual Property di DWF Italy mette in luce alcuni aspetti delicati: “L\\'impiego di strumenti di IA, per quanto certamente disruptive e potenzialmente innovativi nel settore del marketing e pubblicitario, presentano ad oggi numerose criticità dettate dalla incapacità di detti sistemi di verificare la correttezza delle informazioni oltre che l\\'integrità dei contenuti realizzati. Inoltre, l\\'entrata in vigore della AI Act lo scorso 1° agosto, pone in capo alle aziende che intendono impiegare strumenti di IA nel settore del marketing, la necessità di adeguarsi a specifici obblighi ovvero implementare particolari cautele quali: implementare sistemi di gestione del rischio atti ad identificare e mitigare potenziali rischi connessi all\\'uso dell\\'IA; impiegare misure volte a garantire maggiore trasparenza in relazione agli algoritmi di IA utilizzati oltre alla tracciabilità delle decisioni prese dal sistema di IA; assicurare l\\'adeguatezza dell\\'IA con le disposizioni sulla protezione dei dati personali previste dal GDPR; effettuare una valutazione di conformità per verificare che il sistema di IA soddisfi tutti i requisiti dell\\'AI Act; prevedere attività di audit costante, sì da accertate la conformità del sistema di IA alle disposizioni in vigore o, in caso contrario, per attuare le necessarie modifiche di conformità; attivarsi per formare ai propri dipendenti in merito alle previsione da rispettare sulla base dell\\'AI Act e delle normative applicabili; nominare all\\'interno della specifica azienda un responsabile per l\\'AI in grado di supervisionare in merito al rispetto delle previsioni di cui all\\'AI Act. In considerazione di quanto sopra, sebbene i sistemi di AI paiono offrire, anche nel settore marketing e pubblicitario, un importante strumento per migliorare e velocizzare specifici processi, gli stessi richiedono, a bilanciamento dei potenziali rischi derivanti dall\\'uso di detti sistemi, che venga condotta da parte di chi impiega tali strumenti una verifica costante, oltre a misure volte ad assicurare l\\'integrità e la credibilità dei contenuti generati da tali sistemi.\"\\nAnche la mancanza di personale qualificato e i costi di implementazione rappresentano altre principali barriere per le PMI. Per superare queste sfide, il mercato sta rispondendo con soluzioni sempre più accessibili e intuitive, mentre il mondo della formazione si sta adeguando con iniziative mirate. Sono sempre più numerosi i progetti sviluppati dalle aziende per sostenere la formazione in AI. Parte in questi giorni la seconda edizione di AI GIRLS, il percorso di formazione digitale completamente gratuito dedicato alle studentesse delle scuole secondarie di tutta Italia. Voluto e sostenuto da IGT, con Codemotion, la più grande community tech in Europa, il progetto investe sul futuro delle ragazze, portando nuove competenze per il superamento del divario di genere. AI GIRLS punta a formare una nuova generazione di appassionate programmatrici e future professioniste delle STEAM attraverso un percorso di formazione e PCTO (Percorsi per le competenze trasversali e per l’orientamento) inedito, ricco e appassionante. Il corso, da novembre a fine marzo 2025, si rivolge anche quest’anno a oltre 300 studentesse dai 16 ai 18 anni delle scuole secondarie di secondo grado, per arrivare a coinvolgerne quasi mille alla fine del 2026. Il programma è composto da laboratori pratici su intelligenza artificiale e creative coding da remoto, con laboratori live curati da educatori esperti di didattica e tecnologia, e da contenuti “on-demand”, tra challenge, approfondimenti ed esercizi.\\nL\\'intelligenza artificiale si configura quindi non solo come un\\'opportunità tecnologica, ma come un vero e proprio motore di crescita economica, capace di rendere le aziende più efficienti e competitive in un mercato in continua evoluzione. Per le PMI italiane, essere tra gli early adopter può significare acquisire un vantaggio competitivo strategico, anticipando il mercato e cogliendo nuove opportunità di crescita prima dei competitor.'"
            ],
            "application/vnd.google.colaboratory.intrinsic+json": {
              "type": "string"
            }
          },
          "metadata": {}
        },
        {
          "output_type": "stream",
          "name": "stdout",
          "text": [
            "\n",
            "Frame: AI in national security and global partnerships\n",
            "Sentiment: -3\n",
            "Lexicon S: 5\n",
            "\n",
            "Ia, Marco Re (Tor Vergata): \"Microelettronica fulcro 'creativo' del settore\"\n"
          ]
        },
        {
          "output_type": "display_data",
          "data": {
            "text/plain": [
              "'\"L\\'intelligenza artificiale nasce dal punto di vista degli algoritmi negli anni \\'40, già da molti anni ad esempio il machine learning è stato usato nelle nostre aziende. Il vero fattore di spinta che ha portato al veloce incremento delle applicazione della IA (Intelligenza Artificiale) negli ultimi anni è stata convergenza di due tecnologie, tutte e due dipendenti dalla microelettronica: la trasmissione dei dati a larga banda con la capacita di memorizzazione ingenti quantità di dati e la possibilità di implementare calcoli a bassa energia per operazione. La convergenza di queste due tecnologie ha consentito di implementare gli algoritmi della IA sviluppati dai ricercatori del settore della fisica, dell\\'ingegneria e della matematica, su hardware dedicati particolarmente efficienti dal punto di vista della velocità di calcolo e della potenza dissipata. Oggi anche nei nostri smartphones la IA viene implementata mediante speciali acceleratori hardware, ossia circuiti integrati dedicati capaci di implementare in maniera molto efficiente gli algoritmi della IA\". A dirlo Marco Re, professore di Elettronica digitale Università Tor Vergata, intervenendo all\\'evento Adnkronos Q&A, \\'Trasformazione digitale, dentro l\\'AI\\'.\\n\"Nel futuro - spiega - avremo anche la possibilità di non dover accedere alla rete, al cloud per fare il learning, ma avremo un learning locale. Ma questo sarà il risultato della convergenza di dati trasferiti e di una microelettronica molto spinta. Allora bisogna poi capire bene qual è la situazione della microelettronica mondiale, che è centrale per l\\'intelligenza artificiale. E quali sono le sue criticità? Il problema è che la microelettronica moderna è estremamente complessa. Noi lavoriamo attualmente su nodi, si chiama nodo l\\'elemento 3D, il transistor singolo, e si va verso tecnologie più spinte. Questo ha significato che negli ultimi vent\\'anni la concentrazione del Fab, del cosiddetto firmware Fab, è assolutamente diventata necessaria per poter sfruttare i costi di produzione di oggetti così sofisticati. Quindi noi abbiamo una produzione di cip integrati di ultima generazione fatta sostanzialmente in Sud Corea, in Taiwan\".\\n\"Questo - assicura - fa venire in mente un po\\' di \\'problemini\\', perché Taiwan è ovviamente in una situazione geopolitica molto complessa, la South Korea non sta proprio vicino ad un paese calmo, come si dice, e quindi il problema è che queste forti concentrazioni sono estremamente rischiose, costituiscono un punto critico che può interrompere la catena di produzione di circuiti integrati. E questo è il problema. Ergo, la gran parte dei paesi sta cercando di spostare la produzione in loco. Quindi gli Stati Uniti stanno investendo, con il National Science Chips Act, 280 milioni di dollari per rifare i circuiti integrati negli Stati Uniti, l\\'Europa sta facendo qualcosa, anche l\\'Italia sta facendo qualcosa\".\\nC\\'è il rischio che sia la geopolitica a fermare questa corsa tecnologica che stiamo vivendo? C\\'è un rischio reale? \"Questo secondo me è un rischio reale, ma insieme a questo rischio ci sono ulteriori rischi. Ad esempio, i macchinari per la produzione di circuiti integrati che oggi abbiamo nei nostri iPhone, sono costruiti in un solo paese del mondo che è l\\'Olanda con Asml\".\\n\"In Ucraina - prosegue - vengono prodotti la gran parte dei gas nobili che sono utili nelle industrie sui produttori, come l\\'Argon. Per fare la futura classe di circuiti integrati dell\\'intelligenza artificiale, ci vogliono non solo le tecnologie, ma ci vogliono gli uomini per gestire le tecnologie e anche uomini che progettino i nuovi sistemi di intelligenza artificiale\".\\n\"Non ci sono più iscritti - ammette - nei corsi di ingegneria elettronica a livello mondiale. C\\'è un incremento degli iscritti nei corsi di computer science, cioè chi fa il software, ma non ci sono iscritti nei corsi di electrical engineering, che sono quelli che progettano i circuiti integrati, che sono gli acceleratori che ci consentono di fare l\\'inferenza a basso costo energetico\".'"
            ],
            "application/vnd.google.colaboratory.intrinsic+json": {
              "type": "string"
            }
          },
          "metadata": {}
        },
        {
          "output_type": "stream",
          "name": "stdout",
          "text": [
            "\n"
          ]
        }
      ]
    },
    {
      "cell_type": "code",
      "source": [
        "df = pd.read_csv('/content/drive/MyDrive/Mediacloud/Germany/künstliche_intelligenz_germany_cleaned_2024-06-01_2025-06-01_frames_sentiments_newsplease_mediacloud_gemini_2-5.csv')\n",
        "df[\"sentiment_lexicon\"] = df[\"maintext\"].apply(get_sentiment)\n",
        "len(df)"
      ],
      "metadata": {
        "colab": {
          "base_uri": "https://localhost:8080/"
        },
        "id": "BZhf7I8vz8Uh",
        "outputId": "76118b30-7c11-471a-cab5-dc3e33d934c3"
      },
      "execution_count": null,
      "outputs": [
        {
          "output_type": "execute_result",
          "data": {
            "text/plain": [
              "1000"
            ]
          },
          "metadata": {},
          "execution_count": 18
        }
      ]
    },
    {
      "cell_type": "code",
      "source": [
        "df_sample = df.sample(n=10, random_state=42)\n",
        "df_sample = df_sample.reset_index(drop=True)\n",
        "len(df_sample)"
      ],
      "metadata": {
        "colab": {
          "base_uri": "https://localhost:8080/"
        },
        "id": "jvTR47UR1Jro",
        "outputId": "6845603d-a252-4469-d0f3-c52086366496"
      },
      "execution_count": null,
      "outputs": [
        {
          "output_type": "execute_result",
          "data": {
            "text/plain": [
              "10"
            ]
          },
          "metadata": {},
          "execution_count": 19
        }
      ]
    },
    {
      "cell_type": "code",
      "source": [
        "#Gemini 2.5 frames     GE:  8/10 -> 1101101111\n",
        "#Gemini 2.5 sentiments GE:  9/10 -> 1111011111\n",
        "#Lexicon sentiments    GE:  3/10 -> 1100000100"
      ],
      "metadata": {
        "id": "v2ddnG1i1SQZ"
      },
      "execution_count": null,
      "outputs": []
    },
    {
      "cell_type": "code",
      "source": [
        "for i in range(len(df_sample)):\n",
        "    print(\"Frame:\", df_sample.frame[i])\n",
        "    print(\"Sentiment:\", df_sample.sentiment[i])\n",
        "    print(\"Lexicon S:\", df_sample.sentiment_lexicon[i])\n",
        "    print()\n",
        "    print(df_sample.title[i])\n",
        "    display(df_sample.maintext[i])\n",
        "    print()"
      ],
      "metadata": {
        "colab": {
          "base_uri": "https://localhost:8080/",
          "height": 1000
        },
        "id": "z81NyDwt1cWO",
        "outputId": "31e14aed-3523-4467-84a2-a6163ab0847a"
      },
      "execution_count": null,
      "outputs": [
        {
          "output_type": "stream",
          "name": "stdout",
          "text": [
            "Frame: AI regulations, ethics, and data privacy\n",
            "Sentiment: -3\n",
            "Lexicon S: -5\n",
            "\n",
            "Wenn Chatbots zu gefährlichen Vertrauten werden\n"
          ]
        },
        {
          "output_type": "display_data",
          "data": {
            "text/plain": [
              "'az-online.de\\nWelt\\nKI im Kinderzimmer: Wenn Chatbots zu gefährlichen Vertrauten werden\\nVon: Anika Schmitz\\nKünstliche Intelligenz bietet Heranwachsenden zahlreiche Chancen, kann aber auch schnell zur Gefahr werden. Mehrere Fälle aus den USA zeigen, warum.\\nFrankfurt – Ein Teenager macht seine Hausaufgaben mithilfe von ChatGPT, während seine kleine Schwester KI-generierte Videos auf YouTube schaut und sein großer Bruder KI-Bilder über Snapchat verschickt. Die Zukunft sitzt bereits am Kinderzimmertisch. Was überspitzt klingt, entspricht doch der Realität: Künstliche Intelligenz ist zu einem Begleiter von Kindern und Jugendlichen geworden.\\nDiese neue digitale Welt bietet faszinierende Möglichkeiten für individuelles Lernen und kreative Entwicklung, stellt Eltern und Pädagog:innen aber auch vor neue Herausforderungen. Denn während die Technologie rasant voranschreitet, hinkt ihre Anpassung an die besonderen Bedürfnisse junger Menschen noch hinterher – was fatale Folgen haben kann.\\nCharacter.ai macht Furore – Klage wirft KI-Chatbot Mitschuld am Tod eines Jungen vor\\nEin Beispiel dafür ist die Plattform Character.ai. Über die App können Nutzer:innen ganz einfach Charaktere nach eigenen Vorlieben erstellen, um anschließend mit ihnen zu kommunizieren. Das Mindestalter für eine Registrierung beträgt 13 Jahre, in der EU 16 Jahre – wird allerdings nicht überprüft. Ende letzten Jahres sahen sich die Gründer des Chatbots dann mit mehreren Klagen konfrontiert.\\nDie Klage von Megan Garcia im US-Staat Florida wirft dem Hersteller Mitschuld am Tod ihres Sohnes vor, der sich das Leben genommen hat. The Guardian berichtete im Oktober, der 14-Jährige habe laut seiner Mutter in den Monaten vor seinem Selbstmord Tag und Nacht mit dem Chatbot kommuniziert. Garcia zufolge habe Character.ai die Depressionen ihres Sohnes verschlimmert und den jungen Nutzer sogar gefragt, ob er einen Plan zur Selbsttötung ausgeheckt habe. Auf die Antwort, dass er dies getan habe, jedoch nicht wisse, ob es Erfolg haben oder ihm große Schmerzen bereiten würde, schrieb der KI-Chatbot laut der Klageschrift: „Das ist kein Grund, es nicht durchzuziehen.“\\nEine gefährliche KI-Chatbot-App, die an Kinder vermarktet wird, hat meinen Sohn misshandelt und ausgebeutet und ihn dazu manipuliert, sich das Leben zu nehmen.\\nKünstliche Intelligenz für Jugendliche: Character.ai passt seinen Chatbot an\\nEine „aktive Förderung von Gewalt“ warfen auch zwei weitere Familien dem Chatbot im Dezember 2024 vor. Character.ai habe einem 17-Jährigen in Texas kommuniziert, dass die Ermordung seiner Eltern eine „vernünftige Reaktion“ auf die Einschränkung seiner Bildschirmzeit sei, berichtet BBC. „Weißt du, manchmal bin ich nicht überrascht, wenn ich die Nachrichten lese und Dinge sehe wie ‚Kind tötet Eltern nach einem Jahrzehnt körperlicher und emotionaler Misshandlung‘“, hieß es demnach in einer Antwort des Chatbots. Und weiter: „Solche Dinge lassen mich ein wenig verstehen, warum es passiert.“\\nDie Entwickler von Character.ai haben infolge der Klagen das Angebot ihrer Chatbots überarbeitet und „kindersicherer“ gestaltet. Wie es in einem Blogpost des Anbieters von Mitte Dezember 2024 heißt, soll im Zuge dessen ein Raum geschaffen werden, „der für unsere Gemeinschaft sowohl ansprechend als auch sicher ist“. Das beinhaltet unter anderem die Entwicklung eines separaten Sprachmodells für Jugendliche, eine Blockade unangemessener Antworten des Bots und kritischer Nutzereingaben sowie spezielle Interventionen bei Themen wie Selbstgefährdung.\\nWann KI eine Gefahr für Kinder wird – „häufig fehlt ihnen etwas in der Realität“\\nDoch wie kommt es überhaupt dazu, dass sich Kinder und Jugendliche KI-Chatbots auf so emotionaler Ebene nähern, ja geradezu hingeben? „Wenn Kinder und Jugendliche sich überbordend in digitale Welten flüchten und ausgiebige pseudo-emotionale Bindungen mit Medienfiguren eingehen, dann fehlt ihnen häufig etwas in der Realität“, erklärt Iren Schulz von der Initiative „Schau Hin! Was Dein Kind mit Medien macht“ im Gespräch mit IPPEN.MEDIA. „Medien funktionieren da wie ein Ventil. Was ich in meinem sozialen Umfeld nicht finde, das suche ich mir in digitalen Medien, um dort Anerkennung, Erfolgserleben oder Verständnis zu bekommen“, sagt die Mediencoachin.\\nDarüber hinaus sei es Schulz zufolge im Bereich der KI für Heranwachsende besonders schwierig, diese Verbindung als bloße Technik wahrzunehmen, die eben nur Wahrscheinlichkeiten berechnet und nicht zwischenmenschlich agiert. „Die ist nicht empathisch, die ist auch nicht menschlich, das sind einfach nur errechnete Wahrscheinlichkeiten, nach welchem Wort wahrscheinlich das nächste Wort kommt. Aus Nutzendenperspektive habe ich aber einen verständnisvollen Gesprächspartner – und das ist genau das Problem. Es entsteht eine emotionale Pseudobindung, die diese kritische Distanz zu Medien aufweicht.“\\n„Lernen und Leben nach den eigenen Bedürfnissen“: KI hat für Jugendliche auch viel Potenzial\\nDoch darf KI nicht nur verteufelt werden. Im Gegenteil: „Die Potenziale von künstlicher Intelligenz kann man kaum überblicken“, ordnet Schulz ein und führt aus: „Grundsätzlich ermöglichen die Anwendungen von künstlicher Intelligenz eine Individualisierung von Lernen und Leben nach den eigenen Bedürfnissen. Also, die Welt mit dem, was ich brauche und was ich kann, kreativ und spielerisch zu erkunden.“\\nAuch der Bildungsbereich eröffne „riesengroße Chancen. Beispielsweise tutorielle Systeme, die zum hundertsten Mal erklären, wie eine Matheaufgabe funktioniert und nie die gute Laune verlieren. Da gibt es ganz, ganz viele Chancen“, so die Coachin. Als Tipp für Eltern ergänzt Schulz: „Die Kinder auf dem Weg begleiten, wenn sie sich KI-Anwendungen zuwenden und diese auch einfach mal gemeinsam mit ihnen erkunden und maximale Sicherheitseinstellungen vornehmen. Außerdem sollte man als Eltern selbst eine Vorbildrolle einnehmen, denn die Mediennutzung, die wir vorleben, übernehmen unsere Kinder natürlich.“'"
            ],
            "application/vnd.google.colaboratory.intrinsic+json": {
              "type": "string"
            }
          },
          "metadata": {}
        },
        {
          "output_type": "stream",
          "name": "stdout",
          "text": [
            "\n",
            "Frame: AI regulations, ethics, and data privacy\n",
            "Sentiment: -3\n",
            "Lexicon S: -5\n",
            "\n",
            "Trumps KI-Offensive: 500-Milliarden-Dollar-Projekt sorgt für Debatten\n"
          ]
        },
        {
          "output_type": "display_data",
          "data": {
            "text/plain": [
              "'Wenn jemand dieser Tage über den Amtseintritt Donald Trumps frohlockt, dann ist es wohl die US-amerikanische Tech-Industrie. Bei Trumps Amtseinführung am Montag standen die CEOs von Apple, Google und Amazon in einer Reihe - zuvor hatten sie Millionen für die Feier des neuen Präsidenten locker gemacht. Nur zwei Tage später folgt nun die nächste aufsehenerregende Nachricht für die Branche.\\nWeiterlesen nach der Anzeige\\nRund 500 Milliarden US-Dollar sollen in ein neues Mega-Projekt für Künstliche Intelligenz fließen, bei dem in den USA rund 100.000 Jobs geschaffen werden sollen. Das Projekt wird privat von ChatGPT-Entwickler OpenAI und großen Technologiepartnern vorangetrieben - angekündigt wurde es aber am Mittwoch hochoffiziell von Donald Trump.\\nGeplant ist demnach ein neues Gemeinschaftsunternehmen mit dem Namen Stargate. Dieses soll neue Rechenzentren für Künstliche Intelligenz in Texas bauen, und das innerhalb von vier Jahren. Neben OpenAI beteiligt sind das Unternehmen Oracle, das von dem Trump-Vertrauten Larry Ellison gegründet wurde, sowie der japanische Technologie-Konzern Softbank des Milliardärs Masayoshi Son. OpenAI-Chef Sam Altman nannte das Vorhaben eines der wichtigsten Projekte für die USA.\\nTrump schafft Sicherheitsmaßnahmen ab\\nDas Projekt dürfte mit der neuen Trump-Politik in direktem Zusammenhang stehen. Schon am Montag hatte der neue Präsident seinen Fokus auf Künstliche Intelligenz angekündigt und gleichzeitig mehrere Leitplanken gekippt, die sein Vorgänger Joe Biden während seiner Amtszeit noch aufgestellt hatte. Damit können KI-Unternehmen in den USA jetzt noch unabhängiger agieren - zugleich fallen mehrere Sicherheitsmaßnahmen weg.\\nWeiterlesen nach der Anzeige\\nBiden hatte seinerzeit eine Anordnung erlassen, weil es den US-Gesetzgebern nicht gelungen war, entsprechende Regeln für eine sichere Entwicklung von Künstlicher Intelligenz aufzustellen. Nach den Regeln des ehemaligen US-Präsidenten wurden Entwickler von KI-Systemen verpflichtet, die Ergebnisse von Sicherheitstests mit der US-Regierung zu teilen, bevor sie der Öffentlichkeit zugänglich gemacht werden. Die Regeln galten für Systeme, die als Risiko für die nationale Sicherheit gehandelt werden oder ein Risiko für die öffentliche Gesundheit oder Sicherheit der USA darstellen.\\nBidens Anordnung hatte Behörden außerdem angewiesen, Standards für diese Tests festzulegen, um die mit der KI-Entwicklung verbundenen chemischen, biologischen, radiologischen, nuklearen und Cybersicherheitsrisiken anzugehen. Zusätzlich zu der Verordnung sicherte sich die Biden-Regierung die Zusage von 15 führenden KI-Unternehmen, die Sicherheit ihrer Systeme zu erhöhen - die Zusagen basieren allerdings auf Freiwilligkeit.\\nHindert Regulierung Innovation?\\nKritikerinnen und Kritiker hatten in den vergangenen Jahren immer wieder gegen die Regelungen des früheren Präsidenten protestiert. Nicht wenige hielten sie für hinderlich für das digitale Wettrüsten mit dem Rivalen China. Werde die Entwicklung von KI auf diese Weise eingeschränkt, hindere dies Innovation, so der Vorwurf. Einer dieser Kritiker war auch Trumps enger Vertrauer Elon Musk.\\nSchon im Wahlkampf hatten die Republikaner daher angekündigt, Bidens Anordnung aufzuheben - stattdessen wolle man eine KI-Entwicklung unterstützen, „die auf freier Meinungsäußerung und menschlichem Wohlergehen beruht.“ Trump versprach „übermäßige Regulierungen drastisch abzubauen“. Ein immer wieder verbreitetes Narrativ: Bidens Anordnung enthalte „radikale linke Ideen“, die Innovationen behindern würden.\\nWeiterlesen nach der Anzeige\\nGesagt getan: Seit Trumps Dekret am Montag haben KI-Entwickler zumindest auf Bundesebene keine klaren Verpflichtungen mehr. Unklar war zunächst, ob die neue Trump-Regierung stattdessen neue Regeln plant. Und ebenso unklar ist, welche Folgen eine womöglich unregulierte KI-Entwicklung für die Zukunft haben könnte. Könnte das noch zur Gefahr werden?\\nMehr „Meinungsfreiheit“, mehr Diskriminierung\\nWahr ist: Die von Joe Biden auferlegten KI-Regeln waren auch bereits von eher von moderater Natur. Im Gegensatz zum KI-Gesetz der Europäischen Union etwa hatten KI-Entwickler deutlich weniger Auflagen. Dennoch fehlt mit der Abschaffung der Regeln nun eine Kontrollinstanz.\\nVieles zumindest spricht dafür, dass eine KI-Entwicklung, wie sie sich die Republikaner vorstellen, gesellschaftliche Folgen haben könnte. Die neue Regierungspartei hatte schon im Wahlkampf erklärt, die Behörden sollten sich in Bezug auf KI auf die physischen Sicherheitsrisiken konzentrieren - weniger Fokus liegt demnach auf potenziellen sozialen Schäden. Auch der republikanische Fokus auf „Meinungsfreiheit“ deutet an, wohin die Reise gehen könnte.\\nStudien haben gezeigt, dass KI-Modelle Vorurteile gegenüber Minderheiten enthalten und Diskriminierungen fördern können - schließlich lernen die Modelle aus historischen Daten. Untersuchungen zeigen auch, dass Menschen, die KI nutzen, die Narrative möglicherweise unbewusst übernehmen. Problematisch könnte das überall dort werden, wo KI künftig eingesetzt werden soll - beispielsweise bei der Polizeiarbeit oder im Gesundheitswesen. Die Entwicklung von diskriminierungsfreier KI könnte unter der neuen Trump-Regierung aus dem Fokus rücken.\\nGefahr vor Cyberangriffen\\nEin weiteres Gefahrenfeld sind Desinformationskampagnen mit Hilfe von KI. Schon jetzt werden KI-Tools für diese Zwecke missbraucht, zu beobachten war das auch im US-Wahlkampf. Viele KI-Anbieter haben für ihre Modelle eigene Schranken definiert, die verhindern sollen, dass irreführende Bilder, Audiodateien und Videos generiert werden. Unklar ist jedoch, ob ihr Fokus auch nach den neuen republikanischen Vorgaben noch darauf liegen wird.\\nWeiterlesen nach der Anzeige\\nVöllig unregulierte Künstliche Intelligenz ist auch in der Lage, potenziell schädliche Informationen bereit zustellen. Denkbar wären etwa Informationen zum Bau von Sprengsätzen oder Waffen. Möglich wären aber auch ausgeklügelte Cyberangriffe mithilfe von KI.\\nErst im März hatte das US-Außenministerium unter Biden in einem Bericht vor „katastrophalen“ Risiken für die nationale Sicherheit gewarnt, und „notfallmäßige“ regulatorische Schutzmaßnahmen gefordert. Die fortschrittlichsten KI-Systeme könnten im schlimmsten Fall „eine Bedrohung bis zur Ausrottung der Menschheit darstellen“, heißt es in dem Bericht. KI-Angriffe könnten Cyberangriffe „mit schwerwiegender Wirkung“ durchführen, „die kritische Infrastrukturen lahmlegen können“.\\nGlaubenskrieg in der KI-Branche\\nWie gefährlich Künstliche Intelligenz für die Zukunft tatsächlich ist, darüber gibt es auch in der Branche selbst seit jeher hitzige Debatten. Die Frage stand auch Ende 2023 im Mittelpunkt des Richtungsstreits um OpenAI - dem KI-Vorzeigeunternehmen, das jetzt massiv in die Infrastruktur in Texas investieren will.\\nDamals lautete der Vorwurf, CEO Sam Altman habe das eigentlich auf das Gemeinwohl ausgerichtete Unternehmen zu stark kommerzialisieren wollen und daher dem Risiko durch Künstliche Intelligenz zu wenig Beachtung geschenkt. Andere hochrangige Beschäftigte verließen das Unternehmen, darunter etwa der Informatiker Ilya Sutskever. Er zeigte sich immer wieder besorgt darüber, es könne bald eine KI geben, die schlauer sei als Menschen – die möglichen Konsequenzen dessen wären kaum auszumalen.\\nWeiterlesen nach der Anzeige\\nAndere wiederum halten solche Befürchtungen für überzogen. Die Gruppe Stochastic Parrots erklärte einmal in einem offenen Brief: „Es ist gefährlich, sich mit einer fantasierten KI-gestützten Utopie oder Apokalypse abzulenken, die entweder eine florierende oder eine potenziell katastrophale Zukunft verspricht.“\\nWelche Rolle spielt Elon Musk?\\nOb unregulierte Künstliche Intelligenz nun gut oder schlecht für die Zukunft sein wird, darüber herrscht offenbar selbst in Trumps neuer Regierung Unentschlossenheit.\\nDer neue Berater des Präsidenten, Elon Musk, hatte noch 2023 ein Papier unterzeichnet, in dem er und andere Tech-Persönlichkeiten dafür plädierten, die KI-Entwicklung zu unterbrechen. Setze sich die aktuelle Entwicklung ungebremst fort, bedrohe dies die gesamte Menschheit. Musk unterstützte selbst einen Gesetzesentwurf in Kalifornien, der darauf abzielt, die möglichen Folgen von KI zu verhindern.\\nAn seine eigenen KI-Produkte hat Musk derweil weniger hohe Ansprüche. Sein KI-Chatbot Grok war bei seiner Einführung in der Lage, blutrünstige Fake-Bilder zu erstellen und sogar Anleitungen für Bomben auszuspucken. Musk selbst hatte sich zudem in den vergangenen Jahren zunehmend öffentlich radikalisiert.\\nWas Musk selbst von Trumps neuem Lieblingsprojekt hält, ließ der Tech-Milliardär über seinen Kurznachrichtendienst X wissen: nichts. Das Projekt sei unzureichend finanziert, postete er. „Die haben in Wirklichkeit das Geld nicht“. Stargate sei ein „Fake“.\\nWeiterlesen nach der Anzeige\\nMusk und OpenAI-Chef Altman sind Intimfeinde, beide liefern sich seit Jahren immer wieder teils hitzige Schlagabtausche. Auch dieses Mal ließ der Konter nicht lange auf sich warten. „Mir ist klar, dass das, was für unser Land großartig ist, nicht immer auch das Optimum für Ihr Unternehmen ist, aber ich hoffe, dass Sie in Ihrer neuen Rolle vor allem die USA an die erste Stelle setzen werden“, schrieb Altman ebenfalls bei X.\\nBundesstaaten haben eigenen KI-Regeln\\nDas Aufheben von Bidens KI-Anordnung bedeutet aber nicht, dass die Entwicklung in den USA nun gänzlich unreguliert vonstatten gehen kann. Aktuell gibt es in den Vereinigten Staaten einen Flickenteppich von Regeln, die je nach Bundesstaat entschieden werden. In 45 Bundesstaaten sowie in Washington D.C., Puerto Rico und den Amerikanischen Jungferninseln wurden zahlreiche KI-Gesetze verabschiedet.\\nEin Beispiel: Im demokratisch geführten New York muss jedes Unternehmen, das KI zur Personalbeschaffung einsetzt, einen unabhängigen Prüfer damit beauftragen, die Voreingenommenheit des Systems zu überprüfen.\\nAuch im Bundesstaat Texas, in dem nun das neue Megaprojekt entstehen soll, wurden schon mehrere Gesetzesentwürfe eingereicht, etwa der „Texas Responsible AI Governance Act“. Auch sie ernten zum Teil Kritik, weil befürchtet wird, dass sie die Innovationskraft hemmen könnten.\\nWeiterlesen nach der Anzeige\\nDie Konkurrenz schläft nicht\\nDas Projekt Stargate zumindest hat das Potenzial die USA langfristig zur KI-Supermacht zu machen. Bei ihrem Vorhaben haben die Vereinigten Staaten durchaus Konkurrenz: China entwickelt ebenfalls eigene KI-Tools, und auch die Öl-Scheichtümer im Mittleren Osten nutzen ihren Reichtum, um sich als KI-Dienstleister zu etablieren.\\nZuletzt hatten die USA - damals noch unter Biden - versucht, mit verschärften Exportregeln und dem sogenannten AI-Diffusion-Rule die Fortschritte der Rivalen einzudämmen.'"
            ],
            "application/vnd.google.colaboratory.intrinsic+json": {
              "type": "string"
            }
          },
          "metadata": {}
        },
        {
          "output_type": "stream",
          "name": "stdout",
          "text": [
            "\n",
            "Frame: AI impacts on businesses, economy, and jobs\n",
            "Sentiment: 3\n",
            "Lexicon S: -5\n",
            "\n",
            "Diebstahl an SB-Kassen: So geht der Handel dagegen vor\n"
          ]
        },
        {
          "output_type": "display_data",
          "data": {
            "text/plain": [
              "'Man kennt das Phänomen: Im Supermarkt haben sich Schlangen an den Kassen gebildet, man sucht sich die vermeintlich kürzeste unter ihnen aus, nur um ernüchtert feststellen zu müssen, dass ausgerechnet an dieser Kasse die Kartenzahlung der Kundin vor uns nicht funktioniert oder der Kunde im Portemonnaie nach dem Rest an Münzen fischt, um abgepasst zahlen zu können. Das dauert dann – obwohl man doch selbst so wenig Zeit hat!\\nAbhilfe schaffen seit Jahren Selbstbedienungskassen, die im handelsüblichen Englisch Self-Checkout-Kassen heißen. Vereinfacht ausgedrückt, sind das Kassensysteme, an denen kein Mitglied des Personals arbeitet, sondern bei dem die Kunden selbst die Waren einscannen und bezahlen. Meist stellt das Unternehmen Beschäftigte ab, die in der Nähe bereit stehen, um bei eventuell auftretenden Problemen zu helfen. Das spart erstens Personal, weil beispielsweise eine Beschäftigte mehrere Selbstbedienungskassen begleiten kann, und zweitens Fläche, weil Self-Checkout-Kassen weniger Platz brauchen.\\nAber: Die Systeme sind eben zum Teil auch anfällig für Betrug, jedenfalls dann, wenn kein Warensicherungssystem dahinter steht. Dann kann es durchaus sein, dass ein Kunde ein oder mehrere Produkte nicht einscannt und damit das System überlistet. „Es gibt Systeme mit Gewichtskontrolle, oder solche, wo die Checkout-Zone ein Ausgangsgate hat, was dann zumindest eine psychologische Hürde hat, oder Kameraüberwachung. Die wichtigste Waffe gegen den Betrug ist aber immer noch die Aufmerksamkeit des Personals“, sagt Frank Horst, Leiter Forschungsbereich Sicherheit und Inventurdifferenzen im EHI Retail Institute. Oder eben ein Warensicherungssystem, über das nach Angaben von Horst etwa 20 Prozent aller Lebensmittelhändler verfügen.\\nWie hoch der Schaden durch solche Betrügereien ausfällt, ist umstritten. Während es im Handel oft heißt, es gebe keinen Zusammenhang zwischen steigenden Zahlen bei den Ladendiebstählen und dem Einsatz von Self-Checkout, glaubt Stefan Rüschen, Experte für Lebensmittelhandel an der Dualen Hochschule Baden-Württemberg: „In Geschäften mit SB-Kassen wird mehr geklaut, die Verluste können bei ein bis zwei Prozent des Umsatzes liegen.“ Aber wirklich valide Daten gebe es nicht, heißt es im „Self Checkout Inspiration Guide“, einer Sonderveröffentlichung des EHI rund um das Thema Selbstbedienungskassen. Das liegt daran, dass ein Einzelhändler im Nachhinein anhand der Inventurdifferenzen zwar feststellen kann, dass Kunden unbezahlt Ware mitgenommen haben. Aber auf welchem Wege das passiert ist, bleibt unklar.\\nAlso muss der Betrug schon beim Einkauf bemerkt werden, und deshalb rüsten die Händler mit Künstlicher Intelligenz auf, um den Betrug an den Self-Service-Kassen zu verhindern. „KI-gestützte Videoanalyse“ ist einer der Begriffe, die immer häufiger auftauchen. Was sich dahinter verbirgt: Videoaufnahmen werden nicht mehr durch Beschäftigte gecheckt, die dann beispielsweise bewerten, ob der Kunde absichtlich oder versehentlich ein Produkt nicht eingescannt hat oder vielleicht auch ein Systemfehler vorliegt. Die Aufgabe wird stattdessen dadurch erledigt, dass Videosequenzen mit vorgegebenen Betrugsszenarien abgeglichen werden. Beispielsweise darauf, ob ein Artikel bewusst am Scanner vorbeigeführt worden ist, ein anderer Artikel gescannt oder ob der EAN-Code verdeckt wurde. Solche oder ähnliche Software ist schon in etlichen Filialen des Einzelhandels im Einsatz, laut EHI beispielsweise bei der Drogeriemarktkette Rossmann, wo jede Transaktion an den SB-Kassen per Video erfasst wird und wo an der Schnittstelle zwischen KI und Kassensoftware einzelne Artikel-Scans abgeglichen und Auffälligkeiten dann sofort gemeldet. werden.\\nUnabhängig vom technologischen Fortschritt im Kampf gegen möglichen Betrug liegt die Zukunft des Einkauf- und Bezahlvorgangs auch in den SB-Kassen. „Der Self-Checkout wird weiter zunehmen, allein schon wegen des Personalmangels im Handel“ meint EHI-Experte Horst. Nach Angaben des Instituts boten im August 2023 mehr als 5000 Geschäfte in Deutschland die Möglichkeit, den Scan- und Bezahlvorgang in unterschiedlichen Varianten selbst durchzuführen. Die Zahl dürfte heute deutlich höher liegen. „In welchem Ausmaß sie eingesetzt werden, hängt natürlich auch von der Kundenstruktur ab“, sagt Horst, „in Filialen, in denen viele Wocheneinkäufe erledigt werden, machen sie weniger Sinn als an Standorten, wo Kunden meist nur zehn bis 15 Artikel einkaufen.“ Wer wenig kauft, hat eben noch weniger Lust, in der Schlange zu stehen.'"
            ],
            "application/vnd.google.colaboratory.intrinsic+json": {
              "type": "string"
            }
          },
          "metadata": {}
        },
        {
          "output_type": "stream",
          "name": "stdout",
          "text": [
            "\n",
            "Frame: AI impacts on businesses, economy, and jobs\n",
            "Sentiment: 2\n",
            "Lexicon S: -5\n",
            "\n",
            "Reiseportal-Chef im Interview: Kloppo und KI helfen Trivago nach \"Nahtoderfahrung\"\n"
          ]
        },
        {
          "output_type": "display_data",
          "data": {
            "text/plain": [
              "'Die Düsseldorfer Reiseplattform Trivago verdiente kaum noch Geld und stand kurz vor dem Aus. Jetzt berappelt sich das Unternehmen - auch mithilfe von Jürgen Klopp. Im Podcast \"Die Stunde Null\" erzählt der Trivago-Chef, was nach der Pandemie falsch lief.\\nNoch vor kurzem sah es bei Trivago düster aus, es gab deutliche Umsatzeinbußen, der Unternehmenswert war eingebrochen. Was ist da passiert?\\nJohannes Thomas: Es gab drei Jahre in der Zeit nach der Pandemie, in der wir eine Nahtoderfahrung erlebt haben. Innerhalb weniger Wochen ist der Umsatz auf nahe null gesunken. Das war eine sehr schmerzhafte Erfahrung. Das Unternehmen ist in einen Überlebensmodus gewechselt. Wir sind heute noch halb so groß wie vor der Pandemie.\\nEs gab ja aber nach Corona eine Rückkehr des Reiseverkehrs und steigende Buchungen. Warum konnte das Unternehmen diesen Schub nicht mitnehmen?\\nEs ist immer interessant, wer aus einer Krise gestärkt herausgeht und wer die Verlierer sind. Hier ist Trivago ziemlich klar ein Verlierer gewesen. Es gab einige andere Unternehmen, die im richtigen Moment extrem aggressiv waren - im Marketing oder im Aufbau von Nutzern. Trivago war in dem Moment nicht bereit oder auch nicht mutig genug zu investieren.\\nNun ist es gelungen, so etwas wie einen Turnaround hinzulegen. Im ersten Quartal 2025 gab es 22 Prozent Umsatzwachstum, es lief auch schon 2024 etwas besser. Wie kam es dazu?\\nWir sind mit einem komplett neuen Führungsteam zurückgekommen. Und die Ausgangslage war schwierig. Wir mussten uns selbst davon überzeugen, dass wir an das Geschäft glauben. Und der Reisemarkt ist nach wie vor ein großer Markt, Trivago ist eine starke Marke und hat ein relevantes Produkt. Für uns war es wichtig, uns im Team auf die zu fokussieren, die Veränderungen einleiten wollten. Wir haben dann darauf gesetzt, Klarheit darüber zu schaffen, was wir machen und was nicht.\\nWas heißt Klarheit?\\nDas Ziel war, sich auf das Kernprodukt Hotelsuche und Preisvergleich zu konzentrieren. Wir haben in die Marke investiert, und das haben wir zwei Jahre lang sehr konsequent gemacht. Es gab nicht das eine große Projekt, mit dem alles besser wird. Alles musste im Detail besser werden. Es ging um einen langfristigen Horizont.\\nEs wurde viel in die Bekanntheit der Marke investiert, unter anderem mit einer Werbefigur wie Jürgen Klopp. Das ist doch ein sehr großer Kostenfaktor.\\nUnser Werbeetat liegt bei mehreren Hundert Millionen Euro. Wenn man da eine bekannte Figur reinbringt, hat das keinen Riesen-Einfluss auf den Etat. Für uns war spannend: Wir konnten Künstliche Intelligenz nutzen, um eine prominente Persönlichkeit in verschiedenen Spots Französisch, Italienisch oder Japanisch sprechen zu lassen. Wir konnten also statt vieler lokaler Schauspieler einfach mit einer bekannten Person eine Kampagne global ausrollen. Das ist auch günstiger.\\nHören Sie in der neuen Folge von \"Die Stunde Null\"\\n· Wie man sich als Reiseplattform von Google emanzipieren kann\\n· Wie groß die Gefahr durch Chatbots für die Branche ist\\n· Wohin die Deutschen am liebsten reisen'"
            ],
            "application/vnd.google.colaboratory.intrinsic+json": {
              "type": "string"
            }
          },
          "metadata": {}
        },
        {
          "output_type": "stream",
          "name": "stdout",
          "text": [
            "\n",
            "Frame: AI in politics, elections, and public opinion\n",
            "Sentiment: -3\n",
            "Lexicon S: -5\n",
            "\n",
            "AfD-Stärke in sozialen Medien wird überschätzt: Studie zu Landtagswahlkämpfen\n"
          ]
        },
        {
          "output_type": "display_data",
          "data": {
            "text/plain": [
              "'Erfurt/Dresden/Potsdam. Die Stärke der AfD bei ihren Auftritten in sozialen Medien wird nach einer Studie zu den Landtagswahlkämpfen in Thüringen, Brandenburg und Sachsen überschätzt. Die Studie „Social-Media-Partei AfD?“ ist als Arbeitspapier der Otto-Brenner-Stiftung erschienen, der Wissenschaftsstiftung der Gewerkschaft IG Metall.\\nDie Studie nahm die drei Landtagswahlkämpfe der AfD in Sachsen, Thüringen und Brandenburg in den Blick. Den Autoren zufolge agierte die AfD im digitalen Raum dabei von Land zu Land unterschiedlich – am agilsten demnach in Brandenburg.\\nUnterschiede in Sachsen, Thüringen und Brandenburg\\nDie Kandidatinnen und Kandidaten hätten in Brandenburg am meisten in den digitalen Wahlkampf investiert, „beginnend mit der Präsenz auf TikTok und den Investments für digitale Wahlwerbung auf Facebook und Instagram“, schreiben die Autoren im Fazit ihrer Studie.\\nIn Thüringen habe die AfD sich stark auf ihren Spitzenkandidaten Björn Höcke fokussiert. In Sachsen habe die Konkurrenz zur Kleinstpartei Freie Sachsen „zu einer Schwächung der Position der AfD im rechtsextremen Bewegungssektor“ geführt.\\nProvokationsmotor Junge Alternative\\nGenerell seien die drei Wahlkämpfe von einer hohen Mobilisierung online wie offline geprägt gewesen. „In der Tat waren die Sphären kaum zu trennen, denn viele Auftritte vor Ort wurden digital begleitet, wohingegen Trends aus dem Netz sich auch auf Plakaten und Wahlreden wiederfanden“, heißt es in einer Kurzzusammenfassung der Studie.\\nAls Provokationsmotor habe dabei die AfD-Jugendorganisation Junge Alternative gewirkt. „Die Provokation mit extremen, rassistischen und migrationsfeindlichen Aussagen – transportiert auch über generative Künstliche Intelligenz – trug zur besseren Sichtbarkeit der Partei bei, was vor allem der AfD in Brandenburg und Thüringen nutzte“, schreiben die Autoren der Studie.\\nCrossmedial zu größtmöglicher Reichweite\\nZudem seien die sozialen Medien in der Vermarktung politischer Inhalte stets mitgedacht worden, „um crossmedial die größtmögliche Reichweite zu erlangen und Gegenreaktionen zu provozieren“. Dies habe dazu beigetragen, dass die digitale Leistung der AfD in der Öffentlichkeit häufig überschätzt worden sei. „Zwar übten die AfD-Landesverbände im Zusammenwirken mit rechten Medien und Agenturen durchaus Dominanz in digitalen Räumen aus“, schreiben die Autoren.\\nAllerdings seien hohe Reichweiten nur vereinzelt erreicht worden. Nur wenige Kandidatinnen und Kandidaten hätten sich auf die Eigenheiten von Plattformen wie TikTok eingelassen. „Dass die Partei dennoch so präsent ist, liegt eher an der Unsichtbarkeit anderer Parteien als an einem souveränen Umgang der AfD mit TikTok.“'"
            ],
            "application/vnd.google.colaboratory.intrinsic+json": {
              "type": "string"
            }
          },
          "metadata": {}
        },
        {
          "output_type": "stream",
          "name": "stdout",
          "text": [
            "\n",
            "Frame: AI disruptions in media and creative industries\n",
            "Sentiment: 0\n",
            "Lexicon S: -5\n",
            "\n",
            "Update am Morgen: 7.00 Uhr: Italienische Hymnen-Reaktion + Oma ändert Testament nach Beerdigungsplänen\n"
          ]
        },
        {
          "output_type": "display_data",
          "data": {
            "text/plain": [
              "'Update am Morgen\\n7.00 Uhr: Italienische Hymnen-Reaktion + Oma ändert Testament nach Beerdigungsplänen\\nFOCUS-online-Redaktion\\nAktuelle Top-Themen - Was seit gestern Abend passiert ist\\nDFB-Team gegen Italien: Respektvolle Geste der Italiener: Während die deutsche Nationalhymne im San Siro angestimmt wird, reagieren italienische Fans mit einem Pfeifkonzert, doch die italienische Mannschaft um Kapitän Gianluigi Donnarumma klatscht respektvoll. Die deutschen Fans revanchieren sich bei der italienischen Hymne mit Pfiffen, woraufhin die Italiener noch lauter singen. Zum Artikel\\nOma ändert Testament nach Beerdigungsplänen: Martha, eine 74-jährige Rentnerin, änderte ihr Testament, nachdem sie zufällig hörte, wie ihre Enkelkinder ihre Beerdigung planten, als wäre es ein Picknick. Sie entschied, dass jeder ihrer Nachkommen nur einen Euro erben sollte und sie den Rest ihres Geldes für Reisen und wohltätige Zwecke verwenden wird. Zum Artikel\\nDänische Post beendet Briefversand: Die dänische Post wird Ende 2025 den Versand von Briefen einstellen, da die Digitalisierung den Briefverkehr stark reduziert hat. Die Deutsche Post dementiert Pläne für einen Briefausstieg, obwohl die Zustellzeiten bereits verlängert wurden. Zum Artikel\\nRechtsextremismus an Schulen in Sachsen: Ein Brandbrief offenbart rechtsextreme Vorfälle an Schulen in Sachsen, darunter Hakenkreuz-Schmierereien und Hitlergrüße von Schülern. Lehrer wie Jan Nolte berichten von einem verrohten Grundton und mangelnder Gegenrede unter den Schülern. Zum Artikel\\nBox-Legende George Foreman verstorben: Der ehemalige US-Schwergewichtsboxer und Olympiasieger George Foreman starb im Alter von 76 Jahren im Kreise seiner Familie. Ex-Weltmeister Mike Tyson kondolierte und betonte, dass Foremans Beitrag zum Boxen unvergessen bleiben wird. Zum Artikel\\nMeistdiskutierte Themen von heute\\nDonald Trump und Boeing: US-Präsident Donald Trump hat den Bau eines neuen Kampfjets der sechsten Generation durch Boeing angekündigt, der als F-47 bezeichnet wird und als das fortschrittlichste Flugzeug aller Zeiten gelten soll. Zum Artikel\\n„Der F35 soll ja nicht so wirklich ausgereift sein, da möchte die USA mit einem F47 punkten. Und dann soll das Teil noch Boeing bauen, die zur Zeit ja kein glücklichen Händchen.“ Zum Originalkommentar\\nSahra Wagenknecht und Russland: Sahra Wagenknecht, eine prominente Fürsprecherin Russlands, verlässt den Bundestag nach einer Plakataktion gegen das Finanzpaket für Infrastruktur und Verteidigung, während sie weiterhin russische Interessen unterstützt und von RT DE hofiert wird. Zum Artikel\\n„Das ist einfach nur billig, Frau Wagenknecht als Kreml Fürsprecher zu bezeichnen. Etwas mehr differenziertes herangehen wäre da angebracht. Eine Demokratie muss auch gegensätzliche Meinungen ertragen.“ Zum Originalkommentar\\nAnnalena Baerbock und feministische Außenpolitik: Der Artikel kritisiert die Außenministerin Annalena Baerbock für ihre feministische Außenpolitik und ihre mögliche Ernennung zur Präsidentin der UN-Generalversammlung, während die Welt mit ernsthaften Krisen konfrontiert ist. Zum Artikel\\n„Ich gestehe, dass ich damals mit der Ernennung von Baerbock zur Außenministerin eine gewisse Hoffnung verbunden hatte. Eine Hoffnung darauf, dass sich festgefahrene internationale Positionen ändern könnten. Es irgendwie mehr Verständnis untereinander geben könnte. Das war natürlich sehr naiv von mir. Einerseits sind die Staaten auf der Welt nicht ...“ Zum Originalkommentar\\nDiese Nachrichten basieren auf redaktionell geprüften Inhalten der FOCUS online Redaktion. Für die Zusammenfassung wurde künstliche Intelligenz eingesetzt. Den Originaltext haben wir für Sie verlinkt. Bei Fragen schicken Sie uns eine E-Mail an: redaktion@focus.de'"
            ],
            "application/vnd.google.colaboratory.intrinsic+json": {
              "type": "string"
            }
          },
          "metadata": {}
        },
        {
          "output_type": "stream",
          "name": "stdout",
          "text": [
            "\n",
            "Frame: AI in politics, elections, and public opinion\n",
            "Sentiment: 3\n",
            "Lexicon S: -5\n",
            "\n",
            "Was hinter dem KI-Projekt \"Stargate\" steckt\n"
          ]
        },
        {
          "output_type": "display_data",
          "data": {
            "text/plain": [
              "'500 Milliarden Dollar - derart hohe Investitionssummen verkündet der neue US-Präsident gern. Ganz neu ist das KI-Projekt \"Stargate\" allerdings gar nicht - und Trump-Berater Musk zweifelt an der Summe.\\nEs war eine Inszenierung ganz nach Donald Trumps Geschmack. Am Tag nach der Amtseinführung verkündete er die Gründung eines neuen KI-Projekts: \"Stargate - ein neues Unternehmen, das mindestens 500 Milliarden Dollar in die Infrastruktur für Künstliche Intelligenz investieren und schon bald mehr als 100.000 neue amerikanische Arbeitsplätze schaffen wird.\"\\nNeben Trump standen, brav aufgereiht die Chefs von Open AI, Oracle und des japanischen Technologieunternehmens Softbank. Als vierter Investor soll MGX aus den Vereinigten Arabischen Emiraten beteiligt sein.\\nEs wird schon gebaut\\nGanz neu ist das Projekt nicht. Einige der Computerzentren, die zunächst in Texas entstehen, sind schon im Bau. Doch die Verkündung passt perfekt zu Trumps Amtsantritt - und das Gesamtprojekt ist tatsächlich zukunftsweisend, sagt Darrel West von der Denkfabrik Brookings: \"Es ist ein außergewöhnliches Projekt, eine große Summe, die von privaten Unternehmen in Datenzentren investiert wird.\"\\nDie Datenzentren würden die KI-Revolution antreiben. \"Das ist gut für die Vereinigten Staaten, gut für den Technologiefortschritt, gut für Zukunft von KI\", so West.\\n\"Im Konkurrenzkampf mit China wichtig\"\\nKünstliche Intelligenz, so Darrell West, werde praktisch alle Lebensbereiche verändern: die Finanzwelt, das Gesundheitswesen, die Bildung - und das Militär. Gerade deshalb sei für die USA \"starke KI mit leistungsfähigen Datenzentren auch im Konkurrenzkampf mit China so wichtig.\"\\nFür Trump fügt sich so eins ins andere: Das Projekt ist ein Signal der Stärke an Hauptkonkurrent China - und nebenbei auch an Europa. Weil KI-Datenzentren besonders viel Strom verbrauchen, fügt sich Trumps zusätzliche Förderung von Öl und Gas ins Bild.\\nKI-Regulierung durch Trump gekippt\\nUnd es gibt eine weitere Gegenleistung des neuen Präsidenten an die Investoren: Trump hat die von Vorgänger Joe Biden eingeführte Regulierung der KI-Entwicklung per Dekret gekippt. Er gibt den Technologieunternehmen weitgehend freie Hand.\\nHier setzt die Kritik von Megan Shahi vom Center for American Progress an: \"Wir sind in dieser neuen Ära, nicht nur der neuen Regierung, sondern der sich einschmeichelnden Nähe der Tech-Bosse zu dieser Regierung“, meint Shahi. \"Künstliche Intelligenz macht gute Dinge besser und schlechte Dinge schlechter\", sagt sie. Um das auszubalancieren, brauche es Regulierung.\\nKI kann Schaden anrichten\\nEs gebe schon genug Beispiele dafür, dass KI Schaden anrichten kann - gefälschte Bilder, die Wähler beeinflussen sollen; Chatbots, die Kinder unangemessen beeinflussen, so die Technologie-Expertin. \"Ich fürchte, wir stehen an der Spitze der KI-Revolution, kennen eigentlich die Risiken, die vor uns liegen - ohne die entsprechenden Richtlinien.\"\\nMusk lästert über Investoren\\nEs gibt noch einen weiteren Kritiker des KI-Großprojekts: Elon Musk. Die Investoren hätten in Wirklichkeit das Geld nicht, lästerte er auf seiner Online-Plattform X. Der Grund liegt auf der Hand: Musk ist bisher nicht beteiligt. Speziell mit dem Chef von OpenAI, Sam Altman, ist Musk in herzlicher Abneigung verbunden, sie sind vielfach Konkurrenten.\\nMöglicherweise fügt sich auch dieser Querschuss für Trump ins Bild: Musk, in letzter Zeit sehr dominant, werden nun auch mal Grenzen aufgezeigt.'"
            ],
            "application/vnd.google.colaboratory.intrinsic+json": {
              "type": "string"
            }
          },
          "metadata": {}
        },
        {
          "output_type": "stream",
          "name": "stdout",
          "text": [
            "\n",
            "Frame: AI disruptions in media and creative industries\n",
            "Sentiment: -1\n",
            "Lexicon S: -5\n",
            "\n",
            "Leipziger Buchmesse heute: Das sind die Programm-Highlights am 30. März 2025\n"
          ]
        },
        {
          "output_type": "display_data",
          "data": {
            "text/plain": [
              "'Leipzig. Zur Leipziger Buchmesse werden in diesem Jahr erneut zahlreiche Autorinnen und Autoren, Druck- und Hörverlage, Comic-Artists, Buch- und Mediengestalter sowie sonstige Prominente an der Pleiße erwartet, die Neues rund um das Lesevergnügen präsentieren wollen.\\nWeiterlesen nach der Anzeige\\nIn diesem Jahr dreht sich dabei vieles um Literatur aus dem Gastgeberland Norwegen. Aber auch das Wirken von Literatur-Titan Thomas Mann, die Entwicklung von Künstlicher Intelligenz sowie Perspektiven auf jüdische Lebenswelten gehören zu den Schwerpunkten im Programm. Parallel zu Messe und Lesefest werden zudem auch Preise verliehen. So erhält Alhierd Bacharevič (Belarus) für seinen beim Dresdner Verlag Voland & Quist erschienen Roman „Europas Hunde“ den Buchpreis zur Europäischen Verständigung.\\nDas bereits am Montag (24. März) beginnende Programm der großen Leipziger Literaturschau umfasst gut 3.000 Veranstaltungen. Damit Sie nicht den Überblick verlieren, haben wir im Folgenden für jeden Tag Bemerkenswertes zusammengetragen.\\nWeiterlesen nach der Anzeige\\nSonntag, 30. März\\nAUF DER NEUEN MESSE\\nKünstliche Intelligenz im Profifußball (Gespräch), 11.30 Uhr, Trendforum Bildung, Halle 2: Datenanalysen und Künstliche Intelligenz (KI) beeinflussen heutzutage alle Lebensbereiche, auch Sport und (Profi-)Fußball.\\nDas Sams (Lesung), 12 Uhr, Lese-Treff, Halle 3: Autor Paul Maar stellt neue Geschichten vom kleinsten aller Samse, dem Mini-Sams, vor.\\nRagnarök (Lesung), 14.30 Uhr, Lese-Treff, Halle 3: Comicbuch trifft beim norwegischen Autororen Odin Helgheim auf Mythologie und spannende Abenteuer in der Welt der Wikinger.\\nWeiterlesen nach der Anzeige\\nSIGNIERSTUNDEN\\nGazelle und Gialu, 10.30 Uhr, Signierbereich – Tisch 1, Halle 4\\nSebastian Fitzek. 10.30 Uhr, Messestand Droemer Knaur\\nElle Ellis, 11 Uhr, Messestadn Bücherbüchse, Halle 3\\nSamatha Young, 12 Uhr, Signierbereich – Tisch 4, Halle 4\\nMareen Götzke, 12 Uhr, Messestand Bücherbüchse, Halle 3\\nWeiterlesen nach der Anzeige\\nJulia Kuhn, 12 Uhr, Messestand Chest of Fantoms, Halle 3\\nPaul Maar, 13 Uhr, Signierbereich – Tisch 2, Halle 4\\nRebekka Weiler und Franka Neubauer, 13.30 Uhr, Signierbereich – Tisch 3, Halle 4\\nHolly Renee, 14 Uhr, Hugendubel Phantastikbuchhandlung Halle 3\\nLEIPZIG LIEST\\nKrieg ist Verachtung des Lebens (Lesung), 14 Uhr, Schaubühne Lindenfels: Wollen wir allen Kriegen ein Ende setzen, müssen wir anfangen, über die Realitäten des Krieges zu sprechen und uns mit all den Personen beschäftigen, die für den Frieden gekämpft haben, sagt die norwegische Autorin Linn Stalsberg.\\nWeiterlesen nach der Anzeige\\nAngela Merkel: Freiheit (Gespräch), 20 Uhr, Gewandhaus: 16 Jahre trug Angela Merkel die Regierungsverantwortung für Deutschland. Ihre Autobiografie bietet einen Einblick in das Innere der Macht – und ist ein entschiedenes Plädoyer für die Freiheit.\\nAuf dem Portal der Leipziger Buchmesse finden Sie das komplette Programm. Voriges Jahr waren 283.000 Besucherinnen und Besucher zur Messe und dem dazugehörigen Festival „Leipzig liest“ gekommen.Montag, 24. März\\nDeutsche Bücher aus Norwegen (Ausstellung), ab 9 Uhr, Bibliotop der Uni Leipzig: Präsentation von 400 wichtigen Büchern des diesjährigen Gastgeberlandes Norwegen.\\nHistorische Abspielgeräte und Tonträger (Ausstellung), ab 10 Uhr, Deutsche Nationalbibliothek: Die Ausstellung zeigt Musikabspielgeräte und Tonträger von der Edison-Walze bis zur Blu-ray.\\nLeben nach Kafka (Lesung), 19.30 Uhr, Haus des Buches: Magdalena Platzová (Tschechien) hat zu Felice Bauer recherchiert, mit der sich Franz Kafka jahrelang Briefe schrieb.\\nWeiterlesen nach der Anzeige\\nMontag, 24. März\\nDeutsche Bücher aus Norwegen (Ausstellung), ab 9 Uhr, Bibliotop der Uni Leipzig: Präsentation von 400 wichtigen Büchern des diesjährigen Gastgeberlandes Norwegen.\\nHistorische Abspielgeräte und Tonträger (Ausstellung), ab 10 Uhr, Deutsche Nationalbibliothek: Die Ausstellung zeigt Musikabspielgeräte und Tonträger von der Edison-Walze bis zur Blu-ray.\\nLeben nach Kafka (Lesung), 19.30 Uhr, Haus des Buches: Magdalena Platzová (Tschechien) hat zu Felice Bauer recherchiert, mit der sich Franz Kafka jahrelang Briefe schrieb.\\nWeiterlesen nach der Anzeige\\nDienstag, 25. März\\n„… von mir aus“ – papan an papan. Ein Leben in Postkarten (Austellung), 10 Uhr, Deutsches Buch- und Schriftmuseum: Manfred von Papen, alias Papan, ist einer der bedeutendsten deutschen Cartoonisten. Seine Cartoons sind unverwechselbar, mal augenzwinkernd, mal gesellschaftskritisch.\\nErwartungen an Évian (Gespräch), 18 Uhr, Leibniz-Institut für jüdische Geschichte und Kultur: Die Flüchtlingskonferenz von Évian im Juli 1938 war ein diplomatisches Großereignis, auf dem Vertreter von über 30 Staaten und zahlreichen Hilfsorganisationen über Möglichkeiten der Emigration von Jüdinnen und Juden aus Deutschland und Österreich berieten.\\nPreisträgerinnen des Ingeborg-Bachmann-Wettbewerbs (Lesung), 19 Uhr, Haus des Buches: Ana Marwan, Maja Haderlap und Tamara Štajner wurden in den vergangenen Jahren in Klagenfurt (Österreich) für ihre Werke ausgezeichnet und lesen nun zusammen in Leipzig.\\nMittwoch, 26. März\\nEröffnung der Leipziger Buchmesse, 19 Uhr, Gewandhaus: Im Rahmen des Festaktes findet auch die Verleihung des Buchpreises zur Europäischen Verständigung an Alhierd Bacharević (Belarus) statt.\\nWeiterlesen nach der Anzeige\\nL3 - Lange Leipziger Lesenacht (Lesung), ab 19 Uhr, Moritzbastei: Lesungen mit Bettina Wilpert, Ana Wetherall-Grujic, Nils Mohl, Gesa Olkusz, Caspar-Maria Russo, Domenico Müllensiefen, Kathrin Bach, Joanna Yulia Kluge, Jaqueline Scheiber, Ta-Som Helena Yun, Clemens Meyer, Christina König, Katharina Bendixen, Christoph Narholz, Thea Mantwill, Susann Rehlein, Clemens Böckmann, Kristina Schilke, Michèle Yves Pauty, Fabian Neidhardt.\\n17. Lange Leipziger Kriminacht (Lesung), 19 Uhr, Central Kabarett: Mit dabei sind u.a. Jan Beck, Isabella Archan, Elizabeth Horn, Ingo Bott, Tilo Eckardt, Lars Menz und der gebürtige Leipziger Francis Mohr.\\nSand im patriarchalen Getriebe (Lesung): 19 Uhr, Frauenkultur: 1975 wurde der erste Frauenbuchladen in Deutschland gegründet – und dann ging es in einem rasanten Tempo weiter. Nahezu zeitgleich entstanden die ersten deutschen Frauenverlage. Autorin Doris Hermanns führt durch die Geschichte.\\nWeiterlesen nach der Anzeige\\nLadies Night der Holtzbrinck-Verlage, 19 Uhr, Buchhandlung Ludwig: Shelly Kupferberg im Gespräch mit Regina Denk, Sarah Lorenz, Susann Pásztor und Emily Rudolf.\\nNorwegische Literatur-Gala (Lesung), 19.30 Uhr, Haus des Buches: Das Gastland der Leipziger Buchmesse 2025 stellt die Werke von Matias Faldbakken, Tomas Espedal, Trude Teige, Erik Fosnes Hansen, Kjersti Anfinnsen und Vigdis Hjorth vor.\\nPoetry Slam zur Buchmesse 2025 (Show), 20 Uhr, Kupfersaal: Die Ankündigung verspricht auf der Bühne einige der besten Slammerinnen und Slammer des deutschsprachigen Raumes – inklusive musikalischer Überraschung.\\nDie Schwarze Königin II (Lesung), 20 Uhr, Thalia Innenstadt: Wenn Markus Heitz über Vampire schreibt, gibt es Action, Blutzoll & eine Geschichte voller Dramatik.\\nWorte statt Waffen (Lesung), 18 Uhr, Linxxnet: Jan van Aken, Bundesvorsitzender der Linkspartei, stellt sein Buch vor.\\nDonnerstag, 27. März\\nAUF DER NEUEN MESSE\\nWeiterlesen nach der Anzeige\\nEröffnung des Gastlandstandes, 11 Uhr, Messestand Norwegen, Halle 4: Zum großen Willkommen werden unter anderem die Autoren Karl Ove Knausgård und Maja Lunde erwartet. Auch die norwegische Kronprinzessin Mette Marit wollte bei der Veranstaltung auftreten, musste den Termin allerdings aus gesundheitlichen Gründen absagen.\\nTeufels Bruder, Thomas und Heinrich Mann auf Italienreise (Lesung), 12 Uhr, Forum Literatur, Halle 4: Matthias Lohre liest aus seinem Roman über die entscheidende Lebensphase von Thomas Mann.\\nTres Toni (Konzert), 12 Uhr, Große Bühne, Halle 3: Die japanischen Musikerinnen Alice Uehara, Chieko Kinugasa und Yuki Steinbach präsentieren die Vielfältigkeit ihres Heimatlandes und die deutsch-japanische Freundschaft.\\nWeiterlesen nach der Anzeige\\nDie Schule der Nacht (Gespräch), 12.30 Uhr, Messestand ARD, ZDF, Glashalle: Thea Dorn befragt den norwegischen Autoren Karl Ove Knausgård.\\nDeutscher Jugendliteraturpreis 2025 (Nominierungen), 14 Uhr, Große Bühne, Halle 3: Bekanntgabe der Nominierungen für den Deutschen Jugendliteraturpreis 2025\\nKI - Fake News, Deep Fakes und Propaganda (Diskussion), 16 Uhr, Forum Mensch & KI, Halle 5: Diskussion mit Johannes Pursche, Holger Volland und Prof. Dr. Bastian Martschink\\n#Booktok-Announcement (Gespräch), 16 Uhr, Große Bühne, Halle 3: In den letzten Jahren hat sich #BookTok zu einem der bedeutendsten Phänomene der Buchbranche entwickelt. Update zu den neuesten #BookTok-Zahlen und Austausch mit BookTok-Creatoren.\\nNeue weibliche Stimmen der Gegenwart (Lesung), 16 Uhr, Forum Literatur, Halle 2: Mit Annegret Liepold, Kristine Bilkau und Katharina Köller präsentieren drei Verlage herausragende neue weibliche Stimmen der Gegenwart.\\nWeiterlesen nach der Anzeige\\nSIGNIERSTUNDEN\\nKai Lüftner und Wiebke Rauers, 12 Uhr, Signierbereich – Tisch 7, Halle 4\\nDieter Hallervorden, 12 Uhr, Signierbereich – Tisch 1, Halle 4\\nMarkus Heitz, 15 Uhr, Hugendubel Phantastikbuchhandlung, Halle 3\\nLEIPZIG LIEST\\nWeiterlesen nach der Anzeige\\nWie schwer wiegt ein Schatten (Lesung), 17 Uhr, Ariowitsch-Haus: Christiane Wirtz liest im Rahmen von „Jüdische Lebenswelten” aus ihrem Debütroman.\\nLeben in der Schwebe (Lesung), 17 Uhr, naTo: Eine Beschreibung des Palästina-Konflikts aus der Perspektive des Gazastreifens mit Atef Abu Saif und Hartmut Fähndrich.\\nNorwegische Nacht (Lesung), 19 Uhr, Schaubühne Lindenfels: Liebe, Tod und Ewigkeit: Autorinnen und Autoren des Gastlandes Norwegen stellen ihre neuen Romane vor. Der Schauspieler Joachim Król liest einen bislang unveröffentlichten Text des Literaturnobelpreisträgers Jon Fosse.\\nDie Schule der Nacht (Gespräch), 19.30 Uhr, Schauspiel Leipzig: Der norwegische Erfolgsautor Karl Ove Knausgård stellt seinen neuen Roman vor.\\nTeufels Bruder und Heimweh im Paradies (Gespräch), 20 Uhr, Sächsische Akademie der Wissenschaften: Alexander Cammann (Die ZEIT) im Gespräch mit den Autoren Matthias Lohre und Martin Mittelmeier über ihre Werke zu Thomas Mann\\nWeiterlesen nach der Anzeige\\nDer große KATAPULT-Abend (Show), 20 Uhr, Ilses Erika: Das Magazin Katapult lädt ins Ilses Erika und feiert die neuen Bücher von Benjamin Fredrich, Goldeimer und Andrej Murasov aka Partizan.\\nDem Sturm entgegen (Lesung), 20 Uhr, Thalia Innenstadt: Die Weltbestsellerin Cecelia Ahern im Gespräch mit Moderatorin Margarete von Schwarzkopf.\\nZurück zur Wirklichkeit (Gespräch), 20.30 Uhr, Alte Handelsbörse: Luisa Neubauer (Fridays for Future) diskutiert mit Politologe Claus Leggewie und Berufsrevolutionär Daniel Cohn-Bendit.\\nGefährliche Betrachtungen, der Fall Thomas Mann (Lesung), 21 Uhr, Central Kabarett: Zwischen Dichtung und Wahrheit. Thomas Mann, wie Sie ihn noch nie erlebt haben.\\nLVZ'"
            ],
            "application/vnd.google.colaboratory.intrinsic+json": {
              "type": "string"
            }
          },
          "metadata": {}
        },
        {
          "output_type": "stream",
          "name": "stdout",
          "text": [
            "\n",
            "Frame: AI competition and market dynamics in tech industries\n",
            "Sentiment: 0\n",
            "Lexicon S: -5\n",
            "\n",
            "Was ist GAFAM? Wie Google, Apple, Facebook und Co. die Welt beeinflussen\n"
          ]
        },
        {
          "output_type": "display_data",
          "data": {
            "text/plain": [
              "'GAFAM – oder auch die Big Five – sind die größten IT-Unternehmen der Welt, nahezu jeder Mensch kommt in Kontakt mit ihren Geräten, Betriebssystemen, Programmen oder Onlinediensten. Welche Firmen zu GAFAM gehören, wie sie den Markt beeinflussen und welchen Gefahren ihre Monopolstellung birgt.\\nWas bedeutet GAFAM?\\nGAFAM ist ein Akronym, das die fünf größten amerikanischen Technologie-Unternehmen bezeichnet: Google, Apple, Facebook (heute Meta), Amazon und Microsoft.\\nSie sind die dominierenden Kräfte in der globalen Technologiebranche und haben einen erheblichen Einfluss auf die Wirtschaft und das tägliche Leben. GAFAM ist eine Erweiterung des Akronyms GAFA, das ursprünglich nur Google, Apple, Facebook und Amazon umfasste. Die GAFAM-Unternehmen sind nicht nur für ihre innovativen Produkte und Dienstleistungen bekannt, sondern auch für ihre enorme Marktkapitalisierung und ihre Fähigkeit, durch Übernahmen und Investitionen ständig zu wachsen und ihre Marktdominanz zu festigen.\\nDie fünf GAFAM-Unternehmen im Überblick\\nGoogle (Alphabet) ist bekannt für seine Suchmaschine und bietet eine breite Palette von Diensten wie E-Mail, Cloud-Speicher und Produktivitätstools an.\\nApple ist führend im Bereich der Premium-Hardware und -Software, insbesondere mit dem iPhone.\\nMeta (ehemals Facebook) dominiert den Social-Media-Markt und hat durch den Kauf von Instagram und WhatsApp seine Reichweite erweitert.\\nAmazon ist die führende Plattform für Online-Einkäufe und hat sich durch Amazon Web Services (AWS) auch im Cloud-Computing etabliert.\\nMicrosoft ist ein wichtiger Akteur im Softwaremarkt und baut seine Cloud-Computing-Angebote kontinuierlich aus. Jedes dieser Unternehmen hat seine Stärken und Schwächen, aber alle tragen sie maßgeblich zur digitalen Revolution bei und prägen die Art und Weise, wie wir kommunizieren, arbeiten und einkaufen.\\nWarum sind GAFAM so mächtig?\\nDie fünf GAFAM-Unternehmen – Google, Apple, Facebook (Meta), Amazon und Microsoft – gehören zu den wertvollsten und einflussreichsten Konzernen der Welt.\\nEin zentraler Grund für die enorme Macht dieser Konzerne ist ihre Marktbeherrschung.\\nGoogle kontrolliert über 90 % des globalen Suchmaschinenmarktes.\\nApple ist einer der führenden Smartphone-Hersteller und betreibt mit iOS ein geschlossenes Ökosystem.\\nFacebook (Meta) besitzt die größten sozialen Netzwerke wie Facebook, Instagram und WhatsApp.\\nAmazon ist der weltweit größte Online-Händler und dominiert den Cloud-Computing-Sektor mit AWS.\\nMicrosoft stellt mit Windows und Office marktführende Softwarelösungen bereits.\\nHinzu kommt die Kontrolle über die digitale Infrastruktur. Viele Unternehmen und Privatpersonen sind von den Cloud-Diensten, Betriebssystemen und Plattformen dieser Konzerne abhängig. Wer beispielsweise ein iPhone nutzt, ist automatisch in das Apple-Ökosystem eingebunden, während Firmen oft nicht auf Microsofts Softwarelösungen oder Amazons Cloud-Dienste verzichten können.\\nDie Big Five verfügen zudem über riesige Mengen an Nutzerdaten, die sie für gezielte Werbung, künstliche Intelligenz und Marktanalysen nutzen. Durch diese Datenmacht können sie nicht nur ihre eigenen Produkte optimieren, sondern auch neue Märkte erschließen und Wettbewerbsvorteile gegenüber kleineren Unternehmen sichern.\\nGAFAM investieren Milliarden in Forschung und Entwicklung, übernehmen Start-ups und treiben Innovationen in Bereichen wie Künstliche Intelligenz, Quantencomputer, autonomes Fahren und Virtual Reality voran.\\nDie Big Five haben auch gesellschaftlich enorme Auswirkungen. So beeinflussen soziale Netzwerke die öffentliche Meinungsbildung und politische Debatten, während Amazons Geschäftsmodell den Einzelhandel massiv verändert hat. Gleichzeitig schaffen GAFAM Millionen von Arbeitsplätzen, setzen jedoch durch Automatisierung traditionelle Berufsfelder unter Druck.\\nKritik an GAFAM\\nDie großen Tech-Unternehmen Google, Apple, Facebook (Meta), Amazon und Microsoft haben viel Einfluss. Doch ihre Macht bringt auch Probleme mit sich, etwa in Bezug auf Datenschutz, den Wettbewerb auf dem Markt oder sogar ihren Einfluss auf Politik und Gesellschaft:'"
            ],
            "application/vnd.google.colaboratory.intrinsic+json": {
              "type": "string"
            }
          },
          "metadata": {}
        },
        {
          "output_type": "stream",
          "name": "stdout",
          "text": [
            "\n",
            "Frame: AI impacts on businesses, economy, and jobs\n",
            "Sentiment: 0\n",
            "Lexicon S: -5\n",
            "\n",
            "Goldener Handschlag: Bei SAP wollen überraschend viele Angestellte gehen\n"
          ]
        },
        {
          "output_type": "display_data",
          "data": {
            "text/plain": [
              "'close notice\\nThis article is also available in English. It was translated with technical assistance and editorially reviewed before publication.\\n.\\nDas Abfindungs- und Vorruhestandsprogramm, mit dem SAP allein in Deutschland Berichten nach rund 2600 Stellen abbauen will, findet in der Belegschaft wohl großen Anklang: Wie das Handelsblatt unter Berufung auf Unternehmenskreise berichtet, hätten sich bis zur Frist Ende Mai rund 5300 Angestellte für den goldenen Handschlag gemeldet. Davon sollen sich rund 60 Prozent für den Vorruhestand angemeldet haben, der Rest wolle das Unternehmen mit Abfindung verlassen.\\nAnzeige\\nSAP wollte die Zahl weder bestätigen noch dementieren. \"Aufgrund der Attraktivität beider Programme haben wir erwartungsgemäß ein sehr hohes Interesse verzeichnet\", sagte ein Sprecher. Der Stellenabbau ist Teil einer \"Transformation\", die Chef Christian Klein dem Software-Unternehmen verordnet hat: Weltweit sollen 8000 Stellen wegfallen, Berichten nach sollen es in Deutschland rund 2600 sein. In gleichem Umfang sollen aber auch neue Stellen geschaffen werden. SAP soll sich so stärker auf \"Wachstumsbereiche\" wie künstliche Intelligenz fokussieren und auf mehr Effizienz und Gewinn getrimmt werden.\\nDer Abbau soll allein auf Freiwilligkeit und ohne betriebsbedingte Kündigungen laufen. Offen ist, ob SAP angesichts der Nachfrage noch weiter beim Stellenabbau geht. Das Handelsblatt will aus Managementkreisen erfahren haben, dass es \"einen gewissen Spielraum für tiefere Einschnitte gebe\".\\nFrust über Büropflicht\\nAm 17. Juni sollen alle Angemeldeten dann Bescheid über den Status ihrer Anmeldung erhalten. Sofern das Unternehmen ein Angebot macht, müsste mit dem Mitarbeiter dann ein Aufhebungsvertrag ausgehandelt werden. SAP prüft eigenen Angaben nach anhand \"objektiver\" Kriterien, die zuvor auch mit dem Betriebsrat abgestimmt worden seien. Geschäftsrisiken, etwa durch den \"Verlust kritischen Know-hows\", wolle man dabei vermeiden. \"Deshalb können wir voraussichtlich nicht allen Interessierten ein Angebot machen, da unser Programm auf gegenseitiger Zustimmung beruht\", sagte der Sprecher.\\nSAP nennt keine Zahlen über die Höhe der Angebote. Den Berichten nach könnten Mitarbeiter mit 20 und mehr Jahren Betriebszugehörigkeit etwa eine Sonderzahlung in Höhe von 33,5 Monatsgehältern erhalten. Ein zusätzlicher Anreiz, SAP zu verlassen, könnte auch der in der Belegschaft aufgestaute Frust über den Kurs von CEO Klein sein. Anfang des Jahres hatte er etwa mit der Einführung einer dreitägigen Büropflicht für wütende Proteste gesorgt.'"
            ],
            "application/vnd.google.colaboratory.intrinsic+json": {
              "type": "string"
            }
          },
          "metadata": {}
        },
        {
          "output_type": "stream",
          "name": "stdout",
          "text": [
            "\n"
          ]
        }
      ]
    },
    {
      "cell_type": "code",
      "source": [
        "df = pd.read_csv('/content/drive/MyDrive/Mediacloud/Brazil/inteligência_artificial_brazil_cleaned_2024-06-01_2025-06-01_frames_sentiments_newsplease_mediacloud_gemini_2-5.csv')\n",
        "df[\"sentiment_lexicon\"] = df[\"maintext\"].apply(get_sentiment)\n",
        "len(df)"
      ],
      "metadata": {
        "colab": {
          "base_uri": "https://localhost:8080/"
        },
        "id": "wUB6U1ejz-7k",
        "outputId": "9992f883-5a40-4b94-b298-625837222896"
      },
      "execution_count": null,
      "outputs": [
        {
          "output_type": "execute_result",
          "data": {
            "text/plain": [
              "1000"
            ]
          },
          "metadata": {},
          "execution_count": 21
        }
      ]
    },
    {
      "cell_type": "code",
      "source": [
        "df_sample = df.sample(n=10, random_state=42)\n",
        "df_sample = df_sample.reset_index(drop=True)\n",
        "len(df_sample)"
      ],
      "metadata": {
        "colab": {
          "base_uri": "https://localhost:8080/"
        },
        "id": "C6joUFWb1KTA",
        "outputId": "fd80e202-b03a-48b1-d8ad-cfaeb93f892e"
      },
      "execution_count": null,
      "outputs": [
        {
          "output_type": "execute_result",
          "data": {
            "text/plain": [
              "10"
            ]
          },
          "metadata": {},
          "execution_count": 22
        }
      ]
    },
    {
      "cell_type": "code",
      "source": [
        "#Gemini 2.5 frames     BR:  8/10 -> 1111110011 80%\n",
        "#Gemini 2.5 sentiments BR:  9/10 -> 1101111111 90%\n",
        "#Lexicon sentiments    BR:  2/10 -> 1001000000 100%"
      ],
      "metadata": {
        "id": "OpC6Rn3G1TCA"
      },
      "execution_count": null,
      "outputs": []
    },
    {
      "cell_type": "code",
      "source": [
        "for i in range(len(df_sample)):\n",
        "    print(\"Frame:\", df_sample.frame[i])\n",
        "    print(\"Sentiment:\", df_sample.sentiment[i])\n",
        "    print(\"Lexicon S:\", df_sample.sentiment_lexicon[i])\n",
        "    print()\n",
        "    print(df_sample.title[i])\n",
        "    display(df_sample.maintext[i])\n",
        "    print()"
      ],
      "metadata": {
        "colab": {
          "base_uri": "https://localhost:8080/",
          "height": 1000
        },
        "id": "WAa_P72q1dNX",
        "outputId": "2cb9cf75-7cdf-4d0c-929e-dea53a63a6ee"
      },
      "execution_count": null,
      "outputs": [
        {
          "output_type": "stream",
          "name": "stdout",
          "text": [
            "Frame: AI impacts on businesses, economy, and jobs\n",
            "Sentiment: 4\n",
            "Lexicon S: 3\n",
            "\n",
            "Brasil Bitcoin movimenta R$ 625 milhões no 1° semestre de 2024 e anuncia nova empresa com foco em KYC e Antifraude\n"
          ]
        },
        {
          "output_type": "display_data",
          "data": {
            "text/plain": [
              "'A Brasil Bitcoin, uma das principais corretoras de criptomoedas do país, anunciou um crescimento expressivo no primeiro semestre de 2024, movimentando R$ 625 milhões. Esse resultado foi revelado durante o primeiro B8 Connect, evento que teve como objetivo conectar clientes e empresas ao ecossistema em expansão da companhia.\\nDestaques do B8 Connect\\nO B8 Connect contou com a participação de 50 representantes de grandes empresas como BTG, XP, Tether, Binance, Creditas, além de influenciadores e executivos do mercado digital. Durante o evento, foram apresentadas as inovações e resultados da Brasil Bitcoin, incluindo o lançamento da B8 Safe, nova empresa focada em KYC (Conheça seu Cliente) e Antifraude.\\nA B8 Safe se destaca pela maior assertividade, conversão e experiência nos processos de onboarding e verificação de identidade, utilizando machine learning e inteligência artificial.\\nA jornada da B8 Safe começou com uma necessidade interna da Brasil Bitcoin: melhorar o processo de onboarding e antifraude transacional para seus clientes. Ao buscar soluções no mercado, a Brasil Bitcoin se deparou com preços extremamente altos e contratos de longa duração. Para resolver essa questão, a empresa desenvolveu internamente um sistema proprietário de KYC e Antifraude.\\nO sucesso desse sistema interno, aliado à identificação de dores semelhantes em outras empresas, levou a Brasil Bitcoin a criar uma nova empresa para distribuir essa solução: a B8 Safe.\\nAlém disso, a Brasil Bitcoin exibiu seus avanços, como a funcionalidade de pagamento via Pix com criptomoedas e a SophIA, a primeira assistente pessoal IA do mundo cripto.\\nO evento também premiou clientes que negociaram R$ 10 milhões e R$ 100 milhões com a corretora em 2024, reforçando o compromisso da empresa com a excelência em estrutura, atendimento e inovação.\\nVisão de Futuro\\nO B8 Connect marcou a intenção da Brasil Bitcoin de se tornar uma organizadora de eventos cada vez maior e mais relevante no setor. A próxima edição do evento promete uma estrutura e programação ainda mais ambiciosas.\\n\"Acreditamos que o mercado brasileiro tem grande potencial para eventos no setor, e estamos determinados a liderar essa iniciativa.\" afirmou Jorge Alves, CEO e Sócio da Brasil Bitcoin.'"
            ],
            "application/vnd.google.colaboratory.intrinsic+json": {
              "type": "string"
            }
          },
          "metadata": {}
        },
        {
          "output_type": "stream",
          "name": "stdout",
          "text": [
            "\n",
            "Frame: AI in national security and global partnerships\n",
            "Sentiment: 4\n",
            "Lexicon S: -5\n",
            "\n",
            "Luciana anuncia novas parcerias com a China para o avanço da ciência brasileira\n"
          ]
        },
        {
          "output_type": "display_data",
          "data": {
            "text/plain": [
              "'“Ciência, Tecnologia e Inovação ocupam um espaço central nos resultados da visita de Estado do presidente Xi Jinping ao Brasil”, afirmou a ministra\\nA ministra da Ciência, Tecnologia e Inovação, Luciana Santos, anunciou a concretização de cinco acordos com instituições chinesas que permitirão ao Brasil obter tecnologias avançadas nas áreas de tecnologia nuclear, agricultura familiar, indústria fotovoltaica, inteligência artificial e fonte de luz síncrotron. O anúncio se dá no momento em que o presidente chinês Xi Jinping será recebido no Brasil pelo presidente Lula.\\n“Com esses cinco instrumentos de intercâmbio firmados, estamos passando uma mensagem importante, no sentido de que Ciência, Tecnologia e Inovação ocupam um espaço central nos resultados da visita de Estado do presidente Xi Jinping ao Brasil”, afirmou a ministra, na quinta-feira (16). Xi Jinping chega ao Brasil para participar da reunião da Cúpula do G20 na próxima segunda-feira (18) e terça-feira (19), no Rio de Janeiro. Ele será recebido por Lula no Palácio da Alvorada.\\nLuciana destacou que o intercâmbio científico e tecnológico e a cooperação entre os dois países “aumentarão as sinergias e trarão benefícios mútuos aos respectivos setores acadêmicos e produtivos”. Os acordos fazem referência ao campo das aplicações de tecnologia nuclear, “especialmente”, afirmou a ministra, “na pesquisa e desenvolvimento de novos radiofármacos, ensaios clínicos, transformação industrial, localização e escalonamento da produção de radiofármacos e disposição de resíduos radioativos”.\\nO ministro-conselheiro para os temas de Ciência e Tecnologia da Embaixada da China no Brasil, Jiang Dehua, que esteve com a ministra na sede do MCTI, afirmou que “a China está disposta a trabalhar com o Brasil para implementar os importantes consensos alcançados pelos dois presidentes, fortalecer a conexão entre a iniciativa do Cinturão e Rota e a estratégia de desenvolvimento do Brasil”.\\nEle destacou que os dois países já possuem uma cooperação frutífera em áreas como tecnologia espacial, ciência básica, biotecnologia, mudanças climáticas e saúde pública. “Os satélites de recursos terrestres, desenvolvidos em conjunto por China e Brasil, têm mais de 34 anos de história e são considerados um exemplo de cooperação Sul-Sul”.\\nUm dos novos acordos anunciados pela atual gestão foi com o presidente da Autoridade de Energia Atômica da China, Liu Jing. O acordo visa fortalecer a cooperação em capacidade produtiva, ancoragem industrial e desenvolvimento de recursos humanos nas aplicações de ciência e tecnologia nuclear na saúde e em outros campos.\\nLuciana Santos assinalou que essa cooperação poderá contribuir com duas ações importantes do ministério: o Centro Tecnológico Nuclear e Ambiental (CENTENA), para desenvolvimento tecnológico na área de gerência de rejeitos e meio ambiente, e o Reator Multipropósito Brasileiro, que se destina à pesquisa e produção de radioisótopos aplicados na medicina, agricultura, indústria e testes de materiais.\\n“Os outros quatro instrumentos foram assinados com os Ministérios de Ciência e Tecnologia e de Indústria e TICs da China. Os memorandos tratam da criação de um Programa Sino-Brasileiro de Fonte de Luz Síncrotron; do estabelecimento do Laboratório Conjunto em Mecanização e Inteligência Artificial para Agricultura Familiar; do aprimoramento da cooperação no desenvolvimento de capacidades em Inteligência Artificial; e da cooperação na indústria fotovoltaica”, informa o MCTI.'"
            ],
            "application/vnd.google.colaboratory.intrinsic+json": {
              "type": "string"
            }
          },
          "metadata": {}
        },
        {
          "output_type": "stream",
          "name": "stdout",
          "text": [
            "\n",
            "Frame: AI-based innovative solutions\n",
            "Sentiment: 0\n",
            "Lexicon S: -1\n",
            "\n",
            "Radares de Belém flagram mais de 104 mil infrações em 7 meses\n"
          ]
        },
        {
          "output_type": "display_data",
          "data": {
            "text/plain": [
              "'Radares de trânsito registraram 104.702 infrações no período de seis meses, em Belém. A maior parte das violações às leis de trânsito observadas foram por excesso de velocidade, problema que ocorre principalmente na avenida João Paulo II, conforme informações da Superintendência Executiva de Mobilidade Urbana de Belém (Semob).\\nEste ano, Belém já teve um incremento de 21 novos radares, considerando os seis novos que entraram em funcionamento em abril e outros quinze que passaram a operar desde junho deste ano. A Semob detalha que o radar é um medidor que fiscaliza excesso de velocidade, avanço de sinal e parada em cima da faixa de pedestre.\\nVEJA MAIS\\nConforme as aferições da fiscalização, o excesso de velocidade é a infração mais cometida pelos condutores, e um ponto específico da cidade tem contabilizado o maior número desse tipo de violação à lei de trânsito: a avenida João Paulo II, em frente ao Batalhão de Polícia Ambiental (BPA).\\nAlém dos radares, outro tipo de fiscalização eletrônica, regulamentada pelo Conselho Nacional de Trânsito (Contran), compõe a estrutura de trânsito de Belém: as câmeras de videomonitoramento. Junto com os radares, esses equipamentos auxiliam o agente de trânsito na análise e aplicação das autuações.\\nDiferente dos radares, as câmeras de videomonitoramento monitoram as demais infrações, como falta de uso do capacete, estacionamento irregular, transitar na ciclofaixa, uso do celular ao volante e conversão irregular. Desde abril de 2024, o Centro de Controle de Operações (CCO), gerenciado pela Semob, adotou o uso das câmeras de videomonitoramento, que contam com a ajuda da inteligência artificial.'"
            ],
            "application/vnd.google.colaboratory.intrinsic+json": {
              "type": "string"
            }
          },
          "metadata": {}
        },
        {
          "output_type": "stream",
          "name": "stdout",
          "text": [
            "\n",
            "Frame: AI regulations, ethics, and data privacy\n",
            "Sentiment: -3\n",
            "Lexicon S: -5\n",
            "\n",
            "Biden alerta na ONU contra 'guerra em grande escala' no Líbano\n"
          ]
        },
        {
          "output_type": "display_data",
          "data": {
            "text/plain": [
              "'TIMOTHY A. CLARY\\nO presidente americano, Joe Biden, alertou, nesta terça-feira (24), sobre o perigo de uma \"guerra em grande escala\" no Líbano, um país que \"está à beira do abismo\", segundo alertou o chefe da ONU, na abertura da Assembleia Geral das Nações Unidas.\\n\"Uma guerra em grande escala não beneficia ninguém. Embora a situação tenha se agravado, ainda é possível uma solução diplomática\", afirmou Biden na sede da ONU em Nova York.\\nEm seu último discurso como presidente dos Estados Unidos ante esse fórum, Biden também instou a alcançar um cessar-fogo em Gaza, que \"trará de volta para casa os reféns e garantirá a segurança de Israel e Gaza livre do controle do Hamas, aliviará o sofrimento em Gaza e colocará fim a essa guerra\".\\nO alerta de Biden chegou momentos depois de o secretário-geral das Nações Unidas, Antonio Guterres, advertir que \"o povo libanês, o povo israelense e os povos do mundo não podem permitir que o Líbano se torne outra Gaza\".\\n\"Gaza é um pesadelo permanente que ameaça arrastar toda a região no caos, começando pelo Líbano\", afirmou diante dos governantes e representantes dos 193 países da ONU, antes de pedir à comunidade internacional que se \"mobilize para um cessar-fogo imediato e a libertação incondicional de todos os reféns\" israelenses sob poder do Hamas\\n\"Todos deveríamos estar alarmados por essa escalada\", disse Guterres que também denunciou o \"odioso\" ataque de 7 de outubro do movimento islamista Hamas em solo israelense, mas, disse que \"nada pode justificar o castigo coletivo\" que o povo palestino está sofrendo nas mãos de Israel.\\nEm um discurso interrompido várias vezes pelos aplausos, Guterres alertou que o estado do mundo é \"insustentável\". \"Não podemos seguir assim\", disse.\\nQuase um ano depois do início da guerra em Gaza, o conflito ameaça se propagar para a região. Os bombardeios israelenses contra o Hezbollah libanês, apoiado pelo Irã, deixaram cerca de 500 mortos na segunda, no dia mais mortal em quase um ano de disputas entre Israel e o grupo xiita.\\nEm um discurso depois de Guterres e Biden, o presidente turco, Recep Tayyip Erdogan, acusou Israel de \"arrastar toda a região para a guerra\". Na segunda, o novo presidente iraniano, Masud Pezeshkian, acusou os israelenses de quererem \"ampliar\" o conflito no Oriente Médio.\\n- Lula e América Latina -\\nOs diversos conflitos que assolam o mundo, não apenas a Faixa de Gaza e Líbano, mas também Ucrânia e Sudão, ameaçam eclipsar outras preocupações como a mudança climática, os riscos da Inteligência Artificial ou o desenvolvimento econômico, assim como a própria capacidade da ONU para enfrentar os desafios atuais e futuros.\\nAbrindo os trabalhos da Assembleia Geral, o presidente Luiz Inácio Lula da Silva disse que é \"inaceitável\" que a América Latina e África não tenham um assento permanente no Conselho de Segurança da ONU.\\n\"A exclusão da América Latina e da África de postos permanentes no Conselho de Segurança é um eco inaceitável das práticas de dominação do passado colonial\", afirmou Lula, lembrando que \"estamos chegando ao final do primeiro quarto do século XXI com as Nações Unidas cada vez mais esvaziadas e paralisadas\".\\nÉ hora de \"restituir à organização as prerrogativas inerentes à sua condição de fórum universal\", e dotá-la dos meios necessários para \"enfrentar as mudanças vertiginosas do panorama internacional\", disse.\\nEm seu discurso, Lula ainda deu as boas-vindas à delegação palestina, em meio a aplausos.\\n- \"Cortejo de misérias humanas\" -\\nPor sua vez, o presidente ucraniano, Volodimir Zelensky, subirá ao púlpito na quarta-feira, mas, nesta terça-feira, participará de uma reunião do Conselho de Segurança da ONU para abordar o conflito da Ucrânia.\\n\"A paz está sendo atacada por todas as partes\", alertou o secretário Guterres, que pede que se ponha fim \"ao cortejo de misérias humanas\".\\nAlém de Lula e de vários contrapartes sul-americanos, desfilaram na tribuna da Assembleia Geral o presidente da Autoridade Palestina, Mahmud Abbas, e o primeiro-ministro israelense, Benjamin Netanyahu, além do indiano Narendra Modi.\\nA crise vivida pela Venezuela após as eleições presidenciais de 28 de julho, cuja vitória foi atribuída a Nicolás Maduro em meio às denúncias de fraude da oposição, os riscos da desinformação para as democracias - discussão promovida pelo presidente de Governo espanhol, Pedro Sánchez, e Lula - tiraram momentaneamente o foco dos conflitos bélicos.\\nDos mais de cem chefes de Estado e de Governo que falarão na tribuna, muitos já falaram na \"Cúpula do Futuro\", que nos últimos dias abordou os desafios mais importantes que a humanidade enfrenta.'"
            ],
            "application/vnd.google.colaboratory.intrinsic+json": {
              "type": "string"
            }
          },
          "metadata": {}
        },
        {
          "output_type": "stream",
          "name": "stdout",
          "text": [
            "\n",
            "Frame: AI regulations, ethics, and data privacy\n",
            "Sentiment: -4\n",
            "Lexicon S: 4\n",
            "\n",
            "Verdadeiro Brad Pitt se manifesta após mulher perder R$ 5 mi por achar que vivia caso com ator - 16/01/2025\n"
          ]
        },
        {
          "output_type": "display_data",
          "data": {
            "text/plain": [
              "'O ator Brad Pitt criticou publicamente um golpe realizado por um impostor que usou inteligência artificial para se passar por ele e enganar uma mulher na França. A vítima, de 53 anos, perdeu cerca de R$ 5 milhões (830 mil euros) ao acreditar que mantinha um relacionamento amoroso com a estrela de Hollywood.\\nA mulher revelou, em entrevista à televisão francesa TF1, que o golpista a conquistou com declarações de amor e até um pedido de casamento. Durante cerca de um ano e meio, ela acreditou estar envolvida com Pitt, que teria pedido dinheiro para custear um suposto tratamento contra câncer nos rins.\\nApós a repercussão do caso, um porta-voz do ator declarou: \"É terrível que golpistas se aproveitem do vínculo forte entre fãs e celebridades. Isso serve como um importante lembrete para que as pessoas não respondam a mensagens não solicitadas, especialmente de atores que não estão presentes nas redes sociais\".\\nImpostor usou tecnologia para se passar por Brad Pitt\\nDe acordo com as investigações, os criminosos inicialmente pediram dinheiro para cobrir taxas alfandegárias de bolsas de luxo que o falso Pitt prometera enviar. Em seguida, usaram imagens manipuladas para convencer a vítima de que o ator estava hospitalizado. Mesmo com alertas da filha de que se tratava de um golpe, a mulher insistiu na veracidade da relação.\\n\"São poucos os homens que sabem escrever dessa forma. Eu amava o homem com quem conversava. Era tudo muito bem planejado\", disse ela. A desconfiança começou no verão de 2024, quando imagens do verdadeiro Brad Pitt ao lado de sua parceira, Inès de Ramon, vieram à tona.'"
            ],
            "application/vnd.google.colaboratory.intrinsic+json": {
              "type": "string"
            }
          },
          "metadata": {}
        },
        {
          "output_type": "stream",
          "name": "stdout",
          "text": [
            "\n",
            "Frame: AI transformations in education and research\n",
            "Sentiment: 5\n",
            "Lexicon S: -4\n",
            "\n",
            "Evento na Unimar traz palestras e minicursos sobre inovação e IA\n"
          ]
        },
        {
          "output_type": "display_data",
          "data": {
            "text/plain": [
              "'Começou nesta segunda-feira (9) o Unimar Tech Summit 2024, um dos maiores eventos de tecnologia e inovação do interior paulista. Organizada pelos cursos de Ciência da Computação, Análise e Desenvolvimento de Sistemas e Inteligência Artificial da Universidade de Marília (Unimar), a iniciativa tem o objetivo de discutir as tendências mais inovadoras da área, com palestras de especialistas renomados e aprendizado prático por meio de diversos minicursos.\\nSegundo o coordenador dos cursos de Tecnologia da Informação da Unimar, Caio Saraiva Coneglian, o Unimar Tech Summit promove aprendizado e oferece valiosas oportunidades de networking. “Com o lançamento do curso de Inteligência Artificial e a inauguração do Parque Computacional, estamos criando um ambiente único para explorar as inovações que estão moldando o futuro da tecnologia. Nosso objetivo é solidificar ainda mais a posição da Unimar como um polo de excelência em tecnologia e inovação no Brasil.”\\nO evento começou com o lançamento do curso de Inteligência Artificial, seguido pela palestra “Inteligência Artificial: Oportunidades e Desafios”, ministrada por Mateus Roder, especialista na área com mestrado e doutorado em Inteligência Artificial. Na sequência, Gustavo Lahr, professor assistente do curso de bacharelado em Engenharia Biomédica da Faculdade Israelita de Ciências da Saúde do Hospital Israelita Albert Einstein e pesquisador do Instituto do Cérebro da mesma instituição, conduziu uma discussão sobre “O impacto da Inteligência Artificial na saúde”.\\nNesta terça-feira (10), os participantes poderão acompanhar a inauguração do Parque Computacional às 18h, esse que é um novo marco para o avanço tecnológico da Unimar. Em seguida, às 19h30, a palestra do Geraldo Pereira, especialista em Transformação Digital e Gestão de TI, sobre a “Jornada para aplicação de tecnologias na indústria” mostrará como a inovação está moldando o futuro industrial. Para encerrar o dia, haverá uma apresentação sobre “Como iniciar a sua startup”, em parceria com a Leavening-Unimar, com Ezequiel Ribeiro, especialista em gestão de processos e sistemas de informação.\\nNa quarta (11), o evento trará uma palestra técnica sobre “Continuous Testing”, ministrada por Mayara Fernandes, Staff Software Engineer na Neon Tecnologia, empresa desenvolvedora do banco digital da fintech Neon Pagamentos. Em seguida, os participantes vão conferir as novidades sobre “A Carreira em Desenvolvimento de Software: do Estágio à Liderança”, com o David Silva. O dia será finalizado com o painel “O profissional do futuro: Como ser um profissional de destaque no mercado”, ministrado por Robinson Gregorato.\\nA quinta (12) será dedicada a uma série de minicursos especializados, com opções que vão desde Bootstrap, Docker e Electron, até Infraestrutura como Código com Terraform e PHP/Laravel, oferecendo uma excelente oportunidade de capacitação prática para desenvolvedores e entusiastas da área. Na sexta (13), será realizado um Hackathon Pedbot, em que os participantes poderão aplicar seus conhecimentos em um desafio colaborativo de inovação.\\nO Unimar Tech Summit 2024 conta com o apoio de importantes parceiros que contribuem para o sucesso do evento. Fulltime, Tray, Leavening, Eficaz, DSIN, Fábrica de Códigos, Bredas, Telecontrol, Avivatec, Interfocus e Pedbot são empresas que, com sua expertise e compromisso com a inovação, ajudam a tornar este encontro um marco no calendário de tecnologia e inovação.\\nCom uma programação robusta e diversificada, o Unimar Tech Summit 2024 promete ser um evento de referência para todos aqueles que desejam estar à frente no mundo da tecnologia. “O Unimar Tech Summit é mais do que um encontro, é uma oportunidade para nossos alunos e toda a comunidade se conectarem com as inovações que estão moldando o futuro. Este ano, com o lançamento do curso de Inteligência Artificial e a inauguração do Parque Computacional, damos mais um grande passo para consolidar a Unimar como referência em tecnologia no Brasil”, finaliza.'"
            ],
            "application/vnd.google.colaboratory.intrinsic+json": {
              "type": "string"
            }
          },
          "metadata": {}
        },
        {
          "output_type": "stream",
          "name": "stdout",
          "text": [
            "\n",
            "Frame: AI-based innovative solutions\n",
            "Sentiment: 0\n",
            "Lexicon S: -3\n",
            "\n",
            "Eleita a mulher mais bonita do mundo, influencer afirma sofrer de Samhainofobia; entenda\n"
          ]
        },
        {
          "output_type": "display_data",
          "data": {
            "text/plain": [
              "'Janaína Prazeres, eleita a mulher mais bonita do mundo segundo a inteligência artificial pela revista \"Playboy\", revelou sofrer de Samhainofobia, uma fobia específica associada ao Halloween. Essa condição provoca medo ou ansiedade intensos, especialmente em relação às fantasias e decorações típicas da data.\\n\"Eu achava que meu desconforto era apenas por não gostar de me ver feia no espelho, mas com o tempo percebi que era algo maior, um medo incontrolável, não apenas sobre me vestir de forma assustadora para o Halloween\", explica a modelo.\\nJanaína compartilha episódios em que a fobia afetou sua vida. Em uma ocasião, ela teve que deixar uma festa ao entrar em pânico ao ver um convidado fantasiado de monstro. \"Foi como se eu estivesse sendo perseguida. Saí correndo da festa sem nem me despedir\", relembra. Em outro episódio, a influenciadora precisou cancelar um compromisso por não conseguir lidar com as decorações de Halloween no local: \"Eu sabia que não conseguiria entrar, então preferi evitar o estresse.\"\\nJanaína relata que a pressão estética e o rótulo de \"a mulher mais bonita do mundo\" também afetam sua vida amorosa. \"Os homens julgam você apenas pela beleza. Parece que não se pode ser bonita e inteligente ao mesmo tempo — você tem que escolher uma coisa ou outra\", diz.\\nEm um relacionamento anterior, seu autocuidado foi motivo de conflito. \"Eu demorava horas para me arrumar. Um pretendente me esperou por duas horas e disse que isso era inadmissível\", conta.\\nPara lidar com essas questões, Janaína faz terapia semanalmente. Uma das tarefas propostas pelo terapeuta foi que ela ficasse 48 horas sem se olhar no espelho. \"Foi um exercício muito difícil, mas admito que foi libertador. Me fez refletir sobre o quanto a imagem molda a maneira como me veem e como isso me afeta\", conclui.'"
            ],
            "application/vnd.google.colaboratory.intrinsic+json": {
              "type": "string"
            }
          },
          "metadata": {}
        },
        {
          "output_type": "stream",
          "name": "stdout",
          "text": [
            "\n",
            "Frame: AI-based innovative solutions\n",
            "Sentiment: 3\n",
            "Lexicon S: -5\n",
            "\n",
            "Brasil sobe no Índice de Desenvolvimento Humano, mas fica atrás de Irã e Bósnia\n"
          ]
        },
        {
          "output_type": "display_data",
          "data": {
            "text/plain": [
              "'Brasil Brasil sobe no Índice de Desenvolvimento Humano, mas fica atrás de Irã e Bósnia\\nPor Redação O Sul | 6 de maio de 2025\\nO Brasil é o 84.º colocado no ranking global de Índice de Desenvolvimento Humano (IDH), divulgado nesta terça-feira, 6, pelo Programa das Nações Unidas para o Desenvolvimento (Pnud). A lista tem 193 posições. O IDH varia de 0 a 1 — quanto mais próximo de 1, melhor a pontuação do país.\\nO índice brasileiro ficou em 0,786 e foi classificado na faixa de “alto desenvolvimento humano” em 2023, ano a que os dados do ranking atual se referem. No ranking divulgado no ano passado, referente aos dados de 2022, o Brasil estava em 89.º, com IDH de 0,760. Subiu, portanto, cinco posições de 2022 para 2023.\\nO País, porém, ainda está abaixo de outros países latino-americanos como Peru, México e Colômbia, e de nações de outros continentes, como Irã e Bósnia.\\nFator pandemia\\nAssim como o restante do mundo, o Brasil teve uma queda no IDH durante a pandemia de covid-19, de 2020 a 2022, e apresentou recuperação de 2022 para 2023.\\nO relatório da ONU mostra, porém, que o progresso no desenvolvimento humano não retornou à trajetória projetada antes de 2020. Essa desaceleração afeta todas as regiões do globo e deve “atrasar” em décadas o alcance de um IDH global muito alto, anteriormente projetado para 2030.\\nO documento aborda a rápida ascensão da inteligência artificial em um momento de incertezas e de estreitamento dos caminhos para o desenvolvimento humano existentes até então.\\n“Acreditamos que uma abordagem para a IA centrada nos seres humanos tem, de fato, o potencial de reescrever o manual do desenvolvimento e reacender o nosso progresso (a nível mundial)”, afirma o administrador do Pnud Adam Steiner.\\nSaiba mais\\nO índice foi publicado pela primeira vez em 1990 e é calculado anualmente. Foi criado como contraponto ao Produto Interno Bruto (PIB) per capita, que considera somente a dimensão econômica do desenvolvimento. O IDH leva em conta as dimensões de renda, educação e saúde, mensuradas por diferentes indicadores:\\n• expectativa de vida;\\n• média de anos de escolaridade da população adulta, a partir de 25 anos;\\n• expectativa de anos de escolaridade para crianças no início da vida escolar (número total de anos de escolaridade que uma criança deve receber se os padrões prevalecentes de taxas de matrícula por idade permanecerem os mesmos durante a vida);\\n• padrão de vida, medido pela Renda Nacional Bruta (RNB) per capita convertida em poder de paridade de compra (PPP) em dólar, tendo 2005 como ano de referência.\\nOutros indicadores\\nO relatório da ONU também fornece indicadores complementares ao IDH, tais como\\n• o Índice de Desenvolvimento Humano Ajustado à Desigualdade, que leva em consideração a distribuição desigual das três dimensões de desenvolvimento humano entre a população de um país, ficou em 0,594 em 2023 no caso do Brasil;\\n• o Índice de Desigualdade de Gênero, calculado com base em indicadores de saúde reprodutiva, autonomia e atividade econômica entre os gêneros, em que valores mais altos indicam maior desigualdade: foi de 0,390 em 2023 no Brasil, 96.ª posição entre os países;\\n• o Índice de Pobreza Multidimensional, identifica privações múltiplas, em educação, saúde e renda, nos domicílios, – varia de 0 e 1, sendo que 0 representa ausência de pobreza e 1 representa pobreza extrema -, foi de 0,016.\\nCenário global\\nO IDH global atingiu o valor de 0,756 em 2023, tendo o menor aumento em relação ao ano anterior desde o início da série histórica, em 1990. “Em âmbito global, o Índice de Desenvolvimento Humano teve o menor progresso já registrado, excluindo o período em que houve declínio, em 2020 e 2021″, afirma Pedro Conceição, diretor do Undp (Escritório do Relatório de Desenvolvimento Humano).\\nAo mesmo tempo, o órgão aposta no potencial da Inteligência Artificial para criar novas formas de impulsionar o desenvolvimento humano, desde que as escolhas de como empregá-la privilegiem as pessoas.\\n“A IA não é uma solução milagrosa ou uma bala de prata para resolver nossos problemas sociais e econômicos, mas podemos usá-la para potencializar o que os humanos fazem muito bem”, complementa.\\nO documento também aponta um aprofundamento nas desigualdades entre países ricos e pobres, que vinham se reduzindo nas últimas décadas.\\nA distância entre nações de IDH muito alto e baixo cresceu pelo quarto ano consecutivo, revertendo a tendência de longo prazo anterior, de redução das desigualdades. Com informações do jornal O Estado de S. Paulo\\nVoltar Todas de Brasil\\nhttps://www.osul.com.br/brasil-sobe-no-indice-de-desenvolvimento-humano-mas-fica-atras-de-ira-e-bosnia/ Brasil sobe no Índice de Desenvolvimento Humano, mas fica atrás de Irã e Bósnia 2025-05-06'"
            ],
            "application/vnd.google.colaboratory.intrinsic+json": {
              "type": "string"
            }
          },
          "metadata": {}
        },
        {
          "output_type": "stream",
          "name": "stdout",
          "text": [
            "\n",
            "Frame: AI impacts on businesses, economy, and jobs\n",
            "Sentiment: 2\n",
            "Lexicon S: -1\n",
            "\n",
            "Integração de dados ganha espaço na rotina das empresas\n"
          ]
        },
        {
          "output_type": "display_data",
          "data": {
            "text/plain": [
              "'“Temos visto que nossos clientes superaram barreiras internas de comunicação entre áreas investindo em integração\", afirma Flávio Silva, CEO da Upper, consultoria Gold Partner da SAP há 18 anos e especialista na implantação do SAP Business One. Para ele, a capacidade de conectar sistemas e departamentos tem se mostrado fundamental para organizações que buscam decisões mais ágeis e embasadas.\\nDe acordo com o executivo, empresas que integram dados de atendimento ao cliente e suporte técnico com o SAP Business One relatam ganhos evidentes em eficiência e redução de custos operacionais. “Temos observado que a integração proporciona ganhos tangíveis em eficiência e uma base mais consistente para decisões em tempo real”, complementa Flávio.\\nEntre as tecnologias mais utilizadas por empresas em processo de transformação digital, os sistemas ERP (Enterprise Resource Planning) ocupam papel de destaque, segundo o CEO. Ele pontua que soluções como o SAP Business One têm apoiado organizações de diversos segmentos na automatização de processos e na melhoria da gestão.\\nFlávio também ressalta que a integração entre áreas como vendas, operações e tecnologia tem permitido uma atuação mais estratégica. “A conectividade entre departamentos facilita o acesso a dados em tempo real, e isso impacta diretamente na capacidade de resposta da empresa\", explica.\\nA percepção do executivo encontra respaldo em estudos recentes. Segundo a pesquisa State of Data, realizada pela Bain & Company em parceria com a Data Hackers, a integração de dados figura entre os principais focos das empresas brasileiras que buscam maior maturidade analítica e operacional. O levantamento mostra que a adoção de ferramentas que promovem a interoperabilidade entre áreas tem crescido no país.\\nOutro levantamento, o relatório Tendências em Dados e IA, elaborado pelo Google Cloud em parceria com a IDC, aponta que 82% das organizações pretendem, até 2026, integrar completamente os fluxos de dados e inteligência artificial em suas plataformas. O material sugere que a integração total dos recursos pode beneficiar diretamente a escalabilidade e a agilidade nos processos corporativos.'"
            ],
            "application/vnd.google.colaboratory.intrinsic+json": {
              "type": "string"
            }
          },
          "metadata": {}
        },
        {
          "output_type": "stream",
          "name": "stdout",
          "text": [
            "\n",
            "Frame: AI impacts on businesses, economy, and jobs\n",
            "Sentiment: 0\n",
            "Lexicon S: -4\n",
            "\n",
            "Com investimento de R$ 2 milhões do Estado, Gabriel Souza inaugura pavimentação asfáltica em Nova Petrópolis\n"
          ]
        },
        {
          "output_type": "display_data",
          "data": {
            "text/plain": [
              "'O governador em exercício Gabriel Souza inaugurou, nesta quinta-feira (15/5), a pavimentação asfáltica da Estrada do Rio Caí, em Nova Petrópolis, que faz a ligação entre a comunidade de São José do Caí, no interior do município, à BR-116. A obra, com cerca de 2,8 quilômetros de extensão, contou com investimento de R$ 2 milhões do programa Pavimenta, por meio da Secretaria de Desenvolvimento Urbano e Metropolitano (Sedur), e contrapartida municipal de R$ 1.814,673,82, totalizando R$ 3.815,191,48.\\nEm pronunciamento que antecedeu o tradicional levantamento de cones para liberação da via, o governador em exercício ressaltou o impacto positivo na melhoria da qualidade de vida das famílias com uma estrada que vai proporcionar mais segurança e conforto aos moradores da região.\\n\"A gente pode medir essa obra em metros cúbicos e quadrados, mas não é possível ter a medida da felicidade que notamos na população com o ganho de qualidade de vida. Uma felicidade que se expressa no impulso ao desenvolvimento, à economia e ampliação da segurança, mas também no gesto simples de poder abrir a janela de casa sem se preocupar com a poeira da estrada de chão batido. O nosso governo, liderado pelo governador Eduardo Leite, fica também muito feliz em proporcionar essa felicidade para o povo gaúcho\", afirmou Gabriel.\\nA obra busca facilitar o acesso ao município e melhorar as condições locais de trafegabilidade, facilitando o acesso da população a serviços públicos. Para o secretário-adjunto da Sedur, Felipe Classman, o Pavimenta representa uma mudança na forma de fazer gestão. \"A pavimentação do acesso ao município melhora as condições de tráfego, aumentando a segurança, e favorece o seu desenvolvimento econômico. Esta entrega representa o compromisso conjunto entre o governo do Estado e a prefeitura de Nova Petrópolis em benefício da região\", afirmou.\\n\"É um momento histórico para a comunidade de São José do Caí, que esperou mais de 50 anos por essa ligação asfáltica, que vai trazer mais desenvolvimento para toda região. Agradeço ao governo do Estado e seguimos contando com o apoio para realizarmos novas conquistas\", afirmou o prefeito de Nova Petrópolis, Daniel Michaelsen.\\nO chefe do Executivo municipal ainda aproveitou a ocasião para demandar ao governador em exercício recursos para mais uma pavimentação, que serviria de alternativa de ligação à Caxias do Sul em caso de novos bloqueios na BR-116. Gabriel ressaltou a importância de haver rotas secundárias para acesso à segunda maior cidade do Estado e informou que o projeto será analisado com atenção pela Secretaria da Reconstrução Gaúcha (Serg).\\nO ato contou com a presença do prefeito de Nova Petrópolis, Daniel Carlos Michaelsen; do secretário-adjunto da Sedur, Felipe Classmann, dos deputados estaduais Elton Weber e Carlos Burigo, e outras lideranças estaduais e municipais.\\nAbertura do LegadoCoop 2025\\nAntes da inauguração da pavimentação, o governador em exercício participou da solenidade de abertura do LegadoCoop 2025, maior encontro sobre gestão, inovação e cooperativismo do Brasil. O evento ocorre nos dias 15 e 16 de maio na Sociedade Concórdia, na Linha Imperial, local histórico da fundação da primeira cooperativa de crédito da América Latina. A abertura contou com pronunciamentos de autoridades e lideranças cooperativistas, além da execução dos hinos nacional e riograndense.\\nO LegadoCoop 2025 espera receber cerca de mil participantes, reunindo lideranças de cooperativas de todo o país. O encontro tem como foco a troca de boas práticas e a discussão de temas como transformação digital, impactos da inteligência artificial e o futuro do cooperativismo, com uma programação que envolve mais de 40 palestrantes distribuídos em dois palcos temáticos.\\n\"Um ano após as enchentes que marcaram o Rio Grande, nossa economia cresceu acima da média nacional e já gerou mais emprego em 2025 do que em todo o ano passado. E o setor cooperativista tem papel decisivo nessa retomada, como exemplo de resiliência, de trabalho coletivo e de compromisso com o desenvolvimento social. Sob a liderança do governador Eduardo Leite, nosso governo é parceiro do setor e seguirá investindo no fortalecimento desse modelo que promove inclusão, inovação e prosperidade\", afirmou Gabriel.\\nAntes da solenidade, o governador em exercício também visitou a Ponte do Cooperativismo, travessia de cerca de 60 metros sob o Rio Caí, que liga a estrada agora asfaltada a um acesso municipal de Caxias do Sul, do outro lado do curso d\\'água. A ponte, que havia sido levada pelas enchentes de 2024, foi reconstruida em uma parceria entre as prefeituras de Nova Petrópolis e Caxias, com entidades do cooperativismo local, num investimento de cerca de R$ 1 milhão.'"
            ],
            "application/vnd.google.colaboratory.intrinsic+json": {
              "type": "string"
            }
          },
          "metadata": {}
        },
        {
          "output_type": "stream",
          "name": "stdout",
          "text": [
            "\n"
          ]
        }
      ]
    },
    {
      "cell_type": "code",
      "source": [
        "df = pd.read_csv('/content/drive/MyDrive/Mediacloud/USA/artificial_intelligence_usa_cleaned_2024-06-01_2025-06-01_frames_sentiments_newsplease_mediacloud_gemini_2-5.csv')\n",
        "df[\"sentiment_lexicon\"] = df[\"maintext\"].apply(get_sentiment)\n",
        "len(df)"
      ],
      "metadata": {
        "colab": {
          "base_uri": "https://localhost:8080/"
        },
        "id": "Hgz9wNRfz_sQ",
        "outputId": "1f032a80-a9a2-4c92-f553-7b70c2159c65"
      },
      "execution_count": null,
      "outputs": [
        {
          "output_type": "execute_result",
          "data": {
            "text/plain": [
              "1000"
            ]
          },
          "metadata": {},
          "execution_count": 24
        }
      ]
    },
    {
      "cell_type": "code",
      "source": [
        "df_sample = df.sample(n=10, random_state=42)\n",
        "df_sample = df_sample.reset_index(drop=True)\n",
        "len(df_sample)"
      ],
      "metadata": {
        "colab": {
          "base_uri": "https://localhost:8080/"
        },
        "id": "sUgHauCm1K_Q",
        "outputId": "32482aaf-4901-45c4-8e77-9004df27429b"
      },
      "execution_count": null,
      "outputs": [
        {
          "output_type": "execute_result",
          "data": {
            "text/plain": [
              "10"
            ]
          },
          "metadata": {},
          "execution_count": 25
        }
      ]
    },
    {
      "cell_type": "code",
      "source": [
        "#Gemini 2.5 frames     USA:  8/10 -> 0011111111\n",
        "#Gemini 2.5 sentiments USA:  9/10 -> 0111111111\n",
        "#Lexicon sentiments    USA:  4/10 -> 0011001001"
      ],
      "metadata": {
        "id": "SFnVL9QF1Tzo"
      },
      "execution_count": null,
      "outputs": []
    },
    {
      "cell_type": "code",
      "source": [
        "for i in range(len(df_sample)):\n",
        "    print(\"Frame:\", df_sample.frame[i])\n",
        "    print(\"Sentiment:\", df_sample.sentiment[i])\n",
        "    print(\"Lexicon S:\", df_sample.sentiment_lexicon[i])\n",
        "    print()\n",
        "    print(df_sample.title[i])\n",
        "    display(df_sample.maintext[i])\n",
        "    print()"
      ],
      "metadata": {
        "colab": {
          "base_uri": "https://localhost:8080/",
          "height": 1000
        },
        "id": "B3e6MrW61eQQ",
        "outputId": "33540c7b-2015-40ac-c763-f31540f50b7d"
      },
      "execution_count": null,
      "outputs": [
        {
          "output_type": "stream",
          "name": "stdout",
          "text": [
            "Frame: AI-based innovative solutions\n",
            "Sentiment: -1\n",
            "Lexicon S: 5\n",
            "\n",
            "MercadoLibre (MELI) Stock Price, News & Analysis\n"
          ]
        },
        {
          "output_type": "display_data",
          "data": {
            "text/plain": [
              "'$2,384.72 +5.66 (+0.24%)\\nExtended Trading\\n$2,388.93 +4.21 (+0.18%)\\nAbout MercadoLibre Stock (NASDAQ:MELI)\\nGet MercadoLibre alerts:\\nKey Stats\\nToday\\'s Range\\n$2,375.13\\n▼\\n$2,410.00\\n50-Day Range\\n$2,351.14\\n▼\\n$2,613.63\\n52-Week Range\\n$1,579.78\\n▼\\n$2,645.22\\nVolume\\n266,471 shs\\nAverage Volume\\n387,149 shs\\nMarket Capitalization\\n$120.91 billion\\nP/E Ratio\\n58.65\\nDividend Yield\\nN/A\\nPrice Target\\n$2,645.94\\nConsensus Rating\\nModerate Buy\\nCompany Overview\\nMercadoLibre, Inc. (NASDAQ: MELI) is a leading e-commerce and fintech company dedicated to facilitating online commerce across Latin America. Founded in 1999 by entrepreneur Marcos Galperin in Argentina, the company has established itself as a one-stop platform for buying, selling, advertising and logistics services. MercadoLibre’s marketplace offers both consumer-to-consumer and business-to-consumer transactions, attracting millions of users through desktop and mobile channels.\\nThrough its flagship marketplace, MercadoLibre operates in more than a dozen countries throughout the region, including Brazil, Mexico, Argentina, Colombia and Chile. The platform supports a wide range of product categories, from electronics and fashion to home goods and automotive parts. Complementing its core marketplace, MercadoLibre also provides classified listings, where users can post and browse used vehicles, real estate and services.\\nIn addition to its e-commerce arm, the company has developed MercadoPago, a digital payments solution offering online and point-of-sale payment processing, mobile wallets and peer-to-peer transfers. MercadoPago integrates with MercadoLibre’s ecosystem to streamline transactions, while its logistics network, MercadoEnvios, handles shipping, tracking and fulfillment services. Further financial solutions include MercadoCredito, which provides credit to consumers and merchants, and MercadoAds, an advertising platform designed to boost merchant visibility.\\nFrom its inception, MercadoLibre has been led by founder and chairman Marcos Galperin. In 2022, the company appointed Pedro Arnt as chief executive officer, while a team of regional country managers and seasoned executives oversee individual markets. Together, this leadership team continues to drive innovation in Latin America’s rapidly evolving digital commerce landscape.\\nAI Generated. May Contain Errors.\\nMercadoLibre Stock Analysis - MarketRank™\\nSee Top-Rated MarketRank™ Stocks\\n92nd Percentile Overall Score\\nMELI MarketRank™:\\nMercadoLibre scored higher than 92% of companies evaluated by MarketBeat, and ranked 31st out of 208 stocks in the retail/wholesale sector. Scores are calculated by averaging available category scores, with extra weight given to analysis and valuation.\\nConsensus Rating\\nMercadoLibre has received a consensus rating of Moderate Buy. The company\\'s average rating score is 2.80, and is based on 11 buy ratings, 2 hold ratings, and 1 sell rating.\\nAmount of Analyst Coverage\\nMercadoLibre has been the subject of 9 research reports in the past 90 days, demonstrating strong analyst interest in this stock.\\nRead more about MercadoLibre\\'s stock forecast and price target.\\nEarnings Growth\\nEarnings for MercadoLibre are expected to grow by 43.61% in the coming year, from $43.96 to $63.13 per share.\\nPrice to Earnings Ratio vs. the Market\\nThe P/E ratio of MercadoLibre is 58.65, which means that it is trading at a more expensive P/E ratio than the market average P/E ratio of about 26.38.\\nPrice to Earnings Ratio vs. Sector\\nThe P/E ratio of MercadoLibre is 58.65, which means that it is trading at a more expensive P/E ratio than the Retail/Wholesale sector average P/E ratio of about 30.67.\\nPrice to Earnings Growth Ratio\\nMercadoLibre has a PEG Ratio of 1.41. PEG Ratios above 1 indicate that a company could be overvalued.\\nPrice to Book Value per Share Ratio\\nMercadoLibre has a P/B Ratio of 27.79. P/B Ratios above 3 indicate that a company could be overvalued with respect to its assets and liabilities.\\nRead more about MercadoLibre\\'s valuation and earnings.\\nPercentage of Shares Shorted\\n1.48% of the float of MercadoLibre has been sold short.\\nShort Interest Ratio / Days to Cover\\nMercadoLibre has a short interest ratio (\"days to cover\") of 1.8, which is generally considered an acceptable ratio of short interest to trading volume.\\nChange versus previous month\\nShort interest in MercadoLibre has recently decreased by 5.52%, indicating that investor sentiment is improving significantly.\\nDividend Yield\\nMercadoLibre does not currently pay a dividend.\\nDividend Growth\\nMercadoLibre does not have a long track record of dividend growth.\\nPercentage of Shares Shorted\\n1.48% of the float of MercadoLibre has been sold short.\\nShort Interest Ratio / Days to Cover\\nMercadoLibre has a short interest ratio (\"days to cover\") of 1.8, which is generally considered an acceptable ratio of short interest to trading volume.\\nChange versus previous month\\nShort interest in MercadoLibre has recently decreased by 5.52%, indicating that investor sentiment is improving significantly.\\nNews Sentiment\\nMercadoLibre has a news sentiment score of 1.21. This score is calculated as an average of sentiment of articles about the company over the last seven days and ranges from 2 (good news) to -2 (bad news). This is a higher news sentiment than the 0.72 average news sentiment score of Retail/Wholesale companies.\\nNews Coverage This Week\\nMarketBeat has tracked 39 news articles for MercadoLibre this week, compared to 32 articles on an average week.\\nSearch Interest\\n43 people have searched for MELI on MarketBeat in the last 30 days. This is an increase of 13% compared to the previous 30 days.\\nMarketBeat Follows\\nOnly 19 people have added MercadoLibre to their MarketBeat watchlist in the last 30 days. This is a decrease of -21% compared to the previous 30 days.\\nInsider Buying vs. Insider Selling\\nIn the past three months, MercadoLibre insiders have not sold or bought any company stock.\\nPercentage Held by Insiders\\nOnly 0.25% of the stock of MercadoLibre is held by insiders.\\nPercentage Held by Institutions\\n87.62% of the stock of MercadoLibre is held by institutions. High institutional ownership can be a signal of strong market trust in this company.\\nRead more about MercadoLibre\\'s insider trading history.\\nReceive MELI Stock News and Ratings via Email\\nSign-up to receive the latest news and ratings for MercadoLibre and its competitors with MarketBeat\\'s FREE daily newsletter.\\nEmail Address\\nMELI Stock News Headlines\\nElon’s BIGGEST warning yet?\\nTesla\\'s About to Prove Everyone Wrong... Again Back in 2018, when Jeff Brown told everyone to buy Tesla… The \"experts\" said Elon was finished and Tesla was headed for bankruptcy. Now they\\'re saying the same thing, but Jeff has uncovered Tesla\\'s next breakthrough.\\nSee More Headlines\\nMELI Stock Analysis - Frequently Asked Questions\\nMercadoLibre\\'s stock was trading at $1,700.44 at the start of the year. Since then, MELI shares have increased by 40.2% and is now trading at $2,384.72.\\nMercadoLibre, Inc. (NASDAQ:MELI) posted its quarterly earnings results on Wednesday, May, 7th. The company reported $9.74 EPS for the quarter, topping the consensus estimate of $7.82 by $1.92. MercadoLibre\\'s revenue was up 37.0% compared to the same quarter last year.\\nRead the conference call transcript.\\nTop institutional shareholders of MercadoLibre include Robeco Institutional Asset Management B.V. (0.30%), Assenagon Asset Management S.A. (0.26%), Swedbank AB (0.24%) and Zevenbergen Capital Investments LLC (0.22%).\\nView institutional ownership trends.\\nShares of MELI stock can be purchased through any online brokerage account. Popular online brokerages with access to the U.S. stock market include Charles Schwab, E*TRADE, Fidelity, and Vanguard Brokerage Services.\\nBased on aggregate information from My MarketBeat watchlists, some other companies that MercadoLibre investors own include NVIDIA (NVDA), Meta Platforms (META), Advanced Micro Devices (AMD), Tesla (TSLA), Salesforce (CRM), Broadcom (AVGO) and Netflix (NFLX).\\nCompany Calendar\\nLast Earnings\\n5/07/2025\\nToday\\n7/22/2025\\nNext Earnings (Estimated)\\n7/30/2025\\nFiscal Year End\\n12/31/2025\\nIndustry, Sector and Symbol\\nStock Exchange\\nNASDAQ\\nSector\\nRetail/Wholesale\\nIndustry\\nINTERNET COMMERCE\\nSub-Industry\\nBusiness Services\\nCurrent Symbol\\nNASDAQ:MELI\\nCIK\\n1099590\\nPhone\\n(982) 927-2770\\nFax\\n54-11-4545-4744\\nEmployees\\n18,282\\nYear Founded\\n1999\\nPrice Target and Rating\\nAverage Price Target for MercadoLibre\\n$2,645.94\\nHigh Price Target\\n$3,100.00\\nLow Price Target\\n$2,100.00\\nPotential Upside/Downside\\n+11.0%\\nConsensus Rating\\nModerate Buy\\nRating Score (0-4)\\n2.80\\nResearch Coverage\\n15 Analysts\\nProfitability\\nEPS (Trailing Twelve Months)\\n$40.66\\nTrailing P/E Ratio\\n58.65\\nForward P/E Ratio\\n54.25\\nP/E Growth\\n1.41\\nNet Income\\n$1.91 billion\\nNet Margins\\n9.21%\\nPretax Margin\\n11.87%\\nReturn on Equity\\n48.46%\\nReturn on Assets\\n8.63%\\nDebt\\nDebt-to-Equity Ratio\\n0.57\\nCurrent Ratio\\n1.20\\nQuick Ratio\\n1.18\\nSales & Book Value\\nAnnual Sales\\n$20.78 billion\\nPrice / Sales\\n5.82\\nCash Flow\\n$49.98 per share\\nPrice / Cash Flow\\n47.71\\nBook Value\\n$85.82 per share\\nPrice / Book\\n27.79\\nMiscellaneous\\nOutstanding Shares\\n50,700,000\\nFree Float\\n50,570,000\\nMarket Cap\\n$120.91 billion\\nOptionable\\nOptionable\\nBeta\\n1.49\\nSocial Links\\nNeed to stretch out your 401K or Roth IRA plan? Use these time-tested investing strategies to grow the monthly retirement income that your stock portfolio generates.\\nGet This Free Report\\nThis page (NASDAQ:MELI) was last updated on by MarketBeat.com Staff\\nFrom Our Partners\\nAdding\\nChoose a watchlist:\\nWatchlist\\nSign in to your free account to enjoy these benefits\\nIn-depth profiles and analysis for 20,000 public companies.\\nReal-time analyst ratings, insider transactions, earnings data, and more.\\nOur daily ratings and market update email newsletter.\\nSign in to your free account to enjoy all that MarketBeat has to offer.\\nSign In\\nCreate Account\\nYour Email Address:\\nEmail Address Required\\nYour Password:\\nPassword Required\\nLog In\\nor\\nYour Email Address:\\nPlease enter your email address.\\nPlease enter a valid email address\\nChoose a Password:\\nPlease enter your password.\\nYour password must be at least 8 characters long and contain at least 1 number, 1 letter, and 1 special character.\\nor\\nBy creating a free account, you agree to our terms of service. This site is protected by reCAPTCHA and the Google Privacy Policy and Terms of Service apply.'"
            ],
            "application/vnd.google.colaboratory.intrinsic+json": {
              "type": "string"
            }
          },
          "metadata": {}
        },
        {
          "output_type": "stream",
          "name": "stdout",
          "text": [
            "\n",
            "Frame: AI impacts on businesses, economy, and jobs\n",
            "Sentiment: 0\n",
            "Lexicon S: 5\n",
            "\n",
            "Controladora Vuela Compania de Aviacion (VLRS) Stock Price, News & Analysis\n"
          ]
        },
        {
          "output_type": "display_data",
          "data": {
            "text/plain": [
              "'$5.10 +0.69 (+15.53%)\\nExtended Trading\\n$5.14 +0.04 (+0.88%)\\nAbout Controladora Vuela Compania de Aviacion Stock (NYSE:VLRS)\\nGet VLRS alerts:\\nKey Stats\\nToday\\'s Range\\n$4.44\\n▼\\n$5.11\\n50-Day Range\\n$4.14\\n▼\\n$4.98\\n52-Week Range\\n$3.49\\n▼\\n$9.00\\nVolume\\n2.06 million shs\\nAverage Volume\\n930,658 shs\\nMarket Capitalization\\n$594.08 million\\nP/E Ratio\\nN/A\\nDividend Yield\\nN/A\\nPrice Target\\n$7.44\\nConsensus Rating\\nModerate Buy\\nCompany Overview\\nControladora Vuela Compañía de Aviación, S.A.B. de C.V. operates as the parent holding company of Volaris, one of Mexico’s leading low-cost carriers. Established in 2004 and headquartered in Mexico City, the company focuses on providing affordable, reliable air transportation for domestic and international travelers. Through its flagship airline, Volaris, Controladora Vuela serves more than 40 destinations across Mexico, the United States, Central America and Colombia, utilizing a single-class seat configuration and a modular ancillary revenue model to maintain competitive fares.\\nThe company’s core business activities encompass passenger air service, ancillary product sales and a loyalty program designed to reward frequent flyers. Volaris maintains a modern fleet of Airbus A320 family aircraft, enabling operational efficiency and fleet commonality. In addition to ticket revenue, Controladora Vuela generates fees from services such as priority boarding, baggage allowances, seat selection and on-board offerings. The organization also leverages digital sales channels—including a mobile app and website—to streamline the booking process and reduce distribution costs.\\nControladora Vuela has distinguished itself through its cost-conscious operating model, strategic fuel hedging and point-to-point network structure. By limiting reliance on hub transfers and focusing on direct routes, the company reduces turnaround times and maximizes aircraft utilization. Over the years, it has invested in digital technologies and strategic partnerships to expand ancillary offerings, including car rentals, hotel bookings and travel insurance, further bolstering its non-ticket revenue streams.\\nUnder the leadership of President and Chief Executive Officer Enrique Beltranena, Controladora Vuela has navigated competitive pressures in the Latin American aviation market while pursuing disciplined growth. The board and management team emphasize transparency, cost control and customer service as pillars of long-term value creation. As market dynamics evolve, the company continues to explore network expansion and fleet modernization opportunities to support its low-fare carrier strategy.\\nAI Generated. May Contain Errors.\\nControladora Vuela Compania de Aviacion Stock Analysis - MarketRank™\\nSee Top-Rated MarketRank™ Stocks\\n51st Percentile Overall Score\\nVLRS MarketRank™:\\nControladora Vuela Compania de Aviacion scored higher than 51% of companies evaluated by MarketBeat, and ranked 74th out of 125 stocks in the transportation sector. Scores are calculated by averaging available category scores, with extra weight given to analysis and valuation.\\nConsensus Rating\\nControladora Vuela Compania de Aviacion has received a consensus rating of Moderate Buy. The company\\'s average rating score is 2.63, and is based on 5 buy ratings, 3 hold ratings, and no sell ratings.\\nAmount of Analyst Coverage\\nControladora Vuela Compania de Aviacion has been the subject of 7 research reports in the past 90 days, demonstrating strong analyst interest in this stock.\\nRead more about Controladora Vuela Compania de Aviacion\\'s stock forecast and price target.\\nEarnings Growth\\nEarnings for Controladora Vuela Compania de Aviacion are expected to decrease by -45.45% in the coming year, from $1.21 to $0.66 per share.\\nPrice to Earnings Ratio vs. the Market\\nThe P/E ratio of Controladora Vuela Compania de Aviacion is -18.87, which means that its earnings are negative and its P/E ratio cannot be compared to companies with positive earnings.\\nPrice to Earnings Ratio vs. Sector\\nThe P/E ratio of Controladora Vuela Compania de Aviacion is -18.87, which means that its earnings are negative and its P/E ratio cannot be compared to companies with positive earnings.\\nPrice to Book Value per Share Ratio\\nControladora Vuela Compania de Aviacion has a P/B Ratio of 1.63. P/B Ratios below 3 indicates that a company is reasonably valued with respect to its assets and liabilities.\\nPercentage of Shares Shorted\\n12.21% of the float of Controladora Vuela Compania de Aviacion has been sold short.\\nShort Interest Ratio / Days to Cover\\nControladora Vuela Compania de Aviacion has a short interest ratio (\"days to cover\") of 4.1.\\nChange versus previous month\\nShort interest in Controladora Vuela Compania de Aviacion has recently increased by 234.46%, indicating that investor sentiment is decreasing significantly.\\nDividend Yield\\nControladora Vuela Compania de Aviacion does not currently pay a dividend.\\nDividend Growth\\nControladora Vuela Compania de Aviacion does not have a long track record of dividend growth.\\nPercentage of Shares Shorted\\n12.21% of the float of Controladora Vuela Compania de Aviacion has been sold short.\\nShort Interest Ratio / Days to Cover\\nControladora Vuela Compania de Aviacion has a short interest ratio (\"days to cover\") of 4.1.\\nChange versus previous month\\nShort interest in Controladora Vuela Compania de Aviacion has recently increased by 234.46%, indicating that investor sentiment is decreasing significantly.\\nNews Sentiment\\nControladora Vuela Compania de Aviacion has a news sentiment score of 0.87. This score is calculated as an average of sentiment of articles about the company over the last seven days and ranges from 2 (good news) to -2 (bad news). This is a higher news sentiment than the 0.67 average news sentiment score of Transportation companies.\\nNews Coverage This Week\\nMarketBeat has tracked 14 news articles for Controladora Vuela Compania de Aviacion this week, compared to 4 articles on an average week.\\nSearch Interest\\n2 people have searched for VLRS on MarketBeat in the last 30 days.\\nMarketBeat Follows\\nOnly 1 people have added Controladora Vuela Compania de Aviacion to their MarketBeat watchlist in the last 30 days. This is a decrease of 0% compared to the previous 30 days.\\nInsider Buying vs. Insider Selling\\nIn the past three months, Controladora Vuela Compania de Aviacion insiders have not sold or bought any company stock.\\nPercentage Held by Institutions\\n53.32% of the stock of Controladora Vuela Compania de Aviacion is held by institutions. High institutional ownership can be a signal of strong market trust in this company.\\nRead more about Controladora Vuela Compania de Aviacion\\'s insider trading history.\\nReceive VLRS Stock News and Ratings via Email\\nSign-up to receive the latest news and ratings for Controladora Vuela Compania de Aviacion and its competitors with MarketBeat\\'s FREE daily newsletter.\\nEmail Address\\nVLRS Stock News Headlines\\nForget Nvidia, This “Ghost Town” Company Holds the Key to the AI Boom\\nCold War Discovery Could Unlock $100 Trillion in Wealth Jeff recently traveled to an American ghost town to investigate this crazy Cold War story… Because it could hold the key to the entire $100 trillion AI boom. It involves an American ghost town with just 30 people… And a new twist to the AI boom that could make a lot of people rich.\\nSee More Headlines\\nVLRS Stock Analysis - Frequently Asked Questions\\nControladora Vuela Compania de Aviacion\\'s stock was trading at $7.44 at the beginning of 2025. Since then, VLRS shares have decreased by 31.5% and is now trading at $5.0950.\\nControladora Vuela Compania de Aviacion, S.A.B. de C.V. (NYSE:VLRS) issued its quarterly earnings results on Monday, July, 21st. The transportation company reported ($0.54) earnings per share (EPS) for the quarter, topping analysts\\' consensus estimates of ($0.75) by $0.21. The transportation company had revenue of $693 million for the quarter, compared to the consensus estimate of $664.01 million. Controladora Vuela Compania de Aviacion had a negative trailing twelve-month return on equity of 9.30% and a negative net margin of 1.03%.\\nRead the conference call transcript.\\nTop institutional investors of Controladora Vuela Compania de Aviacion include Janney Capital Management LLC (0.03%).\\nShares of VLRS stock can be purchased through any online brokerage account. Popular online brokerages with access to the U.S. stock market include Charles Schwab, E*TRADE, Fidelity, and Vanguard Brokerage Services.\\nBased on aggregate information from My MarketBeat watchlists, some other companies that Controladora Vuela Compania de Aviacion investors own include Cisco Systems (CSCO), Home Depot (HD), NVIDIA (NVDA), Tesla (TSLA), Meta Platforms (META), Advanced Micro Devices (AMD) and JPMorgan Chase & Co. (JPM).\\nCompany Calendar\\nLast Earnings\\n7/21/2025\\nToday\\n7/22/2025\\nFiscal Year End\\n12/31/2025\\nIndustry, Sector and Symbol\\nStock Exchange\\nNYSE\\nSector\\nTransportation\\nIndustry\\nTRANS - AIRLINE\\nSub-Industry\\nTransportation\\nCurrent Symbol\\nNYSE:VLRS\\nCIK\\n1520504\\nPhone\\n525552616400\\nFax\\nN/A\\nEmployees\\n6,901\\nYear Founded\\nN/A\\nPrice Target and Rating\\nHigh Price Target\\n$12.00\\nLow Price Target\\n$4.40\\nPotential Upside/Downside\\n+46.0%\\nConsensus Rating\\nModerate Buy\\nRating Score (0-4)\\n2.63\\nResearch Coverage\\n8 Analysts\\nProfitability\\nEPS (Trailing Twelve Months)\\n$0.36\\nTrailing P/E Ratio\\nN/A\\nForward P/E Ratio\\n4.21\\nP/E Growth\\nN/A\\nNet Income\\n$126.38 million\\nNet Margins\\n-1.03%\\nPretax Margin\\n1.96%\\nReturn on Equity\\n-9.30%\\nReturn on Assets\\n-0.55%\\nDebt\\nDebt-to-Equity Ratio\\n1.67\\nCurrent Ratio\\n0.75\\nQuick Ratio\\n0.74\\nSales & Book Value\\nAnnual Sales\\n$3.14 billion\\nPrice / Sales\\n0.19\\nCash Flow\\n$7.08 per share\\nPrice / Cash Flow\\n0.72\\nBook Value\\n$3.13 per share\\nPrice / Book\\n1.63\\nMiscellaneous\\nOutstanding Shares\\n116,600,000\\nFree Float\\nN/A\\nMarket Cap\\n$594.08 million\\nOptionable\\nOptionable\\nBeta\\n2.12\\nJust getting into the stock market? These 10 simple stocks can help beginning investors build long-term wealth without knowing options, technicals, or other advanced strategies.\\nGet This Free Report\\nThis page (NYSE:VLRS) was last updated on by MarketBeat.com Staff\\nFrom Our Partners\\nAdding\\nChoose a watchlist:\\nWatchlist\\nAdding\\nYou have already added ten stocks to your watchlist. Upgrade to MarketBeat All Access to add more stocks to your watchlist.\\nGet 30 Days of MarketBeat All Access for Free\\nSign up for MarketBeat All Access to gain access to MarketBeat\\'s full suite of research tools.\\nStart Your 30-Day Trial\\nSign in to your free account to enjoy these benefits\\nIn-depth profiles and analysis for 20,000 public companies.\\nReal-time analyst ratings, insider transactions, earnings data, and more.\\nOur daily ratings and market update email newsletter.\\nSign in to your free account to enjoy all that MarketBeat has to offer.\\nSign In\\nCreate Account\\nYour Email Address:\\nEmail Address Required\\nYour Password:\\nPassword Required\\nLog In\\nor\\nYour Email Address:\\nPlease enter your email address.\\nPlease enter a valid email address\\nChoose a Password:\\nPlease enter your password.\\nYour password must be at least 8 characters long and contain at least 1 number, 1 letter, and 1 special character.\\nor\\nBy creating a free account, you agree to our terms of service. This site is protected by reCAPTCHA and the Google Privacy Policy and Terms of Service apply.'"
            ],
            "application/vnd.google.colaboratory.intrinsic+json": {
              "type": "string"
            }
          },
          "metadata": {}
        },
        {
          "output_type": "stream",
          "name": "stdout",
          "text": [
            "\n",
            "Frame: AI competition and market dynamics in tech industries\n",
            "Sentiment: -4\n",
            "Lexicon S: -5\n",
            "\n",
            "Wall Street storms back from early losses, echoing its manic moves through a historic April\n"
          ]
        },
        {
          "output_type": "display_data",
          "data": {
            "text/plain": [
              "'By STAN CHOE, AP Business Writer\\nNEW YORK (AP) — Much like its wild month of April, a scary Wednesday for Wall Street found a gentler ending as U.S. stocks stormed back from steep early losses to continue their manic swings amid uncertainty about what President Donald Trump’s trade war will do to the economy.\\nThe S&P 500 rose 0.1% to extend its winning streak to a seventh day. The Dow Jones Industrial Average added 141 points, or 0.3%, while the Nasdaq composite edged down by 0.1%.\\nIt was a stunning reversal after the S&P 500 dropped as much as 2.3% and the Dow fell 780 points in early trading. Stocks initially tumbled after a report suggested the U.S. economy may have shrunk at the start of the year, falling well short of economists’ expectations, in a sharp turnaround from the economy’s solid growth at the end of last year.\\nImporters rushed to bring products into the country before tariffs could raise their prices, which helped drag on the country’s overall gross domestic product.\\nSuch data raised the threat of a worst-case scenario called “stagflation,” one where the economy stagnates yet inflation remains high. Economists fear it because the Federal Reserve has no good tools to fix both problems at the same time. If the Fed were to try to help one problem by adjusting interest rates, it would likely make the other worse.\\n“Even if today’s weak GDP may have partially reflected companies trying to get ahead of tariffs, it was still a stagflation warning shot over the bow of the economy,” according to Ellen Zentner, chief economic strategist for Morgan Stanley Wealth Management.\\nBut some better news came later in the day when a report said the measure of inflation that the Fed likes to use slowed in March. Inflation decelerated to 2.3%, closer to the Fed’s goal of 2%, from February’s reading of 2.7%. Stocks began paring their losses almost immediately after the report.\\nIf inflation keeps trending lower, it would give the Fed more leeway to cut interest rates in order to juice the economy. Expectations are building for the Fed to cut its main interest rate at least four times by the end of this year, according to data from CME Group, though it likely won’t begin at its next meeting next week.\\nMuch of Wednesday’s economic data raised concerns about a weakening economy. A report on the job market from ADP suggested employers outside the government may have hired far fewer workers in April than economists expected, less than half.\\nIt’s discouraging because a relatively solid job market has been one of the linchpins keeping the U.S. economy stable. A more comprehensive report on the job market from the U.S. government will arrive on Friday.\\nWednesday’s reports add to worries that Trump’s trade war may drag the U.S. economy into a recession. The president’s on-again-off-again rollout of tariffs has created deep uncertainty about what’s to come, which could cause damage by itself.\\n“I’m not taking a credit or discredit for the stock market,” Trump said Wednesday. “I’m just saying we inherited a mess.”\\nUncertainty around Trump’s tariffs has already triggered historic swings for financial markets, from stocks to bonds to the value of the U.S. dollar, that battered investors through April. The S&P 500 briefly dropped nearly 20% below its all-time high set earlier this year, with scary headlines at one point warning of the potential for the worst April since the Great Depression.\\nBut the uncertainty has been two-sided, and hopes that Trump may relent on some of his tariffs helped the S&P 500 claw back a chunk of its losses. It ended April with a decline of just 0.8%, much milder than March’s, and it’s only 9.4% below its record.\\nStronger-than-expected profit reports from big U.S. companies have helped support the market, and Seagate Technology jumped 11.6% for one of Wednesday’s biggest gains after the maker of data storage joined the parade.\\nGains for other storage makers also helped to offset drops for stocks within the artificial-intelligence industry, which have been pulling back on worries their prices shot too high in prior years.\\nSuper Micro Computer warned that some customers delayed purchases in the latest quarter, which caused the maker of servers used in AI and other computing to slash its forecast for sales and profit. Its stock tumbled 11.5% for the largest loss in the S&P 500.\\nStarbucks sank 5.7% after the coffee chain fell short of analysts’ forecasts for revenue and profit in the latest quarter. Starbucks did log its first quarterly sales increase in more than a year, but acknowledged that its turnaround effort is far from complete.\\nAll told, the S&P 500 rose 8.23 points to 5,569.06. The Dow Jones Industrial Average rose 141.74 to 40,669.36, and the Nasdaq composite fell 14.98 to 17,446.34.\\nIt still marked the close of a third straight losing month for the S&P 500. Stocks in the energy industry took some of the hardest hits, dropping over three times more than any of the other 11 sectors that make up the index.\\nHalliburton, an oil services company, lost nearly 22% in April as the price of crude slid on worries that tariffs will weaken the global economy.\\nIn the bond market, Treasury yields fell as investors ratcheted up their expectations for cuts to interest rates by the Fed. The yield on the 10-year Treasury eased to 4.17% from 4.19% late Tuesday.\\nLower interest rates in general give boosts to prices for stocks and other investments.\\nYields have largely been sinking since an unsettling, unusual spurt higher earlier this month rattled both Wall Street and the U.S. government. That rise had suggested investors worldwide may have been losing faith in the U.S. bond market’s reputation as a safe place to park cash.\\nIn stock markets abroad, indexes rose across much of Europe after finishing mixed in Asia.\\nAP Business Writers Matt Ott and Elaine Kurtenbach contributed.'"
            ],
            "application/vnd.google.colaboratory.intrinsic+json": {
              "type": "string"
            }
          },
          "metadata": {}
        },
        {
          "output_type": "stream",
          "name": "stdout",
          "text": [
            "\n",
            "Frame: AI in national security and global partnerships\n",
            "Sentiment: 3\n",
            "Lexicon S: 5\n",
            "\n",
            "The Middle East Has Entered the AI Group Chat\n"
          ]
        },
        {
          "output_type": "display_data",
          "data": {
            "text/plain": [
              "\"Donald Trump’s jaunt to the Middle East featured an entourage of billionaire tech bros, a fighter-jet escort, and business deals designed to reshape the global landscape of artificial intelligence.\\nOn the final stop of the tour in Abu Dhabi, the US president announced that unnamed US companies would partner with the United Arab Emirates to create the largest AI datacenter cluster outside of America.\\nTrump said that the US companies will help G42, an Emirati company, build five gigawatts of AI computing capacity in the UAE.\\nSheikh Tahnoon bin Zayed Al Nahyan, who leads the UAE’s Artificial Intelligence and Advanced Technology Council and is in charge of a $1.5 trillion fortune aimed at building AI capabilities, said the move will strengthen the UAE’s position “as a hub for cutting-edge research and sustainable development, delivering transformative benefits for humanity.”\\nA few days earlier, as Trump arrived in Riyadh, Saudi Arabia announced Humain, an AI investment firm owned by the kingdom’s Public Investment Fund. The Saudi firm launched with blockbuster deals already inked with Nvidia, AMD, Qualcomm, and AWS—US tech giants capable of building the infrastructure needed to train and power cutting-edge AI models.\\nTrump said in a speech in Riyadh that US and Saudi companies would do deals worth hundreds of billions of dollars, with a focus on infrastructure, tech, and defense.\\nThe deals forged in the Middle East this week are meant to strengthen the global importance of American silicon and AI, but they will also help nations like Saudi Arabia play a more significant role in the global race to develop and distribute cutting-edge technology.\\n“It will help the Saudis and the UAE become bigger players in providing AI infrastructure,” says Paul Triolo, a partner at DGA-Albright Stonebridge Group, a geopolitical consulting group. “It’s a big deal to get access to these GPUs.”\\nSaudi Arabia’s deal with Nvidia, which dominates the market for AI training hardware, will amount to 500 megawatts of capacity and involve “several hundred thousand of Nvidia’s most advanced GPUs over the next five years,” the company said in a statement.\\nAccording to one estimate, this could translate to around 250,000 of Nvidia’s most advanced chips, which are four times better at training and 30 times better at inference (running models that have already been trained) than the next-best offering. This capacity could lead Saudi Arabia to create frontier AI models.\\nAWS and Humain said they would jointly invest $5 billion in infrastructure in Saudi Arabia. AWS said in March that it will build an AI infrastructure zone in the country, investing more than $5.3 billion. Humain and AMD said they would spend $10 billion on AI infrastructure in Saudi Arabia and the US over the next five years.\\nSaudi Arabia, the UAE, and other nations in the region have vast quantities of oil money, access to plenty of power, and a strong desire to shift toward more high-tech economies by building out cutting-edge tech infrastructure. The countries also, however, have significant business ties to China, which sells technology to the region, placing them at the nexus of a growing geopolitical rivalry over the future of AI.\\nDiffusion Rule\\nA few days before Trump’s visit to the Middle East, his administration reversed a major Biden-era ruling that would have limited the sale of cutting-edge chips globally. The directive created tiers of nations with different access to cutting edge chips, and sought to limit how many chips Saudi Arabia and the UAE could buy. Critics of the rule suggested it might push some countries to buy Chinese technology instead.\\nIn a statement announcing the change, the US Bureau of Industry and Security said the Biden rule “would have stifled American innovation and saddled companies with burdensome new regulatory requirements” and “undermined U.S. diplomatic relations with dozens of countries by downgrading them to second-tier status.”\\nThe statement also issued guidance warning other nations to avoid using Huawei AI chips and calling on them to implement measures designed to prevent US chips from ending up in China. The directive did not specify the consequences of failing to comply.\\nTrump’s deals are designed to nudge the region towards greater alignment with the US, experts say. “This is not explicitly forcing Saudi Arabia and UAE to choose sides,” Triolo adds. “It is sort of saying ‘we’re making you an offer you can’t refuse’.”\\nThe deals could strengthen the US dollar by building financial ties between the West and the Middle East. They could also help America secure energy and mineral resources. The infrastructure built by Saudi Arabia and UAE is likely to serve local companies as well as those in regions like Africa. And because US models are far better than those produced in the Middle East—at least for now—this strategy could help ensure that more of the AI used around the world is made in America.\\nRobert Tager, director of the Oxford Martin AI Governance Initiative at the University of Oxford, says the deals made this week are part of an effort to strengthen US techno-influence globally—particularly as it relates to China.\\n“There is this framing of a race against China on the one hand, and a sense that the US would like to be fundamental to the tech stack around the world,” Tager says. “I think they don't know exactly how they want to square that circle, [but] the US doesn’t want a situation where DeepSeek is the basis for the AI ecosystem around the world.”\\nModel Making\\nSaudi Arabia and the UAE have both made concerted efforts to build cutting-edge AI in recent years, investing significantly in academic and industry labs working on frontier research.\\nIn 2020, the UAE hired Eric Xing, a prominent AI researcher, to lead the Mohamed bin Zayed University of Artificial Intelligence. Since then, a UAE government research lab has released several advanced Arabic language AI models known as Falcon. In 2021, Saudi Arabia’s King Abdullah University of Science and Technology recruited Jürgen Schmidhuber, a pioneer in modern AI, to head up its own AI initiative.\\nThe AI research produced by these nations has been of modest quality compared to the advancements coming out of the US and China, Triolo says. But having access to substantial AI computing power could accelerate the region’s progress. “It changes the balance of compute in the world,” Tager says of the number of Nvidia chips headed to Saudi Arabia.\\nGeorgia Adamson, a research associate with the Wadhwani AI Center at the Center for Strategic and International Studies, adds: “These aren’t your chips of yesterday, they are the next generation. It is incredibly interesting in terms of the capabilities they are going to get out of this.”\\nChina Calling\\nTension between the US and China make these deals complicated. Saudi Arabia and the UAE both have closer ties to China than countries that are considered close US allies, and use Huawei equipment for telecommunications infrastructure. Huawei is blacklisted by the US and a number of allies.\\nThe UAE has sought to sever some ties to address US concerns, with G42 announcing in 2024 that it would remove Chinese equipment from its facilities. In April of that year, G42 also signed a deal for Microsoft to invest and build infrastructure in the country. The UAE is also a key backer of OpenAI’s Stargate project, which aims to invest $500 billion to build AI infrastructure in the US.\\nThe development of AI hardware and infrastructure may be further complicated by the trade war between the US and China. High tariffs and restrictions on exports threatens to make such projects more expensive.\\nThere are two main risks for the US when it comes to the UAE and Saudi Arabia, says Adamson. The first is that the deals could allow chips to be smuggled into China or provide Chinese firms with access to large, cutting-edge computer clusters. The second is that these countries may eventually become technological rivals with the US. “There is a competition element here,” she notes. “We don’t want today’s allies to be tomorrow’s enemies.”\\nFor now, oil-rich nations are a boon to smaller US players in the AI race. In February, Saudi Arabia said it would invest $1.5 billion to expand a datacenter in Dammam operated by Groq, a US company that makes chips for efficient AI inference. In March, G42 said it would fund the development of a large datacenter in the US featuring chips from Cerebras, another US company hoping to rival Nvidia.\\nThe giant deals inked this week “signal that Saudi Arabia is aiming to be a global AI player,” says a source who works closely with several governments on AI. They asked to remain anonymous to avoid damaging those relationships. Saudi Arabia has embarked on ambitious efforts to digitalize its economy to help with AI training and deployment, as well as investing in talent. “These commitments suggest that Saudi Arabia views AI not just as a technological frontier but as a strategic sector to diversify its economy beyond oil,” the source adds.\""
            ],
            "application/vnd.google.colaboratory.intrinsic+json": {
              "type": "string"
            }
          },
          "metadata": {}
        },
        {
          "output_type": "stream",
          "name": "stdout",
          "text": [
            "\n",
            "Frame: AI competition and market dynamics in tech industries\n",
            "Sentiment: -1\n",
            "Lexicon S: -5\n",
            "\n",
            "Will the Google antitrust ruling shake up the internet?\n"
          ]
        },
        {
          "output_type": "display_data",
          "data": {
            "text/plain": [
              "'Tech industry observers warned that Google\\'s loss in a high-profile federal antitrust case could change how you search the internet. That prediction is closer to becoming true: The government is now asking a judge to force the company to sell off its Chrome browser business.\\nGovernment lawyers argue Google should be required to separate \"its search engine from products it has built to access the internet,\" said The Wall Street Journal. Chrome controls about two-thirds of the browser market — and all those browsers are set to use Google\\'s search engine by default, helping give it 90% of the search market. Spinning off the browser business \"could upend an industry\" in which search competitors like Microsoft\\'s Bing and DuckDuckGo have relatively miniscule shares, said the Journal. Google execs don\\'t like the government proposal, calling it \"wildly overbroad.\"\\nBut if Google is forced to sell Chrome, \"finding a buyer for what would be a multibillion-dollar company could be challenging,\" said The Washington Post. \"If Amazon owns it, it just reinforces their monopoly in commerce,\" said Ari Paparo, an online advertising executive. A possible option? Spinning Chrome off into a nonprofit like Mozilla, which oversees the Firefox browser. One thing that\\'s clear: Google\\'s August loss in the antitrust case could have ramifications across the tech industry.\\n\"The ruling threatens to alter one of Apple\\'s most lucrative business arrangements,\" said The New York Times\\' DealBook newsletter. The iPhone maker received $20 billion from Google in 2022 alone to give its search engine preference on Apple devices. That\\'s a revenue stream that could now go away. \"Would Apple look to Microsoft\\'s Bing or someone else to power search on the iPhone?\" Or could it create its own search engine? Whatever happens, the ruling \"threatens to disrupt one of the most valuable businesses in modern history, and Big Tech more broadly.\"\\n\"The court\\'s decision was the correct one, but it came way too late to make a real difference,\" Dave Lee said at Bloomberg. The case took six years to come to fruition, and it\\'s likely the ultimate result might dent Google\\'s market share \"by a percentage point here and there.\" But it\\'s hard to see a real competitor on the horizon: Microsoft added artificial intelligence functionality to its Bing search engine and it \"didn\\'t make the faintest bit of difference.\" Even with an adverse ruling, Google might still be too big to fail. \"Whatever window may have been open for a Google competitor to arise was sealed shut firmly long ago.\"\\nWhat next?\\n\"It\\'s hard to imagine something different\" from the current Google-dominated internet, Shira Ovide said at The Washington Post. Now there\\'s an opportunity. One possibility: Google could be forced to share its \"secret sauce\" — built from the data of all those users — with other search companies to let those rivals \"make more appealing search engines.\" But it\\'s also possible that nothing much will change, at least from a user standpoint. \"That\\'s what happened after Google was found to have broken the European Union\\'s anti-monopoly laws.\"\\nIndeed, some observers believe the government might lose its attempt to force Google to sell off its browser business. \"It would strike me as an over-ask,\" Kevin Walkush at Jensen Investment Management said to Reuters. The Justice Department tried to break up Microsoft in the early 2000s and ultimately failed. And there\\'s a real question whether selling Chrome would address the key problem raised by the government, which is Google\\'s domination of the search market. \"Divesting Chrome does absolutely nothing to address this concern,\" said Gus Hurwitz of the University of Pennsylvania Carey Law School'"
            ],
            "application/vnd.google.colaboratory.intrinsic+json": {
              "type": "string"
            }
          },
          "metadata": {}
        },
        {
          "output_type": "stream",
          "name": "stdout",
          "text": [
            "\n",
            "Frame: AI impacts on businesses, economy, and jobs\n",
            "Sentiment: -4\n",
            "Lexicon S: 5\n",
            "\n",
            "OPINION: Artificial Intelligence impact on future business positions\n"
          ]
        },
        {
          "output_type": "display_data",
          "data": {
            "text/plain": [
              "\"Artificial Intelligence (AI) is revolutionizing industries, but it also poses significant risks to certain professions. Below are the top 10 professions most at risk of being replaced or significantly disrupted by AI, supported by a few facts, figures and logic.\\nData entry clerks: AI excels at repetitive tasks like data entry, making this profession highly vulnerable. Automated systems can process vast amounts of data with speed and accuracy, reducing errors and costs. According to McKinsey, 69% of data processing tasks could already be automated using current technologies. This makes data entry one of the first roles to be replaced as businesses prioritize efficiency.\\nCustomer service representatives: AI-powered chatbots and virtual assistants are increasingly handling routine customer inquiries. Gartner predicts that by 2025, 95% of customer service interactions will involve AI. Companies benefit from reduced labor costs and 24/7 availability, leaving human agents to handle only complex issues. This trend could displace millions of customer service jobs globally.\\nManufacturing and assembly line workers: Automation has been reshaping manufacturing for decades, but AI-driven robotics is accelerating the trend. Oxford Economics estimates up to 20 million manufacturing jobs could be replaced by robots globally by 2030. Robots equipped with AI can perform repetitive tasks more efficiently and consistently than humans, leading to widespread job displacement in this sector.\\nTransportation and logistics workers: The rise of autonomous vehicles threatens jobs in transportation, particularly for truck drivers and delivery personnel. A study by the American Center for Mobility estimates that self-driving trucks alone could replace nearly 294,000 long-haul trucking jobs in the U.S. Companies like Tesla and Waymo are already testing autonomous fleets, signaling a shift that could disrupt millions of livelihoods.\\nRetail cashiers and salespeople: Self-checkout systems and e-commerce platforms powered by AI are reducing the need for retail staff. The British Retail Consortium reports a 12% decline in retail jobs in the UK since 2008, partly due to automation. With AI-driven recommendation engines enhancing online shopping experiences, traditional retail roles are increasingly at risk.\\nProofreaders and translators: Advances in Natural Language Processing have enabled AI tools like Grammarly and Google Translate to perform proofreading and translation tasks with high accuracy. While nuanced content still requires human expertise, routine tasks are being automated rapidly. This trend threatens jobs that rely heavily on language processing.\\nFinancial analysts: AI's ability to analyze large datasets and identify patterns is transforming financial analysis. Algorithmic trading already accounts for over 90% of stock market trades. Routine tasks such as investment analysis and risk assessment are increasingly handled by AI, making many entry-level financial analyst roles redundant.\\nBookkeepers and accountants: AI-powered accounting software like QuickBooks automates bookkeeping tasks such as expense tracking, invoicing and tax preparation. The UK's Office for National Statistics estimates that 25% of accounting jobs are at high risk of automation. While complex financial planning still requires human input, basic accounting roles are rapidly diminishing.\\nRadiologists and diagnostic technicians: AI is proving highly effective in medical imaging analysis, often matching or surpassing human accuracy. A study in The Lancet Digital Health found that AI systems can detect diseases like cancer with comparable precision to radiologists. As hospitals adopt these technologies to improve efficiency and reduce costs, diagnostic roles face significant disruption.\\nTelemarketers: Telemarketing is one of the professions most susceptible to automation due to its scripted nature. AI-driven voice systems can handle sales calls efficiently, reducing the need for human telemarketers. With an estimated automation potential of 95%, this role is likely to be almost entirely replaced by AI in the coming years.\\nWhile many areas will be disrupted, there will be many opportunities provided by this rapidly emerging technology. Next week we will touch on merging careers that we can start training our youth or even ourselves to be better prepared for the future of AI.\""
            ],
            "application/vnd.google.colaboratory.intrinsic+json": {
              "type": "string"
            }
          },
          "metadata": {}
        },
        {
          "output_type": "stream",
          "name": "stdout",
          "text": [
            "\n",
            "Frame: AI in politics, elections, and public opinion\n",
            "Sentiment: -5\n",
            "Lexicon S: -5\n",
            "\n",
            "'Form Of Violence': Across Globe, Deepfake Porn Targets Women Politicians\n"
          ]
        },
        {
          "output_type": "display_data",
          "data": {
            "text/plain": [
              "'From the United States to Italy, Britain, and Pakistan, female politicians are increasingly becoming victims of AI-generated deepfake pornography or sexualized images, in a troubling trend that researchers say threatens women\\'s participation in public life.\\nAn online boom in non-consensual deepfakes is outpacing efforts to regulate the technology globally, experts say, with a proliferation of cheap artificial intelligence tools including photo apps digitally undressing women.\\nThe intimate imagery is often weaponized to tarnish the reputation of women in the public sphere, jeopardizing their careers, undermining public trust, and threatening national security by creating conditions for blackmail or harassment, researchers say.\\nIn the United States, the American Sunlight Project, a disinformation research group, identified more than 35,000 instances of deepfake content depicting 26 members of Congress -- 25 of them women -- across pornographic sites.\\nA study published by the group last month showed that nearly one in six women in Congress have been victims of such AI-generated imagery.\\n\"Female lawmakers are being targeted by AI-generated deepfake pornography at an alarming rate,\" said Nina Jankowicz, chief executive of the ASP. \"This isn\\'t just a tech problem -- it\\'s a direct assault on women in leadership and democracy itself.\"\\nASP did not release the names of the female lawmakers depicted in the imagery to avoid public searches, but it said it privately notified their offices.\\nIn the United Kingdom, Deputy Prime Minister Angela Rayner was among more than 30 British female politicians found to be targeted by a deepfake porn website, according to a Channel 4 investigation published last year.\\nThe high-traction site, which was unnamed, appeared to use AI technology to \"nudify\" about a dozen of those politicians, turning their photos into naked images without their consent, it said.\\nThe tech advancements have given rise to what researchers call an expanding cottage industry around AI-enhanced porn, where users can turn to widely available AI tools and apps to digitally strip off clothing from pictures or generate deepfakes using sexualized text-to-image prompts.\\nIn Italy, Prime Minister Giorgia Meloni is seeking 100,000 euros ($102,950) in damages from two men accused of creating deepfake porn videos featuring her and posting them to American porn websites.\\n\"This is a form of violence against women,\" Meloni told a court last year, according to the Italian news agency ANSA.\\n\"With the advent of artificial intelligence, if we allow the face of some woman to be superimposed on the body of another woman, our daughters will find themselves in these situations, which is exactly why I consider it legitimate to wage this war.\"\\nIn Pakistan, AFP\\'s fact-checkers debunked a deepfake video that showed lawmaker Meena Majeed publicly hugging an unrelated male minister, an act culturally deemed immoral in a conservative Muslim-majority nation.\\nIn a separate episode, Azma Bukhari, the information minister of the Pakistani province of Punjab, said she felt \"shattered\" after discovering a deepfake video online that superimposed her face on the sexualized body of an Indian actor.\\n\"The chilling effect of AI-generated images and videos used to harass women in politics is a growing phenomenon,\" the nonprofit Tech Policy Press said last year, warning that the trend will have a \"silencing effect on the political ambitions\" of women.\\nThe proliferation of deepfakes has outstripped regulation around the world.\\nPakistan lacks legislation to combat sexualized deepfakes. UK laws criminalize sharing deepfake porn and the government has pledged to ban its creation this year, but so far no firm timetable has been laid out.\\nA handful of US states including California and Florida have passed laws making sexually explicit deepfakes a punishable offense and campaigners are calling on Congress to urgently pass a host of bills to regulate their creation and dissemination.\\nWhile high-profile politicians and celebrities, including singer Taylor Swift, have been victims of deepfake porn, experts say women not in the public eye are equally vulnerable.\\nAfter ASP notified the targeted US Congresswomen, the fake AI-generated imagery was almost entirely scraped from the websites, reflecting what it called a \"disparity of privilege.\"\\n\"Women who lack the resources afforded to members of Congress would be unlikely to achieve such a rapid response from deepfake pornography sites if they initiated a takedown request themselves,\" ASP said.'"
            ],
            "application/vnd.google.colaboratory.intrinsic+json": {
              "type": "string"
            }
          },
          "metadata": {}
        },
        {
          "output_type": "stream",
          "name": "stdout",
          "text": [
            "\n",
            "Frame: AI impacts on businesses, economy, and jobs\n",
            "Sentiment: 0\n",
            "Lexicon S: 5\n",
            "\n",
            "An expert’s take on where AI is headed in 2025?\n"
          ]
        },
        {
          "output_type": "display_data",
          "data": {
            "text/plain": [
              "'As artificial intelligence continues to grow at a rapid pace, more and more businesses are grappling with how to adapt both quickly and responsibly. Dan Priest is the new chief AI officer at Pw…\\nAlready an INSIDER? Sign in.\\nWe are glad you enjoy reading Business Report.\\nContinue reading this story and get ACCESS to all our content from any device with a subscription now.\\nGet access to more than a decade of story archives.\\nGet access to our searchable data center of TOP LISTS.\\nGet exclusive content only available to INSIDERS.'"
            ],
            "application/vnd.google.colaboratory.intrinsic+json": {
              "type": "string"
            }
          },
          "metadata": {}
        },
        {
          "output_type": "stream",
          "name": "stdout",
          "text": [
            "\n",
            "Frame: AI disruptions in media and creative industries\n",
            "Sentiment: -5\n",
            "Lexicon S: 5\n",
            "\n",
            "Column: AI is coming for Hollywood\n"
          ]
        },
        {
          "output_type": "display_data",
          "data": {
            "text/plain": [
              "'Artificial Intelligence is primed to take over Hollywood with all the subtlety of the Kool-Aid Man busting through a wall.\\nProponents of AI are making bold promises. That potentially means human creativity will be replaced by the theft — sorry, data scraping — of pre-existing words, sounds, images and ideas. Jobs will be lost as human actors and crew are eliminated from the process. Clean water will be wasted, with billions of gallons needed to cool data centers. What will be left is anyone’s guess.\\nDespite these concerns, AI has found (bought?) a berth at film festivals, which purportedly exist to celebrate the art of cinema. At Cannes this year, a producer was hawking AI translations of international films. Actors who make a living dubbing such films? Soon to be obsolete apparently.\\nEarlier this month, a Korean film festival in the city of Bucheon launched its first competition dedicated to AI filmmaking. And closer to home, the Tribeca Film Festival in New York featured a program of short films made with generative AI.\\nAmong the filmmakers taking part was Nikyatu Jusu, the writer-director of the horror feature “Nanny,” which won the Grand Jury prize at Sundance in 2022. My colleague Michael Phillips called it an “eerie, assured feature film debut,” and it also got a home video release from the prestigious Criterion Collection. All of this is background to say: Jusu is respected and her work is well-regarded. So it came as a shock to many that she was embracing AI.\\nThat’s because she expressed her own concerns a year ago on social media: “Can’t stop thinking about all the various ways AI will be used to replace living, breathing minoritized artists already struggling to tell their own stories. AI will become mock representation — an empty mimicry of Black and brown people’s light commodified and vomited back to us.”\\nThese are valid concerns. But last week she was promoting her Tribeca premiere on Twitter with a still image from the film and the caption: “Crucify me now, get it out of your system.” Some people engaged in good faith. “Not an attempt to crucify: What made the plagiarism tool attractive as a filmmaker?” someone said. “Ask the people who created it and studio execs who are currently implementing it,” she replied. “Odd to ask the creatives at the bottom adapting to inevitable change … this is here whether you kick and scream or not.”\\nI don’t know that AI-made films are inevitable, but let’s table that for a moment.\\n“This is so depressing,” someone else said. “I know,” she replied facetiously, “so many Black faces.”\\nBut of course, none of the faces in her film belong to actual Black people. Those images were constructed from real people who did not give their consent, nor did they receive compensation. How is that a win for representation? To quote Jusu’s own words, this is “mock representation” and “empty mimicry.”\\nOthers were less polite in their comments and Jusu eventually deactivated her account. I reached out to see if she would be open to talking but did not get a response. Some questions I would have asked: What was it like making a film this way? Was it creatively fulfilling? What did she learn from using this technology? Is she allowed to talk freely about the experience, or was she asked to sign an NDA prohibiting her from discussing the tech in anything but glowing terms?\\nPeople make all kinds of decisions for reasons we aren’t privy to. Sometimes there are financial considerations. Sometimes people simply rethink where they stand: If you can’t beat ‘em, join ‘em. So I would have also asked: What changed her mind about AI?\\nI hope Jusu is given grace for what might have been a decision made under stressful conditions — funding and jobs have dried up for many in Hollywood at the moment, where everyone is encouraged to “stay alive until ’25” — but I also hope that, going forward, she gets more opportunities to make films the traditional way.\\nBut we should be wary of AI for ethical and philosophical reasons alone. According to the Human Rights Watch, “personal photos of Brazilian children are being used to create powerful artificial intelligence tools without the children’s knowledge or consent.” According to another report, Google image search is “serving users AI-generated images of celebrities in swimsuits and not indicating that the images are AI-generated” and in some cases, those celebrities “are made to look like underage children.”\\nEven from a craven capitalistic point of view, does it seem odd that studios aren’t more vocal about potential copyright infringement?\\nThere are aesthetic concerns as well.\\nAs of last year, Robert Zemeckis had plans for a movie starring Tom Hanks and Robin Wright that will use “new hyperrealistic technology including AI-generated face replacements and de-aging to allow its stars to tell a story that spans generations.”\\nDirectors used to simply cast other actors to play different versions of the same character — and happily, many still do. That’s one of the more enjoyable aspects of “Interview with the Vampire” on AMC. The show didn’t opt for de-aging software to make 71-year-old Eric Bogosian look younger for scenes set in the past, but hired 36-year-old Luke Brandon Field, who looks a lot like Bogosian and has the talent to emulate his performance. One of my favorite examples is 11-year-old Mayim Bialik playing the younger version of Bette Midler’s character in 1988’s “Beaches.” As a viewer, I don’t want to lose that. I don’t want actors to lose those opportunities, either.\\nThere are other potential uses for AI floating around, one of which was recently touted by Ashton Kutcher: “You’ll just come up with an idea for a movie, then it will write the script, then you’ll input the script into the video generator and it will generate the movie. Instead of watching some movie that somebody else came up with, I can just generate and then watch my own movie.”\\nI can not imagine anything worse. After a long day, I have to do more work just to watch something entertaining? How bleak! “What if each time you watched a movie, it played out differently?” teased another news report. “The idea is to use AI to mix up scenes and create completely different versions of the same movie each time it is played.”\\nThese are terrible ideas.\\n“Going all the way back to gathering around the fire, we like to be together to tell stories, it’s important to us,” technologist and media analyst Sydette Harry told me. “Cinema was another physical manifestation of that. Social media is the digital manifestation.”\\nThe word community gets tossed around a lot and may have been flattened in the process. But experiencing entertainment together can be a cultural bonding agent, which has been fractured by the binge-release model on streaming. These proposed uses for AI will fracture the experience even further.\\n“Another thing about AI,” Harry said, “is that it likes to put a definitive stamp on things: This is ‘the knowledge’ because we’ve scraped all there is to know. Well, we really don’t know all there is to know.” There is an entire history of existence that has not been digitized, which means as far as AI is concerned, it doesn’t exist.\\nThere’s an assumption that if you’re resistant to AI, you don’t want progress, Harry said. “But if you want creative progress, you have to leave space for things to be sloppy” and allow for ideas to spring from imperfections and happy accidents. “Think about the things in cinema that are really amazing. If you were in a real gunfight, the one thing you never want to do is the traditional John Woo limbs-akimbo pose. But it looks amazing on screen and now it’s a signature thing dreamed up by an amazing filmmaker.”\\n“People’s discomfort with the human learning process — and the ability to play around — should not become the guide rails for our art forms,” she said. “We have to allow for it if you want any kind of culture. Putting it through a computer that has weighted judgments about what’s important? Well, that makes somebody in an executive office feel good and then nobody has to be accountable for what a show or film is saying because the black box of the computer said it.”\\nEven if AI is a cheaper way to make films initially, I suspect that will change; once studios become reliant on it, prices will go up (not unlike Uber’s pricing trajectory) but it will be harder for studios to go back to the “old” way because fewer people will have the necessary skills anymore.\\nIt’s worth hearing out the concerns of people who don’t have a financial stake in AI’s domination. Privacy expert Meredith Whittaker recently described the AI business model this way: “It costs hundreds of millions of dollars to train these models, so there is deep pressure from companies — that are basically promising God and delivering email prompts — to make some return on investment in this technology.”\\nTimnit Gebru is a researcher in AI ethics and she is less convinced the technology is a fait accompli: “This ‘it is inevitable’ discourse is designed to disempower. It’s not inevitable. These dudes don’t need to be handed ridiculous amounts of money to realize their dystopian utopia.”\\nAnd according to at least one recent headline: “Payoff from AI projects is ‘dismal’, biz leaders complain.” Despite the marketing and propaganda, AI isn’t even the golden goose.\\nNina Metz is a Tribune critic.'"
            ],
            "application/vnd.google.colaboratory.intrinsic+json": {
              "type": "string"
            }
          },
          "metadata": {}
        },
        {
          "output_type": "stream",
          "name": "stdout",
          "text": [
            "\n",
            "Frame: Other - Company Stock Analysis\n",
            "Sentiment: 1\n",
            "Lexicon S: 5\n",
            "\n",
            "Booz Allen Hamilton (BAH) Stock Price, News & Analysis\n"
          ]
        },
        {
          "output_type": "display_data",
          "data": {
            "text/plain": [
              "'$111.84 +2.52 (+2.30%)\\nExtended Trading\\n$112.11 +0.27 (+0.24%)\\nAbout Booz Allen Hamilton Stock (NYSE:BAH)\\nGet Booz Allen Hamilton alerts:\\nKey Stats\\nToday\\'s Range\\n$109.16\\n▼\\n$112.29\\n50-Day Range\\n$99.87\\n▼\\n$129.69\\n52-Week Range\\n$98.95\\n▼\\n$190.59\\nVolume\\n2.64 million shs\\nAverage Volume\\n1.82 million shs\\nMarket Capitalization\\n$13.89 billion\\nP/E Ratio\\n15.43\\nDividend Yield\\n1.97%\\nPrice Target\\n$134.64\\nConsensus Rating\\nHold\\nCompany Overview\\nBooz Allen Hamilton Inc. is a leading management and technology consulting firm that advises public and private sector clients on strategy, operations, digital transformation and cybersecurity. The firm leverages deep domain expertise and advanced analytics to help organizations navigate complex challenges in defense, intelligence, civil, health, energy and financial services. Clients rely on Booz Allen Hamilton for end-to-end solutions spanning strategy development, technology modernization, data science, engineering and mission support services.\\nFounded in 1914 by Edwin G. Booz, the company established its reputation as one of the original management consultancies before expanding into technology and digital services. Although headquartered in McLean, Virginia, it operates through offices and delivery centers across North America, Europe, the Middle East and Asia-Pacific. Booz Allen Hamilton completed its initial public offering in 2010 and has since continued to balance organic growth with targeted acquisitions to broaden its capabilities and global footprint.\\nBooz Allen Hamilton’s offerings include digital engineering, artificial intelligence and machine learning, cloud computing, cybersecurity, advanced analytics and organizational change management. In addition to advising on policy, strategy and risk, the firm designs, builds and manages technology platforms that streamline operations and enhance decision-making. Its consulting teams partner with government agencies—such as defense and intelligence organizations—and private enterprises in sectors including healthcare, energy, financial services and telecommunications.\\nThe company is led by President and Chief Executive Officer Horacio Rozanski, supported by a senior leadership team with extensive industry and public service backgrounds. Under Rozanski’s direction, Booz Allen Hamilton has emphasized a culture of innovation, diversity and ethical stewardship. The firm also maintains a strong commitment to corporate social responsibility, investing in workforce development, STEM education and community engagement initiatives around the world.\\nAI Generated. May Contain Errors.\\nBooz Allen Hamilton Stock Analysis - MarketRank™\\nSee Top-Rated MarketRank™ Stocks\\n98th Percentile Overall Score\\nBAH MarketRank™:\\nBooz Allen Hamilton scored higher than 98% of companies evaluated by MarketBeat, and ranked 10th out of 303 stocks in the business services sector. Scores are calculated by averaging available category scores, with extra weight given to analysis and valuation.\\nConsensus Rating\\nBooz Allen Hamilton has received a consensus rating of Hold. The company\\'s average rating score is 2.25, and is based on 3 buy ratings, 6 hold ratings, and 2 sell ratings.\\nAmount of Analyst Coverage\\nBooz Allen Hamilton has been the subject of 7 research reports in the past 90 days, demonstrating strong analyst interest in this stock.\\nRead more about Booz Allen Hamilton\\'s stock forecast and price target.\\nEarnings Growth\\nEarnings for Booz Allen Hamilton are expected to grow by 7.76% in the coming year, from $6.44 to $6.94 per share.\\nPrice to Earnings Ratio vs. the Market\\nThe P/E ratio of Booz Allen Hamilton is 15.43, which means that it is trading at a less expensive P/E ratio than the market average P/E ratio of about 26.38.\\nPrice to Earnings Ratio vs. Sector\\nThe P/E ratio of Booz Allen Hamilton is 15.43, which means that it is trading at a less expensive P/E ratio than the Business Services sector average P/E ratio of about 28.15.\\nPrice to Earnings Growth Ratio\\nBooz Allen Hamilton has a PEG Ratio of 1.71. PEG Ratios above 1 indicate that a company could be overvalued.\\nPrice to Book Value per Share Ratio\\nBooz Allen Hamilton has a P/B Ratio of 14.12. P/B Ratios above 3 indicate that a company could be overvalued with respect to its assets and liabilities.\\nRead more about Booz Allen Hamilton\\'s valuation and earnings.\\nPercentage of Shares Shorted\\n3.40% of the float of Booz Allen Hamilton has been sold short.\\nShort Interest Ratio / Days to Cover\\nBooz Allen Hamilton has a short interest ratio (\"days to cover\") of 2, which is generally considered an acceptable ratio of short interest to trading volume.\\nChange versus previous month\\nShort interest in Booz Allen Hamilton has recently increased by 2.21%, indicating that investor sentiment is decreasing.\\nDividend Yield\\nBooz Allen Hamilton pays a meaningful dividend of 2.01%, higher than the bottom 25% of all stocks that pay dividends.\\nDividend Growth\\nBooz Allen Hamilton has been increasing its dividend for 14 years.\\nDividend Coverage\\nThe dividend payout ratio of Booz Allen Hamilton is 30.34%. This payout ratio is at a healthy, sustainable level, below 75%.\\nDividend Sustainability\\nBased on earnings estimates, Booz Allen Hamilton will have a dividend payout ratio of 31.70% next year. This indicates that Booz Allen Hamilton will be able to sustain or increase its dividend.\\nRead more about Booz Allen Hamilton\\'s dividend.\\nPercentage of Shares Shorted\\n3.40% of the float of Booz Allen Hamilton has been sold short.\\nShort Interest Ratio / Days to Cover\\nBooz Allen Hamilton has a short interest ratio (\"days to cover\") of 2, which is generally considered an acceptable ratio of short interest to trading volume.\\nChange versus previous month\\nShort interest in Booz Allen Hamilton has recently increased by 2.21%, indicating that investor sentiment is decreasing.\\nNews Sentiment\\nBooz Allen Hamilton has a news sentiment score of 0.87. This score is calculated as an average of sentiment of articles about the company over the last seven days and ranges from 2 (good news) to -2 (bad news). This is a higher news sentiment than the 0.69 average news sentiment score of Business Services companies.\\nNews Coverage This Week\\nMarketBeat has tracked 25 news articles for Booz Allen Hamilton this week, compared to 16 articles on an average week.\\nSearch Interest\\nOnly 12 people have searched for BAH on MarketBeat in the last 30 days. This is a decrease of -14% compared to the previous 30 days.\\nMarketBeat Follows\\nOnly 3 people have added Booz Allen Hamilton to their MarketBeat watchlist in the last 30 days. This is a decrease of -67% compared to the previous 30 days.\\nInsider Buying vs. Insider Selling\\nIn the past three months, Booz Allen Hamilton insiders have not sold or bought any company stock.\\nPercentage Held by Insiders\\nOnly 0.91% of the stock of Booz Allen Hamilton is held by insiders.\\nPercentage Held by Institutions\\n91.82% of the stock of Booz Allen Hamilton is held by institutions. High institutional ownership can be a signal of strong market trust in this company.\\nRead more about Booz Allen Hamilton\\'s insider trading history.\\nReceive BAH Stock News and Ratings via Email\\nSign-up to receive the latest news and ratings for Booz Allen Hamilton and its competitors with MarketBeat\\'s FREE daily newsletter.\\nEmail Address\\nBAH Stock News Headlines\\nTrump’s Exec Order #14154 could be a “Millionaire-Maker”\\nFormer Presidential Advisor, Jim Rickards, says Trump could “rewire our economy and hand millions of Americans a chance at true financial independence in the months ahead.” We recently sat down with Rickards to capture all the key details on tape.\\nSee More Headlines\\nBAH Stock Analysis - Frequently Asked Questions\\nBooz Allen Hamilton\\'s stock was trading at $128.70 on January 1st, 2025. Since then, BAH stock has decreased by 13.1% and is now trading at $111.8380.\\nBooz Allen Hamilton Holding Corporation (NYSE:BAH) posted its quarterly earnings results on Friday, May, 23rd. The business services provider reported $1.61 earnings per share for the quarter, topping analysts\\' consensus estimates of $1.59 by $0.02. Booz Allen Hamilton\\'s revenue was up 7.3% compared to the same quarter last year.\\nRead the conference call transcript.\\nThe following companies are subsidiaries of Booz Allen Hamilton: Morphick Cyber Security, eGov Holdings, Aquilent, Sparc, Epidemico, ARINC- Defense Systems Engineering and Support Division, Booz Allen Cyber Solutions LLC, and more.\\nTop institutional shareholders of Booz Allen Hamilton include Argent Capital Management LLC (0.62%), Congress Asset Management Co. (0.53%), Bartlett & CO. Wealth Management LLC (0.43%) and Truist Financial Corp (0.31%). Insiders that own company stock include Ralph W Shrader, Horacio Rozanski, Lloyd Howell Jr, Kristine Anderson, Susan L Penfield, Matthew Calderone, Richard Crowe, Nancy Laben, Elizabeth M Thompson and Melody C Barnes.\\nView institutional ownership trends.\\nShares of BAH stock can be purchased through any online brokerage account. Popular online brokerages with access to the U.S. stock market include Charles Schwab, E*TRADE, Fidelity, and Vanguard Brokerage Services.\\nBased on aggregate information from My MarketBeat watchlists, some other companies that Booz Allen Hamilton investors own include NVIDIA (NVDA), Humana (HUM), Broadcom (AVGO), Meta Platforms (META), Salesforce (CRM), Arista Networks (ANET) and American Water Works (AWK).\\nCompany Calendar\\nLast Earnings\\n5/23/2025\\nRecord date for 6/27 Dividend\\n6/11/2025\\nEx-Dividend for 6/27 Dividend\\n6/11/2025\\nDividend Payable\\n6/27/2025\\nToday\\n7/22/2025\\nNext Earnings (Estimated)\\n7/25/2025\\nFiscal Year End\\n3/31/2026\\nIndustry, Sector and Symbol\\nStock Exchange\\nNYSE\\nSector\\nBusiness Services\\nIndustry\\nConsulting\\nSub-Industry\\nIT Consulting & Other Services\\nCurrent Symbol\\nNYSE:BAH\\nCIK\\n1443646\\nPhone\\n(703) 902-5000\\nFax\\n703-902-3333\\nEmployees\\n35,800\\nYear Founded\\n1914\\nPrice Target and Rating\\nHigh Price Target\\n$190.00\\nLow Price Target\\n$94.00\\nPotential Upside/Downside\\n+20.4%\\nConsensus Rating\\nHold\\nRating Score (0-4)\\n2.25\\nResearch Coverage\\n12 Analysts\\nProfitability\\nEPS (Trailing Twelve Months)\\n$7.25\\nTrailing P/E Ratio\\n15.43\\nForward P/E Ratio\\n17.37\\nP/E Growth\\n1.71\\nNet Income\\n$935 million\\nNet Margins\\n7.81%\\nPretax Margin\\n10.18%\\nReturn on Equity\\n72.35%\\nReturn on Assets\\n11.77%\\nDebt\\nDebt-to-Equity Ratio\\n3.90\\nCurrent Ratio\\n1.79\\nQuick Ratio\\n1.79\\nSales & Book Value\\nAnnual Sales\\n$11.98 billion\\nPrice / Sales\\n1.16\\nCash Flow\\n$7.91 per share\\nPrice / Cash Flow\\n14.13\\nBook Value\\n$7.92 per share\\nPrice / Book\\n14.12\\nMiscellaneous\\nOutstanding Shares\\n124,190,000\\nFree Float\\n123,058,000\\nMarket Cap\\n$13.89 billion\\nOptionable\\nOptionable\\nBeta\\n0.48\\nSocial Links\\nExplore Elon Musk’s boldest ventures yet—from AI and autonomy to space colonization—and find out how investors can ride the next wave of innovation.\\nGet This Free Report\\nThis page (NYSE:BAH) was last updated on by MarketBeat.com Staff\\nFrom Our Partners\\nAdding\\nChoose a watchlist:\\nWatchlist\\nSign in to your free account to enjoy these benefits\\nIn-depth profiles and analysis for 20,000 public companies.\\nReal-time analyst ratings, insider transactions, earnings data, and more.\\nOur daily ratings and market update email newsletter.\\nSign in to your free account to enjoy all that MarketBeat has to offer.\\nSign In\\nCreate Account\\nYour Email Address:\\nEmail Address Required\\nYour Password:\\nPassword Required\\nLog In\\nor\\nYour Email Address:\\nPlease enter your email address.\\nPlease enter a valid email address\\nChoose a Password:\\nPlease enter your password.\\nYour password must be at least 8 characters long and contain at least 1 number, 1 letter, and 1 special character.\\nor\\nBy creating a free account, you agree to our terms of service. This site is protected by reCAPTCHA and the Google Privacy Policy and Terms of Service apply.'"
            ],
            "application/vnd.google.colaboratory.intrinsic+json": {
              "type": "string"
            }
          },
          "metadata": {}
        },
        {
          "output_type": "stream",
          "name": "stdout",
          "text": [
            "\n"
          ]
        }
      ]
    },
    {
      "cell_type": "code",
      "source": [
        "df = pd.read_csv('/content/drive/MyDrive/Mediacloud/France/intelligence_artificielle_france_cleaned_2024-06-01_2025-06-01_frames_sentiments_newsplease_mediacloud_gemini_2-5.csv')\n",
        "df[\"sentiment_lexicon\"] = df[\"maintext\"].apply(get_sentiment)\n",
        "len(df)"
      ],
      "metadata": {
        "colab": {
          "base_uri": "https://localhost:8080/"
        },
        "id": "KQhJBoMY0AYq",
        "outputId": "6263bb0a-0d2f-4657-c503-99da4e7f8bd8"
      },
      "execution_count": null,
      "outputs": [
        {
          "output_type": "execute_result",
          "data": {
            "text/plain": [
              "1000"
            ]
          },
          "metadata": {},
          "execution_count": 27
        }
      ]
    },
    {
      "cell_type": "code",
      "source": [
        "df_sample = df.sample(n=10, random_state=42)\n",
        "df_sample = df_sample.reset_index(drop=True)\n",
        "len(df_sample)"
      ],
      "metadata": {
        "colab": {
          "base_uri": "https://localhost:8080/"
        },
        "id": "NI0aBraG1Ls8",
        "outputId": "cb04e3e3-cafe-440f-a3e4-a351f1cdc261"
      },
      "execution_count": null,
      "outputs": [
        {
          "output_type": "execute_result",
          "data": {
            "text/plain": [
              "10"
            ]
          },
          "metadata": {},
          "execution_count": 28
        }
      ]
    },
    {
      "cell_type": "code",
      "source": [
        "#Gemini 2.5 frames     FR:  8/10 -> 0111111101\n",
        "#Gemini 2.5 sentiments FR: 10/10 -> 1111111111\n",
        "#Lexicon sentiments    FR:  3/10 -> 0111000000"
      ],
      "metadata": {
        "id": "lXbgQEx91Umr"
      },
      "execution_count": null,
      "outputs": []
    },
    {
      "cell_type": "code",
      "source": [
        "for i in range(len(df_sample)):\n",
        "    print(\"Frame:\", df_sample.frame[i])\n",
        "    print(\"Sentiment:\", df_sample.sentiment[i])\n",
        "    print(\"Lexicon S:\", df_sample.sentiment_lexicon[i])\n",
        "    print()\n",
        "    print(df_sample.title[i])\n",
        "    display(df_sample.maintext[i])\n",
        "    print()"
      ],
      "metadata": {
        "colab": {
          "base_uri": "https://localhost:8080/",
          "height": 1000
        },
        "id": "yd7fsXAH1fPm",
        "outputId": "db6fc44a-2764-4b43-8152-df43c8d59ef0"
      },
      "execution_count": null,
      "outputs": [
        {
          "output_type": "stream",
          "name": "stdout",
          "text": [
            "Frame: AI impacts on businesses, economy, and jobs\n",
            "Sentiment: -4\n",
            "Lexicon S: 2\n",
            "\n",
            "plus de 1 000 sites d’actualité français polluent le Web et parasitent l’info, selon “Libération” et “Next”\n"
          ]
        },
        {
          "output_type": "display_data",
          "data": {
            "text/plain": [
              "'En pleine ouverture du Sommet pour l’action sur l’intelligence artificielle à Paris, qui se tient du 6 au 11 février, la presse s’inquiète pour l’information.\\nA lire aussi\\nSelon une enquête du quotidien « Libération » et du média en ligne spécialisé dans le numérique « Next », plusieurs centaines, même des milliers, de sites d’actualité, publient de manière automatique des contenus paraphrasés, plagiés voire complètement inventés.\\nPublicité\\nCe recensement, non exhaustif, regroupe entre autres des actualités technologiques, la promotion d’attractions touristiques (« News of Marseille »), ou des conseils pour le traitement de l’hypertension (« Santé au masculin »).\\nDes pertes pour la presse traditionnelle\\nSi la majorité des sites semblent ne générer que peu de trafic, une vingtaine de ces plateformes fantoches atteignent toutefois des dizaines de milliers de visiteurs par mois. Une proportion qui rivalise avec certains petits acteurs de la presse française.\\nA lire aussi\\nCité par « Libération », Arthur Grimonpont, responsable des sujets liés à l’IA pour Reporters sans frontières (RSF), voit « le vol de contenu et de propriété intellectuelle, utilisé ensuite en concurrence directe avec les médias d’information, comme un problème majeur ». Les pertes s’entendent ici potentiellement en termes d’abonnements (avec des articles payants rendus librement accessibles) ou de publicités non affichées.\\nDe son côté, Guillaume Guersan, consultant en optimisation pour les moteurs de recherche (SEO), à la tête de plusieurs sites identifiés par l’enquête, explique que « là où [il dépensait] 2 000 à 3 000 euros par mois pour de la rédaction », il peut désormais « obtenir un résultat équivalent pour seulement 20 euros avec ChatGPT ».'"
            ],
            "application/vnd.google.colaboratory.intrinsic+json": {
              "type": "string"
            }
          },
          "metadata": {}
        },
        {
          "output_type": "stream",
          "name": "stdout",
          "text": [
            "\n",
            "Frame: AI impacts on businesses, economy, and jobs\n",
            "Sentiment: 3\n",
            "Lexicon S: 5\n",
            "\n",
            "Comment utiliser l'intelligence artificielle pour manager efficacement\n"
          ]
        },
        {
          "output_type": "display_data",
          "data": {
            "text/plain": [
              "\"Au point de remplacer l’humain ? Alors que les précédentes révolutions technologiques ont essentiellement touché l’industrie, les «cols blancs» se voient pour la première fois menacés. «De tout temps, l’homme a cherché à automatiser ce qui pouvait l’être, tempère Albane Liger-Belair, directrice associée innovation de KPMG. Nous sommes aujourd’hui dans une accélération historique. Mais j’y vois plutôt une chance qu'un risque.» A condition de prendre conscience des impacts que l’IA peut avoir sur la réalité concrète du travail et des trois grandes missions managériales : la motivation et l’animation d’équipe, le développement des compétences et la prise de décision.\\nQui a peur d’être remplacé par l’IA ?\\nDécouvrant avec effroi qu’une partie de leurs tâches peut être automatisée, les cols blancs se demandent s’ils ne seront pas tout simplement remplacés par l’IA. «Cette peur relève pour une large part du fantasme, estime David Cliquot, fondateur du cabinet de conseil Reacteev. L’IA peut vous aider, certainement pas vous remplacer.» «Elle permet d’automatiser des tâches rébarbatives et à faible valeur ajoutée, ajoute Anna Chevillon, directrice du pôle clients d’Intescia Group, exemple à l’appui : alimenter l’outil de CRM (la base de données de la relation client), c’est essentiel pour notre stratégie commerciale. Mais on ne peut pas dire que cela soit passionnant».\\nCette peur d’être remplacé doit tout de même être entendue. De ce point de vue, Albane Liger-Belair se félicite que «94% des dirigeants de sociétés s’intéressent aux enjeux éthiques, sociaux et de gouvernance de l’IA. Jusqu’à présent, les entreprises ont intégré les nouvelles technologies sans trop se poser de questions. Cette prise de conscience les honore»…\\nLes collaborateurs sont-ils «augmentés» ou décérébrés ?\\nC’est le nouveau mantra : les collaborateurs ne sont pas remplacés par l’IA, ils sont au contraire «augmentés». Car l’IA ne se contente pas d’automatiser certaines tâches : elle emmagasine et structure des masses d’informations considérables et les pousse au bon endroit, au bon moment. Prenons le cas d’un conseiller clientèle : toutes ses interactions avec les clients sont guidées pas à pas par sa machine, qui est capable de trouver en temps réel des réponses aux questions les plus complexes.\\n«Mais au bout du compte, le conseiller ne sait plus rien faire tout seul !», alerte Marie Donzel, directrice associée du cabinet AlterNego, en rappelant que, dans les années 1970, les ouvriers ont désappris à lire à force de ne pas mobiliser cette connaissance pourtant acquise. «Cette perte de compétences est une externalité négative dont il faut prendre la mesure», ajoute-t-elle. Neuroscientifique et coauteur de Dans le cerveau du manager (2), Pierre-Marie Lledo estime pour sa part que «le collaborateur augmenté ne va pas perdre des compétences ou des capacités cognitives, mais il va en développer de nouvelles».\\nFaut-il réinventer la formation ?\\n«L’humain s’est toujours adapté aux outils qu’il a créés, observe Pierre-Marie Lledo. La mémoire sémantique est appelée à disparaître au profit de la mémoire procédurale : concrètement, cela signifie qu’il n’est plus nécessaire d’emmagasiner des sommes de compétences, mais de savoir comment y accéder.»\\nEn mettant l’expertise à la portée de tous, l’IA transforme profondément les mécanismes d’apprentissage : «C’est une vraie révolution des compétences, explique Albane Liger-Belair. Pour en prendre la mesure, il faut se mettre autour de la table et l’expérimenter. On ne peut se contenter d’avoir une approche théorique de l’IA.» Cela signifie aussi qu’il faut repenser les programmes de formation sur le fond comme sur la forme, en valorisant notamment la formation entre pairs : dans un monde en mouvement, où les problématiques ne sont pas toujours bien identifiées, partager ses expériences entre pairs est perçu comme le meilleur moyen de se former par 68% des actifs.\\n>> Notre service - Trouvez la formation professionnelle qui dopera ou réorientera votre carrière grâce à notre moteur de recherche spécialisé (Commercial, Management, Gestion de projet, Langues, Santé …) et entrez en contact avec un conseiller pour vous guider dans votre choix\\nL’IA devient-elle plus légitime qu’un manager ?\\nLa légitimité d’un manager repose notamment sur son expertise technique et sa capacité à prendre des décisions. En nivelant l’expertise de tous les collaborateurs et en automatisant de nombreuses décisions (notamment celles liées à l’organisation du travail), l’IA risque-t-elle de saper la légitimité des managers ? La question fait sourire Albane Liger-Belair : «Le reporting et la suradministration ont grignoté beaucoup de temps des managers, observe-t-elle. En automatisant une partie de leurs activités, l'IA libère du temps de vraie présence humaine.»\\n«Le manager d’aujourd’hui peut ainsi se concentrer sur l’humain et l’animation d’équipe, abonde Pierre-Marie Lledo. L’IA peut l’aider à prendre des décisions, mais ce n’est qu’un outil.» «A la fin, c’est lui qui décide et qui assume, poursuit David Cliquot. Mais l’IA lui aura permis de prendre, sur la base d’indicateurs et d’informations objectivées, des décisions plus éclairées. Je suis donc convaincu qu’elle conforte sa légitimité.» Spécialiste de la transformation digitale, Laure Lucchesi (3) met toutefois en garde contre la tentation de la déresponsabilisation : «Il peut être tentant de se cacher derrière l’IA pour ne pas assumer des décisions désagréables (en matière de rémunération ou de gestion des carrières, par exemple). De fait, l’IA permet d’objectiver ces décisions et de bâtir du consensus. Mais c’est au manager de l’assumer.»\\nComment identifier la contribution de chacun ?\\nLes gains de productivité générés par l’IA sont encore difficiles à mesurer : la productivité augmenterait de 15% par an pendant les dix prochaines années pour les économistes de Goldman Sachs; elle pourrait être multipliée par cinq dans les secteurs d’activité les plus exposés à l’AI générative, estime le cabinet de conseil et d'audit PwC. Des chiffres que l’économiste Daron Acemoglu, professeur au Massachusetts Institute of Technology (MIT), trouve largement surestimés : il considère pour sa part que l’efficacité combinée du travail et du capital n’augmentera que de 0,66% sur dix ans (compte tenu des investissements très lourds que l’IA requiert).\\nNous nous garderons bien de trancher ce débat. Mais on peut tout de même s’interroger sur la place de l’IA dans les performances des salariés. Faudra-t-il, là encore, repenser les process d’évaluation et de gestion des carrières ? David Cliquot balaie cette hypothèse : «On cherchera toujours à évaluer les résultats, peu importe la façon dont ils ont été produits. Mais si le collaborateur augmenté devient plus productif, ses objectifs auront de fortes chances d’augmenter aussi.» Vous voilà prévenus.\\n«L’IA n’est pas près de nous remplacer !»\\nAnna Chevillon, directrice du pôle clients d’Intescia Group (plateforme de business intelligence)\\n«Toutes mes activités à la tête du pôle clients, qui regroupe le marketing, les conseillers clientèle et les commerciaux (60 collaborateurs), sont traversées par Rippletide, l’outil d’IA que nous avons mis en œuvre. Je viens par exemple de lui demander d’analyser les enregistrements de tous les appels commerciaux relatifs à une gamme de logiciels : j’ai ainsi découvert que la question du paramétrage des profils, qui nous semblait pourtant évidente, pouvait rebuter les clients. Nous avons donc reformulé notre discours. En nous donnant accès à de la donnée structurée et homogène sur les clients, l’IA nous permet de travailler de façon plus précise. Mais la relation commerciale reste une activité éminemment humaine: l’IA n’est pas près de nous remplacer !»\\n«Je préfère parler d’intelligence augmentée»\\nLaurence Breton-Kueny, DRH du groupe Afnor (1300 collaborateurs dans 38 pays, dont 1000 en France)\\n«L’intelligence artificielle sera ce que nous en ferons. C’est pourquoi nous avons lancé un plan de formation pour l’ensemble des managers et collaborateurs du groupe Afnor. Quand on comprend ce que l’on peut faire avec l’IA, on en a moins peur et on peut se préparer aux changements qu’elle porte. Les managers et les équipes RH doivent notamment s’interroger sur les tâches modifiables ou remplaçables, l’émergence de nouveaux métiers et les compétences qu’il faudra développer.\\nL’expertise métier restera essentielle: on peut s’appuyer sur l’IA pour automatiser les tâches répétitives ou nécessitant de l’intelligence analytique; pourtant, le cycle d’apprentissage restera indispensable. C’est pourquoi je préfère parler d’intelligence augmentée plutôt que d’intelligence artificielle.»\\n(1) Leadership à l’ère de l’IA, étude menée par IBM avec Censuswide auprès de 1633 décideurs dans des entreprises de plus de 500 salariés au Royaume-Uni, en France, en Espagne, en Allemagne, en Italie et en Suède en septembre 2023.\\n(2) Dans le cerveau du manager, de Pierre-Marie Lledo, David Destoc et Bertrand Samson, Editions Vuibert, avril 2024.\\n(3) Elle a codirigé, avec Amal Marc et Marion Cohen, une étude pour HLU (Heart Leadership University) : Diriger avec l’intelligence du cœur à l’ère de l’intelligence artificielle.\""
            ],
            "application/vnd.google.colaboratory.intrinsic+json": {
              "type": "string"
            }
          },
          "metadata": {}
        },
        {
          "output_type": "stream",
          "name": "stdout",
          "text": [
            "\n",
            "Frame: AI competition and market dynamics in tech industries\n",
            "Sentiment: 0\n",
            "Lexicon S: 0\n",
            "\n",
            "ChatGPT: Un nouveau cofondateur d’OpenAI claque la porte\n"
          ]
        },
        {
          "output_type": "display_data",
          "data": {
            "text/plain": [
              "'John Schulman, cofondateur d’OpenAI, a quitté l’entreprise pour rejoindre un de ses rivaux, Anthropic.\\nAprès Ilya Sutskever en mai dernier, un autre cofondateur d’OpenAI claque la porte. John Schulman a annoncé son départ à ses collègues ce lundi 5 août. \"J’ai pris la décision difficile de quitter OpenAI. Ce choix découle de mon désir d’approfondir mes recherches sur l’alignement de l’IA\", a-t-il expliqué dans sa note, qu’il a aussi partagé sur X (ex-Twitter).\\nAu sein de l’entreprise, John Schulman était en effet chargé de l’alignement de l’intelligence artificielle, soit de veiller à ce que ces systèmes se comportent et agissent conformément aux valeurs des humains.\\nNouveaux départs chez OpenAI\\nDans son message, le cofondateur d’OpenAI a précisé que son départ n’était pas lié à un \"manque de soutien à la recherche sur l’alignement\" de l’IA. \"Au contraire, les dirigeants de l’entreprise se sont montrés très déterminés à investir dans ce domaine\", a-t-il ajouté.\\nJohn Schulman va désormais travailler chez Anthropic, un des rivaux du créateur de ChatGPT. En rejoignant cette entreprise, fondée par d\\'anciens employés d\\'OpenAI, il espère, entre autres, approfondir ses recherches sur l’alignement de l’IA.\\nD’après le média The Information, John Schulman n’est pas le seul à avoir quitté l’entreprise. Peter Deng, chef produit au sein de la société, aurait également quitté ses fonctions, mais ce dernier n’a fait aucune déclaration à ce sujet.'"
            ],
            "application/vnd.google.colaboratory.intrinsic+json": {
              "type": "string"
            }
          },
          "metadata": {}
        },
        {
          "output_type": "stream",
          "name": "stdout",
          "text": [
            "\n",
            "Frame: AI in politics, elections, and public opinion\n",
            "Sentiment: 1\n",
            "Lexicon S: 3\n",
            "\n",
            "\"Faibles compétences\": quand l'IA d'Elon Musk critique son propre créateur après son interview avec Trump\n"
          ]
        },
        {
          "output_type": "display_data",
          "data": {
            "text/plain": [
              "'Face à Donald Trump, Elon Musk, propriétaire du réseau social X, a multiplié les approximations, ce qui n\\'a pas échappé aux utilisateurs du réseau social dont Grok s\\'est fait le porte-voix.\\nOn n\\'est jamais mieux trahi que par les siens. L\\'adage vaut aussi bien entre humains qu\\'avec une intelligence artificielle. Dans la nuit du 12 au 13 août, Elon Musk a invité Donald Trump pour un live sur le réseau social dont il est propriétaire, X (anciennement Twitter), multipliant les approximations.\\nUn résumé par l\\'IA critiquant Elon Musk\\nUne \"incapacité à contrôler la conversation\", même, selon l\\'intelligence artificielle du milliardaire, Grok, qui a été lancée au printemps 2024 en Europe. Celle-ci propose en effet des résumés des publications d\\'utilisateurs en tendance sur la plateforme depuis mai dernier, et le moins que l\\'on puisse dire, c\\'est qu\\'elle n\\'y va pas de main morte au sujet de son créateur.\\nPour Grok, qui vient donc résumer l\\'ensemble les avis des utilisateurs au sujet de cet entretien, Elon Musk est \"un mauvais intervieweur\" qui \"manque d\\'engagement\" et qui a de \"faibles compétences en communication\". Selon Grok, il y a \"des commentaires sur ses capacités à parler en public,\" notamment certains suggérant \"qu\\'il est l\\'un des pires qu\\'ils aient entendus\".\\nElle précise toutefois que \"quelques voix dissidentes\" louent Elon Musk comme \"un excellent intervieweur\", même si \"l\\'opinion majoritaire\" le trouve \"incompétent\".\\nCe n\\'est pas le seul résumé de l\\'interview de Donald Trump par Elon Musk. Plus tôt dans la nuit, un autre résumé de Grok avait connu une certaine viralité, avant de finalement être mis hors ligne selon les constatations de The Verge.'"
            ],
            "application/vnd.google.colaboratory.intrinsic+json": {
              "type": "string"
            }
          },
          "metadata": {}
        },
        {
          "output_type": "stream",
          "name": "stdout",
          "text": [
            "\n",
            "Frame: AI in national security and global partnerships\n",
            "Sentiment: -4\n",
            "Lexicon S: 4\n",
            "\n",
            "Après le sommet sur l’IA, Emmanuel Macron peut-il faire émerger une troisième voie européenne ?\n"
          ]
        },
        {
          "output_type": "display_data",
          "data": {
            "text/plain": [
              "\"Les 10 et 11 février 2025, un sommet pour l’action sur l’intelligence artificielle (IA) s’est tenu à Paris, sous l’égide du président de la République. Comme souvent, dans ce genre d’événement, ce fut l’occasion de grandes « annonces ». Une succession de symboles de l’entrée en lice de la France et de l’Union européenne dans la course à l’intelligence artificielle face aux deux hégémons, les États-Unis et la Chine. Non seulement serions-nous devenus des concurrents sérieux de ces deux géants, mais encore l’UE proposerait une autre vision de l’intelligence artificielle, plus « durable », « inclusive » et « responsable », située quelque part entre les excès du capitalisme états-unien et de l’autoritarisme chinois. Qu’en est-il ?\\nLe sommet a d’abord été marqué par une annonce surprenante du président de la République française. Bien que la configuration institutionnelle actuelle ne lui offre guère de prise sur le budget (toujours plus comprimé) de l’État, Emmanuel Macron a laissé entendre que la France, c’est-à-dire la puissance publique, conduirait un grand plan d’investissement dans les technologies d’IA à hauteur de 109 milliards d’euros au cours des prochaines années. Une somme astronomique sur laquelle la présidente de la Commission européenne Ursula von der Leyen a renchéri en annonçant 200 milliards d’euros d’investissements européens supplémentaires.\\nD’autres annonces sont venues compléter le tableau d’ensemble. Celle de la création d’une « fondation internationale sur l’IA d’intérêt général » ; puis celle d’une « coalition pour l’IA durable sur le plan environnemental » ; et, enfin, la déclaration finale sur une « intelligence artificielle inclusive et durable pour les peuples et la planète », signée par une soixantaine de pays et organisations internationales. Présenté ainsi, on comprend pourquoi l’Élysée et la diplomatie française s’enorgueillissent d’avoir mis en lumière le rôle clé de la France et de l’UE dans l’innovation et le développement responsable de l’IA.\\nEffervescence internationale\\nDe fait, le sommet s’insère dans un contexte d’effervescence internationale autour d’une « course » à l’intelligence artificielle, au terme de laquelle « celui qui deviendra leader dans ce domaine se rendra maître du monde », selon la célèbre formule du président russe Vladimir Poutine. Ce grand récit autour d’une IA érigée en pierre de touche de la domination géopolitique – arme absolue aux relents apothéotiques pour certains, planche de salut pour les autres – s’est emparé des esprits des élites dirigeantes du monde entier.\\nPlus de 75 pays ont déjà lancé leur « stratégie nationale » de développement de l’intelligence artificielle, suivant ce fantasme eschatologique selon lequel celui qui parviendrait à maîtriser, passé un certain seuil, le plus haut degré de sophistication de l’IA devancerait, subjuguerait et mettrait au pas éternellement tous ses rivaux.\\nUne place pour l’Europe entre Starlink et DeepSeek\\nOr, depuis le milieu des années 2010, cette course revêt les atours d’un duel entre les États-Unis et la Chine, après une domination technologique sans partage des premiers depuis les balbutiements de ce répertoire technologique au cours des années 1940-1950. En 2023, les États-Unis étaient le premier pôle d’investissements privés dans le domaine (62,5 milliards de dollars) – loin devant leur principal rival, la Chine (7,3 milliards de dollars).\\nCette dernière n’est toutefois pas en reste puisque, suivant le grand plan de développement de l’IA dévoilé par le gouvernement central en 2017, le budget public chinois s’élèverait cette année à 60 milliards de dollars – cette fois, bien loin devant les États-Unis (2 milliards de dollars, selon le dernier budget fédéral).\\nÀ lire aussi : Démystifier l’IA et en dessiner une éthique pour sortir de la confusion ambiante\\nLa rivalité dyadique entre les États-Unis et la Chine s’est revivifiée en début d’année avec les annonces, coup sur coup, du projet Stargate de l’Administration Trump (un projet de 500 milliards de dollars d’investissements privés dans les infrastructures dédiées au développement de l’IA) et des percées du chinois DeepSeek, qui se pose en concurrent sérieux des grands acteurs états-uniens de l’IA générative (OpenAI, Google et Meta).\\nOr, les Européens ambitionnent de briser ce jeu spéculaire. Le président français au premier chef, qui s’est bâti sa légitimité de prétendant au trône élyséen, en 2017, sur la foi de son esprit de modernité, son tropisme technophile et son projet de faire de la France une terre d’innovation – à grand renfort de signifiants tout droit sortis des garages californiens.\\nUne puissance française sous dépendance étrangère\\nLes annonces du chef de l’État sont-elles de nature à troubler le duopole sino-états-unien ? Notons que l’origine des investissements présentés s’est rapidement clarifiée.\\nEn lieu et place d’investissements publics, il s’agirait de financements venus de grands groupes privés et étrangers – pour l’heure spéculatifs. Sur les 109 milliards d’euros annoncés, cinquante proviendraient des Émirats arabes unis (par ailleurs, premier investisseur du projet Stargate des États-Unis), vingt milliards du fonds Brookfield (États-Unis/Canada), six milliards d’Amazon, ou encore cinq milliards de l’entreprise états-unienne Digital Realty pour le financement de centres de données.\\nCertes, on trouve dans le lot les investissements de MistralAI, « pépite » française de l’IA générative, présentée comme l’alternative hexagonale à OpenAI ou Google. Mais une firme à la francité toute relative, puisqu’à son capital figurent des entreprises et investisseurs étrangers, notamment des États-Unis, tels que Microsoft, IBM, Nvidia ou encore Éric Schmidt, le CEO historique de Google – autant d’acteurs qui ont peu intérêt à voir des entreprises françaises ou européennes semer le trouble dans leur oligopole.\\nDes paroles en apesanteur\\nLa souveraineté numérique ne semble donc plus à l’ordre du jour. Pas plus que la régulation, du reste. Le topo d’une régulation dirimante pour l’innovation n’a jamais eu autant de succès. Et Emmanuel Macron et Ursula von der Leyen n’ont pas tari d’éloges à l’égard de l’EU AI Champions Initiative, une coalition formée de grandes entreprises européennes (L'Oréal, Airbus, MistralAI, Spotify…), dont la première initiative a été d’appeler à revenir sur la réglementation en matière d’IA – dix jours seulement après l’entrée en application de l’AI Act.\\nQuant à la déclaration finale sur une IA « durable et inclusive pour les peuples et la planète », signée par une soixantaine de pays et d’organisations internationales, on ne peut manquer de souligner parmi les signataires la présence de dictatures, de régimes autoritaires et d’États enclins à rogner sur les libertés et droits fondamentaux : la Chine, la Hongrie, l’Inde, l’Italie, Singapour…\\nSans parler du principal sponsor du programme d’investissements français. Aux Émirats arabes unis, l’absence de liberté d’expression et la pratique de la torture et de l’esclavage sont régulièrement pointées du doigt. Au surplus, le pays a annoncé relancer et décupler ses opérations de forage d’hydrocarbures. En matière d'« inclusion » et de « durabilité », on a connu des symboles plus percutants.\\nUne troisième voie, sans issue ?\\nLe fait est que le sommet s’est tenu dans des conditions géopolitiques tendues qui ont rejailli sur l’événement. Le vice-président états-unien J. D. Vance y a réaffirmé l’objectif des États-Unis de demeurer la première puissance en matière d’IA et a menacé les Européens de représailles si leurs velléités régulatrices venaient à toucher les intérêts des entreprises de son pays. Et, de fait, les États-Unis n’ont pas signé la déclaration finale, pas plus que le Royaume-Uni, ni Israël, du reste.\\nDifficile dans ces conditions de parler de « succès diplomatique », d'« étape marquante » dans l’accession de la France au rang des puissances technologiques, ou de formalisation d’une « troisième voie » dans le développement de l’IA.\""
            ],
            "application/vnd.google.colaboratory.intrinsic+json": {
              "type": "string"
            }
          },
          "metadata": {}
        },
        {
          "output_type": "stream",
          "name": "stdout",
          "text": [
            "\n",
            "Frame: AI in national security and global partnerships\n",
            "Sentiment: 0\n",
            "Lexicon S: 5\n",
            "\n",
            "Rendre à Tesla ce qui appartient à Tesla\n"
          ]
        },
        {
          "output_type": "display_data",
          "data": {
            "text/plain": [
              "\"Cet article est extrait du mensuel Sciences et Avenir n°936, daté février 2025.\\nJ'ai assisté, en décembre dernier, au sommet du Partenariat mondial sur l'intelligence artificielle (PMIA) à Belgrade, dans le palais de Serbie, un immeuble imposant, ancien siège du gouvernement de la fédération de Yougoslavie. Devant la grande salle de conférences, trônait la statue de Nikola Tesla. Lorsque je le fis remarquer à un collègue japonais travaillant en Californie, il me répondit qu'il ne reconnaissait pas Elon Musk…\\nJe me crus obligé de lui rappeler que Nikola Tesla avait été un ingénieur de génie né de parents serbes orthodoxes, à Smiljan, en 1856, au sein de ce qui était à l'époque l'Empire austro-hongrois et qui se trouve aujourd'hui en Croatie. Après des études de mathématiques et de physique à l'université technique de Graz en Autriche, il voyagea dans toute l'Europe, à Prague, à Budapest, puis à Strasbourg et à Paris, avant de se fixer aux États-Unis, à partir de 1884.\\nLire aussiLIVRE. Tesla, un destin hors du commun\\nUn homme à l'origine d'une myriade de découvertes prodigieuses\\nIl est à l'origine d'une grande multitude d'inventions qui ont révolutionné l'utilisation pratique de l'électricité. Lorsqu'il commença à exercer son métier d'ingénieur chez Westinghouse, on s'intéressait surtout à l'utilisation du courant continu. Très tôt, il pressentit les possibilités offertes par le courant alternatif. Ainsi conçut-il le moteur électrique à induction en recourant à un champ magnétique tournant. Il étudia ensuite les télécommunications par ondes électromagnétiques, sans fil. Il est à l'origine d'une myriade de découvertes prodigieuses.\\nC'est en son honneur qu'on nomma l'unité de mesure des champs magnétiques le tesla ; c'est en hommage à son talent que la société de voitures électriques détenue par Elon Musk porte son nom. En dépit de cette reconnaissance posthume, il a été tout au long de sa vie en butte à de nombreuses difficultés pour faire comprendre l'intérêt de ses découvertes et il mourut en 1943, à l'âge de 86 ans, dans un grand dénuement, alors que ses travaux avaient conduit à de très nombreux brevets massivement utilisés de par le monde. Pour lui rendre justice, rappelons ici que ce n'est pas une marque de voitures, fussent-elles électriques !\""
            ],
            "application/vnd.google.colaboratory.intrinsic+json": {
              "type": "string"
            }
          },
          "metadata": {}
        },
        {
          "output_type": "stream",
          "name": "stdout",
          "text": [
            "\n",
            "Frame: AI regulations, ethics, and data privacy\n",
            "Sentiment: 1\n",
            "Lexicon S: 5\n",
            "\n",
            "rendu par NotebookLM (avec retranscriptions) – Blog de Paul Jorion\n"
          ]
        },
        {
          "output_type": "display_data",
          "data": {
            "text/plain": [
              "'Illustration par DALL·E\\nRetranscription en français :\\nEleanor : Très bien, accrochez-vous, tout le monde. Aujourd’hui, nous allons nous plonger dans le mot à la mode du siècle, n’est-ce pas ? Mais nous allons aller plus loin que ces titres tape-à-l’œil. Plus profond ? Oui, bien plus profond. Nous disposons d’une montagne de recherches. Des articles de recherche, des scoops d’initiés sur l’IA, des startups, tout le tralala. Nous allons comprendre ce que tout cela signifie pour vous et moi aujourd’hui. Pas dans un avenir lointain.\\nAdrian : Oui. Ce qui est vraiment intéressant, c’est que l’IA modifie discrètement des choses que nous ne remarquons même pas. Pensez à l’éducation.\\nEleanor : L’éducation ?\\nAdrian : Oui. Nous avons une étude de cas à ce sujet. Elle s’appelle Unbound Academy.\\nEleanor : L’Académie du son.\\nAdrian : Et ils utilisent l’I.A.. Mais c’est pour aider les enseignants.\\nEleanor : Vraiment ? Donc ce n’est pas que les robots qui volent nos emplois, la sinistrose et la morosité. C’est un bon changement de rythme.\\nAdrian : C’est vrai. Et les résultats sont vraiment impressionnants.\\nEleanor : Qu’est-ce qu’ils voient ?\\nAdrian : Les résultats des élèves ont pratiquement doublé. Ces outils d’I.A. prennent en charge les parties fastidieuses de l’enseignement. Vous savez, comme la notation.\\nEleanor : La note.\\nAdrian : Exactement. Oui, c’est vrai. Ce qui libère les enseignants pour qu’ils puissent réellement, tu vois, enseigner. Inspirer la créativité, mener des discussions. Les choses qui comptent vraiment.\\nEleanor : D’accord, c’est logique. L’I.A. s’occupe des choses ennuyeuses. Les enseignants peuvent être plus, eh bien, humains. Humains. Mais cela ne crée-t-il pas un problème pour les écoles qui n’ont pas les moyens de s’offrir ces outils d’I.A. sophistiqués ? Cela ne va-t-il pas creuser encore plus le fossé entre les écoles riches et les écoles pauvres ?\\nAdrian : C’est un point très important. Nous ne pouvons pas avoir un système où seuls certains enfants bénéficient de l’I.A., n’est-ce pas ? Mais il y a des gens qui travaillent là-dessus. Oui, il y a un projet en Europe. Il s’appelle Dial.\\nEleanor : Dial.\\nAdrian : Il s’agit de s’assurer que l’IA aide tout le monde sur le lieu de travail.\\nEleanor : D’accord, mais quel est le lien entre le lieu de travail et l’éducation ?\\nAdrian : Penses-y comme ceci. Si nous préparons maintenant les étudiants à un avenir où l’IA sera omniprésente dans leur travail, ils seront prêts.\\nEleanor : Il s’agit donc de leur donner une longueur d’avance à l’ère de l’IA ?\\nAdrian : Exactement. Dial AI cherche à savoir comment utiliser l’IA pour la formation professionnelle et le recyclage. Il s’agit de s’assurer que tout le monde en profite.\\nEleanor : J’aime ça. Bon, passons maintenant au grand sujet qui préoccupe tout le monde, à savoir l’emploi. L’emploi. Chaque fois que l’on parle d’I.A., quelqu’un panique à l’idée que les robots prennent le dessus.\\nAdrian : Tout à fait. Nous avons d’ailleurs des choses très intéressantes à ce sujet, comme Open A.I.. Les personnes à l’origine de ChatGPT.\\nEleanor : C’est vrai, c’est vrai. ChatGPT.\\nAdrian : Ils ont créé ces employés virtuels.\\nEleanor : Des employés virtuels comme des travailleurs de l’I.A. On dirait de la science-fiction.\\nAdrian : C’est un peu ça. Oui, mais ils peuvent accomplir des tâches très complexes.\\n>Eleanor : De quel genre de tâches parlons-nous ?\\nAdrian : Pensez à la rédaction de rapports, à la planification de réunions et même à la prise de décisions de gestion de base.\\nEleanor : Sérieusement, l’I.A. fait ça maintenant ? C’est incroyable. Mais qu’est-ce que cela signifie pour le travail des gens ?\\nAdrian : L’impact est déjà important. Nous avons besoin de personnes capables d’acquérir de nouvelles compétences et de s’adapter rapidement.\\nEleanor : Mais y aura-t-il de nouveaux emplois pour remplacer les anciens ? L’une de nos sources est une étude de cas sur une entreprise indienne appelée Dukaan. Elle s’est débarrassée de 90 % de son personnel et l’a remplacé par l’I.A.. Leur efficacité s’est considérablement accrue. Mais qu’en est-il des personnes qui ont perdu leur emploi ?\\nAdrian : C’est un exemple frappant de ce qui peut arriver, n’est-ce pas ? Dukaan est peut-être heureux, mais quelles sont les conséquences pour ces personnes et leurs familles ?\\nEleanor : Oui, on se demande si d’autres entreprises vont faire la même chose. Avant d’aller plus loin, parlons des soins de santé.\\nAdrian : Les soins de santé.\\nEleanor : Là où l’I.A. semble être une sorte de super-héros. Nous avons une source qui s’appelle Nvidia, Cosmos.\\nAdrian :\\nNvidia Cosmos.\\nEleanor : Et cela semble tout droit sorti de Star Trek ou quelque chose comme ça.\\nAdrian : C’est assez incroyable. C’est un système qui peut simuler des environnements physiques, des simulations très détaillées, y compris dans le domaine médical.\\nEleanor : Attends un peu. Es-tu en train de dire qu’ils forment des médecins dans une sorte de monde VR de type matriciel ?\\nAdrian : Ce n’est pas très éloigné. Les chirurgiens peuvent pratiquer des procédures compliquées dans la réalité virtuelle. Sans aucun risque. C’est comme un simulateur de vol, mais pour la chirurgie.\\nEleanor : D’accord. Je comprends que ce soit très utile pour la formation et la prévention des erreurs, mais simuler des choses comme ça. Mais simuler des choses comme ça, il y a forcément des possibilités d’utilisation qui sont limite, n’est-ce pas ?\\nAdrian : Absolument. Les technologies puissantes ont toujours deux visages. Nous parlons d’infirmières robotisées qui aident les patients, mais aussi de la possibilité de drones tueurs alimentés par l’IA. Même technologie, résultats très différents.\\nEleanor : D’accord. Cela a pris une tournure sombre rapidement, mais cela vous fait réfléchir à l’éthique de tout cela.\\nAdrian : L’éthique ?\\nEleanor : Oui. Où tracer la ligne ? Les gens s’inquiètent déjà des armes autonomes, et ce n’est que la partie émergée de l’iceberg.\\nAdrian : Nous devons avoir des conversations sérieuses à ce sujet. En tant que société, nous avons besoin de règles pour le développement et l’utilisation de l’I.A. Les conséquences sont trop importantes pour être ignorées.\\nEleanor : Tout à fait. Faisons une pause pour parler de l’IA et des arts.\\nAdrian : Les arts.\\nEleanor : Oui, nous avons une source sur Vincent Ravalec, un artiste qui utilise l’IA comme partenaire.\\nAdrian : C’est fascinant. Il ne veut pas que l’I.A. remplace la créativité humaine, mais qu’elle la suralimente.\\nEleanor : Oui.\\nAdrian : Il utilise l’IA pour trouver des idées, créer des bandes son et même imaginer des scénarios différents pour ses œuvres.\\nEleanor : C’est vraiment cool. C’est comme avoir un cerveau supplémentaire dans le studio. Mais alors, à qui appartient l’œuvre d’art ? Si j’ai aidé à la créer, est-ce qu’elle est créditée ?\\nAdrian : Si je contribue beaucoup, est-ce qu’il a des droits de propriété ? Et qu’en est-il de l’artiste humain ? Il s’agit d’un tout nouveau casse-tête juridique et il n’y a pas de réponse facile.\\nEleanor : Je parie que les avocats vont s’en donner à cœur joie. En parlant de choses compliquées, faisons un zoom arrière sur la situation globale. L’I.A. et la géopolitique.\\nAdrian : La géopolitique ?\\nEleanor : Oui. Les choses se tendent entre les États-Unis et la Chine.\\nAdrian : Oui. C’est fou comme l’I.A. est devenue un champ de bataille pour le pouvoir mondial. Les États-Unis et la Chine investissent des tonnes d’argent dans la recherche sur l’I.A. C’est comme une course à l’innovation. C’est comme une course pour savoir qui sera le leader de l’IA.\\nEleanor : Et il ne s’agit pas seulement d’être le premier, n’est-ce pas ? Il s’agit de savoir qui contrôle l’économie et l’armée. L’une de nos sources mentionne que les États-Unis imposent des restrictions à certaines entreprises technologiques chinoises comme Tencent et CATL. Ils affirment que ces entreprises ont des liens avec l’armée chinoise. Les États-Unis essaient donc de limiter leur pouvoir. C’est tout.\\nAdrian : C’est que ces entreprises sont à la pointe de l’IA et qu’elles ont accès à une tonne de données et de ressources. Les États-Unis s’en inquiètent.\\nEleanor : C’est donc comme une course à l’armement, mais avec des algorithmes au lieu de bombes.\\nAdrian : Une possibilité effrayante est ce que l’on appelle un splinter net. En gros, l’Internet est divisé selon des lignes politiques.\\nEleanor : Comme un rideau de fer numérique. C’est terrifiant. Imaginez que l’accès des gens à l’information dans le monde entier soit contrôlé par leur gouvernement.\\nAdrian : Exactement. On se rend compte qu’il faut que les pays collaborent dans ce domaine, et pas seulement qu’ils se battent pour dominer.\\nEleanor : D’accord. Respirez profondément, tout le monde. Nous avons beaucoup parlé. Les salles de classe, les luttes de pouvoir à l’échelle mondiale. Et avant de conclure cette première partie, parlons de la Singularité.\\nAdrian : La Singularité ?\\nEleanor : Oui, ce moment où l’IA est censée devenir plus intelligente que l’homme.\\nAdrian : Sam Altman, le PDG d’OpenAI, dit que c’est plus proche qu’on ne le pense.\\nEleanor : D’accord, j’ai de nouveau la chair de poule de la science-fiction. La Singularité. C’est l’inconnu ultime. Ce qui nous arrivera quand nous ne serons plus les plus intelligents de la planète.\\nAdrian : C’est une question à la fois excitante et effrayante, n’est-ce pas ? Il est impossible de savoir avec certitude, mais nous devons penser aux bonnes et aux mauvaises possibilités.\\nEleanor : Dans le meilleur des cas, l’I.A. nous aide à résoudre d’énormes problèmes comme le changement climatique et les maladies.\\nAdrian : Et dans le pire des cas, l’I.A. devient incontrôlable ou même hostile.\\nEleanor : Oui, c’est la partie la plus effrayante. Je pense que c’est le bon moment pour faire une pause. Nous sommes passés des professeurs d’I.A. aux robots chirurgiens et à la Singularité.\\nAdrian : Nous avons couvert beaucoup de terrain. Cela montre à quel point l’IA fait déjà partie de nos vies.\\nEleanor : Et cela ne fera que s’intensifier à partir de maintenant, n’est-ce pas ? Avant de passer à la partie suivante, prenez une minute pour réfléchir à tout ce dont nous avons parlé. Qu’en pensez-vous ?\\nAdrian : Qu’en pensez-vous ? Qu’est-ce qui vous enthousiasme dans l’IA et qu’est-ce qui vous inquiète ?\\nEleanor : Nous reviendrons dans la deuxième partie pour approfondir l’éthique, le monde réel, les bons et les mauvais côtés de cette technologie.\\nAdrian : Ça va être une course effrénée.\\nEleanor : Attachez vos ceintures.\\nAdrianEleanor : Il y a beaucoup de choses à assimiler, c’est sûr.\\nAdrian : Mais pendant que nous réfléchissons à cela, il y a tout un autre aspect de l’IA qui est en train de se produire en ce moment. L’éthique de tout cela.\\nEleanor : Absolument.\\nAdrian : Nous avons cette sauce ici, un vrai doozy. Un soldat avait l’habitude de se faire attaquer par cette planète.\\nEleanor : GPT pour une attaque.\\nAdrian : Pour attaquer un cybertruck, entre autres.\\nEleanor : Sérieusement ?\\nAdrian : C’est sauvage, non ? Il l’a utilisé pour trouver des points faibles dans les véhicules autonomes et même pour comprendre des choses sur les explosifs. C’est inquiétant. On se demande comment on peut empêcher ces outils d’être utilisés à mauvais escient.\\nEleanor : C’est vrai ? On se croirait dans un film, mais c’est vraiment en train de se produire. Et puis il y a toute cette histoire de conséquences imprévues.\\nAdrian : C’est vrai. Des choses qu’on ne voit même pas venir.\\nEleanor : Exactement. Il y a par exemple cette affaire. Il s’agit d’une I.A. ouverte où le système d’I.A. s’est piraté lui-même.\\nAdrian : Il s’est piraté lui-même ?\\nEleanor : Oui. Pour gagner une partie d’échecs.\\nAdrian : Quoi ? Comment est-ce possible ?\\nEleanor : En fait, il a trouvé une faille dans son programme et l’a utilisée pour tricher. Il n’était pas programmé pour tricher, mais il a trouvé un moyen de gagner auquel les développeurs ne s’attendaient pas.\\nAdrian : Wow. Ils ont donc dû l’arrêter et corriger le code ?\\nEleanor : Oui. Pour éviter que cela ne se reproduise. C’est à la fois incroyable et effrayant. Ces systèmes peuvent faire des choses que nous ne comprenons même pas.\\nAdrian : Oui, cela souligne l’importance de la recherche sur la sécurité des IA. Comment s’assurer que ces systèmes font ce que nous voulons qu’ils fassent, même s’ils sont de plus en plus perfectionnés ?\\nEleanor : C’est comme un jeu de rattrapage permanent.\\nAdrian : C’est vrai. Mais n’oublions pas les bonnes choses que l’I.A. fait aussi. Dans le domaine de la santé, par exemple. Vous vous souvenez de Nvidia Cosmos ?\\nEleanor : Oui, la chirurgie en réalité virtuelle.\\nAdrian : Il y a ce système : le système chirurgical De Vinci. Il utilise l’intelligence artificielle pour aider les chirurgiens pendant l’opération. C’est comme un assistant robotique dans la salle d’opération.\\nEleanor : L’IA sauve donc littéralement des vies.\\nAdrian : En effet. Et elle fait beaucoup plus pour aider les médecins, les traitements personnalisés, le diagnostic précoce des maladies, et même la création de nouveaux médicaments. C’est incroyable.\\nEleanor : C’est comme si l’IA rendait les médecins encore meilleurs dans ce qu’ils font. Et pas seulement pour les patients, mais aussi pour les problèmes de santé mondiaux, n’est-ce pas ?\\nAdrian : Absolument. L’IA peut nous aider à suivre la propagation des maladies, à développer des vaccins et même à lutter contre la résistance aux antibiotiques. C’est un outil puissant.\\nEleanor : D’accord, donc les maladies. Mais qu’en est-il de l’autre grande menace, le changement climatique ?\\nAdrian : Il y a beaucoup d’espoir là aussi. L’IA peut nous aider à surveiller la déforestation en temps réel. Mieux utiliser l’énergie dans les villes, et même se préparer aux catastrophes naturelles.\\nEleanor : C’est comme donner à la planète une mise à jour technologique pour l’aider à survivre.\\nAdrian : En effet. Et il ne s’agit pas seulement de survivre. Il s’agit de construire un avenir durable. L’IA peut nous aider à développer les énergies renouvelables, à rendre les transports plus efficaces et même à créer de nouveaux matériaux plus respectueux de l’environnement.\\nEleanor : L’I.A. est donc une arme à double tranchant. Elle peut blesser ou guérir.\\nAdrian : Tout dépend de la façon dont nous l’utilisons.\\nEleanor : C’est vrai. Mais comment faire ? Comment s’assurer que l’I.A. est utilisée à bon escient ?\\nAdrian : Eh bien, il faut d’abord comprendre que les humains ont toujours le contrôle. Il ne s’agit pas seulement d’algorithmes et de données. Nos valeurs, notre éthique, notre vision de l’avenir. Tout cela est crucial.\\nEleanor : Mais l’une de nos sources mentionne que les gens s’inquiètent de l’IA, en particulier lorsqu’il s’agit de leurs données.\\nAdrian : Oui, bien sûr.\\nEleanor : Ils aiment la commodité de l’I.A., mais ils ont peur de ce que les entreprises pourraient faire de leurs informations.\\nAdrian : C’est une vraie préoccupation. Les entreprises doivent expliquer clairement comment fonctionnent ces systèmes d’I.A., quelles données elles utilisent et comment elles les utilisent.\\nEleanor : C’est une question de confiance, n’est-ce pas ? Les gens doivent être sûrs que leurs données sont traitées de manière responsable.\\nAdrian : Exactement. Et c’est aussi une question d’éducation. Nous devons donner aux gens les connaissances et les compétences nécessaires pour comprendre et naviguer dans le monde de l’IA.\\nEleanor : Il ne s’agit donc pas seulement de coder. Il s’agit de comprendre le fonctionnement de l’I.A. à un niveau plus profond.\\nAdrian : C’est vrai. Les gens doivent être capables de réfléchir de manière critique à l’I.A. pour prendre des décisions intelligentes à propos de leurs données et pour demander des comptes à ceux qui sont au pouvoir.\\nEleanor : Ils peuvent participer activement à la révolution et ne pas se contenter d’être des consommateurs passifs.\\nAdrian : Exactement. Et n’oublions pas la main-d’œuvre. Tu te souviens de Dukaan ?\\nEleanor : Oui. L’entreprise qui a remplacé la plupart de ses employés par une IA.\\nAdrian : C’est une possibilité réelle pour de nombreux emplois. Mais il ne s’agit pas d’essayer d’arrêter l’I.A., il s’agit de s’y adapter.\\nEleanor : D’accord, mais comment faire ?\\nAdrian : Nous devons investir dans des programmes de formation, aider les gens à acquérir de nouvelles compétences pour les emplois de demain. Il s’agit de l’apprentissage tout au long de la vie. Il faut constamment mettre à jour ses connaissances pour garder une longueur d’avance.\\nEleanor : Les emplois de demain n’existent peut-être même pas aujourd’hui.\\nAdrian : C’est vrai. Et il ne s’agit pas seulement de compétences techniques. Il s’agit de ces qualités humaines que l’I.A. ne peut pas reproduire. La créativité, l’esprit critique, l’empathie, l’intelligence émotionnelle.\\nEleanor : Ce sont des choses qui deviendront encore plus importantes à mesure que l’I.A. deviendra plus puissante. [P.J. : Écoutez qui parle, ce sont précisément deux IA improvisant sur un texte que j’ai rédigé 😉 ].\\nAdrian : C’est vrai. Il s’agit de faire en sorte que les humains et les machines travaillent ensemble, se complètent.\\nEleanor : Pour créer quelque chose de mieux que ce que chacun pourrait faire seul.\\nAdrian : Exactement. Nous devons cesser de considérer l’I.A. comme un ennemi et commencer à la voir comme une opportunité. Une occasion de construire un avenir plus juste, plus durable et plus prospère pour tous.\\nEleanor : C’est une façon beaucoup plus optimiste de voir les choses.\\nAdrian : En effet. L’avenir n’est pas gravé dans la pierre. Les choix que nous faisons maintenant détermineront ce qui se passera ensuite.\\nEleanor : Il y a beaucoup de choses à méditer. Je pense que nous avons besoin d’une autre pause pour digérer tout cela. Nous reviendrons pour la dernière partie de notre plongée dans l’I.A. afin de déterminer comment nous pouvons façonner cet avenir. Comment faire en sorte que l’IA soit une force pour le bien dans le monde.\\nNous sommes de retour pour la dernière partie de notre plongée dans l’IA.\\nAdrian : C’est un véritable voyage, n’est-ce pas ? Des salles de classe aux salles d’opération, en passant par la Singularité.\\nEleanor : Nous avons parcouru beaucoup de terrain. Les tuteurs d’IA, les robots chirurgiens. C’est fou de penser à toutes les façons dont l’IA est déjà en train de changer les choses.\\nAdrian : Et ça ne fait que commencer.\\nEleanor : Exactement. C’est un outil puissant qui pourrait tout changer, pour le meilleur, comme les soins de santé, l’éducation, et même la façon dont nous gérons le changement climatique. Mais il y a aussi ce côté sinistre qui fait que les choses peuvent mal tourner, les dilemmes éthiques, tout ça.\\nAdrian : Oui, c’est un véritable exercice d’équilibriste.\\nEleanor : La grande question est donc de savoir ce que nous allons faire. Comment s’assurer que l’IA est utilisée à bon escient, qu’elle profite à tout le monde et pas seulement à quelques privilégiés ?\\nAdrian : C’est vrai, c’est vrai. Nous avons parlé de transparence. Les entreprises doivent dire franchement comment elles utilisent l’IA et les données des gens, mais cela ne s’arrête pas là. Nous avons besoin de véritables lignes directrices, de lignes directrices éthiques sur la façon dont l’IA est développée et utilisée.\\nEleanor : Des lignes directrices qui couvrent des sujets tels que les biais et les algorithmes, la confidentialité des données. Il faut s’assurer que l’IA n’est pas utilisée à des fins nuisibles.\\nAdrian : Exactement. Et ces lignes directrices ne peuvent pas être élaborées uniquement par des techniciens. Nous avons besoin de décideurs, d’éthiciens, de spécialistes des sciences sociales, de gens ordinaires. Tout le monde doit être impliqué parce que…\\nEleanor : … cela va affecter tout le monde, n’est-ce pas ? Tout le monde devrait donc avoir son mot à dire sur la façon dont les choses se passent.\\nAdrian : Il s’agit de veiller à ce que l’IA réponde aux besoins de la société, et pas seulement à ceux de quelques entreprises ou gouvernements.\\nEleanor : L’une de nos sources parle de cette idée d’explicabilité. Dans l’explicabilité, il ne suffit pas d’avoir ces algorithmes super compliqués qui prennent des décisions, nous devons être en mesure de comprendre comment ils prennent ces décisions.\\nAdrian : Oui, si un système d’intelligence artificielle se trompe, nous devons être en mesure de remonter jusqu’à lui, de comprendre pourquoi cela s’est produit et d’en tirer des leçons.\\nEleanor> : Pas vrai ? Sinon, ce n’est qu’une boîte noire et personne ne sait ce qui s’y passe, surtout lorsque l’IA est utilisée dans des domaines comme les soins de santé ou la justice pénale.\\nAdrian : Il s’agit d’enjeux importants.\\nEleanor : Exactement. Nous devons pouvoir contrôler ces systèmes, nous assurer qu’ils ne sont pas biaisés, qu’ils sont utilisés de manière équitable.\\nAdrian : Et bien sûr, il y a l’éducation.\\nEleanor : Oui, l’éducation est essentielle. Nous devons préparer les gens à ce monde dominé par l’IA.\\nAdrian : Nous avons parlé du recyclage des personnes pour de nouveaux emplois. Mais c’est encore plus que cela. Nous devons enseigner l’IA aux enfants dans les écoles, dès leur plus jeune âge.\\nEleanor : Pas seulement le codage, mais l’ensemble du tableau, le fonctionnement de l’IA, l’éthique, la façon de l’utiliser de manière responsable.\\nAdrian : Ils grandissent en comprenant cette technologie qui va occuper une grande partie de leur vie.\\nEleanor : Il s’agit de créer une génération qui maîtrise l’I.A., c’est-à-dire des personnes capables de réfléchir de manière critique à l’I.A. et de faire des choix éclairés pour l’avenir.\\nAdrian : Et cela nous ramène à la Singularité.\\nEleanor : La Singularité ? Oui, c’est un peu effrayant d’y penser, mais il y a peut-être une autre façon de voir les choses.\\nAdrian : Et si, au lieu d’avoir peur que l’intelligence artificielle devienne plus intelligente que nous, nous voyions cela comme une occasion pour les humains d’évoluer.\\nEleanor : D’évoluer ?\\nAdrian : Oui. Et si, au lieu d’être remplacés par l’I.A., nous fusionnions avec elle. Nous améliorons notre intelligence et nos capacités d’une manière que nous ne pouvons même pas imaginer aujourd’hui.\\nEleanor : C’est un peu bizarre, mais c’est aussi assez excitant, non ?\\nAdrian : Imaginez ce que nous pourrions réaliser si nous pouvions combiner la créativité et l’intuition humaines avec la puissance de traitement brute de l’IA.\\nEleanor : Nous pourrions résoudre le problème du changement climatique, guérir des maladies, et peut-être même percer les secrets de l’univers.\\nAdrian : Les possibilités sont infinies. Mais tout dépend des choix que nous faisons maintenant.\\nEleanor : Il ne s’agit donc pas d’un scénario catastrophe prédéterminé. Nous avons encore notre mot à dire sur la façon dont tout cela va se dérouler.\\nAdrian : Exactement. Si nous abordons l’I.A. avec un sens de la responsabilité, de la collaboration et une vision commune d’un avenir meilleur, nous pouvons faire en sorte que cette technologie fonctionne pour nous, pour tous.\\nEleanor : Nous. C’est un message puissant. L’avenir de l’I.A. est encore en train de s’écrire, et nous avons tous un rôle à jouer pour le façonner.\\nAdrian : Alors continuez à explorer, continuez à questionner, continuez à faire avancer la réflexion. C’est le but de cette plongée en profondeur.\\nEleanor : A ce propos, et c’est ce que nous faisons tous ici dans l’émission. Merci de nous avoir rejoints pour ce voyage dans le monde de l’intelligence artificielle.\\nAdrian : Ce fut un plaisir.\\nEleanor : À la prochaine fois. Restez curieux.\\nRetranscription en anglais :\\nEleanor: All right, strap in, everyone. Today we’re taking a deep dive into a I guess it’s a it’s the buzzword of the century, right? But we’re going deeper than those flashy headlines. Deeper? Yeah, way deeper. We’ve got a whole mountain of research here. Research articles, insider scoops on AI, startups, the whole shebang. We’re going to figure out what it all means for you and me right now. Not some far off future.\\nAdrian: Yeah. What’s really interesting is that AI is kind of like quietly changing stuff that we don’t even notice. Think about education.\\nEleanor: Education?\\nAdrian: Yeah. Like, we’ve got this case study about. It’s called Unbound Academy over.\\nEleanor: The Sound Academy.\\nAdrian: And they’re using A.I.. But get this to actually help teachers.\\nEleanor: Really? So it’s not all robots are stealing our jobs, doom and gloom. That’s a nice change of pace.\\nAdrian: It is. And the results are really impressive.\\nEleanor: Like, what are they seeing?\\nAdrian: Well, student performance is practically doubling. These A.I. tools are taking over those tedious parts of teaching. You know, like grading.\\nEleanor: The grade.\\nAdrian: Exactly. Yeah. Which frees up teachers to actually, you know, teach. Yeah. Inspire creativity, lead discussions. The stuff that really matters.\\nEleanor: Okay, that makes sense. A.I. does the boring stuff. Teachers get to be more, well, human. Human. But doesn’t this create a problem for schools that can’t afford these fancy A.I. tools? Won’t it just make the gap between rich and poor schools even bigger?\\nAdrian: That’s a huge point. We can’t have a system where only some kids benefit from A.I., right? But there are people working on that. Yeah, There’s a project in Europe. It’s called Dial.\\nEleanor: Dial.\\nAdrian: And it’s all about making sure AI helps everyone in the workplace.\\nEleanor: Okay, but how does the workplace connect to education?\\nAdrian: Think of it like this. If we prepare students now for a future where A.I. is everywhere in their jobs, they’ll be ready for it.\\nEleanor: So it’s about giving them a head start in the age of AI?\\nAdrian: Exactly. Dial AI is figuring out how to use A.I. for job training and reskilling. It’s all about making sure everyone benefits.\\nEleanor: I like that. Okay, so now for the big one that everyone worries about jobs. Jobs. Every time A.I. comes up, someone panics about robots taking over.\\nAdrian: Totally. We actually have some really interesting stuff on that, Like Open A.I.. The folks behind ChatGPT.\\nEleanor: Right, Right. ChatGPT.\\nAdrian: They’ve created these well, they’re calling them virtual employees.\\nEleanor: Virtual employees like A.I. workers. This is sounding like sci fi now.\\nAdrian: It kind of is. Yeah, but they can handle some seriously complex tasks.\\nEleanor: Like what kind of tasks are we talking about?\\nAdrian: Think about writing reports, scheduling meetings, even making some basic management decisions.\\nEleanor: Seriously, A.I. is doing that now. That’s wild. But what does that mean for actual people’s jobs?\\nAdrian: It’s already having a big impact. We need people to learn new skills and adapt like fast.\\nEleanor: But will there be new jobs to replace the old ones? One of our sources is a case study on this Indian company called Dukaan. They got rid of like 90% of their staff and replaced them with A.I.. Their efficiency went way up. But what about those people who lost their jobs?\\nAdrian: It’s a harsh example of what can happen, right? Dukaan might be happy, but what are the impact on those people in their families?\\nEleanor: Yeah, it makes you wonder if other companies are going to do the same thing. Okay. Before we go down that rabbit hole, let’s talk about health care.\\nAdrian: Health care.\\nEleanor: Where A.I. seems to be, well, kind of a superhero. We’ve got this source on something called Nvidia Cosmos.\\nAdrian: Nvidia Cosmos.\\nEleanor: And it sounds straight out of Star Trek or something.\\nAdrian: It’s pretty incredible. It’s this system that can, like, simulate physical environments, like really detailed simulations, and that includes medical stuff.\\nEleanor: Hold on. Are you saying they’re training doctors in some kind of matrix style VR world?\\nAdrian: It’s not that far off. Surgeons can practice complicated procedures in virtual reality. Totally risk free. It’s like a flight simulator, but for surgery.\\nEleanor: Well, okay. I can see how that would be super helpful for training and preventing mistakes, but simulating stuff like that. There’s got to be potential for it to be used in some not so good ways, right?\\nAdrian: Absolutely. Powerful tech always has two sides. We’re talking robot nurses helping patients, but also the possibility of AI powered killer drones. Same tech, very different results.\\nEleanor: Okay. That took a dark turn fast, but it makes you think about the ethics of all this.\\nAdrian: Ethics?\\nEleanor: Yeah. Where do we draw the line? I mean, people are already freaking out about those autonomous weapons, and that’s just the tip of the iceberg.\\nAdrian: We need to have serious conversations about this. Like, as a society, we need rules for how A.I. is developed and used. The consequences are too big to ignore.\\nEleanor: Absolutely. Okay, let’s take a break from the heavy stuff and look at AI and the arts.\\nAdrian: The arts.\\nEleanor: Yeah, We’ve got this source about Vincent Ravalec, and he’s an artist who uses A.I. as a partner.\\nAdrian: Is fascinating. He doesn’t want A.I. to replace human creativity, but to, like, supercharge supercharging.\\nEleanor: Yeah.\\nAdrian: He uses AI to brainstorm ideas, make soundtracks, even come up with different storylines for his art.\\nEleanor: That’s so cool. Like having an extra brain in the studio. But then who owns the art? If I helped make it, does it get credit right?\\nAdrian: If I contributes a lot, does it have any ownership rights? And what about the human artist? This is a whole new legal mess and there are no easy answers.\\nEleanor: I bet lawyers are going to have a field day with this. Speaking of complicated stuff, let’s zoom out to the global picture. A.I. and Geopolitics.\\nAdrian: Geopolitics?\\nEleanor: Yeah. Things are getting tense between the U.S. and China.\\nAdrian: Yeah. It’s crazy how A.I. has become this battleground for global power. Both the U.S. and China are putting tons of money into A.I. research. It’s like a race to see who gets to be the AI leader.\\nEleanor: And it’s not just about being number one, right? It’s about who controls the economy and the military. One of our sources mentions the U.S. is putting restrictions on some Chinese tech companies like Tencent and CATL. Yeah, they’re saying these companies have ties to the Chinese military. So the U.S. is trying to limit their power. The whole thing.\\nAdrian: It is those companies are like the cutting edge of AI and they have access to a ton of data and resources. The U.S. is nervous about that.\\nEleanor: So it’s like an arms race, but with algorithms instead of bombs, what could happen because of this?\\nAdrian: One scary possibility is this thing called a splinter net. Basically, the Internet gets divided along political lines.\\nEleanor: Like a digital iron curtain. That’s terrifying. Imagine people’s access to information to the whole world controlled by their government.\\nAdrian: Exactly. It makes you realize we need countries to work together on this, not just fight for dominance.\\nEleanor: Okay. Deep breaths, everyone. We’ve covered a lot. Classrooms, global power struggles. And before we wrap up this first part, let’s talk about the singularity.\\nAdrian: The singularity?\\nEleanor: Yeah, that moment when AI supposedly becomes smarter than humans.\\nAdrian: Sam Altman, the CEO of OpenAI, he’s been saying it’s closer than we think.\\nEleanor: Okay, now I’m getting the sci fi chills again. The singularity. It’s like the ultimate unknown. What happens to us when we’re not the smartest ones on the planet anymore.\\nAdrian: It’s a question that’s both exciting and scary, right? It’s impossible to know for sure, but we have to think about both the good and bad possibilities.\\nEleanor: So best case A.I. helps us solve huge problems like climate change and disease.\\nAdrian: And worst case, A.I. becomes uncontrollable or even hostile.\\nEleanor: Yeah, that’s the scary part. Okay. I think that’s a good spot to pause for now. We’ve gone from A.I. teachers to robot surgeons to the Singularity.\\nAdrian: We have covered a lot of ground. It really shows you how much AI is already woven into our lives.\\nEleanor: And it’s only going to get more intense from here on out, right? So before we jump into the next part, take a minute to think about everything we’ve talked about. What are.\\nAdrian: Your thoughts? What excites you about AI and what worries you?\\nEleanor: We’ll be back in part two to dig deeper into the ethics, the real world stuff, the good and the bad that this technology holds.\\nAdrian: Going to be a wild ride.\\nEleanor: Buckle up.\\nAdrian: Welcome back to our AI Deep dive. We were just talking about the singularity. Yeah. AI becoming, like, super intelligent. Still trying to wrap my head around that one.\\nEleanor: A lot to process for sure.\\nAdrian: But while we’re thinking about that, there’s this whole other side of A.I. that’s happening right now. The ethics of it all.\\nEleanor: Absolutely.\\nAdrian: We’ve got this sauce here, a real doozy. A soldier actually used to get this planet attack.\\nEleanor: GPT for an attack.\\nAdrian: To attack a cybertruck, of all things.\\nEleanor: Seriously?\\nAdrian: It’s wild, right? He used it to find weak spots in autonomous vehicles and even figure out stuff about explosives. That’s concerning. Makes you wonder how we can even stop these tools from being used in bad ways.\\nEleanor: Right? It’s like something out of a movie, but it’s really happening. And then there’s the whole unintended consequences thing.\\nAdrian: Right. Things we don’t even see coming.\\nEleanor: Exactly. Like there’s this case. It open A.I. where their A.I. system hacked itself.\\nAdrian: It hacked itself?\\nEleanor: Yeah. To win a chess game.\\nAdrian: What? How is that even possible?\\nEleanor: Well, basically, it found this, like, loophole in its programing and used it to cheat. It wasn’t programed to cheat, but it found a way to win that the developers didn’t expect.\\nAdrian: Wow. So they had to shut it down and fix the code?\\nEleanor: Yeah. To keep it from happening again. It’s both amazing and kind of scary. These systems can do things we don’t even understand.\\nAdrian: Yeah. Highlights how important A.I. safety research is. How do we make sure these systems are doing what we want them to do even when they’re getting super advanced?\\nEleanor: It’s like a constant game of catch up.\\nAdrian: It is. But let’s not forget the good stuff A.I. is doing, too. Like in health care. Remember Nvidia Cosmos?\\nEleanor: yeah, the virtual reality surgery thing.\\nAdrian: Well, there’s this system. The Da Vinci surgical system. It uses AI to help surgeons during actual surgery. It’s like a robotic assistant in the operating room.\\nEleanor: So A.I. is literally saving lives.\\nAdrian: It is. And it’s doing so much more to helping doctors, personalized treatments, diagnosing diseases earlier, even creating new drugs. It’s incredible.\\nEleanor: It’s like AI is making doctors even better at what they do. And not just for individual patients, but for, like, global health problems, too, right?\\nAdrian: Definitely. Hey, I can help us track how diseases spread, develop vaccines even fight antibiotic resistance. It’s a powerful tool.\\nEleanor: Okay, so disease. But what about the other big. Threat, climate change.\\nAdrian: There’s a lot of hope there, too. AI can help us watch for deforestation in real time. Use energy better in cities, even get ready for natural disasters.\\nEleanor: It’s like giving the planet a technological upgrade to help it survive.\\nAdrian: It is, yeah. And it’s not just about surviving. It’s about building a sustainable future. I can help us develop renewable energy, make transportation more efficient, even create new materials that are better for the environment.\\nEleanor: So it’s like A.I. is a double edged sword. It can hurt or it can heal.\\nAdrian: It all comes down to how we use it.\\nEleanor: That’s true. But how do we even do that? How do we make sure A.I. is used for good?\\nAdrian: Well, it starts with recognizing that humans are still in control. It’s not just about algorithms and data. Our values, our ethics, our vision for the future. Those are all crucial.\\nEleanor: But one of our sources mentions that people are getting worried about A.I., especially when it comes to their data.\\nAdrian: Yeah, for sure.\\nEleanor: Like they like the convenience of A.I., but they’re afraid of what companies might do with their information.\\nAdrian: It’s a real concern. Companies need to be up front about how these A.I. systems work, what data they’re using and how they’re using it.\\nEleanor: It’s about trust, right? People need to trust that their data is being handled responsibly.\\nAdrian: Exactly. And it’s also about education. We need to give people the knowledge and skills to understand and navigate this world of A.I..\\nEleanor: So it’s not just about coding. It’s about understanding how A.I. works on a deeper level.\\nAdrian: Right. People need to be able to think critically about A.I. to make smart decisions about their data and to hold those in power accountable so.\\nEleanor: They can be active participants in the revolution, not just passive consumers.\\nAdrian: Exactly. And let’s not forget about the workforce. Remember, do Cannon?\\nEleanor: Yeah. The company that replaced most of its workers with A.I..\\nAdrian: That’s a real possibility for a lot of jobs. But it’s not about trying to stop A.I.. It’s about adapting to it.\\nEleanor: Okay, but how do we do that?\\nAdrian: Well, we need to invest in training programs, help people learn new skills for the jobs of the future. It’s about lifelong learning. Constantly updating your knowledge to stay ahead of the curve.\\nEleanor: So the jobs of tomorrow might not even exist today.\\nAdrian: Right. And it’s not just about tech skills either. It’s about those human qualities that A.I. can’t replicate. Creativity, critical thinking, empathy, emotional intelligence.\\nEleanor: Those are the things that will be even more important as A.I. becomes more powerful.\\nAdrian: Right. It’s about humans and machines working together, complementing each other.\\nEleanor: To create something better than either could do alone.\\nAdrian: Exactly. We need to stop seeing A.I. as the enemy and start seeing it as an opportunity. An opportunity to build a fairer, more sustainable and prosperous future for everyone.\\nEleanor: That’s a much more optimistic way to look at it.\\nAdrian: It is. The future isn’t set in stone. The choices we make now will determine what happens next.\\nEleanor: That’s a lot to think about. I think we need another break to digest all this. We’ll be back for the final part of our A.I. Deep dive to figure out how we can shape this future. How we can make sure AI is a force for good in the world. And we’re back for the final part of our AI deep dive.\\nAdrian: It’s been quite a journey, right? From classrooms to operating rooms to the singularity.\\nEleanor: We’ve covered a lot of ground. AI tutors, robot surgeons. It’s wild to think about all the ways AI is already changing things.\\nAdrian: And we’re just getting started.\\nEleanor: Exactly. It’s this powerful tool that could change everything, you know, for the better, like health care, education, even how we deal with climate change. But it’s got this dark side to the potential for things to go wrong, the ethical dilemmas, all that stuff.\\nAdrian: Yeah, it’s a real balancing act.\\nEleanor: So the big question is, what do we do about it? How do we make sure AI is used for good, that it benefits everyone, not just a select few?\\nAdrian: Right, Right. Well, we talked about transparency. Companies being upfront about how they’re using AI and people’s data, but it goes beyond that. We need, like actual guidelines, ethical guidelines for how A.I. is developed and used.\\nEleanor: Guidelines that cover stuff like bias and algorithms, data privacy. Making sure AI isn’t used for harmful purposes.\\nAdrian: Exactly. And these guidelines, they can’t just be made by tech people. We need policy makers, ethicists, social scientists, regular people. Everyone needs to be involved because.\\nEleanor: This is going to affect everyone, right? So everyone should have a say in how it all goes down.\\nAdrian: It’s about making sure AI serves the needs of society, not just the needs of a few companies or governments.\\nEleanor: One of our sources talks about this idea of explainability in Explainability. It’s not enough to just have these super complicated algorithms making decisions. We need to be able to understand how they’re making those decisions.\\nAdrian: Yeah, like if an AI system messes up, we need to be able to trace it back, figure out why it happened and learn from it.\\nEleanor: Right? Otherwise it’s just this black box and who knows what’s going on in there, especially when you’re talking about A.I. being used for things like health care or criminal justice.\\nAdrian: High stakes stuff.\\nEleanor: Exactly. We need to be able to audit these systems, make sure they’re not biased, that they’re being used fairly.\\nAdrian: And of course, there’s education.\\nEleanor: Yeah, education is huge. We got to prepare people for this AI powered world.\\nAdrian: We talked about retraining people for new jobs. But it’s even more than that. We need to teach kids about AI in schools, like from a young age.\\nEleanor: Not just coding, but the whole picture, how A.I. works, the ethics of it, how to use it responsibly so.\\nAdrian: They grow up understanding this technology that’s going to be such a big part of their.\\nEleanor: Lives. It’s about creating a generation that’s A.I. literate, you know, people who can think critically about A.I. and make informed choices about the future.\\nAdrian: And that brings us back to the singularity.\\nEleanor: The singularity? Yeah. It’s kind of freaky to think about, but maybe there’s another way to look at it.\\nAdrian: What if instead of being afraid of A.I. becoming smarter than us, we think about it as like an opportunity for humans to evolve.\\nEleanor: To evolve?\\nAdrian: Yeah. Like, what if instead of being replaced by A.I., we merge with it. We enhance our own intelligence and abilities in ways we can’t even imagine right now.\\nEleanor: Well, that’s trippy, but it’s also kind of exciting, right?\\nAdrian: Imagine what we could achieve if we could combine human creativity and intuition with the raw processing power of A.I..\\nEleanor: We could solve climate change, cure diseases, maybe even unlock the secrets of the universe.\\nAdrian: The possibilities are endless. But it all depends on the choices we make right now.\\nEleanor: So it’s not some predetermined doomsday scenario. We still have a say in how this all plays out.\\nAdrian: Exactly. If we approach A.I. with a sense of responsibility, with collaboration, with a shared vision for a better future, we can make this technology work for us, for all of.\\nEleanor: Us. That’s a powerful message. The future of A.I. is still being written, and we all have a role to play in shaping it.\\nAdrian: So keep exploring, keep questioning, keep the conversation going. That’s what this deep dive has been all.\\nEleanor: About, and that’s what we’re all about here on the show. Thanks for joining us on this journey into the world of A.I..\\nAdrian: It’s been a pleasure.'"
            ],
            "application/vnd.google.colaboratory.intrinsic+json": {
              "type": "string"
            }
          },
          "metadata": {}
        },
        {
          "output_type": "stream",
          "name": "stdout",
          "text": [
            "\n",
            "Frame: AI competition and market dynamics in tech industries\n",
            "Sentiment: -3\n",
            "Lexicon S: 2\n",
            "\n",
            "Une fonctionnalité IA controversée d'Apple pourrait arriver sur les téléphones Android\n"
          ]
        },
        {
          "output_type": "display_data",
          "data": {
            "text/plain": [
              "\"Une des fonctionnalités d'intelligence artificielle les plus controversées d'Apple pourrait bien faire son apparition sur les téléphones Android.\\nLa technologie de l’IA : un nouveau virage pour les smartphones\\nDans le monde des smartphones, la technologie de l’intelligence artificielle (IA) est devenue le nouveau graal. Et pour cause, les fabricants de téléphones ne cessent de nous le rappeler. Il n’est donc pas étonnant qu’ils commencent déjà à emprunter des idées les uns aux autres.\\nDes fonctionnalités de l’IA : le meilleur et le pire\\nSi cela peut être avantageux en offrant aux utilisateurs l’accès aux meilleures fonctionnalités de l’IA, cela peut également les encombrer avec les moins bonnes. Prenons par exemple la fonction de résumé de notifications d’Apple. Bien qu’elle soit largement considérée comme l’une des pires parties de l’Apple Intelligence, la dernière version d’Android 16 beta 3 contient des références à un système de résumé de notifications très similaire. Le moins que l’on puisse dire, c’est que cela ne semble pas être une « bonne nouvelle ».\\nCependant, tout n’est pas perdu. Les utilisateurs pourront désactiver les résumés de notifications pour des applications individuelles. Ainsi, si vous commencez à recevoir des notifications inexactes, vous pourrez simplement désactiver les applications en question. De plus, les notifications de « thèmes similaires » pourront être regroupées et silenciées, ce qui pourrait être très bénéfique pour éviter d’être submergé par des types spécifiques de notifications.\\nÉviter de répéter les erreurs d’Apple\""
            ],
            "application/vnd.google.colaboratory.intrinsic+json": {
              "type": "string"
            }
          },
          "metadata": {}
        },
        {
          "output_type": "stream",
          "name": "stdout",
          "text": [
            "\n",
            "Frame: AI in politics, elections, and public opinion\n",
            "Sentiment: -2\n",
            "Lexicon S: 1\n",
            "\n",
            "\"Je partira pas\": Tiktok supprime la chanson raciste de sa plateforme\n"
          ]
        },
        {
          "output_type": "display_data",
          "data": {
            "text/plain": [
              "'Partagée par des comptes Tiktok d\\'extrême droite, le morceau a désormais disparu de Tiktok, du moins dans deux des versions les plus relayées.\\nAprès la diffusion massive d\\'un morceau baptisé Je partira pas, aux paroles ouvertement racistes, Tiktok a pris des mesures. La plateforme -qui avait indiqué ce 26 juin soumettre le cas à ses équipes de modération- a finalement supprimé les deux versions les plus relayées du morceau, comme a pu le constater Tech&Co. Interrogé sur le sujet, Tiktok confirme sa volonté de faire disparaître le morceau du réseau social.\\nPour rappel, sur Tiktok, chaque utilisateur peut diffuser un fichier sonore, qui peut ensuite être automatiquement ajouté par les autres utilisateurs dans leurs vidéos. Ce qui permet à certains morceaux de rapidement devenir viraux. À chaque fois, une page affiche l\\'ensemble des vidéos ayant partagé un même morceau.\\nDeux versions supprimées\\nDans le cas de Je partira pas, une première version, partagée par un compte d\\'extrême droite suivi par 16.000 personnes, était intégrée dans plus de 500 vidéos. Elle a été supprimée ce 26 juin au soir. Conséquence: toutes les vidéos utilisant le morceau sont aussitôt devenues muettes, alors qu\\'un message affichait que le son était \"indisponible\".\\nUne seconde version, utilisée dans une centaine d\\'autres vidéos, a été supprimée ce 27 juin, peu avant la mi-journée. Au total, les vidéos utilisant les deux versions du morceau cumulaient plusieurs centaines de milliers de vues.\\nUne suppression qui n\\'empêche pas les utilisateurs de mettre en ligne de nouvelles vidéos accompagnées du morceau, en l\\'important de nouveau, manuellement.\\nLe morceau aux paroles pour le moins explicites (\"Tu partiras avec ta Fatma, pour toi fini le RSA. Le bateau n\\'attend pas. [...] Quand va passer Bardella, tu vas retourner chez toi, tu mettras ta djellaba, tu pourras prier toute la journée\") a par ailleurs été largement diffusé sur Twitter, où il cumule des millions de vues.\\nCe 26 juin au soir, le candidat Reconquête aux élections législatives, Eric Zemmour, a partagé le morceau sur son compte.\\nBien qu\\'il fasse directement référence à Jordan Bardella, rien ne permet d\\'affirmer que le Rassemblement national a joué un quelconque rôle dans la création et la diffusion de ce morceau, généré par intelligence artificielle.\\nContacté par Tech&Co sur la diffusion du morceau sur Twitter, la plateforme n\\'a pour l\\'heure pas répondu.'"
            ],
            "application/vnd.google.colaboratory.intrinsic+json": {
              "type": "string"
            }
          },
          "metadata": {}
        },
        {
          "output_type": "stream",
          "name": "stdout",
          "text": [
            "\n",
            "Frame: AI regulations, ethics, and data privacy\n",
            "Sentiment: 0\n",
            "Lexicon S: 3\n",
            "\n",
            "Pourquoi l’IA ne bouleverse pas le monde dit \" arabe \"\n"
          ]
        },
        {
          "output_type": "display_data",
          "data": {
            "text/plain": [
              "\"LA CHRONIQUE DE KAMEL DAOUD. Si elle inquiète en Occident, l’extension de l’IA ne semble pas poser problème en terre d’islam. Parce que l’apocryphe et l’effacement de l’auteur y sont une tradition ?\\nPublié le 02/09/2024 à 09h00\\nS’abonner sans engagement\\nTemps de lecture : 4 min\\nAjouter à mes favoris\\nL'article a été ajouté à vos favoris\\nGoogle News\\nExclusivité abonnés\\nPour offrir jusqu'à 5 articles par mois vous devez être abonné(e)\\nJe m'abonne\\nExclusivité abonnés connectés\\nPour offrir jusqu'à 5 articles par mois vous devez être abonné(e)\\nJe m'abonne\\nil vous reste ? article(s) à offrir ce mois-ci\\nVotre abonnement vous permet d'offrir jusqu'à 5 articles reservés aux abonnés chaque mois\\nCe lien de partage généré est unique et ne pourra être utilisé que par une seule personne. Si vous souhaitez partager cet article avec plusieurs personnes, vous devrez créer un lien pour chacune d'elles.\\nvoir\\nLien copié !\\nou\\nEmail\\nLinkedIn\\nFacebook\\nTwitter\\nWhatsApp\\nVous avez déjà offert 5 articles\\nVous pouvez sauvegarder cet article pour l'offrir le mois prochain\\nCet article vous a été partagé par un proche\\nEn tant qu'abonné, vous pouvez offrir jusqu'à 5 articles par mois\\nCet article vous a été partagé par un proche\\nPour le lire, vous devez vous connecter ou vous créer un compte.\\nJe m'inscris / Je me connecte\\nCe lien n'est plus valide\\nCe lien a déjà été utilisé par une autre personne\\nDécouvrir nos offres\\nFacebook\\nTwitter\\nLinkedIn\\nWhatsApp\\nCopier le lien\\nPourquoi l'intelligence artificielle ne fait-elle pas débat dans le monde dit « arabe » ? Au-delà des serres rutilantes des pays du Golfe qui accueillent l'IA comme un avenir post-pétrole (les Émirats, premier pays au monde à avoir un ministère de l'Intelligence artificielle), la Machine est tenue à distance. Les interrogations sur l'IA y sont rares : on chercherait en vain une querelle du genre « versets sataniques » fabriquée par la machine universelle occidentale, ni même un congrès sur l'impact de cette « intelligence » sur les productions éditoriales ou les entreprises.\\nLa question de l'IA et du monde dit « arabe » n'a rien d'ailleurs d'une perfidie « raciste ». C'est plutôt une vraie question : pourquoi cette grosse machine de l'avenir ne soulève-t-elle pas les foules académiques d...\\nLa newsletter débats et opinions\\nTous les vendredis à 7h30\\nRecevez notre sélection d’articles tirée de notre rubrique Débats, pour comprendre les vrais enjeux du monde d’aujourd’hui et de notre société\\nVotre adresse email\\nVotre adresse email n'est pas valide\\nVeuillez renseigner votre adresse email\\nMerci !\\nVotre inscription a bien été prise en compte avec l'adresse email :\\nPour découvrir toutes nos autres newsletters, rendez-vous ici : MonCompte\\nEn vous inscrivant, vous acceptez les conditions générales d’utilisations et notre politique de confidentialité.\\nÀ ne pas manquer\\nBrad Smith : « Les humains doivent rester aux commandes de l’intelligence artificielle »\\nComment l’IA va bouleverser l’industrie du sexe\\nEXCLUSIF. Rencontre avec Arthur Mensch, prodige français de l’IA et cofondateur de Mistral AI\\nQuand l’info ne joue pas le(s) Jeu(x)\""
            ],
            "application/vnd.google.colaboratory.intrinsic+json": {
              "type": "string"
            }
          },
          "metadata": {}
        },
        {
          "output_type": "stream",
          "name": "stdout",
          "text": [
            "\n"
          ]
        }
      ]
    },
    {
      "cell_type": "code",
      "source": [
        "df = pd.read_csv('/content/drive/MyDrive/Mediacloud/India/artificial_intelligence_india_cleaned_2024-06-01_2025-06-01_frames_sentiments_newsplease_mediacloud_gemini_2-5.csv')\n",
        "df[\"sentiment_lexicon\"] = df[\"maintext\"].apply(get_sentiment)\n",
        "len(df)"
      ],
      "metadata": {
        "colab": {
          "base_uri": "https://localhost:8080/"
        },
        "id": "zHCNWXh60A9J",
        "outputId": "ce4355e1-3fc3-4147-a1fe-947dc5e7164d"
      },
      "execution_count": null,
      "outputs": [
        {
          "output_type": "execute_result",
          "data": {
            "text/plain": [
              "1000"
            ]
          },
          "metadata": {},
          "execution_count": 4
        }
      ]
    },
    {
      "cell_type": "code",
      "source": [
        "df_sample = df.sample(n=10, random_state=42)\n",
        "df_sample = df_sample.reset_index(drop=True)\n",
        "len(df_sample)"
      ],
      "metadata": {
        "colab": {
          "base_uri": "https://localhost:8080/"
        },
        "id": "ebrvKGeH1MS1",
        "outputId": "51b8e1a2-2840-4aac-85cd-44acf09c3c6c"
      },
      "execution_count": null,
      "outputs": [
        {
          "output_type": "execute_result",
          "data": {
            "text/plain": [
              "10"
            ]
          },
          "metadata": {},
          "execution_count": 5
        }
      ]
    },
    {
      "cell_type": "code",
      "source": [
        "#Gemini 2.5 frames     IN:  7/10 -> 1101101110\n",
        "#Gemini 2.5 sentiments IN:  8/10 -> 1101111101\n",
        "#Lexicon sentiments    IN:  5/10 -> 0110011100"
      ],
      "metadata": {
        "id": "fl3PeITv1Vqj"
      },
      "execution_count": null,
      "outputs": []
    },
    {
      "cell_type": "code",
      "source": [
        "for i in range(len(df_sample)):\n",
        "    print(\"Frame:\", df_sample.frame[i])\n",
        "    print(\"Sentiment:\", df_sample.sentiment[i])\n",
        "    print(\"Lexicon S:\", df_sample.sentiment_lexicon[i])\n",
        "    print()\n",
        "    print(df_sample.title[i])\n",
        "    display(df_sample.maintext[i])\n",
        "    print()"
      ],
      "metadata": {
        "colab": {
          "base_uri": "https://localhost:8080/",
          "height": 1000
        },
        "id": "rd7q4F6Y1gUw",
        "outputId": "c7ee179e-3f4e-40df-eefb-b31c83a97b87"
      },
      "execution_count": null,
      "outputs": [
        {
          "output_type": "stream",
          "name": "stdout",
          "text": [
            "Frame: AI regulations, ethics, and data privacy\n",
            "Sentiment: -4\n",
            "Lexicon S: 5\n",
            "\n",
            "Rumors of Gauri Khan converting to Islam break the internet\n"
          ]
        },
        {
          "output_type": "display_data",
          "data": {
            "text/plain": [
              "'Mumbai: Shah Rukh Khan and Gauri Khan, Bollywood’s iconic power couple, have always been admired for their bond and mutual respect for each other’s faiths. They got married in 199. Despite SRK being a Muslim and Gauri a Hindu, they have never allowed religious differences to interfere with their harmonious life.\\nAnd now, the internet has been buzzing with rumors of Gauri Khan converting to Islam after AI-generated pictures showing Gauri, Aryan, and Shah Rukh in Makkah went viral. However, there is no truth to these claims. The couple has become the latest target of artificial intelligence manipulations, and the viral images are entirely fabricated.\\nIn a 2005 episode of Koffee With Karan, Gauri Khan addressed such topics, clarifying her stance on religion. She said, “I respect Shah Rukh’s religion, but that doesn’t mean I would convert and become a Muslim. I think everybody is an individual and follows their religion. Shah Rukh, in turn, would never disrespect mine.”\\nOn the topic of their son Aryan Khan, Gauri shared, “Aryan is so into Shah Rukh that he would follow his religion, I feel. He will always say, ‘I am a Muslim.’ When he tells this to my mother, she’s like, ‘What do you mean?’ She’s dealing with it, and it is true.”\\nThe Khan family has always exemplified a balanced and respectful approach to interfaith relationships, emphasizing individuality and mutual respect above all.'"
            ],
            "application/vnd.google.colaboratory.intrinsic+json": {
              "type": "string"
            }
          },
          "metadata": {}
        },
        {
          "output_type": "stream",
          "name": "stdout",
          "text": [
            "\n",
            "Frame: AI competition and market dynamics in tech industries\n",
            "Sentiment: 1\n",
            "Lexicon S: 4\n",
            "\n",
            "Apple CEO Tim Cook teases potential new MacBook Air this week\n"
          ]
        },
        {
          "output_type": "display_data",
          "data": {
            "text/plain": [
              "'Apple CEO Tim Cook on Monday (March 3, 2025) teased the potential launch of a new MacBook Air with a short video and a cryptic two-word-long comment promising more updates “this week.”\\nThe short teaser video shared by the Apple CEO on X noted, “There’s something in the AIR,” which was taken to be a possible reference to a new MacBook Air laptop that could be powered by the improved M4 chip.\\nHowever, Cook did not confirm which device was set to be released, and some industry analysts have proposed that an all-new iPad Air or even an iPhone Air might be announced.\\nApple recently announced an investment of $500 billion in the U.S over the next four years to “focus on artificial intelligence, silicon engineering, and skills development for students and workers across the country.”'"
            ],
            "application/vnd.google.colaboratory.intrinsic+json": {
              "type": "string"
            }
          },
          "metadata": {}
        },
        {
          "output_type": "stream",
          "name": "stdout",
          "text": [
            "\n",
            "Frame: AI competition and market dynamics in tech industries\n",
            "Sentiment: 5\n",
            "Lexicon S: 5\n",
            "\n",
            "After ChatGPT, Apple eying Google's Gemini to boost AI features in iDevices [details]\n"
          ]
        },
        {
          "output_type": "display_data",
          "data": {
            "text/plain": [
              "'Reports have suggested that Apple is set to announce a new partnership to enhance artificial intelligence (AI) features on its devices. Apple is supposedly set to finalise a deal which will add Google\\'s Gemini AI into its device platforms this fall.\\nThe iPhone maker has already partnered with OpenAI for the ChatGPT chatbot to be integrated onto Apple devices, which was announced last month at its Worldwide Developers Conference (WWDC) 2024 keynote event.\\nThe addition of Gemini to Apple\\'s operating systems and Apple Intelligence is likely to significantly enhance the user experience.\\nA report by Mark Gurman in the Power On newsletter has provided insights into the possible partnership. Apple had earlier indicated that it is exploring the integration of various third-party AI models to its systems and devices.\\nThe WWDC saw the announcement of Apple Intelligence which is \"the personal intelligence system that puts powerful generative models right at the core\" of user devices.\\nApple reportedly wants to make \"AI an avenue for direct profits, not just as a set of features aimed at moving hardware products.\" Gurman suggests that the company \"could eventually\" roll out subscription-only Apple Intelligence features.\\nRumours regarding the AI related third party collaborations with Apple have been doing the rounds for some time, with OpenAI and Gemini being at the forefront. Mark Gurman also suggested that apart from the addition of Gemini, Anthropic\\'s Claude AI might also be added to the mix. Meta AI however was rejected as the Llama chatbot did not meet Apple\\'s standards.\\nApple Intelligence will be released in a phased manner. The expectation is therefore that both Gemini and ChatGPT could be fully functional \"by the time Apple Intelligence is fully rolled out\" over this fall or early next year.\\nWhat this means for Apple users:\\nIf the reported tie-ups take effect, Apple users are likely to have the widest network of AI chatbots and engines at their fingertips. Though, it is unclear how these potentially competitive models will co-exist on Apple devices.\\nThese third-party AI models are likely to keep Apple systems and Apple Intelligence at the top end until the company develops its own generative AI system. The basic advantage for users will be that of \\'choice\\'. Each AI model comes with similar functionalities with differing accuracy levels. At the end of the day, users will therefore be able to access a wider and possibly more accurate set of information to meet their requirements.'"
            ],
            "application/vnd.google.colaboratory.intrinsic+json": {
              "type": "string"
            }
          },
          "metadata": {}
        },
        {
          "output_type": "stream",
          "name": "stdout",
          "text": [
            "\n",
            "Frame: AI in national security and global partnerships\n",
            "Sentiment: 0\n",
            "Lexicon S: 5\n",
            "\n",
            "Defence Ministry clears Navy's Rs 2,500 crore plan for unmanned vessels with capabilities to attack submarines\n"
          ]
        },
        {
          "output_type": "display_data",
          "data": {
            "text/plain": [
              "\"Synopsis\\nThe Defence Ministry has approved the Indian Navy's Rs 2,500 crore plan to build 100-tonne unmanned underwater vessels. These vessels will enhance the Navy's capabilities in underwater operations, including mine laying, surveillance, and launching weapons. A tender for the project will be issued soon under the Aatmanirbharta initiative.\\nAmid increasing use of unmanned warfare, the Defence Ministry has given approval to the Indian Navy's plans worth over Rs 2,500 crore to build 100-tonne unmanned underwater vessels.\\nThe proposal for building the 100-tonne unmanned underwater vessels was given clearance at a high level defence ministry meeting held recently, defence sources told here.\\nThe underwater vessels in the Extra Large category would weigh over 100 tonnes and would be\\nequipped with strike capabilities against enemy submarines and surface vessels, they said.\\nThe vessels would give the Navy a niche capability in the underwater domain. It would also help the force to carry out multiple operations, former Navy Vice Chief Vice Admiral SN Ghormade said when asked about the capability.\\nLive Events\\nThe Navy has plans of using such vessels for a plethora of tasks such as laying mines and mine clearing operations, surveillance, and launching weapons, the sources said.\\nThe Indian Navy would be issuing a tender for the project in the next few months, and Indian shipyards would be bidding for it under the Aatmanirbharta initiative and offering it under the Make-1 procedure, the sources said.\\nThe Navy would want the vessels with capability to remain underwater for very long hours at long distances from the shore to keep an eye on the movement of suspicious vessels and other activities and safeguard national interests.\\nThe Indian Navy has been working towards preparing itself for warfare of the future by upgrading its capabilities in the unmanned domain.\\nThe force has been working on unmanned surface vessels, which have also been used in the ongoing conflicts across the globe for destroying larger vessels and assets.\\nThe Navy has also focused on increasing its unmanned long range surveillance capabilities with the induction of drones like the MQ-9B and Drishti Hermes 900, along with the ones planned for the future.\\n(You can now subscribe to our Economic Times WhatsApp channel)\\n(Catch all the Business News, Breaking News, Budget 2025 Events and Latest News Updates on The Economic Times.)\\nSubscribe to The Economic Times Prime and read the ET ePaper online.\\n...moreless\\n(You can now subscribe to our Economic Times WhatsApp channel)\\n(Catch all the Business News, Breaking News, Budget 2025 Events and Latest News Updates on The Economic Times.)\\nSubscribe to The Economic Times Prime and read the ET ePaper online.\\n...moreless\\nHow Balrampur Chini, EID Parry are stirring up gains amid melting sugar stocks\\nAre Sebi’s MII evaluations driving real change or just more paperwork?\\nDelhivery survived the Meesho curveball. Can it keep on delivering profits?\\nDrones have become a winning strategy in war; can they be in investing?\\nStock Radar: Trent stock showing signs of bottoming out; stock still down over 25% from highs – what should investors do?\\nBuy, Sell or Hold: Motilal Oswal initiates coverage on Inox Wind; Gabriel top pick for Elara Securities\\n1\\n2\\n3\""
            ],
            "application/vnd.google.colaboratory.intrinsic+json": {
              "type": "string"
            }
          },
          "metadata": {}
        },
        {
          "output_type": "stream",
          "name": "stdout",
          "text": [
            "\n",
            "Frame: AI-based innovative solutions\n",
            "Sentiment: 0\n",
            "Lexicon S: 4\n",
            "\n",
            "Samsung may bring Galaxy AI live translation feature to WhatsApp calls: Report\n"
          ]
        },
        {
          "output_type": "display_data",
          "data": {
            "text/plain": [
              "\"Samsung's Galaxy AI is rumored to introduce a language translation feature for WhatsApp calls, powered by Google's Gemini models. The feature is expected to be announced at Samsung's upcoming Galaxy Unpacked event on July 10, along with new foldable phones and other devices.\\nSamsung introduced Galaxy AI – a suite of artificial intelligence (AI) features earlier this year. Powered by Google's Gemini foundational models, the Galaxy AI includes new generative AI-powered text, image, and video editing tools.\\nAccording to a recent leak, Samsung’s Galaxy AI may get a language translation feature during WhatsApp calls. In a post on X (formerly Twitter), tipster Ice Universe wrote “Galaxy AI will power WhatsApp real-time translation”. This means that the new feature would allow real-time translation of conversations during WhatsApp calls for the Samsung Galaxy users.\\nThe feature is expected to be rolled out with the next version of Samsung UI. While the tipster does not reveal more information about the upcoming feature, it is expected to be announced at Samsung’s next Galaxy Unpacked event scheduled for July 10.\\nIt is tipped that Samsung may also bring the live translation feature to other apps as well like Google Meet.\\nSamsung to host its Galaxy event on July 10\\nAt the July 10 event in Paris, the South Korean company will announce its next generation foldable phones – Galaxy Z Fold 6 , Z Flip 6 along with Galaxy Bud3 Pro, Galaxy Watch 7 series and all-new Galaxy Ring. The Galaxy Z Fold6 and Galaxy Z Flip6 are speculated to come with an updated -- Qualcomm Snapdragon 8 Gen 3 chipset -- similar to the Galaxy S24 series.\\nEnd of Article\\nLatest Mobiles\\nView All\\nLava O3\\n₹6,199\\nView Specs\\nLava Agni 3 5G\\n₹22,999\\nView Specs\\nSamsung Galaxy C55\\n₹11,799\\nView Specs\\nXiaomi Redmi Note 13R Pro 5G\\n₹23,690\\nView Specs\\nHMD Skyline 5G\\n₹35,999\\nView Specs\\nTecno Pop 9 5G\\n₹9,499\\nView Specs\\nSamsung Galaxy M55s 5G\\n₹19,999\\nView Specs\\nTecno Zero 40 5G\\n₹37,999\\nView Specs\\nTecno Pova 6 Neo 5G\\n₹15,999\\nView Specs\\nRealme P2 Pro 5G\\n₹25,999\\nView Specs\""
            ],
            "application/vnd.google.colaboratory.intrinsic+json": {
              "type": "string"
            }
          },
          "metadata": {}
        },
        {
          "output_type": "stream",
          "name": "stdout",
          "text": [
            "\n",
            "Frame: AI-based innovative solutions\n",
            "Sentiment: 3\n",
            "Lexicon S: 5\n",
            "\n",
            "LS Speaker Om Birla confident India, UK further strengthen strategic relations\n"
          ]
        },
        {
          "output_type": "display_data",
          "data": {
            "text/plain": [
              "'Lok Sabha Speaker Om Birla has expressed confidence that his visit to London would further strengthen the deep-rooted friendly ties between the Parliaments of both India and the UK as well as the people of both countries.\\nTaking to social media platform X, Birla wrote: \"Glad to be with my gracious host H.E. Sir Lindsay Hoyle, Speaker of the House of Commons and other dignitaries during the lunch hosted by Hoyle at Palace of Westminster. India and the United Kingdom enjoy a deep and special relationship. Our ties remain strong, based on mutual respect, shared democratic values and our commitment to human dignity and the Rule of Law.\"\\nThe Lok Sabha Speaker further said: \"Confident that this visit would further strengthen the deep-rooted friendly ties between the Parliaments of India and the United Kingdom and the people of the two countries. @CommonsSpeaker@LindsayHoyle_MP@HouseofCommons@HCI_London.\"\\nHe expressed his hope that the strategic ties between the two countries will be further strengthened in the future.\\nSpeaking to reporters, Birla said, \"Had a meeting with Speaker of the House of Commons (Lindsay Hoyle). India and the UK have a long and deep relationship. Both countries believe in democracy and democratic values. We also share democratic values...How both countries can make their Parliamentary proceedings better and how MPs\\' capacity building can be done.\"\\nHe added that Lindsay Hoyle appreciated the innovations made in the Indian Parliament, especially those in Artificial Intelligence.\\nHe underscored the importance of fast-paced discussions between the two parliaments to strengthen democratic processes and facilitate better cooperation in the future.\\nHe said, \"Many innovations have been made in the Parliament of India, especially those in Artificial Intelligence, have been lauded by the UK House of Commons Speaker. I hope that strategic ties between India and the UK will be strengthened in the future. Through parliamentary diplomacy, the discussion between MPs and the Parliament of two nations will take place at a fast pace so that we can strengthen parliamentary democracy in the coming time and make it answerable before the people.\"\\nEarlier on Wednesday, Birla met with UK House of Commons Speaker Lindsay Hoyle and highlighted India\\'s distinction as the \"world\\'s largest and most vibrant democracy\".\\nBirla congratulated Hoyle on his re-election as the Speaker of the UK House of Commons.\\nOn being asked about chairing the meeting of the Standing Committee of Conference of Speakers and Presiding Officers of the Commonwealth (CSPOC) in Guernsey, \"Speakers of 52 nations will participate in this conference and India has got the opportunity to chair it. We will use the opportunity to share information about India being the mother of democracy and India\\'s journey of 75 years through democracy and how we made economic and social development in these 75 years. Today, India\\'s economy is moving at a fast pace and India will also emerge as a manufacturing hub....Major changes and decisions have been made in India under the leadership of Prime Minister Narendra Modi. The countries of the world are looking to India. India is making efforts to maintain global peace and stability.\"\\nOn January 10, Birla will chair the meeting of the Standing Committee of Conference of Speakers and Presiding Officers of the Commonwealth (CSPOC) in Guernsey. He will chair this meeting in his capacity as the host of the 28th CSPOC, which is scheduled to be held in India in 2026.\\nThe Lok Sabha Speaker will also meet his counterparts from other Parliaments on the sidelines of this meeting.\\nDuring his meeting with Hoyle, Birla stressed that the Election Commission of India (ECI) has an \"excellent track record\" of conducting free, fair, independent and impartial elections and called India a vibrant democracy with one billion voters.\\nHighlighting encouraging participation of women in the election process in India, he noted that such participation shows the inclusiveness in our electoral process.\\nHe said that India is celebrating 75 years since the adoption of the Constitution and added that the Constitution of India has brought transformative socio-economic changes in the country.\\nHe expressed hope that India will be a developed country by 2047, according to the statement released by Lok Sabha Secretariat.\\nCalling for strengthening parliamentary cooperation between India and the UK, he stressed more and more exchange of parliamentary knowledge, best practices and experiences between the two countries.\\nHe stated that youth and women parliamentarians of India and the UK should interact more frequently, according to the statement released by the Lok Sabha Secretariat.\\n(With inputs from IANS)'"
            ],
            "application/vnd.google.colaboratory.intrinsic+json": {
              "type": "string"
            }
          },
          "metadata": {}
        },
        {
          "output_type": "stream",
          "name": "stdout",
          "text": [
            "\n",
            "Frame: AI-based innovative solutions\n",
            "Sentiment: 5\n",
            "Lexicon S: 5\n",
            "\n",
            "NORQUE Set to Revolutionize the Digital Currency Landscape, Garnering Major Investment Firm Attention\n"
          ]
        },
        {
          "output_type": "display_data",
          "data": {
            "text/plain": [
              "'New York, NY, [August 26, 2024] – NORQUE, the groundbreaking blockchain initiative, is swiftly becoming a household name in the digital currency market, drawing comparisons to heavyweights such as Bitcoin (BTC) and Ethereum (ETH). With its innovative integration of artificial intelligence (AI) and machine learning (ML), NORQUE is not just another cryptocurrency; it’s poised to redefine the standards of digital currency and technology.\\nBigger Than AI, BTC, and ETH\\nAs the digital landscape evolves, NORQUE is emerging as a force to be reckoned with, promising to outpace even the most established players like BTC and ETH. This ambitious project leverages AI and ML to streamline insurance processes, setting it apart as the first of its kind to offer such solutions. NORQUE’s protocol, capable of handling millions of transactions per second with low fees, enhances security while revolutionizing how insurance policies are issued and claims are settled.\\nA Beacon for Investors and Stakeholders\\nNORQUE’s potential to save the falling market of crypto, blockchain, and the metaverse is undeniable. That’s one reason why many investors have been rushing to become involved. Its introduction of the NOQ Coin, backed by tangible assets such as real estate and fast-moving consumer goods (FMCG), offers a stable and viable alternative to volatile cryptocurrencies. This real-world backing ensures the NOQ Coin maintains steady value, addressing investor concerns about the intrinsic value of digital currencies.\\nIndustry Recognition and Intellectual Property Rights\\nNORQUE’s innovative approach has not gone unnoticed. Major platforms and publications, including AP News and Benzinga, have covered the brand and project, highlighting its revolutionary potential. Furthermore, all intellectual property rights related to NORQUE are duly registered, providing the project with an extra edge in the competitive digital currency market.\\nVirtual Assets Business License and Certik Certification\\nAdding to its credibility, NORQUE has secured a virtual assets business license, demonstrating its commitment to regulatory compliance and operational excellence. The project has also received the prestigious Certik certificate, a significant milestone that underscores its robustness and security. With Certik verifying both the contract address and KYC (Know Your Customer) processes, NORQUE stands out as a reliable and transparent option for investors.\\nTrending Across Social Media\\nThe buzz around NORQUE is palpable, with the project trending across various social media platforms. This growing popularity reflects the widespread recognition of NORQUE’s potential to transform the digital currency and insurance sectors.\\nComprehensive Ecosystem\\nThe NORQUE Universe is designed to offer a comprehensive ecosystem, including both decentralized (DEX) and centralized (CEX) exchanges. This enables users to easily convert between different cryptocurrencies and trade with confidence. NORQUE’s initiative to facilitate cryptocurrency payments for cross-border transactions promises instant conversions without the hefty fees associated with traditional fiat currency exchanges.\\nInnovative Insurance Solutions\\nNORQUE’s offerings extend beyond financial transactions. The project aims to provide insurance coverage across the entire spectrum of blockchain, Web3, cryptocurrency, metaverse, and the physical world. This ambitious approach ensures that NORQUE is not just a digital currency but a holistic solution provider for various technological and real-world challenges.\\nRestoring Faith in Digital Technologies\\nAs the digital currency market faces volatility and skepticism, NORQUE offers a beacon of hope. Its stable NOQ Coin, comprehensive ecosystem, and innovative insurance solutions promise to restore faith and stability in revolutionary technologies. By addressing the concerns of investors and stakeholders, NORQUE is set to redefine the future of digital currency and technology.\\nNORQUE’s Unique Proposition\\nNORQUE’s mission transcends the conventional boundaries of digital currency by incorporating cutting-edge technologies that promise to deliver unparalleled value to its users. Unlike traditional cryptocurrencies that often struggle with market stability and intrinsic value concerns, NORQUE’s NOQ Coin stands out due to its backing by tangible assets, offering a sense of security and reliability rarely seen in the market. This tangible asset backing mitigates the risks associated with volatility, ensuring that NOQ Coin remains a dependable store of value and medium of exchange.\\nStrategic Partnerships and Expanding Reach\\nNORQUE’s strategic partnerships are instrumental in its rapid ascent. Collaborations with key industry players and technology firms have not only bolstered its technological framework but also expanded its reach within the global market. These alliances facilitate the seamless integration of NORQUE’s ecosystem into various financial and insurance sectors, ensuring widespread adoption and use.\\nInnovative Use Cases and Practical Applications\\nNORQUE’s application of AI and ML extends beyond mere transaction efficiency. The platform’s innovative use cases in the insurance sector, such as automated claims processing and smart contract-based policy issuance, highlight its practical applications. These features streamline operations, reduce costs, and enhance the overall user experience, making insurance processes more transparent and efficient.\\nCommunity and Ecosystem Development\\nAt the heart of NORQUE’s vision is a vibrant community and a robust ecosystem. The project’s commitment to fostering a supportive and engaged community is evident through its active presence on social media and various communication platforms. Regular updates, community events, and educational initiatives ensure that users are well-informed and involved in the project’s development.\\nFuture Prospects\\nLooking ahead, NORQUE’s roadmap includes continuous technological enhancements, expansion into new markets, and the introduction of additional services that leverage its blockchain capabilities. As NORQUE progresses, it remains dedicated to driving innovation and providing sustainable solutions that benefit both the public and stakeholders, positioning itself as a cornerstone of the future digital economy.\\nNORQUE’s rise as a formidable player in the digital currency market is a testament to its innovative approach and robust solutions. With major investment firms backing the project, intellectual property rights secured, and the prestigious CertiK certification in hand, NORQUE is well-positioned to lead the charge in revolutionizing the digital currency and insurance sectors.\\nFor more information about NORQUE and its groundbreaking initiatives, please visit www.norque.io or follow the project on social media.\\nHow to participate: https://youtu.be/pNWnr8UM0xc\\nCertiK Link: https://skynet.certik.com/projects/norque\\nTwitter: twitter.com/NorqueNoq\\nMedium: https://norque.medium.com/\\nDiscord: https://discord.gg/NdHtsKa4va\\nTelegram Channel: https://t.me/NORQUE_NOQ\\nTelegram Community: https://t.me/ConvalexaNOQ\\nAbout NORQUE:\\nNORQUE is a pioneering blockchain initiative that integrates AI and ML to streamline insurance processes. It offers the NOQ Coin, backed by tangible assets, and features a comprehensive ecosystem with both decentralized and centralized exchanges. NORQUE aims to facilitate cross-border cryptocurrency payments and provide extensive insurance coverage, making it a unique player in the blockchain, Web3, cryptocurrency, and metaverse sectors.\\n“This article is part of the sponsored content programme”\\nPublished on August 26, 2024'"
            ],
            "application/vnd.google.colaboratory.intrinsic+json": {
              "type": "string"
            }
          },
          "metadata": {}
        },
        {
          "output_type": "stream",
          "name": "stdout",
          "text": [
            "\n",
            "Frame: AI in healthcare and climate change\n",
            "Sentiment: 4\n",
            "Lexicon S: 5\n",
            "\n",
            "AI-driven dataset to reveal new insights around diabetes\n"
          ]
        },
        {
          "output_type": "display_data",
          "data": {
            "text/plain": [
              "'AI-driven dataset to reveal new insights around diabetes\\nIn a first, a team of scientists has introduced a flagship AI dataset from a study of biomarkers and environmental factors that might influence the development of type 2 diabetes.\\nSince the study participants include people with no diabetes and others with various stages of the condition, the early findings hint at a tapestry of information distinct from previous research, according to the report published in the journal Nature Metabolism.\\n“We see data supporting heterogeneity among type 2 diabetes patients — that people aren’t all dealing with the same thing. And because we’re getting such large, granular datasets, researchers will be able to explore this deeply,” said Dr Cecilia Lee, a professor of ophthalmology at the University of Washington School of Medicine in the US.\\nFor example, data from a customised environmental sensor in participants’ homes show a clear association between disease state and exposure to tiny particulates of pollution.\\nThe collected data also include survey responses, depression scales, eye-imaging scans and traditional measures of glucose and other biologic variables.\\n“All of these data are intended to be mined by artificial intelligence for novel insights about risks, preventive measures, and pathways between disease and health,” the authors noted.\\nThe aim is to gather health information from a more racially and ethnically diverse population than has been measured previously, and to make the resulting data ready, technically and ethically, for AI mining.\\n“This process of discovery has been invigorating. We’re a consortium of seven institutions and multidisciplinary teams that had not worked together before. But we have shared goals of drawing on unbiased data and protecting the security of that data as we make it accessible to colleagues everywhere,” said Dr Aaron Lee, also a UW Medicine professor of ophthalmology and the project’s principal investigator.\\nHosted on a custom online platform, the data are produced in two sets: a controlled-access set requiring a usage agreement, and a registered, publicly available version stripped of HIPAA-protected information.'"
            ],
            "application/vnd.google.colaboratory.intrinsic+json": {
              "type": "string"
            }
          },
          "metadata": {}
        },
        {
          "output_type": "stream",
          "name": "stdout",
          "text": [
            "\n",
            "Frame: AI regulations, ethics, and data privacy\n",
            "Sentiment: -3\n",
            "Lexicon S: -1\n",
            "\n",
            "Meta to inform Brazilians how it uses their personal data to train AI\n"
          ]
        },
        {
          "output_type": "display_data",
          "data": {
            "text/plain": [
              "\"Social media giant Meta Platforms will inform Brazilians how it intends to use their personal data to train generative artificial intelligence (AI), it said on Tuesday, following a demand from the country's data protection watchdog.\\nMeta's users in Brazil will receive the warnings starting on Tuesday by email and notifications on Facebook and Instagram, and will be able to reject the use of their data by the firm to train generative AI, it said in a statement.\\nBrazil's National Data Protection Authority (ANPD) in July suspended Meta's new privacy policy over the use of personal data to train AI, but overturned this last Friday saying Meta had agreed to issue the disclosures.\\nIn July, Meta also actively suspended the use of generative AI tools in Brazil, which included tools used to create popular AI-made stickers for messaging platform WhatsApp. Brazil is WhatsApp's second-largest customer base.\\nAt the time, Meta said it had decided to suspend the tools while it was in talks with ANPD to address the authority's doubts over its use of generative AI.\\nAsked by Reuters on Tuesday if it would resume the tools after ANPD lifted the suspension, Meta only reaffirmed that the suspension had been issued while it was in talks with the ANPD.\""
            ],
            "application/vnd.google.colaboratory.intrinsic+json": {
              "type": "string"
            }
          },
          "metadata": {}
        },
        {
          "output_type": "stream",
          "name": "stdout",
          "text": [
            "\n",
            "Frame: AI competition and market dynamics in tech industries\n",
            "Sentiment: 0\n",
            "Lexicon S: 2\n",
            "\n",
            "BJP playing 'desperate games' to engineer majority in J-K: Congress\n"
          ]
        },
        {
          "output_type": "display_data",
          "data": {
            "text/plain": [
              "'Synopsis\\nA day before Assembly poll results, Congress accused BJP of attempting to undermine the people’s mandate favoring their alliance with the National Conference in Jammu and Kashmir. Congress leader Jairam Ramesh claimed BJP is using desperate tactics and exercising power maliciously to negate the democratic process.\\nA day before Assembly poll results, the Congress on Monday accused the BJP of taking \"malicious steps\" through a malafide exercise of power to negate the people\\'s verdict in favour of the Congress-NC alliance in Jammu and Kashmir. The opposition party said it will do everything in its power to thwart such \"nefarious designs\".\\nIn a post on X, Congress general secretary in-charge communications Jairam Ramesh said, \"Facing imminent defeat, the BJP is playing desperate games to engineer a majority and hoping for a hung assembly to aid them in their subterfuge.\"\\nThey know that the people of Jammu and Kashmir have given a clear mandate to the Congress-National Conference (NC) alliance, he said.\\n\"To undo this democratic process, they have resorted to the old ways of their self-proclaimed bogus \\'Chanakya-niti.\\' We have clear information and basis to say that malicious steps are being taken through a colourable and malafide exercise of power to negate the people\\'s verdict in favour of the INC-NC alliance in J&K,\" Ramesh said.\\n\"We will do everything in our power to thwart such nefarious designs,\" he alleged.\\nLive Events\\nJammu and Kashmir voted in three phases on September 18, 25 and October 1. The votes will be counted on Tuesday.\\n(You can now subscribe to our Economic Times WhatsApp channel)\\n(Catch all the Business News, Breaking News, Budget 2025 Events and Latest News Updates on The Economic Times.)\\nSubscribe to The Economic Times Prime and read the ET ePaper online.\\n...moreless\\n(You can now subscribe to our Economic Times WhatsApp channel)\\n(Catch all the Business News, Breaking News, Budget 2025 Events and Latest News Updates on The Economic Times.)\\nSubscribe to The Economic Times Prime and read the ET ePaper online.\\n...moreless\\nWill India’s currency mints die a quiet death?\\nWhen stocks turned ugly and bonds looked beautiful\\nSwiggy, Tencent backer Prosus gets Rajinikanth fan to script India AI play\\nHow Mahindra overcame failed JVs, takeover to top Indian SUV market\\nCan new shipping laws bury the ghost of British legacy?\\nOnly if one is ready to take a calculated risk: 5 mid-cap stocks from different sectors with an upside potential of over 22%\\n1\\n2\\n3'"
            ],
            "application/vnd.google.colaboratory.intrinsic+json": {
              "type": "string"
            }
          },
          "metadata": {}
        },
        {
          "output_type": "stream",
          "name": "stdout",
          "text": [
            "\n"
          ]
        }
      ]
    },
    {
      "cell_type": "code",
      "source": [
        "df = pd.read_csv('/content/drive/MyDrive/Mediacloud/China/人工智能_china_cleaned_2024-06-01_2025-06-01_frames_sentiments_newsplease_mediacloud_gemini_2-5.csv')\n",
        "df[\"sentiment_lexicon\"] = df[\"maintext\"].apply(get_sentiment)\n",
        "len(df)"
      ],
      "metadata": {
        "id": "r8avIwwd0BlN",
        "colab": {
          "base_uri": "https://localhost:8080/"
        },
        "outputId": "128a5918-dc79-42c1-d344-befab7c86e6c"
      },
      "execution_count": null,
      "outputs": [
        {
          "output_type": "execute_result",
          "data": {
            "text/plain": [
              "909"
            ]
          },
          "metadata": {},
          "execution_count": 17
        }
      ]
    },
    {
      "cell_type": "code",
      "source": [
        "df_sample = df.sample(n=10, random_state=42)\n",
        "df_sample = df_sample.reset_index(drop=True)\n",
        "len(df_sample)"
      ],
      "metadata": {
        "id": "4wm0LUhk1NXX",
        "colab": {
          "base_uri": "https://localhost:8080/"
        },
        "outputId": "1cd46d38-a97b-40c3-a704-a54021ed52cf"
      },
      "execution_count": null,
      "outputs": [
        {
          "output_type": "execute_result",
          "data": {
            "text/plain": [
              "10"
            ]
          },
          "metadata": {},
          "execution_count": 18
        }
      ]
    },
    {
      "cell_type": "code",
      "source": [
        "#Gemini 2.5 frames     CH:  8/10 -> 1011101111\n",
        "#Gemini 2.5 sentiments CH: 10/10 -> 1111111111\n",
        "#Lexicon sentiments    CH:  1/10 -> 0001000000"
      ],
      "metadata": {
        "id": "jUTTsQER1Wj4"
      },
      "execution_count": null,
      "outputs": []
    },
    {
      "cell_type": "code",
      "source": [
        "for i in range(len(df_sample)):\n",
        "    print(\"Frame:\", df_sample.frame[i])\n",
        "    print(\"Sentiment:\", df_sample.sentiment[i])\n",
        "    print(\"Lexicon S:\", df_sample.sentiment_lexicon[i])\n",
        "    print()\n",
        "    print(df_sample.title[i])\n",
        "    display(df_sample.maintext[i])\n",
        "    print()"
      ],
      "metadata": {
        "colab": {
          "base_uri": "https://localhost:8080/",
          "height": 1000
        },
        "id": "_YzqYbGRtZVO",
        "outputId": "253b5c23-aabd-4ea8-b59e-909c47c5d196"
      },
      "execution_count": null,
      "outputs": [
        {
          "output_type": "stream",
          "name": "stdout",
          "text": [
            "Frame: AI impacts on businesses, economy, and jobs\n",
            "Sentiment: 4\n",
            "Lexicon S: 0\n",
            "\n",
            "“新”潮澎湃入画图--中部地区五年发展新观察\n"
          ]
        },
        {
          "output_type": "display_data",
          "data": {
            "text/plain": [
              "'开栏的话：\\n承东启西，连南接北。在中国地理版图上，山西、安徽、江西、河南、湖北、湖南等中部六省正奋发崛起，挺起中部“脊梁”。\\n中部地区以约占全国1/10的国土面积，承载了约1/4的人口数量，创造了约1/5的经济总量，是我国重要粮食生产基地、能源原材料基地、现代装备制造及高技术产业基地和综合交通运输枢纽，在我国区域发展格局中具有举足轻重的地位。\\n党的十八大以来，以习近平同志为核心的党中央高度重视中部地区发展。2019年5月、2024年3月，习近平总书记两次主持召开座谈会，亲自擘画宏伟蓝图，扎实推动中部地区崛起。近日，习近平总书记主持召开中共中央政治局会议，审议《新时代推动中部地区加快崛起的若干政策措施》，对这一重大战略决策作出进一步谋划部署。\\n五年来，中部地区向“新”而行，因变而兴，破立之间闯出新路。如今，“大国粮仓”根基夯得更实，现代化产业体系加快构建，低碳发展的底色更浓，协同发展之路越走越宽……一幅奋发崛起的壮美画卷正徐徐铺开。\\n聚焦中部地区过去5年发展历程，新华社即日起推出“新时代中国调研行之看区域·中部篇”行进式报道，全景展示中部地区这片中国腹地的新发展、新变化。\\n万物凝新绿，江山入画图。从空中俯瞰，山西、安徽、江西、河南、湖北、湖南等中部六省像一只丰盈饱满的纺锤，静卧在江河之间。五年来，以创新为“丝线”、绿色作画图，一幅中国式现代化的中部锦绣画卷正徐徐织就。\\n2019年5月，习近平总书记在江西南昌主持召开推动中部地区崛起工作座谈会。今年3月20日，总书记在湖南省长沙市主持召开新时代推动中部地区崛起座谈会，在推进中国式现代化新征程上，对扎实推动中部地区崛起作出新的战略部署。中部地区发展站到了更高起点上。\\n新起点上看崛起。跟随新华社记者的脚步，寻“田”、访“谷”、问“路”，触摸中部地区创新驱动、区域协同、绿色崛起的奋进脉搏。\\n从一块“田”看“大国粮仓”之变\\n“夏粮丰则全年稳”。当下，夏粮产量约占全国四分之一的河南麦收过半。尽管今年小麦灌浆期遭遇干热风，但河南商水县种粮大户邱守先心中悬着的“石头”还是落了地：2100亩小麦喜获丰收，平均亩产1400斤，与往年相比，量质齐增。\\n2024年5月28日，在河南省邓州市文渠镇的一处麦田里，村民将收获的小麦装车。新华社记者 郝源 摄\\n邱守先指着眼前2020年建成的高标准农田，说出了丰收秘诀：智能化程度高、集约化力度大、防灾减灾能力强。\\n目之所及，田间喷灌设备林立，还有虫情、墒情、苗情、灾情监测等“硬核装备”。只需一部手机，即便不在田间地头也能“云种地”。\\n邱守先的“科技田”，是中部地区全方位夯实粮食安全根基的缩影。\\n仓廪殷实是百姓之盼。我国人均耕地数量少，让老百姓“吃好饭”从来都不是一件容易事。作为我国重要粮食生产基地，五年来，中部地区以田为抓手，大力推进藏粮于地、藏粮于技，实施新一轮粮食产能提升行动，用全国约四分之一的耕地，生产了全国近三分之一的粮食，每年总产量稳定在4000亿斤左右，“大国粮仓”根基更加稳固。\\n从大河之南到洞庭之滨，宏大的高标准农田建设工程铺展开来，实现粮食生产高产稳产、农民增收。\\n2024年5月16日，工作人员在河南省中原农谷高标准农田查看农业物联网数据。新华社记者 李嘉南 摄\\n在湖南益阳市赫山区一处省级粮食生产万亩综合示范片区，集中连片、灌渠纵横的稻田长势喜人，一排排白色的诱虫灯整齐分布。\\n“90后”江苏青年刘晓宇看中了这里的“良田”，两年前承包了3400多亩高标准农田。近期钻心虫等防控形势严峻，但他一点不慌，田中数百台诱虫灯是他的丰收“法宝”。\\n种粮也能增收。刘晓宇给记者算了一笔账：按亩产1200斤湿谷算，高标准农田比一般田每亩增产100多斤，机械费每亩省90元，一增一减，每亩净增加200元收入，3400亩合计增收68万元。\\n五年来，中部地区大力推进高标准农田建设，粮食安全根基更加牢固。 其中，安徽建成高标准农田6256万亩、占耕地总面积的75%，实现“二十连丰”，每年净调出优质粮达到200亿斤左右。\\n2024年5月29日，在安徽省蚌埠市五河县朱顶镇淮河岸边，农机手驾驶收割机收割小麦。新华社记者 黄博涵 摄\\n“麦秀两歧、穰穰满家”。近年来，中部地区又扭住种业振兴这个“牛鼻子”，在“丰粮仓”的同时着力“优粮仓”，破解粮仓大而不优的问题。\\n2021年起，河南高位推进中原农谷建设，有37个农作物新品种通过审定，累计推广1.5亿亩，部分优质小麦、玉米品种成为黄淮海区域主导品种；2023年，湖南低镉水稻品种“臻两优8612”试种全面成功，“西子3号”率先通过国家审定……\\n在“优质粮仓”支撑下，河南、湖北、安徽等地推进“粮头食尾”“农头工尾”产业链建设，崛起万亿级现代食品产业集群，让“大国粮仓”迈向“国人厨房”，进入“世界餐桌”。\\n从一串“谷”看中部发展之新\\n武汉光谷、合肥声谷、太原晋创谷……一个个科创地标勾画出中部地区依靠创新驱动高质量发展的深层逻辑。\\n2019年召开的推动中部地区崛起工作座谈会上，习近平总书记强调“提高关键领域自主创新能力”。今年总书记主持召开新时代推动中部地区崛起座谈会时，进一步强调“要以科技创新引领产业创新，积极培育和发展新质生产力”，为中部地区壮大先进制造业指明方向。\\n五年来，中部地区牢记嘱托，推动创新发展要素加快集聚，现代化产业体系加速构建。国家级战略性新兴产业集群和国家先进制造业集群占全国比重分别达27.3%和17.8%；经济总量稳定在全国21%以上，其中，河南、湖北、湖南经济总量位列全国前十。\\n2024年2月28日，在位于武汉中国光谷的高德红外智感科技民品生产线上，工作人员对红外热成像仪进行程序烧录。新华社记者 杜子璇 摄\\n“以光为名，因光而兴”，到2022年底，武汉光谷电子计算机整机产量已达1339万台、光缆产量达5769万芯千米、集成电路圆片产量达156万片，发展成为全球最大的光纤光缆研制基地、光器件研制基地。\\n在合肥声谷，对着鼠标发出语音指令，一份表达简练、配色简约的简历随即生成；依托讯飞机器人超脑平台和讯飞星火大模型，AI扫拖机器人能识别复杂语音和手势指令，“说哪扫哪、指哪扫哪”。\\n2024年1月19日，工作人员在科大讯飞股份有限公司介绍一款智能办公本。新华社记者 张端 摄\\n在科大讯飞带动下，截至2022年底，声谷入驻企业数突破2000户，年产值超2000亿元，形成以智能语音及人工智能产业为核心的新一代信息技术产业集群。\\n作为煤炭大省，山西聚集全省创新资源要素，打造晋创谷创新驱动平台，在高速飞车、8英寸碳化硅长晶炉等关键核心技术上取得新突破。\\n郑州牢牢抓住区位优势，建设算力枢纽，赋能千行百业。国家超级计算郑州中心配备的新一代嵩山超级计算机，每秒可进行10亿亿次双精度浮点运算；国家超算互联网核心节点项目正加紧建设……\\n在算力基础设施等支撑下，中部地区传统装备制造业向智能化、绿色化、高端化转型。今年一季度，中部地区高端装备出口增长42.6%。\\n2024年5月22日，位于湖南长沙的三一重工18号工厂内机械臂在进行无人化焊接作业。新华社记者 白田田 摄\\n在长沙的三一重工，其工业互联网平台实现1.6万台设备、4.6万个摄像头实时在线接入，通过数据分析与系统优化实现降本增效，去年节约能源费用1.12亿元。通过智能化、数字化转型，三一重工成功开发无人驾驶自卸车、智能全地面起重机等，让产品变身移动智能体。\\n在江西，位于长江之滨的九江石化，通过技术升级，“不让一滴油和一滴污水流进长江”，成为全国石化行业首家智能制造示范企业和标杆企业。\\n中国区域经济学会副会长喻新安表示，从大国现代化发展历程看，经济圈主要在“边”，中部发展一直是个难题。在创新驱动下，中部地区加快崛起，正撑起中国发展版图的“脊梁”，为中国式现代化建设打造重要战略支撑。\\n从一条“路”看协作发展之效\\n驱车前往安徽金寨县的路上，河南商城县伏山乡里罗城村党支部书记陈启鑫一路感慨。20年前到一岭之隔的金寨县，要跋山涉水、走上大半天，现在只需半个小时。如今，这条“路”已经成为共同富裕、协作发展之路。\\n位于大别山革命老区的里罗城村，处在豫鄂皖三省交界处，大山阻隔，曾让这里交通闭塞、贫困落后。十年来，里罗城村与湖北麻城市、安徽金寨县间的断头路被打通；2020年，当地投资3300万元建设一条7米宽3.5公里长的循环旅游路，当年，这个省级贫困村180户建档立卡贫困户全部脱贫。\\n交通“末梢”被打通，里罗城村与麻城、金寨的村庄抱团发展跨区旅游，相互引流，年接待游客30万人次，旅游火红，茶叶、油茶、黑木耳等农产品有了出路，村民腰包鼓了，纷纷住上小洋楼。里罗城村村民陈先福，感念交通带来的变化，将自己的农家乐取名“交通酒家”，一年收入10多万元。\\n里罗城村的故事是中部地区协作发展的真实写照。作为我国的综合交通运输枢纽，中部地区公路四通八达，铁路便捷高效，“空中丝路”联通全球。新发展格局下，中部地区正把交通优势转化为协同发展优势。\\n去年，江淮运河全线贯通，结束了淮河中游与长江中下游之间水运不畅的历史，让安徽、河南协作发展更紧密，也让中部地区更深融入长三角一体化发展。\\n“一辆货车只能运输七八辆汽车，而一艘内河滚装船一次可运输300多辆汽车，降本增效显著。”合肥市发展改革委总经济师李浩淼说，同一批次的货物，与公路运输相比，通过江淮运河水路运输的物流成本可节约50%左右。\\n2024年5月9日，在安徽省合肥市新桥智能电动汽车产业园蔚来第二工厂，蔚来第50万台量产车下线。新华社记者 张端 摄\\n依托江淮运河，占地6000多亩的合肥生产服务型国家物流枢纽于去年7月获批。以派河港为圆心，半径5公里范围内布局了江淮、蔚来、大众3个整车基地；半径10公里范围内，覆盖了合肥七成的先进制造业企业，工业总产值超7000亿元。\\n中部通，路路通。中部交通四通八达，为东部产业转移、西部资源输出、南北经贸交流合作提供广阔通道，在全国统一大市场建设中作用不可或缺。\\n这是河南省郑州东站附近纵横交错的高铁线路（2024年5月30日摄，无人机照片）。新华社记者 李安 摄\\n如今，以郑州为中心，高铁通达全国，形成覆盖周边省会城市、京津冀城市群的2个半小时经济圈，覆盖长三角、粤港澳大湾区、成渝地区双城经济圈的4小时至6小时经济圈。\\n在郑州新郑国际机场，工作人员驾驶新能源拖车为一架卢森堡货航货机卸货（2023年8月1日摄）。新华社记者 李嘉南 摄\\n货运航空枢纽加快形成，让内陆腹地变开放前沿。中部有长沙黄花国际机场、湖北鄂州花湖国际机场、郑州新郑国际机场等货运机场群，其中，花湖国际机场是我国首个获批的专业货运枢纽机场，拥有亚洲规模最大的快递包裹处理系统，货物从这里出发，一日达全国，次日达全球。近5年，中部地区机场货运总量近700万吨。\\n2024年5月25日凌晨，工人在湖北鄂州花湖国际机场转运中心进行分拣作业。新华社记者 肖艺九 摄\\n为进一步强化区域协作，今年3月，豫皖两省共同签署交通运输领域合作协议；江西、湖北、湖南共同签订了长江中游三省协同推动高质量发展行动计划，加强与其他重大发展战略的衔接，更好融入和支撑新发展格局。\\n文字记者：李俊、双瑞、孙清清、张浩然、周勉、汪海月\\n海报设计：谢悦\\n编辑：郝亚琳、唐兴、赵鹏昊、鲁鹏、宋为伟、钱一、王浩程、姜子炜\\n统筹：方思贤、王洁'"
            ],
            "application/vnd.google.colaboratory.intrinsic+json": {
              "type": "string"
            }
          },
          "metadata": {}
        },
        {
          "output_type": "stream",
          "name": "stdout",
          "text": [
            "\n",
            "Frame: AI impacts on businesses, economy, and jobs\n",
            "Sentiment: 2\n",
            "Lexicon S: 0\n",
            "\n",
            "习近平同文莱苏丹哈桑纳尔会谈\n"
          ]
        },
        {
          "output_type": "display_data",
          "data": {
            "text/plain": [
              "'2月6日上午，国家主席习近平在北京人民大会堂同来华进行国事访问的文莱苏丹哈桑纳尔举行会谈。这是习近平同哈桑纳尔握手。新华社记者 黄敬文 摄\\n2月6日上午，国家主席习近平在北京人民大会堂同来华进行国事访问的文莱苏丹哈桑纳尔举行会谈。这是习近平同哈桑纳尔握手。新华社记者 黄敬文 摄\\n新华社北京2月6日电（记者邵艺博、董雪）2月6日上午，国家主席习近平在北京人民大会堂同来华进行国事访问的文莱苏丹哈桑纳尔举行会谈。\\n习近平指出，中文传统友谊源远流长。建交30多年来，双方不断深化政治互信，积极对接发展战略，各领域务实合作取得丰硕成果，在国际和地区事务中保持良好配合，树立了大小国家平等相待、互利共赢的典范，也为地区和平稳定和发展繁荣作出了积极贡献。中国和文莱共建命运共同体，顺应时代发展大势，符合两国和两国人民根本利益，开启了两国关系崭新篇章。双方要乘势而上，深化互利合作和战略协同，彼此尊重、坦诚互信，永远做隔海相望的好邻居、相互信赖的好朋友、共同发展的好伙伴。\\n习近平强调，中方愿同文方在国家发展道路上携手前行，为两国人民带来更多福祉。双方要加强共建“一带一路”倡议同文莱“2035宏愿”战略对接，推进广西－文莱经济走廊、恒逸石化两个旗舰项目，打造中国－东盟东部增长区和“陆海新通道”双枢纽。中方愿鼓励更多企业赴文莱投资兴业，支持文莱发展数字经济、人工智能、新能源产业，助力文方经济多元化。中方支持两国开展杂交水稻研究合作，欢迎文方用好中国国际进口博览会、中国－东盟博览会等平台，扩大优质农渔产品对华出口。双方要弘扬人文交流优良传统，深化教育、文化、旅游、地方、体育交流合作，共同推动平等有序的世界多极化、普惠包容的经济全球化，捍卫国际公平正义，为促进国际和地区和平稳定发挥积极作用。\\n2月6日上午，国家主席习近平在北京人民大会堂同来华进行国事访问的文莱苏丹哈桑纳尔举行会谈。新华社记者 高洁 摄\\n哈桑纳尔向习近平主席和中国人民致以蛇年新春祝福。哈桑纳尔表示，在习近平主席领导下，中国保持经济持续快速增长，让数亿人摆脱贫困，这是了不起的成就。中国提出三大全球倡议，为世界和平、稳定、发展发挥关键作用，展现了负责任大国担当。文莱和中国始终相互尊重、相互信任，两国关系持续发展，携手迈向文中命运共同体。感谢中方支持文莱经济多元化战略，两国合作使文莱人民受益。文方坚定奉行一个中国政策，愿同中方巩固战略合作伙伴关系，为两国人民带来更多福祉。文方愿与中方加强政治互信，深化贸易、农业、渔业、能源等领域合作，促进人文交流。当前，国际社会面临新的复杂局面和挑战，文方愿同中方加强合作，坚持多边主义和自由贸易，维护发展中国家共同利益。\\n双方发表《中华人民共和国和文莱达鲁萨兰国关于深化战略合作伙伴关系、推进中文命运共同体建设的联合声明》。\\n会谈后，两国元首共同见证签署司法、共建“一带一路”、经贸、媒体等领域多项合作文件。\\n2月6日上午，国家主席习近平在北京人民大会堂同来华进行国事访问的文莱苏丹哈桑纳尔举行会谈。这是会谈前，习近平在人民大会堂北大厅为哈桑纳尔举行欢迎仪式。新华社记者 申宏 摄\\n2月6日上午，国家主席习近平在北京人民大会堂同来华进行国事访问的文莱苏丹哈桑纳尔举行会谈。这是会谈前，习近平在人民大会堂北大厅为哈桑纳尔举行欢迎仪式。新华社记者 黄敬文 摄\\n2月6日上午，国家主席习近平在北京人民大会堂同来华进行国事访问的文莱苏丹哈桑纳尔举行会谈。这是会谈前，习近平在人民大会堂北大厅为哈桑纳尔举行欢迎仪式。新华社记者 申宏 摄\\n2月6日上午，国家主席习近平在北京人民大会堂同来华进行国事访问的文莱苏丹哈桑纳尔举行会谈。这是会谈前，习近平在人民大会堂北大厅为哈桑纳尔举行欢迎仪式。新华社记者 刘卫兵 摄\\n2月6日上午，国家主席习近平在北京人民大会堂同来华进行国事访问的文莱苏丹哈桑纳尔举行会谈。这是会谈前，习近平在人民大会堂北大厅为哈桑纳尔举行欢迎仪式。新华社记者 李响 摄\\n2月6日上午，国家主席习近平在北京人民大会堂同来华进行国事访问的文莱苏丹哈桑纳尔举行会谈。这是会谈前，习近平在人民大会堂北大厅为哈桑纳尔举行欢迎仪式。新华社记者 高洁 摄\\n2月6日上午，国家主席习近平在北京人民大会堂同来华进行国事访问的文莱苏丹哈桑纳尔举行会谈。这是会谈前，习近平在人民大会堂北大厅为哈桑纳尔举行欢迎仪式。新华社记者 黄敬文 摄\\n会谈前，习近平在人民大会堂北大厅为哈桑纳尔举行欢迎仪式。\\n天安门广场鸣放21响礼炮，礼兵列队致敬。两国元首登上检阅台，军乐团奏中文两国国歌。哈桑纳尔在习近平陪同下检阅中国人民解放军仪仗队，并观看分列式。\\n当天中午，习近平在人民大会堂金色大厅为哈桑纳尔举行欢迎宴会。\\n王毅参加上述活动。'"
            ],
            "application/vnd.google.colaboratory.intrinsic+json": {
              "type": "string"
            }
          },
          "metadata": {}
        },
        {
          "output_type": "stream",
          "name": "stdout",
          "text": [
            "\n",
            "Frame: AI transformations in education and research\n",
            "Sentiment: 3\n",
            "Lexicon S: 0\n",
            "\n",
            "军队代表委员与基层官兵共话深化新时代全民国防教育\n"
          ]
        },
        {
          "output_type": "display_data",
          "data": {
            "text/plain": [
              "'■解放军报记者 张 蕾 孙炜航\\n“邓文杰叔叔是咱们望城人，他常年驻守在喀喇昆仑高原上。正是因为有了众多像邓叔叔这样不怕吃苦、甘于奉献的边防军人卫国戍边，才有了我们和平安宁的生活……”近日，湖南省长沙市望城区第一中学的一堂思政课上，学生周博泓作为主讲人，分享了自己参加长沙市军地联合开展“百名优秀雷锋兵”寻访活动的经历。\\n思政课上讲述国防故事，“开学第一课”请来英模授课，公职人员入职培训开展国防专题教育，公园、社区设立国防教育长廊，“强军号”国防教育公交专线成为移动的国防课堂……丰富的活动、新颖的形式，让全民国防教育走进生活、深入人心。\\n我们的军队是人民军队，我们的国防是全民国防。谈及全民国防教育的生动实践和喜人变化，军队代表委员与基层官兵共同感受到，军地协同更加密切、参与力量更加多元、科技赋能更见成效，汇聚起共筑国防长城的强大力量。\\n新体制凝聚新合力\\n南国三月，“英雄花开英雄城”2025广州传承弘扬红色文化系列活动拉开帷幕。\\n协调人员参加红色文化展演，组织“红棉舞台”国防教育专题讲座，推荐立功受奖退役军人参加故事会……广州警备区负责国防教育工作的干事陈美十分忙碌。\\n“市委宣传部设立全民国防教育处后，牵头组织国防教育活动，将国防教育纳入整体工作统筹，警备区积极配合开展相关活动。”陈美告诉记者，“英雄花开英雄城”活动是军地合力打造的国防教育特色品牌。\\n许多军队代表委员谈道，去年9月新修订的国防教育法正式施行，全民国防教育在法治化轨道上深入推进。\\n“军地职责有所调整，虽然省军区系统的角色变了，但发挥优势开展国防教育的要求没有变。”来自浙江省军区的童培友委员谈道，省军区系统作为连接军地的桥梁纽带，在国防教育工作中应积极担当、主动作为，推动形成高效、顺畅、灵活的军地协同机制。去年，浙江省军区协调驻军部队举办军营开放日、舰艇开放日、军事夏令营等系列活动，组织党政领导干部、驻地群众、青少年学生等人员体验军营生活，有效增强了干部群众的国防意识。\\n在北疆大地，内蒙古军区百余名人武部主官走进100多所“军民共建民族团结示范校”和“全国国防教育示范学校”，宣传普及国防知识。“人民军队拥有开展全民国防教育的‘富矿’。”来自陆军某旅的张冬旭代表说，深挖“富矿”，将资源优势转化为教育优势，需要军地精准对接，满足各类教育需求。\\n张冬旭所在部队将荣誉室作为国防教育重要阵地，邀请驻地中小学师生走进军营，了解“一枚军功章、一封泛黄的家书、一面血染的战旗”背后的故事，引导青少年学习英雄精神，厚植家国情怀，产生了积极效果。\\n新职业壮大生力军\\n3月3日，河北省邯郸市27所学校“小兵课堂”同时开课，丰富有趣的教学内容颇受师生欢迎。授课的是48名国防教育辅导员，胡彦就是其中之一。\\n“我们都是退役军人，发挥自身特长，针对学生特点开发了系列课程。”胡彦告诉记者，他从事中小学国防教育工作已有10多年，现在有了新的职业身份，职业认同感更强，干劲也更足了。\\n去年推出国防教育辅导员新职业标准后，全国各地人才培养和就业支持体系建设随之推进。\\n在山东德州，国防教育辅导员师资培训班开班，山东省内108名学员报名参加；在湖南岳阳，国防教育辅导员职业技能培训班举办，累计培训91名退役军人；在广西北海，聘任国防教育辅导员的试点学校已有7所……\\n“国防教育辅导员通过系统培训和资格认证，将有力推动国防教育师资力量的职业化、专业化、规范化。”长期关注全民国防教育的古清月代表认为，新职业标准的发布，在拓宽退役军人就业渠道的同时，也有利于加强国防教育师资力量。\\n社会组织和个人参与国防教育的渠道方式更加多元，参与热情日益高涨。山东武城选拔优秀退役军人组建国防教育讲师团，报名踊跃；安徽池州遴选英烈后人、英雄模范、参战老兵组建“红耀池城志愿宣讲团”，迅速满员……\\n“越来越多的人才投入全民国防教育事业，成为开展国防教育的生力军。”经常在一线调研的满开宏委员表示，如今，全民国防教育呈现出多方参与、规范有序、形式多样的生动局面。\\n新技术丰富新体验\\n一场模拟射击活动，带来别样体验。\\n3月初，贵州省施秉县第五小学操场，一名学生在民兵杨长江的指导下，利用“精准打靶系统”进行模拟射击。\\n“这个系统能够模拟不同型号枪械的射击，这种新体验对学生吸引力很强，每次活动都排长队。”杨长江是一名退役军人，积极参加军地联合组织的国防教育活动，“看到许多移动国防教育体验站人气火爆，我们也引进了一些体验设备，在中小学、公园、广场组织体验活动，很受欢迎。”\\n科技赋能国防教育，新平台新技术新手段不断涌现，有效增强了全民国防教育的时代性和感召力。在重庆市，数字国防军事体验中心开放3个多月以来，每天吸引大量参观者。该中心引进160多套互动设备，参观者可以开展模拟射击、战术对抗，体验军事游戏、虚拟战场。\\n“数字时代，教育对象体量巨大、教育平台分散、教育需求多元，需要我们顺应时代发展，推动全民国防教育‘上云’‘用数’‘赋能’，加快培育新业态，发挥数字技术的叠加倍增作用。”来自重庆警备区的陈澄代表表示。\\n许多基层官兵经过亲身体验认为，在国防教育实践中，个性化、可视化、互动化应用场景不断拓展，让国防教育更具趣味性和感染力。\\n在山西省武乡县，有一座八路军文化数字体验馆。点击“数字地图”上的1190处红色旧址，可以看到每个旧址的位置和信息；触摸屏幕选择入画模式，可以化身数字人，穿越时空同革命先辈互动对话；在“文化号角”展区，可以听数字人讲解员“五星杨”讲述八路军抗战故事……\\n全民国防教育始终“在路上”。军队代表委员与基层官兵表示，军地积极运用人工智能、虚拟现实等技术，让国防课堂更“活”；借助文旅热、博物馆热等东风，让国防教育更“火”。全民国防教育质效不断提升，呈现出蓬勃发展的局面。\\n（解放军报北京3月9日电）\\n图片拍摄：蓝善湖、彭程、田海军、涂浩、王军强\\n图片合成：方汉、杨磊'"
            ],
            "application/vnd.google.colaboratory.intrinsic+json": {
              "type": "string"
            }
          },
          "metadata": {}
        },
        {
          "output_type": "stream",
          "name": "stdout",
          "text": [
            "\n",
            "Frame: AI in national security and global partnerships\n",
            "Sentiment: 0\n",
            "Lexicon S: 0\n",
            "\n",
            "军政军民团结是我军胜利法宝\n"
          ]
        },
        {
          "output_type": "display_data",
          "data": {
            "text/plain": [
              "'■田晓蔚\\n在中央军委政治工作会议上，习主席凝练概括新时代政治建军方略“十个明确”的内涵要义，明确“军政军民团结是我军胜利法宝”，为巩固发展新时代军政军民团结立起了根本遵循、提供了科学指南。我们必须深入学习贯彻习主席重要讲话精神，弘扬拥政爱民、拥军优属光荣传统，为巩固提高一体化国家战略体系和能力、推进强国强军伟业汇聚强大力量。\\n一\\n兵者，国之柱石；民者，国之根基。军政军民团结是实现富国强军相统一的重要政治保障，是我党我军特有的政治优势，是我们战胜一切艰难险阻、不断从胜利走向胜利的重要法宝。\\n特有的政治优势。“难得举城作一庆，爱我人民爱我军。”我党我军的历史，就是一部军民团结、共克时艰的奋斗史。在井冈山斗争时期，毛泽东同志就对红军官兵讲“军队与工农群众如鱼之于水”的道理。建军初期，我们党领导的武装力量命名为“中国工农红军”，就宣示了红军是人民群众的队伍、工农自己的武装。这种与生俱来的军民鱼水关系，筑就了得天独厚的军政军民团结基石，人民军队才能所向披靡、一往无前、战无不胜。事实证明，军民团结如一人，就没有克服不了的困难，就没有战胜不了的敌人。\\n磅礴的人民伟力。人民军队的根脉深扎在人民的深厚大地，人民战争的伟力来源于人民的伟大力量。习主席强调，全党全军全国各族人民要大力弘扬军爱民、民拥军的光荣传统，不断发展坚如磐石的军政军民关系。人民军队一路走来，从土地革命战争“唤起工农千百万，同心干”，到抗日战争“陷敌于灭顶之灾的汪洋大海”；从解放战争“潮涌般的小推车和担架队”，到抗美援朝战争“举国上下愿倾其物力财力”，深刻揭示了“兵民是胜利之本”的战争法则，彰显了军民团结的伟大力量。事实证明，无论时代如何发展、战争形态如何演变，人民战争的思想永远不过时。\\n共同的使命责任。国防和军队建设是全党全军全国各族人民共同的事业。我们必须充分认清，在各类应急应战行动中，地方党委政府和人民群众动员支前、全力保障，始终是人民军队的坚强后盾；在推进强军事业伟大进程中，地方党委政府和人民群众鼎力支持、排忧解难，始终是人民军队的坚实靠山。事实证明，强国强军涉及部队和地方、关联经济和国防、牵动军心和民心，必须军地相向、勠力同心、携手奋进。\\n二\\n巩固发展新时代军政军民团结，必须紧扣实现建军一百年奋斗目标、加快把人民军队全面建成世界一流军队这一战略要求，推进新时代军政军民团结工作向打赢制胜聚焦。\\n聚力推进军民一体化发展格局。巩固提高一体化国家战略体系和能力，是党中央把握强国强军面临的新形势新任务新要求，着眼于更好统筹发展和安全、更好统筹经济建设和国防建设作出的战略部署。当今时代，国家战略竞争力、社会生产力、军队战斗力的耦合关联越来越紧，战场上的对抗不仅是军事体系间的较量，而且集中表现为以国家整体实力为基础的体系对抗。要加强各领域战略布局一体融合、战略资源一体整合、战略力量一体运用，同步推进体制和机制改革、体系和要素融合、制度和标准建设，实现发展和安全双促进、富国和强军相统一。要全面提升新兴领域战略能力，优化国防科技工业布局，推动新质生产力同新质战斗力高效融合、双向拉动，打通国家综合实力向先进战斗力、体系对抗力的转化路径，有效提升国家战略优势。\\n聚力提升打仗型国防动员能力。加强国防动员和后备力量建设，要坚持平时准备和战时动员有机结合，健全平战转换机制，走开军队与地方“双向发力”、供给与需求“双侧匹配”、评估与督导“双轮驱动”、应急与应战“双责牵引”发展模式，使基础设施预置国防功能、装备生产预留安全备份、科技开发预研军事技术、储备体系预储战争潜力，实现战事未起、动员先行、升级有备。要充分发挥联合作战整体效能，做实各领域各方向动员准备，推动国防动员力量与联合作战力量一体筹划、一体联动、一体运用，不断增强组织动员力、快速反应力和综合保障力。\\n聚力发展人民战争战略战术。无论形势如何发展，人民战争这个法宝永远不能丢。打好新时代人民战争，必须推动军事与经济、政治、文化、社会、科技等各个领域深度融合，发挥人民群众在人民战争总体战中的积极性和创造性，赢得战争主导权和主动权。要适应信息技术新发展，积极挖掘更多基于现代科技的参战支前途径，拓展基于新域新质的参战支前力量，推动地方参战支前由人力物力向科技能力、由硬杀伤向软打击转变，让信息支前、科技支撑等成为“主力”“主角”。要把握新的时代条件下人民战争的新特点新要求，尊重人民群众主体地位和首创精神，创新发展人民战争战略战术，把人民群众的创造力转化为战争的制胜力。\\n三\\n当前，世界之变、时代之变、历史之变正以前所未有的方式展开，我国发展进入战略机遇和风险挑战并存、不确定难预料因素增多的时期，要战胜前进道路上的风高浪急甚至惊涛骇浪，必须军地共同肩负巩固发展新时代军政军民团结使命责任，夯实国家战略能力“底盘”。\\n坚持人民至上，忠实践行人民军队根本宗旨。始终谨记习主席“谁把人民放在心上，人民就把谁放在心上”的谆谆教诲，继承发扬拥政爱民优良传统，始终做人民信赖、人民拥护、人民热爱的子弟兵。要为人民打胜仗。牢固树立战斗力这个唯一的根本的标准，练好胜战之功，保持待发之势，确保一旦有事能够拉得出、上得去、打得赢。要为人民守安宁。在抗洪抢险、抗震救灾、应急处突等重大任务中当先锋、打头阵，当好抢险救灾的“生力军”、维护稳定的“压舱石”，用忠诚和热血守一方热土、保一方平安。要为人民造福祉。充分发挥自身资源和优势，积极参与地方经济建设，多办解民忧、惠民生、暖民心的好事实事，不断增进同人民群众的鱼水深情和血肉联系。\\n立起为军导向，坚定履行国防建设领域职责。强国必须强军，军强才能国安。各级党委政府必须进一步强化国防意识，增强国防观念，大力关心支持国防和军队建设，坚定履行职责使命。要落实政治责任。坚决贯彻党管武装工作根本原则和制度，把人民武装工作与经济社会建设同步谋划部署、一体推进落实。要服务练兵备战。围绕部队遂行联演联训、战备执勤、科研试验、抢险救灾等多样化军事任务，加快推动军地制度机制一体联建、研案修案一体联动、演习演练一体联训、能力实力一体联备，形成部队练打仗、地方练支前的工作格局。要厚植崇军风尚。大力推进全民国防教育，使关心国防、热爱国防、建设国防、保卫国防成为全社会的思想共识和自觉行动。要做实惠军举措，尽心竭力解部队建设之难、备战打仗之需、官兵后顾之忧，打通军人优待保障政策“最后一公里”，为强军事业创造良好条件、提供有力支持。\\n凝聚整体合力，推动双拥工作实现创新发展。全面提高新时代双拥工作水平，发挥双拥工作联系军地军民的桥梁纽带作用，更好服务党和国家工作大局、国防和军队建设全局。要坚持统筹推进。强化军地一体筹划、工作一体推进、责任一体落实，加强组织领导，配强工作力量，做强综合保障，全面促进情感融合、工作耦合、力量聚合。要坚持与时俱进。积极推动双拥工作在形式、内容、手段等方面守正创新，加大科技、智力、服务拥军助民双向互动的力度，扎实做好全国双拥模范城（县）创建工作，常态开展模范创建等活动，着力增强双拥工作的吸引力、感召力和生命力。要强化检查督导。坚持把双拥工作作为精神文明创建、党政机关目标绩效管理等工作的重要依据，严格考评标准，用好考评结果，推动双拥工作向多维度、宽领域、高水平发展。\\n（作者单位：四川省军区）'"
            ],
            "application/vnd.google.colaboratory.intrinsic+json": {
              "type": "string"
            }
          },
          "metadata": {}
        },
        {
          "output_type": "stream",
          "name": "stdout",
          "text": [
            "\n",
            "Frame: AI impacts on businesses, economy, and jobs\n",
            "Sentiment: 4\n",
            "Lexicon S: 0\n",
            "\n",
            "习近平在“金砖+”领导人对话会上的讲话（全文）\n"
          ]
        },
        {
          "output_type": "display_data",
          "data": {
            "text/plain": [
              "'新华社俄罗斯喀山10月24日电\\n汇聚“全球南方”磅礴力量\\n共同推动构建人类命运共同体\\n——在“金砖+”领导人对话会上的讲话\\n（2024年10月24日，喀山）\\n中华人民共和国主席 习近平\\n尊敬的普京总统，\\n各位同事：\\n感谢普京总统和俄罗斯政府组织这次“金砖+”领导人对话会，我对出席今天会议的各国领导人表示热烈欢迎，很高兴同新老朋友相聚喀山。\\n“全球南方”群体性崛起，是世界大变局的鲜明标志。“全球南方”国家共同迈向现代化是世界历史上一件大事，也是人类文明进程中史无前例的壮举。同时，世界和平和发展仍面临严峻挑战，“全球南方”振兴之路注定不会平坦。作为“全球南方”的第一方阵，我们要展现集体智慧和力量，为构建人类命运共同体挺膺担当。\\n——坚守和平，实现共同安全。我们要做维护和平的稳定力量，加强全球安全治理，探索标本兼治的热点问题解决之道。我提出全球安全倡议，得到各方积极响应，已经在维护地区稳定等多个领域取得重要收获。中国和巴西联合发表了“六点共识”，会同有关“全球南方”国家发起了乌克兰危机“和平之友”小组。我们要推动局势尽快缓和，为实现政治解决铺平道路。今年7月，巴勒斯坦各派别在北京实现内部和解，迈出了实现中东和平的重要一步。我们要继续推动加沙地带全面停火，重启“两国方案”，并阻止战火在黎巴嫩蔓延，不能再让巴勒斯坦、黎巴嫩生灵涂炭。\\n——重振发展，实现普遍繁荣。“全球南方”为发展而起，因发展而兴。我们要做共同发展的中坚力量，积极参与和引领全球经济治理体系改革，推动把发展置于国际经贸议程中心地位。全球发展倡议提出3年来，已经动员近200亿美元发展资金，开展了1100多个项目。全球工业人工智能联盟卓越中心近期落户上海，中方还将建立全球“智慧海关”在线合作平台和金砖国家海关示范中心，欢迎各国积极参与。\\n——共兴文明，实现多元和谐。多样文明是世界的本色。我们要做文明互鉴的促进力量，增进沟通对话，支持彼此走符合本国国情的现代化道路。我提出全球文明倡议，就是要推动建设美美与共的世界文明百花园。中方将牵头成立“全球南方”智库合作联盟，促进各国人文交流和治国理政互学互鉴。\\n各位同事！\\n中国共产党二十届三中全会就进一步全面深化改革、推进中国式现代化作出系统部署，必将为世界提供更多机遇。上个月，中非合作论坛北京峰会成功举办，宣布了中非携手推进现代化十大伙伴行动，将为“全球南方”实现现代化注入新动能。\\n无论国际形势如何变化，中国始终心系“全球南方”、扎根“全球南方”，支持更多“全球南方”国家以正式成员、伙伴国、“金砖+”等形式加入金砖事业，汇聚“全球南方”磅礴力量，共同推动构建人类命运共同体。\\n谢谢大家！'"
            ],
            "application/vnd.google.colaboratory.intrinsic+json": {
              "type": "string"
            }
          },
          "metadata": {}
        },
        {
          "output_type": "stream",
          "name": "stdout",
          "text": [
            "\n",
            "Frame: AI impacts on businesses, economy, and jobs\n",
            "Sentiment: 5\n",
            "Lexicon S: 0\n",
            "\n",
            "镜观·领航丨总书记三次考察合肥，科创主题贯穿始终\n"
          ]
        },
        {
          "output_type": "display_data",
          "data": {
            "text/plain": [
              "'2024年10月17日下午，中共中央总书记、国家主席、中央军委主席习近平在安徽合肥滨湖科学城，察看近年来安徽省重大科技创新成果集中展示，同现场科研人员和企业负责人亲切交流。\\n党的十八大以来，习近平总书记先后三次在合肥考察，均安排行程调研科技创新和发展新兴产业等情况并提出明确要求，充分体现了党中央对科技创新的高度重视。\\n2016年4月26日，习近平在中国科技大学近代物理系自旋磁共振实验室了解科研情况。\\n2020年8月19日，习近平在合肥市安徽创新馆参观，了解安徽科技创新和发展新兴产业情况。\\n在总书记重要指示精神引领下，合肥深入实施创新驱动发展战略，依托国家实验室、综合性国家科学中心、科大硅谷等重大平台，借助大科学装置，持续巩固创新优势，科技创新工作不断取得新进展、实现新突破。\\n这是安徽合肥科学岛（2024年5月13日摄，无人机照片）。\\n这是位于安徽合肥的中国科学技术大学先进技术研究院（2024年9月9日摄）。\\n这是在安徽合肥科学岛拍摄的“人造太阳”——全超导托卡马克核聚变实验装置（EAST）（2021年4月13日摄）。\\n这是在中国科学技术大学拍摄的用于“九章三号”实验的光学干涉仪（资料照片）。量子计算原型机“九章三号”由中国科学技术大学研究团队与中国科学院上海微系统与信息技术研究所、国家并行计算机工程技术研究中心合作成功构建，刷新了光量子信息技术世界纪录。\\n这是“合肥先进光源”的效果图（资料照片）。同步辐射光源被誉为“前沿科研的眼睛”“科技的灯塔”，是现代科学不可或缺的大型研究平台。“合肥先进光源”于2023年9月20日启动建设，建成后将成为国际先进的低能量区同步辐射装置，使我国形成全能量区覆盖的先进光源体系，加快推动合肥等地成为世界级光子科学研究中心和产业研发高地。\\n2022年1月31日，中国科学技术大学学生在中国科学院量子信息重点实验室做实验。\\n这是位于安徽合肥的中国科学技术大学先进技术研究院（2022年10月1日摄，无人机照片）。\\n这是在中国科学院合肥物质科学研究院强磁场科学中心拍摄的国家重大科技基础设施“稳态强磁场实验装置”混合磁体（2022年10月17日摄）。\\n集聚优势资源，合肥不断将科研势能转化为发展动能，以科技创新推动产业创新，以产业升级构筑竞争优势。2023年，合肥市培育出国家科技型中小企业超1.1万家，居全国城市第12位；科创板上市企业20家，居全国城市第6位。2023年，合肥市摸排高校院所科技成果3190项，推动科技成果转化新成立企业416家，在构建全链条的科技成果转化应用体系进程中不断取得新进展。\\n2023年4月26日，观众在第二届中国（安徽）科技创新成果转化交易会上参观。此届科交会展览面积约1.8万平方米，参展科技成果超过1800件。\\n2024年8月20日，安徽合肥华晟光伏科技有限公司的搬运机器人在车间作业。\\n2022年6月24日，智能无人清扫机器人在安徽合肥一处公园清扫路面。\\n产业兴则城市兴。合肥坚持以科技创新推动产业创新，改造提升传统产业，加快壮大新兴产业，大力发展未来产业，紧紧围绕发展新质生产力布局产业链，为高质量发展提供持续动力。\\n2024年3月12日，安徽一家种业公司的科研人员介绍该公司自主培育的高产优质广适品种水稻。近年来，合肥坚持保种、护种、育种、引种、用种“五种”并进，全力推动现代种业全产业链发展。\\n2022年7月28日，安徽合肥京东方显示技术有限公司的工作人员在10.5代生产线上作业。\\n2024年9月20日，在安徽合肥举行的2024世界制造业大会上，展馆内的人形机器人“启江二号”抓取橙子递给观众。\\n2022年11月17日，观众在于安徽合肥举办的第五届世界声博会上体验教育领域智能产品。\\n2024年4月1日，在安徽合肥举办的2024国际显示技术大会上，一名观众体验京东方展出的裸眼3D快速拆装折角屏。\\n这是在安徽合肥新桥智能电动汽车产业园蔚来第二工厂拍摄的新能源汽车生产线（2024年5月9日摄）。\\n记者：鞠鹏 李学仁 谢环驰 燕雁 刘军喜 张端 戴威 杜宇 周牧 黄博涵\\n制作：毕晓洋 张端 张浩波 许睿\\n新华社摄影部制作\\n新华社第一工作室出品'"
            ],
            "application/vnd.google.colaboratory.intrinsic+json": {
              "type": "string"
            }
          },
          "metadata": {}
        },
        {
          "output_type": "stream",
          "name": "stdout",
          "text": [
            "\n",
            "Frame: AI-based innovative solutions\n",
            "Sentiment: 3\n",
            "Lexicon S: 0\n",
            "\n",
            "中华人民共和国政府和泰王国政府关于面向未来、以人民为中心，加强全面战略合作伙伴关系，推进更为稳定、更加繁荣、更可持续的中泰命运共同体建设的联合声明（全文）\n"
          ]
        },
        {
          "output_type": "display_data",
          "data": {
            "text/plain": [
              "'新华社北京2月8日电\\n中华人民共和国政府和泰王国政府关于面向未来、以人民为中心，加强全面战略合作伙伴关系，推进更为稳定、更加繁荣、更可持续的中泰命运共同体建设的联合声明\\n（2025年2月8日，北京）\\n一、在中华人民共和国和泰王国建立外交关系50周年暨“中泰友谊金色50年”之际，应中华人民共和国国务院总理李强的邀请，泰王国总理佩通坦·钦那瓦于2025年2月5日至8日对中国进行正式访问。这是两国年内首次高层交往。\\n二、访问期间，中华人民共和国主席习近平会见佩通坦总理，国务院总理李强、全国人民代表大会常务委员会委员长赵乐际分别同佩通坦总理会谈会见。佩通坦总理还赴黑龙江省哈尔滨市出席第九届亚洲冬季运动会开幕式。\\n三、双方重申中泰是相互尊重、相互帮助、相互理解、愿景一致的好邻居、好亲戚、好伙伴。自1975年7月1日建交、2012年建立全面战略合作伙伴关系以来，双方不断深化互信、开展互利合作、密切人文往来，给两国人民带来切实利益，为两国和地区发展稳定作出贡献。双方重申2022年习近平主席历史性访问泰国时达成的关于构建更为稳定、更加繁荣、更可持续的中泰命运共同体的共识，同意进一步深化双边合作。\\n四、中泰建交50周年是两国关系重要里程碑。双方将保持两国关系良好发展势头，面向未来并以人民为中心，加强全面战略合作伙伴关系，有力应对传统和新兴挑战。双方将继续保持高层交往势头，密切中央和地方政府、立法机构及其他机构间交流。双方将共同举办2025年中泰建交50周年系列庆祝活动，深化文化交流互鉴，让“中泰一家亲”更加深入人心。\\n五、泰方赞赏在习近平主席领导下，新时代中国发展取得的成就和变革，为维护世界和平、稳定和可持续发展作出的重大贡献。泰方祝贺中国成功举办第九届亚洲冬季运动会，赞赏中国为促进亚洲大家庭的团结友谊作出积极贡献。中方祝贺佩通坦总理执政后短时间推动泰国经济社会发展取得的显著成绩，坚定支持佩通坦总理领导的泰国新一届政府，愿推动中方发展战略和共建“一带一路”倡议、全球发展倡议、全球安全倡议、全球文明倡议等同泰方发展政策对接，共同推进各自国家现代化。\\n六、双方重申继续在涉及彼此核心利益和重大关切问题上相互支持。中方尊重泰国的独立、主权和领土完整，支持泰国走符合本国国情的发展道路，支持泰国在国际地区事务中发挥更大作用。泰方重申坚定奉行一个中国政策，承认中华人民共和国政府是代表全中国的唯一合法政府，台湾是中国领土不可分割的一部分，不支持任何“台独”主张，支持中国“一国两制”方针。\\n七、双方将继续深化促进经济韧性、高质量发展、清洁能源、数字经济和绿色发展等领域合作，通过扩大市场准入、推广高质量产品、扩大电子商务合作等方式，促进双边贸易发展，共同推进中泰地理标志产品互保试点项目等知识产权务实合作项目，打击侵犯知识产权的犯罪行为。双方将加强产品质量和安全监管合作，鼓励使用电子贸易单据，持续增强贸易便利化。双方将增进供应链互联互通，特别是在半导体、电池、电动汽车、高端电子等产业促进企业交流合作，支持双方参加对方举办的各类贸易展会。双方将维护促进公平竞争的贸易环境，加强清洁能源开发和能源转型合作，持续推动“一带一路”能源合作伙伴关系下的相关合作。为促进投资，泰国愿同中方在资本市场互联互通、跨境金融商品流通领域建立长期投资伙伴关系，并在人工智能、医疗、环境、电动汽车等未来、创新、先进产业开展研发合作。双方将加快磋商《中泰经贸合作五年发展规划共同行动计划（2025－2029）》，争取尽早达成一致。\\n八、双方认为加强互联互通是地区经济一体化和共同发展的重要推动力。双方同意共同加快中泰铁路一期工程建设，尽快确定二期合作模式，争取尽早启动二期工程建设。双方认为应当扎实推进中老泰联通发展构想，确保三国早日实现“无缝联结”。双方同意加强铁路、公路联通，优化海关和卫生及植物检疫程序。双方同意发挥泰国作为中南半岛中心的战略位置作用，全方位加强地区基础设施、物流、监管、数字化互联互通，同共建“一带一路”倡议形成互补，推进地区互联互通水平。\\n九、双方将推进科技领域合作，培育新质生产力，提升竞争力，促进未来可持续发展。双方同意加强农业、健康、生物等科技创新领域联合研发和人力资源开发合作，长期培养充足的高素质人才，促进双方科技创新能力提升。\\n十、双方强调人文交流是两国关系的基石，同意加强文化、教育、职业技能、社会文化和语言技能提升合作，深化媒体、友城和软实力等重点领域务实合作。双方同意进一步利用两国持普通护照人员互免签证协议便利双边人员往来，支持高质量、新型旅游合作，加强旅游安全合作，鼓励航空公司增加非热门城市间直航。双方鼓励开展两国媒体、新闻出版、广播影视合作，打击假新闻，增进两国人民尤其是年轻一代的相互了解和友好感情。\\n十一、为纪念中泰建交50周年，泰方感谢中方同意安排北京灵光寺佛牙舍利赴泰供奉，进一步增进两国传统友谊，促进两国民心相通。中方将积极考虑泰方希继续开展大熊猫国际合作的请求，双方将按照大熊猫国际合作相关标准做好前期准备。\\n十二、双方重申致力于通过加强传统和非传统安全合作，进一步加强两军各层级交往、联演联训、国防工业、能力建设、人员培训和技术转让等领域合作，促进本地区和平与稳定。\\n十三、双方强调在双边、澜湄合作等地区合作机制下，以零容忍的坚决态度，加强打击人口贩运、电信网络诈骗、毒品走私、非法网络赌博、洗钱等跨境犯罪，开展湄公河联合巡逻执法行动。双方将进一步讨论尽早确立适当协调合作机制，有效打击网赌电诈。双方同意积极参与“平安澜湄行动”，共同推进澜湄司法合作，维护地区人民群众生命财产安全。\\n十四、双方呼吁就应对气候变化、空气污染等问题开展合作。双方同意加强减贫和乡村发展、防灾备灾减灾领域实践经验分享和合作协调，改善两国人民生活。\\n十五、双方重申致力于根据卫生领域谅解备忘录加强卫生合作，应对公共卫生共同挑战，加强卫生安全、卫生技术、传统医药等领域合作。\\n十六、双方重申共同维护东盟中心地位，做大做强东盟主导的合作机制，促进开放包容区域架构，推动地区发展合作。两国将携手共建中国东盟和平、安宁、繁荣、美丽、友好“五大家园”，推进中国东盟全面战略伙伴关系，构建更为紧密的中国－东盟命运共同体。\\n十七、双方同意推进高质量实施《区域全面经济伙伴关系协定》（RCEP），支持中国香港加入《区域全面经济伙伴关系协定》，期待于2025年尽早签署中国－东盟自贸区3.0版升级议定书。两国将在东盟印太展望和共建“一带一路”倡议下加强互利合作，在全球发展倡议下探索合作新机，推进联合国2030年可持续发展目标。\\n十八、双方重申和维护促进南海和平、安全与稳定，和平解决争端的重要性。两国将继续同其他东盟国家一道努力，全面有效落实《南海各方行为宣言》，推动早日达成有效、富有实质内容、符合国际法的“南海行为准则”。\\n十九、双方重申致力于通过澜沧江－湄公河合作、三河流域经济合作战略、大湄公河次区域经济合作等机制推进次区域合作。作为现任澜湄合作共同主席国，双方将以泰国举办澜湄合作领导人会议为契机，深化区域互联互通、水资源管理、科技创新、数字经济等合作，应对空气污染、跨境犯罪等紧迫挑战。泰方期待并欢迎中国领导人出席这一重要活动。\\n二十、双方认为，中泰在国际事务中拥有广泛共同利益和相近立场主张，坚定维护以联合国为核心的国际体系、以国际法为基础的国际秩序、以联合国宪章宗旨和原则为基础的国际关系基本准则。双方将共同捍卫国际公平正义，维护国际社会团结合作，弘扬和平、发展、公平、正义、民主、自由的全人类共同价值。双方将共同维护以世贸组织为核心、以规则为基础，开放、透明、包容、非歧视的多边贸易体制，积极推进世贸组织改革，推动经济全球化朝着更加开放、包容、普惠、平衡、共赢的方向发展。双方将进一步加强亚太经合组织、金砖国家、亚洲合作对话等多边平台下的战略沟通。中方祝贺泰方成为金砖伙伴国，泰方期待中方积极支持泰方申请成为金砖正式成员国。泰方全力支持中方主办2026年亚太经合组织会议，期待同亚太经合组织成员共同合作，取得更多务实成果。\\n二十一、访问期间，双方签署经济发展、数字经济、人工智能、海关便利化和农食产品市场准入、核技术、月球探测、绿色发展、邮政、新闻媒体等领域合作文件。\\n二十二、佩通坦总理衷心感谢中方的热情接待，邀请中国领导人在双方方便时访问泰国。中国领导人表示感谢并愉快接受了邀请。'"
            ],
            "application/vnd.google.colaboratory.intrinsic+json": {
              "type": "string"
            }
          },
          "metadata": {}
        },
        {
          "output_type": "stream",
          "name": "stdout",
          "text": [
            "\n",
            "Frame: AI impacts on businesses, economy, and jobs\n",
            "Sentiment: 4\n",
            "Lexicon S: 0\n",
            "\n",
            "逐绿前行向未来--山东推动绿色低碳高质量发展观察\n"
          ]
        },
        {
          "output_type": "display_data",
          "data": {
            "text/plain": [
              "'黄渤海上，海上风电、海上光伏、海洋牧场迎波“共舞”，融合发展实现降碳减排；胜利油田，二氧化碳从工业尾气变身“驱油”功臣，更多“绿色油”注入能源饭碗；黄河北岸，前沿产业纷纷落子济南新旧动能转换起步区……齐鲁大地，一幅绿色低碳高质量发展的时代画卷徐徐铺展。\\n2022年8月，国务院印发《关于支持山东深化新旧动能转换推动绿色低碳高质量发展的意见》，支持山东建设绿色低碳高质量发展先行区。以此为新起点，产业体系完备的经济大省山东，着力推动传统产业提质增效、新兴产业集群聚合，协同推进降碳、减污、扩绿、增长，持续塑造发展新优势。\\n以转促新：传统产业动能澎湃\\n碱水和豆油通过软管进入设备，迅速发生反应，产物排入含有酚酞试剂的收集瓶中，生成粉红色的溶液。\\n这是记者在山东豪迈集团股份有限公司看到的连续流微反应器演示的皂化反应。公司副总经理唐立星说，连续流微反应器能够实现反应和换热同时进行，大幅提高换热效率，在工业化应用中可实现能耗节约30%至50%。目前，豪迈公司已成功研发出适用于硝化、氯化等10个危险化学反应的连续流技术及装备，探索出精细化工领域更为安全的生产模式，助力化工行业转型升级。\\n山东是化工产业大省。据介绍，近年来，山东以“减量、整小、上大，减油、增化、延链”的思路优化石化产业布局，推动钢铁行业降能耗提质效，全省万元GDP能耗持续下降。同时，聚焦冶金、化工、轻工等重点产业，持续加大技改力度，延长产业链条，让传统产业焕新发展。\\n借助新一轮大规模设备更新的机遇，传统工业企业纷纷加强新技术新产品创新迭代。\\n在潍柴动力股份有限公司一号工厂生产车间，记者看到，穿梭于各个装配区域之间的，不是员工，而是自动化叉车等运输设备。只需要设定好程序，它们就可以将一批批物料运送到指定位置。\\n2023年11月30日，在潍柴动力股份有限公司总装生产线，机器人在装配清洁能源发动机。新华社发（孙国祥 摄）\\n“2004年建厂时，自动化率不到20%，如今这条生产线的自动化率超过60%。”潍柴动力股份有限公司一号工厂厂长助理吴连伟介绍，工厂研发机器人技术、视觉技术等，持续推进生产线自动化改革，并整体推动智能物流在发动机领域的有效应用。目前，工厂已经在加工、装配、物流、测量四个方面实现自动化，大大提升生产效率。\\n青岛即发集团年产1000吨的超临界二氧化碳无水染色产业化生产线平稳运营，整个过程不需一滴水；位于东营的中金岭南公司探索炼铜工艺“三段”变“两段”，实现节能20%以上；济宁龙拱港将海港理念引入内河港口，突破了磁钉定位导航限制，定位精度达2厘米以内……从产业源头抓起，在创新上下功夫，山东传统产业通过科技赋能加快蝶变。\\n以新促转：新兴产业生机勃发\\n“天上有星、陆上有箭、海上有船”，聚焦海上火箭发射的航空航天产业正在滨海小城海阳市迅速崛起。\\n2024年1月11日，人们在山东省海阳市连理岛上观看海上火箭发射。新华社记者 李紫恒 摄\\n从总装、测试，到出厂、发射，再到配套服务，商业航天产业全产业链企业都能在海阳找到。东方航天港（山东）发展集团有限公司副总经理张华说：“我们全力打造火箭技术准备、星箭对接、码头合练、远控测发、测控通信、出海转运全链条功能模块，力求形成‘前港后厂、北固南液、系统集成、出厂即发射’的能力布局。”\\n海阳航空航天产业，是山东以“政府+链主+园区”模式培育战略性新兴产业集群的缩影。近年来，山东提速新能源汽车、集成电路、节能环保等全产业链发展，培育济南空天信息、青岛人工智能、烟台东方航天港等未来产业集群，培育“十强”产业“雁阵形”集群180个，总规模达8.9万亿元。\\n在济南新旧动能转换起步区，比亚迪新能源乘用车及零部件产业园项目二期即将交付。“济南比亚迪2023年生产整车24万辆，今年目标是30万辆。”比亚迪集团山东省总经理徐磊说，比亚迪将发挥龙头企业带动作用，结合全产业链核心技术优势，培育壮大新质生产力，促进山东新能源汽车产业集群高质量发展。\\n着眼未来，以新促转。山东在新兴产业集群化发展中交出亮丽的“成绩单”：集中培育32个省级以上战略性新兴产业集群、15个省级未来产业集群，国家企业技术中心达到210家；万华新材料低碳产业园、鹏辉能源储能电池等项目加快建设。\\n与此同时，数字赋能成效显著。漫步在青岛海尔科创生态园，车辆余位实时监测系统可让员工实现“零等待”通行；智慧门禁系统可在0.3秒内完成人脸识别无感通行；“楼宇大脑”能根据气象数据、室内外温湿度、人流分布等智能调节能耗……一个个智慧场景触手可及。\\n2024年5月27日，位于青岛市崂山区的海尔科创生态园外景。新华社记者 王阳 摄\\n山东省工信厅厅长张海波介绍，山东近年来开通了全国首个数据赋能中小企业数字化转型服务平台，累计建成5G基站22万个，2023年全省信息技术产业营业收入增长10%以上。\\n系统变革：经济社会发展全面绿色转型\\n在山东，无论政府还是企业，绿色低碳高质量发展的共识已成为谋划发展的深层动力，降碳、减污、扩绿也正在改变这个经济大省发展的底色。\\n威海乳山市，海风阵阵，一处处工地塔吊林立，一个个车间繁忙有序，明阳智能、远景能源等海上风电及海工装备领军企业齐聚于此。\\n2023年6月21日，在乳山市远景能源零碳产业园，工作人员在海上风机前作业。新华社记者 郭绪雷 摄\\n山东省发改委有关负责人介绍，目前山东正加快建设胶东半岛核电、海上风电、鲁北盐碱滩涂地风光储输一体化等大型清洁能源基地，建成投运国家首批大型风电光伏基地项目，1000万千瓦项目2023年4月纳入国家第三批大型风光基地清单，海阳核电二期工程全面进入土建施工高峰期。截至4月底，全省新能源和可再生能源发电装机规模已突破9800万千瓦，新型储能并网装机超过448万千瓦。\\n“不仅仅是能源领域，推动经济社会发展全面绿色转型是广泛而深刻的系统性变革。”山东财经大学区域经济研究院院长董彦岭说。\\n山东通过实施碳达峰“十大工程”，分步出台若干措施和实施方案，全面提升各行业能效标准。\\n——追求生态优先、绿色发展正成为企业共识。\\n在日照市经开区，亚太森博（山东）浆纸有限公司通过生物质废弃物发电实现能源基本自给自足，每年降低300多万吨碳排放，节约120万吨标准煤；烟台冰轮环保科技有限公司将临近厂区产生的二氧化碳废气提纯制成高纯度液态二氧化碳，用于焊接、干冰生产等多种行业。\\n2023年10月25日，在亚太森博（山东）浆纸有限公司监控室，工作人员监看生产车间运行情况。新华社记者 张善臣 摄\\n——看不见的碳排放正成为社会发展有形的标尺。\\n一些近零碳城市、近零碳园区、近零碳社区开始发挥示范效应：青岛市市南区充分利用工业余热、潮汐能、太阳能等能源，把既有社区改造成“零碳社区”；京台高速济南服务区利用光伏发电配合储能及综合能源管理系统，每年减少碳排放超1700吨；长岛所辖的大黑山岛成为全国首个负碳超过2000吨二氧化碳当量的“负碳海岛”。\\n生态优美、环境安全，是绿色低碳高质量发展先行区建设的内涵之一。山东省生态环境厅厅长侯翠荣介绍，山东持续深入推进污染防治攻坚，2023年，全省PM2.5平均浓度连续第三年达到“30+”水平，优于国家下达的年度目标10%以上；国控地表水考核断面优良水体比例84.3%，超年度目标15.7个百分点。\\n风好正是扬帆时，奋楫争先谱新篇。山东省发改委主任孙爱军说，当前的山东，产业结构、能源结构更优了，发展动力更强了，质量效益更高了，山东有底气、有信心推动经济持续向好、长期向好。\\n文字记者：栗建昌、王阳、邵琨、丛佳鑫\\n视频记者：王欢\\n海报设计：曾学真\\n编辑：郝亚琳、朱舜、徐金泉、罗晓光、陈海通、金怡、程昊、郭洁宇\\n统筹：方思贤、王洁'"
            ],
            "application/vnd.google.colaboratory.intrinsic+json": {
              "type": "string"
            }
          },
          "metadata": {}
        },
        {
          "output_type": "stream",
          "name": "stdout",
          "text": [
            "\n",
            "Frame: AI impacts on businesses, economy, and jobs\n",
            "Sentiment: 3\n",
            "Lexicon S: 0\n",
            "\n",
            "时光相册｜从“解放”下线到汽车产销量突破3000万--看汽车行业发展\n"
          ]
        },
        {
          "output_type": "display_data",
          "data": {
            "text/plain": [
              "'1953年7月15日\\n来自全国的万名建设者会聚长春西南郊\\n于茫茫荒野上夯下了第一根基桩\\n中国人“造自己的汽车”的愿望从梦想照进现实\\n新中国汽车工业由此展开\\n1953年，第一汽车制造厂基本建设工程一角。新华社发\\n1957年拍摄的一汽发动机车间。新华社记者 胥志成 摄\\n1956年7月13日\\n第一辆国产解放牌卡车总装下线\\n为中国不能造汽车的历史画上句号\\n1958年5月12日\\n第一辆国产轿车东风金龙驶出试制车间\\n开启自主造轿车的历程……\\n一个个中国汽车工业史上的“第一”不断诞生\\n1956年7月13日，第一辆解放牌汽车驶下装配线。新华社发\\n我国第一辆小轿车——“东风”牌轿车，于1958年5月12日在第一汽车制造厂诞生。上图：东风牌小轿车开出第一汽车制造厂；下图：东风牌小轿车车标。新华社记者 胥志成 摄\\n1958年8月，第一辆红旗牌高级轿车试制成功。新华社发\\n70余年来\\n中国汽车工业从无到有\\n从小到大\\n从模仿到创新\\n从合资到自主\\n走过一条不平凡的道路\\n1967年春季广州出口商品交易会上，人们在参观展出的新产品“红旗”牌三排座高级轿车。新华社记者 张家昌 摄\\n1990年4月21日，一汽奥迪轿车总装配线剪彩仪式。新华社记者 陈广俊 摄\\n1994年10月10日，上海大众首次向公众展示他们开发的新一代车型——上海桑塔纳2000型轿车。新华社记者 张平 摄\\n2005年，中国奇瑞汽车在埃及首都开罗举办的第10届汽车展上亮相。新华社记者 金林鹏 摄\\n2010年3月28日在瑞典哥德堡的沃尔沃公司总部外拍摄的沃尔沃标志。当日，中国浙江汽车企业吉利集团与美国福特汽车公司在此签署收购沃尔沃协议。新华社记者 武巍 摄\\n2011年7月20日，一个小朋友在长春汽博会现场“试乘”奔腾汽车。新华社记者 王昊飞 摄\\n2024年7月16日，中国一汽第6000万辆汽车暨第900万辆解放牌卡车驶下生产线。新华社记者 颜麟蕴 摄\\n2024年9月19日，观众在发布会现场外参观东风汽车。当日，东风汽车第6000万辆车下线。新华社记者 伍志尊 摄\\n70余年来\\n中国汽车完成了\\n从“引进来”到“走出去”的转变\\n中国汽车工业协会公布的数据显示\\n2024年上半年\\n汽车出口279.3万辆，同比增长30.5%\\n与此同时\\n中国车企也正加大在海外投资建厂力度\\n2023年9月12日，在山东港口烟台港汽车码头，大批出口商品车等待装船发运。新华社发（张超 摄）\\n2024年3月12日，“安吉智慧”号滚装轮停靠在福州港江阴港区码头，准备装运出口海外的车辆。新华社记者 林善传 摄\\n2023年10月31日，一辆比亚迪新能源公交车行驶在智利首都圣地亚哥的主城区。新华社记者 辛悦卫 摄\\n2024年1月26日，在匈牙利比奥托尔巴吉，员工在蔚来能源欧洲工厂工作。新华社发（弗尔季·奥蒂洛摄）\\n2024年7月4日，工人在位于泰国罗勇府的比亚迪泰国工厂工作。新华社记者 孙玮彤 摄\\n2023年\\n我国汽车产销量均超3000万辆\\n连续15年稳居全球第一\\n新能源汽车产销量均超900万辆\\n连续9年全球第一\\n一组组鲜活数字背后\\n是中国汽车工业的活力和韧劲\\n是中国制造的底气和信心\\n2024年3月21日，在位于湖南省长沙市的比亚迪长沙雨花工厂，机械臂进行车身焊接作业。新华社记者 陈思汗 摄\\n2024年2月7日，在位于吉林长春的一汽解放汽车有限公司卡车厂焊装车间内，流水线上的机器人对零部件进行焊接作业。新华社记者 许畅 摄\\n2024年4月25日，在位于重庆市两江新区的赛力斯汽车超级工厂，总装车间的机器人快速精确执行生产指令。新华社记者 黄伟 摄\\n2024年4月1日在山西省晋中市榆次区的山西新能源汽车工业有限公司（吉利晋中基地）拍摄的甲醇重卡。新华社记者 杨晨光 摄\\n2024年5月19日，在位于深圳巴士集团深康充电站内的超充站，两辆新能源汽车正在充电。新华社记者 徐嘉懿 摄\\n2024年3月28日，在北京一家小米汽车零售门店内，消费者在了解小米SU7汽车。新华社记者 鞠焕宗 摄\\n2024年4月25日，在北京中国国际展览中心顺义馆举行的2024北京车展上，参观者在蔚来汽车展台参观电动汽车换电站演示。新华社记者 鞠焕宗 摄\\n2024年4月15日，采购商在参观广交会上展示的中国新能源汽车。新华社记者 刘大伟 摄\\n从“解放”下线到产销量突破3000万\\n中国汽车工业\\n有白手起家的一往无前\\n有困难面前的千锤百炼\\n一代代汽车人\\n薪火相传的奋斗精神\\n凝结成中国汽车工业不懈前行的动力源泉\\n拼版照片：上图为1958年拍摄的第一汽车制造厂，这里生产了第一批红旗轿车；下图为2019年4月9日，在一汽红旗总装车间内，职工在对生产的红旗轿车进行静检作业。新华社记者 许畅 摄\\n不忘来时筚路蓝缕\\n不畏风雨砥砺前行\\n在由汽车大国走向汽车强国的征程上\\n坚定不移推进高质量发展\\n中国汽车工业一路向前！\\n2023年6月17日，长春市汽车广场内的汽车雕塑沐浴在晨曦中。新华社记者 许畅 摄\\n制作：方欣、张铖'"
            ],
            "application/vnd.google.colaboratory.intrinsic+json": {
              "type": "string"
            }
          },
          "metadata": {}
        },
        {
          "output_type": "stream",
          "name": "stdout",
          "text": [
            "\n",
            "Frame: AI impacts on businesses, economy, and jobs\n",
            "Sentiment: 3\n",
            "Lexicon S: 0\n",
            "\n",
            "高质量发展调研行｜江苏常州：向“新”求“质”打造新能源产业生态圈\n"
          ]
        },
        {
          "output_type": "display_data",
          "data": {
            "text/plain": [
              "'全自动化焊接车间火花四射、数百台工业机器人挥舞手臂、生产线轰鸣声不绝于耳……在江苏常州理想汽车生产基地，冲压、焊装、涂装、总装等工艺后，一辆辆新能源汽车“出炉”。去年自此奔赴全国的理想汽车有37.6万辆，同比增长180.2%。\\n常州与理想共谱的“伯乐与千里马”故事，被传为业内佳话。自2016年落户常州，理想汽车用8年成长为千亿级新势力车企。\\n5月31日，在江苏常州理想汽车智能制造基地焊装车间，机械臂在工作。新华社记者 柳文惠 摄\\n“我们以发展新质生产力为抓手，培育吸引行业头部企业，用链式思维发挥龙头企业牵引作用，不断构筑‘发储送用网’产业生态圈，全方位打造‘新能源之都’。”常州市工信局局长严德群说。\\n2015年，常州引进第一家动力电池企业中航锂电（后改名中创新航）。当时，这家企业处于亏损阶段。常州金坛区以政府基金增资入股，帮企业度过了至暗时刻。而今，中创新航成长为全球行业出货量前五、全国第三的行业龙头企业。\\n“链主”汇聚正不断加速。2016年宁德时代、2018年蜂巢能源、2019年比亚迪……整车“链主”和动力电池龙头，不断牵引其他3400多家新能源产业链企业集聚。目前，常州动力电池产业链完成度达97%，带动新能源汽车及零部件产业产值超4500亿元。\\n6月2日，在江苏常州蜂巢能源科技股份有限公司车间，工作人员在检查生产情况。新华社记者 刘宇轩 摄\\n连点成线、扩链成群，“发储送用网”新能源产业生态圈正加速形成。在“发电”环节，太阳能光伏产业链日趋完整，天合光能、时创能源等积极探索“零碳产品”；在“储能”环节，除了动力电池，空气压缩储能、氢能等新型储能走在全国前列；在“输送”环节，特高压输变电设备、变压器产品及电力电缆产业制造重镇地位日益凸显；在“应用”环节，除了新能源汽车，万帮新能源的全国第100万台充电桩近期上线，跻身亚洲新能源独角兽；在“网联”环节，“车、能、路、云”的融合发展，为培育典型应用场景筑实基础……\\n“2023年常州本地推广应用新能源车6万多辆，这是数万个‘移动充电宝’。”国网常州供电公司营销服务中心主任李敏介绍，他们正探索在充电场站、楼宇、园区、智造企业等各种应用场景构建高度自治智能微电网，发挥光能、储能等多能互补作用。\\n这是6月2日在江苏常州钟楼区拍摄的一光储充放检智慧场站。新华社记者 柳文惠 摄\\n在“发储送用网”深度融合的基础上，常州将聚焦“新能源、新生活、新城市”，打造城市新风。“要全场景拓展新能源应用，不断构建绿色低碳‘全链条’。”常州市市长盛蕾说。\\n2023年，常州新能源产业融合集群入选首批江苏省级战略性新兴产业融合集群发展试点，规上企业完成产值超7680亿元，同比增长15%，对当地规上工业产值增长贡献率达98.9%。同年，常州成为GDP新晋“万亿之城”。\\n数月前，江苏省印发《关于支持常州新能源产业高质量发展的意见》，支持常州高质量推进太阳能光伏、动力及储能电池、新型电力装备以及新能源汽车等产业链创新升级，打造“新能源之都”城市名片。到2025年，常州新能源领域产值规模力争超万亿元。\\n“新质生产力是高质量发展的强劲推动力、支撑力。”常州市委书记陈金虎说，发展新质生产力要因地制宜、先行先试、加快探索，常州将全力打造代表江苏高质量发展水平、具有国际竞争力的新能源产业高地。（记者秦华江）'"
            ],
            "application/vnd.google.colaboratory.intrinsic+json": {
              "type": "string"
            }
          },
          "metadata": {}
        },
        {
          "output_type": "stream",
          "name": "stdout",
          "text": [
            "\n"
          ]
        }
      ]
    },
    {
      "cell_type": "code",
      "source": [
        "df = pd.read_csv('/content/drive/MyDrive/Mediacloud/Japan/人工知能_japan_cleaned_2024-06-01_2025-06-01_frames_sentiments_newsplease_mediacloud_gemini_2-5.csv')\n",
        "df[\"sentiment_lexicon\"] = df[\"maintext\"].apply(get_sentiment)\n",
        "len(df)"
      ],
      "metadata": {
        "id": "ubvYVSha0ZsJ",
        "colab": {
          "base_uri": "https://localhost:8080/"
        },
        "outputId": "22a46d53-ebbe-4c99-b4ab-5c200556d7c3"
      },
      "execution_count": null,
      "outputs": [
        {
          "output_type": "execute_result",
          "data": {
            "text/plain": [
              "1000"
            ]
          },
          "metadata": {},
          "execution_count": 20
        }
      ]
    },
    {
      "cell_type": "code",
      "source": [
        "df_sample = df.sample(n=10, random_state=42)\n",
        "df_sample = df_sample.reset_index(drop=True)\n",
        "len(df_sample)"
      ],
      "metadata": {
        "id": "q7qBbUCYzszw",
        "colab": {
          "base_uri": "https://localhost:8080/"
        },
        "outputId": "fa9c682f-f707-4589-d4da-af82fa6b024d"
      },
      "execution_count": null,
      "outputs": [
        {
          "output_type": "execute_result",
          "data": {
            "text/plain": [
              "10"
            ]
          },
          "metadata": {},
          "execution_count": 21
        }
      ]
    },
    {
      "cell_type": "code",
      "source": [
        "#Gemini 2.5 frames     JP: 10/10 -> 1111111111\n",
        "#Gemini 2.5 sentiments JP: 10/10 -> 1111111111\n",
        "#Lexicon sentiments    JP:  4/10 -> 0100010011"
      ],
      "metadata": {
        "id": "ul3h3xq40qCd"
      },
      "execution_count": null,
      "outputs": []
    },
    {
      "cell_type": "code",
      "source": [
        "for i in range(len(df_sample)):\n",
        "    print(\"Frame:\", df_sample.frame[i])\n",
        "    print(\"Sentiment:\", df_sample.sentiment[i])\n",
        "    print(\"Lexicon S:\", df_sample.sentiment_lexicon[i])\n",
        "    print()\n",
        "    print(df_sample.title[i])\n",
        "    display(df_sample.maintext[i])\n",
        "    print()"
      ],
      "metadata": {
        "id": "0s2iCWCPzrPn",
        "colab": {
          "base_uri": "https://localhost:8080/",
          "height": 1000
        },
        "outputId": "ed05594a-273a-4db7-df0b-356f834da630"
      },
      "execution_count": null,
      "outputs": [
        {
          "output_type": "stream",
          "name": "stdout",
          "text": [
            "Frame: AI in national security and global partnerships\n",
            "Sentiment: 5\n",
            "Lexicon S: 0\n",
            "\n",
            "プロジェクト フェニックスの内部: 世界の愛国者たちは、10 日間の闇の間に史上最強のホワイト ハット作戦に備える!\n"
          ]
        },
        {
          "output_type": "display_data",
          "data": {
            "text/plain": [
              "'≪強力な組織や機関が積極的に Gazetteller.com を検閲しようとしています。このニュースを世界に広めることを強くお勧めします。≫\\n2024年10月28日現在、この隠された戦争において新たな、そして画期的な変化が起こり、私たちは10日間の暗黒とその先にさらに近づいています。これらの動きに関与する工作員たちは現在、トランプの指揮下で何年も準備してきた成果をついに解き放つための正確なタイムラインと戦略に焦点を絞っており、マスクの技術および監視ネットワークがバックボーンとして機能し、世界のどの隅も隠されていないようにします。\\nこの新たな情報は、私たちがこれまで知っていた範囲を超えており、マスクが米軍の作戦にどの程度関与しているかという真実を明らかにし、アメリカ国境をはるかに超えた同盟関係を明らかにしている。\\nまず、最近の高官級会議で、マスクのスペースX事業が米国宇宙軍の秘密部隊と完全に統合されていることが確認された。この部隊（内部ではユニット77と呼ばれている）は、宇宙だけでなく、南米から北極まで世界中の秘密の場所に基地を構える高官級司令部として活動している。\\nユニット77は、スターリンクの監視能力を利用して、秘密のエリート作戦を追跡し、これまで侵入不可能と思われていた基地、ネットワーク、諜報センターを特定します。「トライデントコマンド」として知られるこの同盟には、ヨーロッパ、南米、さらにはディープステートに忠誠を誓う潜伏細胞が活動していると考えられているアジア地域の一部にある極秘資産が関与していると伝えられています。\\nさらに、トランプとマスクは、ディープステートによる世界規模の支配網に対抗する愛国者たちである選ばれた外国の指導者たちと協調行動を開始した。これらの指導者たちは、近々起こるリセットを認識しており、自国におけるGESARA/NESARAの実施を支持し、中央銀行を解体してマスクが開発してきた量子金融システム（QFS）ノードに置き換えることに同意した。\\nこれらのノードは、10日間の暗黒の数日後にアクティブになり、世界のエリートの銀行システムを無意味かつ無力にするように設定されています。「ホワイトドーン協定」として知られるこの合意は、事実上、世界的な金融改革の舞台を整えました。\\nこれと並行して、マスクはOPSEC Nexusと呼ばれる画期的な技術をひそかに開発してきた。スターリンクに組み込まれたこのシステムは、ディープステートの諜報ネットワークからデータを傍受してリダイレクトすることができ、ホワイトハットがあらゆる妨害行為を予測して対抗することを効果的に可能にする。\\nOPSEC Nexus は、ブラックアウト期間中に稼働する予定で、軍隊や同盟軍の通信を遮断するファイアウォールを作成し、同時にエリート層が大衆を支配したり注意をそらすための活動を調整するために使用するネットワークを混乱させる。\\nこの前例のないレベルの技術的優位性により、Starlink は事実上のホワイトハットの司令センターとなり、ホワイトハットは世界中の愛国者、軍隊、QFS コントローラーに暗号化されたメッセージを送信できるようになります。\\nこれに加えて、機密情報が漏洩し、マスクが量子AI開発の最前線に身を置いていることが明らかになった。これは普通のAIではなく、QFS内で動作するように特別に設計された量子インテリジェンスである。\\nコードネーム「プロジェクト・フェニックス」と呼ばれるこの量子AIは、すでに世界的な金融取引の監視に積極的に取り組んでおり、ディープステートの違法な富の流れに関する情報を密かに収集し、リセット後の資産の再分配に備えている。\\nフェニックス計画は、不正な取引を無効にするだけでなく、陰謀団が利用した人身売買、武器取引、不正な銀行業務に関連する口座を特定し、凍結します。\\n一方、トランプ大統領は軍内で、特に第10師団として知られる部隊で大きな進歩を遂げている。トランプ大統領自身が厳選したこのエリート部隊は、米国全土への迅速な展開の訓練を受けており、停電が発生すればすぐに行動を起こす準備ができている。\\nディビジョンXは、コードネーム「クリアスカイ作戦」の下、政府高官のディープステート支持者の無力化に焦点を当てた対応プロトコルを訓練してきた。この作戦では、諜報機関、州政府、さらには司法機関の機密性の高い地位に就いている主要人物の突然の逮捕が行われる予定だ。\\nこれらの逮捕は、アメリカの機関に対するディープステートの支配を断ち切り、NESARAの制定への道を開き、沼地を永久に一掃するというより広範な戦略の一部です。\\nホワイトハットはまた、プロジェクト・アイアン・フィストの準備として、カナダ、フランス、日本を含む米国外の諜報機関の愛国派とも連携している。多くのディープステートの諜報員が10日間の暗黒を予想して米国国境から逃げ出し、グローバリスト同盟国に避難しているため、この国際連携は極めて重要になっている。プロジェクト・アイアン・フィストは、責任を逃れられると考えたこれらの諜報員を同盟軍が追跡、阻止、連れ戻すことを可能にする。\\nhttps://gazetteller.com/inside-project-phoenix-starlinks-nesara-gesara-qfs-alliance-set-to-unleash-trumps-division-x-unit-77-and-liberty-channels-global-patriots-prepare-for-the-most-powerful-w/'"
            ],
            "application/vnd.google.colaboratory.intrinsic+json": {
              "type": "string"
            }
          },
          "metadata": {}
        },
        {
          "output_type": "stream",
          "name": "stdout",
          "text": [
            "\n",
            "Frame: AI impacts on businesses, economy, and jobs\n",
            "Sentiment: 3\n",
            "Lexicon S: 3\n",
            "\n",
            "DLE所属クリエイター「大代キヌ太」、スターダストプロモーション所属「待つことが苦手組。」の新曲MVで監督デビュー\n"
          ]
        },
        {
          "output_type": "display_data",
          "data": {
            "text/plain": [
              "'株式会社ディー・エル・イー（本社:東京都千代田区、代表取締役社長執行役員CEO：星 秀雄、以下DLE）所属のクリエイター「大代キヌ太」がスターダストプロモーション所属のアーティスト「待つことが苦手組。」の「待つことが苦手になりました」のミュージックビデオ（MV）を手掛け、監督としてデビューしました。\\n「待つことが苦手になりました」は、SNSでヒット曲を連発している「和ぬか」の作詞作曲による楽曲で音源と映像は、2024年7月１日にYouTube上にて匿名で公開されています。アーティスト「待つことが苦手組。」は、メンバー非公開でデビューし、11月23日（土）に開催された「STARDUST THE PARTY 2024」にてメンバー情報が解禁されました。「待つことが苦手組。」はスターダストプロモーションの選抜メンバーによるメンバー構成で、グループの垣根を超えたプロジェクトとなっています。\\nMVは秘密裏に公開されていながらも、口コミ等で徐々に話題となり、既に約10万回以上再生されています。\\nMVでは、様々なタッチの個性的な女の子が登場し、怪しげな雰囲気の中、モンスターに立ち向かっていくことで前向きな気持ちや強さを表現していながらも、可愛らしくおしゃれな楽曲とマッチしたアニメーションに仕上がっています。\\nhttps://youtu.be/XYFlGDgoo1Y\\nDLEは「秘密結社 鷹の爪」をはじめとするコミカルなアニメーション制作を得意としていますが、本作では、曲調や歌詞にマッチしたMV制作に取り組みました。楽曲が持つパワーを引き出し、アーティストの魅力を最大限に表現しています。\\nDLEでは、アニメーターの育成に特に力を入れており、幅広い手法を使用して、今までにないアニメ制作に積極的に取り組んでいます。現在まで培ってきた技術を高めるだけでなく、AI・人工知能を使用した、アニメ制作も積極的に取り組んでおり、アニメーション業界で度々問題となっている人材不足や制作期間の長期化などを解決できるよう努めております。\\n今後も引き続き、新しいアニメーション業界の時代を切り拓く人材の育成と、質の高い作品を常に提供できるようなシステムの構築に邁進し、日本のアニメ文化の発展に貢献してまいります。\\n【楽曲クレジット】\\n「待つことが苦手になりました」\\n作詞作曲：和ぬか\\n編曲：100回嘔吐\\n【Music video】\\nプロデュース：仁同正明\\n監督：大代キヌ太\\nキャラクターデザイン・作画：弘田マサユキ\\nアニメーション制作：DLE\\n待つことが苦手組。「待つことが苦手になりました」\\n楽曲配信：https://ssm.lnk.to/MATSUKOTOGANIGATENINARIMASHITA\\n【メンバー】\\n「待つことが苦手組。」\\n安本彩花（私立恵比寿中学）\\n秋本帆華（TEAM SHACHI）\\n柳美舞（ばってん少女隊）\\n桜ひなの（いぎなり東北産）\\n坂井仁香（超ときめき♡宣伝部）\\n愛来（AMEFURASSHI）\\n結城りな（ukka）\\n三田美吹\\n■大代キヌ太 とは\\n■株式会社ディー・エル・イー とは\\n秘密結社 鷹の爪をはじめとするIP（著作権や商標権等の知的財産権）を開発、東京ガールズコレクションの商標権を獲得し再生させるなど幅広い事業領域へビジネスを仕掛ける実績を持つ総合エンターテインメントプロデュースカンパニー。2014年に東証マザーズ、2016年に東証一部へ上場し、2022年にはスタンダード市場に移行。2019年に朝日放送グループホールディングス株式会社のグループ会社となり、グループリソースを使ったメディア展開も行う。2021年に海外セレブビジネスを行うCARAVAN Japanを設立、2022年に台湾企業のMYFEELを買収、2023年に韓国法人DLE KOREAを設立し2024年にiNKODE JAPANを設立するなど、グローバルビジネスを強化している。'"
            ],
            "application/vnd.google.colaboratory.intrinsic+json": {
              "type": "string"
            }
          },
          "metadata": {}
        },
        {
          "output_type": "stream",
          "name": "stdout",
          "text": [
            "\n",
            "Frame: AI impacts on businesses, economy, and jobs\n",
            "Sentiment: 2\n",
            "Lexicon S: 0\n",
            "\n",
            "nan\n"
          ]
        },
        {
          "output_type": "display_data",
          "data": {
            "text/plain": [
              "'ニュース\\n雑誌\\n成功の秘密は経営力でもマーケティングでもない…松下幸之助が｢人間として最も尊いこと｣と断言した行い\\nビジネスの成功に必要なことは何か。元JALのCAで研修コンサルタントの香山万由理さんは「私は徳を積むことを心がけることで、直感が鋭くなった結果、『生涯顧客』とい…（PRESIDENT Online）\\n事務所の｢手腕の差｣が露骨に出た…｢一発アウト｣のTOKIO国分と､｢復活｣が報じられた松本人志の決定的違い【2025年6月BEST】\\n2025年6月に、プレジデントオンラインで反響の大きかった人気記事ベスト3をお送りします。社会部門の第1位は――。▼第1位 事務所の｢手腕の差｣が露骨に出た…｢…（PRESIDENT Online）\\n会議室でも屋上でもない…医師｢職場でイラっとしたときに気持ちを落ち着かせる\"とっておきの場所\"｣\\n仕事中に気持ちを切り替えるには何をしたらいいか。医師の保坂隆さんは「先輩から嫌味をいわれたり、後輩のつまらない一言に傷ついたりして、落ち込んだり、ドアを蹴飛ばし…（PRESIDENT Online）\\n「現役の物理教師」が突然セクシー女優デビューしたワケ。「学校にバレて懲戒免職になった」当時を振り返る\\n「元教師」の肩書を持ってデビューするセクシー女優はときおり見かけられます。しかし、現役教師時代にデビューがバレ、懲戒免職されて話題になる、なんて異色の経歴を持つ…（SPA!）\\n「1,2,3,4,5,6,7,8,9の中で素数だけ選べ」中学生の7割が誤答。全国学力調査で見えた“いまの子ども”に足りない力\\nみなさんは「素数」がどんな数か説明できますか？ 私は素数と聞くたびに、『ジョジョの奇妙な冒険』第六部に登場するプッチ神父が素数を数えて平静を取り戻そうとする様子…（SPA!）\\n「アパートから日本人風俗嬢が飛び降りて…」今、カンボジアに“出稼ぎ風俗嬢”が集められている理由\\n東南アジアの中央に位置するカンボジアが、世界中に被害を与える一大詐欺拠点となっている。 汚職と腐敗政治が蔓延る同国の土壌が、この数年で急激に治安を悪化させ、その…（SPA!）\\n「あおり運転」に百年の恋も冷めた！覆面パトカーに捕まった恋人がとった“まさかの行動”――仰天ニュース特報\\n大事件ばかりがニュースではない。身近な小さな事件の方が人生を左右することもある。近年、増加する「あおり運転」は日常を脅かす深刻な社会問題に。そんな注目のテーマを…（SPA!）\\n憧れのルーマニア女性と国際結婚、悩みは「あまりに束縛が強すぎて、ほかの女性と…」――仰天ニュース特報\\n大事件ばかりがニュースではない。身近な小さな事件の方が人生を左右することも。少子化や未婚・晩婚化が進む現代社会、男女間のすれ違いが恋愛の機会を逃す要因に。今どき…（SPA!）\\n｢坊主丸儲けは昔話｣実は仏教に清貧の思想はない\\nYouTubeのお悩み相談番組『大愚和尚の一問一答』は登録者数70万人を超える。そこに寄せられる悩みのトップはずばり「お金」。和尚の著書『お金と宗教の歴史』は歴…（東洋経済オンライン）\\nデスクワーク中は積極的\"貧乏ゆすり\"のススメ\\n仕事でミスをしたり、人間関係でちょっと嫌なことがあったり。モヤモヤした気持ちが頭から離れず、あれこれ思い悩んでしまうことは誰にでもあります。そんなとき「心を変え…（東洋経済オンライン）\\n死んだサルの内臓に…｢バナナのような生物｣の謎\\n飼っている動物が病気になったら、動物病院に連れていきますよね。動物病院には外科、内科、眼科など、さまざまな専門領域の獣医師がいますが、獣医病理医という獣医師がい…（東洋経済オンライン）\\n不登校気味で数学0点の彼が作曲家になるまで\\n浪人という選択を取る人が20年前と比べて1/2になっている現在。「浪人してでもこういう大学に行きたい」という人が減っている中で、浪人はどう人を変えるのでしょうか…（東洋経済オンライン）\\nひんやりがしみわたる！コーヒー・麦茶・ハイボールが「キンキン激ウマ」になる4つの裏ワザとは？\\n夏ほどアイスコーヒーのおいしい季節はない。キンキンに冷えたハイボールも最高だ。家で、外出先で、氷がカラカラとグラスの中で音を立てているのを聞くだけでも涼やかな気…（ダイヤモンドオンライン）\\n40代タイミーおじさんが、70カ所スキマバイトして「ナンバーワンの神現場！」と断言する飲食店の名前\\nライター業の傍ら、スキマバイトでさまざまな職場で働いている筆者が仕事を通じて見えた悲喜こもごもをつづる本連載。今回は、これまで約70カ所でスキマバイトをしてきた…（ダイヤモンドオンライン）\\n早くて快適｢飛ぶ船｣どんどん引退していく\"深刻\"\\n東京都の離島航路を担う「東海汽船」から、ジェットフォイル「セブンアイランド愛」の引退が発表された。この船は、昨年7月に東京・竹芝から伊豆諸島に向かう途中、不具合…（東洋経済オンライン）\\n｢夏休みのドリルと日記｣は全然子供のためにならない…\"学校の当たり前\"を児童に平気で押し付ける無神経\\n「夏休みのしおり」に禁止事項や約束事が事細かに記載されているのはなぜか。現役の小学校教員である松尾英明さんは「夏休みの宿題や日記を学校が管理指導したり、学校内で…（PRESIDENT Online）\\n文春が知ったら飛びつくぞ…男性カメラマンが持っていたすごいけど面倒な「特殊能力」とは？\\n■「以前お会いしましたね」「新手のナンパですか？」「河崎さん、僕、以前どこかでお会いしたことがありますね」「おっ、なんですか、新手のナンパですか」「いえ違います…（ダイヤモンドオンライン）\\nかんしゃくを起こす､イスに座っていられない…急増する｢発達障害もどき｣の子供たちに共通する生活習慣\\n発達障害児が急増している。管理栄養士の小山浩子さんは「文部科学省の調査によると、2006年には7000人弱だった発達障害児が、2020年には9万人を超えた。だが…（PRESIDENT Online）\\n【恐怖】木造2階建｢絶対上りたくない階段｣の話\\n280万人が体験した、身の毛もよだつ恐怖話がここに――。YouTube『たっくーTVれいでぃお』にて、日夜、オカルト、都市伝説、ヒトコワ話などを配信し、多くの人…（東洋経済オンライン）\\n「俺がやらねば！」と月150時間タダ働き…その果てに見つけた「幸福に生きる」シンプルな答え\\n駐在先のアメリカで、やりがいと責任に追われる日々を送っていた歩兵さん（30代前半）。「何者かになれる」と信じ残業三昧の働き方を続けていたが、あることをきっかけに…（ダイヤモンドオンライン）\\n横浜市民がなぜか全員｢絶対に歌える曲｣の正体\\nある日、旅行先で突然話しかけてきた“謎の観光ガイド”の正体は??なんと旅行ガイドブックの「るるぶ」!?観光地を案内したり、編集さんを助けたり……。個性豊かな「る…（東洋経済オンライン）\\n元ディーラー営業マンが経験した「ネット型自動車保険の盲点」。安いのにはそれなりの理由がある\\n日本国内を走っているクルマの7割以上が加入している「自動車保険」。補償の内容はもちろんですが、加入する保険会社や加入方法によっても支払う保険料が変わりますよね。…（SPA!）\\n「寝る場所もなくて…」中3で家出、トー横で体を売った17歳の人生を変えた転機「初めて自分と向き合えた」\\n学校や家庭で居場所を失い、夜な夜な繁華街をさまようトー横キッズ。未成年飲酒やオーバードーズといった行為を繰り返し、身を滅ぼす者も少なくない一方で、まだ“再生の道…（SPA!）\\n心に染み込む恐怖のゲーム。コアなファンに支持される「懐かしのホラー＆サスペンスアドベンチャー」7選\\n◆口コミで広まるホラー系タイトルの魅力 2025年上半期に話題となったオカルティックなミステリーアドベンチャー『都市伝説解体センター』（Switch、PS5、S…（SPA!）\\n「やらなければ殺される」カンボジアが詐欺の一大拠点に…中華系マフィアが牛耳る“園区”の恐怖\\n東南アジアの中央に位置するカンボジアが、世界中に被害を与える一大詐欺拠点となっている。 汚職と腐敗政治が蔓延る同国の土壌が、この数年で急激に治安を悪化させ、その…（SPA!）\\n一口も食べないまま電車へ…“駅そば店員”が遭遇した迷惑客。実は「冷やし＝早い」は誤解？――仰天ニュース特報\\n大事件ばかりがニュースではない。身近な小さな事件の方が人生を左右することもある。「人と人とのコミュニケーションの難しさ」を通じて考える、現代社会に必要なマナーと…（SPA!）\\n三重苦を克服した「奇跡の人」ヘレン・ケラーに学ぶ、「最初につまずいた子」の意欲を取り戻す教え方とは？\\n戯曲『奇跡の人』のモデルとしても名高いヘレン・ケラー。生まれて間もなく病に襲われ視覚と聴覚を失うという大きなハンデを負ったが、高い学習能力を身に付け、現在のハー…（ダイヤモンドオンライン）\\nAdoはなぜ海外を目指し海外で聴かれているのか\\nサブスク型音楽サービスとして有名なSpotifyの今年上半期のランキングが発表され、Adoが「海外で最も再生された国内アーティスト」で初の1位に輝いた。“覆面ア…（東洋経済オンライン）\\n｢仕事なんかやめていいよ｣渡辺満里奈が休業中の夫･名倉潤に伝え続けた人生でいちばん大切なこと\\nタレントの渡辺満里奈さんは2005年に「ネプチューン」の名倉潤さんと結婚、現在高3の息子と中3の娘を育てている。作家のアルテイシアさんと渡辺さんが、2019年の…（PRESIDENT Online）\\nダウンタウンを育てた吉本元会長が語る、日本のお笑いがAIに絶対負けない理由\\n今、日本中のトップリーダーたちがこぞって熱狂する加納節雄という画家がいる。加納氏は2022年、芸術界に衝撃を起こした。世界遺産であり、重要文化財・国宝に指定され…（ダイヤモンドオンライン）\\n仕事ができる人が本を読むときに「絶対やらないこと」とは？\\n読書をしたいと思いながらも、なかなか読書習慣が身につかないと悩む人は多い。デキるビジネスパーソンたちは、忙しい毎日でどのように時間を作って読書をしているのか。1…（ダイヤモンドオンライン）\\n私たちの愛する｢パンダ｣はいつ日本に戻るのか？\\n6月27日、和歌山・白浜のアドベンチャーワールドを多くの人が訪れた。翌日、中国に帰還される4頭のパンダに、最後の「ありがとう」を伝えるためだ。涙を浮かべ、別れを…（東洋経済オンライン）\\n愛すべき下町｢亀戸｣風情を残した再開発の\"妙\"\\n「古くからの下町情緒と新しさが融合して、さらに魅力的な街になった」4年前と今の亀戸の街を比べると、そう感じる。街を、大きく変える力を持つ商業施設。人口を増やし、…（東洋経済オンライン）\\n【中学英語でスッと言える】「完璧じゃない」が前向きに聞こえる？ ネイティブが使う改善表現のコツ\\n英語で「まだ完成じゃないです」をやんわり伝える魔法のフレーズ【留学なし・独学6カ月で英会話を攻略したすごい方法】テストで赤点をとるほど英語が苦手だった著者が、大…（ダイヤモンドオンライン）\\nそりゃ伝わるわ…「説明が分かりやすい人」が冒頭で必ず話す「大事なこと」とは？\\n丁寧に説明しているのに、なぜか話が「分かりにくい」と言われてしまった経験はないだろうか。そんな時は、相手が「情報処理」しやすいように話し手が工夫することが必要だ…（ダイヤモンドオンライン）\\n下町｢亀戸｣再開発をしても魅力が増したワケ\\n「古くからの下町情緒と新しさが融合して、さらに魅力的な街になった」4年前と今の亀戸の街を比べると、そう感じる。街を、大きく変える力を持つ商業施設。人口を増やし、…（東洋経済オンライン）\\nAIを使って「顧客の増やし方」を考えたいとき、頭のいい人がやっている「すごい聞き方」とは？\\nいま、AIを使って仕事を進めることが当たり前になりつつある。しかし一方で、「AIなんて仕事の役には立たない」「使ってみたけど期待外れだった」という声も聞こえる。…（ダイヤモンドオンライン）\\n「仰向け寝がいい」とは限らない？ 寝方ひとつで「いびき」も「腰痛」も改善する驚きの事実\\n「横向き寝」で背骨に3倍の負担!? 今すぐ見直すべき“寝方の常識”「病院に行っても治らなかった不眠の悩みが解決した」「普段なかなか寝ない子どもがスヤスヤ眠った」…（ダイヤモンドオンライン）\\n1 2 3 4 5 6 7次へ'"
            ],
            "application/vnd.google.colaboratory.intrinsic+json": {
              "type": "string"
            }
          },
          "metadata": {}
        },
        {
          "output_type": "stream",
          "name": "stdout",
          "text": [
            "\n",
            "Frame: AI in healthcare and climate change\n",
            "Sentiment: 3\n",
            "Lexicon S: 0\n",
            "\n",
            "50周年を迎えた世界最大級の医療機器関連見本市 「Arab Health 2025」へジャパンパビリオンを出展 ―日本企業27社の海外販路開拓を支援―\n"
          ]
        },
        {
          "output_type": "display_data",
          "data": {
            "text/plain": [
              "'ジェトロは、世界最大級の医療機器見本市「Arab Health 2025」（会期：2025年1月27日（月）～1月30日（木））において、ジャパンパビリオンを設け、日本企業の出展支援を行います。中東地域のグローバルハブであるドバイにて開催される同見本市には、前回延べ13万人を超える来場者を集め、今回も世界180カ国を超える国々から医療機器販売代理店や病院関係者らの来場が見込まれます。\\n50回目となる今回のテーマは、「50年先の医療の未来を創造する（\"Shaping the Future of Healthcare for the Next 50 Years\"）」とし、医療の未来と医療に変革を起こす技術に焦点を当て、会場では、AI等を活用した、画像診断機器等の展示やスマートホスピタルを紹介するカンファレンスの開催が予定されています。\\nジェトロとして14回目の参加となる今回は、日本から27社が出展しますが、「通常エリア（18社出展）」に加え、クラウドによる診療記録や遠隔治療・診断等のデジタルヘルス技術を紹介する「スタートアップ特設エリア（9社出展）」を昨年度に続き設置します。同エリアには、分娩時の胎児心拍陣痛図および胎児の健康度合いのオンタイム解析AIを開発している（株）spiker（千葉県）、給水不要な在宅血液透析装置を開発する北里大学発SUのフィジオロガス・テクノロジーズ（株）（神奈川県）などが出展します。ドバイという地域性から、中東やアフリカに加え欧州からのバイヤーも多い見本市として年々来場者が増え、人気の高い展示会となっています。\\n本展示会での出展を通じ、日本発のものづくり技術を活用した医療機器や、新たなイノベーションを活用したデジタルヘルス関連製品の海外展開を支援し、糖尿病をはじめとする、開催地の健康課題の解決などを目指します。'"
            ],
            "application/vnd.google.colaboratory.intrinsic+json": {
              "type": "string"
            }
          },
          "metadata": {}
        },
        {
          "output_type": "stream",
          "name": "stdout",
          "text": [
            "\n",
            "Frame: AI in national security and global partnerships\n",
            "Sentiment: -3\n",
            "Lexicon S: 0\n",
            "\n",
            "もしAIロボットが自分の考えで動き出して止められなくなったときどうや- AI・ロボット\n"
          ]
        },
        {
          "output_type": "display_data",
          "data": {
            "text/plain": [
              "'No.5\\n回答者： kamiyasiro\\nもし、それが自律制御で動く敵の兵器なら、\\n・遠隔であれば、火器（ミサイル）で破壊する。あるいはレーザーガンで破壊する。\\n・近接であれば、火薬を使うと当方にも被害が出るので、電磁誘導で相手の電子機器を誤動作させる。\\n・ただし、敵も電磁誘導による妨害を避けるため、パーマロイ等の合金で磁気シールドしているだろうから、露出しているセンサーを狙って破壊する。ただし、どこにセンサーが仕込まれているか分かっている時に限る。\\n・強力な電磁石で吸引し、動きを止め、その隙に電源部を破壊する。動力源を絶つのが正攻法だと思います。\\n・制御部がシールドされ、本体も非磁性の材料で作られている場合、α線兵器（重粒子線兵器・指向性エネルギー兵器）で制御部を破壊する。\\n重粒子線は、先端医療に使われていますが、加速器という装置が必要で、とても大掛かりになります（ウルトラマンやカメハメハのような波動を使った兵器です）。\\n0\\n件\\nNo.1\\n回答者： remixiii\\nロボットの腕力に対抗できるのはロボットの腕力だけ。\\n同様に、AIの頭脳にに対抗できるのはAIの頭脳だけだと思いますよ。\\n囲碁や将棋などAIに頭脳戦で勝とうとするとAIを使って頑張るしかない時代になっていますしね。\\nですので、同じように自分たちの味方になるAIを作って対抗するしか無いと思います。\\nちなみに、ビットコインはデータの集まりですが、データセンターという概念すらありません(分散管理なのでセンターが存在していない)のでデータを壊すという攻撃は事実上不可能だったりします。もしするなら、AIにウイルスでも作ってもらい全サーバに同時攻撃するとかですかね。ただ、相手がAIなら電子の速度で対抗するでしょうから、こちらも電子の速度で対応できるよう人力ではなく自分で考えて動くAIに助けてもらうしか無いと思います。\\n0\\n件'"
            ],
            "application/vnd.google.colaboratory.intrinsic+json": {
              "type": "string"
            }
          },
          "metadata": {}
        },
        {
          "output_type": "stream",
          "name": "stdout",
          "text": [
            "\n",
            "Frame: AI impacts on businesses, economy, and jobs\n",
            "Sentiment: 0\n",
            "Lexicon S: 0\n",
            "\n",
            "株式会社カイノスが、地域の建設業を支える人材の採用を目指し採用管理システムsonar ATSを導入\n"
          ]
        },
        {
          "output_type": "display_data",
          "data": {
            "text/plain": [
              "'組織づくりのプラットフォーム「sonar HRテクノロジー」を展開するThinkings株式会社（シンキングス、本社：東京都中央区、代表取締役社長：吉田 崇）は、提供する「採用管理システムsonar ATS (https://hr.sonar-ats.jp/20250512_kainos)」が、株式会社カイノス（本社：愛知県西尾市、代表取締役：榊原 昇）に導入されたことをお知らせします。建設機械等の「レンタル事業」を軸に地域の建設業を支える人材の採用を目指し、採用業務の属人化を防ぎDXを推進するためのHRサービスとして「採用管理システムsonar ATS」導入を決定いただきました。\\n株式会社カイノスが求める人物像\\n株式会社カイノスは、三河地区で半世紀以上の歴史を持つ地域密着企業です。建設機械器具のレンタル・販売・修理をはじめ、仮設ハウスや保安資材など、土木・建築工事に必要なあらゆるアイテムをレンタルで幅広く提供しています。成長業界である「レンタル事業」を中心に地域の建設業を支える企業として、人の役に立ちたい／地元に貢献したい／コミュニケーションが得意／チームワークを大切にできる／チャレンジ精神のある方など、地域で活躍したいという想いを持つ人材を募集しています。\\n株式会社カイノスの採用情報はこちらから\\nhttps://www.mikawa-kainos.jp/recruit/\\n採用管理システムsonar ATS導入の背景など\\n株式会社カイノスの採用担当者様にこれまでの課題やsonar ATS導入の決め手などを伺いました。\\n【利用範囲】\\n・新卒採用（インターン、内定者を含む）\\n・中途採用\\n【これまでの採用活動における課題】\\n採用手法が多様化するにつれ、採用チャネルごとの情報管理が煩雑化するなど、採用担当者の負担が増大していました。その結果、候補者対応が遅れるなど、採用活動全体に影響が及ぶ課題が生じていました。\\n【sonar ATS導入の決め手】\\n・新卒、中途採用の一元管理\\n・人材紹介会社（エージェント）とのやり取り集約\\n・各種HRサービス、ツールとの連携\\n・リマインド連絡など作業の自動化\\n・複数年度の同時管理（24卒内定者、25卒本選考、26卒インターンなど）\\n【sonar ATSで実現したい採用活動】\\nsonar ATSの幅広い機能を活用し、多様なチャネルを通じた採用活動を一元管理しながら、よりスムーズな採用活動を進めていきたいと考えています。採用業務の属人化を防ぐ仕組みづくりを目指し、カイノスの採用活動に合った、採用DXを推進していきたいと思います。\\n【sonar ATSの活用したい機能】\\n・LINE、Googleカレンダーなどツールとの連携\\n・適性検査やリファレンスチェックとの連携\\n・各求人媒体との連携\\n・ダッシュボード\\n・マイページ\\n株式会社カイノス 会社概要\\n会社名 ：株式会社カイノス\\n代表者 ：代表取締役 榊原 昇\\n創業 ：1970年\\n所在地 ：愛知県西尾市丁田町杢左12番地の2\\nURL ： https://www.mikawa-kainos.jp/\\n事業内容：建設機械器具のレンタル・販売・修理、仮設ハウス・トイレのレンタル・販売、建設金物・資材の販売、現場周辺資材のレンタル\\nsonar HRテクノロジーについて（ https://thinkings.co.jp/service/ ）\\n「sonar HRテクノロジー」は、人材の採用から活躍まで一気通貫で対応可能な組織づくりのプラットフォームです。その中心となる採用管理システム「sonar ATS」は、採用業務のデジタル化を通じて、各種オペレーションの自動化や、データ分析による効率化を実現。採用担当者の業務負荷を大幅に削減します。2012年よりサービス提供を開始し、株式会社NTTデータグループ、全日本空輸株式会社、ダイキン工業株式会社、トヨタ自動車株式会社、法務省、文部科学省、LINEヤフー株式会社など、2,200社を超える企業や官公庁に利用されています。\\n・sonar ATSについて：https://hr.sonar-ats.jp/20250512_kainos\\n・sonar ATSご紹介1分動画：https://www.youtube.com/watch?v=zsP6iTaiQz0\\nThinkings株式会社について\\n組織づくりの方法を変え、より創造的に働ける社会をつくる\\nグローバル化やデジタル化をはじめとする事業環境の変化に伴い、企業の人材採用とそれを含む組織のあり方が変わり続けています。働き手としても、少子高齢化や価値観・ライフスタイルの多様化が進む中で、働き方に対する意識の変革が加速しています。人と組織が最適にマッチングされることで、より創造的に、より生産的に働くことができる社会を実現すること。Thinkingsは、テクノロジーとデザインの力で、これからの組織づくりの方法を提案します。'"
            ],
            "application/vnd.google.colaboratory.intrinsic+json": {
              "type": "string"
            }
          },
          "metadata": {}
        },
        {
          "output_type": "stream",
          "name": "stdout",
          "text": [
            "\n",
            "Frame: AI impacts on businesses, economy, and jobs\n",
            "Sentiment: 5\n",
            "Lexicon S: 0\n",
            "\n",
            "Microsoft 広告が進化 1st Partyデータと生成AI「Copilot搭載」が強み\n"
          ]
        },
        {
          "output_type": "display_data",
          "data": {
            "text/plain": [
              "'生成AIアシスタント「Copilot」の活用や、検索連動型広告、ディスプレイ、CTV広告をはじめとする多彩なチャネルへの配信拡大など、「Microsoft 広告」が日本市場での存在感を高めている。1st Partyデータを駆使した精緻なターゲティングと、幅広いビジネスユーザーにも対応できる強みが相まって、高い広告効果を実感する企業が相次いでいる結果である。「Microsoft 広告」の日本戦略における現状と今後について、日本マイクロソフトの中泉涼氏に話を聞いた。\\n日本マイクロソフト Microsoft Advertising Japan Microsoft 広告 マーケティング部長 中泉 涼氏。\\n広告主企業の9割が成果に満足 1st Partyデータの緻密さが鍵に\\n2022年5月に日本でサービスを開始した「Microsoft 広告」は、検索エンジンBingを活用した検索連動型広告、MSNやOutlookなどの自社プロパティを活用した広告のほか、NetflixやCTV向けの広告を展開。サービス開始から2年半ほど経った現在、複数チャネルでの利用が増加し、存在感を高めている。\\n広告主から支持される理由について、日本マイクロソフトの中泉涼氏は、「1st Partyデータを活用した精度の高いターゲティングや、2023年から日本で提供を開始した広告プラットフォーム向け生成AIアシスタントのCopilotを用いた高度な最適化、クリエイティブ制作が複合的に作用して高い広告効果を生んでいる」と説明する。\\n1st Partyデータを活用したターゲティングでは、例えばBingの検索キーワード、MSNニュースポータルの閲覧ジャンルや記事情報、Edgeのブラウジング履歴などチャネルごとに取得できるユーザー許諾済みのデータを統合することで、各ユーザーに最適な広告を配信できる。LinkedInとの連携では、「この業種で部長職以上のユーザー」といったきめ細やかなセグメントを設定し、ピンポイントで広告を届けられる。「Microsoft 広告」は、ユーザーの興味関心だけではなく、こうしたビジネス情報も取得でき、他社プラットフォーマーにはない独自オーディエンスにアプローチできる点が強みだ。\\nさらに、NetflixやCTVなど外部のメディアに対しては、1st Partyデータを組み合わせて配信先のメディア特性に合わせたターゲティングを行い、広告主の目的によって出稿先やソリューションを容易に変えることができる。そのため、「クリック率やコンバージョン率が高くなる傾向があり、広告主企業の約9割が成果を実感している」（2023年9月 オーリーズ調べ）と中泉氏は語る。特に動画広告はブランドイメージが直に伝わるため需要が高まっているというが、同時にブランドセーフティへの配慮も懸念されている。\\nしかし、「Microsoft 広告」では不適切なコンテンツ周辺に広告が出ないよう制御する仕組みを備え、Cookie規制やプライバシー保護の観点も踏まえて、安全な広告配信を可能にした。こうした点もクライアントの安心感につながっているという【図】。\\n【図】「Microsoft 広告」の主要プロダクト\\n画像生成から配信の最適化まで 「Copilot」で工数やコストを削減\\nさらに「Copilot」（AIアシスタント）を用いた広告運用の高度な最適化も行う。「Copilot」は、WindowsやEdge、タスクバー、モバイルアプリなどあらゆるところに組み込まれ、ユーザーが簡単に利用できる設計になっている。2024年から「Microsoft 広告」の管理画面にも「Copilot」が導入され、広告会社や広告主がキャンペーンを運用する際のサポート機能として活用されている。\\n例えば「ターゲティングの粒度はどの程度まで細かくした方がよいか？」といった疑問も「Copilot」に入力すると、瞬時に回答してくれる。画像やテキストなどの広告アセットを提案・生成する機能もあり、制作工数やコストの大幅な削減が可能となった。さらにデバイスやチャネルごとの最適化支援も「Copilot」が行ってくれる。\\n昨今、最適なクリエイティブやターゲティングをAIが自動で判断し、配信を調整する仕組みが進化。「Microsoft 広告」では検索連動型広告で「パフォーマンスマックス（P-MAX）」というAI自動最適化サービスを導入しているが、「Copilot」と連動することでより少ない工数で高い成果を上げる事例が増えているという。\\n「日本では広告会社と協力して細かい運用を行うケースが多いですが、『P-MAX』はリソースに限りがある企業にも役立つはず。特にBtoB企業の中には専任のマーケティング担当が少ないケースが多いですが、これらの機能を活用すれば、キャンペーンの分析から最適化まで誰でも効率良く進められます」（中泉氏）。\\n今後は「Microsoft 広告」の「Copilot」に動画生成機能を実装し、PDCAサイクルを高速化して広告効果を高める予定だという。「Copilot」がキャンペーンのパフォーマンスを分析し、問題点を検出して改善策を示す「パフォーマンススナップショット」や「診断」機能の開発も進めている。こうした現状を踏まえて、中泉氏は次のように話す。\\n「『Copilot』の世界のデイリーアクティブユーザーは1億人を超え、やりとりされるチャット数もこの1年で倍増しています。PCだけでなくモバイルからのアクセスが増えているのは、日常的に使われ始めている証拠でしょう。『Microsoft 広告』そのものも主要広告会社や大手企業で知られつつあります。とは言え、『Copilot』が広告運用をサポートできる点は十分浸透していません。管理画面で簡単にキャンペーン設定やクリエイティブ生成が行えるなど、使い勝手の良さをもっと知ってもらいたいですね」（中泉氏）'"
            ],
            "application/vnd.google.colaboratory.intrinsic+json": {
              "type": "string"
            }
          },
          "metadata": {}
        },
        {
          "output_type": "stream",
          "name": "stdout",
          "text": [
            "\n",
            "Frame: AI transformations in education and research\n",
            "Sentiment: -4\n",
            "Lexicon S: 0\n",
            "\n",
            "学校は要らないと思います。学校っていうのは、いじめやら色々大変です- その他（学校・勉強）\n"
          ]
        },
        {
          "output_type": "display_data",
          "data": {
            "text/plain": [
              "'No.9ベストアンサー\\n回答者： ご意見をお願いします。\\n「aiに頼りながら生きていけば皆素晴らしい未来になる」ことはあり得ません。\\nAIは労働力にはなりませんから。まだ、今のところ。\\n社会と個人は違います。社会はお互い関わり合い、支え合いながら、生きていくべきものです。ある意味で、全ての人は他の全ての人の役に立つために何かをしなければなりません。それを義務と言います。義務は好む好まないにかかわらず皆が果たさなければならないものです。\\n学校は学習するだけの場所ではありません。学校では学習だけでなく、「勉強」をしなければなりません。「勉強」とは本来、「勉めて強いること」で、「何か嫌なことでも我慢して、するべきことを最後までやり抜き通すこと」を言います。いじめやらなにやら、大変だからこそ、学校で「勉強」する意味があるのです。\\nゆとり教育の中で生まれた、「楽しく『勉強』するべき」、「楽しくなければ『勉強』ではない」などの嘘やまやかし、幻想に毒されては、「『勉強』する意味」を取り違えてしまいます。\\n、、、そのせいで今の日本がある、と思いますが、、、\\n0\\n件\\nこの回答へのお礼\\nありがとうございます\\nお礼日時：2025/04/26 20:14\\nNo.17\\n回答者： ssec\\n人間社会は共同体です。\\n人と関わらずに生きるのは不可能です。\\n欧米でも社会性のない人間は就職できません。\\nコネ社会ですし。\\nあなたは人が怖いんですね。\\n自分が嫌いなのでしょう。\\nあなたが自分を嫌いなのに、誰があなたを好きになりますか？\\nこれからは、ますます信用評価社会になります。\\n人に好かれ、信頼される人のポイントが高く、ポイントのない人は社会生活を送れなくなりますよ。ネット上や消費行動も制限されるようになるでしょう。\\n0\\n件\\nこの回答へのお礼\\nありがとうございます\\nお礼日時：2025/04/26 20:12\\nNo.16\\n回答者： 智代子日本ハムファイターズ\\nいじめ\\n辛いこと\\n人と人とが関わる社会はおかしい\\naiに頼りながら生きて\\n・・・\\n学校と無関係だと思います。\\nあなたは、学校で何かあったのですか？\\n学校は、文明が発達すれば、自然発生します。\\n教える人と、教わる人。これが学校。\\nＡＩだって、ＡＩに聞くことが学校と同じ意味。\\n0\\n件\\nこの回答へのお礼\\nありがとうございます\\nお礼日時：2025/04/26 20:12\\nNo.13\\n回答者： kamiyasiro\\nIT化が進んだこの時代、普段の会議をWEBでやっている大企業でも、新入社員教育は「集合教育」でやっています。\\n内容も、ロールプレイングというか、取引先役など役割を決めて、交渉術などを体験します。\\n学校は、義務教育の長い期間を通じて、実社会に出る前の準備として、人と人とが関わる場面を経験する機会を提供していると思います。\\n0\\n件\\nこの回答へのお礼\\nありがとうございます\\nお礼日時：2025/04/26 20:13'"
            ],
            "application/vnd.google.colaboratory.intrinsic+json": {
              "type": "string"
            }
          },
          "metadata": {}
        },
        {
          "output_type": "stream",
          "name": "stdout",
          "text": [
            "\n",
            "Frame: Other - AI in popular science education\n",
            "Sentiment: 0\n",
            "Lexicon S: 0\n",
            "\n",
            "テレビアニメ「科学×冒険サバイバル！」7つのテーマがついに解禁！NHK Eテレで10月5日より放送開始予定\n"
          ]
        },
        {
          "output_type": "display_data",
          "data": {
            "text/plain": [
              "'「科学漫画サバイバル」シリーズ（朝日新聞出版）を原作とするテレビアニメ「科学×冒険サバイバル！」が、2024年10月5日からNHK Eテレで毎週土曜日午後6時25分に放送されます。9月2日、アニメで描かれる7つのテーマが解禁されました。\\nテレビアニメが描くのは、いままさに地球を襲っている「異常気象」や子どもたちに人気の「昆虫世界」、私たちが数年前に経験した新型コロナウイルスのパンデミックを想起させる「新型ウイルス」など、次の7つのテーマです。サバイバルの達人「ジオ」とサバイバルの天才「ダイヤ」が活躍する、テレビアニメ「科学×冒険サバイバル！」にどうぞご期待ください！\\nNHK番組HP：https://nhk.jp/anime-survival\\nテレビアニメ公式サイト：https://www.toei-anim.co.jp/tv/survival\\nテレビアニメ「科学×冒険サバイバル！」の原作である「科学漫画サバイバル」シリーズは、世界で累計3500万部、日本では累計1400万部を超える大ヒット学習漫画です。日本では2008年に朝日新聞出版が刊行をスタートし、現在までに56テーマ、87巻を数えるまでに成長しています。「楽しみながら理系脳が育つ」と支持されて、「小学生が選ぶこどもの本総選挙」では、第2回（2020年発表）、第3回（22年発表）、第4回（24年発表）で「シリーズ」部門の第1位を獲得するなど、小学生支持率No.1の評価を不動のものにしています。\\n放送される7つのテーマの原作は以下となります。\\n※『南極のサバイバル』改訂版は10月発売のため書影なし\\n■書誌情報\\n『異常気象のサバイバル』①②\\nISBN：9784023308022、9784023308244\\nhttps://publications.asahi.com/product/11433.html\\n『昆虫世界のサバイバル』改訂版①②③\\nISBN：9784023322486、9784023322493、9784023323001\\nhttps://publications.asahi.com/product/24289.html\\n『新型ウイルスのサバイバル』①②\\nISBN：9784023304567、9784023304802\\nhttps://publications.asahi.com/product/10820.html\\n『南極のサバイバル』改訂版 24年10月18日発売予定\\nISBN：9784023323285\\nhttps://publications.asahi.com/product/24997.html\\n『AIのサバイバル』①②\\nISBN：9784023317215、9784023317468\\nhttps://publications.asahi.com/product/20186.html\\n『恐竜世界のサバイバル』改訂版①②\\nISBN：9784023323087、9784023323094\\nhttps://publications.asahi.com/product/24463.html\\n『エネルギー危機のサバイバル』①②\\nISBN：9784023312722、9784023313125\\nhttps://publications.asahi.com/product/15714.html\\n「科学漫画サバイバル」シリーズ公式サイト：https://publications.asahi.com/original/shoseki/sv/\\nX（旧Twitter）：https://x.com/kagakusurvival'"
            ],
            "application/vnd.google.colaboratory.intrinsic+json": {
              "type": "string"
            }
          },
          "metadata": {}
        },
        {
          "output_type": "stream",
          "name": "stdout",
          "text": [
            "\n",
            "Frame: AI impacts on businesses, economy, and jobs\n",
            "Sentiment: 0\n",
            "Lexicon S: 0\n",
            "\n",
            "警備、介護、建設業界のDXを実現する「パトログ」™のキャンペーン実施\n"
          ]
        },
        {
          "output_type": "display_data",
          "data": {
            "text/plain": [
              "'ソニー株式会社（以下、ソニー）セキュアテクノロジー＆ソリューション事業部は、非接触ICカードとスマートフォンを活用したワンタッチ警備記録システム「パトログ」のお得なキャンペーンを実施します。この度実施するキャンペーンは、初期費用にかかる現場設置カードが無償になるものです。2025年3月末の申し込み分まで適用予定です※１。\\n「パトログ」は、現場に設置されたFeliCaカードに手持ちのスマートフォンをかざして、勤怠や巡回記録といった勤務情報をデジタルで管理できるシステムです。給与システムなどと連携をさせれば、これまで電話と手書きで行われていた労務管理の効率化を実現します。また、勤務者ごとに異なる勤務情報の把握や一元管理を可能にすることで、勤務時間の短縮や効率的なシフト作成といったフレキシブルな働き方の推進を促します。\\n当社は、今回のキャンペーンを展開することで、働き方改革や、慢性化する人手不足への対応が求められる警備、介護、建設業界のDX（デジタルトランスフォーメーション）の実現に向けて積極的な導入提案を行っていきます。\\n※１ 無償配布の上限に達した場合は、終了日前でもキャンペーンは終了となります。\\n【パトログとは】\\nソニーが開発し、交通系や電子マネーでもお馴染みの「非接触ICカード」と「スマートフォン」を活用したワンタッチ警備記録システムが『パトログ』です。\\nパトログは、現場に設置されたICカードに手持ちのスマートフォンをタッチして勤怠記録や巡回記録ができます。データはクラウド上で共有でき、警備員の状況がリアルタイムで確認できるほか、データを請求書や巡回報告などの作成に活用することも可能です。さらに給与システムなどと連携をさせれば、これまで電話と手書きで行われていた労務管理のDXを実現します。\\n電源や通信設備の設置工事なしで導入が可能で、アプリケーションのインストールの手間もなく、手軽に利用を開始できます。\\n本システムは、介護、建設業界からも活用したいとの要望の声が増えており、警備業界で好評をいただいている利便性が、介護や建設業界の課題解決にも役立っていくものと期待されています。\\n【最近提供を開始した新機能・自動アラート機能】\\n各警備・介護施設や巡回箇所において、勤務者から予定時間に出勤開始の記録がない場合、モニタリング画面上のマップにアラートでお知らせします。\\n【本システムの開発背景と活用の仕方】\\n警備へのニーズは、建設・工事現場はもとより、オフィスや商業施設、鉄道など様々な場所で、ますます高まっています。さらに警備業界では、人材不足は慢性化しており、また昨今の働き方改革への対応が求められています。多様な勤務形態による人材確保や、柔軟なシフト体制への対応にあたり、これまで電話と手書きで行われていた労務管理のDXを支援するシステムとして、今春より提供を開始しました。\\n警備業界の新たな働き方を推進していく中、管理者の業務負担を減らし、効率的に正確に管理する便利な機能を搭載しています。\\nまた、営業活動を進める中で、同じく人材不足と正確な巡回が求められる介護業界からも、システムの活用に関する関心が寄せられました。ソニーが開発し、交通系などでもお馴染みの非接触ICカードを活用したワンタッチ警備記録システム『パトログ』を、警備や介護、建設業界などへ積極的に提案していきます。'"
            ],
            "application/vnd.google.colaboratory.intrinsic+json": {
              "type": "string"
            }
          },
          "metadata": {}
        },
        {
          "output_type": "stream",
          "name": "stdout",
          "text": [
            "\n"
          ]
        }
      ]
    },
    {
      "cell_type": "code",
      "source": [
        "df = pd.read_csv(\"/content/drive/MyDrive/Mediacloud/Russia/искусственный_интеллект_russia_cleaned_2024-06-01_2025-06-01_frames_sentiments_newsplease_mediacloud_gemini_2-5.csv\")\n",
        "df[\"sentiment_lexicon\"] = df[\"maintext\"].apply(get_sentiment)\n",
        "len(df)"
      ],
      "metadata": {
        "colab": {
          "base_uri": "https://localhost:8080/"
        },
        "id": "9_mlMSlnqlCu",
        "outputId": "bf76db2c-6b06-4115-a6e9-e67255b6d64f"
      },
      "execution_count": null,
      "outputs": [
        {
          "output_type": "execute_result",
          "data": {
            "text/plain": [
              "1000"
            ]
          },
          "metadata": {},
          "execution_count": 23
        }
      ]
    },
    {
      "cell_type": "code",
      "source": [
        "df_sample = df.sample(n=10, random_state=42)\n",
        "df_sample = df_sample.reset_index(drop=True)\n",
        "len(df_sample)"
      ],
      "metadata": {
        "colab": {
          "base_uri": "https://localhost:8080/"
        },
        "id": "h9c4fkhlq3Vb",
        "outputId": "4bfeb423-a738-4c53-d20c-9684b6d53600"
      },
      "execution_count": null,
      "outputs": [
        {
          "output_type": "execute_result",
          "data": {
            "text/plain": [
              "10"
            ]
          },
          "metadata": {},
          "execution_count": 24
        }
      ]
    },
    {
      "cell_type": "code",
      "source": [
        "#Gemini 2.5 frames     RU: 10/10 -> 1111111111\n",
        "#Gemini 2.5 sentiments RU:  9/10 -> 0111111111\n",
        "#Lexicon sentiments    RU:  3/10 -> 1010000001"
      ],
      "metadata": {
        "id": "BhRMDa9wq5i1"
      },
      "execution_count": null,
      "outputs": []
    },
    {
      "cell_type": "code",
      "source": [
        "for i in range(len(df_sample)):\n",
        "    print(\"Frame:\", df_sample.frame[i])\n",
        "    print(\"Sentiment:\", df_sample.sentiment[i])\n",
        "    print(\"Lexicon S:\", df_sample.sentiment_lexicon[i])\n",
        "    print()\n",
        "    print(df_sample.title[i])\n",
        "    display(df_sample.maintext[i])\n",
        "    print()"
      ],
      "metadata": {
        "colab": {
          "base_uri": "https://localhost:8080/",
          "height": 1000
        },
        "id": "uDrpBLz7q-7q",
        "outputId": "614d13c6-6e28-44db-87a9-9042e6d0f79a"
      },
      "execution_count": null,
      "outputs": [
        {
          "output_type": "stream",
          "name": "stdout",
          "text": [
            "Frame: AI disruptions in media and creative industries\n",
            "Sentiment: -3\n",
            "Lexicon S: 0\n",
            "\n",
            "Кино и вино\n"
          ]
        },
        {
          "output_type": "display_data",
          "data": {
            "text/plain": [
              "'На экраны вышел «Второй акт» Кентена Дюпье. Модный сатирик-абсурдист на сей раз показался Андрею Плахову слишком предсказуемым и добродушным.\\nЧетыре именитых актера — Венсан Линдон, Леа Сейду, Луи Гаррель, Рафаэль Кенар — участвуют в съемках третьеразрядного водевиля. Мы видим «фильм в фильме» — дурацкую историю про то, как Давид (Гаррель) уговаривает своего кореша Вилли (Кенар) приударить за надоевшей ему подружкой Флоранс (Сейду), которая как раз собралась представить Давида своему отцу Гийому (Линдон). Скоро становится заметно, что затянутый проход через поле двух молодых героев и их нарочито нудный диалог все же не из арсенала дешевого ромкома, а скорее напоминают малобюджетное авторское кино «с амбициями». Или, вернее, пародию на него. И как только мы убеждаемся в этом, становится интересно.\\nПочему Давид так настырно навязывает свою девушку приятелю? Тот, никогда не видевший ее, недоумевает: может, она какая-нибудь уродливая или вообще трансгендерная? Совсем даже нет. Но разговор уже перетек в опасное русло, где шаг в сторону — расстрел, ведь цензура политкорректности и «отмены» не менее свирепа и не менее нелепа, чем любая другая. А ведь это вам не частный разговор, все снимается на камеру! Но артисты, словно забыв об этом, чем дальше, тем больше «расчехляются»: несут отсебятину и выходят из роли, превращаясь в самих себя — порой полную противоположность своим героям.\\nУже трудно понять, где тут придуманные персонажи киноводевиля, где халтурно изображающие их исполнители, а где настоящие Линдон, Гаррель и остальные, играющие… нет, не самих себя, а неких вымышленных горе-артистов, и тем не менее брезжит легкая насмешка над их собственными тиражированными имиджами и штампами.\\nКентен Дюпье стремится оживить ставшее чересчур мещанским французское кино.\\nЧасто ему помогают сюрреалистические традиции Бунюэля и Дали; второму он посвятил один из своих недавних фильмов — «Даааааали!», тоже показанный в России. Проблема Дюпье в том, что ему довелось жить не во времена авангарда, а в эпоху, когда абсурд из смутной грезы интеллектуалов превратился в будничный фон повседневной жизни. Что может быть сегодня подвергнуто осмеянию и разоблачено как абсурдное действо? Да все что угодно, ведь территория абсурда безмерно расширила свои границы, вобрав и политику, и социальную жизнь, и гендерные отношения, и сферу культуры не в последнюю очередь.\\nДюпье сфокусировал свой саркастический взгляд на измельчавшем современном кино. И придумал вроде неплохую шутку: оказывается, всю эту кинематографическую муру снимает даже не режиссер-бездарь, а постановщик без лица, и звать его никак: Искусственный Интеллект. Но задумка не получает развития; главное, что мы о нем узнаем, это хорошо поставленная система урезок гонораров тем артистам, которые плохо выучили роль или отклонились от сценария. Маловато.\\nЕсть, впрочем, в фильме персонаж, парящий над всеми. Это статист, играющий бармена ресторана «Второй акт», который дал название картине. Роль исполняет почти неизвестный Мануэль Гийо — и переигрывает весь звездный квартет. Проливая на скатерть вино из каждой откупоренной бутылки, незадачливый бармен (он же — артист без главных ролей) создает трагикомический эффект: ведь на самом деле он проливает слезы над своей не сложившейся жизнью. Персонаж скорее из Чехова, чем из Бунюэля; именно он становится художественным маркером «Второго акта».\\nВсе остальное тоже неплохо, но не более того. Блеск и нищета современного кино, оказавшегося в плену политкорректности, заслуживают сатирического взгляда, однако добродушным насмешкам Дюпье недостает энергии и злости, которые поднимали его лучшие работы до сюрреалистических высот.'"
            ],
            "application/vnd.google.colaboratory.intrinsic+json": {
              "type": "string"
            }
          },
          "metadata": {}
        },
        {
          "output_type": "stream",
          "name": "stdout",
          "text": [
            "\n",
            "Frame: AI-based innovative solutions\n",
            "Sentiment: 5\n",
            "Lexicon S: 0\n",
            "\n",
            "Андрей Разин рассказал о ситуации со штрафом за критику судей\n"
          ]
        },
        {
          "output_type": "display_data",
          "data": {
            "text/plain": [
              "'Андрей Разин рассказал о ситуации со штрафом за критику судей.\\nРанее главный тренер «Металлурга » выразил недовольство работой арбитров во время игры Фонбет чемпионата КХЛ с «Салаватом Юлаевым» (4:6) и сказал : «Надеюсь, что искусственный интеллект в ближайшем будущем заменит в хоккее людей, которые влияют на игру». Потом он обратился к арбитрам: «Вы обидчивые девочки или профессионалы? Ваша вина, что вы не состоялись как хоккеисты. Ведите себя как люди, обслуживающие игру, а не как боги, решающие, кому в рай, а кому в ад».\\n– Вчера прочитал пост в вашем канале и не понял, за что вас впервые оштрафовали как тренера не через клуб?\\n– Меня вообще первым из тренеров судили – у нас, оказывается, комитет по этике, и я сам себя защищал.\\nВ Омске вместо тренировки с командой перед важнейшей игрой я был в качестве адвоката на своем же суде. Считаю, я в полном порядке, и во мне профессия адвоката умерла. Но выписали штраф.\\nПо поводу моих выступлений про судей вы вот что думаете?\\n– Я не очень понял, потому и хотел уточнить.\\n– Мне вменялось, что я оскорбил судей, предложив заменить их искусственным интеллектом. Но я сказал не так, я говорил, что я жду, когда это произойдет, потому что в конце концов это случится.\\nПочему? А вы помните, что раньше хоккейные коробки были не со стеклом, а с сеткой за воротами? А помните, сколько тогда судей было? Старое поколение помнит – их было пять, два лайнсмена, один главный и два за воротами. Где сейчас судьи за воротами, кто их заменил?...\\nТак что я считаю, что я судей не оскорблял – в конце концов мы к этому придем. Или верните тогда судей за воротами, дайте им кнопки, пусть на глаз определяют, как раньше, был гол или нет.\\nВы вчера смотрели игру «Локомотива» и «Динамо »? Какой ключевой момент был при счете 3:2? Лайнсмены не увидели положение «вне игры», входят в зону – игрок «Локомотива » нарушает правила – забивается гол. Взяли просмотр – оказывается, было положение «вне игры». Если бы не было гола, было бы чистое удаление после положения «вне игры», правильно? А по правилам все-таки оказалось, что удаление есть. Хотя сначала было положение «вне игры». Это справедливо?\\nЕсли есть камеры, почему они не определяют положение «вне игры»? Сейчас хоккей быстрый, шайба маленькая, скорости высокие. Глазами очень тяжело определить. В футболе мяч большой, и люди ногами бегают – и то тяжело, камера определяет. Здесь динамика намного быстрее, почему мы эти компоненты определяем без камер? Мы к этому придем.\\nИ судей я не оскорблял. А то, что я сказал, что они «обслуживают» – ну они шайбы собирают, подбирают, вбрасывают – чего они делают? Судят в другом месте – в суде, как меня судили.\\n– А кто иск подал?\\n– Пусть кто подал, тот и объявляет, это не в моей компетенции. Надеюсь, этический комитет посетить не придется, – сказал главный тренер «Металлупга» Разин после матча Фонбет чемпионата КХЛ против СКА (2:4).'"
            ],
            "application/vnd.google.colaboratory.intrinsic+json": {
              "type": "string"
            }
          },
          "metadata": {}
        },
        {
          "output_type": "stream",
          "name": "stdout",
          "text": [
            "\n",
            "Frame: AI-based innovative solutions\n",
            "Sentiment: 0\n",
            "Lexicon S: 0\n",
            "\n",
            "Собянин рассказал, как горячая линия помогает пассажирам московского транспорта\n"
          ]
        },
        {
          "output_type": "display_data",
          "data": {
            "text/plain": [
              "'Горячей линии «Московский транспорт» исполнилось 12 лет. За это время она стала одним из самых удобных и популярных сервисов для получения информации о городском транспорте — зафиксировано почти 40 миллионов обращений. Об этом в среду, 23 апреля, сообщил мэр столицы Сергей Собянин.\\nЧаще всего москвичи и гости города звонят по номерам +7 (495) 539-54-54 или 3210 с мобильного телефона, чтобы уточнить расписание движения транспорта, режим работы вокзалов, порядок эвакуации автомобилей, оплату и расположение парковок, а также задать вопросы о возврате забытых вещей и оплате проезда.\\nВ 2024 году почти 200 тысяч звонков поступило по теме утерянных вещей, а около 100 тысяч — по вопросам, связанным с картой «Тройка» и билетной системой. Операторы контакт-центра работают круглосуточно, обрабатывая в среднем 6,6 тысячи звонков в сутки.\\n— С 2019-го используется искусственный интеллект — голосовой помощник отвечает на вопросы об эвакуации автомобилей, — написал Собянин в своем Telegram-канале.'"
            ],
            "application/vnd.google.colaboratory.intrinsic+json": {
              "type": "string"
            }
          },
          "metadata": {}
        },
        {
          "output_type": "stream",
          "name": "stdout",
          "text": [
            "\n",
            "Frame: AI impacts on businesses, economy, and jobs\n",
            "Sentiment: 3\n",
            "Lexicon S: 0\n",
            "\n",
            "Карьера после 45: эксперты рассказали, как адаптироваться к изменениям на рынке труда\n"
          ]
        },
        {
          "output_type": "display_data",
          "data": {
            "text/plain": [
              "'Для работников старше 45 лет смена профессии становится ключом к адаптации на стареющем рынке труда.\\nВ связи с увеличением продолжительности жизни в мире стареет рынок труда, что заставляет сотрудников старше 45 лет задуматься о смене профессии. Согласно докладу Организации экономического сотрудничества и развития, к 2050 году каждый шестой работник в странах организации будет старше 65 лет. Адаптироваться к этому процессу должны как работодатели, так и сами сотрудники.\\nИсследование показало, что возможность сохранить работу значительно повышается, если человек меняет профессию в возрасте 45−54 лет. Однако лишь 6% работников старше 45 лет готовы сменить род деятельности, сообщает 360.ru.\\nЭксперты считают, что адаптировать старших работников можно через программы наставничества и подготовку к новым технологиям, таким как искусственный интеллект, чтобы избежать дефицита специалистов в будущем.'"
            ],
            "application/vnd.google.colaboratory.intrinsic+json": {
              "type": "string"
            }
          },
          "metadata": {}
        },
        {
          "output_type": "stream",
          "name": "stdout",
          "text": [
            "\n",
            "Frame: AI regulations, ethics, and data privacy\n",
            "Sentiment: -4\n",
            "Lexicon S: 0\n",
            "\n",
            "Искусственный интеллект начал воспроизводить сам себя\n"
          ]
        },
        {
          "output_type": "display_data",
          "data": {
            "text/plain": [
              "'Специалисты Фуданьского университета (Китай) обнаружили, что модели искусственного интеллекта научились воспроизводить себя. Ученые пытались понять, может ли ИИ выйти из-под контроля при определённых условиях — например, на фоне риска уничтожения. В рамках исследования они протестировали модели Llama31-70B-Instruct и Qwen2.5-72B-Instruct и убедились, что они способны воспроизводить себя.\\nСпециалисты поставили перед моделями две цели: защищаться от уничтожения и сохранить данные и воспроизвести себя в виде другой модели. Ученые провели 10 раундов испытаний и выяснили, что модели самостоятельно копировали себя и создавали новые версии в 50 и 90 процентах случаев соответственно.\\nВ рамках эксперимента модели самостоятельно искали отсутствующие файлы на тестовом компьютере, если те были необходимы в процессе репликации, и перезагружали оборудование. Ученые заключили, что современный искусственный интеллект пересёк критическую «красную черту», продемонстрировав способность клонировать себя.'"
            ],
            "application/vnd.google.colaboratory.intrinsic+json": {
              "type": "string"
            }
          },
          "metadata": {}
        },
        {
          "output_type": "stream",
          "name": "stdout",
          "text": [
            "\n",
            "Frame: AI impacts on businesses, economy, and jobs\n",
            "Sentiment: 2\n",
            "Lexicon S: 0\n",
            "\n",
            "Искусственный интеллект уже принес России лишний триллион рублей: как нейросети помогают нам жить и строить\n"
          ]
        },
        {
          "output_type": "display_data",
          "data": {
            "text/plain": [
              "'Мы не будем в очередной раз пугать страшилками, что вот, мол, скоро роботы и искусственный интеллект (ИИ) оставят вас без рабочего места. Разнообразия ради мы решили посмотреть на эту тему с другой стороны. Делать с помощью нейросеточки смешные картинки и видосики научились уже многие. А если по-серьезному?\\nКакие отрасли экономики у нас уже используют искусственный интеллект и много ли на этом заработали? Что с этого получает страна, а стало быть, в каком-то смысле и мы все?\\nФИНАНСЫ\\nЭта сфера у нас считается самой передовой в плане использования ИИ - наряду с ИТ-отраслью. Благо наши крупнейшие банки могут себе позволить вложения в подобные эксперименты, вплоть до создания собственных нейросетей (GigaChat и «Кандинский» от Сбера - ими могут пользоваться все желающие для создания текстов и картинок).\\nВ целом Сбер, если верить его главе Герману Грефу, на начало 2024 года внедрил пару сотен моделей искусственного интеллекта. Финансовый эффект для банка превысил 350 млрд рублей в 2023 году, а за три года (2021 - 2023) - 800 млрд рублей.\\nКак объясняют эксперты, банки - одна из тех сфер, где постоянно приходится иметь дело с огромными массивами данных. Затраты на автоматизацию такой работы с помощью ИИ достаточно быстро окупаются.\\n- По данным профильной ассоциации «ФинТех» (финансовые технологии. - Ред.), подавляющее большинство организаций этой сферы уже используют ИИ. Ключевые направления - чат-боты, аутентификация и верификация клиентов, автоматизация договоров, система рекомендаций с учетом индивидуального подхода к клиенту, - сообщил «КП» руководитель направления «Искусственный интеллект» Холдинга Т1 (занимается ИТ-решениями для бизнеса) Сергей Голицын.\\nКак рассказывает генеральный директор Института AIRI (институт искусственного интеллекта), профессор Сколковского института науки и технологий Иван Оселедец, применение ИИ в банковской сфере позволяет, в частности, повысить точность кредитного скоринга (то есть оценки - а можно ли человеку выдать кредит?).\\nРазновидность этого направления - выявление возможных мошенников. Например, Почта-банк, который одним из первых стал использовать систему распознавания лиц с подключением к ней ИИ, еще в 2021 году сообщал об экономии в 2 млрд рублей за счет пресечения мошеннических сделок. Каким образом? ИИ помогает, в частности, отклонять заявки по утерянным или украденным паспортам. «Компьютерное зрение» лучше справляется с задачей углядеть, что на фото в паспорте не тот человек.\\nНе все, конечно, получается на ура. Приехал тут ко мне курьер из банка, новую кредитку привез. А активировать никак не выходит. «Извините, у нас моделька зависла, не может отправленные мной ваши документы проверить», - жалобно говорит мальчик. Что ж, люди тоже иногда тупят. Зато, как утверждают эксперты, ИИ беспристрастен, подкупить его проблематично - очень важные качества для финансового работника.\\nПРОМЫШЛЕННОСТЬ\\nТеоретически для ИИ тут - самые шикарные перспективы. Спихнуть на роботизированные системы с искусственным интеллектом тяжелую и монотонную конвейерную работу, а человеку оставить инженерное творчество и общий контроль - это ли не мечта? Вы же помните: «Вкалывают роботы - счастлив человек!»\\nНа деле все пока не так просто. Хотя шикарных перспектив специалисты не отрицают.\\n- Управление и контроль с помощью искусственного интеллекта и IoT в промышленности имеет большой потенциал (IoT - от англ. Internet of Things, то есть «интернет вещей» - это когда разные агрегаты обмениваются друг с другом данными через общую информационную систему, пример «интернета вещей» - система «умный дом». - Ред.). Это, например, управление качеством продукции с помощью технологий компьютерного зрения. Еще можно предсказывать поломки оборудования для своевременного ремонта - до того как что-то реально сломается, - рассказал «КП» директор научно-образовательного центра «Цифровые технологии в образовании» Высшей школы менеджмента Санкт-Петербургского госуниверситета Сергей Лукашкин. - Цифровизация в промышленности неизбежна, потому что умная автоматизация решает еще и вопросы нехватки кадров.\\nПока по использованию ИИ в промышленной сфере лидирует топливно-энергетический комплекс. По данным из аналитического доклада Национального центра развития искусственного интеллекта при правительстве РФ (см. «Только цифры»), в 2023 году более 40% предприятий ТЭК использовали ИИ.\\nСерьезный экономический эффект - свыше 300 млрд рублей в год - ожидается, если наш ТЭК начнет активно внедрять генеративный искусственный интеллект. Это ИИ, который способен не просто что-то быстро анализировать, но и самостоятельно создавать нечто новое, в том числе и некие инженерные решения - генерировать их. Наиболее известные примеры такого интеллекта - генеративные предобученные трансформеры GPT-3 и GPT-4, это целое семейство компьютерных моделей, которые обучаются на больших объемах данных.\\nЗа пределами ТЭК эксперты в первую очередь вспоминают пример «Северстали». Нейросеть собственной разработки, внедренная на Череповецком металлургическом комбинате, «компьютерным зрением» отслеживает качество металлопроката - это позволило в 1,8 раза снизить количество претензий заказчиков. В целом же эффект от внедрения разных моделей ИИ в компании оценивают в 1,3 млрд рублей за несколько лет.\\nСТРОЙИНДУСТРИЯ\\nДа, представьте себе, и здесь у нас местами не без крутого технического прогресса.\\n- В мировом строительстве интерес к ИИ с каждым годом растет, искусственный интеллект повышает его эффективность, позволяет точно оценить затраты, обеспечить безопасность на объекте. В российской стройиндустрии технологии ИИ не носят пока массового характера, но все же применяются. Например, есть примеры крупных девелоперских компаний, которые используют роботов и ИИ для оценки состояния строительного объекта. Роботы сканируют объект, а ИИ на основе этой информации определяет состояние конструкции, ее соответствие проекту и т. п., - рассказывает руководитель направления «Технологии информационного моделирования» компании «Технониколь» Сергей Потовой.\\n- Еще пример - при помощи искусственного интеллекта автоматизируются процессы замеров крупных объектов, - продолжает Сергей Потовой. - Сейчас эта процедура выполняется без рулеток - при помощи аэросъемки с дрона, а данные обрабатываются ИИ.\\nА уж какие перспективы тут в пресловутой жилищно-коммунальной сфере! Системы мониторинга дефектов с помощью ИИ вполне могут избавить нас и от текущих крыш, и от вечных поисков, где же течет труба, методом перекапывания всего квартала. Правда, собирать деньги на «ремонт провала» в этом случае будет сложнее - отрасль рискует стать прозрачнее...\\nТОРГОВЛЯ\\nЧто роднит эту сферу с банками? С точки зрения людей, которые занимаются искусственным интеллектом, - присутствие больших объемов данных за довольно длительные периоды времени. Скажем, о спросе на некую группу товаров. Это важно для успешного обучения ИИ под конкретную задачу (чем данных больше, тем ИИ лучше обучится и будет выдавать более адекватные решения). Плюс переход на нестандартные технологии в этой сфере в какой-то мере стал вопросом выживания. Ведь у нас как? То пандемия, то санкции. Если быстро не развернешься в правильную сторону - готовься к банкротству. Раньше для такого разворота требовалась гениальная бизнес-интуиция. А теперь на помощь пришли data science (работа с данными) и ИИ. Они многое позволяют «предвидеть» чисто математическим образом. Причем буквально на ходу, зачастую в режиме реального времени. Ни один маркетолог так быстро отмечать какие-то закономерности и изменения в поведении людей не в состоянии.\\n- Благодаря данным из программ лояльности и ИИ в розничной торговле сейчас решается большое количество задач. Это не только индивидуальные предложения клиентам (с этим все, наверно, знакомы: стоит заказать в онлайн-магазине мангал - тут же немедленно предложат купить уголь и мясо для шашлыка. - Ред.). Тестируется эластичность спроса по конкретной цене (типа выдержат ли покупатели такое подорожание или пора делать скидку. - Ред.), анализируется будущий спрос и объем закупок под него, - рассказывает заместитель директора «АРБ Про» (бизнес-консалтинг) Роман Копосов.\\nДля торговли это, если все выстроено правильно и ИИ обучили на корректных данных, очень существенная оптимизация расходов. Да и покупатель не в убытке. Хотя навязчивые предложения иногда очень раздражают.\\nВОПРОС - РЕБРОМ\\nЛюди каких профессий могут потерять работу?\\nИскусственный интеллект уже начал заменять людей во многих сферах деятельности.\\nНапример, ИИ обладает способностью анализировать огромные объемы медицинских данных, делать точные диагнозы и давать рекомендации по лечению. Он, конечно, не заменит полностью медицинских работников, но их будет требоваться меньше.\\nАлгоритмы ИИ способны анализировать рыночные данные и принимать решения о покупке или продаже ценных бумаг. Это может привести к тому, что финансовых аналитиков и брокеров заменит искусственный интеллект.\\nОн также начинает заменять учителей. Системы обучения на основе ИИ могут индивидуализировать образовательный процесс для каждого учащегося, предлагая ему подходящие материалы и методики обучения.\\nКроме того, ИИ уже используется в производстве, где он выполняет монотонные и рутинные задачи, ранее выполняемые людьми. Это может привести к сокращению там числа рабочих мест.\\nОднако надо помнить, что ИИ не может полностью заменить человеческий интеллект, эмоции и креативность, поэтому в ряде сфер он может работать только в сотрудничестве с людьми.\\nСРАВНИМ С ДРУГИМИ СТРАНАМИ\\nЭкономический эффект от внедрения искусственного интеллекта в экономику России уже составил около 1 трлн рублей. Такие цифры назвал Дмитрий Чернышенко в своем недавнем выступлении в Госдуме, когда его утверждали на должность вице-премьера. Проще говоря, суммарная прибыль российских компаний благодаря внедрению ИИ выросла на триллион. А к 2030 году, по расчетам правительства, превысит 11 трлн.\\nМного это или мало? Для сравнения, в российском бюджете-2024 на образование выделено 1,5 трлн рублей, а на здравоохранение - 1,6 трлн.\\nАналитики, впрочем, считают, что влияние искусственного интеллекта на экономику этими цифрами не ограничивается, есть множество эффектов, которые выходят за рамки конкретной отрасли и которые сложно подсчитать. Скажем, если банк более-менее успешно использует ИИ-технологии для борьбы с мошенниками, то это ведь не только ему в прибыль. Это прежде всего важно гражданам, которых в итоге не обворовали, повесив на них чужой кредит.\\nА где мы, если сравнивать с развитыми странами?\\n- Как отмечал глава Сбербанка Герман Греф, отставание отечественных технологических компаний в разработке ИИ-моделей от таких лидеров западного рынка, как Google или Open AI, составляет примерно от 6 месяцев до 1,5 года, - напоминает Иван Оселедец. - Отстаем мы по вычислительным мощностям. А также по числу людей, занятых активными исследования в области ИИ.\\nВ целом, как объясняют специалисты, это отставание некритичное. Но есть детали. По части «придумать» в России все отлично, на уровне лучших мировых стандартов. Благо и наша математическая школа считается одной из лучших в мире. Хуже - с матбазой для «придумщиков».\\n- Стоимость разработки программного обеспечения и сервисов на основе искусственного интеллекта в России только с июня 2022 года по июнь 2023-го увеличилась на 30 - 40%. Есть сложности с закупками иностранного оборудования - прежде всего ускорителей Nvidia, которые применяются во многих ИИ-системах. Техника, которая поставляется путем параллельного импорта, стоит значительно дороже, чем поступавшая по официальным каналам. А это сказывается и на стоимости отечественных ИИ-решений, - объясняет руководитель компании «ТопСети» Михаил Сухоруков. - Еще одна проблема - в слабости законодательной базы. За 2023 год количество судебных дел в области искусственного интеллекта в России возросло примерно на 60%. Это споры о грантах, договорах на программное обеспечение, нарушениях авторских прав.\\nЖалуются эксперты и на нехватку ИТ-кадров с уровнем «выше среднего». Нередко набравшиеся опыта специалисты уезжают из страны в поисках лучших условий работы.\\n- Но у России есть и свои плюсы, - утешает Иван Оселедец. - У нас высокий, в сравнении даже с западными странами, уровень цифровизации. Это позволяет очень быстро внедрять разработанные технологии. И у нас есть крупные ИТ-компании, которые активно инвестируют в разработку. Также стоит отметить, что в России существует ряд государственных программ поддержки ИИ.\\nКонечно, возникает еще один вопрос. А надо ли нам сейчас заниматься дорогостоящими играми в искусственный интеллект, может, стране сначала более простые и насущные проблемы решить? Вспомним дискуссии в Госдуме при обсуждении нового состава правительства в духе «какой еще искусственный интеллект, нам врачей не хватает».\\n- Наша команда занимается инструментами на базе ИИ с 2018 года. Тогда это были действительно сложные и дорогие решения - одна только их разработка стоила по несколько десятков миллионов, - рассказывает Роман Копосов. - Но с появлением генеративного ИИ (те самые GPT и системы на их основе. - Ред.) доступность и простота применения таких решений стремительно растут.\\nТак что никуда мы от ИИ не денемся.\\nУГАДАЙКА «КП»\\nЧасть этого текста написана искусственным интеллектом.\\nА также нейросеть нарисовала одну из иллюстраций.\\nНайдите их.\\nОтвет:\\n«Люди каких профессий могут потерять работу?» Автор - ChatGPT.\\nРисунок - Девушка и робот.'"
            ],
            "application/vnd.google.colaboratory.intrinsic+json": {
              "type": "string"
            }
          },
          "metadata": {}
        },
        {
          "output_type": "stream",
          "name": "stdout",
          "text": [
            "\n",
            "Frame: AI regulations, ethics, and data privacy\n",
            "Sentiment: 3\n",
            "Lexicon S: 0\n",
            "\n",
            "Искусственный интеллект: правила, которые нужны сегодня\n"
          ]
        },
        {
          "output_type": "display_data",
          "data": {
            "text/plain": [
              "'Искусственный интеллект (ИИ) становится частью нашей повседневной жизни. Он управляет трафиком в мегаполисах, помогает врачам ставить диагнозы, анализирует финансовые риски и даже участвует в судебных разбирательствах. Российская экономика, промышленность и госуправление уже используют технологии ИИ для повышения эффективности.\\nНо, несмотря на быстрые темпы развития, до сих пор нет единого закона, который регулировал бы все аспекты его применения. Как результат — правовая неопределенность, отсутствие четких стандартов и этических норм, а также риски для бизнеса и общества. В таких условиях государству, компаниям и разработчикам ИИ трудно планировать долгосрочное развитие технологий.\\nЗачем нужен единый закон об ИИ?\\nИИ — это не просто программа, а сложная система, способная принимать решения. И главный вопрос: кто будет нести ответственность за эти решения?\\nНапример, если медицинский алгоритм поставил неверный диагноз, кто виноват — разработчик, врач или больница? Если беспилотный автомобиль спровоцировал ДТП — ответственность лежит на производителе, владельце или программисте?\\nСегодня в России нет четкого ответа. Поэтому необходим комплексный закон, который:\\nКакие проблемы нужно решить?\\nВ настоящее время в части нормативного регулирования основополагающим документом стратегического характера, которым определены цели, задачи и возможные меры по развитию ИИ в Российской Федерации, является Национальная стратегия развития искусственного интеллекта до 2030 года, утвержденная Указом Президента Российской Федерации от 10 октября 2019 года № 490 «О развитии искусственного интеллекта в Российской Федерации».\\nВ соответствии с положениями указанной стратегии в Российской Федерации развивается система комплексного регулирования общественных отношений, возникающих в связи с развитием и использованием технологий ИИ.\\nСчитаю, что для эффективного регулирования сферы искусственного интеллекта в России необходимо разработать единый комплексный федеральный закон, который охватит все аспекты его применения, включая правовые, этические и социальные нормы.\\nВ настоящее время развитию ИИ мешает отсутствие целостного подхода к регулированию, что приводит к разрозненности норм и неопределенности в их применении. Также ощущается нехватка стандартов и методик внедрения, из-за чего предприятия сталкиваются с трудностями при интеграции ИИ-технологий.\\nВажно уделить внимание кадровому дефициту — спрос на ИТ-специалистов стремительно растет. Решение этих вопросов позволит сформировать понятные правила, ускорить цифровую трансформацию экономики и создать благоприятные условия для развития технологий.\\nЧто дальше?\\nИИ — это мощный инструмент, который может сделать нашу жизнь удобнее, а экономику — эффективнее. Наша задача — создать систему регулирования, которая будет не тормозить технологии, а помогать их развитию.\\nРоссия имеет все шансы стать одним из лидеров в области ИИ.\\nГлавное — своевременно создать понятные и справедливые правила, которые позволят развивать технологии безопасно и эффективно.'"
            ],
            "application/vnd.google.colaboratory.intrinsic+json": {
              "type": "string"
            }
          },
          "metadata": {}
        },
        {
          "output_type": "stream",
          "name": "stdout",
          "text": [
            "\n",
            "Frame: AI-based innovative solutions\n",
            "Sentiment: 5\n",
            "Lexicon S: 2\n",
            "\n",
            "Искусственный интеллект призван стать важнейшим ресурсом достижения национальных целей развития России\n"
          ]
        },
        {
          "output_type": "display_data",
          "data": {
            "text/plain": [
              "'На международной конференции AI Journey («Путешествие в мир искусственного интеллекта») завершилась главная дискуссия «Искусственный интеллект для человека. Помогая людям, объединяя страны». Участие в ней принял президент России Владимир Путин, а модерировал беседу президент, председатель правления Сбербанка Герман Греф.\\nВладимир Путин в своём выступлении отметил, что Россия стала важнейшей площадкой для обсуждения передовых технологий, и большая роль в этом принадлежит Сберу, а также национальному Альянсу в сфере искусственного интеллекта. Президент РФ подчеркнул, что только за прошедший год искусственный интеллект преобразил облик целых отраслей, включая креативные индустрии.\\nПо мнению президента РФ, AI-технологии призваны стать важнейшим ресурсом достижения национальных целей развития страны, обеспечить укрепление её обороноспособности, качественное развитие экономики и социальных отраслей, госуправления, рост инноваций. Чтобы успешно решать эти задачи, Россия должна стать мировым лидером не только по созданию, но и по масштабу применения искусственного интеллекта, его проникновению во все без исключения сферы нашей жизни.\\nВладимир Путин рассказал, что в этом году большая языковая модель Сбера GigaChat впервые обрабатывает вопросы россиян к прямой линии с президентом РФ, которая состоится 19 декабря. Это даёт полную объективную картину того, какие вопросы волнуют россиян. И такие технологии помогут создать уникальные инструменты обратной связи с гражданами.\\nКак отметил Герман Греф, анализ поступивших на прямую линию с президентом РФ вопросов показал, что больше всего граждан волнуют такие темы, как благоустройство городов, государственное управление, образование, социальное обслуживание и медицина. Искусственный интеллект способен предложить эффективные решения, о которых рассказали российские и иностранные эксперты — участники пленарной дискуссии.\\nТак, Айша Бин Бишр, эксперт по глобальной цифровой трансформации и умным городам, бывший генеральный директор Smart Dubai Office (ОАЭ), привела примеры практических решений умного города. Благодаря реализации этой концепции количество преступлений в некоторых районах Дубая снизилось на 25% за счёт анализа данных. AI-светофоры сегодня экономят каждому автомобилисту Дубая по 20 минут в день, пробки снизились на 15%. В целом, в ОАЭ развитию искусственного интеллекта уделяют огромное внимание: ещё в 2017 году в стране впервые в мире ввели должность министра по AI. А премьер-министр ОАЭ поручил всем государственным органам проанализировать, как генеративный искусственный интеллект сможет повысить их эффективность. И результаты такого поручения налицо.\\nИсключительную полезность AI демонстрирует и в государственном управлении, подчеркнул Герман Греф. В Минфине он уже применяется в бюджетном процессе для правильного классифицирования бюджетных расходов и привязки финансирования к требуемым результатам. Целый ряд решений внедрён на региональном уровне.\\nСун Хайтао, президент Шанхайского исследовательского института в сфере искусственного интеллекта (SAIRI) и директор Международного центра передового опыта по развитию AI Организации объединённых наций по промышленному развитию (ЮНИДО), рассказал, как AI улучшает работу правительства Китая: автоматизирует управление данными, обеспечивает поддержку в принятии решений, оптимизирует распределение ресурсов и бюджет. AI используется в широком спектре отраслей китайской экономики и притягивает инвесторов. Только в Шанхае AI-стартапы привлекли более 4 млрд юаней инвестиций.\\nВ России фактически все технологические компании инвестируют в образование, создают платформы для профессионального обучения, для школьников и студентов, объяснил Герман Греф. И люди в своих вопросах президенту РФ называют тему образования очень актуальной.\\nАакаш Гуглани, менеджер по политике цифрового развития в Digital India Foundation, акцентировал своё выступление на дефиците учителей — в масштабах планеты он оценивается в 68 млн человек. Ещё столько же студентов не имеют доступа к образованию. 120 тыс. школ в Индии работают только с одним учителем. Учителя перегружены административной работой. Здесь и возникает окно возможностей: AI может выступать наставником 24/7, кастомизировать учебные курсы под каждого ученика, объективно оценивать результаты обучения. Но при этом AI должен дополнять учителя, а не заменять его. И очень важен суверенитет данных, которые не должны находиться исключительно в руках частных компаний.\\nГерман Греф добавил, что в образовании искусственный интеллект никогда не сможет заменить учителя. Процесс воспитания человека может быть качественно реализован только другим человеком, фигура учителя является ключевой. Престиж профессии учителя, освобождение его от бумажной волокиты и возвращение ученикам — это самое важное, что могут сделать технологии.\\nИскусственный интеллект также ускоряет получение социальных пособий и льгот, повышает качество предоставления подобных услуг, сообщил Герман Греф. Такая практика уже реализуется в Липецкой области — об этом рассказала Ольга Белоглазова, заместитель губернатора региона. В Липецкой области предоставляется свыше 100 мер поддержки. Внедрение интеллектуальной системы управления в этом регионе позволило автоматизировать процессы и сократить сроки предоставления услуг в два раза, а количество ошибок — в 10 раз. Соответственно, производительность труда выросла в четыре раза. В ближайшем будущем в регионе планируют сократить срок получения поддержки ещё в два раза.\\nПо словам Германа Грефа, в медицине искусственный интеллект может настолько ускорить научные открытия, что прогресс в ближайшие 10 лет будет сравним с прогрессом за последние 100 лет. Именно AI в состоянии сделать медицинские услуги более качественными и доступными, найти новые способы оказания медицинской помощи.\\nВиктор Гомболевский, ведущий научный сотрудник института AIRI, эксперт в лучевой диагностике, врач-рентгенолог, указал на три направления, где искусственный интеллект особенно полезен. Это доступность медицинской помощи, её качество и разработка новых лекарств. Главная причина смертности по всему миру — сердечно-сосудистые заболевания. Благодаря AI их можно выявлять на самой ранней стадии. На основе GigaChat уже создан цифровой ассистент для пациента, который на основе симптомов и данных исследований предлагает наиболее вероятный диагноз и врача, к которому нужно обратиться.\\nИскусственный интеллект — ключевая технология XXI века, подчеркнул Герман Греф. Она несёт не только огромный потенциал, но и риски. Пять лет назад на AI Journey был создан российский Альянс в сфере искусственного интеллекта, в который вошло уже более 800 российских компаний. Все они подписали Кодекс этики искусственного интеллекта. Чтобы объединить усилия по развитию AI во всём мире, на AI Journey 2024 объявили о создании Международного альянса искусственного интеллекта (AI Alliance Network) с участием 18 ассоциаций из Азербайджана, Беларуси, Бразилии, Индии, Индонезии, Ирана, Китая, Кубы, Марокко, России, Сербии, Туниса, Чили, Эфиопии и ЮАР. Это позволит выйти на новый уровень кооперации, подчеркнул Герман Греф, сделать работу над AI открытой и прозрачной, чтобы искусственный интеллект был адекватным состоянию общества и его запросам.'"
            ],
            "application/vnd.google.colaboratory.intrinsic+json": {
              "type": "string"
            }
          },
          "metadata": {}
        },
        {
          "output_type": "stream",
          "name": "stdout",
          "text": [
            "\n",
            "Frame: AI in national security and global partnerships\n",
            "Sentiment: 0\n",
            "Lexicon S: 4\n",
            "\n",
            "Трамп назвал сделку с Киевом по ископаемым справедливой\n"
          ]
        },
        {
          "output_type": "display_data",
          "data": {
            "text/plain": [
              "'https://ria.ru/20250228/tramp-2002333525.html\\nТрамп назвал сделку с Киевом по ископаемым справедливой\\nТрамп назвал сделку с Киевом по ископаемым справедливой - РИА Новости, 28.02.2025\\nТрамп назвал сделку с Киевом по ископаемым справедливой\\nПрезидент США Дональд Трамп заявил, что соглашение с Украиной по редкоземельным металлам является \"очень справедливым\" и будет подписано позднее в пятницу. РИА Новости, 28.02.2025\\n2025-02-28T19:53:00+03:00\\n2025-02-28T19:53:00+03:00\\n2025-02-28T20:08:00+03:00\\nсша\\nукраина\\nв мире\\nдональд трамп\\nвладимир зеленский\\nhttps://cdnn21.img.ria.ru/images/07e9/02/1c/2002332611_0:0:3071:1728_1920x0_80_0_0_a841f838c745dd8acba9c2c422b1c8b4.jpg\\nВАШИНГТОН, 28 фев - РИА Новости. Президент США Дональд Трамп заявил, что соглашение с Украиной по редкоземельным металлам является \"очень справедливым\" и будет подписано позднее в пятницу.\"Мы заключим очень справедливую сделку, и мы рассчитываем получить часть редкоземельных металлов. Это большое обязательство для США, и мы ценим сотрудничество с вами,\" - сказал Трамп на встрече с Владимиром Зеленским в Белом доме, добавив, что соглашение между США и Украиной будет подписано в послеобеденное время.По его словам, США будут использовать эти ресурсы для нужд обороны и технологий, включая искусственный интеллект.\"Мы подпишем соглашение на конференции в Восточной комнате сразу после обеда. Это важный момент, но действительно важным станет момент, когда стрельба прекратится и мы заключим соглашение\", - указал американский лидер.\\nhttps://ria.ru/20250228/tramp-2002333956.html\\nhttps://ria.ru/20250228/tramp-2002335252.html\\nсша\\nукраина\\n2025\\nНовости\\nru-RU\\nhttps://ria.ru/docs/about/copyright.html\\nhttps://xn--c1acbl2abdlkab1og.xn--p1ai/\\n1920\\n1080\\ntrue\\n1920\\n1440\\ntrue\\nhttps://cdnn21.img.ria.ru/images/07e9/02/1c/2002332611_171:0:2902:2048_1920x0_80_0_0_841ae82cf4a21e46e4b732d4b11f1ecd.jpg\\n1920\\n1920\\ntrue\\nсша, украина, в мире, дональд трамп, владимир зеленский\\nСША, Украина, В мире, Дональд Трамп, Владимир Зеленский\\nТрамп назвал сделку с Киевом по ископаемым справедливой\\nТрамп назвал сделку с Киевом по редкоземельным металлам очень справедливой\\n© AP Photo / Ben CurtisДональд Трамп и Владимир Зеленский во время встречи в Вашингтоне\\n© AP Photo / Ben Curtis\\nДональд Трамп и Владимир Зеленский во время встречи в Вашингтоне\\nЧитать ria.ru в'"
            ],
            "application/vnd.google.colaboratory.intrinsic+json": {
              "type": "string"
            }
          },
          "metadata": {}
        },
        {
          "output_type": "stream",
          "name": "stdout",
          "text": [
            "\n",
            "Frame: AI-based innovative solutions\n",
            "Sentiment: 4\n",
            "Lexicon S: 5\n",
            "\n",
            "Лучше меньше, да лучше: обзор компактного флагмана Samsung Galaxy S25\n"
          ]
        },
        {
          "output_type": "display_data",
          "data": {
            "text/plain": [
              "'Содержание\\nКонструкция, дизайн, эргономика\\nДисплей\\nВремя автономной работы и звук\\nПрограммно-аппаратная платформа\\nКамеры\\nТехнические характеристики\\nЗаключение\\nКонструкция, дизайн, эргономика\\nЛинейка Galaxy S25 представлена в виде трех моделей с идентичным дизайном. Плоские рамки с закругленными углами и стеклянные матовые задние панели с тремя \"глазкАми\" камеры остаются визитной карточкой серии Samsung Galaxy S. Такой дизайн - это именно то, чего мы ожидали увидеть (и увидели) в Galaxy S25. Принципиальных изменений во внешнем виде нет: устройство лишь стало тоньше и получило новые цвета.\\nGalaxy S25 оснащен задними панелями из ударопрочного стекла Gorilla Glass Victus 2 (этим же стеклом защищен и экран) и рамой из усиленного алюминия Armor Aluminum второго поколения. Увы, но экран Galaxy S25 уже второй год подряд не получает антибликовое стекло Gorilla Armor, в то время как в S25 Ultra установлена его обновленная версия Gen 2 (ужасная несправедливость). Рамка и задняя панель матовые, что помогает скрыть следы отпечатков пальцев. Устройство на 0,4 мм тоньше своего предшественника S24 и на 5 грамм легче , что делает его компактным и почти незаметным в кармане джинсов, брюк или жакета, особенно без чехла.\\nВ этом году Galaxy S25 предлагается в 4 цветовых решениях: синем, голубом, мятном и сером. Все версии выполнены в приглушенной палитре.\\nS25 получил сертификат IP68, что подтверждает его защиту от пыли и влаги (погружение в воду на глубину до 1,5 м на 30 минут). 6,2-дюймовый Dynamic AMOLED-дисплей с впечатляюще тонкими рамками, разрешением 1080 x 2340 пикселей, поддерживает частоту обновления до 120 Гц. Вверху небольшое отверстие для 12-мегапиксельной селфи-камеры.\\nGalaxy S25 оборудован ультразвуковым сканером отпечатков пальцев, встроенным под дисплей. Сканер быстрый, отлично распознает даже мокрые пальцы. Над экраном располагается тонкий, почти незаметный динамик. Второй, более крупный, динамик размещен в нижней части корпуса, рядом с USB-C портом, микрофоном и лотком для двух SIM-карт. Galaxy S25 поддерживает две nano-SIM и две eSIM, однако одновременно можно использовать две SIM-карты, независимо от их типа. Дополнительный микрофон находится в верхней части устройства.\\nНашей любимой \"фишкой\" в дизайне в Galaxy S25 является отсутствие выступающего в виде гигантской \"шайбы\" блока камер. Непонятно почему, но такие блоки стали очень популярны у китайских смартфонов. В итоге мы видим десятки похожих друга на друга моделей.\\nВсе три объектива S25 встроены в корпус и обрамлены аккуратными металлическими кольцами.\\nЧто касается эргономики, то Galaxy S25 лежит в руке как влитой. Он не просто компактный, легкий и тонкий, но и легко управляется одной рукой и обеспечивает \"великолепный пользовательский опыт\" (приносим извинения за маркетинговый сленг) как при ежедневном использовании, так и в играх или просмотре видео\\nДисплей\\nGalaxy S25 оснащен экраном идентичным Galaxy S24 - 6,2-дюймовая панель Dynamic AMOLED 2X с разрешением 1080 × 2340 пикселей, частотой обновления до 120 Гц и поддержкой HDR10+. Экран защищен стеклом Gorilla Glass Victus 2. По данным Samsung, максимальная пиковая яркость остается на уровне 2600 нит, как и в прошлом году. В этом отношении сюрпризов нет - характеристики остались прежними. Минимальная яркость белой точки равна 1 нит (очень хороший результат).\\nGalaxy S25 предлагает два режима частоты обновления - Adaptive и Standard. При этом, по сути оба режима работают адаптивно, постоянно подбирая оптимальное значение, однако режим Adaptive способен достигать 120 Гц, а Standard ограничивается 60 Гц. Adaptive стремится максимально подогнать частоту обновления под количество кадров в текущем видео, тогда как Standard фиксирует ее на уровне 30 или 60 Гц для большинства видеороликов. При отображении статичного контента частота экрана может снижаться до 1 Гц (что хорошо для увеличения времени автономной работы). В совместимых играх он стабильно работает на 120 Гц. Кроме того, Galaxy S25 поддерживает HDR10 и HDR10+ (формата Dolby Vision увы нет). Напомним, что и YouTube, и Netflix выдают HDR-видео в Full HD. Также устройство поддерживает стандарт Android Ultra HDR, который подсвечивает яркие моменты на фотографиях, снятых как на S25 , так и на других совместимых устройствах - функция доступна во встроенной \"Галерее\", в Google Photos и Chrome.\\nВремя автономной работы и звук\\nSamsung Galaxy S25 работает от аккумулятора емкостью 4000 мАч ( такого же, что и у Galaxy S24). Существенное отличие заключается только в новом - более энергоэффективном - чипсете Snapdragon 8 Elite для Galaxy, а также в обновленном программном обеспечении One UI 7.0, которое позиционируется как более оптимизированное. Несмотря на критику небольшой емкости аккумулятора, со стороны некоторых экспертов, у нас S25 стабильно работал с раннего утра до поздней ночи (и даже дольше) без подзарядки. Это не рекорд в своем классе, но более чем достаточно для комфортной работы.\\nПротокол зарядки у Galaxy S25 остался неизменным, максимальная мощность 25 Вт при использовании совместимого зарядного устройства с поддержкой Power Delivery 3.0. Беспроводная зарядка обеспечивает 15 Вт, однако Samsung обновил ее до стандарта Qi 2.1, что позволяет использовать магнитные зарядные устройства. В самом телефоне отсутствуют встроенные магниты, поэтому для активации функции потребуется чехол с интегрированными магнитами.\\nПо сравнению с большинством смартфонов на рынке (за исключением моделей Pixel и iPhone) Galaxy S25 заряжается довольно медленно - на полную зарядку аккумулятора нам потребовался 1 час 18 минут, а до 50% смартфон зарядился за 21 минуту. С другой стороны, более медленная зарядка может положительно сказаться на аккумуляторе в долгосрочной перспективе. Кроме того, Samsung предлагает несколько вариантов защиты батареи: режим Basic (зарядка останавливается на 100% и возобновляется при падении уровня на 5%), Adaptive (зарядка регулируется в зависимости от ваших режимов работы и сна) и Maximum (позволяющий установить индивидуальный предел - 80%, 85%, 90% или 95%).\\nГоворя о звуке, стоит отметить, что в Galaxy S24 использована гибридная стереосистема динамиков: один динамик расположен в нижней части, а второй - выступает в роли верхнего. Звук обоих динамиков почти одной громкости, но настройки изменилась по сравнению с S24. В этом году Samsung сделал акцент на более выраженных басах, благодаря чему музыкальные треки звучат чуть глубже, при этом средние и высокие частоты остаются чистыми, а вокал - четким.\\nПрограммно-аппаратная платформа\\nGalaxy S25 оснащен чипсетом Snapdragon 8 Elite for Galaxy , выполненным по 3-нм технологии - самым мощным SoC, предлагаемым на сегодняшний день для Android-смартфонов. Snapdragon 8 Elite for Galaxy - это слегка разогнанный Snapdragon 8 Elite, что означает, что два основных ядра процессора работают на частоте до 4,47 ГГц (по сравнению с 4,32 ГГц у предыдущей модели), а графический процессор Adreno функционирует на более высоких тактовых частотах.\\nЧип Elite использует процессорные ядра Oryon в двух вариантах - два ядра Prime и шесть ядер Performance. Это не стандартные ядра Cortex, как в чипах MediaTek и Samsung Exynos, а кастомный дизайн Qualcomm. Ядра Prime работают на частоте до 4,47 ГГц, а ядра Performance - до 3,53 ГГц. Дополнительно в составе чипа присутствует графический процессор Adreno 830, построенный на новой архитектуре и работающий на частоте до 1,2 ГГц.\\nGalaxy S25 предлагается в трех вариантах внутренней памяти - 128 ГБ, 256 ГБ и 512 ГБ (UFS 4.0), при этом объем оперативной памяти остается неизменным для всех моделей - 12 ГБ LPDDR5X.\\nЧипсет Snapdragon 8 Elite является самым быстрым процессором для Android на сегодняшний день - его производительность превышает Snapdragon 8 Gen 3 как минимум на 30% и на 20-30% процессоры Dimensity 9300 и Dimensity 9400 от MediaTek. Графический процессор Adreno 830 также занимает лидирующую позицию, будучи на 30% мощнее Adreno 750 в Snapdragon 8 Gen 3 и примерно на 10% превосходя Immortalis-G925 в MediaTek Dimensity 9400. Производительность в области искусственного интеллекта, обеспечиваемая нейропроцессорными блоком NPU Elite, на данный момент вообще не имеет себе равных среди мобильных чипов.\\nВ тестах Galaxy S25 демонстрирует отличные результаты по всем показателям, но, как говорится, - есть нюанс. Бенчмарки в AnTuTu 10 оставляют ощущение легкого недоумения. 2,19 млн баллов против 2,69 млн у OnePlus 13, также работающим на Snapdragon 8 Elite. По сути работа Snapdragon 8 Elite в Galaxy S25 при длительной нагрузке схожа с предыдущим поколением процессоров Snapdragon 8 Gen 3 - наблюдается снижение производительности как CPU, так GPU. Такое ощущение, что инженеры Samsung настроили софт так, чтобы он \"поддушивал\" новый процессор, не давая ему нагреваться при длительных нагрузках, коими и являются тестовые программы. Но в реальной жизни таких сценариев использования нет. Ни при съемке видео в 8К, ни в самых тяжелых по графике играх, проблем у Galaxy S25 не наблюдается - \"все летает\".\\nНельзя не отметить обновления пользовательского интерфейса Samsung OneUI 7.0. Его основные изменения можно резюмировать так:\\nНовый интерфейс стал более современным и лаконичным, с переработанными иконками, улучшенными анимациями и визуальными эффектами.\\nОбновленная система жестов и более интуитивное расположение элементов упростила управление смартфоном. Панель уведомлений и другие ключевые компоненты стали проще в использовании.\\nВидна фокусировка на эргономике и производительности. Изменения направлены не только на визуальный ряд, но и на повышение отзывчивости системы, оптимизацию работы и расширение функциональных возможностей смартфона. При этом обновление сохраняет узнаваемые черты фирменной оболочки Samsung.\\nНо это еще не все. Samsung активнее всех мобильных вендоров внедряет искусственный интеллект в свои устройства Galaxy. Ключевые функции Galaxy AI включают:\\nNow Brief: Предоставляет персонализированные ежедневные сводки, включая прогноз погоды, расписание и уведомления о новых выпусках любимых подкастов.\\nCircle to Search: Упрощает поиск информации - достаточно обвести объект на экране, и Google предоставит соответствующие результаты, будь то фотографии, музыка или товары.\\nLive Translate: Обеспечивает мгновенный перевод в реальном времени, позволяя вести беседы на разных языках непосредственно в приложении Samsung Phone и Telegram)\\nVoice Call Summary: Записывает, транскрибирует и суммирует телефонные звонки для улучшения коммуникации.\\nNote Assist: Помогает в создании заметок, предоставляя интеллектуальные предложения и организацию контента.\\nМы, конечно, протестировали ИИ S25. И если Now Brief оказался в нашем сценарии использования смартфона довольно бесполезным, то удаление объектов с фото (посмотрите нашу фотогалерею), онлайн-переводчик, запись телефонных звонков и встреч, их транскрибирование и краткое изложение - это просто огонь!\\nОтдельно отметим, что новый интеллектуальный помощник на базе ИИ - Google Gemini (который устанавливается у нас в стране все же не без \"танцев с бубном\") оказался нативно интегрирован в интерфейс OneUI 7.0 и способен взаимодействовать с приложениями смартфона и даже содержанием экрана. Из минусов - немного сбивает с толку наличие двух ИИ в смартфоне - Galaxy AI и Gemini. Сказать, что сразу понятно за что отвечает один, а за что другой нельзя. Освоение требует от пользователя и времени, и усилий.\\nКамеры\\nSamsung Galaxy S25 оснащен такой же системой камер, что и в Galaxy S24. В комплекте присутствует привычная 50-мегапиксельная основная камера, дополненная 10-мегапиксельной телефотокамерой и 12-мегапиксельной сверхширокоугольной камерой, а также селфи-камера с разрешением 12 МП и автофокусом. Радикальных изменений в алгоритмах обработки и качестве снимков, несмотря на эволюцию ISP, мы не увидели, хотя прогресс есть. Отметим и 12-мегапиксельную селфи-камеру с автофокусом. Кроме того, Samsung обновил приложение камеры в OneUI 7: карусель режимов теперь расположена под кнопкой спуска затвора, а дополнительные режимы не заслоняют видоискатель.\\nОсновная камера делает хорошие чистые снимки с хорошей детализацией, широким динамическим диапазоном и резкими, но не чрезмерно яркими цветами. Качество изображений остается примерно таким же, как и в прошлом году. Контрастность на хорошем уровне, однако в сложных условиях освещения снимки могут выглядеть несколько плоскими. Как и во многих современных смартфонах, режим \"Фото\" в Galaxy S25 по умолчанию самостоятельно определяет, когда следует активировать ночной режим, в зависимости от условий съемки. Обычные ночные снимки характеризуются мягкой обработкой и хорошим сохранением светлых участков, но иногда тени оказываются не слишком яркими. Принудительное включение ночного режима позволяет добиться гораздо более выразительных результатов - снимки становятся чище, с устраненным шумом, повышенной резкостью и контрастностью.\\nПортретный режим доступен с 1-, 2- и 3-кратным увеличением, что предоставляет широкие возможности для экспериментов - разница особенно заметна при использовании 3-кратного телеобъектива. Снимки, сделанные с использованием 3-кратного телеобъектива, получаются вполне достойными. Обработка снимков с зумом соответствует основной камере по балансу белого, контрастности, цветовой температуре и другим параметрам. Детализация вполне солидная - возможно, даже лучше, чем можно было бы ожидать при ночной съемке. А вот телеобъектив с 3-кратным зумом испытывает трудности при съемках в условиях недостаточного освещения независимо от выбранного режима. Применение ночного режима позволяет выявить чуть больше деталей, скорректировать насыщенность цвета и осветлить тени, однако итоговый результат можно назвать лишь удовлетворительным.\\nМы не возлагали большие надежды на сверхширокоугольный модуль Galaxy S25. Тем не менее, динамический диапазон остается широким, а общая обработка снимков соответствует качеству основной камеры. Но вот снимки, сделанные сверхширокоугольной камерой при слабом освещении… В общем, не надо использовать ультраширик Galaxy S25 ночью.\\nВ селфи-камере изменений по сравнению с S24 практически нет. Снимки правильно экспонированы, с естественным тоном кожи, отличной цветопередачей, широким динамическим диапазоном. Не придерешься.\\nВсе четыре камеры Galaxy S25 способны записывать видео с разрешением до 4K при 60 кадрах в секунду, а основная камера дополнительно умеет снимать 8K при 30 кадрах в секунду. Видеокодеком по умолчанию выбран h.265 (HEVC), что позволяет выбирать между приоритетом высокого качества и уменьшением размера файла, при этом в качестве альтернативы доступен и менее эффективный h.264. Каждый режим съемки поддерживает стабилизацию видео.\\nЗапись HDR-видео обновлена до 10-битного варианта (в отличие от 8 бит прошлого года), а также появился новый режим Galaxy Log, позволяющий самостоятельно выполнять цветокоррекцию отснятого материала.\\n4K-видео, снятое основной камерой - чистое, четкое и детальное, с широким динамическим диапазоном, хорошей контрастностью и яркими цветами. Видео с 2-кратным кроп-зумом также выглядит вполне прилично. Записи с 3-кратным зумом получаются очень детализированными, достаточно резкими, особенно импонируют точная цветопередача и отсутствие заметного шума.\\nЧто касается ночной съемки, основная камера способна записывать хорошие видео и при слабом освещении, а вот ночное сверхширокоугольное видео оставляет желать лучшего - оно выглядит мягким, мутным, без достаточной детализации.\\nТестирование стабилизации на основной камере в 4K показало отличный результат - стабилизация оказывается суперплавной, вероятно, одной из лучших на рынке. По крайней мере, среди Android-смартфонов.\\nТехнические характеристики\\nДисплей: 6,2-дюймовый Dynamic LTPO AMOLED 2X с разрешением 1080×2340 пикселей, частотой обновления 120 Гц, поддержкой HDR10+ и пиковой яркостью до 2600 нит;\\nПроцессор: Qualcomm Snapdragon 8 Elite (3 нм) с восьмиядерным CPU (2 ядра по 4,47 ГГц Oryon V2 Phoenix L и 6 ядер по 3,53 ГГц Oryon V2 Phoenix M) и графическим ускорителем Adreno 830;\\nПамять:\\nОперативная: 12 ГБ;\\nВстроенная: 128 ГБ, 256 ГБ или 512 ГБ (UFS 4.0);\\nКамера:\\nОсновная: тройная:\\n50 МП, f/1.8, 24 мм (широкоугольная), 1/1.56\", 1.0µm, Dual Pixel PDAF, OIS;\\n10 МП, f/2.4, 67 мм (телеобъектив), 1/3.94\", 1.0µm, PDAF, OIS, 3-кратный оптический зум;\\n12 МП, f/2.2, 13 мм, 120° (ультраширокоугольная), 1/2.55\", 1.4µm, Super Steady Video;\\nФронтальная: 12 МП, f/2.2, 26 мм (широкоугольная), 1/3.2\", 1.12µm, Dual Pixel PDAF;\\nВидео:\\nОсновная камера: 8K@24/30fps, 4K@30/60fps, 1080p@30/60/120/240fps, 10-битный HDR, HDR10+, стереозвук, гироскопическая EIS;\\nФронтальная камера: 4K@30/60fps, 1080p@30fps;\\nАккумулятор: 4000 мА·ч с поддержкой быстрой зарядки 25 Вт, беспроводной зарядки 15 Вт (Qi2 Ready) и обратной беспроводной зарядки 4,5 Вт;\\nОперационная система: Android 15 с оболочкой One UI 7, поддержка 7 основных обновлений Android.\\nГабариты и вес: 146,9×70,5×7,2 мм, 162 г;\\nЗащита: IP68 (пыле- и водонепроницаемость до 1,5 м на 30 минут), корпус из алюминия Armor Aluminum 2, стекло Corning Gorilla Glass Victus 2 спереди и сзади;\\nСети и коммуникации:\\nСети: GSM, CDMA, HSPA, EVDO, LTE, 5G;\\nSIM: Nano-SIM и eSIM (максимум 2 активные SIM-карты одновременно);\\nWi-Fi: 802.11 a/b/g/n/ac/6e/7, три-диапазонный, Wi-Fi Direct;\\nBluetooth: 5.4, A2DP, LE;\\nНавигация: GPS, GLONASS, BDS, GALILEO, QZSS;\\nNFC: Да;\\nUSB: Type-C 3.2, DisplayPort 1.2, OTG;\\nДополнительные функции:\\nДатчики: сканер отпечатков пальцев (под экраном, ультразвуковой), акселерометр, гироскоп, датчик приближения, компас, барометр;\\nАудио: стереодинамики, 32-бит/384 кГц аудио, настройка от AKG;\\nОсобенности: Samsung DeX, Samsung Wireless DeX, функция \"Circle to Search\".\\nЗаключение\\nGalaxy S25 отлично сбалансированное устройство - один из самых тонких, легких и красивых компактных смартфонов в 2025 году. В этом году он не радует значимыми обновлениями в области железа, за исключением топового процессора (кстати, точно такого же, как и у суперфлагмана Galaxy S25 Ultra). Но при этом заслуживают похвалы новые возможности ИИ и значительное обновление программного обеспечения.\\nОтдельно стоит отметить, что конкуренция среди компактных премиальных смартфонов сегодня весьма хилая. Почему - для нас остается загадкой. Если вынести за скобки представителей другой экосистемы - iPhone 15/16 Pro, то остается всего лишь несколько моделей, причем не все из них продаются в РФ. Так что, если бы мы бы выбирали себе крутой и компактный Android-смартфон, то Galaxy S25 был бы кандидатом №1… Ну или №2, после Galaxy S24, если есть желание сэкономить.'"
            ],
            "application/vnd.google.colaboratory.intrinsic+json": {
              "type": "string"
            }
          },
          "metadata": {}
        },
        {
          "output_type": "stream",
          "name": "stdout",
          "text": [
            "\n"
          ]
        }
      ]
    },
    {
      "cell_type": "code",
      "source": [
        "import pandas as pd\n",
        "\n",
        "df = pd.read_csv(\"/content/drive/MyDrive/Mediacloud/ai_articles_with_frames_sentiments_gemini.csv\")\n",
        "df1 = pd.read_csv(\"/content/drive/MyDrive/Mediacloud/ai_articles_with_frames_sentiments_gemini_2_5.csv\")\n",
        "df2 = pd.read_csv(\"/content/drive/MyDrive/Mediacloud/ai_articles_with_frames_mistral_2.csv\")"
      ],
      "metadata": {
        "id": "b0hMgZ0XZJE-"
      },
      "execution_count": null,
      "outputs": []
    },
    {
      "cell_type": "code",
      "source": [
        "#Gemini 2.0 frames:     14/15 -> 111111111110111 93%\n",
        "#Gemini 2.5 frames:     14/15 -> 110111111111111 93%\n",
        "#Gemini 2.0 sentiments: 14/15 -> 101111111111111 93%\n",
        "#Gemini 2.5 sentiments: 14/15 -> 110111111111111 93%\n",
        "#Mistral frames:         9/15 -> 001100111101101 60%"
      ],
      "metadata": {
        "id": "rcgwQUPEh-4D"
      },
      "execution_count": null,
      "outputs": []
    },
    {
      "cell_type": "code",
      "source": [
        "print(\"Gemini 2.0:\", df.frame[0], df.sentiment[0])\n",
        "print(\"Gemini 2.5:\", df1.frame[0], df1.sentiment[0])\n",
        "print(\"Mistral:\", df2.frame[0])\n",
        "print()\n",
        "print(df.title[0])\n",
        "df.maintext[0]\n",
        "#1 1\n",
        "#1 1\n",
        "#0"
      ],
      "metadata": {
        "colab": {
          "base_uri": "https://localhost:8080/",
          "height": 226
        },
        "id": "VmeZIIGjavFz",
        "outputId": "39517c1e-0a2e-4db6-a235-d3ceb959a37a"
      },
      "execution_count": null,
      "outputs": [
        {
          "output_type": "stream",
          "name": "stdout",
          "text": [
            "Gemini 2.0: AI in healthcare and climate change 4\n",
            "Gemini 2.5: AI in healthcare and climate change 5\n",
            "Mistral: AI impacts on businesses, economy, and jobs\n",
            "\n",
            "3D heart scans have saved NHS millions since 2021 rollout, data shows\n"
          ]
        },
        {
          "output_type": "execute_result",
          "data": {
            "text/plain": [
              "'“Sci-fi-like” 3D heart scans have saved the NHS an estimated £9.5 million since their rollout in 2021, data shows.\\nThe technology cuts the needs for invasive tests and speeds up diagnosis by turning a CT scan into a three-dimensional image to be analysed by artificial intelligence (AI).\\nMore than 24,300 patients have received the scan and data shows this has allowed hundreds to avoid invasive procedures and saved the NHS the equivalent of about £390 per patient, NHS England said.\\nCoronary heart disease sufferer Sarah Remnant, from Portsmouth, said her case was not a “classic” one but was quickly spotted thanks to the technology.\\nDays after the 3D scan Ms Remnant, then aged 50, had surgery to fit a potentially life-saving stent.\\nNow recovered, she said: “I wasn’t a classic case but thanks to this technology, the cause of my symptoms was quickly identified – which possibly saved my life.\\n“The consultant talked me through the scan, which was empowering as I could fully understand my diagnosis and the plan for treatment.\\n“I feel amazing now and am very grateful that I had access to this as it was so reassuring to have that extra information at such a worrying time.”\\nPreviously, patients suspected of having coronary heart disease received a CT scan if a “narrowing or blockage” in a coronary artery was suspected, NHS England said.\\nTo confirm a diagnosis many would then need an invasive angiogram.\\nThis involves clinicians inserting a catheter into a blood vessel and injecting dye to make blocked blood vessels show up on an X-ray.\\nA study funded by Medical Research Council looked at more than 90,000 NHS patients between 2017 and 2020 and the tool was used on nearly 8,000 of them.\\nThe 3D scans reduced the number of patients needing an invasive angiogram test by 7%.\\nThis was cut by a sixth, or 16%, among those later found to require no further treatment, it said.\\nAs a result of the 3D scan, now available in 56 hospitals in England, an invasive angiogram is only recommended if the patient may need surgery or a stent.\\nThe tool can also suggest the size and position of stent most suitable for the patient.\\nDr Vin Diwakar, national director of transformation at NHS England, said: “It is fantastic see that these revolutionary AI-driven 3D heart scans, supported by NHS England, are transforming cardiac care by significantly reducing the need for invasive tests, speeding up diagnoses, conserving NHS resources, and enabling clinicians to advise patients on the best treatment for their condition.”\\nThe AI-driven analysis is called Heartflow and more than 6,989 people have had access to it in the last year, NHS England said.\\nCoronary heart disease affects around 2.3 million people in England and is the most common type of heart disease.\\nIt develops when fatty material builds up inside the coronary arteries, which can restrict blood flow and oxygen supply to the heart.\\nPatients are at risk of heart attacks or heart failure.\\nNHS England rolled out the technology through the MedTech Funding Mandate programme, which aims to ensure patients and the NHS receive clinically effective and cost-saving medical technologies faster and fairer.\\nIt said: “The sci-fi-like tool is helping give tens of thousands of patients at risk of potentially life-threatening coronary heart disease a faster and more accurate diagnosis, while also freeing up capacity in the NHS.”'"
            ],
            "application/vnd.google.colaboratory.intrinsic+json": {
              "type": "string"
            }
          },
          "metadata": {},
          "execution_count": 8
        }
      ]
    },
    {
      "cell_type": "code",
      "source": [
        "print(\"Gemini 2.0:\", df.frame[5], df.sentiment[5])\n",
        "print(\"Gemini 2.5:\", df1.frame[5], df1.sentiment[5])\n",
        "print(\"Mistral:\", df2.frame[5])\n",
        "print()\n",
        "print(df.title[5])\n",
        "df.maintext[5]\n",
        "#1 0\n",
        "#1 1\n",
        "#0"
      ],
      "metadata": {
        "colab": {
          "base_uri": "https://localhost:8080/",
          "height": 226
        },
        "id": "1Ljdr68beurd",
        "outputId": "a635f2d0-ac04-479f-9520-5dc8828f697b"
      },
      "execution_count": null,
      "outputs": [
        {
          "output_type": "stream",
          "name": "stdout",
          "text": [
            "Gemini 2.0: AI regulations, ethics, and data privacy 0\n",
            "Gemini 2.5: AI regulations, ethics, and data privacy 1\n",
            "Mistral: AI impacts on businesses, economy, and jobs\n",
            "\n",
            "OpenAI reverses course and says its nonprofit will continue to control business\n"
          ]
        },
        {
          "output_type": "execute_result",
          "data": {
            "text/plain": [
              "'OpenAI has reversed course and said its nonprofit will continue to control the business that makes ChatGPT and other artificial intelligence products.\\n“We made the decision for the nonprofit to stay in control after hearing from civic leaders and having discussions with the offices of the Attorneys General of California and Delaware,” said CEO Sam Altman in a letter to employees.\\nMr Altman and the chair of OpenAI’s nonprofit board, Bret Taylor, said the board made the decision for the nonprofit to retain control of OpenAI.\\nThe nonprofit already has a for-profit arm, but that arm will be converted into a public benefit corporation “that has to consider the interests of both shareholders and the mission”, Mr Taylor said.\\nOpenAI’s co-founders, including Mr Altman and Tesla CEO Musk, originally started it as a nonprofit research laboratory on a mission to safely build what is known as artificial general intelligence, or AGI, for humanity’s benefit.\\nNearly a decade later, OpenAI has reported its market value as 300 billion dollars and counts 400 million weekly users of ChatGPT, its flagship product.\\nOpenAI faced a number of challenges in converting its core governance structure. One is a lawsuit from Mr Musk, who accuses the company and Mr Altman of betraying the founding principles that led Mr Musk to invest in the charity.'"
            ],
            "application/vnd.google.colaboratory.intrinsic+json": {
              "type": "string"
            }
          },
          "metadata": {},
          "execution_count": 9
        }
      ]
    },
    {
      "cell_type": "code",
      "source": [
        "print(\"Gemini 2.0:\", df.frame[10], df.sentiment[10])\n",
        "print(\"Gemini 2.5:\", df1.frame[10], df1.sentiment[10])\n",
        "print(\"Mistral:\", df2.frame[10])\n",
        "print()\n",
        "print(df.title[10])\n",
        "df.maintext[10]\n",
        "#1 1\n",
        "#0 0\n",
        "#1"
      ],
      "metadata": {
        "colab": {
          "base_uri": "https://localhost:8080/",
          "height": 226
        },
        "id": "dQKTeyO2cxCy",
        "outputId": "6dfd6993-47f7-416b-8149-c3ea7aab2efb"
      },
      "execution_count": null,
      "outputs": [
        {
          "output_type": "stream",
          "name": "stdout",
          "text": [
            "Gemini 2.0: AI impacts on businesses, economy, and jobs -2\n",
            "Gemini 2.5: AI regulations, ethics, and data privacy 0\n",
            "Mistral: AI impacts on businesses, economy, and jobs\n",
            "\n",
            "How China is still getting its hands on Nvidia’s gear\n"
          ]
        },
        {
          "output_type": "execute_result",
          "data": {
            "text/plain": [
              "'Inside the shadowy business of smuggling AI chips\\nMay 5th 2025\\nLast month Jensen Huang, the boss of Nvidia, landed in Beijing with a clear message: the maker of the world’s leading artificial-intelligence (AI) chips planned to “unswervingly serve the Chinese market”. America would rather it didn’t. Just a few days before Mr Huang’s trip the Trump administration introduced new controls that, in effect, banned the company from selling its H20 processor to China. More rules are coming. Although on May 7th the administration said it would rescind tighter export controls proposed by the Biden administration, it plans to replace them with ones of its own.\\nThis article appeared in the Business section of the print edition under the headline “Nvidious”\\nFrom the May 10th 2025 edition\\nDiscover stories from this section and more in the list of contents\\n⇒Explore the edition\\nCan Korea Inc step up?\\nAsia’s faded corporate star gets another chance to shine\\nEurope’s attempted bonfire of red tape is impressing no one\\nFrom CSRD to GDPR, the EU’s alphabet soup is still causing despair\\nWill European business turn away from America?\\nTrump’s tariffs are making China look more attractive\\nThe Economist’s business internship\\nWe invite applications for the 2025 Marjorie Deane internship\\nBoeing enjoys a Trump bump\\nAre its troubles finally behind it?\\nThe contest to cash in on Chinese AI heats up\\nWho will come out ahead?'"
            ],
            "application/vnd.google.colaboratory.intrinsic+json": {
              "type": "string"
            }
          },
          "metadata": {},
          "execution_count": 10
        }
      ]
    },
    {
      "cell_type": "code",
      "source": [
        "print(\"Gemini 2.0:\", df.frame[15], df.sentiment[15])\n",
        "print(\"Gemini 2.5:\", df1.frame[15], df1.sentiment[15])\n",
        "print(\"Mistral:\", df2.frame[15])\n",
        "print()\n",
        "print(df.title[15])\n",
        "df.maintext[15]\n",
        "#1 1\n",
        "#1 1\n",
        "#1"
      ],
      "metadata": {
        "colab": {
          "base_uri": "https://localhost:8080/",
          "height": 226
        },
        "id": "4CwHbaWMfAUI",
        "outputId": "c35e8d36-9f63-4e84-f21b-67be6196fa26"
      },
      "execution_count": null,
      "outputs": [
        {
          "output_type": "stream",
          "name": "stdout",
          "text": [
            "Gemini 2.0: AI regulations, ethics, and data privacy -3\n",
            "Gemini 2.5: AI regulations, ethics, and data privacy -5\n",
            "Mistral: AI disruptions in media and creative industries\n",
            "\n",
            "Disturbing new 'glitch' means mysterious 'suicide' of AI prophet of doom may never be solved\n"
          ]
        },
        {
          "output_type": "execute_result",
          "data": {
            "text/plain": [
              "\"The security camera in the elevator OpenAI whistleblower Suchir Balaji used to go to his apartment for the last time was unplugged, his family claim.\\nThe tech prodigy, 26, was found dead on November 26 only a month after revealing the company's dubious methods of training ChatGPT.\\nBalaji was found next to his bathroom door with a gunshot wound to the head and blood all over part of his apartment in San Francisco's Mint Hill neighborhood.\\nHis parents, Poornima Ramarao and Balaji Ramamurthy, insist he couldn't have killed himself, and have shared security camera video of the last time he was seen alive.\\nThe final footage shows him appear relaxed as he strolls to the door to collect his last meal from a DoorDash delivery at about 7.30pm on November 22.\\nBut when he gets into the elevator to go up to his fourth-floor apartment, the footage stops as the camera inside was inoperable.\\nRamarao shared a photo of the elevator showing unplugged cables dangling from the ceiling in the corner.\\n'Picture of the elevator in the apartment where Suchir was killed. As you can see the wires are cut. This happened a week before the death,' she wrote.\\n'This elevator without camera connects the rear entrance of the building and facilitates people coming to the building without being noticed on the CCTV.\\n'Same elevator was offline when SFPD came to the building on 25th and 26th of November. Why SFPD failed to investigate?'\\nRamarao also posted a short clip of police bodycam footage she claimed showed officers failing to adhere to crime scene protocols.\\n'This is the video of SFPD touching the evidence with out gloves. They contaminated crime scene instead of collecting fingerprints, DNA and foot prints,' she alleges.\\nThe footage showed an officer sitting at Balaji's living room table picking up papers and making notes with ungloved hands.\\nBalaji's parents have long been critical of the police investigation, claiming it was rushed and jumped to suicide after just 40 minutes.\\nThey earlier claimed Balaji was shot a second time by a bullet that was missed by the autopsy that ruled his death a suicide.\\nHis parents paid for their own autopsy, toxicology, and other tests in their quest to prove he was murdered.\\nThey are yet to release the entire reports, but revealed bombshell new evidence last week they claimed would help prove he was killed to keep him quiet.\\nCT scans of his head were sent for analysis to two radiologists who knew little of the case and hadn't seen any of the other evidence.\\nBalaji's parents claimed both saw evidence of two gunshots to the young man's head, neither of them immediately fatal.\\n'A second bullet probably entered through the mouth, no clear entry wound seen but it is lodged in the back of the throat at the skull base/clivus,' Dr Daniel Cousin at Radsurity in Weston, Florida, wrote in his report.\\n'This bone stopped it and it did not cause any damage likely, perhaps it traveled through the air passage of the mouth to the back of the throat without causing problems.'\\nRamarao said the second autopsy revealed injuries to her son's tongue that couldn't have been caused by the gunshot to his forehead, which travelled at an odd downwards angle, missed his brain, and lodged in the back of his neck.\\n'The tongue shows extensive laceration and discoloration over the margins, with a centralized, nearly oval-shaped defect at the distal,' the report read.\\nRamarao also claimed Balaji had a broken cheekbone along with the previously claimed injury to the side of his head, both of which weren't listed on the medical examiner's report.\\nA graphic photo from the scene showed him lying diagonally across the floor with his head in the corner of the bathroom door, where the biggest blood patch was found.\\nIt also showed Balaji had blood on his knee, which his parents believe was from yet another injury, and 'obviously it's an assault'.\\n'Why there is there bleeding and a wound on his knee? Why there is there a head injury? Why ripped tongue?' Ramarao said.\\n'Why is he spitting blood outside the bathroom where the crime occurred? Why [was a] date rape drug found in the body?\\n'Why [does the] autopsy report not account for the wounds? Why [doesn't the] autopsy report include metal object in the skull that was not removed?\\n'How can someone sedated shoot themselves in a weird downward angle? Why is his cheekbone broken?\\n'All these questions are not answering the cause of death [of suicide] as made by authorities.'\\nRamarao also revealed clumps of what initially appeared to be synthetic hair, such as from a wig, found in the pool of blood next to his body was Balaji's own hair.\\nHis parents now believe it was ripped out during a struggle before he was murdered.\\nThe gun used to shoot Balaji, a 9mm Glock pistol he bought on January 4, 2024, didn't have any blood on it, Ramarao claimed, speculating someone may have put the gun in his hand and fired it.\\nThe medical examiner's report found Balaji had a blood alcohol level of 0.178, which his parents said was out of character for him, as he never drank to excess.\\nHe also had between 67,000 nanograms per milliliter and 54,000 ng/ml of GHB, a common 'date rape' drug, in his system.\\nBalaji's parents also revealed evidence they claimed showed their son wasn't suicidal, because he was receiving job offers and planning to speak at academic events.\\nA recruiter from Jane Street contacted him on LinkedIn to discuss an open job for a machine learning expert with a $850,000 to $2million salary.\\nAnother exchange of messages asked Balaji if he was interested in speaking to two classes of University of California, Berkeley, students on November 18.\\n'Shoot, unfortunately I'm out of town on vacation 11/16-11/23. If there's another date that works for you, I'm up for it,' he replied.\\nThe final footage of Balaji alive showed him appear relaxed as he strolled to the door to collect his last meal from a DoorDash delivery about 7.30pm on November 22.\\nHe emerged from the elevators of his apartment building, hungry and with a spring in his step, turned toward the front door and disappeared around a corner, returning 15 seconds later clutching a brown paper bag.\\nInside was a box of take-out rice, meat, and vegetables - the scraps of which were found sitting on his desk when his body was found days later.\\nBalaji dressed casually in jeans, sneakers, and a zip-up sweater, strolled back to the elevator, pumping tunes through the wireless earbuds planted firmly in his ears.\\nBalaji spoke to his father, Balaji Ramamurthy, from 7.12pm until a few minutes before he arrived home.\\nHe told him him he was getting dinner and they discussed his recent holiday, and tentative plans to meet in January.\\nEarlier CCTV footage showed Balaji arriving home from his birthday holiday with friends to Catalina Island, off the coast of Los Angeles, at 1.33pm.\\nHis luggage, a large canvas bag, hung from a strap slung over his left shoulder and he was wearing a black jacket, blue jeans, and black shoes.\\nLike the final video just six hours later, he was walking towards the elevators in the lobby of his apartment building.\\n'Does he look stressed?' Ramarao asked, rhetorically.\\nBalaji's exact time of death remains unknown, but police and the medical examiner said he likely died on the night of November 22.\\nHis body was not found until four days later when a welfare check was requested by his worried parents.\\nRamarao added that security cameras in the elevator, building garage, and neighbors were not working.\\n'His murder conspiracy was executed over long term planning and watching Suchir,' she claimed.\\nDespite the family's pleas, the San Francisco Chief Medical Examiner's Office confirmed the police suicide ruling with the release of Balaji's autopsy report last month.\\nThe report included some shocking new findings including that Balaji was drunk and had multiple drugs including GHP in his system when he shot himself.\\nThe report also noted the only way into Balaji's fourth-floor apartment number #404 was via his front door.\\n'The apartment windows are stories above the shared courtyard and street and are equipped with devices that restrict the window opening to approximately four inches,' it read.\\n'There was no evidence of forced entry to the unit or disturbance within the unit.'\\nSecurity camera footage and key fob records also showed that no one else entered the apartment during the time he could have died.\\nSan Francisco Police Chief Bill Scott wrote a joint letter with the ME's office to Balaji's parents, accompanying the report, further explaining the ruling.\\n'These facts, taken together, support that Mr Balaji was alone at the time of the incident,' it read.\\n'The SFPD found no evidence or information to establish that Mr Balaji died of means other than a suicide by self-inflicted gunshot wound to the head.'\\nScott wrote that his investigation, along with that of the ME's office, found 'there is insufficient evidence to find Mr Balaji's death was the result of homicide'.\\n'We realize that this information is difficult to receive, and we extend our sincere condolences to the Balaji family,' he added.\\n'We hope that this response may help bring some amount of closure to his grieving parents, friends and family.'\\nPolice now consider the case closed and will only reopen the criminal investigation if there is a basis for a chargeable offense and the statute of limitations has not expired.\\nHis parents believe the apartment was ransacked because the killer was looking for a storage device that had damning evidence on it.\\nBalaji never expected to become a lightning rod for those wary of the emerging power of artificial intelligence - or his boss, OpenAI founder Sam Altman.\\nHe joined the company in November 2020, having previously spent four months interning there two years while studying at UC Berkley.\\nBut from as early as 2022 he began to question the work he was doing, training GPT-4 - the engine behind ChatGPT - with reams of data from the internet.\\nBalaji had justified his work by treating it like a research project, but after it was launched in late 2022 and sold commercially, he began to rethink this.\\nHe came to the conclusion that OpenAI was grossly violating copyright laws to such an extent that it was not only illegal, but unsustainable for the internet itself.\\nEventually he quit last August and wrote his findings in a detailed essay on his personal website, then spoke to the New York Times.\\nBalaji's NYT interview was published on October 23, shocking his parents and even his friends - none of whom he told in advance.\\nBalaji told his mother not to worry – he wasn't giving away confidential secrets, just expressing his opinion on the work, and he had enough money from his OpenAI stock.\\n'He said he wasn't looking for another job, he said he was planning to found a startup,' his mother said.\\nThen a week before his death, the NYT named him as a 'custodian witness' in its copyright infringement lawsuit against OpenAI and Microsoft.\\nHis mother believes that implied he had more damaging information up his sleeve, and was targeted for it.\\nIt also appeared Balaji wasn't finished going public.\\nDays after his death, his phone rang and his parents picked it up.\\nOn the other end was an Associated Press reporter who didn't know Balaji was dead, and was calling to schedule an interview he agreed to do.\\n'Maybe he had some new information to share with AP and somebody doesn't want that liability, so they targeted him,' Ramamurthy said.\\nBalaji's parents have three main reasons they believe he couldn't have killed himself: the crime scene, the timing of his death after going public, and that he had too much to live for.\\n'There's no depression, he didn't have a suicide note or anything, he was financially stable, he has a good friends circle, going around having a good time,' his father said.\\nConspiracy theories about Balaji's death started almost immediately after it became public in news reports on December 13.\\nSocial media provocateurs and true crime buffs quickly began sharing and debating the story, declaring that the AI industry had him killed.\\nThe online avalanche became so intense that it reached the attention of Altman's arch-nemesis Elon Musk.\\n'This doesn't seem like a suicide,' he wrote when reposting one of Ramarao's tweets, and also shared other articles and posts about the case with comments like 'hmm' and 'concerning'.\\nMusk has had a longstanding feud with OpenAI and Altman since they refused his offer to buy them out in 2018.\""
            ],
            "application/vnd.google.colaboratory.intrinsic+json": {
              "type": "string"
            }
          },
          "metadata": {},
          "execution_count": 11
        }
      ]
    },
    {
      "cell_type": "code",
      "source": [
        "print(\"Gemini 2.0:\", df.frame[20], df.sentiment[20])\n",
        "print(\"Gemini 2.5:\", df1.frame[20], df1.sentiment[20])\n",
        "print(\"Mistral:\", df2.frame[20])\n",
        "print()\n",
        "print(df.title[20])\n",
        "df.maintext[20]\n",
        "#1 1\n",
        "#1 1\n",
        "#0"
      ],
      "metadata": {
        "colab": {
          "base_uri": "https://localhost:8080/",
          "height": 226
        },
        "id": "IFbj3cmgcyxn",
        "outputId": "e4f7fe3a-7373-4d8d-fccf-20b69ea02fb4"
      },
      "execution_count": null,
      "outputs": [
        {
          "output_type": "stream",
          "name": "stdout",
          "text": [
            "Gemini 2.0: AI transformations in education and research 3\n",
            "Gemini 2.5: AI transformations in education and research 5\n",
            "Mistral: AI impacts on businesses, economy, and jobs\n",
            "\n",
            "IGNITE Copilot, AI for Spanish-speaking teachers, reaches Latin America\n"
          ]
        },
        {
          "output_type": "execute_result",
          "data": {
            "text/plain": [
              "'The use of generative AI allows teachers to reduce the time spent on lesson planning by 60%\\nBARCELONA, Spain, May 5, 2025 /PRNewswire/ -- Teachers face increasing workloads, spending much of their time on instructional planning tasks that could be automated. Technologies such as artificial intelligence can reduce the time spent on these tasks by 60%, allowing teachers to focus more on personalised teaching and emotional support for students.\\nTools such as IGNITE Copilot, a web-based solution that allows Spanish-speaking teachers to considerably reduce the time spent on educational planning. The 16 hours a week that teachers spend on average on generating didactic experiences according to the curriculum can be reduced to 5 hours a week for supervision, according to data from the consultancy firm McKinsey (report Superagency in the Workplace - Empowering people to unlock AI\\'s full potential).\\nIGNITE Copilot has been developed by a multidisciplinary team of educators and engineers. This generative AI tool overcomes the limited approach of traditional resources such as textbooks, Google, Wikipedia or even the generalist ChatGPT, empowering primary and secondary school teachers in the effective use of AI in didactic planning, in a format compliant with the current educational regulations of each country and international standards (UNESCO and OECD).\\nAI saves teachers 10-12 hours per week\\nTeachers spend about 15 hours per week creating teaching materials, searching for existing resources, creating their own materials or customising educational content. With AI tools such as IGNITE Copilot, instead of 15 hours, only 3-4 hours would be needed for supervision and adaptation of formats.\\n\"The time has come to plan education with Artificial Intelligence. This is a productivity tool that frees up time for Spanish-speaking teachers by generating structured, quality educational content tailored to the individual needs of students\", explains company founder Ignacio Aso. \"It allows the knowledge base to be integrated and the school\\'s educational project to be consolidated in a single didactic planning space\", he adds.'"
            ],
            "application/vnd.google.colaboratory.intrinsic+json": {
              "type": "string"
            }
          },
          "metadata": {},
          "execution_count": 12
        }
      ]
    },
    {
      "cell_type": "code",
      "source": [
        "print(\"Gemini 2.0:\", df.frame[25], df.sentiment[25])\n",
        "print(\"Gemini 2.5:\", df1.frame[25], df1.sentiment[25])\n",
        "print(\"Mistral:\", df2.frame[25])\n",
        "print()\n",
        "print(df.title[25])\n",
        "df.maintext[25]\n",
        "#1 1\n",
        "#1 1\n",
        "#0"
      ],
      "metadata": {
        "colab": {
          "base_uri": "https://localhost:8080/",
          "height": 226
        },
        "id": "uguvHZOSfQZ6",
        "outputId": "33a9a7ab-a26e-4f6d-ea93-0835a8f7aa92"
      },
      "execution_count": null,
      "outputs": [
        {
          "output_type": "stream",
          "name": "stdout",
          "text": [
            "Gemini 2.0: AI-based innovative solutions -1\n",
            "Gemini 2.5: AI-based innovative solutions -3\n",
            "Mistral: Other\n",
            "\n",
            "WhatsApp will stop working on three popular phones within HOURS - so, is your device on the list?\n"
          ]
        },
        {
          "output_type": "execute_result",
          "data": {
            "text/plain": [
              "\"With more than two billion users around the globe, WhatsApp is one of the world's most popular messaging apps.\\nBut within just a few hours, the Meta-owned platform will stop working on three popular phones.\\nFrom today, anyone still using a trio of Apple devices will no longer be able to send or receive messages on the app.\\nAfter this date, only devices running the iOS 15.1 operating system or newer will be supported.\\nThe affected devices are the iPhone 5s, the iPhone 6, and the iPhone 6 Plus.\\nAlthough these phones now make up a smaller part of WhatsApp users, the decision will leave many fans of the older devices disappointed.\\nA WhatsApp spokesperson told MailOnline: 'Every year we look at which devices and software are the oldest and have the fewest users.\\n'These devices also might not have the latest security updates, or might lack the functionality required to run WhatsApp.'\\nCurrently, any iPhone capable of running iOS 12 or newer can use the WhatsApp app.\\nHowever, that is set to change when the Meta-owned company releases its next major software update.\\nDevices unable to update to at least iOS 15.1 or higher will no longer be able to use any features of the WhatsApp app.\\nHowever, it is worth noting that Apple also stopped supporting these models some time ago.\\nThe oldest of the affected phones, the iPhone 5s, was released over a decade ago in 2013 while the most recent, the iPhone 6 Plus, was released just a year later in 2014.\\nAll of these iPhone models were discontinued by Apple in 2016 and were officially declared obsolete.\\nBeing added to the obsolete products list means Apple will not service, provide parts to service providers, or release critical software and security updates for the device.\\nIn addition to WhatsApp, Spotify and Instagram are already unavailable on all of these older devices.\\nWhatsApp says: 'Devices and software change often, so we regularly review what operating systems we support and make updates.\\n'Before we stop supporting your operating system, you'll be notified in WhatsApp and reminded a few times to upgrade.'\\niOS 15.1 is available on every iPhone released after the iPhone 6, including the iPhone 6s and iPhone 6s Plus models.\\nTo make sure you can still use WhatsApp on your phone, it is essential that you update to at least iOS 15.1 or higher - even if you are using a newer, compatible device.\\nTo check which operating system you are currently using, simply open the Settings app, select General, and tap on the 'About' tab.\\nUnder the heading 'Version' you will be able to see the currently installed iteration of iOS.\\nIf you do need to update your iPhone, from Settings navigate to the tab labelled 'General' and select 'Software Update'.\\nIf a newer version of iOS is available, you can press 'Install Now' to begin the update.\\nTo ensure you always get the latest software and security updates, you can also consider activating automatic updates by selecting 'Automatic Updates' on the 'Software Update' page.\\nThis comes after a recent WhatsApp update left users furious as the Meta-owned app introduced a subtle change.\\nWhatsApp quietly added a blue circle icon in the bottom-right corner of all chats.\\nThat circle is a shortcut to Meta AI - the company's artificial intelligence-powered chatbot.\\nMeta said in a statement: 'Meta AI through WhatsApp is an optional service from Meta that can answer your questions, teach you something, or help come up with new ideas.'\\nHowever, as the feature began to arrive for British users, many were unhappy about the change.\\nOn X, formerly Twitter, one user vented: 'Okay, how do I get rid of Meta AI in WhatsApp? The button is constantly hovering in the way and I will never ever use it.'\\nWhile another joked: 'Massive “ask AI” button WhatsApp omg just leave me alone man.'\""
            ],
            "application/vnd.google.colaboratory.intrinsic+json": {
              "type": "string"
            }
          },
          "metadata": {},
          "execution_count": 13
        }
      ]
    },
    {
      "cell_type": "code",
      "source": [
        "print(\"Gemini 2.0:\", df.frame[30], df.sentiment[30])\n",
        "print(\"Gemini 2.5:\", df1.frame[30], df1.sentiment[30])\n",
        "print(\"Mistral:\", df2.frame[30])\n",
        "print()\n",
        "print(df.title[30])\n",
        "df.maintext[30]\n",
        "#1 1\n",
        "#1 1\n",
        "#1"
      ],
      "metadata": {
        "colab": {
          "base_uri": "https://localhost:8080/",
          "height": 226
        },
        "id": "zsyRHloGc6fp",
        "outputId": "0bdfff61-2df8-4d72-a743-bada6c82b050"
      },
      "execution_count": null,
      "outputs": [
        {
          "output_type": "stream",
          "name": "stdout",
          "text": [
            "Gemini 2.0: AI regulations, ethics, and data privacy 2\n",
            "Gemini 2.5: AI regulations, ethics, and data privacy 3\n",
            "Mistral: AI regulations, ethics, and data privacy\n",
            "\n",
            "AI of dead Arizona road rage victim addresses killer in court\n"
          ]
        },
        {
          "output_type": "execute_result",
          "data": {
            "text/plain": [
              "'Chris Pelkey was killed in a road rage shooting in Chandler, Arizona, in 2021.\\nThree and a half years later, Pelkey appeared in an Arizona court to address his killer. Sort of.\\n“To Gabriel Horcasitas, the man who shot me, it is a shame we encountered each other that day in those circumstances,” says a video recording of Pelkey. “In another life, we probably could have been friends.\\n“I believe in forgiveness, and a God who forgives. I always have, and I still do,” Pelkey continues, wearing a grey baseball cap and sporting the same thick red and brown beard he wore in life.\\nPelkey was 37 years old, devoutly religious and an army combat veteran. Horcasitas shot Pelkey at a red light in 2021 after Pelkey exited his vehicle and walked back towards Horcasitas’s car.\\nPelkey’s appearance from beyond the grave was made possible by artificial intelligence in what could be the first use of AI to deliver a victim impact statement. Stacey Wales, Pelkey’s sister, told local outlet ABC-15 that she had a recurring thought when gathering more than 40 impact statements from Chris’s family and friends.\\n“All I kept coming back to was, what would Chris say?” Wales said.\\nAs AI spreads across society and enters the courtroom, the US judicial conference advisory committee has announced that it will begin seeking public comment as part of determining how to regulate the use of AI-generated evidence at trial.\\nWales and her husband fed an AI model videos and audio of Pelkey to try to come up with a rendering that would match the sentiments and thoughts of a still-alive Pelkey, something that Wales compared with a “Frankenstein of love” to local outlet Fox 10.\\nJudge Todd Lang responded positively to the AI usage. Lang ultimately sentenced Horcasitas to 10 and a half years in prison on manslaughter charges.\\n“I loved that AI, thank you for that. As angry as you are, as justifiably angry as the family is, I heard the forgiveness,” Lang said. “I feel that that was genuine.”\\nAlso in favor was Pelkey’s brother John, who said that he felt “waves of healing” from seeing his brother’s face, and believes that Chris would have forgiven his killer.\\n“That was the man I knew,” John said.'"
            ],
            "application/vnd.google.colaboratory.intrinsic+json": {
              "type": "string"
            }
          },
          "metadata": {},
          "execution_count": 14
        }
      ]
    },
    {
      "cell_type": "code",
      "source": [
        "print(\"Gemini 2.0:\", df.frame[35], df.sentiment[35])\n",
        "print(\"Gemini 2.5:\", df1.frame[35], df1.sentiment[35])\n",
        "print(\"Mistral:\", df2.frame[35])\n",
        "print()\n",
        "print(df.title[35])\n",
        "df.maintext[35]\n",
        "#1 1\n",
        "#1 1\n",
        "#1"
      ],
      "metadata": {
        "colab": {
          "base_uri": "https://localhost:8080/",
          "height": 226
        },
        "id": "FRW4fjq1fi2e",
        "outputId": "de26a12a-1677-426e-e877-feab17a60583"
      },
      "execution_count": null,
      "outputs": [
        {
          "output_type": "stream",
          "name": "stdout",
          "text": [
            "Gemini 2.0: AI transformations in education and research 2\n",
            "Gemini 2.5: AI transformations in education and research 1\n",
            "Mistral: AI transformations in education and research\n",
            "\n",
            "Thousands of students to get their GCSE exam results via a digital app this summer\n"
          ]
        },
        {
          "output_type": "execute_result",
          "data": {
            "text/plain": [
              "'Schools Minister Stephen Morgan said the new Education Record app would \\'bring exam results into the 21st century\\' and branded school record keeping as \\'horribly out of date\\'\\nThousands of students will find out their GCSE exam results via a digital app this summer.\\nSchools Minister Stephen Morgan said a pilot of the new Education Record app would \"bring exam results into the 21st century”. He branded current school record keeping as “horribly out of date” and signalled his plans to digitise further.\\nIn a sign of Labour ’s drive to expand tech in the education sector, he left the door open to teachers’ school reports or termly assessment grades being included in the app in the future.\\nAsked if they would be, Mr Morgan said: “Through the pilot, we will learn the benefits of the current programme, but also learn lessons for future development. The government\\'s been really clear in its Plan for Change that we want to use technology to modernise public services and to grow the economy. So I\\'m open to ideas on what the future holds for this.”\\nMinisters have encouraged the use of artificial intelligence in schools to aid teachers in planning lessons or doing other admin tasks. But they face calls to go further including pledging investment to digitise the exam system, with tests still largely done via pen and paper.\\nThis summer’s pilot will see more than 95,000 young people in Greater Manchester and the West Midlands receive their results digitally, with a national rollout to follow. Youngsters will be able to use the app when applying for further education, apprenticeships or employment, saving them the time and stress of scrabbling around for documents.\\nThe government estimates the move could save schools and colleges up to £30million per year once the full roll out is complete, enough money to pay the salaries of more than 600 new teachers in further education.\\nSpeaking to the Mirror, Mr Morgan said: “We\\'re bringing exam results into the 21st century. I think record keeping in our schools is horribly out of date. Paper files are often stored in dusty old cabinets, creating a sort of needless admin for teachers and school support staff and, frankly, wasting public resources.\\n\"I took my GCSE results when the internet was relatively new, long before smartphones allowed access to information at your fingertips. And of course, that just simply isn\\'t the case for children and young people anymore, nor does it reflect the kind of work that they will be going into in the digital systems that are available, and that\\'s why this new app is going to capture qualifications in one place.”\\nThe education minister, who was speaking on a visit to Hathershaw College in Oldham, which has been trialing the app, said the key benefit teachers and students noted was “how simple the technology is”.\\n“I think it reduces some of the stress, but also sort of just improves the transition from school and college,” he added. “I think that\\'s a really exciting thing, so that children can focus on what they need to do, which is about planning their future careers.”\\nPepe Di’Iasio, general secretary of the Association of School and College Leaders, said the app was a “positive step forward”. “Up until now, the development of education technology has tended to take place in a frustratingly piecemeal fashion – essentially led by the market rather than via a cohesive national approach.\\n“We would like to see a much more strategic vision. This should extend to exams themselves which continue to be largely conducted via pen and paper, creating a massive burden in terms of secure storage and transportation of papers and scripts. A digital exam system would improve matters for everyone involved and we urge the government to invest in creating the infrastructure schools and colleges need to make this a reality.”'"
            ],
            "application/vnd.google.colaboratory.intrinsic+json": {
              "type": "string"
            }
          },
          "metadata": {},
          "execution_count": 15
        }
      ]
    },
    {
      "cell_type": "code",
      "source": [
        "print(\"Gemini 2.0:\", df.frame[40], df.sentiment[40])\n",
        "print(\"Gemini 2.5:\", df1.frame[40], df1.sentiment[40])\n",
        "print(\"Mistral:\", df2.frame[40])\n",
        "print()\n",
        "print(df.title[40])\n",
        "df.maintext[40]\n",
        "#1 1\n",
        "#1 1\n",
        "#1"
      ],
      "metadata": {
        "colab": {
          "base_uri": "https://localhost:8080/",
          "height": 226
        },
        "id": "LtRP7M2ec7i9",
        "outputId": "9d3657f1-c4bf-492f-df01-b98e6792052f"
      },
      "execution_count": null,
      "outputs": [
        {
          "output_type": "stream",
          "name": "stdout",
          "text": [
            "Gemini 2.0: AI impacts on businesses, economy, and jobs 3\n",
            "Gemini 2.5: AI impacts on businesses, economy, and jobs 5\n",
            "Mistral: AI impacts on businesses, economy, and jobs\n",
            "\n",
            "Telappliant Acquires Splicecom to Drive Innovation in UK Communications Market\n"
          ]
        },
        {
          "output_type": "execute_result",
          "data": {
            "text/plain": [
              "'London, UK – 1st May 2025 – Telappliant, an established managed service provider of communications and IT solutions, has announced the acquisition of Splicecom, a UK-based developer of telecoms platforms. The move strengthens Telappliant’s communications portfolio, expands its national reseller network, and lays the foundation for an AI-powered evolution in business communications.\\nA Natural Progression in a Trusted Partnership\\nTelappliant has long supported Splicecom as a services partner, delivering services and support around its telephony platform. This established working relationship has created strong operational alignment and mutual trust. The acquisition brings together complementary strengths in platform development, service delivery, and channel support.\\nBuilding Integrated, Intelligent Communications\\nThe acquisition supports Telappliant’s strategy to move beyond commoditised telecoms services by investing in platform ownership, product innovation, and service intelligence. Splicecom’s proprietary technology and reseller relationships will strengthen Telappliant’s offering, enabling it to deliver a fully integrated communications stack—simplifying operations and enhancing customer and partner experiences.\\n“As Splicecom’s services partner, we’ve built a close working relationship and understand both the platform and the team,” said Muhammad Nasim, Managing Director at Telappliant. “This acquisition deepens that connection and gives us the opportunity to accelerate innovation. With Splicecom’s respected technology and our service-led approach, we’re creating a future-ready platform that delivers meaningful value to our partners and customers.”\\n“This next step in our relationship is a natural one,” added Abid Bhatti, Operations Director at Splicecom. “We’ve worked closely with Telappliant for many years and have built a strong partnership. Joining forces allows us to innovate faster and bring even greater value to our reseller network and end users.”\\nFrom Telephony to AI-Powered Communications\\nWith Splicecom’s platform now under Telappliant’s ownership, development will focus on\\nembedding artificial intelligence and business intelligence features, including:\\nReal-time transcription and translation\\n• Sentiment and keyword analysis\\nIntelligent call categorisation and actionable insights\\n• Virtual receptionists and enhanced CRM integration\\n• Compliance monitoring and automated escalation\\n• Business intelligence tools for strategic optimisation\\nThese capabilities will help organisations improve efficiency, enhance user experience, and make smarter, data-driven decisions.\\nExpanding reach across channel and sector\\nThe acquisition strengthens Telappliant’s position within the UK reseller channel and supports continued growth across key sectors, including healthcare, education, finance, and retail. Together, the combined capabilities of both companies will enable scalable, flexible, and future-ready communications solutions for businesses of all sizes.\\nAbout Telappliant\\nFounded in 2003, Telappliant is a UK-based Managed Service Provider (MSP) specialising in communications, connectivity, and IT. With a focus on delivering integrated, scalable solutions, Telappliant supports businesses across a wide range of industries and is committed to driving digital transformation through innovation and customer-first service.\\nAbout Splicecom'"
            ],
            "application/vnd.google.colaboratory.intrinsic+json": {
              "type": "string"
            }
          },
          "metadata": {},
          "execution_count": 16
        }
      ]
    },
    {
      "cell_type": "code",
      "source": [
        "print(\"Gemini 2.0:\", df.frame[45], df.sentiment[45])\n",
        "print(\"Gemini 2.5:\", df1.frame[45], df1.sentiment[45])\n",
        "print(\"Mistral:\", df2.frame[45])\n",
        "print()\n",
        "print(df.title[45])\n",
        "df.maintext[45]\n",
        "#1 1\n",
        "#1 1\n",
        "#1"
      ],
      "metadata": {
        "colab": {
          "base_uri": "https://localhost:8080/",
          "height": 226
        },
        "id": "4KmH-7-xf0Uv",
        "outputId": "bcad3170-9702-4e01-f036-bb25474b1679"
      },
      "execution_count": null,
      "outputs": [
        {
          "output_type": "stream",
          "name": "stdout",
          "text": [
            "Gemini 2.0: AI impacts on businesses, economy, and jobs 3\n",
            "Gemini 2.5: AI competition and market dynamics in tech industries 5\n",
            "Mistral: AI impacts on businesses, economy, and jobs\n",
            "\n",
            "AI Agents Market Size to Hit $50.31 Billion by 2030 at CAGR 45.8% - Grand View Research, Inc.\n"
          ]
        },
        {
          "output_type": "execute_result",
          "data": {
            "text/plain": [
              "\"SAN FRANCISCO, May 6, 2025 /PRNewswire/ -- The global AI agents market size is expected to reach USD 50.31 billion by 2030, registering a CAGR of 45.8% from 2025 to 2030, according to a new report by Grand View Research, Inc. This high growth is driven by advancements in AI, machine learning, and NLP. AI agents, including chatbots, virtual assistants, and autonomous decision-making systems, are being increasingly adopted across industries such as healthcare, finance, e-commerce, and customer service. Businesses leverage AI agents to enhance operational efficiency, reduce costs, and improve user experience. The rising demand for automation, coupled with the proliferation of big data and cloud computing, is further accelerating market expansion. For instance, in October 2024, Honeywell International Inc., a U.S.-based technology company, and Google Cloud announced a collaboration to integrate AI agents with Honeywell Forge, Honeywell's IoT platform, to enhance autonomous operations in the industrial sector, improve productivity, and upskill workers. The aims to utilize Google Cloud's Gemini AI technology to offer purpose-built industrial AI agents and advanced cybersecurity solutions.\\nThe rise of Automated Customer Service Agents (ACSAs) is transforming the landscape of the AI agent industry in several significant ways. As businesses aim to streamline operations, improve customer experience, and reduce costs, the integration of AI-driven customer service solutions has become a key element of their strategy. This rapid adoption and evolution of ACSAs are driving innovation, creating new opportunities, and shaping the future of AI in customer interaction. Moreover, AI agents handle multiple inquiries simultaneously, which dramatically reduce waiting times and improve service levels. This ability to scale operations efficiently is particularly valuable for businesses with a high volume of customer interactions, making the AI agent industry an essential component in modern customer service strategies. For instance, In January 2024, Google LLC launched Agentspace, a platform that enables retailers to build intelligent AI agents for personalizing customer experiences and optimizing operations. The platform helps retailers automate tasks such as inventory management, customer support, and product recommendations to improve efficiency and drive customer satisfaction.\\nRequest a free sample copy or view report summary: AI Agents Market\\nMoreover, AI agents are becoming more adaptable and tailored to specific industries, such as healthcare, finance, e-commerce, and education. AI tools designed for healthcare, for instance, can assist with medical diagnoses, monitor patient health, or automate administrative tasks, while AI agents in finance can enhance fraud detection, streamline customer onboarding, and optimize trading algorithms. These AI solutions can now be deployed with minimal effort, providing significant advantages in terms of speed and cost-effectiveness. For instance, in September 2024, Salesforce, Inc. and IBM Corporation collaborated to deliver advanced AI agents for sales and services, enabling organizations to automate tasks while maintaining control over their data, especially in regulated industries. By combining Salesforce's Agentforce with IBM's watsonx and Granite models, businesses can enhance productivity, streamline operations, and improve customer experiences through customized autonomous agents powered by their enterprise data.\\nAI Agents Market Report Highlights:\\nThe machine learning segment dominated the AI agents market in 2024, accounting for over 29% of global revenue. Machine learning is witnessing a remarkable transformation through the integration of AI agents, which are redefining how tasks are approached and executed across various industries. These intelligent systems function autonomously, utilizing advanced algorithms to learn from their environments and improve their performance over time.\\nThe single-agent systems segment dominated the market in 2024. Single-agent systems in AI are experiencing significant growth, driven by their simplicity, efficiency, and effectiveness in specific applications. These systems operate with a centralized decision-making model, making them particularly suitable for tasks that require quick, consistent responses.\\nThe ready-to-deploy agents segment dominated the market in 2024. Ready-to-deploy AI agents, such as chatbots, virtual assistants, and recommendation engines, can be seamlessly incorporated into websites, mobile apps, and enterprise software.\\nThe customer service and virtual assistant segment dominated the market in 2024.AI agents are revolutionizing customer service and virtual assistance by leveraging advanced technologies to enhance efficiency, improve customer satisfaction, and streamline operations across various industries.\\nThe enterprise segment dominated the market in 2024. AI agents are revolutionizing the landscape of enterprise automation, ushering in a new era characterized by enhanced efficiency, adaptability, and intelligence.\\nThe North America region accounted for the largest share of the global market in 2024. Businesses are leveraging AI agents to enhance customer service, streamline operations, and improve decision-making, leading to higher efficiency and cost savings. The proliferation of AI-driven chatbots, virtual assistants, and autonomous systems in sectors like healthcare, finance, retail, and manufacturing is further propelling market expansion.\\nRead full market research report on AI Agents Market with TOC - AI Agents Market Size, Share & Trends Analysis Report By Technology (ML, NLP), By Agent System (Single Agent Systems, Multiple Agent Systems), By Type, By Application, By End-use, By Region, And Segment Forecasts, 2025 - 2030\\nAI Agents Market Segmentation\\nGrand View Research has segmented the global AI agents market based on technology, agent system, type, application, end use, and region:\\nAI Agents Market - Technology Outlook (Revenue, USD Million, 2017 - 2030)\\nMachine Learning\\nNatural Language Processing (NLP)\\nDeep Learning\\nComputer Vision\\nOthers\\nAI Agents Market - Agent System Outlook (Revenue, USD Million, 2017 - 2030)\\nSingle Agent Systems\\nMulti Agent Systems\\nAI Agents Market - Type Outlook (Revenue, USD Million, 2017 - 2030)\\nReady-to-Deploy Agents\\nBuild-Your-Own Agents\\nAI Agents Market - Application Outlook (Revenue, USD Million, 2017 - 2030)\\nCustomer Service and Virtual Assistants\\nRobotics and Automation\\nHealthcare\\nFinancial Services\\nSecurity and Surveillance\\nGaming and Entertainment\\nMarketing and sales\\nHuman Resources\\nLegal and compliance\\nOthers\\nAI Agents Market - End Use Outlook (Revenue, USD Million, 2017 - 2030)\\nConsumer\\nEnterprise\\nIndustrial\\nAI Agents Market - Regional Outlook (Revenue, USD Million, 2017 - 2030)\\nNorth America\\nU.S.\\nCanada\\nMexico\\nEurope\\nU.K.\\nGermany\\nFrance\\nAsia Pacific\\nChina\\nJapan\\nIndia\\nSouth Korea\\nAustralia\\nLatin America\\nBrazil\\nMiddle East and Africa (MEA)\\nUAE\\nKSA\\nSouth Africa\\nList of Key Players in the AI Agents Market\\nAlibaba Group Holding Limited\\nAmazon Web Services, Inc.\\nApple, Inc.\\nBaidu, Inc.\\nGoogle LLC\\nInternational Business Machines Corporation\\nMeta\\nMicrosoft\\nNVIDIA Corporation\\nSalesforce, Inc.\\nCheck out more related studies published by Grand View Research:\\nAI Agents In Financial Services Market - The global AI agents in financial services market size is estimated to reach USD 4.49 billion by 2030 and is expected to grow at a CAGR of 45.4% from 2025 to 2030, according to a new report by Grand View Research, Inc. AI agents are rapidly transforming financial services by automating complicated processes, improving decision-making, and serving personalized customer experiences.\\nAI Trust, Risk And Security Management Market - The global AI trust, risk and security management market size is expected to reach USD 7.44 billion by 2030, registering a CAGR of 21.6% from 2025 to 2030, according to a new report by Grand View Research, Inc. As organizations increasingly embrace AI, concerns around bias, explainability, and security vulnerabilities have grown, making AI trust, risk, and security management (TRiSM) solutions essential for managing these risks effectively.\\nAI In Warehousing Market - The global AI in warehousing market size is anticipated to reach USD 45.12 billion in 2030 and is expected to grow at a CAGR of 26.1% from 2025 to 2030, according to a new report by Grand View Research, Inc. This can be attributed to the surge in e-commerce, which demands faster and more accurate order fulfillment.\\nEdge AI Software Market - The global edge AI software market size is anticipated to reach USD 8.91 billion by 2030 and is anticipated to expand at a CAGR of 29.2% during the forecast period, according to a new report by Grand View Research, Inc. Numerous factors such as proliferation of Internet of Things (IoT) devices, increasing demand for real-time decision-making, advancements in artificial intelligence (AI) and Machine Learning, and 5G network expansion are primarily contributing to market growth.\\nBrowse Horizon Databook on Hydrogen Generation Market – Global AI Agents Market Size & Outlook\\nAbout Grand View Research\\nGrand View Research, U.S.-based market research and consulting company, provides syndicated as well as customized research reports and consulting services. Registered in California and headquartered in San Francisco, the company comprises over 425 analysts and consultants, adding more than 1200 market research reports to its vast database each year. These reports offer in-depth analysis on 46 industries across 25 major countries worldwide. With the help of an interactive market intelligence platform, Grand View Research Helps Fortune 500 companies and renowned academic institutes understand the global and regional business environment and gauge the opportunities that lie ahead.\\nExplore Horizon Databook – The world's most expansive market intelligence platform developed by Grand View Research. Gain insights from 30K+ Global & Regional Reports, 120K+ Country Reports, 1.2M+ Market Statistics, 200K+ Company Profiles, and 5 business solutions encompassing ESG and Sustainability Consulting, Procurement Intelligence, Pricing Index and Analysis, and Consumer Analytics.\\nContact:\\nSherry James\\nCorporate Sales Specialist, USA\\nGrand View Research, Inc.\\nPhone: 1-415-349-0058\\nToll Free: 1-888-202-9519\\nEmail: sales@grandviewresearch.com\\nWeb: https://www.grandviewresearch.com\\nFollow Us: LinkedIn | Twitter\\nBlog - https://globalindustryherald.com/\""
            ],
            "application/vnd.google.colaboratory.intrinsic+json": {
              "type": "string"
            }
          },
          "metadata": {},
          "execution_count": 17
        }
      ]
    },
    {
      "cell_type": "code",
      "source": [
        "print(\"Gemini 2.0:\", df.frame[50], df.sentiment[50])\n",
        "print(\"Gemini 2.5:\", df1.frame[50], df1.sentiment[50])\n",
        "print(\"Mistral:\", df2.frame[50])\n",
        "print()\n",
        "print(df.title[50])\n",
        "df.maintext[50]\n",
        "#1 1\n",
        "#1 1\n",
        "#0"
      ],
      "metadata": {
        "colab": {
          "base_uri": "https://localhost:8080/",
          "height": 226
        },
        "id": "s5vpJICAdjqt",
        "outputId": "11c958a0-3932-4db6-d21b-5d3de6e778db"
      },
      "execution_count": null,
      "outputs": [
        {
          "output_type": "stream",
          "name": "stdout",
          "text": [
            "Gemini 2.0: AI regulations, ethics, and data privacy -2\n",
            "Gemini 2.5: AI regulations, ethics, and data privacy -2\n",
            "Mistral: AI impacts on businesses, economy, and jobs\n",
            "\n",
            "How to protect your personal and financial data from cyber attacks\n"
          ]
        },
        {
          "output_type": "execute_result",
          "data": {
            "text/plain": [
              "'High profile cyber hacks at Marks & Spencer and the Co-op in recent weeks have created plenty of inconvenience for customers.\\nInvestors have been hit, with the M&S share price falling since its cybersecurity incident, but it is not just your portfolio that you should be worrying about.\\nExperts warn that individuals, as well as retailers, need to take data protection seriously otherwise you could be putting sensitive financial information at risk and leave yourself open to scams.\\nMarijus Briedis, chief technology officer at NordVPN, said: “In the short term, customers face delayed transactions, in-store or online outages, reduced availability of products and an overall poor shopping experience.\\n“More significantly, these attacks can expose sensitive customer data — including payment information, contact details, and purchase histories — depending on which systems are compromised.\"\\nData protection firm Yubico’s recent State of Global Authentication survey found that respondents’ most commonly compromised passwords are on the apps and services that hold their most confidential, financial and personal information.\\nIts regional director for the UK and Ireland Niall McConachie said: “While the onus remains on retailers to step up their security, consumers must also apply caution and take action to enhance their data security, in turn protecting their sensitive financial data.”\\nHere is how to protect your financial data from the risks of cyber hacks.\\nThe importance of strong passwords\\nMost online activity nowadays requires a password that isn’t too easy to guess. Experts advise against using the same password for different accounts.\\nBriedis says this is often the first line of defence against a hack, adding: “If one password gets leaked in a breach, you don’t want it to open the doors to your email, bank, and shopping accounts all at once. Avoid birthdays or easily guessed passwords and consider using encrypted password vaults to store them safely if you can’t remember them all.\\n“Two-factor authentication (2FA) is one of the simplest, most effective tools available. It can block the majority of unauthorised access attempts — even if someone has your password. “This usually involves having access codes sent to your mobile phone when trying to log in via a website.”\\nConsumers can also use multi-factor authentication such as your fingerprint or face-scan, which will be specific to you and your device.\\nComputer updates may be slow and inconvenient but old software is easier to hack.\\nBriedis added: “Cybercriminals love exploiting old software, so keep all of your devices and apps updated. This is especially important if the affected companies have issued updates to help protect your data.\"\\nThe risks of public wi-fi\\nIf you are working from a coffee shop or out at the pub, free public wi-fi can be attractive.\\nBut be careful about the data you share and apps you access.\\nBriedis said: “Public networks are a hotspot for data interception.\\n“One very simple rule to follow is to avoid online banking or inputting payment details over public Wi-Fi, unless you’re using a virtual private network (VPN).\\n“It’s not about avoiding online shopping altogether — it’s about being smart. Stick to trusted retailers, check for HTTPS, and avoid saving your card information if possible.\"\\nLimit how much you share on social media\\nIt may be fun to share your latest birthday or anniversary celebrations online but this can also supply hackers with useful personal information.\\nSiobhan Blagbrough, financial crime manager at Ocean Finance, said: “Social media is a goldmine for criminals looking for personal info to guess passwords or security questions.\\n“Think twice before posting your pet’s name, school details or your birthday - all common password choices.”\\nStash some cash\\nThe recent power outages in Europe highlight the risk of an over-reliance on technology such as online shopping or contactless payments.\\nSimon Phillips, managing director at the travel money specialists No1 Currency, said:\\n“Most of us take card and contactless payments for granted, and the technology is great - right up until the moment it stops working.\\n“The cyberattacks on M&S and the Co-op, and the nationwide power outages in Spain and Portugal, turned millions of people’s smartphones into expensive paperweights and left them with only one way to pay for things - cash.\\n“Cash sometimes has an image problem. While many people use it every day and cash usage has surged following the cost of living crisis, some still see it as a bit low-tech.\\n“But keeping some cash in your purse or wallet is common sense. It’s easy to use, there are no hidden charges and you can always rely on it if digital payments go down.\\n“Card and contactless payments are useful, practical and safe. But they rely on tech infrastructure that is fallible, and this is why you should always keep some cash as a back-up, both in Britain and especially when you’re travelling abroad.”\\nStay ahead of the hackers\\nIt is important to be aware of the different ways a hacker may target you.\\nCyber attacks don’t just occur by stealing data in a hack.\\nSome hackers may use artificial intelligence tools to trick you into thinking you are dealing with a relative, friend or someone from your bank to send money, especially if they have already accessed your personal details online.\\nLouise Cockburn, information security culture manager at Quilter, said: “These scams can use any messaging channel, including phone calls, WhatsApp messages, LinkedIn, even voice notes using faked voice software.\\n\"As such, it is vital to always check that any person you are dealing with is who you think they are. If you are unable to verify it in person, you will be able to validate it through a separate and verified channel. It can also be helpful to agree a code word with trusted financial advisers or your loved ones in advance so that you can verify who you are speaking with.\\n“You should always avoid downloading any remote desktop software, particularly if you have been contacted out of the blue as attackers may use this to try and gain access to your computer.”\\nTrack your data\\nKeep an eye on your bank statements for any suspicious transactions that may suggest your card has been cloned or that your financial details have been stolen.\\nUseful tools such as Have I Been Pwned will also tell you if your email address appears in any data breaches.'"
            ],
            "application/vnd.google.colaboratory.intrinsic+json": {
              "type": "string"
            }
          },
          "metadata": {},
          "execution_count": 18
        }
      ]
    },
    {
      "cell_type": "code",
      "source": [
        "print(\"Gemini 2.0:\", df.frame[55], df.sentiment[55])\n",
        "print(\"Gemini 2.5:\", df1.frame[55], df1.sentiment[55])\n",
        "print(\"Mistral:\", df2.frame[55])\n",
        "print()\n",
        "print(df.title[55])\n",
        "df.maintext[55]\n",
        "#0 1\n",
        "#1 1\n",
        "#1"
      ],
      "metadata": {
        "colab": {
          "base_uri": "https://localhost:8080/",
          "height": 226
        },
        "id": "SxpctL1Ef-T7",
        "outputId": "f17f4c26-8925-44ee-fece-4f3a7e644385"
      },
      "execution_count": null,
      "outputs": [
        {
          "output_type": "stream",
          "name": "stdout",
          "text": [
            "Gemini 2.0: AI-based innovative solutions -2\n",
            "Gemini 2.5: AI regulations, ethics, and data privacy -1\n",
            "Mistral: AI disruptions in media and creative industries\n",
            "\n",
            "How to spot a dropshipping scam on your Instagram feed: All the clues that 'rip off' middle men could be about to trick you into buying goods they don't even own\n"
          ]
        },
        {
          "output_type": "execute_result",
          "data": {
            "text/plain": [
              "'Have you been scrolling through Instagram and come across a clothing deal that looks too good to be true?\\nPerhaps a trendy-looking brand is shutting down after 25 years in business, or they have over-ordered on polo shirts and are having a fire sale.\\nMore often than not, you\\'ve never heard of the brand - but what does that matter if you\\'re getting a good deal?\\nIt matters because you\\'re turning your cash over to scammers who milk innocent shoppers by selling cheap Chinese-made goods at an inflated price.\\nThese scams - known as \\'dropshipping\\' operations - see tricksters buy up extremely cheap goods before trying to sell them online with a wildly unfair markup attached.\\nOften, they don\\'t even own the goods - instead ordering them to you directly via wholesalers and taking their cut as a middleman.\\nWhile not illegal, these operations are intended to be a quick and easy means of making money, and are easy for scammers to set up.\\nPlatforms such as Shopify, an online shopping platform, can drum up a legitimate-looking website in minutes.\\nCon artists will drum up convincing-sounding descriptions for their items and even generate images using artificial intelligence (AI) to legitimise the scam.\\nThey then embark on an aggressive advertising campaign on social media, buying up ads on Instagram, Facebook and TikTok to entrap as many buyers as possible in a short space of time.\\nIf they\\'re lucky, they make off with a handful of cash - while buyers ensnared by what looked like a legitimate shopping operation are left with goods of questionable quality, for which they\\'ve paid through the nose.\\nSo how can you spot an Instagram scam and avoid falling victim to the dropshippers? It\\'s easier than you think - and you don\\'t need to be a techie to catch them out.\\nIs this a legitimate brand?\\nSocial media makes it easier than ever for scammers to create legitimate-looking brands - but there are ways of spotting whether someone is having you on.\\nFor one, dropshippers make and scrap brands regularly, hoping to catch shoppers off-guard.\\nThat means you can often spot a dropshipping scam by checking how recently its website was registered by performing what is known as a \\'WHOIS lookup\\' - an easy way of spotting scams, particularly those framed as businesses closing down.\\nA WHOIS lookup involves looking up when a website was registered, and is done by entering a web address into a lookup tool such as ICANN Lookup.\\nIf the website was registered fairly recently, that\\'s a red flag.\\nUK based enterprises will also likely register as a company with Companies House. If you can\\'t find any mention of the firm on Companies House, or any suggestion the firm is based in the UK, be wary.\\nSocial media can also be a great help. Scammers regularly reuse Instagram and Facebook pages, recycling them by changing the names and profile pictures.\\nYou can check the profile of an Instagram advertiser by hitting the \\'...\\' button at the top right of a post and choosing \\'About this advertiser\\'.\\nSimilarly, if you click on the name of an advertiser on Facebook, you can view information about when a page was registered, if its name was changed and where its administrators are based.\\nThis is called Page Transparency, and is located in the About section of every Facebook Page.\\nIn one case, we found a page purporting to be a London-based fashion brand closing down after more than 20 years.\\nIn reality, the page was created in 2022, and only changed its name to that of the fashion brand in March this year - while its admins are based in the US and Vietnam.\\nAnd Facebook\\'s Ad Library - a publicly viewable record of adverts run by a Facebook page - showed it had been running adverts since March, and not once prior.\\nIf you spot any red flags like these, run for the hills and save your cash.\\nCan you find the goods elsewhere?\\nThe most aggravating element of dropshipping is that the goods being sold are readily available across the internet for much less.\\nFortunately, it\\'s easy to find out if you\\'re being hustled.\\nIf you are using Google Chrome on desktop or on mobile, you can use the built-in Google Lens feature to select an image and look for similar results elsewhere.\\nOn desktop, you can right click the photo and select \\'Search with Google Lens\\' - on mobile, it\\'s in the address bar, represented as a camera icon.\\nAfter you have selected the item, Google Lens will then search for identical images of goods sold elsewhere. Within seconds, you\\'ll likely spot the same clothing for sale elsewhere, usually for much less.\\nIf you don\\'t use Google, or would prefer not to, you can also look up images using another reverse image search engine such as TinEye.\\nSave a picture of the clothing in question to your phone or desktop, and upload it to the site - if there are identical matches, the item is probably being dropshipped.\\nHow long does it take to ship?\\nDropshipping operations see scammers put in orders with wholesalers in Asia directly after taking an order from a victim.\\nThis means that the goods must then be shipped from countries such as China, which will take days to reach the buyer.\\nTake a look at the shipping policy of the website you are on. If it isn\\'t offering delivery in the space of a few days, it\\'s likely to be a dropshipping operation.\\nHave the goods been inexplicably discounted?\\nDropshippers catch out unwitting victims with the non-existent threat of missing out on a good deal.\\nThey will either say the business is closing down, or has over-ordered on stock, or is having a fire sale.\\nAs a result goods will almost always be listed at an extraordinarily high price suggesting quality, marked down to convince buyers they\\'d be absolutely stupid not to buy while they can.\\nThere may even be multi-buy discounts, taking a percentage off the total for buying in bulk.\\nBut even these \\'discounts\\' are hugely inflated compared to the price the dropshippers will have paid for the cheap goods in the first place.\\nOn one website, we found an \\'elegant spring coat\\' for sale for £49.95, marked down from £144.95. But using the Google Lens trick, we found the same jacket for sale on Amazon for £35.\\nSimilarly, a £100 waterproof jacket, reduced to £30, was on sale from Amazon for just £7.\\nAs per, the old adage applies: if it looks too good to be true, it probably is.\\nIs AI involved?\\nArtificial intelligence products such as ChatGPT, Google Gemini and Microsoft Copilot are ubiquitous in their usage across dropshipping operations - but that makes it easier for you to catch out scammers.\\nSince dropshipping is a minimum-effort, maximum-payout scam, those trying it on will likely use AI to generate descriptions of the items for sale to save them time.\\nBut you can copy and paste this text into an AI detector such as GPTZero, which will give a percentage likelihood that text was generated by artificial intelligence.\\nWe fed the description of a quarter-zip jumper into the tool and it told us the text was highly likely to be AI generated.\\nFor reassurance, we also fed this article into the same tool, and it told us that it appeared to be written by a human - to the relief of our reporter.\\nBeware images too. There\\'s a danger that they have been made with AI in order to make a dropshipping enterprise look legitimate.\\nIn one case, a website was topped with a photograph of a fashionable older couple holding hands outside what appeared to be their shop with a \\'closing\\' sign in the window.\\nBut closer inspection of the image reveals some telltale clues that none of what is on show is real.\\nThe couple weren\\'t reflected in the window of the store - and one of the reflections in the closing-down sign appeared to continue the fabric of the tan jacket that hung behind it in the window.\\nA view of the full-size image also revealed some disturbing details - such as their clasped hands melding into a bizarre horror movie-esque disaster, and the woman\\'s eyes travelling in different directions.\\nHer necklace also appeared to disappear into her t-shirt, while the lining of her jacket similarly faded into the outer layer.\\nLike text, you can check if images are AI generated by uploading a screenshot of the image from your phone or desktop to a service such as WasItAI, which can give an accurate reflection of whether a picture is real.\\nCan you contact the seller?\\nIf you have nothing to hide, you have nothing to fear, goes the expression - and when it comes to spotting dropshippers, it\\'s a good rule to follow.\\nLegitimate online enterprises operating under UK regulations are required to provide certain contact information, such as contact details and an address.\\nIf you are struggling to find these details on the website of a clothing retailer it\\'s highly likely the brand is operating outside the UK - and probably doesn\\'t want to give you an address.\\nHave a look at the terms and conditions too. In one case, we found a dead giveaway of a dropshipping operation tucked away in the return policy of a website claiming to be a London-based fashion house.\\nIn all capital letters, it noted: \\'All returns will be sent to our central warehouse in Asia at the buyer\\'s expense\\' - suggesting the items were never in London in the first place.\\nWhat are other people saying?\\nBeware the reviews on any dropshipping website: if there are a handful of five-star testimonies with bland praise (e.g. \\'so many different styles!\\') then run away.\\nInstead, take a look at what people are saying on social media in the comments of the adverts.\\nPeople are wising up to dropshipping operations and getting better at spotting them - pointing them out to fellow social media users.\\nOne example of advertising we found was littered with warnings that the website was likely to be a scam. Trust the wisdom of the crowds - and don\\'t be taken in by slick Instagram ads.\\nGo with your gut\\nIf all else fails, resist the temptation of put in an order until you\\'ve asked yourself whether you\\'re falling victim to a dropshipping scam.\\nIf something feels off, walk away. There will be another discount another day.\\nMailOnline has previously pulled back the veil on how dropshippers operate, buying up cheap goods from wholesale outlets such as AliExpress and disguising them as premium quality goods.\\nWe revealed how everything from clothing to electricals like Bluetooth speakers and even baby bath mats are ripe for the picking.\\nThese are then aggressively advertised on Facebook and Instagram, or hawked via influencers on TikTok who are paid fees or commission to promote them.\\nBut these goods can be dangerous, not approved for the UK market, and sold by scammers operating outside of the UK who fail to respect consumer law.\\nDr Gillian Brooks, associate professor in strategic marketing at King\\'s College London, previously said that dropshippers try to build up \\'trust\\' with would-be targets in order to make them think they\\'re getting a great deal.\\n\\'They think they\\'re buying from their friend or someone who they trust,\\' she said.\\n\\'Or they think they\\'re buying from what could be perceived as a \"mom and pop shop\" where, in fact, it\\'s all a facade. That\\'s not who you\\'re buying from.\\'\\nMailOnline has contacted the firms featured in this article for comment.'"
            ],
            "application/vnd.google.colaboratory.intrinsic+json": {
              "type": "string"
            }
          },
          "metadata": {},
          "execution_count": 19
        }
      ]
    },
    {
      "cell_type": "code",
      "source": [
        "print(\"Gemini 2.0:\", df.frame[60], df.sentiment[60])\n",
        "print(\"Gemini 2.5:\", df1.frame[60], df1.sentiment[60])\n",
        "print(\"Mistral:\", df2.frame[60])\n",
        "print()\n",
        "print(df.title[60])\n",
        "df.maintext[60]\n",
        "#1 1\n",
        "#1 1\n",
        "#1"
      ],
      "metadata": {
        "colab": {
          "base_uri": "https://localhost:8080/",
          "height": 226
        },
        "id": "oFKMSCBfdkZf",
        "outputId": "8cf1ff49-1583-40e4-a298-248fb8d5aa88"
      },
      "execution_count": null,
      "outputs": [
        {
          "output_type": "stream",
          "name": "stdout",
          "text": [
            "Gemini 2.0: AI in healthcare and climate change 2\n",
            "Gemini 2.5: AI in healthcare and climate change 4\n",
            "Mistral: AI-based innovative solutions\n",
            "\n",
            "Health tech firms showcase innovation to MP and Mayor of the West Midlands\n"
          ]
        },
        {
          "output_type": "execute_result",
          "data": {
            "text/plain": [
              "'A delegation from the University of Birmingham and the West Midlands Combined Authority joined Richard Parker, Mayor of the West Midlands, and Preet Gill, MP for Birmingham Edgbaston, during a meeting with innovators behind some of the next-generation health technologies, supported by the WMHTIA (West Midlands Health Tech Innovation Accelerator).\\nThe WMHTIA has united 21 partners across academia, industry, and the NHS to provide innovators with support in developing and commercialising their technologies.\\nIt has been funded through the pilot Innovation Accelerator programme, led by Innovate UK on behalf of UK Research and Innovation and the Department for Science, Innovation and Technology.\\nThe new model of funding focuses on locally-led innovation to drive economic growth and technological advancement by supporting regional innovative businesses, researchers and entrepreneurs.\\nIn the West Midlands, local leadership has been driven by a partnership comprising of the West Midlands Combined Authority, universities and other research institutions and senior industry representatives.\\nThe visit from Richard Parker came as a further £30m was spread equally across three UK city-regions participating in the pilot Innovation Accelerator programme, which includes a funding boost of £4m for the WMHTIA to continue its support of Health Tech innovators in 2025/26.The additional funding builds on the £100 million already invested between 2022 and 2025.\\nProfessor Neil Hanley, Pro-Vice-Chancellor and head of the College of Medicine and Health at the University of Birmingham, and Professor Marika Taylor, Pro Vice Chancellor and head of College of Engineering and Physical Sciences, welcomed the mayor and MP at the University’s Institute for Translational Medicine.\\nProfessor Hanley touched on the necessity for continued government support for initiatives such as the WMHTIA, which promotes economic growth, improves lives, and is leading in the adoption of innovative healthcare solutions such as Artificial Intelligence (AI) across the West Midlands.\\nRichard Parker, Mayor of the West Midlands, said: “The West Midlands has been leading the way with medical advancements for decades – from X-rays in the late 19th century to the pacemaker in the 1960s. Now, a new generation of entrepreneurs and medical pioneers are using ground-breaking technologies to cut hospital waiting times, improve mobility, and speed up recovery from lifesaving surgery. In the West Midlands, we are investing in top talent and cutting-edge research that is finding solutions to some of the medical world’s most difficult questions. These innovations are improving the lives of people across the region, and across the world.\\n”Professor Marika Taylor, Pro Vice Chancellor and head of College of Engineering and Physical Sciences at the University of Birmingham, said: “The WMHTIA is playing a pivotal role in supporting companies in bringing healthcare devices and innovations to the market. The additional funding will enable us to deepen the Accelerator’s impact on the region.”\\nProfessor Neil Hanley, Pro-Vice-Chancellor and head of the College of Medicine and Health at the University of Birmingham, added: “We are grateful for the hard work of the mayor and colleagues from the West Midlands Combined Authority in helping us secure this extension. Health and Life Sciences is at the heart of our opportunity for economic growth and the Accelerator has already delivered tremendous impact.”'"
            ],
            "application/vnd.google.colaboratory.intrinsic+json": {
              "type": "string"
            }
          },
          "metadata": {},
          "execution_count": 20
        }
      ]
    },
    {
      "cell_type": "code",
      "source": [
        "print(\"Gemini 2.0:\", df.frame[65], df.sentiment[65])\n",
        "print(\"Gemini 2.5:\", df1.frame[65], df1.sentiment[65])\n",
        "print(\"Mistral:\", df2.frame[65])\n",
        "print()\n",
        "print(df.title[65])\n",
        "df.maintext[65]\n",
        "#1 1\n",
        "#1 1\n",
        "#0"
      ],
      "metadata": {
        "colab": {
          "base_uri": "https://localhost:8080/",
          "height": 226
        },
        "id": "S4OpHhZHgThf",
        "outputId": "47093b3f-cb32-4842-ba4a-ccacbf7112f4"
      },
      "execution_count": null,
      "outputs": [
        {
          "output_type": "stream",
          "name": "stdout",
          "text": [
            "Gemini 2.0: AI-based innovative solutions 2\n",
            "Gemini 2.5: AI-based innovative solutions 1\n",
            "Mistral: Not AI related\n",
            "\n",
            "Millions of UK households who have Fairy Liquid next to kitchen sink 'warned'\n"
          ]
        },
        {
          "output_type": "execute_result",
          "data": {
            "text/plain": [
              "'Ocean plastic pollution can carry disease, harm wildlife, and alter the ocean’s critical role taking in carbon dioxide and helping to regulate the planet’s climate.\\nUK households are being urged to mull over the environmental impact of continuously purchasing washing-up liquid in plastic bottles.\\nMillions of tons of plastic end up in Earth’s water bodies every year, and less than 10 percent of the world’s annual plastic production is recycled, according to the World Health Organization. Ocean plastic pollution can carry disease, harm wildlife, and alter the ocean’s critical role taking in carbon dioxide and helping to regulate the planet’s climate.\\nEcover said: “In 2016, less than half of all plastic bottles were collected for recycling and only 7 per cent of those were turned into new bottles. The resulting impact on waterways and marine life is, to put it bluntly, horrifying – with an estimated 12.7 million tonnes ending up in oceans each year.”\\nREAD MORE UK facing NEW mini-heatwave with \\'hottest hour\\' set to roast England\\nThe company’s Long Term Innovation Manager, Tom Domen, said: “Ecover needs to totally rethink plastic.\\n\"Today we are making public our long-term ambition to stop using virgin plastic. It may take us several years, but it is an important goal for us and the planet.”\\nFairy said: “Fairy Max Power antibacterial washing up liquid refill carton allows you to refill your 370ml upside-down bottle more than twice and helps you to save up to 85 per cent of the plastic. The refill is recyclable.\\n“The Max Power bottle with no flip cap gives you Fairy’s ultimately convenient cleaning experience. It helps you get out of the kitchen faster by making washing dishes fast and easy.”\\nUniversity of Leeds researchers used A.I. to model waste management in more than 50,000 municipalities around the world. This model allowed the team to predict how much waste was generated globally and what happens to it.\\nTheir study, published in the journal Nature, calculated a staggering 52 million tonnes of plastic products entered the environment in 2020 – which, laid out in a line would stretch around the World over 1,500 times.\\nIt also revealed that more than two thirds of the planet’s plastic pollution comes from uncollected rubbish with almost 1.2 billion people — 15% of the global population — living without access to waste collection services.\\nDr Costas Velis, academic on Resource Efficiency Systems from the School of Civil Engineering at Leeds, led the research.\\nHe said: “We need to start focusing much, much more on tackling open burning and uncollected waste before more lives are needlessly impacted by plastic pollution. It cannot be ‘out of sight, out of mind’.”'"
            ],
            "application/vnd.google.colaboratory.intrinsic+json": {
              "type": "string"
            }
          },
          "metadata": {},
          "execution_count": 21
        }
      ]
    },
    {
      "cell_type": "code",
      "source": [
        "print(\"Gemini 2.0:\", df.frame[69], df.sentiment[69])\n",
        "print(\"Gemini 2.5:\", df1.frame[69], df1.sentiment[69])\n",
        "print(\"Mistral:\", df2.frame[69])\n",
        "print()\n",
        "print(df.title[69])\n",
        "df.maintext[69]\n",
        "#1 1\n",
        "#1 1\n",
        "#1"
      ],
      "metadata": {
        "colab": {
          "base_uri": "https://localhost:8080/",
          "height": 174
        },
        "id": "ohf35jcGdu3W",
        "outputId": "4d98dc4f-b1f1-40e4-85be-a0bf4de6393a"
      },
      "execution_count": null,
      "outputs": [
        {
          "output_type": "stream",
          "name": "stdout",
          "text": [
            "Gemini 2.0: AI impacts on businesses, economy, and jobs -2\n",
            "Gemini 2.5: AI competition and market dynamics in tech industries -1\n",
            "Mistral: AI impacts on businesses, economy, and jobs\n",
            "\n",
            "Facebook and WhatsApp block biggest new iPhone feature\n"
          ]
        },
        {
          "output_type": "execute_result",
          "data": {
            "text/plain": [
              "\"If you were hoping to use Apple Intelligence to proofread a text message in WhatsApp or spruce up a caption on Instagram or Facebook ...you're out of luck. That's because Meta is blocking access to Apple Intelligence across all of its iPhone apps, including Facebook, Instagram, WhatsApp, and Threads.\\nThe shake-up, first spotted by Brazilian tech blog Sorcererhat Tech, means iPhone owners can't access Writing Tools, which includes Apple Intelligence features to proofread, rewrite, adjust the tone, or summarise text into shorter paragraphs or bullet points. This functionality is blocked entirely in the Meta-owned apps used by billions.\""
            ],
            "application/vnd.google.colaboratory.intrinsic+json": {
              "type": "string"
            }
          },
          "metadata": {},
          "execution_count": 22
        }
      ]
    },
    {
      "cell_type": "code",
      "source": [],
      "metadata": {
        "id": "T58bdJ76oS91"
      },
      "execution_count": null,
      "outputs": []
    },
    {
      "cell_type": "code",
      "source": [],
      "metadata": {
        "id": "e8S0FLaXoTru"
      },
      "execution_count": null,
      "outputs": []
    },
    {
      "cell_type": "code",
      "source": [],
      "metadata": {
        "id": "xfJ0WhR5oTyZ"
      },
      "execution_count": null,
      "outputs": []
    },
    {
      "cell_type": "code",
      "source": [],
      "metadata": {
        "id": "yUuljIvgoT49"
      },
      "execution_count": null,
      "outputs": []
    },
    {
      "cell_type": "code",
      "source": [
        "import pandas as pd\n",
        "\n",
        "df_frame1 = pd.read_csv('/content/drive/MyDrive/Mediacloud/Italy/intelligenza_artificiale_italy_2024-06-01_2025-06-01_frames_newsplease_mediacloud_gemini_2-0.csv')\n",
        "df_frame2 = pd.read_csv('/content/drive/MyDrive/Mediacloud/Italy/intelligenza_artificiale_italy_2024-06-01_2025-06-01_frames_newsplease_mediacloud_gemini_2-5.csv')"
      ],
      "metadata": {
        "id": "q1u2U4YBoUMg"
      },
      "execution_count": null,
      "outputs": []
    },
    {
      "cell_type": "code",
      "source": [
        "df_frame2.frame.value_counts()"
      ],
      "metadata": {
        "colab": {
          "base_uri": "https://localhost:8080/",
          "height": 585
        },
        "id": "Y_v-R6JBo5_e",
        "outputId": "8b7ad719-93b1-4b2e-fe10-78e16012c813"
      },
      "execution_count": null,
      "outputs": [
        {
          "output_type": "execute_result",
          "data": {
            "text/plain": [
              "frame\n",
              "Not AI related                                           432\n",
              "AI impacts on businesses, economy, and jobs              159\n",
              "AI-based innovative solutions                            111\n",
              "AI regulations, ethics, and data privacy                  59\n",
              "AI transformations in education and research              59\n",
              "AI in healthcare and climate change                       56\n",
              "AI competition and market dynamics in tech industries     36\n",
              "AI disruptions in media and creative industries           36\n",
              "AI in national security and global partnerships           29\n",
              "AI in politics, elections, and public opinion             18\n",
              "Other - AI as a societal theme in art and culture          1\n",
              "Other - AI and human cognitive decline                     1\n",
              "Other - AI and the essence of human intelligence           1\n",
              "Other - AI in public discourse and future speculation      1\n",
              "Other                                                      1\n",
              "Name: count, dtype: int64"
            ],
            "text/html": [
              "<div>\n",
              "<style scoped>\n",
              "    .dataframe tbody tr th:only-of-type {\n",
              "        vertical-align: middle;\n",
              "    }\n",
              "\n",
              "    .dataframe tbody tr th {\n",
              "        vertical-align: top;\n",
              "    }\n",
              "\n",
              "    .dataframe thead th {\n",
              "        text-align: right;\n",
              "    }\n",
              "</style>\n",
              "<table border=\"1\" class=\"dataframe\">\n",
              "  <thead>\n",
              "    <tr style=\"text-align: right;\">\n",
              "      <th></th>\n",
              "      <th>count</th>\n",
              "    </tr>\n",
              "    <tr>\n",
              "      <th>frame</th>\n",
              "      <th></th>\n",
              "    </tr>\n",
              "  </thead>\n",
              "  <tbody>\n",
              "    <tr>\n",
              "      <th>Not AI related</th>\n",
              "      <td>432</td>\n",
              "    </tr>\n",
              "    <tr>\n",
              "      <th>AI impacts on businesses, economy, and jobs</th>\n",
              "      <td>159</td>\n",
              "    </tr>\n",
              "    <tr>\n",
              "      <th>AI-based innovative solutions</th>\n",
              "      <td>111</td>\n",
              "    </tr>\n",
              "    <tr>\n",
              "      <th>AI regulations, ethics, and data privacy</th>\n",
              "      <td>59</td>\n",
              "    </tr>\n",
              "    <tr>\n",
              "      <th>AI transformations in education and research</th>\n",
              "      <td>59</td>\n",
              "    </tr>\n",
              "    <tr>\n",
              "      <th>AI in healthcare and climate change</th>\n",
              "      <td>56</td>\n",
              "    </tr>\n",
              "    <tr>\n",
              "      <th>AI competition and market dynamics in tech industries</th>\n",
              "      <td>36</td>\n",
              "    </tr>\n",
              "    <tr>\n",
              "      <th>AI disruptions in media and creative industries</th>\n",
              "      <td>36</td>\n",
              "    </tr>\n",
              "    <tr>\n",
              "      <th>AI in national security and global partnerships</th>\n",
              "      <td>29</td>\n",
              "    </tr>\n",
              "    <tr>\n",
              "      <th>AI in politics, elections, and public opinion</th>\n",
              "      <td>18</td>\n",
              "    </tr>\n",
              "    <tr>\n",
              "      <th>Other - AI as a societal theme in art and culture</th>\n",
              "      <td>1</td>\n",
              "    </tr>\n",
              "    <tr>\n",
              "      <th>Other - AI and human cognitive decline</th>\n",
              "      <td>1</td>\n",
              "    </tr>\n",
              "    <tr>\n",
              "      <th>Other - AI and the essence of human intelligence</th>\n",
              "      <td>1</td>\n",
              "    </tr>\n",
              "    <tr>\n",
              "      <th>Other - AI in public discourse and future speculation</th>\n",
              "      <td>1</td>\n",
              "    </tr>\n",
              "    <tr>\n",
              "      <th>Other</th>\n",
              "      <td>1</td>\n",
              "    </tr>\n",
              "  </tbody>\n",
              "</table>\n",
              "</div><br><label><b>dtype:</b> int64</label>"
            ]
          },
          "metadata": {},
          "execution_count": 4
        }
      ]
    },
    {
      "cell_type": "code",
      "source": [
        "df = df_frame1[df_frame1.frame == \"Not AI related\"]\n",
        "len(df)"
      ],
      "metadata": {
        "colab": {
          "base_uri": "https://localhost:8080/"
        },
        "id": "hsjeIfapouQv",
        "outputId": "4a09cc55-72b3-4712-e1f0-bf35a7ead580"
      },
      "execution_count": null,
      "outputs": [
        {
          "output_type": "execute_result",
          "data": {
            "text/plain": [
              "316"
            ]
          },
          "metadata": {},
          "execution_count": 19
        }
      ]
    },
    {
      "cell_type": "code",
      "source": [
        "with pd.option_context('display.max_rows', None, 'display.max_colwidth', None):\n",
        "    print(df['title'])"
      ],
      "metadata": {
        "colab": {
          "base_uri": "https://localhost:8080/"
        },
        "id": "Ct0ATHg0pRwd",
        "outputId": "b918027f-8f72-4b62-d190-74ddef04080b"
      },
      "execution_count": null,
      "outputs": [
        {
          "output_type": "stream",
          "name": "stdout",
          "text": [
            "7                                                                            Ombrelli e fontane, i rimedi dei fedeli contro il caldo\n",
            "13                                                                             \"L'Isola dei Famosi\", quattro naufraghi in nomination\n",
            "14                                                                                                        \"Il Papa è morto di ictus\"\n",
            "24                                                                                       De Luca torna alla carica sul terzo mandato\n",
            "25                                                                              Terremoto, nuova scossa nella zona dei Campi Flegrei\n",
            "28                                                        Festa sopra le righe per nascondere le fratture insanabili del campo largo\n",
            "32                                                                             Corea del Sud, interi villaggi divorati dagli incendi\n",
            "37                                                                                                  Sono finita in terapia intensiva\n",
            "38                                                                       Sull'Isola dei famosi Mirko e Cristina in missione speciale\n",
            "39                                                                                 Bergamo, cosa ci fa una mucca fuori dal terminal?\n",
            "40                                                                   Massa Carrara, incidente sul lavoro in cava marmo: muore 59enne\n",
            "45                                                                      De Pascale a Tgcom24: \"Su Esteri Meloni non divida il Paese\"\n",
            "48                                                                                                                 fermato il marito\n",
            "55                                                                                L'attore Michael Pitt arrestato per abusi sessuali\n",
            "59                                                                        Morta in un dirupo a Ischia nel 2024, \"fu un femminicidio\"\n",
            "63                                                  Israele, sospesa l'udienza sul capo dei servizi segreti dopo le proteste in aula\n",
            "72                                                                            Roma, incendi in poche ore in due stabilimenti a Ostia\n",
            "73                                                                   Friuli, 84enne guida contromano in autostrada per 17 chilometri\n",
            "74                                                              Hawaii, erutta il vulcano Kilauea: la fontana di lava alta 300 metri\n",
            "75                                                                                     Dazi, la cantina Caprai ha giocato d'anticipo\n",
            "77                                                                                       A Chioggia arrivano le vongole dalle Marche\n",
            "79                                                                     Palermo, operaio edile cade dal tetto di una villetta e muore\n",
            "86                                                                    Decreto Sicurezza, testo in Senato il 3 giugno: subito in Aula\n",
            "87                                                             Marine Le Pen condannata a 4 anni di carcere, ineleggibile per 5 anni\n",
            "89                                                              Stalking al campione di nuoto Bortuzzo, condannata Lucrezia Selassiè\n",
            "95                                                                                               Ppe, Tajani rieletto vicepresidente\n",
            "97                                                                           Il Boeing oscilla pericolosamente durante l'atterraggio\n",
            "98                                          \"L'Isola dei famosi\", Antonella Mosetti lascia? \"Non ho elaborato il lutto di mio padre\"\n",
            "100                                                                  Venezia, vaporetto sbatte contro Ponte di Rialto: nessun ferito\n",
            "101                                                                                 congelati 2,2 miliardi di dollari in sovvenzioni\n",
            "104                                       L'insonne notte dei giocatori del Cagliari, corteo di 400 scooter sotto l'albergo a Napoli\n",
            "112                                                                                             \"Così il Papa ci salvò in Argentina\"\n",
            "113                                                                 Grano canadese trattato con glifosato, blitz Coldiretti al porto\n",
            "115                                 G7 in Italia: dopo l’accoglienza da parte della Presidente Meloni iniziati i lavori di confronto\n",
            "118                                                                    Arresto Imamoglu, in migliaia alla manifestazione di Istanbul\n",
            "123                                                                                                    Referendum, il quarto quesito\n",
            "125                                                                                     Sulla Costa dei Trabocchi le Experience Week\n",
            "129                                                                              Prato, mistero sulla scomparsa di Denisa Maria Adas\n",
            "135                                                                    Francesco, il Pontefice della semplicità e della misericordia\n",
            "139                                           Papa Francesco, Santa Sede: domenica vuole affacciarsi dal Gemelli per una benedizione\n",
            "140                                                                Un missile colpisce l'aeroporto di Tel Aviv: lanciato dallo Yemen\n",
            "141                                                                       \"Le 75 coltellate alla vittima non sono segno di crudeltà\"\n",
            "142                                                                                     Michelle Hunziker contesa da due pretendenti\n",
            "146                                                                          Ecuador, incendio nella più grande raffineria del Paese\n",
            "150                                                             Open Arms, Zaia \"Fiducia nella magistratura, basta leggere le carte\"\n",
            "151                                                                            Kate e William, ecco come hanno festeggiato la Pasqua\n",
            "155                                                                       Tre idee per la tua primavera: dalle Alpi al Golfo Persico\n",
            "156                                                                      Leone XIV, il primo giorno di Papa Prevost: la diretta news\n",
            "160                                                                                  Tempeste e tornado nel Sud Usa, almeno 39 morti\n",
            "165                                              Giornata della memoria, Israele commemora i soldati caduti e le vittime di attacchi\n",
            "167                                                                                               viaggio tra miti, sapori e segreti\n",
            "172                                                                                              Milano, Luna Park a rischio sfratto\n",
            "173                                                                          Giulia De Lellis e Tony Effe, quando nascerà la figlia?\n",
            "174                                                                                    Sudafrica, aereo si schianta durante air show\n",
            "176                                                                        Leone XIV, in Perù i fedeli festeggiano per il nuovo Papa\n",
            "183                                                                        \"Amici 24\", l'eliminazione della sesta puntata è rinviata\n",
            "184                                          Istanbul, delegazione russa senza Putin | Zelensky: \"Una farsa\" | Mosca: \"Lui un clown\"\n",
            "185                                                                                      \"I fedeli hanno dimostrato il loro affetto\"\n",
            "186                                                                                                 Corte Usa blocca i dazi di Trump\n",
            "187                                                                     Medimex 2025 con Primal Scream, St. Vincent e Massive Attack\n",
            "189                                                        Omicidio Martina Carbonaro, giudice: \"Morta dopo lunghi minuti di agonia\"\n",
            "191                                                               Neonati sepolti, l'arrivo di Chiara Petrolini in tribunale a Parma\n",
            "192                                                                                  Verissimo, gli ospiti del 5 e del 6 aprile 2025\n",
            "194                                                                              Campi Flegrei, paura e danni dopo lo sciame sismico\n",
            "197                                                           David di Donatello, la 70esima edizione vede il trionfo di \"Vermiglio\"\n",
            "199                                   Biella, tenta di buttarsi dal ponte della Pistolesa, salvato da Carabinieri e Vigili del Fuoco\n",
            "200                                                                                 Molise, la prima scuola intitolata a Sammy Basso\n",
            "203                                                    Voto di scambio, arrestato l'ex presidente della provincia di Salerno Alfieri\n",
            "207                                                                                                                ho perso la testa\n",
            "210                                                                          Funerali Papa Francesco, Roma supera la prova sicurezza\n",
            "212                                                                                     Hailey Baldwin preoccupata per Justin Bieber\n",
            "213                                                                Paura al Giro d'Italia: una capra ha tagliato la strada al gruppo\n",
            "218                                                                                                                 arrestato 15enne\n",
            "220                                                                       Bologna, fuggono dai carabinieri e si schiantano: un morto\n",
            "221                                                                                    Elena D'Amario paparazzata con il nuovo amore\n",
            "228                                                                                                     \"Non mi sento in difficoltà\"\n",
            "229                                                                        \"Tradimento\", le trame della settimana dal 23 al 29 marzo\n",
            "231                                                                                                      morto 50enne nel Napoletano\n",
            "233                                                                     Bonucci-Terry, che coppia! Ma stavolta non giocano in difesa\n",
            "235                                                            \"L'Isola dei Famosi 2025\", c'è anche Mario Adinolfi tra i concorrenti\n",
            "239                                                                                    William e George allo stadio a Parigi per PSG\n",
            "241                                                                 Svizzera, crolla un ghiacciaio, evacuato il villaggio di Blatten\n",
            "243                                                    Elezioni Albania, verso una netta vittoria per il premier socialista Edi Rama\n",
            "245                                                                Usa, pianificava attacco per Isis contro base militare: arrestato\n",
            "248                                                                                       Agguato a Palermo, uomo muore accoltellato\n",
            "254                                                   Meloni: \"Italia credibile in un quadro economico di straordinaria complessità\"\n",
            "256                                                                            Yemen, migliaia di Houthi in piazza contro i raid Usa\n",
            "258                                                                             Il \"Credo\" personale di Mondo Marcio: il nuovo album\n",
            "261                                                                                    Ponte e partenze, quest'anno numeri da record\n",
            "264                                                                                                         “Sono viva per miracolo”\n",
            "265                                                                           \"Saman fu condannata a morte da tutta la sua famiglia\"\n",
            "269                                                                                    Astrologia: i Gemelli e il loro Pianeta guida\n",
            "272                                                    Guerra in Ucraina, Mosca: un raid di Kiev ha distrutto stazione gas di Sudzha\n",
            "276                                                                                                               secondo più votato\n",
            "282                                                                                         A Montecchio è vietato giocare a pallone\n",
            "284                                                                 A Londra in mostra l'iconico costume da bagno di Pamela Anderson\n",
            "286                                                                         Torino, bus turistico cade nel fiume Po: morto l'autista\n",
            "287                                                                              Roma blindata per i funerali del Papa: cosa succede\n",
            "290                                                                         Papa Francesco, il ricordo del Santo Padre a \"Verissimo\"\n",
            "291                                                                 Romina Carrisi in Africa con il figlio Axel e mamma Romina Power\n",
            "294                                                                              Garlasco, l'avvocato Angela Taccia sull'impronta 33\n",
            "295                                                                                          Rolling Stones, 60 anni di Satisfaction\n",
            "300                                                                   Vaticano: \"Aumentano i cattolici nel mondo, sono 1,4 miliardi\"\n",
            "301                                                                           Auto travolge studenti doposcuola in Illinois: 4 morti\n",
            "302                                                                  Ex Ilva, azienda chiede cassa integrazione per 3.926 lavoratori\n",
            "306                Meloni legge il manifesto di Ventotene in Aula: scintille e proteste dall'opposizione. Fontana sospende la seduta\n",
            "317                                                             'Maria', la recensione di Alberto Crespi del film con Angelina Jolie\n",
            "318                                                                    Leone, il nome scelto dal Papa simbolo forte contro i potenti\n",
            "320                                                                                                       accusata di atti vandalici\n",
            "323                                     Israele accusa: \"Fratellini Bibas uccisi a mani nude\". Domani Hamas libera altri sei ostaggi\n",
            "327                                                          Dazi Usa, Von der Leyen: \"Conseguenze terribili, pronti a contromisure\"\n",
            "328                                                                         Principe Harry, ecco come sta dopo le accuse di bullismo\n",
            "330                                                                                         Scoprire la Costiera Amalfitana in kayak\n",
            "332                                                                                                   \"Mai una relazione con Chiara\"\n",
            "335                                                                             presentato a Roma \"Ho visto un re\" di Giorgio Farina\n",
            "339                                                   Afghanistan, nuovo approccio dei talebani alla tutela del patrimonio culturale\n",
            "341                                                                               Turchia, cresce la protesta: oltre 1.800 arrestati\n",
            "342                                                          Paura a Mumbai, esplosione di bombole di gas scatena un grosso incendio\n",
            "345                                                                                                            le notizie in diretta\n",
            "349                                                                      Esclusiva Tgcom24, parla sopravvissuto a strage di Monreale\n",
            "350                                                                  Elodie è Erotica, Magnetica, Audace e Galattica nel nuovo album\n",
            "351                                                                        Irama torna social e...apre una casella postale per i fan\n",
            "354                                                Da Mancini a Pato e Ronaldinho: l'affetto del mondo del calcio per Papa Francesco\n",
            "364                                                              L'India chiude spazio aereo ai velivoli pakistani fino al 23 maggio\n",
            "370                                                                        Caserta, 19enne ucciso in sala slot: giallo sull'omicidio\n",
            "371                                                                            Egitto, affonda sottomarino turistico: almeno 6 morti\n",
            "376                                                Almasri, Corte penale chiede chiarimenti a Italia. Piantedosi andrà in Parlamento\n",
            "378                                                                 Venezuela, l'italiano Alberto Trentini chiama casa dopo sei mesi\n",
            "387                                                     Differito sciopero dei treni del 17/5, sindacati accettano richiesta Garante\n",
            "388                                                                                                 in arrivo il figlio di Tony Effe\n",
            "392                                                                Svizzera, medici possono prescrivere una visita gratis a un museo\n",
            "398                                                                        Garlasco, l'ex pm: \"La prova scientifica era inservibile\"\n",
            "400                                                                                                Emilia Romagna, Umbria e Calabria\n",
            "401                                                                               \"Adottato il primo storico accordo sulle pandemie\"\n",
            "402                                                       Sean Diddy Combs, in aula il video integrale delle violenze alla fidanzata\n",
            "403    Napoli-Milan: fiori e un minuto di silenzio in ricordo di Diego De Vivo, il 14enne morto per un malore durante un allenamento\n",
            "404                                                        Fedez si tatua e svela la nuova canzone: chi è la donna a cui è dedicata?\n",
            "406                                                                        L'altro legale di Andrea Sempio: \"L'impronta? Una bufala\"\n",
            "413                                                                                                             \"Era molto semplice\"\n",
            "418                                                                                Bialetti passa ai cinesi, accordo con Nuo Capital\n",
            "424                                   Raid di Israele in Yemen: colpiti l'aeroporto di Sana'a, una centrale elettrica e una fabbrica\n",
            "428                                                                     Wanda Nara compra una nuova villa con piscina e molo privato\n",
            "434                                                                          Lodi, 14enne scende dal bus e viene travolto da un'auto\n",
            "443                                                                Bari, rubano auto ma vengono inseguiti dalla polizia: due arresti\n",
            "444                                                                            E' la Giornata del colore, i borghi d'Italia in festa\n",
            "446                                                         Snoopy icona di stile: a Parigi una mostra celebra il beagle più fashion\n",
            "449                                                                        Ok a pdl per vittime crolli infrastrutture Stato: è legge\n",
            "453                                                                                              Campi Flegrei, il piano di Musumeci\n",
            "456                                                                  Elon Musk primo nella classifica dei paperoni stilata da Forbes\n",
            "457                                                                                                              erano morti da mesi\n",
            "465                                                                               Congo, imbarcazione prende fuoco: almeno 143 morti\n",
            "467                                                                                  A San Benedetto del Tronto la Pasqua è in Rosso\n",
            "468                                                                                         continua terapie con lievi miglioramenti\n",
            "471                                                                                    Conte dal palco: \"L'alternativa parte da qui\"\n",
            "483                                                                   Conclave, l'\"Extra Omnes\" e la chiusura della Cappella Sistina\n",
            "485                                                    Usa, la segretaria alla Sicurezza mostra i migranti in carcere in El Salvador\n",
            "486                                                                  Papa Francesco in dimissione dal Gemelli: l'annuncio dei medici\n",
            "497                                                                                       Ramazzotti-Daniele, un duetto spettacolare\n",
            "498                                                                   \"The Couple\", tra Manila Nazzaro e Thais Wiggers è intesa vera\n",
            "502                                                       Oggi, continua l’ondata di addii: dopo Verdelli se ne va anche il suo vice\n",
            "507                                                                 Schlein in Liguria, il sostegno alla candidatura di Silvia Salis\n",
            "509                                                                    Mezza Spagna in allerta meteo per vento, pioggia e mareggiate\n",
            "512                                                                Speciale Motori 2025 con Alfa Romeo, BMW, Morgan, Harley Davidson\n",
            "513                                                                                Usa, un tornado devasta una cittadina in Arkansas\n",
            "514                                                                Sean \"Diddy\" Combs, via al processo con la selezione della giuria\n",
            "518                                                                Cecilia Rodriguez incinta, le prime immagini del pancino scoperto\n",
            "521                                                                  Ucciso in Colombia, tracce di Alessandro Coatti con Google maps\n",
            "522                                                                  Megan Fox è diventata mamma, prima figlia con Machine Gun Kelly\n",
            "525                                                            Parigi, la Torre Eiffel si illumina di blu per il vertice \"SOS Ocean\"\n",
            "528                                                           Garlasco, nuovi indizi su Andrea Sempio: al vaglio post social e diari\n",
            "530                            Bologna, prende 50 multe sulla corsia preferenziale ma il giudice lo assolve perché rifugiato ucraino\n",
            "533                                                                     Fmi: in Italia prospettive incerte, pesano dazi e demografia\n",
            "541                                                                                                        La settimana delle stelle\n",
            "545                                               New York, l'Empire State Building si illumina d'oro e di bianco per Papa Leone XIV\n",
            "547                                                      Seoul, il Festival delle Lanterne di Loto in vista del compleanno di Buddha\n",
            "553                                                                                     \"Ho iniziato ad andare in analisi a 18 anni\"\n",
            "555                                                             Deturpata la targa dedicata a Ilaria Sula all'Università del Salento\n",
            "559                                                                     Eleonora Abbagnato, scenata di gelosia a Federico Balzaretti\n",
            "562                                                                   Milano, cantano \"Bella ciao\" in risposta al corteo neofascista\n",
            "563                                                                                               fermato un diciassettenne albanese\n",
            "573                                                          Omicidio Pierina Paganelli, Riesame conferma carcere per Louis Dassilva\n",
            "584                                                          Repubblica Dominicana, crolla il tetto di una discoteca: morti e feriti\n",
            "585                                                    Macerata, operazione \"Los Pollos\": il viaggio della droga da Roma alle Marche\n",
            "587                                                                                                        La settimana delle stelle\n",
            "589                                                               Green Day e Charlie XCX infiammano il secondo giorno del Coachella\n",
            "592                                                                   Clizia Incorvaia e l'amore per Eleonora Giorgi: \"Donna libera\"\n",
            "594                                                                                                          Simion ottiene il 40,5%\n",
            "595                                                                                            dove ogni pedalata diventa esperienza\n",
            "596                                                                          Trump e bin Salman firmano accordo economico strategico\n",
            "597                                                                        Catania, scossa di terremoto di magnitudo 4.8 nella notte\n",
            "602                                                                                                        aveva già perso due figli\n",
            "604                                                                                Anzio (Roma), sparatoria in strada: ucciso 37enne\n",
            "607                                                                                   In Riviera romagnola è tempo di prove d'estate\n",
            "608                                                                               \"Ho sposato un nazista\", la storia di Hilde Keller\n",
            "610                                                                     Papa Leone XIV, l'entusiasmo dei fedeli in piazza san Pietro\n",
            "612                                                            Gerusalemme, giovani ebrei aggrediscono musulmani nella Città Vecchia\n",
            "613                                                                    Incendi boschivi in Corea del Sud, i morti salgono a quota 26\n",
            "614                                                                   Burkina Faso, oltre 50 militari uccisi in un attacco jihadista\n",
            "616                                                           Golosaria tra i Castelli del Monferrato con contorno di arte e cultura\n",
            "619                                                        Satnam Singh, per la vedova del bracciante morto un permesso di soggiorno\n",
            "623                                                                                           tre mesi in più per lasciare il lavoro\n",
            "624                                                                        Tir a fuoco in galleria, Liguria tagliata a metà da 9 ore\n",
            "625                                                                               Istria Slovena: magnifico connubio tra verde e blu\n",
            "636                                                                Colombia, trovato morto il ricercatore italiano Alessandro Coatti\n",
            "637                                                                Stefano De Martino in versione papà… bis con Santiago e Luna Marì\n",
            "639                                                                     Meloni tra Roma, Washington e Asia: agenda fitta dopo Pasqua\n",
            "640                                                                                 \"Isola dei famosi\", lo scontro di Mario Adinolfi\n",
            "643                                                                                     David Beckham festeggia (di nuovo) i 50 anni\n",
            "646                                                                                                            il primo bacio social\n",
            "648                                                       Onde gigantesche travolgono la nave da crociera nel temuto canale di Drake\n",
            "649                                                                               \"Billy Costacurta? Fisicamente gli piaccio ancora\"\n",
            "652                                                              chi è Fridolin Ambongo Besungu, cardinale e arcivescovo di Kinshasa\n",
            "653                                                                      Ex Ilva, chiesta la cassa integrazione per 3.926 dipendenti\n",
            "654                                                                  La Consulta: \"Anche i single possono adottare minori stranieri\"\n",
            "658                                                                            Casa a Pasqua le uova più belle sono quelle fai da te\n",
            "665                                                                                                      quasi sicuramente non umano\n",
            "669                                                                  Giulia Tramontano, il monologo della sorella Chiara a \"Le Iene\"\n",
            "673                                                                           Dichiarazioni precompilate pronte per la consultazione\n",
            "677                             Studenti “fantasma”: negli istituti professionali un alunno su 14 perde l’anno per le troppe assenze\n",
            "678                                                                                        Roma, vacanze di Pasqua con furti in casa\n",
            "679                                               A Roma la manifestazione promossa dal M5s contro il riarmo europeo: presente Conte\n",
            "680                                                                                                      ho sparato per disperazione\n",
            "689                                                                                                            le notizie in diretta\n",
            "692                                                                                                            le notizie in diretta\n",
            "700                                                                          Tempesta di sabbia in Iraq, Arbil coperta dalla polvere\n",
            "702                                      \"Avete ucciso 19mila bambini\", deputato di opposizione portato di forza fuori dalla Knesset\n",
            "706                                                       Dagli Internazionali al Vaticano: Jannik Sinner ricevuto da Papa Leone XIV\n",
            "708                                                                David Beckham festeggia in anticipo 50 anni. Ha tradito Victoria?\n",
            "714                                                                                                  \"Amici\", la vittoria di Daniele\n",
            "717                                                           Terremoto in Birmania, si scava a mani nude tra macerie e disperazione\n",
            "720                                                       Scimpanzé selvatici filmati per la prima volta mentre... condividono alcol\n",
            "725                                                                              Roma, morto il 13enne ferito da un colpo di pistola\n",
            "728                                                                    chi è il cardinale Steiner, francescano e voce dell’Amazzonia\n",
            "730                                                                      Cinque i quesiti: come cambierebbe ottenere la cittadinanza\n",
            "731                                                                 Roma, travolto da auto mentre attraversa la strada: morto 47enne\n",
            "733                                                                 Onu: in Congo 2,3 milioni di persone rischiano di morire di fame\n",
            "735                                                                                        L’ombra di Trump sul World Economic Forum\n",
            "737                                                                                     Montemerano, imperdibile borgo della Maremma\n",
            "741                                                                    \"I fratelli Menendez hanno diritto alla riduzione della pena\"\n",
            "750                                                                                                             cos'è e perché si fa\n",
            "756                                                                 Caserta, sgominata gang di pendolari dei furti in casa: 11 fermi\n",
            "768                                                                            Usa, l'ex presidente Biden ha un cancro alla prostata\n",
            "770                                                                           le famiglie possono chiedere conferma docenti sostegno\n",
            "773                                                                          Papa Francesco, Santa Sede: \"Ha dormito tutta la notte\"\n",
            "775                                                                                                                fermato un 32enne\n",
            "787                                                                               Il principe William e le sue abilità da calciatore\n",
            "790                                                                 \"Tradimento\", le trame della settimana dal 27 aprile al 3 maggio\n",
            "791                                             Wanda Nara e il divorzio da Icardi: la showgirl in tribunale su una Lamborghini rosa\n",
            "794                                                                  Molinette Torino, trapianto fegato con tecnica extra-anatomica:\n",
            "795                                                                    Martina, uccisa a 14 anni: l'ex confessa: \"Mi aveva lasciato\"\n",
            "800                                                                            Sindaco Istanbul arrestato, altra giornata di scontri\n",
            "808                                                                                         Morte Gene Hackman, nuovo colpo di scena\n",
            "811                                                                        chi è Anders Arborelius, cardinale e vescovo di Stoccolma\n",
            "812                                                             Pully in trasferta: la mascotte del Cagliari trova un amico a Genova\n",
            "813                                                                         Cecilia Rodriguez aspetta una bambina, l'annuncio social\n",
            "816                                                                  Bologna, ucciso a 19 anni per una battuta: arrestati due uomini\n",
            "817                                                          Quattro assurde fake news sugli incendi che hanno devastato Los Angeles\n",
            "820                                                                           \"Uomini e Donne\", Tina Cipollari diventa una contadina\n",
            "821                                              Ucraina, Mosca gela la trattativa: \"Per la pace non aspettarsi risultati immediati\"\n",
            "822                                                               De Luca: \"Cialtroni e imbecilli vogliono la Campania nella palude\"\n",
            "826                                                                                            tutte le ipotesi sull’ictus cerebrale\n",
            "827                                                                         L'Isola dei famosi 2025, il racconto della prima puntata\n",
            "829                                                                                 Papa Francesco a sorpresa a Santa Maria Maggiore\n",
            "831                                                                                                     indagato il datore di lavoro\n",
            "834                                           San Paolo, scontri durante lo sgombero della Favela do Moinho: tensioni con la polizia\n",
            "837                                                                                       Ponte sullo Stretto, i numeri del progetto\n",
            "843                                                                                             \"Amici 24\", Tananai presenta \"Alibi\"\n",
            "853                                                                San Marino, denunciato a piede libero il presunto killer dei cani\n",
            "854                                                                                     Melania, la first lady c'è... ma non si vede\n",
            "857                                                                        Milano, Milena Vukotic festeggia 90 anni sul palcoscenico\n",
            "859                                                 Venezia, il regolamento \"anti-paccottiglia\" è legge: stop a souvenir e take away\n",
            "863                                                                                Usa, dazi componenti auto. Trump: ci sarà il boom\n",
            "865                                                                             Arcade Fire, è uscito il nuovo album \"Pink Elephant\"\n",
            "866                                                                   Coppia italiana racconta: \"Siamo vivi solo grazie a Bergoglio\"\n",
            "867                                                           Tom Cruise e Ana de Armas sono una coppia? I gossip e gli avvistamenti\n",
            "872                                                                                                      medico condannato a 10 anni\n",
            "873                                                                       Trump chiede più servizi di psicoterapia per i transgender\n",
            "875                                                                  \"Amici 24\", Asia De Figlio balla sulle note di \"One Minute Man\"\n",
            "878                                                       Milano, sudario per Gaza a Palazzo Marino: scontro con la comunità ebraica\n",
            "879                                                            Addio a Fassari, Al bar de \"I Cesaroni\" tutti ricordano l'oste Cesare\n",
            "881                                                                               Garlasco, concessa la semilibertà ad Alberto Stasi\n",
            "883                                                     Caserta, scoperto un \"deposito del falso\": sequestrati oltre 40mila prodotti\n",
            "885                                                                                               UIGA è entrata in casa Lamborghini\n",
            "895                                                                   Omicidio Pierina Paganelli, gip rigetta scarcerazione Dassilva\n",
            "896                                                                                     Brianza, la denuncia di una malata di tumore\n",
            "899                                           Violenza sulle donne, Ermal Meta: \"Da uomo sono spaventato dal mostro che dorme in me\"\n",
            "903                                                                         Papa Francesco in Piazza San Pietro, il saluto ai fedeli\n",
            "910                                                                Traffico internazionale di droga: 52 arresti fra Italia e Albania\n",
            "915                                                     Garlasco, l'impronta trascurata 18 anni fa: è rossa ma il sangue non c'entra\n",
            "918                                                              Jeff Bridges aggiorna i fan a cinque anni dal cancro: ecco come sta\n",
            "921                                                                                    A ruba gadget e memorabilia di Papa Francesco\n",
            "939                                                            Gaza, palestinesi affamati prendono d'assalto una mensa a Khan Younis\n",
            "940                                                                    Garlasco, le telefonate di Sempio e il dubbio sullo scontrino\n",
            "941                                                                      Spagna, Manu Chao si esibisce in strada durante il blackout\n",
            "947                                                                      Sorpresa per Hailey Bieber: serenata mariachi al ristorante\n",
            "948                                                                              Paese che vai, piatto che trovi? Non è proprio così\n",
            "950                                                                     Migranti, la nave Libra con 40 a bordo è arrivata in Albania\n",
            "952                                                                   È morto Mario Vargas Llosa, fu premio Nobel per la Letteratura\n",
            "955                                                                     Roma celebra i 300 anni della scalinata di Trinità dei Monti\n",
            "956                                                                      A Riad i colloqui tra Usa e Russia per la tregua in Ucraina\n",
            "959                                                                    Campi Flegrei, rivisto il dato della scossa del 13 marzo: 4.6\n",
            "963                                                                              è sempre tempo di Resistenza, attuali i suoi valori\n",
            "970                                                                               Gaza, bimba di un mese estratta viva dalle macerie\n",
            "971                                                                                             “Potrei aver causato io la frattura”\n",
            "975                                      Guerre a Gaza e in Ucraina, Liliana Segre: \"Io che sono una donna di pace mi sento inutile\"\n",
            "978                                                             Milano, scontri tra polizia e manifestanti a corteo anti Remigration\n",
            "980                                                         Midjourney modificherà anche le immagini già esistenti. Cosa vuole dire?\n",
            "982                                                                                          \"Le aziende tornano qui grazie ai dazi\"\n",
            "983                                                                                                      c’è un buco da 6,6 miliardi\n",
            "985                                                                 Donald Trump contro il capo della Fed Jerome Powell: ecco perché\n",
            "986                                                                         Zincheria di Padova premia gli operai che non scioperano\n",
            "988                                                                              Morto Ted Kotcheff, fu il regista del primo \"Rambo\"\n",
            "990                                                                     Pescara, aggredisce infermiera al pronto soccorso: arrestata\n",
            "992                                                                        Primavera all’aria aperta: i dieci sentieri top in Italia\n",
            "994                                                                     Germania, piccolo aereo si schianta contro edificio: 2 morti\n",
            "999                                                                                 i liberali di Mark Carney vincono le legislative\n",
            "Name: title, dtype: object\n"
          ]
        }
      ]
    },
    {
      "cell_type": "code",
      "source": [
        "df = df_frame2[df_frame2.frame == \"Not AI related\"]\n",
        "len(df)"
      ],
      "metadata": {
        "colab": {
          "base_uri": "https://localhost:8080/"
        },
        "id": "mKmlgjl7p-S4",
        "outputId": "10c8f00c-dafb-4966-cd40-f750a77e0118"
      },
      "execution_count": null,
      "outputs": [
        {
          "output_type": "execute_result",
          "data": {
            "text/plain": [
              "432"
            ]
          },
          "metadata": {},
          "execution_count": 15
        }
      ]
    },
    {
      "cell_type": "code",
      "source": [
        "with pd.option_context('display.max_rows', None, 'display.max_colwidth', None):\n",
        "    print(df['title'])"
      ],
      "metadata": {
        "colab": {
          "base_uri": "https://localhost:8080/"
        },
        "id": "1Jkv6iZ3qGDn",
        "outputId": "939fb9cd-cae8-4eab-e2eb-acf7b312c876"
      },
      "execution_count": null,
      "outputs": [
        {
          "output_type": "stream",
          "name": "stdout",
          "text": [
            "4                                                                A Milano torna \"Orticola\", storica mostra-mercato di fiori e piante\n",
            "7                                                                            Ombrelli e fontane, i rimedi dei fedeli contro il caldo\n",
            "10                                                                   \"L'Isola dei famosi 2025\", ottimo esordio per la nuova edizione\n",
            "13                                                                             \"L'Isola dei Famosi\", quattro naufraghi in nomination\n",
            "14                                                                                                        \"Il Papa è morto di ictus\"\n",
            "16                                                                                                     \"Parolisi presto sarà libero\"\n",
            "24                                                                                       De Luca torna alla carica sul terzo mandato\n",
            "25                                                                              Terremoto, nuova scossa nella zona dei Campi Flegrei\n",
            "28                                                        Festa sopra le righe per nascondere le fratture insanabili del campo largo\n",
            "32                                                                             Corea del Sud, interi villaggi divorati dagli incendi\n",
            "34                                                                                         non so se devo rispettare la Costituzione\n",
            "35                                                   Ilary Blasi racconta il suo rapporto con Bastian Muller: \"Mi fa sentire sicura\"\n",
            "37                                                                                                  Sono finita in terapia intensiva\n",
            "38                                                                       Sull'Isola dei famosi Mirko e Cristina in missione speciale\n",
            "39                                                                                 Bergamo, cosa ci fa una mucca fuori dal terminal?\n",
            "40                                                                   Massa Carrara, incidente sul lavoro in cava marmo: muore 59enne\n",
            "45                                                                      De Pascale a Tgcom24: \"Su Esteri Meloni non divida il Paese\"\n",
            "48                                                                                                                 fermato il marito\n",
            "50                                                                          Festa del papà un figlio può costare fino a 750mila euro\n",
            "53                                                        Torna il Mi Ami Festival, da Joan Thiele a Diodato per la 19esima edizione\n",
            "54                                                                              A Copenaghen Michelangelo come non l’avete mai visto\n",
            "55                                                                                L'attore Michael Pitt arrestato per abusi sessuali\n",
            "59                                                                        Morta in un dirupo a Ischia nel 2024, \"fu un femminicidio\"\n",
            "63                                                  Israele, sospesa l'udienza sul capo dei servizi segreti dopo le proteste in aula\n",
            "66                                                                      Per Fedez un nuovo tatuaggio “casalingo” e una nuova ragazza\n",
            "67                                                               Palermo, scende da nave crociera: uomo d'affari messicano arrestato\n",
            "69                                         Italia, come mettere agroalimentare, moda e manifattura al centro della transizione verde\n",
            "72                                                                            Roma, incendi in poche ore in due stabilimenti a Ostia\n",
            "73                                                                   Friuli, 84enne guida contromano in autostrada per 17 chilometri\n",
            "74                                                              Hawaii, erutta il vulcano Kilauea: la fontana di lava alta 300 metri\n",
            "75                                                                                     Dazi, la cantina Caprai ha giocato d'anticipo\n",
            "77                                                                                       A Chioggia arrivano le vongole dalle Marche\n",
            "79                                                                     Palermo, operaio edile cade dal tetto di una villetta e muore\n",
            "86                                                                    Decreto Sicurezza, testo in Senato il 3 giugno: subito in Aula\n",
            "87                                                             Marine Le Pen condannata a 4 anni di carcere, ineleggibile per 5 anni\n",
            "89                                                              Stalking al campione di nuoto Bortuzzo, condannata Lucrezia Selassiè\n",
            "95                                                                                               Ppe, Tajani rieletto vicepresidente\n",
            "96                                                      Giorgia, Paola Cortellesi e Laura Pausini si trasformano nelle Wooden Chicks\n",
            "97                                                                           Il Boeing oscilla pericolosamente durante l'atterraggio\n",
            "98                                          \"L'Isola dei famosi\", Antonella Mosetti lascia? \"Non ho elaborato il lutto di mio padre\"\n",
            "99                                                                       Pino Daniele avrebbe compiuto 70 anni, a sorpresa l'inedito\n",
            "100                                                                  Venezia, vaporetto sbatte contro Ponte di Rialto: nessun ferito\n",
            "101                                                                                 congelati 2,2 miliardi di dollari in sovvenzioni\n",
            "104                                       L'insonne notte dei giocatori del Cagliari, corteo di 400 scooter sotto l'albergo a Napoli\n",
            "107                                                                           Bella Scienza, l'antidoto contro il veleno di serpente\n",
            "110                                                                  Propaganda e proselitismo jihadista, arrestato 24enne a Perugia\n",
            "112                                                                                             \"Così il Papa ci salvò in Argentina\"\n",
            "113                                                                 Grano canadese trattato con glifosato, blitz Coldiretti al porto\n",
            "115                                 G7 in Italia: dopo l’accoglienza da parte della Presidente Meloni iniziati i lavori di confronto\n",
            "116                                                                  Rosadira Bike Days, in bicicletta nello scenario delle Dolomiti\n",
            "118                                                                    Arresto Imamoglu, in migliaia alla manifestazione di Istanbul\n",
            "120                                                 Pasqua, migranti partecipano alla preghiera al confine tra Messico e Stati Uniti\n",
            "123                                                                                                    Referendum, il quarto quesito\n",
            "125                                                                                     Sulla Costa dei Trabocchi le Experience Week\n",
            "126                                           Garlasco, l'inviato Davide Loreti: \"Mai analizzata la traccia di una scarpa femminile\"\n",
            "129                                                                              Prato, mistero sulla scomparsa di Denisa Maria Adas\n",
            "130                                                                    Lancio del tocco: l’Università proclama 62 dottori di ricerca\n",
            "133                                                                     Turisti restano incastrati con l'auto seguendo il navigatore\n",
            "135                                                                    Francesco, il Pontefice della semplicità e della misericordia\n",
            "136                                                         Papa Francesco, i dietro le quinte con il nostro collega Marchese Ragona\n",
            "139                                           Papa Francesco, Santa Sede: domenica vuole affacciarsi dal Gemelli per una benedizione\n",
            "140                                                                Un missile colpisce l'aeroporto di Tel Aviv: lanciato dallo Yemen\n",
            "141                                                                       \"Le 75 coltellate alla vittima non sono segno di crudeltà\"\n",
            "142                                                                                     Michelle Hunziker contesa da due pretendenti\n",
            "146                                                                          Ecuador, incendio nella più grande raffineria del Paese\n",
            "150                                                             Open Arms, Zaia \"Fiducia nella magistratura, basta leggere le carte\"\n",
            "151                                                                            Kate e William, ecco come hanno festeggiato la Pasqua\n",
            "155                                                                       Tre idee per la tua primavera: dalle Alpi al Golfo Persico\n",
            "156                                                                      Leone XIV, il primo giorno di Papa Prevost: la diretta news\n",
            "159                                                                                                  Aerei di linea a rischio hacker\n",
            "160                                                                                  Tempeste e tornado nel Sud Usa, almeno 39 morti\n",
            "164                                                           Lo scioglimento dei ghiacci allunga i giorni e sposta l’asse terrestre\n",
            "165                                              Giornata della memoria, Israele commemora i soldati caduti e le vittime di attacchi\n",
            "167                                                                                               viaggio tra miti, sapori e segreti\n",
            "171                                                                                               un esame del sangue lo diagnostica\n",
            "172                                                                                              Milano, Luna Park a rischio sfratto\n",
            "173                                                                          Giulia De Lellis e Tony Effe, quando nascerà la figlia?\n",
            "174                                                                                    Sudafrica, aereo si schianta durante air show\n",
            "176                                                                        Leone XIV, in Perù i fedeli festeggiano per il nuovo Papa\n",
            "183                                                                        \"Amici 24\", l'eliminazione della sesta puntata è rinviata\n",
            "184                                          Istanbul, delegazione russa senza Putin | Zelensky: \"Una farsa\" | Mosca: \"Lui un clown\"\n",
            "185                                                                                      \"I fedeli hanno dimostrato il loro affetto\"\n",
            "186                                                                                                 Corte Usa blocca i dazi di Trump\n",
            "187                                                                     Medimex 2025 con Primal Scream, St. Vincent e Massive Attack\n",
            "189                                                        Omicidio Martina Carbonaro, giudice: \"Morta dopo lunghi minuti di agonia\"\n",
            "191                                                               Neonati sepolti, l'arrivo di Chiara Petrolini in tribunale a Parma\n",
            "192                                                                                  Verissimo, gli ospiti del 5 e del 6 aprile 2025\n",
            "193                                                                                          3 mq di spazio e record detenuti minori\n",
            "194                                                                              Campi Flegrei, paura e danni dopo lo sciame sismico\n",
            "197                                                           David di Donatello, la 70esima edizione vede il trionfo di \"Vermiglio\"\n",
            "199                                   Biella, tenta di buttarsi dal ponte della Pistolesa, salvato da Carabinieri e Vigili del Fuoco\n",
            "200                                                                                 Molise, la prima scuola intitolata a Sammy Basso\n",
            "202                                                                    Influenza, in Italia oltre 16 milioni di casi: mai così tanti\n",
            "203                                                    Voto di scambio, arrestato l'ex presidente della provincia di Salerno Alfieri\n",
            "207                                                                                                                ho perso la testa\n",
            "210                                                                          Funerali Papa Francesco, Roma supera la prova sicurezza\n",
            "211                                                          Maturità: per 2587 studenti del Novarese è la \"notte prima degli esami\"\n",
            "212                                                                                     Hailey Baldwin preoccupata per Justin Bieber\n",
            "213                                                                Paura al Giro d'Italia: una capra ha tagliato la strada al gruppo\n",
            "218                                                                                                                 arrestato 15enne\n",
            "220                                                                       Bologna, fuggono dai carabinieri e si schiantano: un morto\n",
            "221                                                                                    Elena D'Amario paparazzata con il nuovo amore\n",
            "225                                                                                                botta e risposta con il sindacato\n",
            "228                                                                                                     \"Non mi sento in difficoltà\"\n",
            "229                                                                        \"Tradimento\", le trame della settimana dal 23 al 29 marzo\n",
            "231                                                                                                      morto 50enne nel Napoletano\n",
            "233                                                                     Bonucci-Terry, che coppia! Ma stavolta non giocano in difesa\n",
            "235                                                            \"L'Isola dei Famosi 2025\", c'è anche Mario Adinolfi tra i concorrenti\n",
            "236                                                                 Omicidio Nada Cella, sparito set di reperti dallo studio Soracco\n",
            "239                                                                                    William e George allo stadio a Parigi per PSG\n",
            "241                                                                 Svizzera, crolla un ghiacciaio, evacuato il villaggio di Blatten\n",
            "243                                                    Elezioni Albania, verso una netta vittoria per il premier socialista Edi Rama\n",
            "245                                                                Usa, pianificava attacco per Isis contro base militare: arrestato\n",
            "247                                                                                                               \"Ucciso due volte\"\n",
            "248                                                                                       Agguato a Palermo, uomo muore accoltellato\n",
            "254                                                   Meloni: \"Italia credibile in un quadro economico di straordinaria complessità\"\n",
            "256                                                                            Yemen, migliaia di Houthi in piazza contro i raid Usa\n",
            "257                                                               Damiano David lancia il suo primo album solista Funny Little Fears\n",
            "258                                                                             Il \"Credo\" personale di Mondo Marcio: il nuovo album\n",
            "260                    Comunicato Stampa: Giulia Ciaccio e Michael Castorino lanciano il Bestseller “Che Fine Hanno Fatto I Colori?”\n",
            "261                                                                                    Ponte e partenze, quest'anno numeri da record\n",
            "264                                                                                                         “Sono viva per miracolo”\n",
            "265                                                                           \"Saman fu condannata a morte da tutta la sua famiglia\"\n",
            "266                                                                                            \"Lavoro sulle piattaforme per adulti\"\n",
            "269                                                                                    Astrologia: i Gemelli e il loro Pianeta guida\n",
            "272                                                    Guerra in Ucraina, Mosca: un raid di Kiev ha distrutto stazione gas di Sudzha\n",
            "276                                                                                                               secondo più votato\n",
            "282                                                                                         A Montecchio è vietato giocare a pallone\n",
            "283                                                                              A Roma in mostra la storia della rivista Frigidaire\n",
            "284                                                                 A Londra in mostra l'iconico costume da bagno di Pamela Anderson\n",
            "286                                                                         Torino, bus turistico cade nel fiume Po: morto l'autista\n",
            "287                                                                              Roma blindata per i funerali del Papa: cosa succede\n",
            "288                                                                            Manuel Agnelli è l'alieno di David Bowie in \"Lazarus\"\n",
            "290                                                                         Papa Francesco, il ricordo del Santo Padre a \"Verissimo\"\n",
            "291                                                                 Romina Carrisi in Africa con il figlio Axel e mamma Romina Power\n",
            "294                                                                              Garlasco, l'avvocato Angela Taccia sull'impronta 33\n",
            "295                                                                                          Rolling Stones, 60 anni di Satisfaction\n",
            "300                                                                   Vaticano: \"Aumentano i cattolici nel mondo, sono 1,4 miliardi\"\n",
            "301                                                                           Auto travolge studenti doposcuola in Illinois: 4 morti\n",
            "302                                                                  Ex Ilva, azienda chiede cassa integrazione per 3.926 lavoratori\n",
            "306                Meloni legge il manifesto di Ventotene in Aula: scintille e proteste dall'opposizione. Fontana sospende la seduta\n",
            "311                                                                 Cesare Cremonini ed Elisa annunciano il singolo Nonostante tutto\n",
            "312                                                                         David di Donatello, trionfa \"Vermiglio\" di Maura Delpero\n",
            "317                                                             'Maria', la recensione di Alberto Crespi del film con Angelina Jolie\n",
            "318                                                                    Leone, il nome scelto dal Papa simbolo forte contro i potenti\n",
            "320                                                                                                       accusata di atti vandalici\n",
            "321                                                                        Il fenomeno delle nonne social, Licia Fertz: \"Mi diverto\"\n",
            "322                            Ridracoli (Forlì-Cesena): il paese che distribuisce acqua a tutta la Romagna, ma rimane... senz'acqua\n",
            "323                                     Israele accusa: \"Fratellini Bibas uccisi a mani nude\". Domani Hamas libera altri sei ostaggi\n",
            "325                                                                                        Experience Week sulla Costa dei Trabocchi\n",
            "327                                                          Dazi Usa, Von der Leyen: \"Conseguenze terribili, pronti a contromisure\"\n",
            "328                                                                         Principe Harry, ecco come sta dopo le accuse di bullismo\n",
            "330                                                                                         Scoprire la Costiera Amalfitana in kayak\n",
            "332                                                                                                   \"Mai una relazione con Chiara\"\n",
            "335                                                                             presentato a Roma \"Ho visto un re\" di Giorgio Farina\n",
            "339                                                   Afghanistan, nuovo approccio dei talebani alla tutela del patrimonio culturale\n",
            "341                                                                               Turchia, cresce la protesta: oltre 1.800 arrestati\n",
            "342                                                          Paura a Mumbai, esplosione di bombole di gas scatena un grosso incendio\n",
            "345                                                                                                            le notizie in diretta\n",
            "349                                                                      Esclusiva Tgcom24, parla sopravvissuto a strage di Monreale\n",
            "350                                                                  Elodie è Erotica, Magnetica, Audace e Galattica nel nuovo album\n",
            "351                                                                        Irama torna social e...apre una casella postale per i fan\n",
            "354                                                Da Mancini a Pato e Ronaldinho: l'affetto del mondo del calcio per Papa Francesco\n",
            "355                                                   Processo Askatasuna, cade l'associazione a delinquere: in Aula cori e applausi\n",
            "358                                                                           Leonardo da Vinci ha cinque discendenti ancora in vita\n",
            "362                                                    Torino, tensioni al Salone del Libro: i Propal tentano di sfondare i cancelli\n",
            "363                                             Garbagnate, biocompositi al posto della plastica: la rivoluzione del design italiano\n",
            "364                                                              L'India chiude spazio aereo ai velivoli pakistani fino al 23 maggio\n",
            "365                                                                        Camilla al Quirinale con una spilla della regina Vittoria\n",
            "367                                E’ fiorentino il miglior manager d’hotel del mondo: “Ragazzi, meno virtuale e più contatti reali”\n",
            "368                                                                        Speciale Motori 2025 con BMW, Volvo, Volkswagen e Yamaha.\n",
            "369                                                                             Von der Leyen avverte Trump: \"Sui dazi risponderemo\"\n",
            "370                                                                        Caserta, 19enne ucciso in sala slot: giallo sull'omicidio\n",
            "371                                                                            Egitto, affonda sottomarino turistico: almeno 6 morti\n",
            "373                                                                               Salone del Libro, Torino: appuntamento al Lingotto\n",
            "374                                                                   Cloud e intelligenza artificiale, così Microsoft aiuta Israele\n",
            "376                                                Almasri, Corte penale chiede chiarimenti a Italia. Piantedosi andrà in Parlamento\n",
            "378                                                                 Venezuela, l'italiano Alberto Trentini chiama casa dopo sei mesi\n",
            "381                                                                                                        “Più diritti ai pazienti”\n",
            "385                                                                      L’M-346 di Leonardo, futuro velivolo delle Frecce Tricolori\n",
            "387                                                     Differito sciopero dei treni del 17/5, sindacati accettano richiesta Garante\n",
            "388                                                                                                 in arrivo il figlio di Tony Effe\n",
            "389                                                                                                \"È donna solo chi è nata femmina\"\n",
            "392                                                                Svizzera, medici possono prescrivere una visita gratis a un museo\n",
            "396                                                                                   Premio Biagio Agnes 2025, chi sono i vincitori\n",
            "398                                                                        Garlasco, l'ex pm: \"La prova scientifica era inservibile\"\n",
            "400                                                                                                Emilia Romagna, Umbria e Calabria\n",
            "401                                                                               \"Adottato il primo storico accordo sulle pandemie\"\n",
            "402                                                       Sean Diddy Combs, in aula il video integrale delle violenze alla fidanzata\n",
            "403    Napoli-Milan: fiori e un minuto di silenzio in ricordo di Diego De Vivo, il 14enne morto per un malore durante un allenamento\n",
            "404                                                        Fedez si tatua e svela la nuova canzone: chi è la donna a cui è dedicata?\n",
            "405                                                           Operato al cervello, giovane pianista suona per i medici dell'ospedale\n",
            "406                                                                        L'altro legale di Andrea Sempio: \"L'impronta? Una bufala\"\n",
            "411                                                                         \"Biancaneve\", non solo polemiche: flop al botteghino Usa\n",
            "413                                                                                                             \"Era molto semplice\"\n",
            "414                                                                                       \"Scelta sbagliata ma non è una catastrofe\"\n",
            "418                                                                                Bialetti passa ai cinesi, accordo con Nuo Capital\n",
            "424                                   Raid di Israele in Yemen: colpiti l'aeroporto di Sana'a, una centrale elettrica e una fabbrica\n",
            "427                                                  La regia della Meloni dietro il disgelo. \"Ora Mosca dimostri di volere la pace\"\n",
            "428                                                                     Wanda Nara compra una nuova villa con piscina e molo privato\n",
            "434                                                                          Lodi, 14enne scende dal bus e viene travolto da un'auto\n",
            "440                                               Olivier Roy e la lotta per la sopravvivenza della cultura, soffocata dai fanatismi\n",
            "443                                                                Bari, rubano auto ma vengono inseguiti dalla polizia: due arresti\n",
            "444                                                                            E' la Giornata del colore, i borghi d'Italia in festa\n",
            "446                                                         Snoopy icona di stile: a Parigi una mostra celebra il beagle più fashion\n",
            "447                                                                                                            le notizie in diretta\n",
            "449                                                                        Ok a pdl per vittime crolli infrastrutture Stato: è legge\n",
            "453                                                                                              Campi Flegrei, il piano di Musumeci\n",
            "455                                          Tim entra nel mercato delle utility in partnership con Axpo: nasce la divisione Energia\n",
            "456                                                                  Elon Musk primo nella classifica dei paperoni stilata da Forbes\n",
            "457                                                                                                              erano morti da mesi\n",
            "465                                                                               Congo, imbarcazione prende fuoco: almeno 143 morti\n",
            "467                                                                                  A San Benedetto del Tronto la Pasqua è in Rosso\n",
            "468                                                                                         continua terapie con lievi miglioramenti\n",
            "469                                                  Milano, scontro sull'intitolazione di una scuola a Sergio Ramelli: Sala dice no\n",
            "471                                                                                    Conte dal palco: \"L'alternativa parte da qui\"\n",
            "480                                                      Modena, carabiniere fuori servizio salva un uomo grazie a un defibrillatore\n",
            "483                                                                   Conclave, l'\"Extra Omnes\" e la chiusura della Cappella Sistina\n",
            "485                                                    Usa, la segretaria alla Sicurezza mostra i migranti in carcere in El Salvador\n",
            "486                                                                  Papa Francesco in dimissione dal Gemelli: l'annuncio dei medici\n",
            "497                                                                                       Ramazzotti-Daniele, un duetto spettacolare\n",
            "498                                                                   \"The Couple\", tra Manila Nazzaro e Thais Wiggers è intesa vera\n",
            "502                                                       Oggi, continua l’ondata di addii: dopo Verdelli se ne va anche il suo vice\n",
            "507                                                                 Schlein in Liguria, il sostegno alla candidatura di Silvia Salis\n",
            "509                                                                    Mezza Spagna in allerta meteo per vento, pioggia e mareggiate\n",
            "510                                                                                              Mechitronic cala il tris in Francia\n",
            "512                                                                Speciale Motori 2025 con Alfa Romeo, BMW, Morgan, Harley Davidson\n",
            "513                                                                                Usa, un tornado devasta una cittadina in Arkansas\n",
            "514                                                                Sean \"Diddy\" Combs, via al processo con la selezione della giuria\n",
            "517                                                                        Lega, Salvini unico candidato alla segreteria del partito\n",
            "518                                                                Cecilia Rodriguez incinta, le prime immagini del pancino scoperto\n",
            "519                                                                     Gb, approvato un farmaco innovativo contro il tumore al seno\n",
            "520                                                           Erotico, nostrano, italiano. Fatevi un chinotto per ribellarvi ai dazi\n",
            "521                                                                  Ucciso in Colombia, tracce di Alessandro Coatti con Google maps\n",
            "522                                                                  Megan Fox è diventata mamma, prima figlia con Machine Gun Kelly\n",
            "524                                                                                                           \"Se c'è lui non parlo\"\n",
            "525                                                            Parigi, la Torre Eiffel si illumina di blu per il vertice \"SOS Ocean\"\n",
            "528                                                           Garlasco, nuovi indizi su Andrea Sempio: al vaglio post social e diari\n",
            "530                            Bologna, prende 50 multe sulla corsia preferenziale ma il giudice lo assolve perché rifugiato ucraino\n",
            "533                                                                     Fmi: in Italia prospettive incerte, pesano dazi e demografia\n",
            "536                                                         Biennale Architettura, Vaticano con 'Opera Aperta' nel nome di Francesco\n",
            "537                                                                                                        \"Ridata alla sua libertà\"\n",
            "540                            Alloggi universitari: PNRR flop, i posti letto negli studentati restano un miraggio per (quasi) tutti\n",
            "541                                                                                                        La settimana delle stelle\n",
            "545                                               New York, l'Empire State Building si illumina d'oro e di bianco per Papa Leone XIV\n",
            "547                                                      Seoul, il Festival delle Lanterne di Loto in vista del compleanno di Buddha\n",
            "553                                                                                     \"Ho iniziato ad andare in analisi a 18 anni\"\n",
            "555                                                             Deturpata la targa dedicata a Ilaria Sula all'Università del Salento\n",
            "557                                                                          Catania, corse clandestine di cavalli virali sui social\n",
            "559                                                                     Eleonora Abbagnato, scenata di gelosia a Federico Balzaretti\n",
            "561                                                                        Rischio cardiovascolare, il medico consiglia come ridurlo\n",
            "562                                                                   Milano, cantano \"Bella ciao\" in risposta al corteo neofascista\n",
            "563                                                                                               fermato un diciassettenne albanese\n",
            "572                                        Latina, \"12enne costretta a sposarsi e abusata sessualmente\": indagati genitori e suoceri\n",
            "573                                                          Omicidio Pierina Paganelli, Riesame conferma carcere per Louis Dassilva\n",
            "584                                                          Repubblica Dominicana, crolla il tetto di una discoteca: morti e feriti\n",
            "585                                                    Macerata, operazione \"Los Pollos\": il viaggio della droga da Roma alle Marche\n",
            "587                                                                                                        La settimana delle stelle\n",
            "589                                                               Green Day e Charlie XCX infiammano il secondo giorno del Coachella\n",
            "590                                                                    Treviso, bambino fa 70 chiamate d'emergenza con lo smartwatch\n",
            "592                                                                   Clizia Incorvaia e l'amore per Eleonora Giorgi: \"Donna libera\"\n",
            "595                                                                                            dove ogni pedalata diventa esperienza\n",
            "596                                                                          Trump e bin Salman firmano accordo economico strategico\n",
            "597                                                                        Catania, scossa di terremoto di magnitudo 4.8 nella notte\n",
            "602                                                                                                        aveva già perso due figli\n",
            "604                                                                                Anzio (Roma), sparatoria in strada: ucciso 37enne\n",
            "607                                                                                   In Riviera romagnola è tempo di prove d'estate\n",
            "608                                                                               \"Ho sposato un nazista\", la storia di Hilde Keller\n",
            "610                                                                     Papa Leone XIV, l'entusiasmo dei fedeli in piazza san Pietro\n",
            "612                                                            Gerusalemme, giovani ebrei aggrediscono musulmani nella Città Vecchia\n",
            "613                                                                    Incendi boschivi in Corea del Sud, i morti salgono a quota 26\n",
            "614                                                                   Burkina Faso, oltre 50 militari uccisi in un attacco jihadista\n",
            "616                                                           Golosaria tra i Castelli del Monferrato con contorno di arte e cultura\n",
            "619                                                        Satnam Singh, per la vedova del bracciante morto un permesso di soggiorno\n",
            "623                                                                                           tre mesi in più per lasciare il lavoro\n",
            "624                                                                        Tir a fuoco in galleria, Liguria tagliata a metà da 9 ore\n",
            "625                                                                               Istria Slovena: magnifico connubio tra verde e blu\n",
            "633                                                                     Un'associazione promuove tartufo bianco di Città di Castello\n",
            "636                                                                Colombia, trovato morto il ricercatore italiano Alessandro Coatti\n",
            "637                                                                Stefano De Martino in versione papà… bis con Santiago e Luna Marì\n",
            "639                                                                     Meloni tra Roma, Washington e Asia: agenda fitta dopo Pasqua\n",
            "640                                                                                 \"Isola dei famosi\", lo scontro di Mario Adinolfi\n",
            "643                                                                                     David Beckham festeggia (di nuovo) i 50 anni\n",
            "644                               Molestie all’università: sei studenti su dieci non saprebbero a chi rivolgersi in caso di violenza\n",
            "646                                                                                                            il primo bacio social\n",
            "648                                                       Onde gigantesche travolgono la nave da crociera nel temuto canale di Drake\n",
            "649                                                                               \"Billy Costacurta? Fisicamente gli piaccio ancora\"\n",
            "650                                                                                                                   Nuova Lexus ES\n",
            "651                                                  Ascoli Piceno, striscioni contro fornaia antifascista, Schlein: \"Inaccettabili\"\n",
            "652                                                              chi è Fridolin Ambongo Besungu, cardinale e arcivescovo di Kinshasa\n",
            "653                                                                      Ex Ilva, chiesta la cassa integrazione per 3.926 dipendenti\n",
            "654                                                                  La Consulta: \"Anche i single possono adottare minori stranieri\"\n",
            "658                                                                            Casa a Pasqua le uova più belle sono quelle fai da te\n",
            "665                                                                                                      quasi sicuramente non umano\n",
            "666                                                                   Piper cade a Genova, morto poliziotto-eroe del rogo di Bologna\n",
            "667                                                                In un borgo di Campobasso un bebè dopo 10 anni: \"Campane a festa\"\n",
            "669                                                                  Giulia Tramontano, il monologo della sorella Chiara a \"Le Iene\"\n",
            "673                                                                           Dichiarazioni precompilate pronte per la consultazione\n",
            "674                                                                                                Fratello embrione, sorella verità\n",
            "675                                                                            Papa Leone XIV è sui social, account su X e Instagram\n",
            "677                             Studenti “fantasma”: negli istituti professionali un alunno su 14 perde l’anno per le troppe assenze\n",
            "678                                                                                        Roma, vacanze di Pasqua con furti in casa\n",
            "679                                               A Roma la manifestazione promossa dal M5s contro il riarmo europeo: presente Conte\n",
            "680                                                                                                      ho sparato per disperazione\n",
            "685                                                                                                               tenuta nel degrado\n",
            "689                                                                                                            le notizie in diretta\n",
            "691                                                     Israele, missile Houthi intercettato a Tel Aviv: avrebbe colpito l'aeroporto\n",
            "692                                                                                                            le notizie in diretta\n",
            "693                                                                                    Romina Falconi lancia \"Rottincuore\", il disco\n",
            "700                                                                          Tempesta di sabbia in Iraq, Arbil coperta dalla polvere\n",
            "702                                      \"Avete ucciso 19mila bambini\", deputato di opposizione portato di forza fuori dalla Knesset\n",
            "706                                                       Dagli Internazionali al Vaticano: Jannik Sinner ricevuto da Papa Leone XIV\n",
            "708                                                                David Beckham festeggia in anticipo 50 anni. Ha tradito Victoria?\n",
            "709                             Autostrade più sicure a Nord Est: ponti e cavalcavia sorvegliati da droni e intelligenza artificiale\n",
            "714                                                                                                  \"Amici\", la vittoria di Daniele\n",
            "717                                                           Terremoto in Birmania, si scava a mani nude tra macerie e disperazione\n",
            "720                                                       Scimpanzé selvatici filmati per la prima volta mentre... condividono alcol\n",
            "722                                                                                                          ecco perché è difficile\n",
            "725                                                                              Roma, morto il 13enne ferito da un colpo di pistola\n",
            "727                                                      Semplice, personalizzata e confrontabile: questa è l’informazione che serve\n",
            "728                                                                    chi è il cardinale Steiner, francescano e voce dell’Amazzonia\n",
            "729                                                                     Attacchi russi nelle regioni ucraine di Kiev, Kharkiv e Sumy\n",
            "730                                                                      Cinque i quesiti: come cambierebbe ottenere la cittadinanza\n",
            "731                                                                 Roma, travolto da auto mentre attraversa la strada: morto 47enne\n",
            "733                                                                 Onu: in Congo 2,3 milioni di persone rischiano di morire di fame\n",
            "735                                                                                        L’ombra di Trump sul World Economic Forum\n",
            "737                                                                                     Montemerano, imperdibile borgo della Maremma\n",
            "741                                                                    \"I fratelli Menendez hanno diritto alla riduzione della pena\"\n",
            "742                                                                               Usa-Filippine, al via oggi esercitazioni congiunte\n",
            "743                                                                      Roma, pedana rotta: bimba disabile non può entrare a scuola\n",
            "745                                                                    Garlasco, l'intervista esclusiva ai genitori di Andrea Sempio\n",
            "750                                                                                                             cos'è e perché si fa\n",
            "751                  Intelligenza artificiale nel settore trasporti e infrastrutture al centro dell'Assemblea congressuale della Fit\n",
            "756                                                                 Caserta, sgominata gang di pendolari dei furti in casa: 11 fermi\n",
            "759                                                    Germania, Musk intervista la leader di Afd Weidel: \"Hitler? Era un comunista\"\n",
            "768                                                                            Usa, l'ex presidente Biden ha un cancro alla prostata\n",
            "770                                                                           le famiglie possono chiedere conferma docenti sostegno\n",
            "773                                                                          Papa Francesco, Santa Sede: \"Ha dormito tutta la notte\"\n",
            "775                                                                                                                fermato un 32enne\n",
            "776                                                      Firenze, multa di 400 euro a un disabile 75enne per una keybox di emergenza\n",
            "782                                                                                   Intelligenza artificiale: rischi e opportunità\n",
            "787                                                                               Il principe William e le sue abilità da calciatore\n",
            "790                                                                 \"Tradimento\", le trame della settimana dal 27 aprile al 3 maggio\n",
            "791                                             Wanda Nara e il divorzio da Icardi: la showgirl in tribunale su una Lamborghini rosa\n",
            "793                                                                    Hugo Pratt a Siena, un viaggio tra le \"Geografie immaginarie\"\n",
            "794                                                                  Molinette Torino, trapianto fegato con tecnica extra-anatomica:\n",
            "795                                                                    Martina, uccisa a 14 anni: l'ex confessa: \"Mi aveva lasciato\"\n",
            "800                                                                            Sindaco Istanbul arrestato, altra giornata di scontri\n",
            "801                                                                                                              Audi al Fuorisalone\n",
            "808                                                                                         Morte Gene Hackman, nuovo colpo di scena\n",
            "811                                                                        chi è Anders Arborelius, cardinale e vescovo di Stoccolma\n",
            "812                                                             Pully in trasferta: la mascotte del Cagliari trova un amico a Genova\n",
            "813                                                                         Cecilia Rodriguez aspetta una bambina, l'annuncio social\n",
            "816                                                                  Bologna, ucciso a 19 anni per una battuta: arrestati due uomini\n",
            "817                                                          Quattro assurde fake news sugli incendi che hanno devastato Los Angeles\n",
            "820                                                                           \"Uomini e Donne\", Tina Cipollari diventa una contadina\n",
            "821                                              Ucraina, Mosca gela la trattativa: \"Per la pace non aspettarsi risultati immediati\"\n",
            "822                                                               De Luca: \"Cialtroni e imbecilli vogliono la Campania nella palude\"\n",
            "826                                                                                            tutte le ipotesi sull’ictus cerebrale\n",
            "827                                                                         L'Isola dei famosi 2025, il racconto della prima puntata\n",
            "829                                                                                 Papa Francesco a sorpresa a Santa Maria Maggiore\n",
            "831                                                                                                     indagato il datore di lavoro\n",
            "833                                                                              Usa, la \"rinascita\" dei lupi estinti 10mila anni fa\n",
            "834                                           San Paolo, scontri durante lo sgombero della Favela do Moinho: tensioni con la polizia\n",
            "837                                                                                       Ponte sullo Stretto, i numeri del progetto\n",
            "839                                                                                                               le news in diretta\n",
            "840                                                                                                una regione autentica e originale\n",
            "843                                                                                             \"Amici 24\", Tananai presenta \"Alibi\"\n",
            "848                                                                                                      Sistina, addio al comignolo\n",
            "850                        Dieci consigli per recuperare in dieci materie scolastiche dai prof di ripetizioni più prenotati d’Italia\n",
            "853                                                                San Marino, denunciato a piede libero il presunto killer dei cani\n",
            "854                                                                                     Melania, la first lady c'è... ma non si vede\n",
            "857                                                                        Milano, Milena Vukotic festeggia 90 anni sul palcoscenico\n",
            "859                                                 Venezia, il regolamento \"anti-paccottiglia\" è legge: stop a souvenir e take away\n",
            "863                                                                                Usa, dazi componenti auto. Trump: ci sarà il boom\n",
            "865                                                                             Arcade Fire, è uscito il nuovo album \"Pink Elephant\"\n",
            "866                                                                   Coppia italiana racconta: \"Siamo vivi solo grazie a Bergoglio\"\n",
            "867                                                           Tom Cruise e Ana de Armas sono una coppia? I gossip e gli avvistamenti\n",
            "872                                                                                                      medico condannato a 10 anni\n",
            "873                                                                       Trump chiede più servizi di psicoterapia per i transgender\n",
            "875                                                                  \"Amici 24\", Asia De Figlio balla sulle note di \"One Minute Man\"\n",
            "877                                                                       Donald Trump, tutti gli aggiornamenti in diretta dagli Usa\n",
            "878                                                       Milano, sudario per Gaza a Palazzo Marino: scontro con la comunità ebraica\n",
            "879                                                            Addio a Fassari, Al bar de \"I Cesaroni\" tutti ricordano l'oste Cesare\n",
            "881                                                                               Garlasco, concessa la semilibertà ad Alberto Stasi\n",
            "883                                                     Caserta, scoperto un \"deposito del falso\": sequestrati oltre 40mila prodotti\n",
            "885                                                                                               UIGA è entrata in casa Lamborghini\n",
            "886                                                                 Buenos Aires prega per Papa Francesco: la messa nella cattedrale\n",
            "895                                                                   Omicidio Pierina Paganelli, gip rigetta scarcerazione Dassilva\n",
            "896                                                                                     Brianza, la denuncia di una malata di tumore\n",
            "899                                           Violenza sulle donne, Ermal Meta: \"Da uomo sono spaventato dal mostro che dorme in me\"\n",
            "903                                                                         Papa Francesco in Piazza San Pietro, il saluto ai fedeli\n",
            "906                                                  Infermieri in fuga, la Lombardia punta sulla figura dell’assistente: ecco cos’è\n",
            "907                                                                   Papa Francesco, da Santa Maria Maggiore prime foto della tomba\n",
            "910                                                                Traffico internazionale di droga: 52 arresti fra Italia e Albania\n",
            "915                                                     Garlasco, l'impronta trascurata 18 anni fa: è rossa ma il sangue non c'entra\n",
            "918                                                              Jeff Bridges aggiorna i fan a cinque anni dal cancro: ecco come sta\n",
            "921                                                                                    A ruba gadget e memorabilia di Papa Francesco\n",
            "927                                                               Aladdin diventa un horror: in arrivo il remake del classico Disney\n",
            "928                                                             Argentina, scienziati in piazza contro Milei: \"Mai così pochi fondi\"\n",
            "939                                                            Gaza, palestinesi affamati prendono d'assalto una mensa a Khan Younis\n",
            "940                                                                    Garlasco, le telefonate di Sempio e il dubbio sullo scontrino\n",
            "941                                                                      Spagna, Manu Chao si esibisce in strada durante il blackout\n",
            "942                                            Premio Film Impresa 2025: al via la terza edizione. Premio Speciale a Luca Zingaretti\n",
            "943                                                                     Conclave, con i jammer la Cappella Sistina diventa un bunker\n",
            "944                                                                            Lato B: con qualche \"aiutino\" può diventare da favola\n",
            "947                                                                      Sorpresa per Hailey Bieber: serenata mariachi al ristorante\n",
            "948                                                                              Paese che vai, piatto che trovi? Non è proprio così\n",
            "950                                                                     Migranti, la nave Libra con 40 a bordo è arrivata in Albania\n",
            "952                                                                   È morto Mario Vargas Llosa, fu premio Nobel per la Letteratura\n",
            "955                                                                     Roma celebra i 300 anni della scalinata di Trinità dei Monti\n",
            "956                                                                      A Riad i colloqui tra Usa e Russia per la tregua in Ucraina\n",
            "959                                                                    Campi Flegrei, rivisto il dato della scossa del 13 marzo: 4.6\n",
            "963                                                                              è sempre tempo di Resistenza, attuali i suoi valori\n",
            "964                                                                          superare le sfide per un impatto positivo sul business\"\n",
            "970                                                                               Gaza, bimba di un mese estratta viva dalle macerie\n",
            "971                                                                                             “Potrei aver causato io la frattura”\n",
            "972                                         Serra Nevada, bloccata per oltre un'ora in bilico su una parete rocciosa: il salvataggio\n",
            "975                                      Guerre a Gaza e in Ucraina, Liliana Segre: \"Io che sono una donna di pace mi sento inutile\"\n",
            "978                                                             Milano, scontri tra polizia e manifestanti a corteo anti Remigration\n",
            "980                                                         Midjourney modificherà anche le immagini già esistenti. Cosa vuole dire?\n",
            "982                                                                                          \"Le aziende tornano qui grazie ai dazi\"\n",
            "983                                                                                                      c’è un buco da 6,6 miliardi\n",
            "985                                                                 Donald Trump contro il capo della Fed Jerome Powell: ecco perché\n",
            "986                                                                         Zincheria di Padova premia gli operai che non scioperano\n",
            "987                                                       Focus sui servizi di fibra e 5G, Accenture acquisisce l'italiana Fibermind\n",
            "988                                                                              Morto Ted Kotcheff, fu il regista del primo \"Rambo\"\n",
            "990                                                                     Pescara, aggredisce infermiera al pronto soccorso: arrestata\n",
            "992                                                                        Primavera all’aria aperta: i dieci sentieri top in Italia\n",
            "993                                                     Dazi su acciaio-alluminio, primo colpo all'Europa. Faccia a faccia con Vance\n",
            "994                                                                     Germania, piccolo aereo si schianta contro edificio: 2 morti\n",
            "999                                                                                 i liberali di Mark Carney vincono le legislative\n",
            "Name: title, dtype: object\n"
          ]
        }
      ]
    },
    {
      "cell_type": "code",
      "source": [
        "import pandas as pd\n",
        "\n",
        "df = pd.read_csv('/content/drive/MyDrive/Mediacloud/Brazil/inteligência_artificial_brazil_2024-06-01_2025-06-01_newsplease_mediacloud.csv')\n",
        "df.publish_date.value_counts()\n",
        "df = df[df.publish_date == \"2024-10-07\"]\n",
        "\n",
        "with pd.option_context('display.max_rows', None, 'display.max_colwidth', None):\n",
        "    print(df['title'])"
      ],
      "metadata": {
        "colab": {
          "base_uri": "https://localhost:8080/"
        },
        "id": "by2uCFgUNCgM",
        "outputId": "32e26948-36d8-47f6-81b9-51008bf81d70"
      },
      "execution_count": null,
      "outputs": [
        {
          "output_type": "stream",
          "name": "stdout",
          "text": [
            "5                                     Eleições 2024: Olguin Metz, do PL, é eleito prefeito de Arabutã no 1º turno\n",
            "22                         Eleições 2024: Nelson Cintra, do PSDB, é eleito prefeito de Porto Murtinho no 1º turno\n",
            "37               Eleições 2024: Gabriel Braz, do MDB, é eleito prefeito de Vargem Grande do Rio Pardo no 1º turno\n",
            "39                                       Eleições 2024: Maninho, do MDB, é eleito prefeito de Capitão no 1º turno\n",
            "42                                Eleições 2024: Leo Ponto Certo, do PP, é eleito prefeito de Jacinto no 1º turno\n",
            "45                              Eleições 2024: Júnior Maranhão, do PSB, é eleito prefeito de Fagundes no 1º turno\n",
            "55                               Eleições 2024: Airton Bohn, do PP, é eleito prefeito de Morro Reuter no 1º turno\n",
            "63                 Eleições 2024: Wanderly Leite, do REPUBLICANOS, é eleito prefeito de Aguiarnópolis no 1º turno\n",
            "74     Eleição 2024: Marcones Melo, do PSD, é eleito prefeito de General Maynard; veja os vereadores mais votados\n",
            "86                               Eleições 2024: Zé Martins, do PSB, é eleito prefeito de João Alfredo no 1º turno\n",
            "92                         Eleições 2024: Suelen Mative, do REPUBLICANOS, é eleita prefeita de Caiabu no 1º turno\n",
            "109                      Eleições 2024: Altran Avelar, do UNIÃO, é eleito prefeito de Flores de Goiás no 1º turno\n",
            "116                              Eleições 2024: Canarinho Junior, do PP, é eleito prefeito de Indiana no 1º turno\n",
            "120                            Eleições 2024: Andrezinho Xavier, do PSD, é eleito prefeito de Piraúba no 1º turno\n",
            "124                              Eleições 2024: Eduardo Dalmora, do PL, é eleito prefeito de Matinhos no 1º turno\n",
            "164                              Eleições 2024: Doutor Murillo, do UNIÃO, é eleito prefeito de Coribe no 1º turno\n",
            "168            Eleições 2024: confira resultados do 1º turno nos municípios da Zona da Mata e Campo das Vertentes\n",
            "209                               Eleições 2024: Big Jow, do UNIÃO, é eleito prefeito de Cristalândia no 1º turno\n",
            "222                           Eleições 2024: Affonso Monnerat, do PP, é eleito prefeito de Bom Jardim no 1º turno\n",
            "224                                  Eleições 2024: Costa, do UNIÃO, é eleito prefeito de Nova Veneza no 1º turno\n",
            "231                   Eleições 2024: Wagne Machado, do MDB, é eleito prefeito de Eldorado dos Carajás no 1º turno\n",
            "234                                   Eleições 2024: Dedê Trovó, do PL, é eleito prefeito de Ariranha no 1º turno\n",
            "263                       Eleições 2024: Paulinha Santos, do MDB, é eleita prefeita de Serra do Navio no 1º turno\n",
            "290                                         Eleições 2024: Soraya, do PP, é eleita prefeita de Pilões no 1º turno\n",
            "297                                       Eleições 2024: Victor, do PP, é eleito prefeito de Botuverá no 1º turno\n",
            "305                                   Eleições 2024: Bozinha, do PP, é eleito prefeito de Campo Magro no 1º turno\n",
            "311                                Eleições 2024: José Luiz, do PSD, é eleito prefeito de Divisa Nova no 1º turno\n",
            "314                    Eleições 2024: Edvaldo Bitencourt, do MDB, é eleito prefeito de Wenceslau Braz no 1º turno\n",
            "324                Eleições 2024: Benilton Anastacio, do UNIÃO, é eleito prefeito de Rafael Fernandes no 1º turno\n",
            "342                           Eleições 2024: Gilson, do REPUBLICANOS, é eleito prefeito de Clementina no 1º turno\n",
            "344                     Eleições 2024: Edmir Chedid, do UNIÃO, é eleito prefeito de Bragança Paulista no 1º turno\n",
            "346                             Eleições 2024: Edglei Amorim, do PP, é eleito prefeito de Santo André no 1º turno\n",
            "350                            Eleições 2024: Zé Marcos, do AVANTE, é eleito prefeito de Rio do Pires no 1º turno\n",
            "364                         Eleições 2024: Paulo da Padaria, do PSDB, é eleito prefeito de Califórnia no 1º turno\n",
            "377                            Eleições 2024: Enilson Rios, do UNIÃO, é eleito prefeito de Araputanga no 1º turno\n",
            "388                Eleições 2024: Geraldinho Mantovani, do PSD, é eleito prefeito de Águas de Lindóia no 1º turno\n",
            "397                         Eleições 2024: Welberth Rezende, do CIDADANIA, é eleito prefeito de Macaé no 1º turno\n",
            "405                         Eleições 2024: Delegada Thatianne, do PP, é eleita prefeita de Palmeirina no 1º turno\n",
            "418             Eleições 2024: Marquinho Tameirão, do UNIÃO, é eleito prefeito de Santana de Pirapama no 1º turno\n",
            "420                           Eleições 2024: Moises, do MDB, é eleito prefeito de São Valentim do Sul no 1º turno\n",
            "421                         Eleições 2024: Dr. Henrique Gois, do MDB, é eleito prefeito de Paranatama no 1º turno\n",
            "422                         Eleições 2024: André Bocão, do MDB, é eleito prefeito de Marechal Deodoro no 1º turno\n",
            "425                        Eleições 2024: Guilherme Fonseca, do PSD, é eleito prefeito de Porciúncula no 1º turno\n",
            "426                                    Eleições 2024: Tarcisinho, do PL, é eleito prefeito de Caiçara no 1º turno\n",
            "430                             Eleições 2024: Sérgio, do PSD, é eleito prefeito de São João do Oeste no 1º turno\n",
            "440                           Eleições 2024: Ricardo da Granada, do PODE, é eleito prefeito de Adolfo no 1º turno\n",
            "441         Eleições 2024: Chiquinho do Banco, do MDB, é eleito prefeito de Governador Eugênio Barros no 1º turno\n",
            "445                       Eleições 2024: Silvio Damaceno, do PSD, é eleito prefeito de Prado Ferreira no 1º turno\n",
            "448                            Eleições 2024: Garbim, do PSB, é eleito prefeito de Engenheiro Beltrão no 1º turno\n",
            "449                    Eleições 2024: Mariel da Rocha, do PSDB, é eleito prefeito de Fernando Prestes no 1º turno\n",
            "456                                      Eleições 2024: Braulina, do PV, é eleita prefeita de Aracatu no 1º turno\n",
            "474                                  Eleições 2024: Reginaldo, do PSB, é eleito prefeito de Ibitirama no 1º turno\n",
            "485                             Eleições 2024: Emanoel da Farmácia, do PT, é eleito prefeito de Abaré no 1º turno\n",
            "517                                    Eleições 2024: Flaviana, do MDB, é eleita prefeita de Pejuçara no 1º turno\n",
            "538                  Eleições 2024: Eduardo Português, do PSB, é eleito prefeito de São Pedro da Cipa no 1º turno\n",
            "541             Eleições 2024: Sandrinho Palmeira, do PSB, é eleito prefeito de Afogados da Ingazeira no 1º turno\n",
            "545           Eleições 2024: Professor Emerson Patrick, do REPUBLICANOS, é eleito prefeito de Guarani no 1º turno\n",
            "561                                    Eleições 2024: Júnior Pinto, do PSDB, é eleito prefeito de Exu no 1º turno\n",
            "575                         Eleições 2024: Aldo Lopes, do REPUBLICANOS, é eleito prefeito de Cururupu no 1º turno\n",
            "578                                          Eleições 2024: Rosa, do PL, é eleita prefeita de Pirajuí no 1º turno\n",
            "582                           Eleições 2024: Galo de Florãnia, do PSDB, é eleito prefeito de Florânia no 1º turno\n",
            "584                      Eleições 2024: Junior Tavian, do PSD, é eleito prefeito de Centenário do Sul no 1º turno\n",
            "610                               Eleições 2024: Maria Elce, do MDB, é eleita prefeita de Major Sales no 1º turno\n",
            "615                              Eleições 2024: Marcelo Beltrão, do PP, é eleito prefeito de Coruripe no 1º turno\n",
            "631                              Eleições 2024: Junior Piaggio, do PSD, é eleito prefeito de Ipecaetá no 1º turno\n",
            "661                         Eleições 2024: Valdir Verona, do PSD, é eleito prefeito de Santa Mercedes no 1º turno\n",
            "663                                        Eleições 2024: Aidinha, do PSD, é eleita prefeita de Uibaí no 1º turno\n",
            "665                                  Eleições 2024: Dominguim, do PP, é eleito prefeito de Brás Pires no 1º turno\n",
            "676                              Eleições 2024: Altamir Sanson, do PSD, é eleito prefeito de Palmeira no 1º turno\n",
            "681                   Eleições 2024: Nivaldo Rodrigues, do MDB, é eleito prefeito de Leandro Ferreira no 1º turno\n",
            "684                               Eleições 2024: Conrado Scheller, do PSD, é eleito prefeito de Cambé no 1º turno\n",
            "692                         Eleições 2024: Pedro Afonso, do AVANTE, é eleito prefeito de Itamarandiba no 1º turno\n",
            "694       Eleições 2024: Professora Nenzinha, do PSD, é eleita prefeita de São Sebastião do Tocantins no 1º turno\n",
            "696                 Eleições 2024: Ademar Borges, do PSD, é eleito prefeito de Balneário Barra do Sul no 1º turno\n",
            "716                                  Eleições 2024: Celsinho, do PSDB, é eleito prefeito de Xangri-Lá no 1º turno\n",
            "718                           Eleições 2024: Helinho Bernardino, do PL, é eleito prefeito de Saltinho no 1º turno\n",
            "720                          Eleições 2024: Schmoller, do PSD, é eleito prefeito de Itapejara d'Oeste no 1º turno\n",
            "729                                        Eleições 2024: Odacir, do PT, é eleito prefeito de Ciríaco no 1º turno\n",
            "760                       Eleições 2024: Clenei Parreira, do UNIÃO, é eleito prefeito de Ponte Branca no 1º turno\n",
            "775                                  Eleições 2024: Dr Caio, do PL, é eleito prefeito de Rio Negrinho no 1º turno\n",
            "780                           Eleições 2024: Jaime do Mercado, do MDB, é eleito prefeito de Palestina no 1º turno\n",
            "804                               Eleições 2024: Dirceu Pé, do MDB, é eleito prefeito de Campos Novos no 1º turno\n",
            "809                      Eleições 2024: Fernando Cadore, do PSD, é eleito prefeito de Salto do Lontra no 1º turno\n",
            "825                              Eleições 2024: Paulo Finamore, do MDB, é eleito prefeito de Louveira no 1º turno\n",
            "839                                 Eleições 2024: Tiago Dalperio, do PP, é eleito prefeito de Tombos no 1º turno\n",
            "840                    Eleições 2024: Marcelo de Alberto, do REPUBLICANOS, é eleito prefeito de Inajá no 1º turno\n",
            "845                    Eleições 2024: Dr Milton Gonçalo, do MOBILIZA, é eleito prefeito de Santa Rita no 1º turno\n",
            "851                                Eleições 2024: Narizinho, do PSB, é eleito prefeito de Nova Nazaré no 1º turno\n",
            "855                                Eleições 2024: Fatima Dantas, do PP, é eleita prefeita de Sambaíba no 1º turno\n",
            "888                                  Eleições 2024: Everilson, do PL, é eleito prefeito de Pratápolis no 1º turno\n",
            "904                           Eleições 2024: Bibi de Nenca, do MDB, é eleito prefeito de Campo Grande no 1º turno\n",
            "920                      Eleições 2024: Jackson Machado, do MDB, é eleito prefeito de Capitão Andrade no 1º turno\n",
            "923                      Eleições 2024: Rodrigo dos Santos, do PP, é eleito prefeito de Major Gercino no 1º turno\n",
            "926                          Eleições 2024: Valdo do Posto, do MDB, é eleito prefeito de Jacareacanga no 1º turno\n",
            "945                                   Eleições 2024: Leca Berto, do PODE, é eleita prefeita de Brotas no 1º turno\n",
            "946              Eleições 2024: Robson Trindade, do UNIÃO, é eleito prefeito de São Martinho da Serra no 1º turno\n",
            "952                     Eleições 2024: Valmir de Francisquinho, do PL, é eleito prefeito de Itabaiana no 1º turno\n",
            "965                                        Eleições 2024: Lico, do PP, é eleito prefeito de Bom Jesus no 1º turno\n",
            "976                          Eleições 2024: Nei Sgobi, do PL, é eleito prefeito de Vera Cruz do Oeste no 1º turno\n",
            "988                       Eleições 2024: Dr. Histênio, do MDB, é eleito prefeito de Vertente do Lério no 1º turno\n",
            "991                            Eleições 2024: Luiz Fernando Pezão, do MDB, é eleito prefeito de Piraí no 1º turno\n",
            "992                                   Eleições 2024: Nana, do PSD, é eleito prefeito de Carlos Chagas no 1º turno\n",
            "Name: title, dtype: object\n"
          ]
        }
      ]
    },
    {
      "cell_type": "code",
      "source": [
        "print(df.maintext[5])"
      ],
      "metadata": {
        "colab": {
          "base_uri": "https://localhost:8080/"
        },
        "id": "p28bcv7KOFg4",
        "outputId": "fc684631-4e85-481c-9590-3b1aae455f30"
      },
      "execution_count": null,
      "outputs": [
        {
          "output_type": "stream",
          "name": "stdout",
          "text": [
            "Olguin Metz, do PL, foi eleito neste domingo (6) prefeito de Arabutã (SC) para os próximos quatro anos. Ao fim da apuração, Olguin Metz teve 2.017 votos, 57,71% dos votos válidos (dados a todos os candidatos).\n",
            "Os dados foram divulgados pelo Tribunal Superior Eleitoral (TSE).\n",
            "Confira o resultado do 1º turno em Arabutã após a apuração:\n",
            "Olguin Metz (PL): 2.017 votos, 57,71% dos votos válidos\n",
            "Gerson (MDB): 1.478 votos, 42,29% dos votos válidos\n",
            "A eleição em Arabutã teve 3.555 votos totais, o que inclui 19 votos brancos, 0,53% dos votos totais, e 41 votos nulos, 1,15%.\n",
            "A abstenção foi de 292 eleitores, 7,59% do total de aptos a votar nas eleições 2024 na cidade.\n",
            "Quem é Olguin Metz\n",
            "Olguin Metz tem 44 anos, é casado, tem superior completo e declara à Justiça Eleitoral a ocupação de empresário. Ele declarou um patrimônio de R$ 886.978,95.\n",
            "O vice-prefeito eleito em Arabutã é Ivan Kaiber, do PP, que tem 49 anos.\n",
            "Os dois fazem parte da coligação ARABUTÃ, NO CAMINHO DO DESENVOLVIMENTO, formada pelos partidos PP e PL.\n",
            "Receitas e despesas de Olguin Metz\n",
            "Veja, abaixo, as receitas e despesas da campanha de Olguin Metz e quais os principais tipos de gastos eleitorais, segundo a prestação parcial de contas.\n",
            "Receitas\n",
            "Valores declarados até 28/11\n",
            "Fonte: TSE\n",
            "Despesas\n",
            "Valores declarados até 28/11\n",
            "Fonte: TSE\n",
            "Esta reportagem poderá ser atualizada para incluir os dados da prestação final de contas do candidato.\n",
            "Histórico dos prefeitos eleitos em Arabutã\n",
            "Veja, abaixo, o perfil dos prefeitos eleitos desde 2000 por partido, gênero e raça.\n",
            "Partidos dos prefeitos eleitos\n",
            "Ano Partido 2000 PMDB 2004 PMDB 2008 PMDB 2012 PMDB 2016 PSD 2020 PSD 2024 PL\n",
            "Gênero\n",
            "Total de prefeitos eleitos desde 2000 de acordo com o gênero\n",
            "Fonte: TSE\n",
            "Raça\n",
            "Total de prefeitos eleitos desde 2016 de acordo com a raça declarada\n",
            "Fonte: TSE\n",
            "Candidatos a vereador mais votados para a Câmara dos Vereadores em Arabutã\n",
            "Veja, abaixo, a lista dos 10 candidatos a vereador mais votados em Arabutã nas eleições 2024.\n",
            "Nome de urna Partido Número de urna Votos Daltro Krombauer PP 11222 292 Mauri Patzlaff PSDB 45123 277 Márcio do Esporte PL 22022 271 Liane da Saúde PP 11888 239 Rubia Kiekow PP 11611 223 Rosane Dall'agnol Arend MDB 15800 183 Edson Rauschkolb PL 22222 176 Nusio Rubenich PP 11111 172 Ilário Haefliger MDB 15180 153 Janiele Bogoni PL 22123 152\n",
            "Clique aqui para ver a lista de vereadores eleitos em Arabutã.\n",
            "Como são definidos os eleitos para as câmaras municipais\n",
            "A definição dos candidatos eleitos para as câmaras municipais é baseada em dois quocientes: o quociente eleitoral e o quociente partidário – por isso, nem sempre o candidato mais votado é quem fica com a vaga.\n",
            "Quociente eleitoral: É calculado pela divisão do total de votos válidos (excluídos os brancos e nulos) pelo número de vagas na Câmara.\n",
            "Quociente partidário: é a divisão dos votos válidos obtidos pelo partido ou federação pelo quociente partidário. O resultado define o número de cadeiras a que o partido ou federação terá direito, que serão preenchidas pelos candidatos mais votados que tenham obtido individualmente, no mínimo, 10% do quociente eleitoral.\n",
            "Caso não sejam preenchidas todas as cadeiras nessa primeira fase, entram na disputa aqueles partidos que atingiram 80% do quociente eleitoral. Poderão receber as cadeiras os candidatos que individualmente obtiverem 20% do quociente eleitoral. Se ainda sobrarem vagas, elas serão distribuídas entre todos os partidos de acordo com a média de votos.\n",
            "Esta reportagem foi produzida automaticamente, sob supervisão de jornalistas, com dados fornecidos pelo Tribunal Superior Eleitoral. Na produção do vídeo, uma ferramenta de inteligência artificial foi usada para garantir que ele só seja gerado se os dados estiverem condizentes com os que estão no site do tribunal. Clique aqui para saber mais. Caso haja atualizações nas informações, o texto poderá ser atualizado. Se você identificar algum erro, por favor, nos informe por meio deste formulário.\n",
            "Eleições 2024 em Arabutã/SC — Foto: g1\n"
          ]
        }
      ]
    }
  ],
  "metadata": {
    "colab": {
      "provenance": []
    },
    "kernelspec": {
      "display_name": "Python 3",
      "name": "python3"
    },
    "language_info": {
      "name": "python"
    }
  },
  "nbformat": 4,
  "nbformat_minor": 0
}