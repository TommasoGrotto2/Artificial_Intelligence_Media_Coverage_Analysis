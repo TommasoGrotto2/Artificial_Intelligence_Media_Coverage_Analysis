{
  "nbformat": 4,
  "nbformat_minor": 0,
  "metadata": {
    "colab": {
      "provenance": []
    },
    "kernelspec": {
      "name": "python3",
      "display_name": "Python 3"
    },
    "language_info": {
      "name": "python"
    }
  },
  "cells": [
    {
      "cell_type": "code",
      "execution_count": null,
      "metadata": {
        "id": "_VNamPXxzneh",
        "colab": {
          "base_uri": "https://localhost:8080/"
        },
        "outputId": "a8b34de3-5a25-4c65-8caf-418c015066e2"
      },
      "outputs": [
        {
          "output_type": "stream",
          "name": "stdout",
          "text": [
            "Mounted at /content/drive\n"
          ]
        }
      ],
      "source": [
        "from google.colab import drive\n",
        "drive.mount('/content/drive')"
      ]
    },
    {
      "cell_type": "code",
      "source": [
        "import pandas as pd\n",
        "import matplotlib.pyplot as plt\n",
        "from sklearn.feature_extraction.text import TfidfVectorizer\n",
        "from sklearn.linear_model import LogisticRegression, LinearRegression\n",
        "from sklearn.ensemble import RandomForestClassifier, RandomForestRegressor\n",
        "from sklearn.model_selection import train_test_split\n",
        "from sklearn.metrics import classification_report, confusion_matrix, ConfusionMatrixDisplay, mean_squared_error, mean_absolute_error, r2_score"
      ],
      "metadata": {
        "id": "ONHdQLZEzu6E"
      },
      "execution_count": null,
      "outputs": []
    },
    {
      "cell_type": "code",
      "source": [
        "known_frames = [\n",
        "    \"AI impacts on businesses, economy, and jobs\",\n",
        "    \"AI transformations in education and research\",\n",
        "    \"AI in national security and global partnerships\",\n",
        "    \"AI disruptions in media and creative industries\",\n",
        "    \"AI-based innovative solutions\",\n",
        "    \"AI regulations, ethics, and data privacy\",\n",
        "    \"AI competition and market dynamics in tech industries\",\n",
        "    \"AI in healthcare and climate change\",\n",
        "    \"AI in politics, elections, and public opinion\",\n",
        "    \"Other\",\n",
        "    \"Not AI related\"\n",
        "]\n",
        "\n",
        "def extract_clean_frame(raw_output):\n",
        "    for frame in known_frames:\n",
        "        if frame.lower() in raw_output.lower():\n",
        "            return frame\n",
        "    return \"unmatched\"  # fallback if nothing matched"
      ],
      "metadata": {
        "id": "0jqhZgGWzzZB"
      },
      "execution_count": null,
      "outputs": []
    },
    {
      "cell_type": "code",
      "source": [
        "import warnings\n",
        "warnings.filterwarnings(\"ignore\")"
      ],
      "metadata": {
        "id": "7yvAuYYlz52P"
      },
      "execution_count": null,
      "outputs": []
    },
    {
      "cell_type": "code",
      "source": [
        "country_dfs = [\n",
        "    pd.read_csv('/content/drive/MyDrive/Mediacloud/UK/artificial_intelligence_uk_cleaned_2024-06-01_2025-06-01_frames_sentiments_newsplease_mediacloud_gemini_2-5.csv'),\n",
        "    pd.read_csv('/content/drive/MyDrive/Mediacloud/Italy/intelligenza_artificiale_italy_cleaned_2024-06-01_2025-06-01_frames_sentiments_newsplease_mediacloud_gemini_2-5.csv'),\n",
        "    pd.read_csv('/content/drive/MyDrive/Mediacloud/Germany/künstliche_intelligenz_germany_cleaned_2024-06-01_2025-06-01_frames_sentiments_newsplease_mediacloud_gemini_2-5.csv'),\n",
        "    pd.read_csv(\"/content/drive/MyDrive/Mediacloud/Brazil/inteligência_artificial_brazil_cleaned_2024-06-01_2025-06-01_frames_sentiments_newsplease_mediacloud_gemini_2-5.csv\"),\n",
        "    #pd.read_csv('/content/drive/MyDrive/Mediacloud/USA/artificial_intelligence_usa_2024-06-01_2025-06-01_frames_sentiments_newsplease_mediacloud_gemini_2-5.csv'),\n",
        "    #pd.read_csv('/content/drive/MyDrive/Mediacloud/France/intelligence_artificielle_france_2024-06-01_2025-06-01_frames_sentiments_newsplease_mediacloud_gemini_2-5.csv'),\n",
        "    #pd.read_csv('/content/drive/MyDrive/Mediacloud/India/artificial_intelligence_india_2024-06-01_2025-06-01_frames_sentiments_newsplease_mediacloud_gemini_2-5.csv'),\n",
        "]\n",
        "\n",
        "for df in country_dfs:\n",
        "  df[\"frame\"] = df[\"frame\"].apply(extract_clean_frame)"
      ],
      "metadata": {
        "id": "uV7vID_0z_My"
      },
      "execution_count": null,
      "outputs": []
    },
    {
      "cell_type": "code",
      "source": [
        "pd.read_csv('/content/drive/MyDrive/Mediacloud/UK/artificial_intelligence_uk_cleaned_2024-06-01_2025-06-01_frames_sentiments_newsplease_mediacloud_gemini_2-5.csv'),\n",
        "pd.read_csv('/content/drive/MyDrive/Mediacloud/Italy/intelligenza_artificiale_italy_cleaned_2024-06-01_2025-06-01_frames_sentiments_newsplease_mediacloud_gemini_2-5.csv'),\n",
        "pd.read_csv('/content/drive/MyDrive/Mediacloud/Germany/künstliche_intelligenz_germany_cleaned_2024-06-01_2025-06-01_frames_sentiments_newsplease_mediacloud_gemini_2-5.csv'),\n",
        "pd.read_csv(\"/content/drive/MyDrive/Mediacloud/Brazil/inteligência_artificial_brazil_cleaned_2024-06-01_2025-06-01_frames_sentiments_newsplease_mediacloud_gemini_2-5.csv\"),\n",
        "pd.read_csv('/content/drive/MyDrive/Mediacloud/USA/artificial_intelligence_usa_cleaned_2024-06-01_2025-06-01_frames_sentiments_newsplease_mediacloud_gemini_2-5.csv'),\n",
        "pd.read_csv('/content/drive/MyDrive/Mediacloud/France/intelligence_artificielle_france_cleaned_2024-06-01_2025-06-01_frames_sentiments_newsplease_mediacloud_gemini_2-5.csv'),\n",
        "pd.read_csv('/content/drive/MyDrive/Mediacloud/India/artificial_intelligence_india_cleaned_2024-06-01_2025-06-01_frames_sentiments_newsplease_mediacloud_gemini_2-5.csv'),\n",
        "pd.read_csv(\"/content/drive/MyDrive/Mediacloud/China/人工智能_china_cleaned_2024-06-01_2025-06-01_frames_sentiments_newsplease_mediacloud_gemini_2-5.csv\"),\n",
        "pd.read_csv(\"/content/drive/MyDrive/Mediacloud/Japan/人工知能_japan_cleaned_2024-06-01_2025-06-01_frames_sentiments_newsplease_mediacloud_gemini_2-5.csv\"),\n",
        "pd.read_csv(\"/content/drive/MyDrive/Mediacloud/Russia/искусственный_интеллект_russia_cleaned_2024-06-01_2025-06-01_frames_sentiments_newsplease_mediacloud_gemini_2-5.csv\"),\n",
        "pd.read_csv(\"/content/drive/MyDrive/Mediacloud/artificial_intelligence_combined_2024-06-01_2025-06-01_frames_sentiments_newsplease_mediacloud_gemini_2-5.csv\"),"
      ],
      "metadata": {
        "id": "ykly1e3Bz_9H"
      },
      "execution_count": null,
      "outputs": []
    },
    {
      "cell_type": "code",
      "execution_count": null,
      "metadata": {
        "id": "12qgjVmD5czn",
        "colab": {
          "base_uri": "https://localhost:8080/"
        },
        "outputId": "4b983b2c-208e-4717-ad5a-86437e46a1f5"
      },
      "outputs": [
        {
          "output_type": "stream",
          "name": "stdout",
          "text": [
            "Linear Regression Performance:\n",
            "MSE: 4.54663540685318\n",
            "MAE: 1.6711469086338695\n",
            "R²: 0.4028188301132718\n"
          ]
        }
      ],
      "source": [
        "# Load labeled dataset\n",
        "df = pd.read_csv(\"/content/drive/MyDrive/Mediacloud/Brazil/inteligência_artificial_brazil_cleaned_2024-06-01_2025-06-01_frames_sentiments_newsplease_mediacloud_gemini_2-5.csv\")  # columns: maintext, frame\n",
        "df[\"frame\"] = df[\"frame\"].apply(extract_clean_frame)\n",
        "df['sentiment'] = df['sentiment'].replace('error', pd.NA)\n",
        "df['sentiment'] = pd.to_numeric(df['sentiment'], errors='coerce')\n",
        "\n",
        "# Drop rows with NaN in the 'sentiment' column\n",
        "df.dropna(subset=['sentiment'], inplace=True)\n",
        "\n",
        "# Split data\n",
        "X_train, X_test, y_train, y_test = train_test_split(df[\"maintext\"], df[\"sentiment\"], test_size=0.3, random_state=42)\n",
        "\n",
        "# TF-IDF vectorization\n",
        "vectorizer = TfidfVectorizer(max_features=5000)\n",
        "X_train_tfidf = vectorizer.fit_transform(X_train)\n",
        "X_test_tfidf = vectorizer.transform(X_test)\n",
        "\n",
        "# Train Linear Regression model\n",
        "reg = LinearRegression()\n",
        "reg.fit(X_train_tfidf, y_train)\n",
        "\n",
        "# Predict\n",
        "y_pred = reg.predict(X_test_tfidf)\n",
        "\n",
        "# Evaluation\n",
        "print(\"Linear Regression Performance:\")\n",
        "print(\"MSE:\", mean_squared_error(y_test, y_pred))\n",
        "print(\"MAE:\", mean_absolute_error(y_test, y_pred))\n",
        "print(\"R²:\", r2_score(y_test, y_pred))"
      ]
    },
    {
      "cell_type": "code",
      "source": [
        "# Load labeled dataset\n",
        "df = pd.read_csv(\"/content/drive/MyDrive/Mediacloud/Brazil/inteligência_artificial_brazil_cleaned_2024-06-01_2025-06-01_frames_sentiments_newsplease_mediacloud_gemini_2-5.csv\")\n",
        "df[\"frame\"] = df[\"frame\"].apply(extract_clean_frame)\n",
        "df['sentiment'] = df['sentiment'].replace('error', pd.NA)\n",
        "df['sentiment'] = pd.to_numeric(df['sentiment'], errors='coerce')\n",
        "\n",
        "# Drop rows with NaN in the 'sentiment' column\n",
        "df.dropna(subset=['sentiment'], inplace=True)\n",
        "\n",
        "# Split data\n",
        "X_train, X_test, y_train, y_test = train_test_split(df[\"maintext\"], df[\"sentiment\"], test_size=0.3, random_state=42)\n",
        "\n",
        "# TF-IDF vectorization\n",
        "vectorizer = TfidfVectorizer(max_features=5000)\n",
        "X_train_tfidf = vectorizer.fit_transform(X_train)\n",
        "X_test_tfidf = vectorizer.transform(X_test)\n",
        "\n",
        "# Train Random Forest Regressor\n",
        "rf_reg = RandomForestRegressor(n_estimators=100, random_state=42)\n",
        "rf_reg.fit(X_train_tfidf, y_train)\n",
        "\n",
        "# Predict\n",
        "y_pred_rf = rf_reg.predict(X_test_tfidf)\n",
        "\n",
        "# Evaluation\n",
        "print(\"Random Forest Regressor Performance:\")\n",
        "print(\"MSE:\", mean_squared_error(y_test, y_pred_rf))\n",
        "print(\"MAE:\", mean_absolute_error(y_test, y_pred_rf))\n",
        "print(\"R²:\", r2_score(y_test, y_pred_rf))"
      ],
      "metadata": {
        "id": "DMCyr0yO5rhv",
        "colab": {
          "base_uri": "https://localhost:8080/"
        },
        "outputId": "bcfa1259-83fc-43ff-b60c-5d51cf7f702e"
      },
      "execution_count": null,
      "outputs": [
        {
          "output_type": "stream",
          "name": "stdout",
          "text": [
            "Random Forest Regressor Performance:\n",
            "MSE: 5.481352879970272\n",
            "MAE: 1.8917279821627648\n",
            "R²: 0.28004767646671835\n"
          ]
        }
      ]
    },
    {
      "cell_type": "code",
      "execution_count": null,
      "metadata": {
        "id": "EpLoNQgiesoG",
        "colab": {
          "base_uri": "https://localhost:8080/"
        },
        "outputId": "114a83a6-e257-4019-e204-7f9af79f338f"
      },
      "outputs": [
        {
          "output_type": "stream",
          "name": "stdout",
          "text": [
            "Linear Regression Performance:\n",
            "MSE: 3.6176746002625397\n",
            "MAE: 1.435062203975272\n",
            "R²: -0.04907073764821135\n"
          ]
        }
      ],
      "source": [
        "# Load labeled dataset\n",
        "df = pd.read_csv(\"/content/drive/MyDrive/Mediacloud/China/人工智能_china_cleaned_2024-06-01_2025-06-01_frames_sentiments_newsplease_mediacloud_gemini_2-5.csv\")\n",
        "df[\"frame\"] = df[\"frame\"].apply(extract_clean_frame)\n",
        "df['sentiment'] = df['sentiment'].replace('error', pd.NA)\n",
        "df['sentiment'] = pd.to_numeric(df['sentiment'], errors='coerce')\n",
        "\n",
        "# Drop rows with NaN in the 'sentiment' column\n",
        "df.dropna(subset=['sentiment'], inplace=True)\n",
        "\n",
        "# Split data\n",
        "X_train, X_test, y_train, y_test = train_test_split(df[\"maintext\"], df[\"sentiment\"], test_size=0.3, random_state=42)\n",
        "\n",
        "# TF-IDF vectorization\n",
        "vectorizer = TfidfVectorizer(max_features=5000)\n",
        "X_train_tfidf = vectorizer.fit_transform(X_train)\n",
        "X_test_tfidf = vectorizer.transform(X_test)\n",
        "\n",
        "# Train Linear Regression model\n",
        "reg = LinearRegression()\n",
        "reg.fit(X_train_tfidf, y_train)\n",
        "\n",
        "# Predict\n",
        "y_pred = reg.predict(X_test_tfidf)\n",
        "\n",
        "# Evaluation\n",
        "print(\"Linear Regression Performance:\")\n",
        "print(\"MSE:\", mean_squared_error(y_test, y_pred))\n",
        "print(\"MAE:\", mean_absolute_error(y_test, y_pred))\n",
        "print(\"R²:\", r2_score(y_test, y_pred))"
      ]
    },
    {
      "cell_type": "code",
      "source": [
        "# Load labeled dataset\n",
        "df = pd.read_csv(\"/content/drive/MyDrive/Mediacloud/China/人工智能_china_cleaned_2024-06-01_2025-06-01_frames_sentiments_newsplease_mediacloud_gemini_2-5.csv\")\n",
        "df[\"frame\"] = df[\"frame\"].apply(extract_clean_frame)\n",
        "df['sentiment'] = df['sentiment'].replace('error', pd.NA)\n",
        "df['sentiment'] = pd.to_numeric(df['sentiment'], errors='coerce')\n",
        "\n",
        "# Drop rows with NaN in the 'sentiment' column\n",
        "df.dropna(subset=['sentiment'], inplace=True)\n",
        "\n",
        "# Split data\n",
        "X_train, X_test, y_train, y_test = train_test_split(df[\"maintext\"], df[\"sentiment\"], test_size=0.3, random_state=42)\n",
        "\n",
        "# TF-IDF vectorization\n",
        "vectorizer = TfidfVectorizer(max_features=5000)\n",
        "X_train_tfidf = vectorizer.fit_transform(X_train)\n",
        "X_test_tfidf = vectorizer.transform(X_test)\n",
        "\n",
        "# Train Random Forest Regressor\n",
        "rf_reg = RandomForestRegressor(n_estimators=100, random_state=42)\n",
        "rf_reg.fit(X_train_tfidf, y_train)\n",
        "\n",
        "# Predict\n",
        "y_pred_rf = rf_reg.predict(X_test_tfidf)\n",
        "\n",
        "# Evaluation\n",
        "print(\"Random Forest Regressor Performance:\")\n",
        "print(\"MSE:\", mean_squared_error(y_test, y_pred_rf))\n",
        "print(\"MAE:\", mean_absolute_error(y_test, y_pred_rf))\n",
        "print(\"R²:\", r2_score(y_test, y_pred_rf))"
      ],
      "metadata": {
        "id": "Zt8-g9Qve4VY",
        "colab": {
          "base_uri": "https://localhost:8080/"
        },
        "outputId": "067aba34-8dda-4c37-f075-5cb47bd99015"
      },
      "execution_count": null,
      "outputs": [
        {
          "output_type": "stream",
          "name": "stdout",
          "text": [
            "Random Forest Regressor Performance:\n",
            "MSE: 3.535248069291819\n",
            "MAE: 1.4627808302808305\n",
            "R²: -0.025168294448659534\n"
          ]
        }
      ]
    },
    {
      "cell_type": "code",
      "execution_count": null,
      "metadata": {
        "id": "Tu75Dyao5dwN",
        "colab": {
          "base_uri": "https://localhost:8080/"
        },
        "outputId": "949c5b88-1bcb-4b35-f807-a99147e76db4"
      },
      "outputs": [
        {
          "output_type": "stream",
          "name": "stdout",
          "text": [
            "Linear Regression Performance:\n",
            "MSE: 8.117223848966432\n",
            "MAE: 2.2481497151462357\n",
            "R²: 0.18353394733738704\n"
          ]
        }
      ],
      "source": [
        "# Load labeled dataset\n",
        "df = pd.read_csv(\"/content/drive/MyDrive/Mediacloud/France/intelligence_artificielle_france_cleaned_2024-06-01_2025-06-01_frames_sentiments_newsplease_mediacloud_gemini_2-5.csv\")  # columns: maintext, frame\n",
        "df[\"frame\"] = df[\"frame\"].apply(extract_clean_frame)\n",
        "df['sentiment'] = df['sentiment'].replace('error', pd.NA)\n",
        "df['sentiment'] = pd.to_numeric(df['sentiment'], errors='coerce')\n",
        "\n",
        "# Drop rows with NaN in the 'sentiment' column\n",
        "df.dropna(subset=['sentiment'], inplace=True)\n",
        "\n",
        "# Split data\n",
        "X_train, X_test, y_train, y_test = train_test_split(df[\"maintext\"], df[\"sentiment\"], test_size=0.3, random_state=42)\n",
        "\n",
        "# TF-IDF vectorization\n",
        "vectorizer = TfidfVectorizer(max_features=5000)\n",
        "X_train_tfidf = vectorizer.fit_transform(X_train)\n",
        "X_test_tfidf = vectorizer.transform(X_test)\n",
        "\n",
        "# Train Linear Regression model\n",
        "reg = LinearRegression()\n",
        "reg.fit(X_train_tfidf, y_train)\n",
        "\n",
        "# Predict\n",
        "y_pred = reg.predict(X_test_tfidf)\n",
        "\n",
        "# Evaluation\n",
        "print(\"Linear Regression Performance:\")\n",
        "print(\"MSE:\", mean_squared_error(y_test, y_pred))\n",
        "print(\"MAE:\", mean_absolute_error(y_test, y_pred))\n",
        "print(\"R²:\", r2_score(y_test, y_pred))"
      ]
    },
    {
      "cell_type": "code",
      "source": [
        "# Load labeled dataset\n",
        "df = pd.read_csv(\"/content/drive/MyDrive/Mediacloud/France/intelligence_artificielle_france_cleaned_2024-06-01_2025-06-01_frames_sentiments_newsplease_mediacloud_gemini_2-5.csv\")\n",
        "df[\"frame\"] = df[\"frame\"].apply(extract_clean_frame)\n",
        "df['sentiment'] = df['sentiment'].replace('error', pd.NA)\n",
        "df['sentiment'] = pd.to_numeric(df['sentiment'], errors='coerce')\n",
        "\n",
        "# Drop rows with NaN in the 'sentiment' column\n",
        "df.dropna(subset=['sentiment'], inplace=True)\n",
        "\n",
        "# Split data\n",
        "X_train, X_test, y_train, y_test = train_test_split(df[\"maintext\"], df[\"sentiment\"], test_size=0.3, random_state=42)\n",
        "\n",
        "# TF-IDF vectorization\n",
        "vectorizer = TfidfVectorizer(max_features=5000)\n",
        "X_train_tfidf = vectorizer.fit_transform(X_train)\n",
        "X_test_tfidf = vectorizer.transform(X_test)\n",
        "\n",
        "# Train Random Forest Regressor\n",
        "rf_reg = RandomForestRegressor(n_estimators=100, random_state=42)\n",
        "rf_reg.fit(X_train_tfidf, y_train)\n",
        "\n",
        "# Predict\n",
        "y_pred_rf = rf_reg.predict(X_test_tfidf)\n",
        "\n",
        "# Evaluation\n",
        "print(\"Random Forest Regressor Performance:\")\n",
        "print(\"MSE:\", mean_squared_error(y_test, y_pred_rf))\n",
        "print(\"MAE:\", mean_absolute_error(y_test, y_pred_rf))\n",
        "print(\"R²:\", r2_score(y_test, y_pred_rf))"
      ],
      "metadata": {
        "id": "_yRot0-z5uP0",
        "colab": {
          "base_uri": "https://localhost:8080/"
        },
        "outputId": "c65e5403-8045-41a6-b207-0a2b1ed1becf"
      },
      "execution_count": null,
      "outputs": [
        {
          "output_type": "stream",
          "name": "stdout",
          "text": [
            "Random Forest Regressor Performance:\n",
            "MSE: 7.217038874440665\n",
            "MAE: 2.314616507936508\n",
            "R²: 0.2740785086914307\n"
          ]
        }
      ]
    },
    {
      "cell_type": "code",
      "execution_count": null,
      "metadata": {
        "id": "2t4G5LwK5cgj",
        "colab": {
          "base_uri": "https://localhost:8080/"
        },
        "outputId": "59f30993-c71d-4a4d-e223-caebbb03f9b4"
      },
      "outputs": [
        {
          "output_type": "stream",
          "name": "stdout",
          "text": [
            "Linear Regression Performance:\n",
            "MSE: 33132.81540021257\n",
            "MAE: 137.20723759235634\n",
            "R²: -3698.349795017996\n"
          ]
        }
      ],
      "source": [
        "# Load labeled dataset\n",
        "df = pd.read_csv(\"/content/drive/MyDrive/Mediacloud/Germany/künstliche_intelligenz_germany_cleaned_2024-06-01_2025-06-01_frames_sentiments_newsplease_mediacloud_gemini_2-5.csv\")  # columns: maintext, frame\n",
        "df[\"frame\"] = df[\"frame\"].apply(extract_clean_frame)\n",
        "df['sentiment'] = df['sentiment'].replace('error', pd.NA)\n",
        "df['sentiment'] = pd.to_numeric(df['sentiment'], errors='coerce')\n",
        "\n",
        "# Drop rows with NaN in the 'sentiment' column\n",
        "df.dropna(subset=['sentiment'], inplace=True)\n",
        "\n",
        "# Split data\n",
        "X_train, X_test, y_train, y_test = train_test_split(df[\"maintext\"], df[\"sentiment\"], test_size=0.3, random_state=42)\n",
        "\n",
        "# TF-IDF vectorization\n",
        "vectorizer = TfidfVectorizer(max_features=5000)\n",
        "X_train_tfidf = vectorizer.fit_transform(X_train)\n",
        "X_test_tfidf = vectorizer.transform(X_test)\n",
        "\n",
        "# Train Linear Regression model\n",
        "reg = LinearRegression()\n",
        "reg.fit(X_train_tfidf, y_train)\n",
        "\n",
        "# Predict\n",
        "y_pred = reg.predict(X_test_tfidf)\n",
        "\n",
        "# Evaluation\n",
        "print(\"Linear Regression Performance:\")\n",
        "print(\"MSE:\", mean_squared_error(y_test, y_pred))\n",
        "print(\"MAE:\", mean_absolute_error(y_test, y_pred))\n",
        "print(\"R²:\", r2_score(y_test, y_pred))"
      ]
    },
    {
      "cell_type": "code",
      "source": [
        "# Load labeled dataset\n",
        "df = pd.read_csv(\"/content/drive/MyDrive/Mediacloud/Germany/künstliche_intelligenz_germany_cleaned_2024-06-01_2025-06-01_frames_sentiments_newsplease_mediacloud_gemini_2-5.csv\")\n",
        "df[\"frame\"] = df[\"frame\"].apply(extract_clean_frame)\n",
        "df['sentiment'] = df['sentiment'].replace('error', pd.NA)\n",
        "df['sentiment'] = pd.to_numeric(df['sentiment'], errors='coerce')\n",
        "\n",
        "# Drop rows with NaN in the 'sentiment' column\n",
        "df.dropna(subset=['sentiment'], inplace=True)\n",
        "\n",
        "# Split data\n",
        "X_train, X_test, y_train, y_test = train_test_split(df[\"maintext\"], df[\"sentiment\"], test_size=0.3, random_state=42)\n",
        "\n",
        "# TF-IDF vectorization\n",
        "vectorizer = TfidfVectorizer(max_features=5000)\n",
        "X_train_tfidf = vectorizer.fit_transform(X_train)\n",
        "X_test_tfidf = vectorizer.transform(X_test)\n",
        "\n",
        "# Train Random Forest Regressor\n",
        "rf_reg = RandomForestRegressor(n_estimators=100, random_state=42)\n",
        "rf_reg.fit(X_train_tfidf, y_train)\n",
        "\n",
        "# Predict\n",
        "y_pred_rf = rf_reg.predict(X_test_tfidf)\n",
        "\n",
        "# Evaluation\n",
        "print(\"Random Forest Regressor Performance:\")\n",
        "print(\"MSE:\", mean_squared_error(y_test, y_pred_rf))\n",
        "print(\"MAE:\", mean_absolute_error(y_test, y_pred_rf))\n",
        "print(\"R²:\", r2_score(y_test, y_pred_rf))"
      ],
      "metadata": {
        "id": "Y9ihXmQn5qxR",
        "colab": {
          "base_uri": "https://localhost:8080/"
        },
        "outputId": "51c1656d-b31e-47ac-e08d-8c4f1e8fcb79"
      },
      "execution_count": null,
      "outputs": [
        {
          "output_type": "stream",
          "name": "stdout",
          "text": [
            "Random Forest Regressor Performance:\n",
            "MSE: 7.197735925925927\n",
            "MAE: 2.2518888888888893\n",
            "R²: 0.19635736955825045\n"
          ]
        }
      ]
    },
    {
      "cell_type": "code",
      "execution_count": null,
      "metadata": {
        "id": "DssvEvSr5eEv",
        "colab": {
          "base_uri": "https://localhost:8080/"
        },
        "outputId": "3714aac8-2f4f-4a27-ec47-90adb73938b8"
      },
      "outputs": [
        {
          "output_type": "stream",
          "name": "stdout",
          "text": [
            "Linear Regression Performance:\n",
            "MSE: 4.913365989547532\n",
            "MAE: 1.7660109305110063\n",
            "R²: 0.42287054211010044\n"
          ]
        }
      ],
      "source": [
        "# Load labeled dataset\n",
        "df = pd.read_csv(\"/content/drive/MyDrive/Mediacloud/India/artificial_intelligence_india_cleaned_2024-06-01_2025-06-01_frames_sentiments_newsplease_mediacloud_gemini_2-5.csv\")  # columns: maintext, frame\n",
        "df[\"frame\"] = df[\"frame\"].apply(extract_clean_frame)\n",
        "df['sentiment'] = df['sentiment'].replace('error', pd.NA)\n",
        "df['sentiment'] = pd.to_numeric(df['sentiment'], errors='coerce')\n",
        "\n",
        "# Drop rows with NaN in the 'sentiment' column\n",
        "df.dropna(subset=['sentiment'], inplace=True)\n",
        "\n",
        "# Split data\n",
        "X_train, X_test, y_train, y_test = train_test_split(df[\"maintext\"], df[\"sentiment\"], test_size=0.3, random_state=42)\n",
        "\n",
        "# TF-IDF vectorization\n",
        "vectorizer = TfidfVectorizer(max_features=5000, stop_words=\"english\")\n",
        "X_train_tfidf = vectorizer.fit_transform(X_train)\n",
        "X_test_tfidf = vectorizer.transform(X_test)\n",
        "\n",
        "# Train Linear Regression model\n",
        "reg = LinearRegression()\n",
        "reg.fit(X_train_tfidf, y_train)\n",
        "\n",
        "# Predict\n",
        "y_pred = reg.predict(X_test_tfidf)\n",
        "\n",
        "# Evaluation\n",
        "print(\"Linear Regression Performance:\")\n",
        "print(\"MSE:\", mean_squared_error(y_test, y_pred))\n",
        "print(\"MAE:\", mean_absolute_error(y_test, y_pred))\n",
        "print(\"R²:\", r2_score(y_test, y_pred))"
      ]
    },
    {
      "cell_type": "code",
      "source": [
        "# Load labeled dataset\n",
        "df = pd.read_csv(\"/content/drive/MyDrive/Mediacloud/India/artificial_intelligence_india_cleaned_2024-06-01_2025-06-01_frames_sentiments_newsplease_mediacloud_gemini_2-5.csv\")\n",
        "df[\"frame\"] = df[\"frame\"].apply(extract_clean_frame)\n",
        "df['sentiment'] = df['sentiment'].replace('error', pd.NA)\n",
        "df['sentiment'] = pd.to_numeric(df['sentiment'], errors='coerce')\n",
        "\n",
        "# Drop rows with NaN in the 'sentiment' column\n",
        "df.dropna(subset=['sentiment'], inplace=True)\n",
        "\n",
        "# Split data\n",
        "X_train, X_test, y_train, y_test = train_test_split(df[\"maintext\"], df[\"sentiment\"], test_size=0.3, random_state=42)\n",
        "\n",
        "# TF-IDF vectorization\n",
        "vectorizer = TfidfVectorizer(max_features=5000, stop_words=\"english\")\n",
        "X_train_tfidf = vectorizer.fit_transform(X_train)\n",
        "X_test_tfidf = vectorizer.transform(X_test)\n",
        "\n",
        "# Train Random Forest Regressor\n",
        "rf_reg = RandomForestRegressor(n_estimators=100, random_state=42)\n",
        "rf_reg.fit(X_train_tfidf, y_train)\n",
        "\n",
        "# Predict\n",
        "y_pred_rf = rf_reg.predict(X_test_tfidf)\n",
        "\n",
        "# Evaluation\n",
        "print(\"Random Forest Regressor Performance:\")\n",
        "print(\"MSE:\", mean_squared_error(y_test, y_pred_rf))\n",
        "print(\"MAE:\", mean_absolute_error(y_test, y_pred_rf))\n",
        "print(\"R²:\", r2_score(y_test, y_pred_rf))"
      ],
      "metadata": {
        "id": "v0tcdcqI5vG7",
        "colab": {
          "base_uri": "https://localhost:8080/"
        },
        "outputId": "5389897c-167d-4dac-ed3c-7104dc0f2af8"
      },
      "execution_count": null,
      "outputs": [
        {
          "output_type": "stream",
          "name": "stdout",
          "text": [
            "Random Forest Regressor Performance:\n",
            "MSE: 5.5762556666666665\n",
            "MAE: 1.8523666666666667\n",
            "R²: 0.34500678011670416\n"
          ]
        }
      ]
    },
    {
      "cell_type": "code",
      "execution_count": null,
      "metadata": {
        "id": "RgOHFHDv5WZx",
        "colab": {
          "base_uri": "https://localhost:8080/"
        },
        "outputId": "1102231b-6206-4af7-abb0-19d5a3b6afbf"
      },
      "outputs": [
        {
          "output_type": "stream",
          "name": "stdout",
          "text": [
            "Linear Regression Performance:\n",
            "MSE: 5.361025556296706\n",
            "MAE: 1.8642402110132166\n",
            "R²: 0.32906948438799233\n"
          ]
        }
      ],
      "source": [
        "# Load labeled dataset\n",
        "df = pd.read_csv(\"/content/drive/MyDrive/Mediacloud/Italy/intelligenza_artificiale_italy_cleaned_2024-06-01_2025-06-01_frames_sentiments_newsplease_mediacloud_gemini_2-5.csv\")  # columns: maintext, frame\n",
        "df[\"frame\"] = df[\"frame\"].apply(extract_clean_frame)\n",
        "df['sentiment'] = df['sentiment'].replace('error', pd.NA)\n",
        "df['sentiment'] = pd.to_numeric(df['sentiment'], errors='coerce')\n",
        "\n",
        "# Drop rows with NaN in the 'sentiment' column\n",
        "df.dropna(subset=['sentiment'], inplace=True)\n",
        "\n",
        "# Split data\n",
        "X_train, X_test, y_train, y_test = train_test_split(df[\"maintext\"], df[\"sentiment\"], test_size=0.3, random_state=42)\n",
        "\n",
        "# TF-IDF vectorization\n",
        "vectorizer = TfidfVectorizer(max_features=5000)\n",
        "X_train_tfidf = vectorizer.fit_transform(X_train)\n",
        "X_test_tfidf = vectorizer.transform(X_test)\n",
        "\n",
        "# Train Linear Regression model\n",
        "reg = LinearRegression()\n",
        "reg.fit(X_train_tfidf, y_train)\n",
        "\n",
        "# Predict\n",
        "y_pred = reg.predict(X_test_tfidf)\n",
        "\n",
        "# Evaluation\n",
        "print(\"Linear Regression Performance:\")\n",
        "print(\"MSE:\", mean_squared_error(y_test, y_pred))\n",
        "print(\"MAE:\", mean_absolute_error(y_test, y_pred))\n",
        "print(\"R²:\", r2_score(y_test, y_pred))"
      ]
    },
    {
      "cell_type": "code",
      "source": [
        "# Load labeled dataset\n",
        "df = pd.read_csv(\"/content/drive/MyDrive/Mediacloud/Italy/intelligenza_artificiale_italy_cleaned_2024-06-01_2025-06-01_frames_sentiments_newsplease_mediacloud_gemini_2-5.csv\")\n",
        "df[\"frame\"] = df[\"frame\"].apply(extract_clean_frame)\n",
        "df['sentiment'] = df['sentiment'].replace('error', pd.NA)\n",
        "df['sentiment'] = pd.to_numeric(df['sentiment'], errors='coerce')\n",
        "\n",
        "# Drop rows with NaN in the 'sentiment' column\n",
        "df.dropna(subset=['sentiment'], inplace=True)\n",
        "\n",
        "# Split data\n",
        "X_train, X_test, y_train, y_test = train_test_split(df[\"maintext\"], df[\"sentiment\"], test_size=0.3, random_state=42)\n",
        "\n",
        "# TF-IDF vectorization\n",
        "vectorizer = TfidfVectorizer(max_features=5000)\n",
        "X_train_tfidf = vectorizer.fit_transform(X_train)\n",
        "X_test_tfidf = vectorizer.transform(X_test)\n",
        "\n",
        "# Train Random Forest Regressor\n",
        "rf_reg = RandomForestRegressor(n_estimators=100, random_state=42)\n",
        "rf_reg.fit(X_train_tfidf, y_train)\n",
        "\n",
        "# Predict\n",
        "y_pred_rf = rf_reg.predict(X_test_tfidf)\n",
        "\n",
        "# Evaluation\n",
        "print(\"Random Forest Regressor Performance:\")\n",
        "print(\"MSE:\", mean_squared_error(y_test, y_pred_rf))\n",
        "print(\"MAE:\", mean_absolute_error(y_test, y_pred_rf))\n",
        "print(\"R²:\", r2_score(y_test, y_pred_rf))"
      ],
      "metadata": {
        "id": "TM9pSuHy5jx0",
        "colab": {
          "base_uri": "https://localhost:8080/"
        },
        "outputId": "f417f3ea-c409-490a-8551-1eb4dc387bf5"
      },
      "execution_count": null,
      "outputs": [
        {
          "output_type": "stream",
          "name": "stdout",
          "text": [
            "Random Forest Regressor Performance:\n",
            "MSE: 6.104054935925927\n",
            "MAE: 1.96134\n",
            "R²: 0.23607961154473145\n"
          ]
        }
      ]
    },
    {
      "cell_type": "code",
      "execution_count": null,
      "metadata": {
        "id": "wwNN1YS_ew4M",
        "colab": {
          "base_uri": "https://localhost:8080/"
        },
        "outputId": "dc868723-ac71-4958-96e0-858f9828134b"
      },
      "outputs": [
        {
          "output_type": "stream",
          "name": "stdout",
          "text": [
            "Linear Regression Performance:\n",
            "MSE: 12.738712324159753\n",
            "MAE: 2.880015433384796\n",
            "R²: -0.7363710163240489\n"
          ]
        }
      ],
      "source": [
        "# Load labeled dataset\n",
        "df = pd.read_csv(\"/content/drive/MyDrive/Mediacloud/Japan/人工知能_japan_cleaned_2024-06-01_2025-06-01_frames_sentiments_newsplease_mediacloud_gemini_2-5.csv\")\n",
        "df[\"frame\"] = df[\"frame\"].apply(extract_clean_frame)\n",
        "df['sentiment'] = df['sentiment'].replace('error', pd.NA)\n",
        "df['sentiment'] = pd.to_numeric(df['sentiment'], errors='coerce')\n",
        "\n",
        "# Drop rows with NaN in the 'sentiment' column\n",
        "df.dropna(subset=['sentiment'], inplace=True)\n",
        "\n",
        "# Split data\n",
        "X_train, X_test, y_train, y_test = train_test_split(df[\"maintext\"], df[\"sentiment\"], test_size=0.3, random_state=42)\n",
        "\n",
        "# TF-IDF vectorization\n",
        "vectorizer = TfidfVectorizer(max_features=5000)\n",
        "X_train_tfidf = vectorizer.fit_transform(X_train)\n",
        "X_test_tfidf = vectorizer.transform(X_test)\n",
        "\n",
        "# Train Linear Regression model\n",
        "reg = LinearRegression()\n",
        "reg.fit(X_train_tfidf, y_train)\n",
        "\n",
        "# Predict\n",
        "y_pred = reg.predict(X_test_tfidf)\n",
        "\n",
        "# Evaluation\n",
        "print(\"Linear Regression Performance:\")\n",
        "print(\"MSE:\", mean_squared_error(y_test, y_pred))\n",
        "print(\"MAE:\", mean_absolute_error(y_test, y_pred))\n",
        "print(\"R²:\", r2_score(y_test, y_pred))"
      ]
    },
    {
      "cell_type": "code",
      "source": [
        "# Load labeled dataset\n",
        "df = pd.read_csv(\"/content/drive/MyDrive/Mediacloud/Japan/人工知能_japan_cleaned_2024-06-01_2025-06-01_frames_sentiments_newsplease_mediacloud_gemini_2-5.csv\")\n",
        "df[\"frame\"] = df[\"frame\"].apply(extract_clean_frame)\n",
        "df['sentiment'] = df['sentiment'].replace('error', pd.NA)\n",
        "df['sentiment'] = pd.to_numeric(df['sentiment'], errors='coerce')\n",
        "\n",
        "# Drop rows with NaN in the 'sentiment' column\n",
        "df.dropna(subset=['sentiment'], inplace=True)\n",
        "\n",
        "# Split data\n",
        "X_train, X_test, y_train, y_test = train_test_split(df[\"maintext\"], df[\"sentiment\"], test_size=0.3, random_state=42)\n",
        "\n",
        "# TF-IDF vectorization\n",
        "vectorizer = TfidfVectorizer(max_features=5000)\n",
        "X_train_tfidf = vectorizer.fit_transform(X_train)\n",
        "X_test_tfidf = vectorizer.transform(X_test)\n",
        "\n",
        "# Train Random Forest Regressor\n",
        "rf_reg = RandomForestRegressor(n_estimators=100, random_state=42)\n",
        "rf_reg.fit(X_train_tfidf, y_train)\n",
        "\n",
        "# Predict\n",
        "y_pred_rf = rf_reg.predict(X_test_tfidf)\n",
        "\n",
        "# Evaluation\n",
        "print(\"Random Forest Regressor Performance:\")\n",
        "print(\"MSE:\", mean_squared_error(y_test, y_pred_rf))\n",
        "print(\"MAE:\", mean_absolute_error(y_test, y_pred_rf))\n",
        "print(\"R²:\", r2_score(y_test, y_pred_rf))"
      ],
      "metadata": {
        "id": "YdOdHIgge7zf",
        "colab": {
          "base_uri": "https://localhost:8080/"
        },
        "outputId": "0630343b-8f47-4232-d13f-9760e13d5413"
      },
      "execution_count": null,
      "outputs": [
        {
          "output_type": "stream",
          "name": "stdout",
          "text": [
            "Random Forest Regressor Performance:\n",
            "MSE: 6.681389333333334\n",
            "MAE: 2.1481333333333335\n",
            "R²: 0.08928230012903704\n"
          ]
        }
      ]
    },
    {
      "cell_type": "code",
      "execution_count": null,
      "metadata": {
        "id": "D9hTe5B_exiU",
        "colab": {
          "base_uri": "https://localhost:8080/"
        },
        "outputId": "7637a45d-5545-4c6c-b018-a717a3bfea28"
      },
      "outputs": [
        {
          "output_type": "stream",
          "name": "stdout",
          "text": [
            "Linear Regression Performance:\n",
            "MSE: 5.898759890964721\n",
            "MAE: 1.9176985622391252\n",
            "R²: 0.3169033257630163\n"
          ]
        }
      ],
      "source": [
        "# Load labeled dataset\n",
        "df = pd.read_csv(\"/content/drive/MyDrive/Mediacloud/Russia/искусственный_интеллект_russia_cleaned_2024-06-01_2025-06-01_frames_sentiments_newsplease_mediacloud_gemini_2-5.csv\")\n",
        "df[\"frame\"] = df[\"frame\"].apply(extract_clean_frame)\n",
        "df['sentiment'] = df['sentiment'].replace('error', pd.NA)\n",
        "df['sentiment'] = pd.to_numeric(df['sentiment'], errors='coerce')\n",
        "\n",
        "# Drop rows with NaN in the 'sentiment' column\n",
        "df.dropna(subset=['sentiment'], inplace=True)\n",
        "\n",
        "# Split data\n",
        "X_train, X_test, y_train, y_test = train_test_split(df[\"maintext\"], df[\"sentiment\"], test_size=0.3, random_state=42)\n",
        "\n",
        "# TF-IDF vectorization\n",
        "vectorizer = TfidfVectorizer(max_features=5000)\n",
        "X_train_tfidf = vectorizer.fit_transform(X_train)\n",
        "X_test_tfidf = vectorizer.transform(X_test)\n",
        "\n",
        "# Train Linear Regression model\n",
        "reg = LinearRegression()\n",
        "reg.fit(X_train_tfidf, y_train)\n",
        "\n",
        "# Predict\n",
        "y_pred = reg.predict(X_test_tfidf)\n",
        "\n",
        "# Evaluation\n",
        "print(\"Linear Regression Performance:\")\n",
        "print(\"MSE:\", mean_squared_error(y_test, y_pred))\n",
        "print(\"MAE:\", mean_absolute_error(y_test, y_pred))\n",
        "print(\"R²:\", r2_score(y_test, y_pred))"
      ]
    },
    {
      "cell_type": "code",
      "source": [
        "# Load labeled dataset\n",
        "df = pd.read_csv(\"/content/drive/MyDrive/Mediacloud/Russia/искусственный_интеллект_russia_cleaned_2024-06-01_2025-06-01_frames_sentiments_newsplease_mediacloud_gemini_2-5.csv\")\n",
        "df[\"frame\"] = df[\"frame\"].apply(extract_clean_frame)\n",
        "df['sentiment'] = df['sentiment'].replace('error', pd.NA)\n",
        "df['sentiment'] = pd.to_numeric(df['sentiment'], errors='coerce')\n",
        "\n",
        "# Drop rows with NaN in the 'sentiment' column\n",
        "df.dropna(subset=['sentiment'], inplace=True)\n",
        "\n",
        "# Split data\n",
        "X_train, X_test, y_train, y_test = train_test_split(df[\"maintext\"], df[\"sentiment\"], test_size=0.3, random_state=42)\n",
        "\n",
        "# TF-IDF vectorization\n",
        "vectorizer = TfidfVectorizer(max_features=5000)\n",
        "X_train_tfidf = vectorizer.fit_transform(X_train)\n",
        "X_test_tfidf = vectorizer.transform(X_test)\n",
        "\n",
        "# Train Random Forest Regressor\n",
        "rf_reg = RandomForestRegressor(n_estimators=100, random_state=42)\n",
        "rf_reg.fit(X_train_tfidf, y_train)\n",
        "\n",
        "# Predict\n",
        "y_pred_rf = rf_reg.predict(X_test_tfidf)\n",
        "\n",
        "# Evaluation\n",
        "print(\"Random Forest Regressor Performance:\")\n",
        "print(\"MSE:\", mean_squared_error(y_test, y_pred_rf))\n",
        "print(\"MAE:\", mean_absolute_error(y_test, y_pred_rf))\n",
        "print(\"R²:\", r2_score(y_test, y_pred_rf))"
      ],
      "metadata": {
        "id": "nJiLOPoMe8su",
        "colab": {
          "base_uri": "https://localhost:8080/"
        },
        "outputId": "ef5d6517-ab92-4755-a6c6-3f2390855c84"
      },
      "execution_count": null,
      "outputs": [
        {
          "output_type": "stream",
          "name": "stdout",
          "text": [
            "Random Forest Regressor Performance:\n",
            "MSE: 6.540068000000001\n",
            "MAE: 2.081733333333333\n",
            "R²: 0.24263764203613325\n"
          ]
        }
      ]
    },
    {
      "cell_type": "code",
      "execution_count": null,
      "metadata": {
        "colab": {
          "base_uri": "https://localhost:8080/"
        },
        "outputId": "febf3cb3-f9cd-4b7e-e17a-b4126c8f5812",
        "id": "oFmuZIHOo7MU"
      },
      "outputs": [
        {
          "output_type": "stream",
          "name": "stdout",
          "text": [
            "Linear Regression Performance:\n",
            "MSE: 5.870127256088559\n",
            "MAE: 1.896875261174497\n",
            "R²: 0.4597705449440401\n"
          ]
        }
      ],
      "source": [
        "# Load labeled dataset\n",
        "df = pd.read_csv(\"/content/drive/MyDrive/Mediacloud/UK/artificial_intelligence_uk_cleaned_2024-06-01_2025-06-01_frames_sentiments_newsplease_mediacloud_gemini_2-5.csv\")\n",
        "df[\"frame\"] = df[\"frame\"].apply(extract_clean_frame)\n",
        "df['sentiment'] = df['sentiment'].replace('error', pd.NA)\n",
        "df['sentiment'] = pd.to_numeric(df['sentiment'], errors='coerce')\n",
        "\n",
        "# Drop rows with NaN in the 'sentiment' column\n",
        "df.dropna(subset=['sentiment'], inplace=True)\n",
        "\n",
        "# Split data\n",
        "X_train, X_test, y_train, y_test = train_test_split(df[\"maintext\"], df[\"sentiment\"], test_size=0.3, random_state=42)\n",
        "\n",
        "# TF-IDF vectorization\n",
        "vectorizer = TfidfVectorizer(max_features=5000, stop_words=\"english\")\n",
        "X_train_tfidf = vectorizer.fit_transform(X_train)\n",
        "X_test_tfidf = vectorizer.transform(X_test)\n",
        "\n",
        "# Train Linear Regression model\n",
        "reg = LinearRegression()\n",
        "reg.fit(X_train_tfidf, y_train)\n",
        "\n",
        "# Predict\n",
        "y_pred = reg.predict(X_test_tfidf)\n",
        "\n",
        "# Evaluation\n",
        "print(\"Linear Regression Performance:\")\n",
        "print(\"MSE:\", mean_squared_error(y_test, y_pred))\n",
        "print(\"MAE:\", mean_absolute_error(y_test, y_pred))\n",
        "print(\"R²:\", r2_score(y_test, y_pred))"
      ]
    },
    {
      "cell_type": "code",
      "source": [
        "# Load labeled dataset\n",
        "df = pd.read_csv(\"/content/drive/MyDrive/Mediacloud/UK/artificial_intelligence_uk_cleaned_2024-06-01_2025-06-01_frames_sentiments_newsplease_mediacloud_gemini_2-5.csv\")\n",
        "df[\"frame\"] = df[\"frame\"].apply(extract_clean_frame)\n",
        "df['sentiment'] = df['sentiment'].replace('error', pd.NA)\n",
        "df['sentiment'] = pd.to_numeric(df['sentiment'], errors='coerce')\n",
        "\n",
        "# Drop rows with NaN in the 'sentiment' column\n",
        "df.dropna(subset=['sentiment'], inplace=True)\n",
        "\n",
        "# Split data\n",
        "X_train, X_test, y_train, y_test = train_test_split(df[\"maintext\"], df[\"sentiment\"], test_size=0.3, random_state=42)\n",
        "\n",
        "# TF-IDF vectorization\n",
        "vectorizer = TfidfVectorizer(max_features=5000, stop_words=\"english\")\n",
        "X_train_tfidf = vectorizer.fit_transform(X_train)\n",
        "X_test_tfidf = vectorizer.transform(X_test)\n",
        "\n",
        "# Train Random Forest Regressor\n",
        "rf_reg = RandomForestRegressor(n_estimators=100, random_state=42)\n",
        "rf_reg.fit(X_train_tfidf, y_train)\n",
        "\n",
        "# Predict\n",
        "y_pred_rf = rf_reg.predict(X_test_tfidf)\n",
        "\n",
        "# Evaluation\n",
        "print(\"Random Forest Regressor Performance:\")\n",
        "print(\"MSE:\", mean_squared_error(y_test, y_pred_rf))\n",
        "print(\"MAE:\", mean_absolute_error(y_test, y_pred_rf))\n",
        "print(\"R²:\", r2_score(y_test, y_pred_rf))"
      ],
      "metadata": {
        "colab": {
          "base_uri": "https://localhost:8080/"
        },
        "outputId": "d87068a0-a9bc-4c02-aba2-4eb5bf57610b",
        "id": "95GzDk45tpBQ"
      },
      "execution_count": null,
      "outputs": [
        {
          "output_type": "stream",
          "name": "stdout",
          "text": [
            "Random Forest Regressor Performance:\n",
            "MSE: 6.935301333333333\n",
            "MAE: 2.1441333333333334\n",
            "R²: 0.36174227635875045\n"
          ]
        }
      ]
    },
    {
      "cell_type": "code",
      "execution_count": null,
      "metadata": {
        "id": "S7lmmPyl5ddS",
        "colab": {
          "base_uri": "https://localhost:8080/"
        },
        "outputId": "482991fa-ab7b-40b8-e960-526cfe8a5560"
      },
      "outputs": [
        {
          "output_type": "stream",
          "name": "stdout",
          "text": [
            "Linear Regression Performance:\n",
            "MSE: 7.207495606389709\n",
            "MAE: 2.1511634873316474\n",
            "R²: 0.19263246153425284\n"
          ]
        }
      ],
      "source": [
        "# Load labeled dataset\n",
        "df = pd.read_csv(\"/content/drive/MyDrive/Mediacloud/USA/artificial_intelligence_usa_cleaned_2024-06-01_2025-06-01_frames_sentiments_newsplease_mediacloud_gemini_2-5.csv\")  # columns: maintext, frame\n",
        "df[\"frame\"] = df[\"frame\"].apply(extract_clean_frame)\n",
        "df['sentiment'] = df['sentiment'].replace('error', pd.NA)\n",
        "df['sentiment'] = pd.to_numeric(df['sentiment'], errors='coerce')\n",
        "\n",
        "# Drop rows with NaN in the 'sentiment' column\n",
        "df.dropna(subset=['sentiment'], inplace=True)\n",
        "\n",
        "# Split data\n",
        "X_train, X_test, y_train, y_test = train_test_split(df[\"maintext\"], df[\"sentiment\"], test_size=0.3, random_state=42)\n",
        "\n",
        "# TF-IDF vectorization\n",
        "vectorizer = TfidfVectorizer(max_features=5000, stop_words=\"english\")\n",
        "X_train_tfidf = vectorizer.fit_transform(X_train)\n",
        "X_test_tfidf = vectorizer.transform(X_test)\n",
        "\n",
        "# Train Linear Regression model\n",
        "reg = LinearRegression()\n",
        "reg.fit(X_train_tfidf, y_train)\n",
        "\n",
        "# Predict\n",
        "y_pred = reg.predict(X_test_tfidf)\n",
        "\n",
        "# Evaluation\n",
        "print(\"Linear Regression Performance:\")\n",
        "print(\"MSE:\", mean_squared_error(y_test, y_pred))\n",
        "print(\"MAE:\", mean_absolute_error(y_test, y_pred))\n",
        "print(\"R²:\", r2_score(y_test, y_pred))"
      ]
    },
    {
      "cell_type": "code",
      "source": [
        "# Load labeled dataset\n",
        "df = pd.read_csv(\"/content/drive/MyDrive/Mediacloud/USA/artificial_intelligence_usa_cleaned_2024-06-01_2025-06-01_frames_sentiments_newsplease_mediacloud_gemini_2-5.csv\")\n",
        "df[\"frame\"] = df[\"frame\"].apply(extract_clean_frame)\n",
        "df['sentiment'] = df['sentiment'].replace('error', pd.NA)\n",
        "df['sentiment'] = pd.to_numeric(df['sentiment'], errors='coerce')\n",
        "\n",
        "# Drop rows with NaN in the 'sentiment' column\n",
        "df.dropna(subset=['sentiment'], inplace=True)\n",
        "\n",
        "# Split data\n",
        "X_train, X_test, y_train, y_test = train_test_split(df[\"maintext\"], df[\"sentiment\"], test_size=0.3, random_state=42)\n",
        "\n",
        "# TF-IDF vectorization\n",
        "vectorizer = TfidfVectorizer(max_features=5000, stop_words=\"english\")\n",
        "X_train_tfidf = vectorizer.fit_transform(X_train)\n",
        "X_test_tfidf = vectorizer.transform(X_test)\n",
        "\n",
        "# Train Random Forest Regressor\n",
        "rf_reg = RandomForestRegressor(n_estimators=100, random_state=42)\n",
        "rf_reg.fit(X_train_tfidf, y_train)\n",
        "\n",
        "# Predict\n",
        "y_pred_rf = rf_reg.predict(X_test_tfidf)\n",
        "\n",
        "# Evaluation\n",
        "print(\"Random Forest Regressor Performance:\")\n",
        "print(\"MSE:\", mean_squared_error(y_test, y_pred_rf))\n",
        "print(\"MAE:\", mean_absolute_error(y_test, y_pred_rf))\n",
        "print(\"R²:\", r2_score(y_test, y_pred_rf))"
      ],
      "metadata": {
        "id": "DuiqAetM5sUF",
        "colab": {
          "base_uri": "https://localhost:8080/"
        },
        "outputId": "989a2705-c3e2-438f-fadf-0aa2af0e3d25"
      },
      "execution_count": null,
      "outputs": [
        {
          "output_type": "stream",
          "name": "stdout",
          "text": [
            "Random Forest Regressor Performance:\n",
            "MSE: 6.474022\n",
            "MAE: 2.060466666666667\n",
            "R²: 0.2747945345288533\n"
          ]
        }
      ]
    },
    {
      "cell_type": "code",
      "source": [
        "# Load labeled dataset\n",
        "df = pd.read_csv(\"/content/drive/MyDrive/Mediacloud/artificial_intelligence_combined_2024-06-01_2025-06-01_frames_sentiments_newsplease_mediacloud_gemini_2-5.csv\")\n",
        "df[\"frame\"] = df[\"frame\"].apply(extract_clean_frame)\n",
        "df['sentiment'] = df['sentiment'].replace('error', pd.NA)\n",
        "df['sentiment'] = pd.to_numeric(df['sentiment'], errors='coerce')\n",
        "\n",
        "# Drop rows with NaN in the 'sentiment' column\n",
        "df.dropna(subset=['sentiment'], inplace=True)\n",
        "\n",
        "# Split data\n",
        "X_train, X_test, y_train, y_test = train_test_split(df[\"maintext\"], df[\"sentiment\"], test_size=0.3, random_state=42)\n",
        "\n",
        "# TF-IDF vectorization\n",
        "vectorizer = TfidfVectorizer(max_features=5000)\n",
        "X_train_tfidf = vectorizer.fit_transform(X_train)\n",
        "X_test_tfidf = vectorizer.transform(X_test)\n",
        "\n",
        "# Train Linear Regression model\n",
        "reg = LinearRegression()\n",
        "reg.fit(X_train_tfidf, y_train)\n",
        "\n",
        "# Predict\n",
        "y_pred = reg.predict(X_test_tfidf)\n",
        "\n",
        "# Evaluation\n",
        "print(\"Linear Regression Performance:\")\n",
        "print(\"MSE:\", mean_squared_error(y_test, y_pred))\n",
        "print(\"MAE:\", mean_absolute_error(y_test, y_pred))\n",
        "print(\"R²:\", r2_score(y_test, y_pred))"
      ],
      "metadata": {
        "colab": {
          "base_uri": "https://localhost:8080/"
        },
        "id": "xblBO2_3B4jv",
        "outputId": "98e6b2a9-467d-4a22-bda0-c9e044d1a156"
      },
      "execution_count": null,
      "outputs": [
        {
          "output_type": "stream",
          "name": "stdout",
          "text": [
            "Linear Regression Performance:\n",
            "MSE: 33.600775249846954\n",
            "MAE: 4.283604086126965\n",
            "R²: -2.726129320346893\n"
          ]
        }
      ]
    },
    {
      "cell_type": "code",
      "source": [
        "# Load labeled dataset\n",
        "df = pd.read_csv(\"/content/drive/MyDrive/Mediacloud/artificial_intelligence_combined_2024-06-01_2025-06-01_frames_sentiments_newsplease_mediacloud_gemini_2-5.csv\")\n",
        "df[\"frame\"] = df[\"frame\"].apply(extract_clean_frame)\n",
        "df['sentiment'] = df['sentiment'].replace('error', pd.NA)\n",
        "df['sentiment'] = pd.to_numeric(df['sentiment'], errors='coerce')\n",
        "\n",
        "# Drop rows with NaN in the 'sentiment' column\n",
        "df.dropna(subset=['sentiment'], inplace=True)\n",
        "\n",
        "# Split data\n",
        "X_train, X_test, y_train, y_test = train_test_split(df[\"maintext\"], df[\"sentiment\"], test_size=0.3, random_state=42)\n",
        "\n",
        "# TF-IDF vectorization\n",
        "vectorizer = TfidfVectorizer(max_features=5000)\n",
        "X_train_tfidf = vectorizer.fit_transform(X_train)\n",
        "X_test_tfidf = vectorizer.transform(X_test)\n",
        "\n",
        "# Train Random Forest Regressor\n",
        "rf_reg = RandomForestRegressor(n_estimators=100, random_state=42)\n",
        "rf_reg.fit(X_train_tfidf, y_train)\n",
        "\n",
        "# Predict\n",
        "y_pred_rf = rf_reg.predict(X_test_tfidf)\n",
        "\n",
        "# Evaluation\n",
        "print(\"Random Forest Regressor Performance:\")\n",
        "print(\"MSE:\", mean_squared_error(y_test, y_pred_rf))\n",
        "print(\"MAE:\", mean_absolute_error(y_test, y_pred_rf))\n",
        "print(\"R²:\", r2_score(y_test, y_pred_rf))"
      ],
      "metadata": {
        "colab": {
          "base_uri": "https://localhost:8080/"
        },
        "id": "aB1GDFFuB7os",
        "outputId": "4c37a73f-52cb-4815-8ca9-17b0327b9eef"
      },
      "execution_count": null,
      "outputs": [
        {
          "output_type": "stream",
          "name": "stdout",
          "text": [
            "Random Forest Regressor Performance:\n",
            "MSE: 6.078433790235709\n",
            "MAE: 2.031436931746755\n",
            "R²: 0.32593726784063615\n"
          ]
        }
      ]
    }
  ]
}