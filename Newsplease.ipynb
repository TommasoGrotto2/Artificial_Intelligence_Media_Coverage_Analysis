{
  "cells": [
    {
      "cell_type": "code",
      "execution_count": null,
      "metadata": {
        "colab": {
          "base_uri": "https://localhost:8080/"
        },
        "id": "E8lOTbQxcSJB",
        "outputId": "ffa9d3ed-2354-4620-9c64-e70e0ee47412"
      },
      "outputs": [
        {
          "output_type": "stream",
          "name": "stdout",
          "text": [
            "Mounted at /content/drive\n"
          ]
        }
      ],
      "source": [
        "# ========================================\n",
        "#  SETUP: Google Drive & Installations\n",
        "# ========================================\n",
        "from google.colab import drive\n",
        "drive.mount('/content/drive')"
      ]
    },
    {
      "cell_type": "code",
      "execution_count": null,
      "metadata": {
        "colab": {
          "base_uri": "https://localhost:8080/"
        },
        "id": "00eOf6yWcULr",
        "outputId": "f6064773-8740-4a46-b994-6000f6f81376"
      },
      "outputs": [
        {
          "output_type": "stream",
          "name": "stdout",
          "text": [
            "Collecting news-please\n",
            "  Downloading news_please-1.6.16-py3-none-any.whl.metadata (2.8 kB)\n",
            "Collecting Scrapy>=1.1.0 (from news-please)\n",
            "  Downloading scrapy-2.13.3-py3-none-any.whl.metadata (4.4 kB)\n",
            "Collecting PyMySQL>=0.7.9 (from news-please)\n",
            "  Downloading pymysql-1.1.2-py3-none-any.whl.metadata (4.3 kB)\n",
            "Collecting psycopg2-binary>=2.8.4 (from news-please)\n",
            "  Downloading psycopg2_binary-2.9.10-cp312-cp312-manylinux_2_17_x86_64.manylinux2014_x86_64.whl.metadata (4.9 kB)\n",
            "Collecting hjson>=1.5.8 (from news-please)\n",
            "  Downloading hjson-3.1.0-py3-none-any.whl.metadata (2.6 kB)\n",
            "Collecting elasticsearch>=2.4 (from news-please)\n",
            "  Downloading elasticsearch-9.1.1-py3-none-any.whl.metadata (8.3 kB)\n",
            "Requirement already satisfied: beautifulsoup4>=4.3.2 in /usr/local/lib/python3.12/dist-packages (from news-please) (4.13.5)\n",
            "Collecting readability-lxml>=0.6.2 (from news-please)\n",
            "  Downloading readability_lxml-0.8.4.1-py3-none-any.whl.metadata (4.0 kB)\n",
            "Collecting langdetect>=1.0.7 (from news-please)\n",
            "  Downloading langdetect-1.0.9.tar.gz (981 kB)\n",
            "\u001b[2K     \u001b[90m━━━━━━━━━━━━━━━━━━━━━━━━━━━━━━━━━━━━━━\u001b[0m \u001b[32m981.5/981.5 kB\u001b[0m \u001b[31m12.8 MB/s\u001b[0m eta \u001b[36m0:00:00\u001b[0m\n",
            "\u001b[?25h  Preparing metadata (setup.py) ... \u001b[?25l\u001b[?25hdone\n",
            "Requirement already satisfied: python-dateutil>=2.4.0 in /usr/local/lib/python3.12/dist-packages (from news-please) (2.9.0.post0)\n",
            "Collecting plac>=0.9.6 (from news-please)\n",
            "  Downloading plac-1.4.5-py2.py3-none-any.whl.metadata (5.9 kB)\n",
            "Collecting dotmap>=1.2.17 (from news-please)\n",
            "  Downloading dotmap-1.3.30-py3-none-any.whl.metadata (3.2 kB)\n",
            "Collecting PyDispatcher>=2.0.5 (from news-please)\n",
            "  Downloading PyDispatcher-2.0.7-py3-none-any.whl.metadata (2.4 kB)\n",
            "Collecting warcio>=1.3.3 (from news-please)\n",
            "  Downloading warcio-1.7.5-py2.py3-none-any.whl.metadata (16 kB)\n",
            "Collecting ago>=0.0.9 (from news-please)\n",
            "  Downloading ago-0.1.0-py3-none-any.whl.metadata (5.8 kB)\n",
            "Requirement already satisfied: six>=1.10.0 in /usr/local/lib/python3.12/dist-packages (from news-please) (1.17.0)\n",
            "Requirement already satisfied: lxml>=3.3.5 in /usr/local/lib/python3.12/dist-packages (from news-please) (5.4.0)\n",
            "Collecting hurry.filesize>=0.9 (from news-please)\n",
            "  Downloading hurry.filesize-0.9.tar.gz (2.8 kB)\n",
            "  Preparing metadata (setup.py) ... \u001b[?25l\u001b[?25hdone\n",
            "Collecting bs4 (from news-please)\n",
            "  Downloading bs4-0.0.2-py2.py3-none-any.whl.metadata (411 bytes)\n",
            "Collecting faust-cchardet>=2.1.18 (from news-please)\n",
            "  Downloading faust_cchardet-2.1.19-cp312-cp312-manylinux_2_17_x86_64.manylinux2014_x86_64.whl.metadata (8.3 kB)\n",
            "Collecting boto3 (from news-please)\n",
            "  Downloading boto3-1.40.35-py3-none-any.whl.metadata (6.7 kB)\n",
            "Collecting redis (from news-please)\n",
            "  Downloading redis-6.4.0-py3-none-any.whl.metadata (10 kB)\n",
            "Collecting newspaper4k>=0.9.3.1 (from news-please)\n",
            "  Downloading newspaper4k-0.9.3.1-py3-none-any.whl.metadata (14 kB)\n",
            "Collecting lxml-html-clean>=0.1.1 (from news-please)\n",
            "  Downloading lxml_html_clean-0.4.2-py3-none-any.whl.metadata (2.4 kB)\n",
            "Requirement already satisfied: typing-extensions>=4.7.0 in /usr/local/lib/python3.12/dist-packages (from news-please) (4.15.0)\n",
            "Requirement already satisfied: soupsieve>1.2 in /usr/local/lib/python3.12/dist-packages (from beautifulsoup4>=4.3.2->news-please) (2.8)\n",
            "Collecting elastic-transport<10,>=9.1.0 (from elasticsearch>=2.4->news-please)\n",
            "  Downloading elastic_transport-9.1.0-py3-none-any.whl.metadata (3.9 kB)\n",
            "Requirement already satisfied: setuptools in /usr/local/lib/python3.12/dist-packages (from hurry.filesize>=0.9->news-please) (75.2.0)\n",
            "Requirement already satisfied: Pillow>=4.0.0 in /usr/local/lib/python3.12/dist-packages (from newspaper4k>=0.9.3.1->news-please) (11.3.0)\n",
            "Requirement already satisfied: PyYAML>=5.1 in /usr/local/lib/python3.12/dist-packages (from newspaper4k>=0.9.3.1->news-please) (6.0.2)\n",
            "Collecting feedparser>=6.0.0 (from newspaper4k>=0.9.3.1->news-please)\n",
            "  Downloading feedparser-6.0.12-py3-none-any.whl.metadata (2.7 kB)\n",
            "Requirement already satisfied: nltk>=3.6.6 in /usr/local/lib/python3.12/dist-packages (from newspaper4k>=0.9.3.1->news-please) (3.9.1)\n",
            "Requirement already satisfied: numpy>=1.25 in /usr/local/lib/python3.12/dist-packages (from newspaper4k>=0.9.3.1->news-please) (2.0.2)\n",
            "Requirement already satisfied: pandas>=2.1.0 in /usr/local/lib/python3.12/dist-packages (from newspaper4k>=0.9.3.1->news-please) (2.2.2)\n",
            "Requirement already satisfied: requests>=2.26.0 in /usr/local/lib/python3.12/dist-packages (from newspaper4k>=0.9.3.1->news-please) (2.32.4)\n",
            "Collecting tldextract>=2.0.1 (from newspaper4k>=0.9.3.1->news-please)\n",
            "  Downloading tldextract-5.3.0-py3-none-any.whl.metadata (11 kB)\n",
            "Requirement already satisfied: chardet in /usr/local/lib/python3.12/dist-packages (from readability-lxml>=0.6.2->news-please) (5.2.0)\n",
            "Collecting cssselect (from readability-lxml>=0.6.2->news-please)\n",
            "  Downloading cssselect-1.3.0-py3-none-any.whl.metadata (2.6 kB)\n",
            "Requirement already satisfied: cryptography>=37.0.0 in /usr/local/lib/python3.12/dist-packages (from Scrapy>=1.1.0->news-please) (43.0.3)\n",
            "Requirement already satisfied: defusedxml>=0.7.1 in /usr/local/lib/python3.12/dist-packages (from Scrapy>=1.1.0->news-please) (0.7.1)\n",
            "Collecting itemadapter>=0.1.0 (from Scrapy>=1.1.0->news-please)\n",
            "  Downloading itemadapter-0.12.2-py3-none-any.whl.metadata (22 kB)\n",
            "Collecting itemloaders>=1.0.1 (from Scrapy>=1.1.0->news-please)\n",
            "  Downloading itemloaders-1.3.2-py3-none-any.whl.metadata (3.9 kB)\n",
            "Requirement already satisfied: packaging in /usr/local/lib/python3.12/dist-packages (from Scrapy>=1.1.0->news-please) (25.0)\n",
            "Collecting parsel>=1.5.0 (from Scrapy>=1.1.0->news-please)\n",
            "  Downloading parsel-1.10.0-py2.py3-none-any.whl.metadata (11 kB)\n",
            "Collecting protego>=0.1.15 (from Scrapy>=1.1.0->news-please)\n",
            "  Downloading protego-0.5.0-py3-none-any.whl.metadata (6.4 kB)\n",
            "Requirement already satisfied: pyopenssl>=22.0.0 in /usr/local/lib/python3.12/dist-packages (from Scrapy>=1.1.0->news-please) (24.2.1)\n",
            "Collecting queuelib>=1.4.2 (from Scrapy>=1.1.0->news-please)\n",
            "  Downloading queuelib-1.8.0-py3-none-any.whl.metadata (6.1 kB)\n",
            "Collecting service-identity>=18.1.0 (from Scrapy>=1.1.0->news-please)\n",
            "  Downloading service_identity-24.2.0-py3-none-any.whl.metadata (5.1 kB)\n",
            "Collecting twisted>=21.7.0 (from Scrapy>=1.1.0->news-please)\n",
            "  Downloading twisted-25.5.0-py3-none-any.whl.metadata (22 kB)\n",
            "Collecting w3lib>=1.17.0 (from Scrapy>=1.1.0->news-please)\n",
            "  Downloading w3lib-2.3.1-py3-none-any.whl.metadata (2.3 kB)\n",
            "Collecting zope-interface>=5.1.0 (from Scrapy>=1.1.0->news-please)\n",
            "  Downloading zope_interface-8.0-cp312-cp312-manylinux1_x86_64.manylinux2014_x86_64.manylinux_2_17_x86_64.manylinux_2_5_x86_64.whl.metadata (44 kB)\n",
            "\u001b[2K     \u001b[90m━━━━━━━━━━━━━━━━━━━━━━━━━━━━━━━━━━━━━━━━\u001b[0m \u001b[32m44.8/44.8 kB\u001b[0m \u001b[31m2.8 MB/s\u001b[0m eta \u001b[36m0:00:00\u001b[0m\n",
            "\u001b[?25hCollecting botocore<1.41.0,>=1.40.35 (from boto3->news-please)\n",
            "  Downloading botocore-1.40.35-py3-none-any.whl.metadata (5.7 kB)\n",
            "Collecting jmespath<2.0.0,>=0.7.1 (from boto3->news-please)\n",
            "  Downloading jmespath-1.0.1-py3-none-any.whl.metadata (7.6 kB)\n",
            "Collecting s3transfer<0.15.0,>=0.14.0 (from boto3->news-please)\n",
            "  Downloading s3transfer-0.14.0-py3-none-any.whl.metadata (1.7 kB)\n",
            "Requirement already satisfied: urllib3!=2.2.0,<3,>=1.25.4 in /usr/local/lib/python3.12/dist-packages (from botocore<1.41.0,>=1.40.35->boto3->news-please) (2.5.0)\n",
            "Requirement already satisfied: cffi>=1.12 in /usr/local/lib/python3.12/dist-packages (from cryptography>=37.0.0->Scrapy>=1.1.0->news-please) (2.0.0)\n",
            "Requirement already satisfied: certifi in /usr/local/lib/python3.12/dist-packages (from elastic-transport<10,>=9.1.0->elasticsearch>=2.4->news-please) (2025.8.3)\n",
            "Collecting sgmllib3k (from feedparser>=6.0.0->newspaper4k>=0.9.3.1->news-please)\n",
            "  Downloading sgmllib3k-1.0.0.tar.gz (5.8 kB)\n",
            "  Preparing metadata (setup.py) ... \u001b[?25l\u001b[?25hdone\n",
            "Requirement already satisfied: click in /usr/local/lib/python3.12/dist-packages (from nltk>=3.6.6->newspaper4k>=0.9.3.1->news-please) (8.2.1)\n",
            "Requirement already satisfied: joblib in /usr/local/lib/python3.12/dist-packages (from nltk>=3.6.6->newspaper4k>=0.9.3.1->news-please) (1.5.2)\n",
            "Requirement already satisfied: regex>=2021.8.3 in /usr/local/lib/python3.12/dist-packages (from nltk>=3.6.6->newspaper4k>=0.9.3.1->news-please) (2024.11.6)\n",
            "Requirement already satisfied: tqdm in /usr/local/lib/python3.12/dist-packages (from nltk>=3.6.6->newspaper4k>=0.9.3.1->news-please) (4.67.1)\n",
            "Requirement already satisfied: pytz>=2020.1 in /usr/local/lib/python3.12/dist-packages (from pandas>=2.1.0->newspaper4k>=0.9.3.1->news-please) (2025.2)\n",
            "Requirement already satisfied: tzdata>=2022.7 in /usr/local/lib/python3.12/dist-packages (from pandas>=2.1.0->newspaper4k>=0.9.3.1->news-please) (2025.2)\n",
            "Requirement already satisfied: charset_normalizer<4,>=2 in /usr/local/lib/python3.12/dist-packages (from requests>=2.26.0->newspaper4k>=0.9.3.1->news-please) (3.4.3)\n",
            "Requirement already satisfied: idna<4,>=2.5 in /usr/local/lib/python3.12/dist-packages (from requests>=2.26.0->newspaper4k>=0.9.3.1->news-please) (3.10)\n",
            "Requirement already satisfied: attrs>=19.1.0 in /usr/local/lib/python3.12/dist-packages (from service-identity>=18.1.0->Scrapy>=1.1.0->news-please) (25.3.0)\n",
            "Requirement already satisfied: pyasn1 in /usr/local/lib/python3.12/dist-packages (from service-identity>=18.1.0->Scrapy>=1.1.0->news-please) (0.6.1)\n",
            "Requirement already satisfied: pyasn1-modules in /usr/local/lib/python3.12/dist-packages (from service-identity>=18.1.0->Scrapy>=1.1.0->news-please) (0.4.2)\n",
            "Collecting requests-file>=1.4 (from tldextract>=2.0.1->newspaper4k>=0.9.3.1->news-please)\n",
            "  Downloading requests_file-2.1.0-py2.py3-none-any.whl.metadata (1.7 kB)\n",
            "Requirement already satisfied: filelock>=3.0.8 in /usr/local/lib/python3.12/dist-packages (from tldextract>=2.0.1->newspaper4k>=0.9.3.1->news-please) (3.19.1)\n",
            "Collecting automat>=24.8.0 (from twisted>=21.7.0->Scrapy>=1.1.0->news-please)\n",
            "  Downloading automat-25.4.16-py3-none-any.whl.metadata (8.4 kB)\n",
            "Collecting constantly>=15.1 (from twisted>=21.7.0->Scrapy>=1.1.0->news-please)\n",
            "  Downloading constantly-23.10.4-py3-none-any.whl.metadata (1.8 kB)\n",
            "Collecting hyperlink>=17.1.1 (from twisted>=21.7.0->Scrapy>=1.1.0->news-please)\n",
            "  Downloading hyperlink-21.0.0-py2.py3-none-any.whl.metadata (1.5 kB)\n",
            "Collecting incremental>=24.7.0 (from twisted>=21.7.0->Scrapy>=1.1.0->news-please)\n",
            "  Downloading incremental-24.7.2-py3-none-any.whl.metadata (8.1 kB)\n",
            "Requirement already satisfied: pycparser in /usr/local/lib/python3.12/dist-packages (from cffi>=1.12->cryptography>=37.0.0->Scrapy>=1.1.0->news-please) (2.23)\n",
            "Downloading news_please-1.6.16-py3-none-any.whl (96 kB)\n",
            "\u001b[2K   \u001b[90m━━━━━━━━━━━━━━━━━━━━━━━━━━━━━━━━━━━━━━━━\u001b[0m \u001b[32m96.6/96.6 kB\u001b[0m \u001b[31m6.0 MB/s\u001b[0m eta \u001b[36m0:00:00\u001b[0m\n",
            "\u001b[?25hDownloading ago-0.1.0-py3-none-any.whl (6.5 kB)\n",
            "Downloading dotmap-1.3.30-py3-none-any.whl (11 kB)\n",
            "Downloading elasticsearch-9.1.1-py3-none-any.whl (937 kB)\n",
            "\u001b[2K   \u001b[90m━━━━━━━━━━━━━━━━━━━━━━━━━━━━━━━━━━━━━━━━\u001b[0m \u001b[32m937.5/937.5 kB\u001b[0m \u001b[31m42.2 MB/s\u001b[0m eta \u001b[36m0:00:00\u001b[0m\n",
            "\u001b[?25hDownloading faust_cchardet-2.1.19-cp312-cp312-manylinux_2_17_x86_64.manylinux2014_x86_64.whl (317 kB)\n",
            "\u001b[2K   \u001b[90m━━━━━━━━━━━━━━━━━━━━━━━━━━━━━━━━━━━━━━━━\u001b[0m \u001b[32m317.1/317.1 kB\u001b[0m \u001b[31m19.3 MB/s\u001b[0m eta \u001b[36m0:00:00\u001b[0m\n",
            "\u001b[?25hDownloading hjson-3.1.0-py3-none-any.whl (54 kB)\n",
            "\u001b[2K   \u001b[90m━━━━━━━━━━━━━━━━━━━━━━━━━━━━━━━━━━━━━━━━\u001b[0m \u001b[32m54.0/54.0 kB\u001b[0m \u001b[31m3.0 MB/s\u001b[0m eta \u001b[36m0:00:00\u001b[0m\n",
            "\u001b[?25hDownloading lxml_html_clean-0.4.2-py3-none-any.whl (14 kB)\n",
            "Downloading newspaper4k-0.9.3.1-py3-none-any.whl (296 kB)\n",
            "\u001b[2K   \u001b[90m━━━━━━━━━━━━━━━━━━━━━━━━━━━━━━━━━━━━━━━━\u001b[0m \u001b[32m296.6/296.6 kB\u001b[0m \u001b[31m17.8 MB/s\u001b[0m eta \u001b[36m0:00:00\u001b[0m\n",
            "\u001b[?25hDownloading plac-1.4.5-py2.py3-none-any.whl (22 kB)\n",
            "Downloading psycopg2_binary-2.9.10-cp312-cp312-manylinux_2_17_x86_64.manylinux2014_x86_64.whl (3.0 MB)\n",
            "\u001b[2K   \u001b[90m━━━━━━━━━━━━━━━━━━━━━━━━━━━━━━━━━━━━━━━━\u001b[0m \u001b[32m3.0/3.0 MB\u001b[0m \u001b[31m76.7 MB/s\u001b[0m eta \u001b[36m0:00:00\u001b[0m\n",
            "\u001b[?25hDownloading PyDispatcher-2.0.7-py3-none-any.whl (12 kB)\n",
            "Downloading pymysql-1.1.2-py3-none-any.whl (45 kB)\n",
            "\u001b[2K   \u001b[90m━━━━━━━━━━━━━━━━━━━━━━━━━━━━━━━━━━━━━━━━\u001b[0m \u001b[32m45.3/45.3 kB\u001b[0m \u001b[31m2.3 MB/s\u001b[0m eta \u001b[36m0:00:00\u001b[0m\n",
            "\u001b[?25hDownloading readability_lxml-0.8.4.1-py3-none-any.whl (19 kB)\n",
            "Downloading scrapy-2.13.3-py3-none-any.whl (321 kB)\n",
            "\u001b[2K   \u001b[90m━━━━━━━━━━━━━━━━━━━━━━━━━━━━━━━━━━━━━━━━\u001b[0m \u001b[32m321.8/321.8 kB\u001b[0m \u001b[31m18.9 MB/s\u001b[0m eta \u001b[36m0:00:00\u001b[0m\n",
            "\u001b[?25hDownloading warcio-1.7.5-py2.py3-none-any.whl (40 kB)\n",
            "\u001b[2K   \u001b[90m━━━━━━━━━━━━━━━━━━━━━━━━━━━━━━━━━━━━━━━━\u001b[0m \u001b[32m40.6/40.6 kB\u001b[0m \u001b[31m2.3 MB/s\u001b[0m eta \u001b[36m0:00:00\u001b[0m\n",
            "\u001b[?25hDownloading boto3-1.40.35-py3-none-any.whl (139 kB)\n",
            "\u001b[2K   \u001b[90m━━━━━━━━━━━━━━━━━━━━━━━━━━━━━━━━━━━━━━━━\u001b[0m \u001b[32m139.3/139.3 kB\u001b[0m \u001b[31m9.6 MB/s\u001b[0m eta \u001b[36m0:00:00\u001b[0m\n",
            "\u001b[?25hDownloading bs4-0.0.2-py2.py3-none-any.whl (1.2 kB)\n",
            "Downloading redis-6.4.0-py3-none-any.whl (279 kB)\n",
            "\u001b[2K   \u001b[90m━━━━━━━━━━━━━━━━━━━━━━━━━━━━━━━━━━━━━━━━\u001b[0m \u001b[32m279.8/279.8 kB\u001b[0m \u001b[31m18.2 MB/s\u001b[0m eta \u001b[36m0:00:00\u001b[0m\n",
            "\u001b[?25hDownloading botocore-1.40.35-py3-none-any.whl (14.0 MB)\n",
            "\u001b[2K   \u001b[90m━━━━━━━━━━━━━━━━━━━━━━━━━━━━━━━━━━━━━━━━\u001b[0m \u001b[32m14.0/14.0 MB\u001b[0m \u001b[31m97.9 MB/s\u001b[0m eta \u001b[36m0:00:00\u001b[0m\n",
            "\u001b[?25hDownloading cssselect-1.3.0-py3-none-any.whl (18 kB)\n",
            "Downloading elastic_transport-9.1.0-py3-none-any.whl (65 kB)\n",
            "\u001b[2K   \u001b[90m━━━━━━━━━━━━━━━━━━━━━━━━━━━━━━━━━━━━━━━━\u001b[0m \u001b[32m65.1/65.1 kB\u001b[0m \u001b[31m4.6 MB/s\u001b[0m eta \u001b[36m0:00:00\u001b[0m\n",
            "\u001b[?25hDownloading feedparser-6.0.12-py3-none-any.whl (81 kB)\n",
            "\u001b[2K   \u001b[90m━━━━━━━━━━━━━━━━━━━━━━━━━━━━━━━━━━━━━━━━\u001b[0m \u001b[32m81.5/81.5 kB\u001b[0m \u001b[31m5.3 MB/s\u001b[0m eta \u001b[36m0:00:00\u001b[0m\n",
            "\u001b[?25hDownloading itemadapter-0.12.2-py3-none-any.whl (18 kB)\n",
            "Downloading itemloaders-1.3.2-py3-none-any.whl (12 kB)\n",
            "Downloading jmespath-1.0.1-py3-none-any.whl (20 kB)\n",
            "Downloading parsel-1.10.0-py2.py3-none-any.whl (17 kB)\n",
            "Downloading protego-0.5.0-py3-none-any.whl (10 kB)\n",
            "Downloading queuelib-1.8.0-py3-none-any.whl (13 kB)\n",
            "Downloading s3transfer-0.14.0-py3-none-any.whl (85 kB)\n",
            "\u001b[2K   \u001b[90m━━━━━━━━━━━━━━━━━━━━━━━━━━━━━━━━━━━━━━━━\u001b[0m \u001b[32m85.7/85.7 kB\u001b[0m \u001b[31m6.0 MB/s\u001b[0m eta \u001b[36m0:00:00\u001b[0m\n",
            "\u001b[?25hDownloading service_identity-24.2.0-py3-none-any.whl (11 kB)\n",
            "Downloading tldextract-5.3.0-py3-none-any.whl (107 kB)\n",
            "\u001b[2K   \u001b[90m━━━━━━━━━━━━━━━━━━━━━━━━━━━━━━━━━━━━━━━━\u001b[0m \u001b[32m107.4/107.4 kB\u001b[0m \u001b[31m7.9 MB/s\u001b[0m eta \u001b[36m0:00:00\u001b[0m\n",
            "\u001b[?25hDownloading twisted-25.5.0-py3-none-any.whl (3.2 MB)\n",
            "\u001b[2K   \u001b[90m━━━━━━━━━━━━━━━━━━━━━━━━━━━━━━━━━━━━━━━━\u001b[0m \u001b[32m3.2/3.2 MB\u001b[0m \u001b[31m76.3 MB/s\u001b[0m eta \u001b[36m0:00:00\u001b[0m\n",
            "\u001b[?25hDownloading w3lib-2.3.1-py3-none-any.whl (21 kB)\n",
            "Downloading zope_interface-8.0-cp312-cp312-manylinux1_x86_64.manylinux2014_x86_64.manylinux_2_17_x86_64.manylinux_2_5_x86_64.whl (264 kB)\n",
            "\u001b[2K   \u001b[90m━━━━━━━━━━━━━━━━━━━━━━━━━━━━━━━━━━━━━━━━\u001b[0m \u001b[32m264.4/264.4 kB\u001b[0m \u001b[31m16.7 MB/s\u001b[0m eta \u001b[36m0:00:00\u001b[0m\n",
            "\u001b[?25hDownloading automat-25.4.16-py3-none-any.whl (42 kB)\n",
            "\u001b[2K   \u001b[90m━━━━━━━━━━━━━━━━━━━━━━━━━━━━━━━━━━━━━━━━\u001b[0m \u001b[32m42.8/42.8 kB\u001b[0m \u001b[31m2.5 MB/s\u001b[0m eta \u001b[36m0:00:00\u001b[0m\n",
            "\u001b[?25hDownloading constantly-23.10.4-py3-none-any.whl (13 kB)\n",
            "Downloading hyperlink-21.0.0-py2.py3-none-any.whl (74 kB)\n",
            "\u001b[2K   \u001b[90m━━━━━━━━━━━━━━━━━━━━━━━━━━━━━━━━━━━━━━━━\u001b[0m \u001b[32m74.6/74.6 kB\u001b[0m \u001b[31m4.9 MB/s\u001b[0m eta \u001b[36m0:00:00\u001b[0m\n",
            "\u001b[?25hDownloading incremental-24.7.2-py3-none-any.whl (20 kB)\n",
            "Downloading requests_file-2.1.0-py2.py3-none-any.whl (4.2 kB)\n",
            "Building wheels for collected packages: hurry.filesize, langdetect, sgmllib3k\n",
            "  Building wheel for hurry.filesize (setup.py) ... \u001b[?25l\u001b[?25hdone\n",
            "  Created wheel for hurry.filesize: filename=hurry.filesize-0.9-py3-none-any.whl size=4091 sha256=94f2c249ae803d15d52732ab5bc74dfb2ecf1056a5e37e198a028da91bb07b67\n",
            "  Stored in directory: /root/.cache/pip/wheels/c9/e5/86/2502e0cc50eeac1386815ab1c5e97640e9f83f58a6b88fa0ce\n",
            "  Building wheel for langdetect (setup.py) ... \u001b[?25l\u001b[?25hdone\n",
            "  Created wheel for langdetect: filename=langdetect-1.0.9-py3-none-any.whl size=993223 sha256=b537a01fa4c37c475e055210156cbee3b740f3280c4a5ba0e9ef57e70d17b21a\n",
            "  Stored in directory: /root/.cache/pip/wheels/c1/67/88/e844b5b022812e15a52e4eaa38a1e709e99f06f6639d7e3ba7\n",
            "  Building wheel for sgmllib3k (setup.py) ... \u001b[?25l\u001b[?25hdone\n",
            "  Created wheel for sgmllib3k: filename=sgmllib3k-1.0.0-py3-none-any.whl size=6046 sha256=3d9d5b9168cc4ef9af25cbc0a2c28a95feb13d80cf09bef659eb87d809a9d59f\n",
            "  Stored in directory: /root/.cache/pip/wheels/03/f5/1a/23761066dac1d0e8e683e5fdb27e12de53209d05a4a37e6246\n",
            "Successfully built hurry.filesize langdetect sgmllib3k\n",
            "Installing collected packages: sgmllib3k, PyDispatcher, plac, hjson, faust-cchardet, dotmap, ago, zope-interface, warcio, w3lib, redis, queuelib, PyMySQL, psycopg2-binary, protego, lxml-html-clean, langdetect, jmespath, itemadapter, incremental, hyperlink, hurry.filesize, feedparser, elastic-transport, cssselect, constantly, automat, twisted, requests-file, parsel, elasticsearch, bs4, botocore, tldextract, service-identity, s3transfer, readability-lxml, itemloaders, Scrapy, newspaper4k, boto3, news-please\n",
            "Successfully installed PyDispatcher-2.0.7 PyMySQL-1.1.2 Scrapy-2.13.3 ago-0.1.0 automat-25.4.16 boto3-1.40.35 botocore-1.40.35 bs4-0.0.2 constantly-23.10.4 cssselect-1.3.0 dotmap-1.3.30 elastic-transport-9.1.0 elasticsearch-9.1.1 faust-cchardet-2.1.19 feedparser-6.0.12 hjson-3.1.0 hurry.filesize-0.9 hyperlink-21.0.0 incremental-24.7.2 itemadapter-0.12.2 itemloaders-1.3.2 jmespath-1.0.1 langdetect-1.0.9 lxml-html-clean-0.4.2 news-please-1.6.16 newspaper4k-0.9.3.1 parsel-1.10.0 plac-1.4.5 protego-0.5.0 psycopg2-binary-2.9.10 queuelib-1.8.0 readability-lxml-0.8.4.1 redis-6.4.0 requests-file-2.1.0 s3transfer-0.14.0 service-identity-24.2.0 sgmllib3k-1.0.0 tldextract-5.3.0 twisted-25.5.0 w3lib-2.3.1 warcio-1.7.5 zope-interface-8.0\n",
            "Collecting tinysegmenter\n",
            "  Downloading tinysegmenter-0.4.tar.gz (16 kB)\n",
            "  Preparing metadata (setup.py) ... \u001b[?25l\u001b[?25hdone\n",
            "Building wheels for collected packages: tinysegmenter\n",
            "  Building wheel for tinysegmenter (setup.py) ... \u001b[?25l\u001b[?25hdone\n",
            "  Created wheel for tinysegmenter: filename=tinysegmenter-0.4-py3-none-any.whl size=13535 sha256=0123f014a5986d61ca63f2f042e743f8624e978415de1a575b8acca798e46893\n",
            "  Stored in directory: /root/.cache/pip/wheels/ed/57/1f/a2491a8fa46488768366812f39580a68560e7f7f79ffb3dffb\n",
            "Successfully built tinysegmenter\n",
            "Installing collected packages: tinysegmenter\n",
            "Successfully installed tinysegmenter-0.4\n"
          ]
        }
      ],
      "source": [
        "!pip install news-please\n",
        "!pip install tinysegmenter\n",
        "#!pip install newspaper4k[all]"
      ]
    },
    {
      "cell_type": "code",
      "execution_count": null,
      "metadata": {
        "id": "LoWcWRKkcUOz"
      },
      "outputs": [],
      "source": [
        "import pandas as pd\n",
        "from newsplease import NewsPlease\n",
        "\n",
        "def process_csv_with_newsplease(input_df, url_column, output_csv_path=None):\n",
        "    \"\"\"\n",
        "    Takes a Pandas DataFrame that has a specified 'url' column,\n",
        "    uses news-please to extract news article data for each row, and\n",
        "    updates the same DataFrame with new columns (title, maintext, authors,\n",
        "    date_publish, etc.).\n",
        "\n",
        "    Parameters\n",
        "    ----------\n",
        "    input_df : pd.DataFrame\n",
        "        A DataFrame that must have a column with URLs.\n",
        "    url_column : str\n",
        "        The name of the column in 'input_df' that contains the URLs.\n",
        "    output_csv_path : str, optional\n",
        "        If provided, the updated DataFrame will be saved to this path as CSV.\n",
        "\n",
        "    Returns\n",
        "    -------\n",
        "    pd.DataFrame\n",
        "        The updated DataFrame with new columns for the extracted article data.\n",
        "    \"\"\"\n",
        "\n",
        "    # Make a copy so we don't modify the original DataFrame\n",
        "    df = input_df.copy()\n",
        "\n",
        "    # List of article metadata fields we want to store\n",
        "    new_columns = [\n",
        "        \"title\",\n",
        "        \"maintext\",\n",
        "        \"authors\",\n",
        "        \"date_publish\",\n",
        "        \"description\",\n",
        "        \"language\",\n",
        "        \"image_url\"\n",
        "    ]\n",
        "\n",
        "    # Ensure these columns exist in the DataFrame (fill with None if missing)\n",
        "    for col in new_columns:\n",
        "        if col not in df.columns:\n",
        "            df[col] = None\n",
        "\n",
        "    # Iterate through each row in the DataFrame\n",
        "    for idx, row in df.iterrows():\n",
        "        url = row.get(url_column, None)\n",
        "\n",
        "        # Skip if the URL is missing or invalid\n",
        "        if not url or pd.isna(url):\n",
        "            continue\n",
        "\n",
        "        try:\n",
        "            # Fetch article data using news-please\n",
        "            article = NewsPlease.from_url(url)\n",
        "\n",
        "            # If news-please fails or returns None, skip\n",
        "            if article is None:\n",
        "                print(f\"Warning: Could not extract article for URL: {url}\")\n",
        "                continue\n",
        "\n",
        "            # Update the DataFrame with the retrieved information\n",
        "            df.at[idx, 'title'] = article.title\n",
        "            df.at[idx, 'maintext'] = article.maintext\n",
        "            df.at[idx, 'authors'] = article.authors\n",
        "            df.at[idx, 'date_publish'] = article.date_publish\n",
        "            df.at[idx, 'description'] = article.description\n",
        "            df.at[idx, 'language'] = article.language\n",
        "            df.at[idx, 'image_url'] = article.image_url\n",
        "\n",
        "        except Exception as e:\n",
        "            print(f\"Error processing URL ({url}): {e}\")\n",
        "            continue\n",
        "\n",
        "    # If requested, save the updated DataFrame to CSV\n",
        "    if output_csv_path:\n",
        "        df.to_csv(output_csv_path, index=False)\n",
        "        print(f\"Updated DataFrame saved to: {output_csv_path}\")\n",
        "\n",
        "    return df\n",
        "\n",
        "\n",
        "# ------------------------ EXAMPLE USAGE IN COLAB ------------------------ #\n",
        "# 1) Import your CSV into a DataFrame (e.g., from Google Drive):\n",
        "#    import pandas as pd\n",
        "#    df_news = pd.read_csv(\"/content/drive/MyDrive/path_to_your_file.csv\")\n",
        "#\n",
        "# 2) Call the function, specifying:\n",
        "#    - The DataFrame (df_news)\n",
        "#    - The column name containing URLs (e.g., \"url\")\n",
        "#    - The desired output CSV path (optional)\n",
        "#\n",
        "#    updated_df = process_csv_with_newsplease(df_news, \"url\", \"updated_articles.csv\")\n",
        "#\n",
        "# 3) 'updated_df' now contains new columns (title, maintext, etc.) in the same rows.\n",
        "#    Inspect the result:\n",
        "#    updated_df.head()\n"
      ]
    },
    {
      "cell_type": "code",
      "source": [
        "import pandas as pd\n",
        "from newsplease import NewsPlease\n",
        "import threading\n",
        "import time\n",
        "\n",
        "def process_url_with_timeout(url, timeout=180):\n",
        "    \"\"\"\n",
        "    Helper function to process a single URL with a timeout.\n",
        "    \"\"\"\n",
        "    article_data = {}\n",
        "    exception = None\n",
        "\n",
        "    def target():\n",
        "        nonlocal article_data, exception\n",
        "        try:\n",
        "            article = NewsPlease.from_url(url)\n",
        "            if article:\n",
        "                article_data = {\n",
        "                    \"title\": article.title,\n",
        "                    \"maintext\": article.maintext,\n",
        "                    \"authors\": article.authors,\n",
        "                    \"date_publish\": article.date_publish,\n",
        "                    \"description\": article.description,\n",
        "                    \"language\": article.language,\n",
        "                    \"image_url\": article.image_url\n",
        "                }\n",
        "            else:\n",
        "                print(f\"Warning: Could not extract article for URL: {url}\")\n",
        "        except Exception as e:\n",
        "            exception = e\n",
        "            print(f\"Error processing URL ({url}): {e}\")\n",
        "\n",
        "\n",
        "    thread = threading.Thread(target=target)\n",
        "    thread.start()\n",
        "    thread.join(timeout)\n",
        "\n",
        "    if thread.is_alive():\n",
        "        print(f\"Warning: Timeout processing URL: {url}\")\n",
        "        # The thread is still alive, it means the processing timed out.\n",
        "        # We can't forcefully stop it, but we can skip processing its result.\n",
        "        return None, None\n",
        "    else:\n",
        "        return article_data, exception\n",
        "\n",
        "\n",
        "def process_csv_with_newsplease_timeout(input_df, url_column, output_csv_path=None, timeout_seconds=180):\n",
        "    \"\"\"\n",
        "    Takes a Pandas DataFrame with a 'url' column, uses news-please to extract\n",
        "    news article data for each row with a timeout, and updates the DataFrame.\n",
        "\n",
        "    Parameters\n",
        "    ----------\n",
        "    input_df : pd.DataFrame\n",
        "        A DataFrame that must have a column with URLs.\n",
        "    url_column : str\n",
        "        The name of the column in 'input_df' that contains the URLs.\n",
        "    output_csv_path : str, optional\n",
        "        If provided, the updated DataFrame will be saved to this path as CSV.\n",
        "    timeout_seconds : int, optional\n",
        "        The maximum time in seconds to wait for news-please to process a single URL.\n",
        "\n",
        "    Returns\n",
        "    -------\n",
        "    pd.DataFrame\n",
        "        The updated DataFrame with new columns for the extracted article data.\n",
        "    \"\"\"\n",
        "\n",
        "    # Make a copy so we don't modify the original DataFrame\n",
        "    df = input_df.copy()\n",
        "\n",
        "    # List of article metadata fields we want to store\n",
        "    new_columns = [\n",
        "        \"title\",\n",
        "        \"maintext\",\n",
        "        \"authors\",\n",
        "        \"date_publish\",\n",
        "        \"description\",\n",
        "        \"language\",\n",
        "        \"image_url\"\n",
        "    ]\n",
        "\n",
        "    # Ensure these columns exist in the DataFrame (fill with None if missing)\n",
        "    for col in new_columns:\n",
        "        if col not in df.columns:\n",
        "            df[col] = None\n",
        "\n",
        "    # Iterate through each row in the DataFrame\n",
        "    for idx, row in df.iterrows():\n",
        "        url = row.get(url_column, None)\n",
        "\n",
        "        # Skip if the URL is missing or invalid\n",
        "        if not url or pd.isna(url):\n",
        "            continue\n",
        "\n",
        "        article_data, exception = process_url_with_timeout(url, timeout=timeout_seconds)\n",
        "\n",
        "        if article_data:\n",
        "            # Update the DataFrame with the retrieved information\n",
        "            for col in new_columns:\n",
        "                df.at[idx, col] = article_data.get(col)\n",
        "\n",
        "    # If requested, save the updated DataFrame to CSV\n",
        "    if output_csv_path:\n",
        "        df.to_csv(output_csv_path, index=False)\n",
        "        print(f\"Updated DataFrame saved to: {output_csv_path}\")\n",
        "\n",
        "    return df\n",
        "\n",
        "# ------------------------ EXAMPLE USAGE IN COLAB ------------------------ #\n",
        "# 1) Import your CSV into a DataFrame (e.g., from Google Drive):\n",
        "#    import pandas as pd\n",
        "#    df_news = pd.read_csv(\"/content/drive/MyDrive/path_to_your_file.csv\")\n",
        "#\n",
        "# 2) Call the function, specifying:\n",
        "#    - The DataFrame (df_news)\n",
        "#    - The column name containing URLs (e.g., \"url\")\n",
        "#    - The desired output CSV path (optional)\n",
        "#    - The timeout in seconds (optional, defaults to 180)\n",
        "#\n",
        "#    updated_df = process_csv_with_newsplease_timeout(df_news, \"url\", \"updated_articles_with_timeout.csv\", timeout_seconds=120)\n",
        "#\n",
        "# 3) 'updated_df' now contains new columns (title, maintext, etc.) in the same rows.\n",
        "#    Inspect the result:\n",
        "#    updated_df.head()"
      ],
      "metadata": {
        "id": "0WJIXgz2uTt9"
      },
      "execution_count": null,
      "outputs": []
    },
    {
      "cell_type": "code",
      "execution_count": null,
      "metadata": {
        "colab": {
          "base_uri": "https://localhost:8080/"
        },
        "id": "OeyV38hxCV6H",
        "outputId": "8b82821d-1020-4fe4-be74-6eeaa566d301"
      },
      "outputs": [
        {
          "output_type": "execute_result",
          "data": {
            "text/plain": [
              "7812"
            ]
          },
          "metadata": {},
          "execution_count": 10
        }
      ],
      "source": [
        "import pandas as pd\n",
        "\n",
        "df = pd.read_csv('/content/drive/MyDrive/Mediacloud/Russia/искусственный_интеллект_russia_2024-06-01_2025-06-01_mediacloud.csv')\n",
        "#df = pd.read_csv('/content/drive/MyDrive/Mediacloud/UK/artificial_intelligence_uk_2024-06-01_2025-06-01_mediacloud.csv')\n",
        "len(df)"
      ]
    },
    {
      "cell_type": "code",
      "execution_count": null,
      "metadata": {
        "colab": {
          "base_uri": "https://localhost:8080/"
        },
        "id": "PXgMpqPsMsr8",
        "outputId": "ad766ff4-7adb-4c4a-f125-6d85fefe1b82"
      },
      "outputs": [
        {
          "output_type": "execute_result",
          "data": {
            "text/plain": [
              "3500"
            ]
          },
          "metadata": {},
          "execution_count": 40
        }
      ],
      "source": [
        "#drop last rows\n",
        "df = df.iloc[:-4312].reset_index(drop=True)\n",
        "len(df)"
      ]
    },
    {
      "cell_type": "code",
      "execution_count": null,
      "metadata": {
        "colab": {
          "base_uri": "https://localhost:8080/"
        },
        "id": "Q4LP-mXAMX0Q",
        "outputId": "28c5ae1f-ee56-459a-8800-5622411d1d83"
      },
      "outputs": [
        {
          "output_type": "execute_result",
          "data": {
            "text/plain": [
              "1000"
            ]
          },
          "metadata": {},
          "execution_count": 41
        }
      ],
      "source": [
        "#drop first rows\n",
        "df = df.iloc[2500:].reset_index(drop=True)\n",
        "len(df)"
      ]
    },
    {
      "cell_type": "code",
      "source": [
        "df = df.sample(n=1000, random_state=42)\n",
        "len(df)"
      ],
      "metadata": {
        "colab": {
          "base_uri": "https://localhost:8080/"
        },
        "id": "dtw70OBjpAxL",
        "outputId": "c42b370c-358c-4e0c-9308-ac9eac6d5c2b"
      },
      "execution_count": null,
      "outputs": [
        {
          "output_type": "execute_result",
          "data": {
            "text/plain": [
              "1000"
            ]
          },
          "metadata": {},
          "execution_count": 42
        }
      ]
    },
    {
      "cell_type": "code",
      "execution_count": null,
      "metadata": {
        "colab": {
          "base_uri": "https://localhost:8080/"
        },
        "id": "OrjjaykLcURc",
        "outputId": "a17fa128-21e1-48f8-ac40-ad6fdff7a6d4"
      },
      "outputs": [
        {
          "output_type": "execute_result",
          "data": {
            "text/plain": [
              "7812"
            ]
          },
          "metadata": {},
          "execution_count": 5
        }
      ],
      "source": [
        "import pandas as pd\n",
        "\n",
        "df = pd.read_csv('/content/drive/MyDrive/Mediacloud/Russia/искусственный_интеллект_russia_2024-06-01_2025-06-01_mediacloud.csv')\n",
        "len(df)"
      ]
    },
    {
      "cell_type": "code",
      "execution_count": null,
      "metadata": {
        "colab": {
          "base_uri": "https://localhost:8080/"
        },
        "id": "vZIGPEQPgPUx",
        "outputId": "83a0e754-f974-442c-bd58-30b52606d86c"
      },
      "outputs": [
        {
          "output_type": "execute_result",
          "data": {
            "text/plain": [
              "2000"
            ]
          },
          "metadata": {},
          "execution_count": 6
        }
      ],
      "source": [
        "df = df.sample(n=2000, random_state=42)\n",
        "len(df)"
      ]
    },
    {
      "cell_type": "code",
      "execution_count": null,
      "metadata": {
        "colab": {
          "base_uri": "https://localhost:8080/"
        },
        "id": "8GxpfJ0BXJAq",
        "outputId": "302a2828-7545-4b83-e78a-c571f2d20f62"
      },
      "outputs": [
        {
          "output_type": "execute_result",
          "data": {
            "text/plain": [
              "975"
            ]
          },
          "metadata": {},
          "execution_count": 16
        }
      ],
      "source": [
        "import pandas as pd\n",
        "\n",
        "df = pd.read_csv(\"/content/drive/MyDrive/Mediacloud/Japan/人工知能_japan_cleaned_2024-06-01_2025-06-01_frames_newsplease_mediacloud_gemini_2-5.csv\")\n",
        "df2 = pd.read_csv(\"/content/drive/MyDrive/Mediacloud/Japan/人工知能_japan_addition_2024-06-01_2025-06-01_newsplease_mediacloud.csv\")\n",
        "df3 = pd.read_csv(\"/content/drive/MyDrive/Mediacloud/Japan/人工知能_japan_addition2_2024-06-01_2025-06-01_newsplease_mediacloud.csv\")\n",
        "df4 = pd.read_csv(\"/content/drive/MyDrive/Mediacloud/Japan/人工知能_japan_addition3_2024-06-01_2025-06-01_newsplease_mediacloud.csv\")\n",
        "len(df)"
      ]
    },
    {
      "cell_type": "code",
      "source": [
        "df = pd.concat([df, df2, df3, df4], ignore_index=True)\n",
        "len(df)"
      ],
      "metadata": {
        "colab": {
          "base_uri": "https://localhost:8080/"
        },
        "id": "5GmK-KOxElqi",
        "outputId": "da41e812-3a56-4344-ec6a-e396ce45d5c5"
      },
      "execution_count": null,
      "outputs": [
        {
          "output_type": "execute_result",
          "data": {
            "text/plain": [
              "5815"
            ]
          },
          "metadata": {},
          "execution_count": 19
        }
      ]
    },
    {
      "cell_type": "code",
      "execution_count": null,
      "metadata": {
        "colab": {
          "base_uri": "https://localhost:8080/"
        },
        "id": "zf9cFl9QXglD",
        "outputId": "a6d65f62-ceb8-4e72-ebd7-c7aa33d1425e"
      },
      "outputs": [
        {
          "output_type": "execute_result",
          "data": {
            "text/plain": [
              "975"
            ]
          },
          "metadata": {},
          "execution_count": 17
        }
      ],
      "source": [
        "df = df[df[\"frame\"] != \"error\"]\n",
        "df = df[df[\"frame\"] != \"Not AI related\"]\n",
        "missing = (1000 - len(df))*8\n",
        "len(df)"
      ]
    },
    {
      "cell_type": "code",
      "execution_count": null,
      "metadata": {
        "colab": {
          "base_uri": "https://localhost:8080/"
        },
        "id": "Hnv3E1fRjkVg",
        "outputId": "3739a520-9bfe-4f21-90cc-fb62e6ccdedf"
      },
      "outputs": [
        {
          "output_type": "execute_result",
          "data": {
            "text/plain": [
              "25.0"
            ]
          },
          "metadata": {},
          "execution_count": 18
        }
      ],
      "source": [
        "missing/8"
      ]
    },
    {
      "cell_type": "code",
      "execution_count": null,
      "metadata": {
        "colab": {
          "base_uri": "https://localhost:8080/"
        },
        "id": "mvqOrI2Js9HI",
        "outputId": "2ed21bc7-f851-474b-fcca-3c87a728ec93"
      },
      "outputs": [
        {
          "output_type": "execute_result",
          "data": {
            "text/plain": [
              "102144"
            ]
          },
          "metadata": {},
          "execution_count": 20
        }
      ],
      "source": [
        "df_full = pd.read_csv('/content/drive/MyDrive/Mediacloud/Japan/人工知能_japan_2024-06-01_2025-06-01_mediacloud.csv')\n",
        "len(df_full)"
      ]
    },
    {
      "cell_type": "code",
      "execution_count": null,
      "metadata": {
        "colab": {
          "base_uri": "https://localhost:8080/"
        },
        "id": "cXA5kUmBYNxO",
        "outputId": "08eed2ff-791e-4a6c-8001-39f204f39a26"
      },
      "outputs": [
        {
          "output_type": "execute_result",
          "data": {
            "text/plain": [
              "200"
            ]
          },
          "metadata": {},
          "execution_count": 21
        }
      ],
      "source": [
        "df_full_unique = df_full.drop_duplicates(subset=[\"title\"])\n",
        "used_articles = set(df[\"title\"].values)\n",
        "df_candidates = df_full_unique[~df_full_unique[\"title\"].isin(used_articles)]\n",
        "\n",
        "df_new = df_candidates.sample(n=missing, random_state=42)\n",
        "len(df_new)"
      ]
    },
    {
      "cell_type": "code",
      "source": [
        "df_updated = process_csv_with_newsplease_timeout(df, \"url\", \"artificial_intelligence_2024-06-01_2025-06-01_newsplease_mediacloud.csv\", 180)"
      ],
      "metadata": {
        "colab": {
          "base_uri": "https://localhost:8080/"
        },
        "id": "6nbYq6kU6D8u",
        "outputId": "b1e53af5-5d2c-47ab-bd06-618fdfbb5eb5"
      },
      "execution_count": null,
      "outputs": [
        {
          "output_type": "stream",
          "name": "stderr",
          "text": [
            "ERROR:newsplease.crawler.simple_crawler:not a 200 response: 404\n"
          ]
        },
        {
          "output_type": "stream",
          "name": "stdout",
          "text": [
            "Warning: Could not extract article for URL: https://izvmor.ru/novosti-partnerov/sber-otkryl-priyom-zayavok-na-sorevnovanie-ai-journey-contest-s-prizovym-fondom-85-mln-rublej/\n"
          ]
        },
        {
          "output_type": "stream",
          "name": "stderr",
          "text": [
            "ERROR:newsplease.crawler.simple_crawler:not a 200 response: 404\n"
          ]
        },
        {
          "output_type": "stream",
          "name": "stdout",
          "text": [
            "Warning: Could not extract article for URL: https://kamchatka.aif.ru/society/dushevno-i-po-delu-bank-psb-na-kamchatke-delaet-stavku-na-zhivoe-obshchenie?erid=LjN8KQZxa\n"
          ]
        },
        {
          "output_type": "stream",
          "name": "stderr",
          "text": [
            "WARNING:newspaper.extractors.image_extractor:error while fetching: https://www.apn.ru/uploads/pictures/logo.gif refer: ://\n",
            "WARNING:newspaper.extractors.image_extractor:error while fetching: https://www.apn.ru/uploads/pictures/spacer.gif refer: ://\n",
            "WARNING:newspaper.extractors.image_extractor:error while fetching: https://www.apn.ru/uploads/pictures/spacer.gif refer: ://\n",
            "WARNING:newspaper.extractors.image_extractor:error while fetching: https://www.apn.ru/uploads/pictures/spacer.gif refer: ://\n",
            "WARNING:newspaper.extractors.image_extractor:error while fetching: https://www.apn.ru/uploads/pictures/spacer.gif refer: ://\n",
            "WARNING:newspaper.extractors.image_extractor:error while fetching: https://www.apn.ru/uploads/pictures/spacer.gif refer: ://\n",
            "WARNING:newspaper.extractors.image_extractor:error while fetching: https://www.apn.ru/uploads/pictures/spacer.gif refer: ://\n",
            "WARNING:newspaper.extractors.image_extractor:error while fetching: https://www.apn.ru/uploads/pictures/spacer.gif refer: ://\n",
            "ERROR:newsplease.crawler.simple_crawler:not a 200 response: 404\n"
          ]
        },
        {
          "output_type": "stream",
          "name": "stdout",
          "text": [
            "Warning: Could not extract article for URL: https://www.avtoradio.ru/news/uid/463278\n"
          ]
        },
        {
          "output_type": "stream",
          "name": "stderr",
          "text": [
            "WARNING:newspaper.extractors.image_extractor:error while fetching: https://www.apn.ru/uploads/pictures/logo.gif refer: ://\n",
            "WARNING:newspaper.extractors.image_extractor:error while fetching: https://www.apn.ru/uploads/pictures/spacer.gif refer: ://\n",
            "WARNING:newspaper.extractors.image_extractor:error while fetching: https://www.apn.ru/uploads/pictures/spacer.gif refer: ://\n",
            "WARNING:newspaper.extractors.image_extractor:error while fetching: https://www.apn.ru/uploads/pictures/spacer.gif refer: ://\n",
            "WARNING:newspaper.extractors.image_extractor:error while fetching: https://www.apn.ru/uploads/pictures/spacer.gif refer: ://\n",
            "WARNING:newspaper.extractors.image_extractor:error while fetching: https://www.apn.ru/uploads/pictures/spacer.gif refer: ://\n",
            "WARNING:newspaper.extractors.image_extractor:error while fetching: https://www.apn.ru/uploads/pictures/spacer.gif refer: ://\n",
            "WARNING:newspaper.extractors.image_extractor:error while fetching: https://www.apn.ru/uploads/pictures/spacer.gif refer: ://\n",
            "ERROR:newsplease.crawler.simple_crawler:not a 200 response: 404\n"
          ]
        },
        {
          "output_type": "stream",
          "name": "stdout",
          "text": [
            "Warning: Could not extract article for URL: https://mkset.ru/news/2024-12-24/novyy-metod-diagnostiki-raka-grudi-otkryvaet-novye-vozmozhnosti-lecheniya-5283516\n"
          ]
        },
        {
          "output_type": "stream",
          "name": "stderr",
          "text": [
            "ERROR:newsplease.crawler.simple_crawler:not a 200 response: 404\n"
          ]
        },
        {
          "output_type": "stream",
          "name": "stdout",
          "text": [
            "Warning: Could not extract article for URL: https://www.avtoradio.ru/news/uid/463298\n"
          ]
        },
        {
          "output_type": "stream",
          "name": "stderr",
          "text": [
            "ERROR:newsplease.crawler.simple_crawler:not a 200 response: 403\n"
          ]
        },
        {
          "output_type": "stream",
          "name": "stdout",
          "text": [
            "Warning: Could not extract article for URL: https://www.pnp.ru/politics/senator-karelova-zhenshhiny-vnosyat-vse-bolee-zametnyy-vklad-v-sotrudnichestvo-rossii-i-islamskikh-stran.html\n"
          ]
        },
        {
          "output_type": "stream",
          "name": "stderr",
          "text": [
            "WARNING:newspaper.extractors.image_extractor:error while fetching: https://www.apn.ru/uploads/posts/2025-05/1748592237_4a73afb7479d4a81acbb51a5724f4d72.jpg refer: ://\n",
            "WARNING:newspaper.extractors.image_extractor:error while fetching: https://www.apn.ru/uploads/pictures/spacer.gif refer: ://\n",
            "WARNING:newspaper.extractors.image_extractor:error while fetching: https://www.apn.ru/uploads/pictures/spacer.gif refer: ://\n",
            "WARNING:newspaper.extractors.image_extractor:error while fetching: https://www.apn.ru/uploads/pictures/spacer.gif refer: ://\n",
            "WARNING:newspaper.extractors.image_extractor:error while fetching: https://www.apn.ru/uploads/pictures/spacer.gif refer: ://\n",
            "WARNING:newspaper.extractors.image_extractor:error while fetching: https://www.apn.ru/uploads/pictures/spacer.gif refer: ://\n",
            "WARNING:newspaper.extractors.image_extractor:error while fetching: https://www.apn.ru/uploads/pictures/spacer.gif refer: ://\n",
            "WARNING:newspaper.extractors.image_extractor:error while fetching: https://www.apn.ru/uploads/pictures/spacer.gif refer: ://\n"
          ]
        },
        {
          "output_type": "stream",
          "name": "stdout",
          "text": [
            "Warning: Timeout processing URL: https://www.tvc.ru/news/316942\n"
          ]
        },
        {
          "output_type": "stream",
          "name": "stderr",
          "text": [
            "ERROR:newsplease.crawler.simple_crawler:not a 200 response: 404\n"
          ]
        },
        {
          "output_type": "stream",
          "name": "stdout",
          "text": [
            "Warning: Could not extract article for URL: https://www.avtoradio.ru/news/uid/463248\n"
          ]
        },
        {
          "output_type": "stream",
          "name": "stderr",
          "text": [
            "ERROR:newsplease.crawler.simple_crawler:not a 200 response: 404\n"
          ]
        },
        {
          "output_type": "stream",
          "name": "stdout",
          "text": [
            "Warning: Could not extract article for URL: https://www.avtoradio.ru/news/uid/463181\n"
          ]
        },
        {
          "output_type": "stream",
          "name": "stderr",
          "text": [
            "WARNING:newspaper.extractors.image_extractor:error while fetching: https://saint-petersburg.ru/storage/wp-content/uploads/2025/05/alex-knight-2ejcsulrwc8-unsplash-scaled.jpg__0_0x0.jpg refer: ://\n",
            "WARNING:newspaper.extractors.image_extractor:error while fetching: https://saint-petersburg.ru/storage/wp-content/uploads/2025/05/alex-knight-2ejcsulrwc8-unsplash-scaled.jpg__600_16x9.jpg refer: ://\n",
            "WARNING:newspaper.extractors.image_extractor:error while fetching: https://saint-petersburg.ru/storage/wp-content/uploads/2025/05/person-white-care-medicine-health-laboratory-917211-pxhere.com_-scaled.jpg__600_0x0.jpg refer: ://\n",
            "WARNING:newspaper.extractors.image_extractor:error while fetching: https://saint-petersburg.ru/storage/wp-content/uploads/2024/02/floor-interior-home-tourist-travel-ceiling-487768-pxhere.com_-scaled.jpg__100_1x1.jpg refer: ://\n",
            "WARNING:newspaper.extractors.image_extractor:error while fetching: https://saint-petersburg.ru/storage/wp-content/uploads/2024/02/money-paper-cash-bank-currency-crisis-553728-pxhere.com-1.jpg__100_1x1.jpg refer: ://\n",
            "WARNING:newspaper.extractors.image_extractor:error while fetching: https://saint-petersburg.ru/storage/wp-content/uploads/2024/10/photo_2024-07-31_17-36-39.jpg__100_1x1.jpg refer: ://\n",
            "WARNING:newspaper.extractors.image_extractor:error while fetching: https://saint-petersburg.ru/storage/wp-content/uploads/2024/02/writing-work-hand-man-people-play-1324056-pxhere.com-1.jpg__100_1x1.jpg refer: ://\n",
            "ERROR:newsplease.crawler.simple_crawler:not a 200 response: 403\n"
          ]
        },
        {
          "output_type": "stream",
          "name": "stdout",
          "text": [
            "Warning: Could not extract article for URL: https://www.pnp.ru/social/dopusk-k-rabote-v-skoroy-dlya-studentov-medvuzov-sdelali-bessrochnym.html\n"
          ]
        },
        {
          "output_type": "stream",
          "name": "stderr",
          "text": [
            "ERROR:newsplease.crawler.simple_crawler:connection/timeout error: https://www.tvc.ru/news/307094 HTTPSConnectionPool(host='www.tvc.ru', port=443): Max retries exceeded with url: /news/307094 (Caused by ConnectTimeoutError(<urllib3.connection.HTTPSConnection object at 0x7963fc52ae70>, 'Connection to www.tvc.ru timed out. (connect timeout=None)'))\n"
          ]
        },
        {
          "output_type": "stream",
          "name": "stdout",
          "text": [
            "Warning: Could not extract article for URL: https://www.tvc.ru/news/307094\n"
          ]
        },
        {
          "output_type": "stream",
          "name": "stderr",
          "text": [
            "WARNING:newspaper.extractors.image_extractor:error while fetching: https://www.apn.ru/uploads/pictures/logo.gif refer: ://\n",
            "WARNING:newspaper.extractors.image_extractor:error while fetching: https://www.apn.ru/uploads/pictures/spacer.gif refer: ://\n",
            "WARNING:newspaper.extractors.image_extractor:error while fetching: https://www.apn.ru/uploads/pictures/spacer.gif refer: ://\n",
            "WARNING:newspaper.extractors.image_extractor:error while fetching: https://www.apn.ru/uploads/pictures/spacer.gif refer: ://\n",
            "WARNING:newspaper.extractors.image_extractor:error while fetching: https://www.apn.ru/uploads/pictures/spacer.gif refer: ://\n",
            "WARNING:newspaper.extractors.image_extractor:error while fetching: https://www.apn.ru/uploads/pictures/spacer.gif refer: ://\n",
            "WARNING:newspaper.extractors.image_extractor:error while fetching: https://www.apn.ru/uploads/pictures/spacer.gif refer: ://\n",
            "WARNING:newspaper.extractors.image_extractor:error while fetching: https://www.apn.ru/uploads/pictures/spacer.gif refer: ://\n",
            "WARNING:newspaper.extractors.image_extractor:error while fetching: https://www.apn.ru/uploads/pictures/logo.gif refer: ://\n",
            "WARNING:newspaper.extractors.image_extractor:error while fetching: https://www.apn.ru/uploads/pictures/spacer.gif refer: ://\n",
            "WARNING:newspaper.extractors.image_extractor:error while fetching: https://www.apn.ru/uploads/pictures/spacer.gif refer: ://\n",
            "WARNING:newspaper.extractors.image_extractor:error while fetching: https://www.apn.ru/uploads/pictures/spacer.gif refer: ://\n",
            "WARNING:newspaper.extractors.image_extractor:error while fetching: https://www.apn.ru/uploads/pictures/spacer.gif refer: ://\n",
            "WARNING:newspaper.extractors.image_extractor:error while fetching: https://www.apn.ru/uploads/pictures/spacer.gif refer: ://\n",
            "WARNING:newspaper.extractors.image_extractor:error while fetching: https://www.apn.ru/uploads/pictures/spacer.gif refer: ://\n",
            "WARNING:newspaper.extractors.image_extractor:error while fetching: https://www.apn.ru/uploads/pictures/spacer.gif refer: ://\n",
            "WARNING:newspaper.extractors.image_extractor:error while fetching: https://www.apn.ru/uploads/pictures/logo.gif refer: ://\n",
            "WARNING:newspaper.extractors.image_extractor:error while fetching: https://www.apn.ru/uploads/pictures/spacer.gif refer: ://\n",
            "WARNING:newspaper.extractors.image_extractor:error while fetching: https://www.apn.ru/uploads/pictures/spacer.gif refer: ://\n",
            "WARNING:newspaper.extractors.image_extractor:error while fetching: https://www.apn.ru/uploads/pictures/spacer.gif refer: ://\n",
            "WARNING:newspaper.extractors.image_extractor:error while fetching: https://www.apn.ru/uploads/pictures/spacer.gif refer: ://\n",
            "WARNING:newspaper.extractors.image_extractor:error while fetching: https://www.apn.ru/uploads/pictures/spacer.gif refer: ://\n",
            "WARNING:newspaper.extractors.image_extractor:error while fetching: https://www.apn.ru/uploads/pictures/spacer.gif refer: ://\n",
            "WARNING:newspaper.extractors.image_extractor:error while fetching: https://www.apn.ru/uploads/pictures/spacer.gif refer: ://\n",
            "ERROR:newsplease.crawler.simple_crawler:not a 200 response: 404\n"
          ]
        },
        {
          "output_type": "stream",
          "name": "stdout",
          "text": [
            "Warning: Could not extract article for URL: https://www.avtoradio.ru/news/uid/463317\n"
          ]
        },
        {
          "output_type": "stream",
          "name": "stderr",
          "text": [
            "ERROR:newsplease.crawler.simple_crawler:connection/timeout error: https://www.tvc.ru/news/307550 HTTPSConnectionPool(host='www.tvc.ru', port=443): Max retries exceeded with url: /news/307550 (Caused by ConnectTimeoutError(<urllib3.connection.HTTPSConnection object at 0x7963f78a7f50>, 'Connection to www.tvc.ru timed out. (connect timeout=None)'))\n"
          ]
        },
        {
          "output_type": "stream",
          "name": "stdout",
          "text": [
            "Warning: Could not extract article for URL: https://www.tvc.ru/news/307550\n"
          ]
        },
        {
          "output_type": "stream",
          "name": "stderr",
          "text": [
            "ERROR:newsplease.crawler.simple_crawler:not a 200 response: 403\n"
          ]
        },
        {
          "output_type": "stream",
          "name": "stdout",
          "text": [
            "Warning: Could not extract article for URL: https://orenburzhie.ru/news/v-orenburge-otkrylas-sovremennaya-medicinskaya-laboratoriya/\n"
          ]
        },
        {
          "output_type": "stream",
          "name": "stderr",
          "text": [
            "WARNING:newspaper.extractors.image_extractor:error while fetching: https://www.apn.ru/uploads/pictures/logo.gif refer: ://\n",
            "WARNING:newspaper.extractors.image_extractor:error while fetching: https://www.apn.ru/uploads/pictures/spacer.gif refer: ://\n",
            "WARNING:newspaper.extractors.image_extractor:error while fetching: https://www.apn.ru/uploads/pictures/spacer.gif refer: ://\n",
            "WARNING:newspaper.extractors.image_extractor:error while fetching: https://www.apn.ru/uploads/pictures/spacer.gif refer: ://\n",
            "WARNING:newspaper.extractors.image_extractor:error while fetching: https://www.apn.ru/uploads/pictures/spacer.gif refer: ://\n",
            "WARNING:newspaper.extractors.image_extractor:error while fetching: https://www.apn.ru/uploads/pictures/spacer.gif refer: ://\n",
            "WARNING:newspaper.extractors.image_extractor:error while fetching: https://www.apn.ru/uploads/pictures/spacer.gif refer: ://\n",
            "WARNING:newspaper.extractors.image_extractor:error while fetching: https://www.apn.ru/uploads/pictures/spacer.gif refer: ://\n",
            "ERROR:newsplease.crawler.simple_crawler:not a 200 response: 403\n"
          ]
        },
        {
          "output_type": "stream",
          "name": "stdout",
          "text": [
            "Warning: Could not extract article for URL: https://myslo.ru/city/reviews/health/devochka-devushka-zhenshina-zabota-o-zhenskom-zdorov-e-v-klinike-fomina\n"
          ]
        },
        {
          "output_type": "stream",
          "name": "stderr",
          "text": [
            "WARNING:newspaper.extractors.image_extractor:error while fetching: https://sharing.vedomosti.ru/1745862598/vedomosti.ru/gorod/smartcity/articles/dnya-innovatora-poluchili.jpg refer: ://\n",
            "WARNING:newspaper.extractors.image_extractor:error while fetching: https://sharing.vedomosti.ru/1730902955/vedomosti.ru/technology/articles/2024/11/06/1073238-kak-rossiiskie-vnedryayut.jpg refer: ://\n",
            "WARNING:newspaper.extractors.image_extractor:error while fetching: https://cdn5.vedomosti.ru/image/2024/8n/q0k6i/original-xpt.jpg refer: ://\n",
            "ERROR:newsplease.crawler.simple_crawler:not a 200 response: 404\n"
          ]
        },
        {
          "output_type": "stream",
          "name": "stdout",
          "text": [
            "Warning: Could not extract article for URL: https://www.avtoradio.ru/news/uid/463338\n"
          ]
        },
        {
          "output_type": "stream",
          "name": "stderr",
          "text": [
            "ERROR:newsplease.crawler.simple_crawler:not a 200 response: 404\n"
          ]
        },
        {
          "output_type": "stream",
          "name": "stdout",
          "text": [
            "Warning: Could not extract article for URL: https://www.avtoradio.ru/news/uid/463273\n"
          ]
        },
        {
          "output_type": "stream",
          "name": "stderr",
          "text": [
            "ERROR:newsplease.crawler.simple_crawler:connection/timeout error: https://www.tvc.ru/news/305273 HTTPSConnectionPool(host='www.tvc.ru', port=443): Max retries exceeded with url: /news/305273 (Caused by ConnectTimeoutError(<urllib3.connection.HTTPSConnection object at 0x7963fc1d99a0>, 'Connection to www.tvc.ru timed out. (connect timeout=None)'))\n"
          ]
        },
        {
          "output_type": "stream",
          "name": "stdout",
          "text": [
            "Warning: Could not extract article for URL: https://www.tvc.ru/news/305273\n"
          ]
        },
        {
          "output_type": "stream",
          "name": "stderr",
          "text": [
            "WARNING:newspaper.extractors.image_extractor:error while fetching: https://sharing.vedomosti.ru/1721861531/vedomosti.ru/society/articles/2024/07/25/1051951-na-podderzhku-prepodavatelei-fundamentalnih-distsiplin.jpg refer: ://\n",
            "WARNING:newspaper.extractors.image_extractor:error while fetching: https://cdn5.vedomosti.ru/image/2024/5r/401ee/original-56p.jpg refer: ://\n",
            "ERROR:newsplease.crawler.simple_crawler:not a 200 response: 504\n"
          ]
        },
        {
          "output_type": "stream",
          "name": "stdout",
          "text": [
            "Warning: Could not extract article for URL: https://vlg.aif.ru/society/details/vospitanniki-detskih-domov-nauchatsya-rabotat-s-iskusstvennym-intellektom?erid=2W5zFGAZide\n"
          ]
        },
        {
          "output_type": "stream",
          "name": "stderr",
          "text": [
            "WARNING:newspaper.extractors.image_extractor:error while fetching: https://www.apn.ru/uploads/pictures/logo.gif refer: ://\n",
            "WARNING:newspaper.extractors.image_extractor:error while fetching: https://www.apn.ru/uploads/pictures/spacer.gif refer: ://\n",
            "WARNING:newspaper.extractors.image_extractor:error while fetching: https://www.apn.ru/uploads/pictures/spacer.gif refer: ://\n",
            "WARNING:newspaper.extractors.image_extractor:error while fetching: https://www.apn.ru/uploads/pictures/spacer.gif refer: ://\n",
            "WARNING:newspaper.extractors.image_extractor:error while fetching: https://www.apn.ru/uploads/pictures/spacer.gif refer: ://\n",
            "WARNING:newspaper.extractors.image_extractor:error while fetching: https://www.apn.ru/uploads/pictures/spacer.gif refer: ://\n",
            "WARNING:newspaper.extractors.image_extractor:error while fetching: https://www.apn.ru/uploads/pictures/spacer.gif refer: ://\n",
            "WARNING:newspaper.extractors.image_extractor:error while fetching: https://www.apn.ru/uploads/pictures/spacer.gif refer: ://\n",
            "ERROR:newsplease.crawler.simple_crawler:not a 200 response: 403\n"
          ]
        },
        {
          "output_type": "stream",
          "name": "stdout",
          "text": [
            "Warning: Could not extract article for URL: https://www.pnp.ru/economics/shadaev-iskusstvennyy-intelekt-mozhet-zamenit-polovinu-chinovnikov.html\n"
          ]
        },
        {
          "output_type": "stream",
          "name": "stderr",
          "text": [
            "ERROR:newsplease.crawler.simple_crawler:not a 200 response: 403\n"
          ]
        },
        {
          "output_type": "stream",
          "name": "stdout",
          "text": [
            "Warning: Could not extract article for URL: https://www.pnp.ru/culture/vladimir-mashkov-rasskazal-senatoram-ob-osnovakh-uspekha.html\n"
          ]
        },
        {
          "output_type": "stream",
          "name": "stderr",
          "text": [
            "ERROR:newsplease.crawler.simple_crawler:not a 200 response: 403\n"
          ]
        },
        {
          "output_type": "stream",
          "name": "stdout",
          "text": [
            "Warning: Could not extract article for URL: https://www.pnp.ru/social/yurlicam-predlagayut-dat-pravo-iniciirovat-eksperimentalnyy-rezhim-pri-reorganizacii.html\n"
          ]
        },
        {
          "output_type": "stream",
          "name": "stderr",
          "text": [
            "ERROR:newsplease.crawler.simple_crawler:connection/timeout error: https://orenburzhie.ru/news/dve-tysyachi-par-obuvi-konfiskovano-v-orenburgskix-magazinax-posle-proverki-rospotrebnadzora/ HTTPSConnectionPool(host='orenburzhie.ru', port=443): Max retries exceeded with url: /news/dve-tysyachi-par-obuvi-konfiskovano-v-orenburgskix-magazinax-posle-proverki-rospotrebnadzora/ (Caused by ConnectTimeoutError(<urllib3.connection.HTTPSConnection object at 0x7963fff3bf80>, 'Connection to orenburzhie.ru timed out. (connect timeout=None)'))\n"
          ]
        },
        {
          "output_type": "stream",
          "name": "stdout",
          "text": [
            "Warning: Could not extract article for URL: https://orenburzhie.ru/news/dve-tysyachi-par-obuvi-konfiskovano-v-orenburgskix-magazinax-posle-proverki-rospotrebnadzora/\n"
          ]
        },
        {
          "output_type": "stream",
          "name": "stderr",
          "text": [
            "ERROR:newsplease.crawler.simple_crawler:connection/timeout error: https://www.sovsibir.ru/news/178890 HTTPSConnectionPool(host='www.sovsibir.ru', port=443): Max retries exceeded with url: /news/178890 (Caused by ConnectTimeoutError(<urllib3.connection.HTTPSConnection object at 0x7963f78d9c10>, 'Connection to www.sovsibir.ru timed out. (connect timeout=None)'))\n"
          ]
        },
        {
          "output_type": "stream",
          "name": "stdout",
          "text": [
            "Warning: Could not extract article for URL: https://www.sovsibir.ru/news/178890\n"
          ]
        },
        {
          "output_type": "stream",
          "name": "stderr",
          "text": [
            "WARNING:newspaper.extractors.image_extractor:error while fetching: https://saint-petersburg.ru/storage/wp-content/uploads/2024/06/photo_2024-05-17_10-47-44.jpg__0_0x0.jpg refer: ://\n",
            "WARNING:newspaper.extractors.image_extractor:error while fetching: https://saint-petersburg.ru/storage/wp-content/uploads/2024/06/photo_2024-05-17_10-47-44.jpg__600_16x9.jpg refer: ://\n",
            "WARNING:newspaper.extractors.image_extractor:error while fetching: https://saint-petersburg.ru/storage/wp-content/uploads/2024/12/medicalert-uk-9onppw9mlcy-unsplash-scaled.jpg__600_0x0.jpg refer: ://\n",
            "WARNING:newspaper.extractors.image_extractor:error while fetching: https://saint-petersburg.ru/storage/wp-content/uploads/2025/05/person-white-care-medicine-health-laboratory-917211-pxhere.com_-scaled.jpg__100_1x1.jpg refer: ://\n",
            "WARNING:newspaper.extractors.image_extractor:error while fetching: https://saint-petersburg.ru/storage/wp-content/uploads/2024/02/floor-interior-home-tourist-travel-ceiling-487768-pxhere.com_-scaled.jpg__100_1x1.jpg refer: ://\n",
            "WARNING:newspaper.extractors.image_extractor:error while fetching: https://saint-petersburg.ru/storage/wp-content/uploads/2024/02/money-paper-cash-bank-currency-crisis-553728-pxhere.com-1.jpg__100_1x1.jpg refer: ://\n",
            "WARNING:newspaper.extractors.image_extractor:error while fetching: https://saint-petersburg.ru/storage/wp-content/uploads/2024/10/photo_2024-07-31_17-36-39.jpg__100_1x1.jpg refer: ://\n",
            "ERROR:newsplease.crawler.simple_crawler:not a 200 response: 404\n"
          ]
        },
        {
          "output_type": "stream",
          "name": "stdout",
          "text": [
            "Warning: Could not extract article for URL: https://izvmor.ru/novosti-partnerov/mezhdunarodnaya-konferencziya-po-iskusstvennomu-intellektu-i-mashinnomu-obucheniyu-ai-journey-projdyot-11-13-dekabrya/\n"
          ]
        },
        {
          "output_type": "stream",
          "name": "stderr",
          "text": [
            "ERROR:newsplease.crawler.simple_crawler:not a 200 response: 404\n"
          ]
        },
        {
          "output_type": "stream",
          "name": "stdout",
          "text": [
            "Warning: Could not extract article for URL: https://rg.ru/2024/10/09/aleksandr-egorov-kak-internet-stal-biznesom-prinosiashchim-trilliony-rublej.html\n"
          ]
        },
        {
          "output_type": "stream",
          "name": "stderr",
          "text": [
            "WARNING:newspaper.extractors.image_extractor:error while fetching: https://saint-petersburg.ru/storage/wp-content/uploads/2024/01/african-african-american-african-descent-afro-american-analyzing-1447101-pxhere.com_.jpg__0_0x0.jpg refer: ://\n",
            "WARNING:newspaper.extractors.image_extractor:error while fetching: https://saint-petersburg.ru/storage/wp-content/uploads/2024/01/african-african-american-african-descent-afro-american-analyzing-1447101-pxhere.com_.jpg__600_16x9.jpg refer: ://\n",
            "WARNING:newspaper.extractors.image_extractor:error while fetching: https://saint-petersburg.ru/storage/wp-content/uploads/2024/12/medicalert-uk-9onppw9mlcy-unsplash-scaled.jpg__600_0x0.jpg refer: ://\n",
            "WARNING:newspaper.extractors.image_extractor:error while fetching: https://saint-petersburg.ru/storage/wp-content/uploads/2025/05/person-white-care-medicine-health-laboratory-917211-pxhere.com_-scaled.jpg__100_1x1.jpg refer: ://\n",
            "WARNING:newspaper.extractors.image_extractor:error while fetching: https://saint-petersburg.ru/storage/wp-content/uploads/2024/02/floor-interior-home-tourist-travel-ceiling-487768-pxhere.com_-scaled.jpg__100_1x1.jpg refer: ://\n",
            "WARNING:newspaper.extractors.image_extractor:error while fetching: https://saint-petersburg.ru/storage/wp-content/uploads/2024/02/money-paper-cash-bank-currency-crisis-553728-pxhere.com-1.jpg__100_1x1.jpg refer: ://\n",
            "WARNING:newspaper.extractors.image_extractor:error while fetching: https://saint-petersburg.ru/storage/wp-content/uploads/2024/10/photo_2024-07-31_17-36-39.jpg__100_1x1.jpg refer: ://\n",
            "ERROR:newsplease.crawler.simple_crawler:not a 200 response: 404\n"
          ]
        },
        {
          "output_type": "stream",
          "name": "stdout",
          "text": [
            "Warning: Could not extract article for URL: https://www.avtoradio.ru/news/uid/463216\n"
          ]
        },
        {
          "output_type": "stream",
          "name": "stderr",
          "text": [
            "ERROR:newsplease.crawler.simple_crawler:not a 200 response: 404\n"
          ]
        },
        {
          "output_type": "stream",
          "name": "stdout",
          "text": [
            "Warning: Could not extract article for URL: https://www.rzn.info/business/news/opros-vtb-qr-i-sbp-vytesnyat-bankovskie-karty-i-nalichnye-3489.html\n"
          ]
        },
        {
          "output_type": "stream",
          "name": "stderr",
          "text": [
            "ERROR:newsplease.crawler.simple_crawler:connection/timeout error: https://orenburzhie.ru/news/obyavleny-itogi-xiii-konkursa-vmeste-v-cifrovoe-budushhee/ HTTPSConnectionPool(host='orenburzhie.ru', port=443): Max retries exceeded with url: /news/obyavleny-itogi-xiii-konkursa-vmeste-v-cifrovoe-budushhee/ (Caused by ConnectTimeoutError(<urllib3.connection.HTTPSConnection object at 0x7963f764ab40>, 'Connection to orenburzhie.ru timed out. (connect timeout=None)'))\n"
          ]
        },
        {
          "output_type": "stream",
          "name": "stdout",
          "text": [
            "Warning: Could not extract article for URL: https://orenburzhie.ru/news/obyavleny-itogi-xiii-konkursa-vmeste-v-cifrovoe-budushhee/\n"
          ]
        },
        {
          "output_type": "stream",
          "name": "stderr",
          "text": [
            "WARNING:newspaper.extractors.image_extractor:error while fetching: https://saint-petersburg.ru/storage/wp-content/uploads/2024/11/altumcode-dc6pb2jdaqs-unsplash-scaled.jpg__0_0x0.jpg refer: ://\n",
            "WARNING:newspaper.extractors.image_extractor:error while fetching: https://saint-petersburg.ru/storage/wp-content/uploads/2024/11/altumcode-dc6pb2jdaqs-unsplash-scaled.jpg__600_16x9.jpg refer: ://\n",
            "WARNING:newspaper.extractors.image_extractor:error while fetching: https://saint-petersburg.ru/storage/wp-content/uploads/2024/12/medicalert-uk-9onppw9mlcy-unsplash-scaled.jpg__600_0x0.jpg refer: ://\n",
            "WARNING:newspaper.extractors.image_extractor:error while fetching: https://saint-petersburg.ru/storage/wp-content/uploads/2025/05/person-white-care-medicine-health-laboratory-917211-pxhere.com_-scaled.jpg__100_1x1.jpg refer: ://\n",
            "WARNING:newspaper.extractors.image_extractor:error while fetching: https://saint-petersburg.ru/storage/wp-content/uploads/2024/02/floor-interior-home-tourist-travel-ceiling-487768-pxhere.com_-scaled.jpg__100_1x1.jpg refer: ://\n",
            "WARNING:newspaper.extractors.image_extractor:error while fetching: https://saint-petersburg.ru/storage/wp-content/uploads/2024/02/money-paper-cash-bank-currency-crisis-553728-pxhere.com-1.jpg__100_1x1.jpg refer: ://\n",
            "WARNING:newspaper.extractors.image_extractor:error while fetching: https://saint-petersburg.ru/storage/wp-content/uploads/2024/10/photo_2024-07-31_17-36-39.jpg__100_1x1.jpg refer: ://\n",
            "ERROR:newsplease.crawler.simple_crawler:connection/timeout error: https://www.tvc.ru/news/315054 HTTPSConnectionPool(host='www.tvc.ru', port=443): Max retries exceeded with url: /news/315054 (Caused by ConnectTimeoutError(<urllib3.connection.HTTPSConnection object at 0x7963f71f8ce0>, 'Connection to www.tvc.ru timed out. (connect timeout=None)'))\n"
          ]
        },
        {
          "output_type": "stream",
          "name": "stdout",
          "text": [
            "Warning: Could not extract article for URL: https://www.tvc.ru/news/315054\n"
          ]
        },
        {
          "output_type": "stream",
          "name": "stderr",
          "text": [
            "ERROR:newsplease.crawler.simple_crawler:not a 200 response: 404\n"
          ]
        },
        {
          "output_type": "stream",
          "name": "stdout",
          "text": [
            "Warning: Could not extract article for URL: https://www.avtoradio.ru/news/uid/463227\n"
          ]
        },
        {
          "output_type": "stream",
          "name": "stderr",
          "text": [
            "WARNING:newspaper.extractors.image_extractor:error while fetching: https://saint-petersburg.ru/storage/wp-content/uploads/2024/11/notebook-writing-watch-work-hand-finger-12-pxhere.com_-scaled.jpg__0_0x0.jpg refer: ://\n",
            "WARNING:newspaper.extractors.image_extractor:error while fetching: https://saint-petersburg.ru/storage/wp-content/uploads/2024/11/notebook-writing-watch-work-hand-finger-12-pxhere.com_-scaled.jpg__600_16x9.jpg refer: ://\n",
            "WARNING:newspaper.extractors.image_extractor:error while fetching: https://saint-petersburg.ru/storage/wp-content/uploads/2024/12/medicalert-uk-9onppw9mlcy-unsplash-scaled.jpg__600_0x0.jpg refer: ://\n",
            "WARNING:newspaper.extractors.image_extractor:error while fetching: https://saint-petersburg.ru/storage/wp-content/uploads/2025/05/person-white-care-medicine-health-laboratory-917211-pxhere.com_-scaled.jpg__100_1x1.jpg refer: ://\n",
            "WARNING:newspaper.extractors.image_extractor:error while fetching: https://saint-petersburg.ru/storage/wp-content/uploads/2024/02/floor-interior-home-tourist-travel-ceiling-487768-pxhere.com_-scaled.jpg__100_1x1.jpg refer: ://\n",
            "WARNING:newspaper.extractors.image_extractor:error while fetching: https://saint-petersburg.ru/storage/wp-content/uploads/2024/02/money-paper-cash-bank-currency-crisis-553728-pxhere.com-1.jpg__100_1x1.jpg refer: ://\n",
            "WARNING:newspaper.extractors.image_extractor:error while fetching: https://saint-petersburg.ru/storage/wp-content/uploads/2024/10/photo_2024-07-31_17-36-39.jpg__100_1x1.jpg refer: ://\n",
            "WARNING:newspaper.extractors.image_extractor:error while fetching: https://www.apn.ru/uploads/pictures/logo.gif refer: ://\n",
            "WARNING:newspaper.extractors.image_extractor:error while fetching: https://www.apn.ru/uploads/pictures/spacer.gif refer: ://\n",
            "WARNING:newspaper.extractors.image_extractor:error while fetching: https://www.apn.ru/uploads/pictures/spacer.gif refer: ://\n",
            "WARNING:newspaper.extractors.image_extractor:error while fetching: https://www.apn.ru/uploads/pictures/spacer.gif refer: ://\n",
            "WARNING:newspaper.extractors.image_extractor:error while fetching: https://www.apn.ru/uploads/pictures/spacer.gif refer: ://\n",
            "WARNING:newspaper.extractors.image_extractor:error while fetching: https://www.apn.ru/uploads/pictures/spacer.gif refer: ://\n",
            "WARNING:newspaper.extractors.image_extractor:error while fetching: https://www.apn.ru/uploads/pictures/spacer.gif refer: ://\n",
            "WARNING:newspaper.extractors.image_extractor:error while fetching: https://www.apn.ru/uploads/pictures/spacer.gif refer: ://\n",
            "WARNING:newspaper.extractors.image_extractor:error while fetching: https://www.apn.ru/uploads/posts/2024-09/1725704064_mask.png refer: ://\n",
            "WARNING:newspaper.extractors.image_extractor:error while fetching: https://www.apn.ru/uploads/pictures/spacer.gif refer: ://\n",
            "WARNING:newspaper.extractors.image_extractor:error while fetching: https://www.apn.ru/uploads/pictures/spacer.gif refer: ://\n",
            "WARNING:newspaper.extractors.image_extractor:error while fetching: https://www.apn.ru/uploads/pictures/spacer.gif refer: ://\n",
            "WARNING:newspaper.extractors.image_extractor:error while fetching: https://www.apn.ru/uploads/pictures/spacer.gif refer: ://\n",
            "WARNING:newspaper.extractors.image_extractor:error while fetching: https://www.apn.ru/uploads/pictures/spacer.gif refer: ://\n",
            "WARNING:newspaper.extractors.image_extractor:error while fetching: https://www.apn.ru/uploads/pictures/spacer.gif refer: ://\n",
            "WARNING:newspaper.extractors.image_extractor:error while fetching: https://www.apn.ru/uploads/pictures/spacer.gif refer: ://\n"
          ]
        },
        {
          "output_type": "stream",
          "name": "stdout",
          "text": [
            "Warning: Timeout processing URL: https://www.tvc.ru/news/309179\n"
          ]
        },
        {
          "output_type": "stream",
          "name": "stderr",
          "text": [
            "ERROR:newsplease.crawler.simple_crawler:connection/timeout error: https://www.tvc.ru/news/306451 HTTPSConnectionPool(host='www.tvc.ru', port=443): Max retries exceeded with url: /news/306451 (Caused by ConnectTimeoutError(<urllib3.connection.HTTPSConnection object at 0x7963f6f85c70>, 'Connection to www.tvc.ru timed out. (connect timeout=None)'))\n"
          ]
        },
        {
          "output_type": "stream",
          "name": "stdout",
          "text": [
            "Warning: Could not extract article for URL: https://www.tvc.ru/news/306451\n"
          ]
        },
        {
          "output_type": "stream",
          "name": "stderr",
          "text": [
            "WARNING:newspaper.extractors.image_extractor:error while fetching: https://www.apn.ru/uploads/pictures/logo.gif refer: ://\n",
            "WARNING:newspaper.extractors.image_extractor:error while fetching: https://www.apn.ru/uploads/pictures/spacer.gif refer: ://\n",
            "WARNING:newspaper.extractors.image_extractor:error while fetching: https://www.apn.ru/uploads/pictures/spacer.gif refer: ://\n",
            "WARNING:newspaper.extractors.image_extractor:error while fetching: https://www.apn.ru/uploads/pictures/spacer.gif refer: ://\n",
            "WARNING:newspaper.extractors.image_extractor:error while fetching: https://www.apn.ru/uploads/pictures/spacer.gif refer: ://\n",
            "WARNING:newspaper.extractors.image_extractor:error while fetching: https://www.apn.ru/uploads/pictures/spacer.gif refer: ://\n",
            "WARNING:newspaper.extractors.image_extractor:error while fetching: https://www.apn.ru/uploads/pictures/spacer.gif refer: ://\n",
            "WARNING:newspaper.extractors.image_extractor:error while fetching: https://www.apn.ru/uploads/pictures/spacer.gif refer: ://\n",
            "ERROR:newsplease.crawler.simple_crawler:connection/timeout error: https://www.tvc.ru/news/306231 HTTPSConnectionPool(host='www.tvc.ru', port=443): Max retries exceeded with url: /news/306231 (Caused by ConnectTimeoutError(<urllib3.connection.HTTPSConnection object at 0x7963f6819310>, 'Connection to www.tvc.ru timed out. (connect timeout=None)'))\n"
          ]
        }
      ]
    },
    {
      "cell_type": "code",
      "execution_count": null,
      "metadata": {
        "colab": {
          "base_uri": "https://localhost:8080/",
          "height": 1000
        },
        "id": "1Ii28wREcUU4",
        "outputId": "fa061264-7bee-4408-95d0-f597df44e92a"
      },
      "outputs": [
        {
          "output_type": "stream",
          "name": "stderr",
          "text": [
            "ERROR:newsplease.crawler.simple_crawler:not a 200 response: 404\n"
          ]
        },
        {
          "output_type": "stream",
          "name": "stdout",
          "text": [
            "Error processing URL (https://izvmor.ru/novosti-partnerov/sber-otkryl-priyom-zayavok-na-sorevnovanie-ai-journey-contest-s-prizovym-fondom-85-mln-rublej/): 'dict' object has no attribute 'title'\n"
          ]
        },
        {
          "output_type": "stream",
          "name": "stderr",
          "text": [
            "ERROR:newsplease.crawler.simple_crawler:not a 200 response: 404\n"
          ]
        },
        {
          "output_type": "stream",
          "name": "stdout",
          "text": [
            "Error processing URL (https://kamchatka.aif.ru/society/dushevno-i-po-delu-bank-psb-na-kamchatke-delaet-stavku-na-zhivoe-obshchenie?erid=LjN8KQZxa): 'dict' object has no attribute 'title'\n"
          ]
        },
        {
          "output_type": "stream",
          "name": "stderr",
          "text": [
            "WARNING:newspaper.extractors.image_extractor:error while fetching: https://www.apn.ru/uploads/pictures/logo.gif refer: ://\n",
            "WARNING:newspaper.extractors.image_extractor:error while fetching: https://www.apn.ru/uploads/pictures/spacer.gif refer: ://\n",
            "WARNING:newspaper.extractors.image_extractor:error while fetching: https://www.apn.ru/uploads/pictures/spacer.gif refer: ://\n",
            "WARNING:newspaper.extractors.image_extractor:error while fetching: https://www.apn.ru/uploads/pictures/spacer.gif refer: ://\n",
            "WARNING:newspaper.extractors.image_extractor:error while fetching: https://www.apn.ru/uploads/pictures/spacer.gif refer: ://\n",
            "WARNING:newspaper.extractors.image_extractor:error while fetching: https://www.apn.ru/uploads/pictures/spacer.gif refer: ://\n",
            "WARNING:newspaper.extractors.image_extractor:error while fetching: https://www.apn.ru/uploads/pictures/spacer.gif refer: ://\n",
            "WARNING:newspaper.extractors.image_extractor:error while fetching: https://www.apn.ru/uploads/pictures/spacer.gif refer: ://\n",
            "ERROR:newsplease.crawler.simple_crawler:not a 200 response: 404\n"
          ]
        },
        {
          "output_type": "stream",
          "name": "stdout",
          "text": [
            "Error processing URL (https://www.avtoradio.ru/news/uid/463278): 'dict' object has no attribute 'title'\n"
          ]
        },
        {
          "output_type": "stream",
          "name": "stderr",
          "text": [
            "WARNING:newspaper.extractors.image_extractor:error while fetching: https://www.apn.ru/uploads/pictures/logo.gif refer: ://\n",
            "WARNING:newspaper.extractors.image_extractor:error while fetching: https://www.apn.ru/uploads/pictures/spacer.gif refer: ://\n",
            "WARNING:newspaper.extractors.image_extractor:error while fetching: https://www.apn.ru/uploads/pictures/spacer.gif refer: ://\n",
            "WARNING:newspaper.extractors.image_extractor:error while fetching: https://www.apn.ru/uploads/pictures/spacer.gif refer: ://\n",
            "WARNING:newspaper.extractors.image_extractor:error while fetching: https://www.apn.ru/uploads/pictures/spacer.gif refer: ://\n",
            "WARNING:newspaper.extractors.image_extractor:error while fetching: https://www.apn.ru/uploads/pictures/spacer.gif refer: ://\n",
            "WARNING:newspaper.extractors.image_extractor:error while fetching: https://www.apn.ru/uploads/pictures/spacer.gif refer: ://\n",
            "WARNING:newspaper.extractors.image_extractor:error while fetching: https://www.apn.ru/uploads/pictures/spacer.gif refer: ://\n",
            "ERROR:newsplease.crawler.simple_crawler:not a 200 response: 404\n"
          ]
        },
        {
          "output_type": "stream",
          "name": "stdout",
          "text": [
            "Error processing URL (https://mkset.ru/news/2024-12-24/novyy-metod-diagnostiki-raka-grudi-otkryvaet-novye-vozmozhnosti-lecheniya-5283516): 'dict' object has no attribute 'title'\n"
          ]
        },
        {
          "output_type": "stream",
          "name": "stderr",
          "text": [
            "ERROR:newsplease.crawler.simple_crawler:not a 200 response: 404\n"
          ]
        },
        {
          "output_type": "stream",
          "name": "stdout",
          "text": [
            "Error processing URL (https://www.avtoradio.ru/news/uid/463298): 'dict' object has no attribute 'title'\n"
          ]
        },
        {
          "output_type": "stream",
          "name": "stderr",
          "text": [
            "WARNING:newspaper.extractors.image_extractor:error while fetching: https://www.apn.ru/uploads/posts/2025-05/1748592237_4a73afb7479d4a81acbb51a5724f4d72.jpg refer: ://\n",
            "WARNING:newspaper.extractors.image_extractor:error while fetching: https://www.apn.ru/uploads/pictures/spacer.gif refer: ://\n",
            "WARNING:newspaper.extractors.image_extractor:error while fetching: https://www.apn.ru/uploads/pictures/spacer.gif refer: ://\n",
            "WARNING:newspaper.extractors.image_extractor:error while fetching: https://www.apn.ru/uploads/pictures/spacer.gif refer: ://\n",
            "WARNING:newspaper.extractors.image_extractor:error while fetching: https://www.apn.ru/uploads/pictures/spacer.gif refer: ://\n",
            "WARNING:newspaper.extractors.image_extractor:error while fetching: https://www.apn.ru/uploads/pictures/spacer.gif refer: ://\n",
            "WARNING:newspaper.extractors.image_extractor:error while fetching: https://www.apn.ru/uploads/pictures/spacer.gif refer: ://\n",
            "WARNING:newspaper.extractors.image_extractor:error while fetching: https://www.apn.ru/uploads/pictures/spacer.gif refer: ://\n",
            "ERROR:newsplease.crawler.simple_crawler:not a 200 response: 504\n"
          ]
        },
        {
          "output_type": "stream",
          "name": "stdout",
          "text": [
            "Error processing URL (https://oblgazeta.ru/society/education/2024/10/67379/): 'dict' object has no attribute 'title'\n"
          ]
        },
        {
          "output_type": "stream",
          "name": "stderr",
          "text": [
            "ERROR:newsplease.crawler.simple_crawler:not a 200 response: 502\n"
          ]
        },
        {
          "output_type": "stream",
          "name": "stdout",
          "text": [
            "Error processing URL (https://oblgazeta.ru/industry-and-economy/economy/2024/07/56487/): 'dict' object has no attribute 'title'\n"
          ]
        },
        {
          "output_type": "stream",
          "name": "stderr",
          "text": [
            "ERROR:newsplease.crawler.simple_crawler:not a 200 response: 502\n"
          ]
        },
        {
          "output_type": "stream",
          "name": "stdout",
          "text": [
            "Error processing URL (https://oblgazeta.ru/pressreleases/2025/05/99425/): 'dict' object has no attribute 'title'\n"
          ]
        },
        {
          "output_type": "error",
          "ename": "KeyboardInterrupt",
          "evalue": "",
          "traceback": [
            "\u001b[0;31m---------------------------------------------------------------------------\u001b[0m",
            "\u001b[0;31mKeyboardInterrupt\u001b[0m                         Traceback (most recent call last)",
            "\u001b[0;32m/tmp/ipython-input-1428936548.py\u001b[0m in \u001b[0;36m<cell line: 0>\u001b[0;34m()\u001b[0m\n\u001b[0;32m----> 1\u001b[0;31m \u001b[0mdf_updated\u001b[0m \u001b[0;34m=\u001b[0m \u001b[0mprocess_csv_with_newsplease\u001b[0m\u001b[0;34m(\u001b[0m\u001b[0mdf\u001b[0m\u001b[0;34m,\u001b[0m \u001b[0;34m\"url\"\u001b[0m\u001b[0;34m,\u001b[0m \u001b[0;34m\"artificial_intelligence_2024-06-01_2025-06-01_newsplease_mediacloud.csv\"\u001b[0m\u001b[0;34m)\u001b[0m\u001b[0;34m\u001b[0m\u001b[0;34m\u001b[0m\u001b[0m\n\u001b[0m",
            "\u001b[0;32m/tmp/ipython-input-1050224391.py\u001b[0m in \u001b[0;36mprocess_csv_with_newsplease\u001b[0;34m(input_df, url_column, output_csv_path)\u001b[0m\n\u001b[1;32m     53\u001b[0m         \u001b[0;32mtry\u001b[0m\u001b[0;34m:\u001b[0m\u001b[0;34m\u001b[0m\u001b[0;34m\u001b[0m\u001b[0m\n\u001b[1;32m     54\u001b[0m             \u001b[0;31m# Fetch article data using news-please\u001b[0m\u001b[0;34m\u001b[0m\u001b[0;34m\u001b[0m\u001b[0m\n\u001b[0;32m---> 55\u001b[0;31m             \u001b[0marticle\u001b[0m \u001b[0;34m=\u001b[0m \u001b[0mNewsPlease\u001b[0m\u001b[0;34m.\u001b[0m\u001b[0mfrom_url\u001b[0m\u001b[0;34m(\u001b[0m\u001b[0murl\u001b[0m\u001b[0;34m)\u001b[0m\u001b[0;34m\u001b[0m\u001b[0;34m\u001b[0m\u001b[0m\n\u001b[0m\u001b[1;32m     56\u001b[0m \u001b[0;34m\u001b[0m\u001b[0m\n\u001b[1;32m     57\u001b[0m             \u001b[0;31m# If news-please fails or returns None, skip\u001b[0m\u001b[0;34m\u001b[0m\u001b[0;34m\u001b[0m\u001b[0m\n",
            "\u001b[0;32m/usr/local/lib/python3.12/dist-packages/newsplease/__init__.py\u001b[0m in \u001b[0;36mfrom_url\u001b[0;34m(url, request_args, fetch_images)\u001b[0m\n\u001b[1;32m    123\u001b[0m         \u001b[0;34m:\u001b[0m\u001b[0mrtype\u001b[0m\u001b[0;34m:\u001b[0m \u001b[0mNewsArticle\u001b[0m\u001b[0;34m,\u001b[0m \u001b[0;32mNone\u001b[0m\u001b[0;34m\u001b[0m\u001b[0;34m\u001b[0m\u001b[0m\n\u001b[1;32m    124\u001b[0m         \"\"\"\n\u001b[0;32m--> 125\u001b[0;31m         \u001b[0marticles\u001b[0m \u001b[0;34m=\u001b[0m \u001b[0mNewsPlease\u001b[0m\u001b[0;34m.\u001b[0m\u001b[0mfrom_urls\u001b[0m\u001b[0;34m(\u001b[0m\u001b[0;34m[\u001b[0m\u001b[0murl\u001b[0m\u001b[0;34m]\u001b[0m\u001b[0;34m,\u001b[0m \u001b[0mrequest_args\u001b[0m\u001b[0;34m=\u001b[0m\u001b[0mrequest_args\u001b[0m\u001b[0;34m,\u001b[0m \u001b[0mfetch_images\u001b[0m\u001b[0;34m=\u001b[0m\u001b[0mfetch_images\u001b[0m\u001b[0;34m)\u001b[0m\u001b[0;34m\u001b[0m\u001b[0;34m\u001b[0m\u001b[0m\n\u001b[0m\u001b[1;32m    126\u001b[0m         \u001b[0;32mif\u001b[0m \u001b[0murl\u001b[0m \u001b[0;32min\u001b[0m \u001b[0marticles\u001b[0m\u001b[0;34m.\u001b[0m\u001b[0mkeys\u001b[0m\u001b[0;34m(\u001b[0m\u001b[0;34m)\u001b[0m\u001b[0;34m:\u001b[0m\u001b[0;34m\u001b[0m\u001b[0;34m\u001b[0m\u001b[0m\n\u001b[1;32m    127\u001b[0m             \u001b[0;32mreturn\u001b[0m \u001b[0marticles\u001b[0m\u001b[0;34m[\u001b[0m\u001b[0murl\u001b[0m\u001b[0;34m]\u001b[0m\u001b[0;34m\u001b[0m\u001b[0;34m\u001b[0m\u001b[0m\n",
            "\u001b[0;32m/usr/local/lib/python3.12/dist-packages/newsplease/__init__.py\u001b[0m in \u001b[0;36mfrom_urls\u001b[0;34m(urls, request_args, fetch_images)\u001b[0m\n\u001b[1;32m    147\u001b[0m         \u001b[0;32melif\u001b[0m \u001b[0mlen\u001b[0m\u001b[0;34m(\u001b[0m\u001b[0murls\u001b[0m\u001b[0;34m)\u001b[0m \u001b[0;34m==\u001b[0m \u001b[0;36m1\u001b[0m\u001b[0;34m:\u001b[0m\u001b[0;34m\u001b[0m\u001b[0;34m\u001b[0m\u001b[0m\n\u001b[1;32m    148\u001b[0m             \u001b[0murl\u001b[0m \u001b[0;34m=\u001b[0m \u001b[0murls\u001b[0m\u001b[0;34m[\u001b[0m\u001b[0;36m0\u001b[0m\u001b[0;34m]\u001b[0m\u001b[0;34m\u001b[0m\u001b[0;34m\u001b[0m\u001b[0m\n\u001b[0;32m--> 149\u001b[0;31m             \u001b[0mhtml\u001b[0m \u001b[0;34m=\u001b[0m \u001b[0mSimpleCrawler\u001b[0m\u001b[0;34m.\u001b[0m\u001b[0mfetch_url\u001b[0m\u001b[0;34m(\u001b[0m\u001b[0murl\u001b[0m\u001b[0;34m,\u001b[0m \u001b[0mrequest_args\u001b[0m\u001b[0;34m=\u001b[0m\u001b[0mrequest_args\u001b[0m\u001b[0;34m)\u001b[0m\u001b[0;34m\u001b[0m\u001b[0;34m\u001b[0m\u001b[0m\n\u001b[0m\u001b[1;32m    150\u001b[0m             \u001b[0mresults\u001b[0m\u001b[0;34m[\u001b[0m\u001b[0murl\u001b[0m\u001b[0;34m]\u001b[0m \u001b[0;34m=\u001b[0m \u001b[0mNewsPlease\u001b[0m\u001b[0;34m.\u001b[0m\u001b[0mfrom_html\u001b[0m\u001b[0;34m(\u001b[0m\u001b[0mhtml\u001b[0m\u001b[0;34m,\u001b[0m \u001b[0murl\u001b[0m\u001b[0;34m,\u001b[0m \u001b[0mdownload_date\u001b[0m\u001b[0;34m,\u001b[0m \u001b[0mfetch_images\u001b[0m\u001b[0;34m)\u001b[0m\u001b[0;34m\u001b[0m\u001b[0;34m\u001b[0m\u001b[0m\n\u001b[1;32m    151\u001b[0m         \u001b[0;32melse\u001b[0m\u001b[0;34m:\u001b[0m\u001b[0;34m\u001b[0m\u001b[0;34m\u001b[0m\u001b[0m\n",
            "\u001b[0;32m/usr/local/lib/python3.12/dist-packages/newsplease/crawler/simple_crawler.py\u001b[0m in \u001b[0;36mfetch_url\u001b[0;34m(url, request_args)\u001b[0m\n\u001b[1;32m     36\u001b[0m         \u001b[0;34m:\u001b[0m\u001b[0;32mreturn\u001b[0m\u001b[0;34m:\u001b[0m\u001b[0;34m\u001b[0m\u001b[0;34m\u001b[0m\u001b[0m\n\u001b[1;32m     37\u001b[0m         \"\"\"\n\u001b[0;32m---> 38\u001b[0;31m         \u001b[0;32mreturn\u001b[0m \u001b[0mSimpleCrawler\u001b[0m\u001b[0;34m.\u001b[0m\u001b[0m_fetch_url\u001b[0m\u001b[0;34m(\u001b[0m\u001b[0murl\u001b[0m\u001b[0;34m,\u001b[0m \u001b[0;32mFalse\u001b[0m\u001b[0;34m,\u001b[0m \u001b[0mrequest_args\u001b[0m\u001b[0;34m=\u001b[0m\u001b[0mrequest_args\u001b[0m\u001b[0;34m)\u001b[0m\u001b[0;34m\u001b[0m\u001b[0;34m\u001b[0m\u001b[0m\n\u001b[0m\u001b[1;32m     39\u001b[0m \u001b[0;34m\u001b[0m\u001b[0m\n\u001b[1;32m     40\u001b[0m     \u001b[0;34m@\u001b[0m\u001b[0mstaticmethod\u001b[0m\u001b[0;34m\u001b[0m\u001b[0;34m\u001b[0m\u001b[0m\n",
            "\u001b[0;32m/usr/local/lib/python3.12/dist-packages/newsplease/crawler/simple_crawler.py\u001b[0m in \u001b[0;36m_fetch_url\u001b[0;34m(url, is_threaded, request_args)\u001b[0m\n\u001b[1;32m     57\u001b[0m             \u001b[0;31m# read by streaming chunks (stream=True, iter_content=xx)\u001b[0m\u001b[0;34m\u001b[0m\u001b[0;34m\u001b[0m\u001b[0m\n\u001b[1;32m     58\u001b[0m             \u001b[0;31m# so we can stop downloading as soon as MAX_FILE_SIZE is reached\u001b[0m\u001b[0;34m\u001b[0m\u001b[0;34m\u001b[0m\u001b[0m\n\u001b[0;32m---> 59\u001b[0;31m             response = requests.get(\n\u001b[0m\u001b[1;32m     60\u001b[0m                 url, verify=False, allow_redirects=True, **request_args)\n\u001b[1;32m     61\u001b[0m         \u001b[0;32mexcept\u001b[0m \u001b[0;34m(\u001b[0m\u001b[0mrequests\u001b[0m\u001b[0;34m.\u001b[0m\u001b[0mexceptions\u001b[0m\u001b[0;34m.\u001b[0m\u001b[0mMissingSchema\u001b[0m\u001b[0;34m,\u001b[0m \u001b[0mrequests\u001b[0m\u001b[0;34m.\u001b[0m\u001b[0mexceptions\u001b[0m\u001b[0;34m.\u001b[0m\u001b[0mInvalidURL\u001b[0m\u001b[0;34m)\u001b[0m\u001b[0;34m:\u001b[0m\u001b[0;34m\u001b[0m\u001b[0;34m\u001b[0m\u001b[0m\n",
            "\u001b[0;32m/usr/local/lib/python3.12/dist-packages/requests/api.py\u001b[0m in \u001b[0;36mget\u001b[0;34m(url, params, **kwargs)\u001b[0m\n\u001b[1;32m     71\u001b[0m     \"\"\"\n\u001b[1;32m     72\u001b[0m \u001b[0;34m\u001b[0m\u001b[0m\n\u001b[0;32m---> 73\u001b[0;31m     \u001b[0;32mreturn\u001b[0m \u001b[0mrequest\u001b[0m\u001b[0;34m(\u001b[0m\u001b[0;34m\"get\"\u001b[0m\u001b[0;34m,\u001b[0m \u001b[0murl\u001b[0m\u001b[0;34m,\u001b[0m \u001b[0mparams\u001b[0m\u001b[0;34m=\u001b[0m\u001b[0mparams\u001b[0m\u001b[0;34m,\u001b[0m \u001b[0;34m**\u001b[0m\u001b[0mkwargs\u001b[0m\u001b[0;34m)\u001b[0m\u001b[0;34m\u001b[0m\u001b[0;34m\u001b[0m\u001b[0m\n\u001b[0m\u001b[1;32m     74\u001b[0m \u001b[0;34m\u001b[0m\u001b[0m\n\u001b[1;32m     75\u001b[0m \u001b[0;34m\u001b[0m\u001b[0m\n",
            "\u001b[0;32m/usr/local/lib/python3.12/dist-packages/requests/api.py\u001b[0m in \u001b[0;36mrequest\u001b[0;34m(method, url, **kwargs)\u001b[0m\n\u001b[1;32m     57\u001b[0m     \u001b[0;31m# cases, and look like a memory leak in others.\u001b[0m\u001b[0;34m\u001b[0m\u001b[0;34m\u001b[0m\u001b[0m\n\u001b[1;32m     58\u001b[0m     \u001b[0;32mwith\u001b[0m \u001b[0msessions\u001b[0m\u001b[0;34m.\u001b[0m\u001b[0mSession\u001b[0m\u001b[0;34m(\u001b[0m\u001b[0;34m)\u001b[0m \u001b[0;32mas\u001b[0m \u001b[0msession\u001b[0m\u001b[0;34m:\u001b[0m\u001b[0;34m\u001b[0m\u001b[0;34m\u001b[0m\u001b[0m\n\u001b[0;32m---> 59\u001b[0;31m         \u001b[0;32mreturn\u001b[0m \u001b[0msession\u001b[0m\u001b[0;34m.\u001b[0m\u001b[0mrequest\u001b[0m\u001b[0;34m(\u001b[0m\u001b[0mmethod\u001b[0m\u001b[0;34m=\u001b[0m\u001b[0mmethod\u001b[0m\u001b[0;34m,\u001b[0m \u001b[0murl\u001b[0m\u001b[0;34m=\u001b[0m\u001b[0murl\u001b[0m\u001b[0;34m,\u001b[0m \u001b[0;34m**\u001b[0m\u001b[0mkwargs\u001b[0m\u001b[0;34m)\u001b[0m\u001b[0;34m\u001b[0m\u001b[0;34m\u001b[0m\u001b[0m\n\u001b[0m\u001b[1;32m     60\u001b[0m \u001b[0;34m\u001b[0m\u001b[0m\n\u001b[1;32m     61\u001b[0m \u001b[0;34m\u001b[0m\u001b[0m\n",
            "\u001b[0;32m/usr/local/lib/python3.12/dist-packages/requests/sessions.py\u001b[0m in \u001b[0;36mrequest\u001b[0;34m(self, method, url, params, data, headers, cookies, files, auth, timeout, allow_redirects, proxies, hooks, stream, verify, cert, json)\u001b[0m\n\u001b[1;32m    587\u001b[0m         }\n\u001b[1;32m    588\u001b[0m         \u001b[0msend_kwargs\u001b[0m\u001b[0;34m.\u001b[0m\u001b[0mupdate\u001b[0m\u001b[0;34m(\u001b[0m\u001b[0msettings\u001b[0m\u001b[0;34m)\u001b[0m\u001b[0;34m\u001b[0m\u001b[0;34m\u001b[0m\u001b[0m\n\u001b[0;32m--> 589\u001b[0;31m         \u001b[0mresp\u001b[0m \u001b[0;34m=\u001b[0m \u001b[0mself\u001b[0m\u001b[0;34m.\u001b[0m\u001b[0msend\u001b[0m\u001b[0;34m(\u001b[0m\u001b[0mprep\u001b[0m\u001b[0;34m,\u001b[0m \u001b[0;34m**\u001b[0m\u001b[0msend_kwargs\u001b[0m\u001b[0;34m)\u001b[0m\u001b[0;34m\u001b[0m\u001b[0;34m\u001b[0m\u001b[0m\n\u001b[0m\u001b[1;32m    590\u001b[0m \u001b[0;34m\u001b[0m\u001b[0m\n\u001b[1;32m    591\u001b[0m         \u001b[0;32mreturn\u001b[0m \u001b[0mresp\u001b[0m\u001b[0;34m\u001b[0m\u001b[0;34m\u001b[0m\u001b[0m\n",
            "\u001b[0;32m/usr/local/lib/python3.12/dist-packages/requests/sessions.py\u001b[0m in \u001b[0;36msend\u001b[0;34m(self, request, **kwargs)\u001b[0m\n\u001b[1;32m    701\u001b[0m \u001b[0;34m\u001b[0m\u001b[0m\n\u001b[1;32m    702\u001b[0m         \u001b[0;31m# Send the request\u001b[0m\u001b[0;34m\u001b[0m\u001b[0;34m\u001b[0m\u001b[0m\n\u001b[0;32m--> 703\u001b[0;31m         \u001b[0mr\u001b[0m \u001b[0;34m=\u001b[0m \u001b[0madapter\u001b[0m\u001b[0;34m.\u001b[0m\u001b[0msend\u001b[0m\u001b[0;34m(\u001b[0m\u001b[0mrequest\u001b[0m\u001b[0;34m,\u001b[0m \u001b[0;34m**\u001b[0m\u001b[0mkwargs\u001b[0m\u001b[0;34m)\u001b[0m\u001b[0;34m\u001b[0m\u001b[0;34m\u001b[0m\u001b[0m\n\u001b[0m\u001b[1;32m    704\u001b[0m \u001b[0;34m\u001b[0m\u001b[0m\n\u001b[1;32m    705\u001b[0m         \u001b[0;31m# Total elapsed time of the request (approximately)\u001b[0m\u001b[0;34m\u001b[0m\u001b[0;34m\u001b[0m\u001b[0m\n",
            "\u001b[0;32m/usr/local/lib/python3.12/dist-packages/requests/adapters.py\u001b[0m in \u001b[0;36msend\u001b[0;34m(self, request, stream, timeout, verify, cert, proxies)\u001b[0m\n\u001b[1;32m    665\u001b[0m \u001b[0;34m\u001b[0m\u001b[0m\n\u001b[1;32m    666\u001b[0m         \u001b[0;32mtry\u001b[0m\u001b[0;34m:\u001b[0m\u001b[0;34m\u001b[0m\u001b[0;34m\u001b[0m\u001b[0m\n\u001b[0;32m--> 667\u001b[0;31m             resp = conn.urlopen(\n\u001b[0m\u001b[1;32m    668\u001b[0m                 \u001b[0mmethod\u001b[0m\u001b[0;34m=\u001b[0m\u001b[0mrequest\u001b[0m\u001b[0;34m.\u001b[0m\u001b[0mmethod\u001b[0m\u001b[0;34m,\u001b[0m\u001b[0;34m\u001b[0m\u001b[0;34m\u001b[0m\u001b[0m\n\u001b[1;32m    669\u001b[0m                 \u001b[0murl\u001b[0m\u001b[0;34m=\u001b[0m\u001b[0murl\u001b[0m\u001b[0;34m,\u001b[0m\u001b[0;34m\u001b[0m\u001b[0;34m\u001b[0m\u001b[0m\n",
            "\u001b[0;32m/usr/local/lib/python3.12/dist-packages/urllib3/connectionpool.py\u001b[0m in \u001b[0;36murlopen\u001b[0;34m(self, method, url, body, headers, retries, redirect, assert_same_host, timeout, pool_timeout, release_conn, chunked, body_pos, preload_content, decode_content, **response_kw)\u001b[0m\n\u001b[1;32m    785\u001b[0m \u001b[0;34m\u001b[0m\u001b[0m\n\u001b[1;32m    786\u001b[0m             \u001b[0;31m# Make the request on the HTTPConnection object\u001b[0m\u001b[0;34m\u001b[0m\u001b[0;34m\u001b[0m\u001b[0m\n\u001b[0;32m--> 787\u001b[0;31m             response = self._make_request(\n\u001b[0m\u001b[1;32m    788\u001b[0m                 \u001b[0mconn\u001b[0m\u001b[0;34m,\u001b[0m\u001b[0;34m\u001b[0m\u001b[0;34m\u001b[0m\u001b[0m\n\u001b[1;32m    789\u001b[0m                 \u001b[0mmethod\u001b[0m\u001b[0;34m,\u001b[0m\u001b[0;34m\u001b[0m\u001b[0;34m\u001b[0m\u001b[0m\n",
            "\u001b[0;32m/usr/local/lib/python3.12/dist-packages/urllib3/connectionpool.py\u001b[0m in \u001b[0;36m_make_request\u001b[0;34m(self, conn, method, url, body, headers, retries, timeout, chunked, response_conn, preload_content, decode_content, enforce_content_length)\u001b[0m\n\u001b[1;32m    532\u001b[0m         \u001b[0;31m# Receive the response from the server\u001b[0m\u001b[0;34m\u001b[0m\u001b[0;34m\u001b[0m\u001b[0m\n\u001b[1;32m    533\u001b[0m         \u001b[0;32mtry\u001b[0m\u001b[0;34m:\u001b[0m\u001b[0;34m\u001b[0m\u001b[0;34m\u001b[0m\u001b[0m\n\u001b[0;32m--> 534\u001b[0;31m             \u001b[0mresponse\u001b[0m \u001b[0;34m=\u001b[0m \u001b[0mconn\u001b[0m\u001b[0;34m.\u001b[0m\u001b[0mgetresponse\u001b[0m\u001b[0;34m(\u001b[0m\u001b[0;34m)\u001b[0m\u001b[0;34m\u001b[0m\u001b[0;34m\u001b[0m\u001b[0m\n\u001b[0m\u001b[1;32m    535\u001b[0m         \u001b[0;32mexcept\u001b[0m \u001b[0;34m(\u001b[0m\u001b[0mBaseSSLError\u001b[0m\u001b[0;34m,\u001b[0m \u001b[0mOSError\u001b[0m\u001b[0;34m)\u001b[0m \u001b[0;32mas\u001b[0m \u001b[0me\u001b[0m\u001b[0;34m:\u001b[0m\u001b[0;34m\u001b[0m\u001b[0;34m\u001b[0m\u001b[0m\n\u001b[1;32m    536\u001b[0m             \u001b[0mself\u001b[0m\u001b[0;34m.\u001b[0m\u001b[0m_raise_timeout\u001b[0m\u001b[0;34m(\u001b[0m\u001b[0merr\u001b[0m\u001b[0;34m=\u001b[0m\u001b[0me\u001b[0m\u001b[0;34m,\u001b[0m \u001b[0murl\u001b[0m\u001b[0;34m=\u001b[0m\u001b[0murl\u001b[0m\u001b[0;34m,\u001b[0m \u001b[0mtimeout_value\u001b[0m\u001b[0;34m=\u001b[0m\u001b[0mread_timeout\u001b[0m\u001b[0;34m)\u001b[0m\u001b[0;34m\u001b[0m\u001b[0;34m\u001b[0m\u001b[0m\n",
            "\u001b[0;32m/usr/local/lib/python3.12/dist-packages/urllib3/connection.py\u001b[0m in \u001b[0;36mgetresponse\u001b[0;34m(self)\u001b[0m\n\u001b[1;32m    563\u001b[0m \u001b[0;34m\u001b[0m\u001b[0m\n\u001b[1;32m    564\u001b[0m         \u001b[0;31m# Get the response from http.client.HTTPConnection\u001b[0m\u001b[0;34m\u001b[0m\u001b[0;34m\u001b[0m\u001b[0m\n\u001b[0;32m--> 565\u001b[0;31m         \u001b[0mhttplib_response\u001b[0m \u001b[0;34m=\u001b[0m \u001b[0msuper\u001b[0m\u001b[0;34m(\u001b[0m\u001b[0;34m)\u001b[0m\u001b[0;34m.\u001b[0m\u001b[0mgetresponse\u001b[0m\u001b[0;34m(\u001b[0m\u001b[0;34m)\u001b[0m\u001b[0;34m\u001b[0m\u001b[0;34m\u001b[0m\u001b[0m\n\u001b[0m\u001b[1;32m    566\u001b[0m \u001b[0;34m\u001b[0m\u001b[0m\n\u001b[1;32m    567\u001b[0m         \u001b[0;32mtry\u001b[0m\u001b[0;34m:\u001b[0m\u001b[0;34m\u001b[0m\u001b[0;34m\u001b[0m\u001b[0m\n",
            "\u001b[0;32m/usr/lib/python3.12/http/client.py\u001b[0m in \u001b[0;36mgetresponse\u001b[0;34m(self)\u001b[0m\n\u001b[1;32m   1428\u001b[0m         \u001b[0;32mtry\u001b[0m\u001b[0;34m:\u001b[0m\u001b[0;34m\u001b[0m\u001b[0;34m\u001b[0m\u001b[0m\n\u001b[1;32m   1429\u001b[0m             \u001b[0;32mtry\u001b[0m\u001b[0;34m:\u001b[0m\u001b[0;34m\u001b[0m\u001b[0;34m\u001b[0m\u001b[0m\n\u001b[0;32m-> 1430\u001b[0;31m                 \u001b[0mresponse\u001b[0m\u001b[0;34m.\u001b[0m\u001b[0mbegin\u001b[0m\u001b[0;34m(\u001b[0m\u001b[0;34m)\u001b[0m\u001b[0;34m\u001b[0m\u001b[0;34m\u001b[0m\u001b[0m\n\u001b[0m\u001b[1;32m   1431\u001b[0m             \u001b[0;32mexcept\u001b[0m \u001b[0mConnectionError\u001b[0m\u001b[0;34m:\u001b[0m\u001b[0;34m\u001b[0m\u001b[0;34m\u001b[0m\u001b[0m\n\u001b[1;32m   1432\u001b[0m                 \u001b[0mself\u001b[0m\u001b[0;34m.\u001b[0m\u001b[0mclose\u001b[0m\u001b[0;34m(\u001b[0m\u001b[0;34m)\u001b[0m\u001b[0;34m\u001b[0m\u001b[0;34m\u001b[0m\u001b[0m\n",
            "\u001b[0;32m/usr/lib/python3.12/http/client.py\u001b[0m in \u001b[0;36mbegin\u001b[0;34m(self)\u001b[0m\n\u001b[1;32m    329\u001b[0m         \u001b[0;31m# read until we get a non-100 response\u001b[0m\u001b[0;34m\u001b[0m\u001b[0;34m\u001b[0m\u001b[0m\n\u001b[1;32m    330\u001b[0m         \u001b[0;32mwhile\u001b[0m \u001b[0;32mTrue\u001b[0m\u001b[0;34m:\u001b[0m\u001b[0;34m\u001b[0m\u001b[0;34m\u001b[0m\u001b[0m\n\u001b[0;32m--> 331\u001b[0;31m             \u001b[0mversion\u001b[0m\u001b[0;34m,\u001b[0m \u001b[0mstatus\u001b[0m\u001b[0;34m,\u001b[0m \u001b[0mreason\u001b[0m \u001b[0;34m=\u001b[0m \u001b[0mself\u001b[0m\u001b[0;34m.\u001b[0m\u001b[0m_read_status\u001b[0m\u001b[0;34m(\u001b[0m\u001b[0;34m)\u001b[0m\u001b[0;34m\u001b[0m\u001b[0;34m\u001b[0m\u001b[0m\n\u001b[0m\u001b[1;32m    332\u001b[0m             \u001b[0;32mif\u001b[0m \u001b[0mstatus\u001b[0m \u001b[0;34m!=\u001b[0m \u001b[0mCONTINUE\u001b[0m\u001b[0;34m:\u001b[0m\u001b[0;34m\u001b[0m\u001b[0;34m\u001b[0m\u001b[0m\n\u001b[1;32m    333\u001b[0m                 \u001b[0;32mbreak\u001b[0m\u001b[0;34m\u001b[0m\u001b[0;34m\u001b[0m\u001b[0m\n",
            "\u001b[0;32m/usr/lib/python3.12/http/client.py\u001b[0m in \u001b[0;36m_read_status\u001b[0;34m(self)\u001b[0m\n\u001b[1;32m    290\u001b[0m \u001b[0;34m\u001b[0m\u001b[0m\n\u001b[1;32m    291\u001b[0m     \u001b[0;32mdef\u001b[0m \u001b[0m_read_status\u001b[0m\u001b[0;34m(\u001b[0m\u001b[0mself\u001b[0m\u001b[0;34m)\u001b[0m\u001b[0;34m:\u001b[0m\u001b[0;34m\u001b[0m\u001b[0;34m\u001b[0m\u001b[0m\n\u001b[0;32m--> 292\u001b[0;31m         \u001b[0mline\u001b[0m \u001b[0;34m=\u001b[0m \u001b[0mstr\u001b[0m\u001b[0;34m(\u001b[0m\u001b[0mself\u001b[0m\u001b[0;34m.\u001b[0m\u001b[0mfp\u001b[0m\u001b[0;34m.\u001b[0m\u001b[0mreadline\u001b[0m\u001b[0;34m(\u001b[0m\u001b[0m_MAXLINE\u001b[0m \u001b[0;34m+\u001b[0m \u001b[0;36m1\u001b[0m\u001b[0;34m)\u001b[0m\u001b[0;34m,\u001b[0m \u001b[0;34m\"iso-8859-1\"\u001b[0m\u001b[0;34m)\u001b[0m\u001b[0;34m\u001b[0m\u001b[0;34m\u001b[0m\u001b[0m\n\u001b[0m\u001b[1;32m    293\u001b[0m         \u001b[0;32mif\u001b[0m \u001b[0mlen\u001b[0m\u001b[0;34m(\u001b[0m\u001b[0mline\u001b[0m\u001b[0;34m)\u001b[0m \u001b[0;34m>\u001b[0m \u001b[0m_MAXLINE\u001b[0m\u001b[0;34m:\u001b[0m\u001b[0;34m\u001b[0m\u001b[0;34m\u001b[0m\u001b[0m\n\u001b[1;32m    294\u001b[0m             \u001b[0;32mraise\u001b[0m \u001b[0mLineTooLong\u001b[0m\u001b[0;34m(\u001b[0m\u001b[0;34m\"status line\"\u001b[0m\u001b[0;34m)\u001b[0m\u001b[0;34m\u001b[0m\u001b[0;34m\u001b[0m\u001b[0m\n",
            "\u001b[0;32m/usr/lib/python3.12/socket.py\u001b[0m in \u001b[0;36mreadinto\u001b[0;34m(self, b)\u001b[0m\n\u001b[1;32m    718\u001b[0m         \u001b[0;32mwhile\u001b[0m \u001b[0;32mTrue\u001b[0m\u001b[0;34m:\u001b[0m\u001b[0;34m\u001b[0m\u001b[0;34m\u001b[0m\u001b[0m\n\u001b[1;32m    719\u001b[0m             \u001b[0;32mtry\u001b[0m\u001b[0;34m:\u001b[0m\u001b[0;34m\u001b[0m\u001b[0;34m\u001b[0m\u001b[0m\n\u001b[0;32m--> 720\u001b[0;31m                 \u001b[0;32mreturn\u001b[0m \u001b[0mself\u001b[0m\u001b[0;34m.\u001b[0m\u001b[0m_sock\u001b[0m\u001b[0;34m.\u001b[0m\u001b[0mrecv_into\u001b[0m\u001b[0;34m(\u001b[0m\u001b[0mb\u001b[0m\u001b[0;34m)\u001b[0m\u001b[0;34m\u001b[0m\u001b[0;34m\u001b[0m\u001b[0m\n\u001b[0m\u001b[1;32m    721\u001b[0m             \u001b[0;32mexcept\u001b[0m \u001b[0mtimeout\u001b[0m\u001b[0;34m:\u001b[0m\u001b[0;34m\u001b[0m\u001b[0;34m\u001b[0m\u001b[0m\n\u001b[1;32m    722\u001b[0m                 \u001b[0mself\u001b[0m\u001b[0;34m.\u001b[0m\u001b[0m_timeout_occurred\u001b[0m \u001b[0;34m=\u001b[0m \u001b[0;32mTrue\u001b[0m\u001b[0;34m\u001b[0m\u001b[0;34m\u001b[0m\u001b[0m\n",
            "\u001b[0;32m/usr/lib/python3.12/ssl.py\u001b[0m in \u001b[0;36mrecv_into\u001b[0;34m(self, buffer, nbytes, flags)\u001b[0m\n\u001b[1;32m   1249\u001b[0m                   \u001b[0;34m\"non-zero flags not allowed in calls to recv_into() on %s\"\u001b[0m \u001b[0;34m%\u001b[0m\u001b[0;34m\u001b[0m\u001b[0;34m\u001b[0m\u001b[0m\n\u001b[1;32m   1250\u001b[0m                   self.__class__)\n\u001b[0;32m-> 1251\u001b[0;31m             \u001b[0;32mreturn\u001b[0m \u001b[0mself\u001b[0m\u001b[0;34m.\u001b[0m\u001b[0mread\u001b[0m\u001b[0;34m(\u001b[0m\u001b[0mnbytes\u001b[0m\u001b[0;34m,\u001b[0m \u001b[0mbuffer\u001b[0m\u001b[0;34m)\u001b[0m\u001b[0;34m\u001b[0m\u001b[0;34m\u001b[0m\u001b[0m\n\u001b[0m\u001b[1;32m   1252\u001b[0m         \u001b[0;32melse\u001b[0m\u001b[0;34m:\u001b[0m\u001b[0;34m\u001b[0m\u001b[0;34m\u001b[0m\u001b[0m\n\u001b[1;32m   1253\u001b[0m             \u001b[0;32mreturn\u001b[0m \u001b[0msuper\u001b[0m\u001b[0;34m(\u001b[0m\u001b[0;34m)\u001b[0m\u001b[0;34m.\u001b[0m\u001b[0mrecv_into\u001b[0m\u001b[0;34m(\u001b[0m\u001b[0mbuffer\u001b[0m\u001b[0;34m,\u001b[0m \u001b[0mnbytes\u001b[0m\u001b[0;34m,\u001b[0m \u001b[0mflags\u001b[0m\u001b[0;34m)\u001b[0m\u001b[0;34m\u001b[0m\u001b[0;34m\u001b[0m\u001b[0m\n",
            "\u001b[0;32m/usr/lib/python3.12/ssl.py\u001b[0m in \u001b[0;36mread\u001b[0;34m(self, len, buffer)\u001b[0m\n\u001b[1;32m   1101\u001b[0m         \u001b[0;32mtry\u001b[0m\u001b[0;34m:\u001b[0m\u001b[0;34m\u001b[0m\u001b[0;34m\u001b[0m\u001b[0m\n\u001b[1;32m   1102\u001b[0m             \u001b[0;32mif\u001b[0m \u001b[0mbuffer\u001b[0m \u001b[0;32mis\u001b[0m \u001b[0;32mnot\u001b[0m \u001b[0;32mNone\u001b[0m\u001b[0;34m:\u001b[0m\u001b[0;34m\u001b[0m\u001b[0;34m\u001b[0m\u001b[0m\n\u001b[0;32m-> 1103\u001b[0;31m                 \u001b[0;32mreturn\u001b[0m \u001b[0mself\u001b[0m\u001b[0;34m.\u001b[0m\u001b[0m_sslobj\u001b[0m\u001b[0;34m.\u001b[0m\u001b[0mread\u001b[0m\u001b[0;34m(\u001b[0m\u001b[0mlen\u001b[0m\u001b[0;34m,\u001b[0m \u001b[0mbuffer\u001b[0m\u001b[0;34m)\u001b[0m\u001b[0;34m\u001b[0m\u001b[0;34m\u001b[0m\u001b[0m\n\u001b[0m\u001b[1;32m   1104\u001b[0m             \u001b[0;32melse\u001b[0m\u001b[0;34m:\u001b[0m\u001b[0;34m\u001b[0m\u001b[0;34m\u001b[0m\u001b[0m\n\u001b[1;32m   1105\u001b[0m                 \u001b[0;32mreturn\u001b[0m \u001b[0mself\u001b[0m\u001b[0;34m.\u001b[0m\u001b[0m_sslobj\u001b[0m\u001b[0;34m.\u001b[0m\u001b[0mread\u001b[0m\u001b[0;34m(\u001b[0m\u001b[0mlen\u001b[0m\u001b[0;34m)\u001b[0m\u001b[0;34m\u001b[0m\u001b[0;34m\u001b[0m\u001b[0m\n",
            "\u001b[0;31mKeyboardInterrupt\u001b[0m: "
          ]
        }
      ],
      "source": [
        "df_updated = process_csv_with_newsplease(df, \"url\", \"artificial_intelligence_2024-06-01_2025-06-01_newsplease_mediacloud.csv\")"
      ]
    },
    {
      "cell_type": "code",
      "execution_count": null,
      "metadata": {
        "colab": {
          "base_uri": "https://localhost:8080/"
        },
        "id": "jvy1Xmu6e__A",
        "outputId": "14f9b7b2-83df-4dbe-e1be-6bbed9fb6bdc"
      },
      "outputs": [
        {
          "output_type": "execute_result",
          "data": {
            "text/plain": [
              "2000"
            ]
          },
          "metadata": {},
          "execution_count": 8
        }
      ],
      "source": [
        "len(df_updated)"
      ]
    },
    {
      "cell_type": "code",
      "execution_count": null,
      "metadata": {
        "colab": {
          "base_uri": "https://localhost:8080/"
        },
        "id": "VrZ5hjQFb70e",
        "outputId": "22e999a7-acd0-477f-91c2-73eab9665c9d"
      },
      "outputs": [
        {
          "output_type": "execute_result",
          "data": {
            "text/plain": [
              "335"
            ]
          },
          "metadata": {},
          "execution_count": 25
        }
      ],
      "source": [
        "df = df[df[\"frame\"] != \"error\"]\n",
        "df = df[df[\"frame\"] != \"Not AI related\"]\n",
        "len(df)"
      ]
    },
    {
      "cell_type": "code",
      "execution_count": null,
      "metadata": {
        "colab": {
          "base_uri": "https://localhost:8080/"
        },
        "id": "Gh6HfnKkdefj",
        "outputId": "806b334b-08c0-4bc3-8bdc-bd91e857917e"
      },
      "outputs": [
        {
          "output_type": "execute_result",
          "data": {
            "text/plain": [
              "1948"
            ]
          },
          "metadata": {},
          "execution_count": 26
        }
      ],
      "source": [
        "df_cleaned = df_updated.dropna(subset=['maintext'])\n",
        "len(df_cleaned)"
      ]
    },
    {
      "cell_type": "code",
      "execution_count": null,
      "metadata": {
        "colab": {
          "base_uri": "https://localhost:8080/"
        },
        "id": "9C3c1V2gdhsY",
        "outputId": "b01e84ff-44a0-4686-fa29-0d90bbe12cd5"
      },
      "outputs": [
        {
          "output_type": "execute_result",
          "data": {
            "text/plain": [
              "1889"
            ]
          },
          "metadata": {},
          "execution_count": 27
        }
      ],
      "source": [
        "df_cleaned = df_cleaned.drop_duplicates(subset=['maintext'], keep='first')\n",
        "len(df_cleaned)"
      ]
    },
    {
      "cell_type": "code",
      "execution_count": null,
      "metadata": {
        "colab": {
          "base_uri": "https://localhost:8080/"
        },
        "id": "GE1tYLxax7Kd",
        "outputId": "631cb900-f78f-4a4e-cea8-f83da1045bb0"
      },
      "outputs": [
        {
          "output_type": "stream",
          "name": "stdout",
          "text": [
            "1889\n",
            "335\n",
            "2224\n"
          ]
        }
      ],
      "source": [
        "print(len(df_cleaned))\n",
        "print(len(df))\n",
        "print(len(df)+len(df_cleaned))"
      ]
    },
    {
      "cell_type": "code",
      "execution_count": null,
      "metadata": {
        "colab": {
          "base_uri": "https://localhost:8080/"
        },
        "id": "LpnE4v7XblVM",
        "outputId": "5fb5249b-25f7-4839-f94c-102862e2d294"
      },
      "outputs": [
        {
          "output_type": "execute_result",
          "data": {
            "text/plain": [
              "2224"
            ]
          },
          "metadata": {},
          "execution_count": 29
        }
      ],
      "source": [
        "df_final = pd.concat([df, df_cleaned], ignore_index=True)\n",
        "df_final = df_final.dropna(subset=['maintext'])\n",
        "df_final = df_final.drop_duplicates(subset=['maintext'], keep='first')\n",
        "len(df_final)"
      ]
    },
    {
      "cell_type": "code",
      "execution_count": null,
      "metadata": {
        "id": "-Tebvrk9tI64",
        "colab": {
          "base_uri": "https://localhost:8080/"
        },
        "outputId": "3b169254-8e01-4e27-9cdc-ab125aed1ee2"
      },
      "outputs": [
        {
          "output_type": "execute_result",
          "data": {
            "text/plain": [
              "1750"
            ]
          },
          "metadata": {},
          "execution_count": 9
        }
      ],
      "source": [
        "# Drop rows where 'maintext' is None or NaN\n",
        "df_cleaned = df_updated.dropna(subset=['maintext'])\n",
        "\n",
        "len(df_cleaned)"
      ]
    },
    {
      "cell_type": "code",
      "execution_count": null,
      "metadata": {
        "id": "0_RBv_mZ0O59",
        "colab": {
          "base_uri": "https://localhost:8080/"
        },
        "outputId": "4aa33416-5a47-4e44-f740-f1f86028add9"
      },
      "outputs": [
        {
          "output_type": "execute_result",
          "data": {
            "text/plain": [
              "1413"
            ]
          },
          "metadata": {},
          "execution_count": 10
        }
      ],
      "source": [
        "# Drop duplicate rows based on the 'maintext' column\n",
        "df_cleaned = df_cleaned.drop_duplicates(subset=['maintext'], keep='first')\n",
        "\n",
        "len(df_cleaned)"
      ]
    },
    {
      "cell_type": "code",
      "execution_count": null,
      "metadata": {
        "colab": {
          "base_uri": "https://localhost:8080/"
        },
        "id": "d81TVnlnCYR1",
        "outputId": "992033be-cb8e-4708-866b-8838bbcbdd0d"
      },
      "outputs": [
        {
          "data": {
            "text/plain": [
              "1000"
            ]
          },
          "execution_count": 28,
          "metadata": {},
          "output_type": "execute_result"
        }
      ],
      "source": [
        "#df_cleaned = df_cleaned.sample(n=1000, random_state=42)\n",
        "#len(df_cleaned)"
      ]
    },
    {
      "cell_type": "code",
      "execution_count": null,
      "metadata": {
        "id": "fh88YanQvN7j"
      },
      "outputs": [],
      "source": [
        "df_cleaned.to_csv(\"cleaned_artificial_intelligence_2024-06-01_2025-06-01_newsplease_mediacloud.csv\", index=False)"
      ]
    },
    {
      "cell_type": "code",
      "execution_count": null,
      "metadata": {
        "id": "qwNnVZ9Digub",
        "colab": {
          "base_uri": "https://localhost:8080/",
          "height": 36
        },
        "outputId": "24eb2866-d4ae-4a81-d308-c367ae8ad218"
      },
      "outputs": [
        {
          "output_type": "execute_result",
          "data": {
            "text/plain": [
              "'/content/drive/MyDrive/Mediacloud/Russia/искусственный_интеллект_russia_2024-06-01_2025-06-01_newsplease_mediacloud.csv'"
            ],
            "application/vnd.google.colaboratory.intrinsic+json": {
              "type": "string"
            }
          },
          "metadata": {},
          "execution_count": 12
        }
      ],
      "source": [
        "import shutil\n",
        "\n",
        "# Define source (in Colab environment) and destination (in your Google Drive)\n",
        "source_path = '/content/cleaned_artificial_intelligence_2024-06-01_2025-06-01_newsplease_mediacloud.csv'\n",
        "destination_path = '/content/drive/MyDrive/Mediacloud/Russia/искусственный_интеллект_russia_2024-06-01_2025-06-01_newsplease_mediacloud.csv'\n",
        "#destination_path = '/content/drive/MyDrive/Mediacloud/Japan/人工知能_japan_addition4_2024-06-01_2025-06-01_newsplease_mediacloud.csv'\n",
        "#destination_path = '/content/drive/MyDrive/Mediacloud/UK/artificial_intelligence_uk_full2_2024-06-01_2025-06-01_newsplease_mediacloud.csv'\n",
        "\n",
        "# Copy the file\n",
        "shutil.copy(source_path, destination_path)"
      ]
    },
    {
      "cell_type": "code",
      "execution_count": null,
      "metadata": {
        "colab": {
          "base_uri": "https://localhost:8080/"
        },
        "id": "Ej--lUi_Cx-l",
        "outputId": "be140763-f6a7-4b20-c9d6-e4ffcd0ea14c"
      },
      "outputs": [
        {
          "output_type": "stream",
          "name": "stdout",
          "text": [
            "264\n",
            "376\n",
            "438\n",
            "262\n",
            "429\n",
            "1769\n"
          ]
        }
      ],
      "source": [
        "df1 = pd.read_csv('/content/drive/MyDrive/Mediacloud/Russia/искусственный_интеллект_russia1_2024-06-01_2025-06-01_newsplease_mediacloud.csv')\n",
        "df2 = pd.read_csv('/content/drive/MyDrive/Mediacloud/Russia/искусственный_интеллект_russia2_2024-06-01_2025-06-01_newsplease_mediacloud.csv')\n",
        "df3 = pd.read_csv('/content/drive/MyDrive/Mediacloud/Russia/искусственный_интеллект_russia3_2024-06-01_2025-06-01_newsplease_mediacloud.csv')\n",
        "df4 = pd.read_csv('/content/drive/MyDrive/Mediacloud/Russia/искусственный_интеллект_russia4_2024-06-01_2025-06-01_newsplease_mediacloud.csv')\n",
        "df5 = pd.read_csv('/content/drive/MyDrive/Mediacloud/Russia/искусственный_интеллект_russia5_2024-06-01_2025-06-01_newsplease_mediacloud.csv')\n",
        "print(len(df1))\n",
        "print(len(df2))\n",
        "print(len(df3))\n",
        "print(len(df4))\n",
        "print(len(df5))\n",
        "print(len(df1)+len(df2)+len(df3)+len(df4)+len(df5))"
      ]
    },
    {
      "cell_type": "code",
      "source": [
        "df = pd.concat([df1, df2, df3, df4, df5], ignore_index=True)\n",
        "df = df.dropna(subset=['maintext'])\n",
        "df = df.drop_duplicates(subset=['maintext'], keep='first')\n",
        "len(df)"
      ],
      "metadata": {
        "colab": {
          "base_uri": "https://localhost:8080/"
        },
        "id": "zUF45LYdZbrv",
        "outputId": "7389f7ba-3d5a-4d0f-c33e-0e363034c5a9"
      },
      "execution_count": null,
      "outputs": [
        {
          "output_type": "execute_result",
          "data": {
            "text/plain": [
              "1765"
            ]
          },
          "metadata": {},
          "execution_count": 31
        }
      ]
    },
    {
      "cell_type": "code",
      "source": [
        "output_path_cleaned = \"/content/drive/MyDrive/Mediacloud/Russia/искусственный_интеллект_russia_2024-06-01_2025-06-01_newsplease_mediacloud.csv\"\n",
        "df.to_csv(output_path_cleaned, index=False)\n",
        "len(df)"
      ],
      "metadata": {
        "colab": {
          "base_uri": "https://localhost:8080/"
        },
        "id": "nmdXOmhVZpzv",
        "outputId": "236d1ae3-00bb-43ce-d08c-5f5357d1def3"
      },
      "execution_count": null,
      "outputs": [
        {
          "output_type": "execute_result",
          "data": {
            "text/plain": [
              "1765"
            ]
          },
          "metadata": {},
          "execution_count": 32
        }
      ]
    },
    {
      "cell_type": "code",
      "execution_count": null,
      "metadata": {
        "colab": {
          "base_uri": "https://localhost:8080/"
        },
        "id": "xITiHsud40-1",
        "outputId": "6f23c62e-7392-4bd6-d713-28b43dc87ae3"
      },
      "outputs": [
        {
          "data": {
            "text/plain": [
              "Index(['stories_id', 'title', 'publish_date', 'url', 'language', 'media_id',\n",
              "       'media_name', 'query', 'collection_ids', 'maintext', 'authors',\n",
              "       'date_publish', 'description', 'image_url'],\n",
              "      dtype='object')"
            ]
          },
          "execution_count": 53,
          "metadata": {},
          "output_type": "execute_result"
        }
      ],
      "source": [
        "df.columns"
      ]
    },
    {
      "cell_type": "code",
      "execution_count": null,
      "metadata": {
        "colab": {
          "base_uri": "https://localhost:8080/",
          "height": 590
        },
        "id": "L4b0tjMrEZnd",
        "outputId": "abbfb468-fdc8-4438-a7a1-f356eb2b740d"
      },
      "outputs": [
        {
          "data": {
            "application/vnd.google.colaboratory.intrinsic+json": {
              "summary": "{\n  \"name\": \"df\",\n  \"rows\": 260,\n  \"fields\": [\n    {\n      \"column\": \"stories_id\",\n      \"properties\": {\n        \"dtype\": \"number\",\n        \"std\": null,\n        \"min\": null,\n        \"max\": null,\n        \"num_unique_values\": 0,\n        \"samples\": [],\n        \"semantic_type\": \"\",\n        \"description\": \"\"\n      }\n    },\n    {\n      \"column\": \"title\",\n      \"properties\": {\n        \"dtype\": \"string\",\n        \"num_unique_values\": 260,\n        \"samples\": [],\n        \"semantic_type\": \"\",\n        \"description\": \"\"\n      }\n    },\n    {\n      \"column\": \"publish_date\",\n      \"properties\": {\n        \"dtype\": \"object\",\n        \"num_unique_values\": 177,\n        \"samples\": [],\n        \"semantic_type\": \"\",\n        \"description\": \"\"\n      }\n    },\n    {\n      \"column\": \"url\",\n      \"properties\": {\n        \"dtype\": \"string\",\n        \"num_unique_values\": 260,\n        \"samples\": [],\n        \"semantic_type\": \"\",\n        \"description\": \"\"\n      }\n    },\n    {\n      \"column\": \"language\",\n      \"properties\": {\n        \"dtype\": \"category\",\n        \"num_unique_values\": 1,\n        \"samples\": [],\n        \"semantic_type\": \"\",\n        \"description\": \"\"\n      }\n    },\n    {\n      \"column\": \"media_id\",\n      \"properties\": {\n        \"dtype\": \"number\",\n        \"std\": null,\n        \"min\": null,\n        \"max\": null,\n        \"num_unique_values\": 0,\n        \"samples\": [],\n        \"semantic_type\": \"\",\n        \"description\": \"\"\n      }\n    },\n    {\n      \"column\": \"media_name\",\n      \"properties\": {\n        \"dtype\": \"category\",\n        \"num_unique_values\": 46,\n        \"samples\": [],\n        \"semantic_type\": \"\",\n        \"description\": \"\"\n      }\n    },\n    {\n      \"column\": \"query\",\n      \"properties\": {\n        \"dtype\": \"category\",\n        \"num_unique_values\": 1,\n        \"samples\": [],\n        \"semantic_type\": \"\",\n        \"description\": \"\"\n      }\n    },\n    {\n      \"column\": \"collection_ids\",\n      \"properties\": {\n        \"dtype\": \"category\",\n        \"num_unique_values\": 1,\n        \"samples\": [],\n        \"semantic_type\": \"\",\n        \"description\": \"\"\n      }\n    },\n    {\n      \"column\": \"maintext\",\n      \"properties\": {\n        \"dtype\": \"string\",\n        \"num_unique_values\": 260,\n        \"samples\": [],\n        \"semantic_type\": \"\",\n        \"description\": \"\"\n      }\n    },\n    {\n      \"column\": \"authors\",\n      \"properties\": {\n        \"dtype\": \"string\",\n        \"num_unique_values\": 204,\n        \"samples\": [],\n        \"semantic_type\": \"\",\n        \"description\": \"\"\n      }\n    },\n    {\n      \"column\": \"date_publish\",\n      \"properties\": {\n        \"dtype\": \"object\",\n        \"num_unique_values\": 258,\n        \"samples\": [],\n        \"semantic_type\": \"\",\n        \"description\": \"\"\n      }\n    },\n    {\n      \"column\": \"description\",\n      \"properties\": {\n        \"dtype\": \"string\",\n        \"num_unique_values\": 259,\n        \"samples\": [],\n        \"semantic_type\": \"\",\n        \"description\": \"\"\n      }\n    },\n    {\n      \"column\": \"image_url\",\n      \"properties\": {\n        \"dtype\": \"string\",\n        \"num_unique_values\": 250,\n        \"samples\": [],\n        \"semantic_type\": \"\",\n        \"description\": \"\"\n      }\n    }\n  ]\n}",
              "type": "dataframe",
              "variable_name": "df"
            },
            "text/html": [
              "\n",
              "  <div id=\"df-8bf3e2fa-5725-4323-a962-207ef3d3f122\" class=\"colab-df-container\">\n",
              "    <div>\n",
              "<style scoped>\n",
              "    .dataframe tbody tr th:only-of-type {\n",
              "        vertical-align: middle;\n",
              "    }\n",
              "\n",
              "    .dataframe tbody tr th {\n",
              "        vertical-align: top;\n",
              "    }\n",
              "\n",
              "    .dataframe thead th {\n",
              "        text-align: right;\n",
              "    }\n",
              "</style>\n",
              "<table border=\"1\" class=\"dataframe\">\n",
              "  <thead>\n",
              "    <tr style=\"text-align: right;\">\n",
              "      <th></th>\n",
              "      <th>stories_id</th>\n",
              "      <th>title</th>\n",
              "      <th>publish_date</th>\n",
              "      <th>url</th>\n",
              "      <th>language</th>\n",
              "      <th>media_id</th>\n",
              "      <th>media_name</th>\n",
              "      <th>query</th>\n",
              "      <th>collection_ids</th>\n",
              "      <th>maintext</th>\n",
              "      <th>authors</th>\n",
              "      <th>date_publish</th>\n",
              "      <th>description</th>\n",
              "      <th>image_url</th>\n",
              "    </tr>\n",
              "  </thead>\n",
              "  <tbody>\n",
              "    <tr>\n",
              "      <th>0</th>\n",
              "      <td>NaN</td>\n",
              "      <td>‘We made the Maldives from a hotel in Heathrow...</td>\n",
              "      <td>2024-07-06</td>\n",
              "      <td>https://www.theguardian.com/film/article/2024/...</td>\n",
              "      <td>en</td>\n",
              "      <td>NaN</td>\n",
              "      <td>theguardian.com</td>\n",
              "      <td>artificial intelligence</td>\n",
              "      <td>[34412476, 38381111]</td>\n",
              "      <td>The script called for a tree: a magical kind t...</td>\n",
              "      <td>['Rebecca Liu', 'www.theguardian.com', 'rebecc...</td>\n",
              "      <td>2024-07-06 10:55:35</td>\n",
              "      <td>Globe-trotting in search of picture-perfect sc...</td>\n",
              "      <td>https://i.guim.co.uk/img/media/2a79ee79f476f64...</td>\n",
              "    </tr>\n",
              "    <tr>\n",
              "      <th>1</th>\n",
              "      <td>NaN</td>\n",
              "      <td>More cuts and a merger with Channel 4: the BBC...</td>\n",
              "      <td>2024-08-30</td>\n",
              "      <td>https://www.theguardian.com/media/article/2024...</td>\n",
              "      <td>en</td>\n",
              "      <td>NaN</td>\n",
              "      <td>theguardian.com</td>\n",
              "      <td>artificial intelligence</td>\n",
              "      <td>[34412476, 38381111]</td>\n",
              "      <td>Within days of her appointment as culture secr...</td>\n",
              "      <td>['Jim Waterson', 'www.theguardian.com', 'jim-w...</td>\n",
              "      <td>2024-08-30 14:00:07</td>\n",
              "      <td>With 500,000 households a year cancelling thei...</td>\n",
              "      <td>https://i.guim.co.uk/img/media/3618d814963e9f5...</td>\n",
              "    </tr>\n",
              "    <tr>\n",
              "      <th>2</th>\n",
              "      <td>NaN</td>\n",
              "      <td>Robot rugby may be a way off but art of coachi...</td>\n",
              "      <td>2025-03-25</td>\n",
              "      <td>https://www.theguardian.com/sport/2025/mar/25/...</td>\n",
              "      <td>en</td>\n",
              "      <td>NaN</td>\n",
              "      <td>theguardian.com</td>\n",
              "      <td>artificial intelligence</td>\n",
              "      <td>[34412476, 38381111]</td>\n",
              "      <td>Once upon a time coaching sport was deceptivel...</td>\n",
              "      <td>['Robert Kitson', 'www.theguardian.com']</td>\n",
              "      <td>2025-03-25 10:38:28</td>\n",
              "      <td>As data reshapes coaching and tactics at club ...</td>\n",
              "      <td>https://i.guim.co.uk/img/media/6cb3935abb0b09b...</td>\n",
              "    </tr>\n",
              "    <tr>\n",
              "      <th>3</th>\n",
              "      <td>NaN</td>\n",
              "      <td>Client Challenge</td>\n",
              "      <td>2024-12-10</td>\n",
              "      <td>https://www.ft.com/content/cf319e9a-575a-4c27-...</td>\n",
              "      <td>en</td>\n",
              "      <td>NaN</td>\n",
              "      <td>ft.com</td>\n",
              "      <td>artificial intelligence</td>\n",
              "      <td>[34412476, 38381111]</td>\n",
              "      <td>A required part of this site couldn’t load. Th...</td>\n",
              "      <td>[]</td>\n",
              "      <td>NaN</td>\n",
              "      <td>NaN</td>\n",
              "      <td>https://www.ft.com/content/cf319e9a-575a-4c27-...</td>\n",
              "    </tr>\n",
              "    <tr>\n",
              "      <th>4</th>\n",
              "      <td>NaN</td>\n",
              "      <td>Inside the hunt for 'Britain's Atlantis' lost ...</td>\n",
              "      <td>2025-03-03</td>\n",
              "      <td>https://www.thesun.co.uk/tech/33533471/britain...</td>\n",
              "      <td>en</td>\n",
              "      <td>NaN</td>\n",
              "      <td>thesun.co.uk</td>\n",
              "      <td>artificial intelligence</td>\n",
              "      <td>[34412476, 38381111]</td>\n",
              "      <td>BRITAIN wasn't always an island. At the end of...</td>\n",
              "      <td>['Millie Turner', 'www.facebook.com']</td>\n",
              "      <td>2025-03-03 15:57:40</td>\n",
              "      <td>BRITAIN wasn't always an island. At the end of...</td>\n",
              "      <td>https://www.thesun.co.uk/wp-content/uploads/20...</td>\n",
              "    </tr>\n",
              "  </tbody>\n",
              "</table>\n",
              "</div>\n",
              "    <div class=\"colab-df-buttons\">\n",
              "\n",
              "  <div class=\"colab-df-container\">\n",
              "    <button class=\"colab-df-convert\" onclick=\"convertToInteractive('df-8bf3e2fa-5725-4323-a962-207ef3d3f122')\"\n",
              "            title=\"Convert this dataframe to an interactive table.\"\n",
              "            style=\"display:none;\">\n",
              "\n",
              "  <svg xmlns=\"http://www.w3.org/2000/svg\" height=\"24px\" viewBox=\"0 -960 960 960\">\n",
              "    <path d=\"M120-120v-720h720v720H120Zm60-500h600v-160H180v160Zm220 220h160v-160H400v160Zm0 220h160v-160H400v160ZM180-400h160v-160H180v160Zm440 0h160v-160H620v160ZM180-180h160v-160H180v160Zm440 0h160v-160H620v160Z\"/>\n",
              "  </svg>\n",
              "    </button>\n",
              "\n",
              "  <style>\n",
              "    .colab-df-container {\n",
              "      display:flex;\n",
              "      gap: 12px;\n",
              "    }\n",
              "\n",
              "    .colab-df-convert {\n",
              "      background-color: #E8F0FE;\n",
              "      border: none;\n",
              "      border-radius: 50%;\n",
              "      cursor: pointer;\n",
              "      display: none;\n",
              "      fill: #1967D2;\n",
              "      height: 32px;\n",
              "      padding: 0 0 0 0;\n",
              "      width: 32px;\n",
              "    }\n",
              "\n",
              "    .colab-df-convert:hover {\n",
              "      background-color: #E2EBFA;\n",
              "      box-shadow: 0px 1px 2px rgba(60, 64, 67, 0.3), 0px 1px 3px 1px rgba(60, 64, 67, 0.15);\n",
              "      fill: #174EA6;\n",
              "    }\n",
              "\n",
              "    .colab-df-buttons div {\n",
              "      margin-bottom: 4px;\n",
              "    }\n",
              "\n",
              "    [theme=dark] .colab-df-convert {\n",
              "      background-color: #3B4455;\n",
              "      fill: #D2E3FC;\n",
              "    }\n",
              "\n",
              "    [theme=dark] .colab-df-convert:hover {\n",
              "      background-color: #434B5C;\n",
              "      box-shadow: 0px 1px 3px 1px rgba(0, 0, 0, 0.15);\n",
              "      filter: drop-shadow(0px 1px 2px rgba(0, 0, 0, 0.3));\n",
              "      fill: #FFFFFF;\n",
              "    }\n",
              "  </style>\n",
              "\n",
              "    <script>\n",
              "      const buttonEl =\n",
              "        document.querySelector('#df-8bf3e2fa-5725-4323-a962-207ef3d3f122 button.colab-df-convert');\n",
              "      buttonEl.style.display =\n",
              "        google.colab.kernel.accessAllowed ? 'block' : 'none';\n",
              "\n",
              "      async function convertToInteractive(key) {\n",
              "        const element = document.querySelector('#df-8bf3e2fa-5725-4323-a962-207ef3d3f122');\n",
              "        const dataTable =\n",
              "          await google.colab.kernel.invokeFunction('convertToInteractive',\n",
              "                                                    [key], {});\n",
              "        if (!dataTable) return;\n",
              "\n",
              "        const docLinkHtml = 'Like what you see? Visit the ' +\n",
              "          '<a target=\"_blank\" href=https://colab.research.google.com/notebooks/data_table.ipynb>data table notebook</a>'\n",
              "          + ' to learn more about interactive tables.';\n",
              "        element.innerHTML = '';\n",
              "        dataTable['output_type'] = 'display_data';\n",
              "        await google.colab.output.renderOutput(dataTable, element);\n",
              "        const docLink = document.createElement('div');\n",
              "        docLink.innerHTML = docLinkHtml;\n",
              "        element.appendChild(docLink);\n",
              "      }\n",
              "    </script>\n",
              "  </div>\n",
              "\n",
              "\n",
              "    <div id=\"df-e354356d-860a-47ea-b306-0a1bbffcfb91\">\n",
              "      <button class=\"colab-df-quickchart\" onclick=\"quickchart('df-e354356d-860a-47ea-b306-0a1bbffcfb91')\"\n",
              "                title=\"Suggest charts\"\n",
              "                style=\"display:none;\">\n",
              "\n",
              "<svg xmlns=\"http://www.w3.org/2000/svg\" height=\"24px\"viewBox=\"0 0 24 24\"\n",
              "     width=\"24px\">\n",
              "    <g>\n",
              "        <path d=\"M19 3H5c-1.1 0-2 .9-2 2v14c0 1.1.9 2 2 2h14c1.1 0 2-.9 2-2V5c0-1.1-.9-2-2-2zM9 17H7v-7h2v7zm4 0h-2V7h2v10zm4 0h-2v-4h2v4z\"/>\n",
              "    </g>\n",
              "</svg>\n",
              "      </button>\n",
              "\n",
              "<style>\n",
              "  .colab-df-quickchart {\n",
              "      --bg-color: #E8F0FE;\n",
              "      --fill-color: #1967D2;\n",
              "      --hover-bg-color: #E2EBFA;\n",
              "      --hover-fill-color: #174EA6;\n",
              "      --disabled-fill-color: #AAA;\n",
              "      --disabled-bg-color: #DDD;\n",
              "  }\n",
              "\n",
              "  [theme=dark] .colab-df-quickchart {\n",
              "      --bg-color: #3B4455;\n",
              "      --fill-color: #D2E3FC;\n",
              "      --hover-bg-color: #434B5C;\n",
              "      --hover-fill-color: #FFFFFF;\n",
              "      --disabled-bg-color: #3B4455;\n",
              "      --disabled-fill-color: #666;\n",
              "  }\n",
              "\n",
              "  .colab-df-quickchart {\n",
              "    background-color: var(--bg-color);\n",
              "    border: none;\n",
              "    border-radius: 50%;\n",
              "    cursor: pointer;\n",
              "    display: none;\n",
              "    fill: var(--fill-color);\n",
              "    height: 32px;\n",
              "    padding: 0;\n",
              "    width: 32px;\n",
              "  }\n",
              "\n",
              "  .colab-df-quickchart:hover {\n",
              "    background-color: var(--hover-bg-color);\n",
              "    box-shadow: 0 1px 2px rgba(60, 64, 67, 0.3), 0 1px 3px 1px rgba(60, 64, 67, 0.15);\n",
              "    fill: var(--button-hover-fill-color);\n",
              "  }\n",
              "\n",
              "  .colab-df-quickchart-complete:disabled,\n",
              "  .colab-df-quickchart-complete:disabled:hover {\n",
              "    background-color: var(--disabled-bg-color);\n",
              "    fill: var(--disabled-fill-color);\n",
              "    box-shadow: none;\n",
              "  }\n",
              "\n",
              "  .colab-df-spinner {\n",
              "    border: 2px solid var(--fill-color);\n",
              "    border-color: transparent;\n",
              "    border-bottom-color: var(--fill-color);\n",
              "    animation:\n",
              "      spin 1s steps(1) infinite;\n",
              "  }\n",
              "\n",
              "  @keyframes spin {\n",
              "    0% {\n",
              "      border-color: transparent;\n",
              "      border-bottom-color: var(--fill-color);\n",
              "      border-left-color: var(--fill-color);\n",
              "    }\n",
              "    20% {\n",
              "      border-color: transparent;\n",
              "      border-left-color: var(--fill-color);\n",
              "      border-top-color: var(--fill-color);\n",
              "    }\n",
              "    30% {\n",
              "      border-color: transparent;\n",
              "      border-left-color: var(--fill-color);\n",
              "      border-top-color: var(--fill-color);\n",
              "      border-right-color: var(--fill-color);\n",
              "    }\n",
              "    40% {\n",
              "      border-color: transparent;\n",
              "      border-right-color: var(--fill-color);\n",
              "      border-top-color: var(--fill-color);\n",
              "    }\n",
              "    60% {\n",
              "      border-color: transparent;\n",
              "      border-right-color: var(--fill-color);\n",
              "    }\n",
              "    80% {\n",
              "      border-color: transparent;\n",
              "      border-right-color: var(--fill-color);\n",
              "      border-bottom-color: var(--fill-color);\n",
              "    }\n",
              "    90% {\n",
              "      border-color: transparent;\n",
              "      border-bottom-color: var(--fill-color);\n",
              "    }\n",
              "  }\n",
              "</style>\n",
              "\n",
              "      <script>\n",
              "        async function quickchart(key) {\n",
              "          const quickchartButtonEl =\n",
              "            document.querySelector('#' + key + ' button');\n",
              "          quickchartButtonEl.disabled = true;  // To prevent multiple clicks.\n",
              "          quickchartButtonEl.classList.add('colab-df-spinner');\n",
              "          try {\n",
              "            const charts = await google.colab.kernel.invokeFunction(\n",
              "                'suggestCharts', [key], {});\n",
              "          } catch (error) {\n",
              "            console.error('Error during call to suggestCharts:', error);\n",
              "          }\n",
              "          quickchartButtonEl.classList.remove('colab-df-spinner');\n",
              "          quickchartButtonEl.classList.add('colab-df-quickchart-complete');\n",
              "        }\n",
              "        (() => {\n",
              "          let quickchartButtonEl =\n",
              "            document.querySelector('#df-e354356d-860a-47ea-b306-0a1bbffcfb91 button');\n",
              "          quickchartButtonEl.style.display =\n",
              "            google.colab.kernel.accessAllowed ? 'block' : 'none';\n",
              "        })();\n",
              "      </script>\n",
              "    </div>\n",
              "\n",
              "    </div>\n",
              "  </div>\n"
            ],
            "text/plain": [
              "   stories_id                                              title publish_date  \\\n",
              "0         NaN  ‘We made the Maldives from a hotel in Heathrow...   2024-07-06   \n",
              "1         NaN  More cuts and a merger with Channel 4: the BBC...   2024-08-30   \n",
              "2         NaN  Robot rugby may be a way off but art of coachi...   2025-03-25   \n",
              "3         NaN                                   Client Challenge   2024-12-10   \n",
              "4         NaN  Inside the hunt for 'Britain's Atlantis' lost ...   2025-03-03   \n",
              "\n",
              "                                                 url language  media_id  \\\n",
              "0  https://www.theguardian.com/film/article/2024/...       en       NaN   \n",
              "1  https://www.theguardian.com/media/article/2024...       en       NaN   \n",
              "2  https://www.theguardian.com/sport/2025/mar/25/...       en       NaN   \n",
              "3  https://www.ft.com/content/cf319e9a-575a-4c27-...       en       NaN   \n",
              "4  https://www.thesun.co.uk/tech/33533471/britain...       en       NaN   \n",
              "\n",
              "        media_name                    query        collection_ids  \\\n",
              "0  theguardian.com  artificial intelligence  [34412476, 38381111]   \n",
              "1  theguardian.com  artificial intelligence  [34412476, 38381111]   \n",
              "2  theguardian.com  artificial intelligence  [34412476, 38381111]   \n",
              "3           ft.com  artificial intelligence  [34412476, 38381111]   \n",
              "4     thesun.co.uk  artificial intelligence  [34412476, 38381111]   \n",
              "\n",
              "                                            maintext  \\\n",
              "0  The script called for a tree: a magical kind t...   \n",
              "1  Within days of her appointment as culture secr...   \n",
              "2  Once upon a time coaching sport was deceptivel...   \n",
              "3  A required part of this site couldn’t load. Th...   \n",
              "4  BRITAIN wasn't always an island. At the end of...   \n",
              "\n",
              "                                             authors         date_publish  \\\n",
              "0  ['Rebecca Liu', 'www.theguardian.com', 'rebecc...  2024-07-06 10:55:35   \n",
              "1  ['Jim Waterson', 'www.theguardian.com', 'jim-w...  2024-08-30 14:00:07   \n",
              "2           ['Robert Kitson', 'www.theguardian.com']  2025-03-25 10:38:28   \n",
              "3                                                 []                  NaN   \n",
              "4              ['Millie Turner', 'www.facebook.com']  2025-03-03 15:57:40   \n",
              "\n",
              "                                         description  \\\n",
              "0  Globe-trotting in search of picture-perfect sc...   \n",
              "1  With 500,000 households a year cancelling thei...   \n",
              "2  As data reshapes coaching and tactics at club ...   \n",
              "3                                                NaN   \n",
              "4  BRITAIN wasn't always an island. At the end of...   \n",
              "\n",
              "                                           image_url  \n",
              "0  https://i.guim.co.uk/img/media/2a79ee79f476f64...  \n",
              "1  https://i.guim.co.uk/img/media/3618d814963e9f5...  \n",
              "2  https://i.guim.co.uk/img/media/6cb3935abb0b09b...  \n",
              "3  https://www.ft.com/content/cf319e9a-575a-4c27-...  \n",
              "4  https://www.thesun.co.uk/wp-content/uploads/20...  "
            ]
          },
          "execution_count": 54,
          "metadata": {},
          "output_type": "execute_result"
        }
      ],
      "source": [
        "df.head()"
      ]
    },
    {
      "cell_type": "code",
      "execution_count": null,
      "metadata": {
        "colab": {
          "base_uri": "https://localhost:8080/"
        },
        "id": "wFiawcQEjG_Z",
        "outputId": "76cad382-afe1-497c-e80f-fb88cd898a2c"
      },
      "outputs": [
        {
          "name": "stdout",
          "output_type": "stream",
          "text": [
            "The article object has these attributes:\n",
            "\n",
            "authors: ['Kayla Epstein']\n",
            "date_download: 2025-05-23 14:13:01\n",
            "date_modify: None\n",
            "date_publish: 2025-05-22 18:20:28\n",
            "description: The move escalates the administration's row with America's oldest university over hiring, admissions and teaching practices.\n",
            "filename: https%3A%2F%2Fwww.bbc.com%2Fnews%2Farticles%2Fc05768jmm11o.json\n",
            "image_url: https://ichef.bbci.co.uk/news/1024/branded_news/9503/live/5954d570-373d-11f0-a5ca-3b23cbd75bec.jpg\n",
            "language: en\n",
            "localpath: None\n",
            "title: Trump administration ends Harvard's ability to enrol international students\n",
            "title_page: None\n",
            "title_rss: None\n",
            "source_domain: www.bbc.com\n",
            "maintext: \"We are fully committed to maintaining Harvard's ability to host our international students and scholars, who hail from more than 140 countries and enrich the University – and this nation – immeasurably,\" the university responded.\n",
            "\"We are working quickly to provide guidance and support to members of our community. This retaliatory action threatens serious harm to the Harvard community and our country, and undermines Harvard's academic and research mission.\"\n",
            "The Trump administration's decisions could affect thousands of international students who study at the university. Over 6,700 international students were enrolled at the institution last academic year, university data shows, making up 27% of its student body.\n",
            "News quickly spread through the international community on campus Thursday, sparking fear and frustration among the thousands of students whose futures were suddenly in limbo.\n",
            "\"We're seeing a lot of confusion on this,\" Sarah Davis, an Australian student receiving a graduate degree, told BBC Newshour.\n",
            "\"The news has come only five days before a lot of us are due to graduate the university, and this obviously is going to have a lot of very uncertain implications for whether we're able to stay on in the United States afterwards and keep working here,\" said Ms Davis, who is president of the Australia and New Zealand Caucus at the Harvard Kennedy School.\n",
            "\"We're all just sitting back and waiting to see whether or not we get communications about what the next steps are from the university.\"\n",
            "Leo Gerdén, a 22-year-old undergraduate from Sweden, remembers the day he received his admission letter to Harvard as the best day of his life. With less than a week until graduation, he didn't imagine his time at the prestigious campus ending like this.\n",
            "\"International students are being used as poker chips in a battle between the White House and Harvard,\" Mr Gerdén told the BBC. \"It's incredibly dehumanising.\"\n",
            "The Trump administration has launched investigations into dozens of universities across the countries and wrung concessions from other major US institutions like Columbia University in New York.\n",
            "But in April, Harvard University became the most prominent institution to push back, announcing it would sue the Trump administration after it sent the school a list of lengthy demands. The White House later said the list was sent by mistake.\n",
            "It has demanded Harvard change its hiring, admissions and teaching practices to help fight antisemitism on campus. It has threatened to revoke the university's tax-exempt status and freeze billions of dollars in government grants.\n",
            "Harvard earlier this year said it had taken many steps to address antisemitism, and that the government's demands were an effort to regulate the university's \"intellectual conditions\".\n",
            "But the standoff continued to escalate.\n",
            "The Department of Homeland Security (DHS) then warned Harvard that it could lose its ability to host international students if it did not comply with a sweeping records request from the administration pertaining to international students.\n",
            "In Thursday's letter, Noem followed through. She announced that DHS had revoked Harvard's access to the SEVP programme, which meant that it would not be able to enroll individuals with F- or J- non-immigrant status for the upcoming 2025-2026 academic year.\n",
            "Individuals on these visas would have to transfer to other universities to maintain legal status, she wrote.\n",
            "The letter stated Harvard had 72 hours to comply with a list of demands to have an \"opportunity\" to regain its ability to enrol these students.\n",
            "That included providing the government with all disciplinary records for non-immigrant students enrolled at Harvard over the past five years. Noem also demanded Harvard turn over electronic records, videos, or audio of \"illegal\" and \"dangerous or violent\" activity by non-immigrant students on campus.\n",
            "In her post on X, Noem warned that the move should \"serve as a warning to all universities and academic institutions across the country.\"\n",
            "The Trump administration has attempted to curtail individual visas for international students, causing confusion on university campuses across the US and leading to a wave of lawsuits.\n",
            "In some cases, those revocations appeared to affect foreign students who participated in political protests or have had previous criminal charges, such as driving infractions.\n",
            "In a separate court case on Thursday, a federal judge in California blocked the Trump administration from cancelling the legal status of international students across the US while challenges to the policy play out in court.\n",
            "\"We came here because of what America stands for: freedom of speech, academic freedom, a vibrant intellectual community,\" Mr Gerdén said of his international classmates. \"And now Trump is threatening all those values.\"\n",
            "\"Without the international students, Harvard is simply not Harvard anymore,\" he said.\n",
            "url: https://www.bbc.com/news/articles/c05768jmm11o\n"
          ]
        }
      ],
      "source": [
        "from newsplease import NewsPlease\n",
        "\n",
        "# Choose any news article URL\n",
        "url = \"https://www.bbc.com/news/articles/c05768jmm11o\"\n",
        "\n",
        "# Fetch the article data\n",
        "article = NewsPlease.from_url(url)\n",
        "\n",
        "# Print all the keys/values in the article object\n",
        "print(\"The article object has these attributes:\\n\")\n",
        "for key, value in vars(article).items():\n",
        "    print(f\"{key}:\", value)\n"
      ]
    }
  ],
  "metadata": {
    "colab": {
      "provenance": []
    },
    "kernelspec": {
      "display_name": "Python 3",
      "name": "python3"
    },
    "language_info": {
      "name": "python"
    }
  },
  "nbformat": 4,
  "nbformat_minor": 0
}