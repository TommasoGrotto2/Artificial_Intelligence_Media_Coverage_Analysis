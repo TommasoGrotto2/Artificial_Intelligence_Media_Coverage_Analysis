{
  "cells": [
    {
      "cell_type": "code",
      "execution_count": null,
      "metadata": {
        "colab": {
          "base_uri": "https://localhost:8080/"
        },
        "id": "g2RmW8_UdA7k",
        "outputId": "2b036400-2cd1-475f-f9df-25c5de840bda"
      },
      "outputs": [
        {
          "name": "stdout",
          "output_type": "stream",
          "text": [
            "Mounted at /content/drive\n"
          ]
        }
      ],
      "source": [
        "from google.colab import drive\n",
        "drive.mount('/content/drive')"
      ]
    },
    {
      "cell_type": "code",
      "execution_count": null,
      "metadata": {
        "id": "9UjV-qCGJ40P"
      },
      "outputs": [],
      "source": [
        "# 1. Install and import requirements\n",
        "!pip install -q google-generativeai\n",
        "import google.generativeai as genai\n",
        "import pandas as pd\n",
        "import time\n",
        "import os\n",
        "\n",
        "df = pd.read_csv(\"/content/drive/MyDrive/Mediacloud/Russia/искусственный_интеллект_russia_2024-06-01_2025-06-01_newsplease_mediacloud.csv\")\n",
        "df = df.reset_index(drop=False).rename(columns={\"index\": \"row_id\"})\n",
        "\n",
        "output_path = \"/content/drive/MyDrive/Mediacloud/Russia/искусственный_интеллект_russia_2024-06-01_2025-06-01_frames_newsplease_mediacloud_gemini_2-5.csv\"\n",
        "\n",
        "# Load existing results (if any)\n",
        "if os.path.exists(output_path):\n",
        "    processed_df = pd.read_csv(output_path)\n",
        "    processed_ids = set(processed_df[\"row_id\"].values)\n",
        "else:\n",
        "    processed_df = pd.DataFrame()\n",
        "    processed_ids = set()\n",
        "\n",
        "to_process = df[~df[\"row_id\"].isin(processed_ids)].head(2)"
      ]
    },
    {
      "cell_type": "code",
      "execution_count": null,
      "metadata": {
        "colab": {
          "base_uri": "https://localhost:8080/",
          "height": 69
        },
        "id": "VDPkd2mKKR1j",
        "outputId": "27851d72-09b5-4307-a0df-53c24e2b4484"
      },
      "outputs": [
        {
          "name": "stdout",
          "output_type": "stream",
          "text": [
            "[1106] → AI-based innovative solutions\n",
            "[1107] → AI impacts on businesses, economy, and jobs\n",
            "✅ Saved updated file\n"
          ]
        }
      ],
      "source": [
        "from google import generativeai as genai\n",
        "import time\n",
        "\n",
        "genai.configure(api_key=\"Your API Key\")\n",
        "model = genai.GenerativeModel(\"gemini-2.5-flash\")\n",
        "\n",
        "def build_prompt(article_text):\n",
        "    return f\"\"\"\n",
        "The following article discusses artificial intelligence (AI).\n",
        "\n",
        "Please read the article and identify **which of the following frames apply**. You can apply only one frame, choose the most fitting. Only choose from this list:\n",
        "\n",
        "1. AI impacts on businesses, economy, and jobs\n",
        "2. AI transformations in education and research\n",
        "3. AI in national security and global partnerships\n",
        "4. AI disruptions in media and creative industries\n",
        "5. AI-based innovative solutions\n",
        "6. AI regulations, ethics, and data privacy\n",
        "7. AI competition and market dynamics in tech industries\n",
        "8. AI in healthcare and climate change\n",
        "9. AI in politics, elections, and public opinion\n",
        "10. Other\n",
        "11. Not AI related\n",
        "\n",
        "### Article:\n",
        "{article_text}\n",
        "\n",
        "### Instructions:\n",
        "Return your answer as the name of the frame, e.g. \"AI impacts on businesses, economy, and jobs\".\n",
        "In case of other, return \"Other - name of the frame\".\n",
        "\n",
        "Do not explain your reasoning.\n",
        "\"\"\"\n",
        "\n",
        "def ask_gemini(prompt):\n",
        "    try:\n",
        "        response = model.generate_content(prompt)\n",
        "        return response.text.strip()\n",
        "    except Exception as e:\n",
        "        print(f\"Error: {e}\")\n",
        "        return \"error\"\n",
        "\n",
        "# Process batch\n",
        "results = []\n",
        "for i, row in to_process.iterrows():\n",
        "    text = row.get(\"maintext\", \"\")\n",
        "    if not isinstance(text, str) or not text.strip():\n",
        "        results.append(\"skipped\")\n",
        "        continue\n",
        "    prompt = build_prompt(text)\n",
        "    frame = ask_gemini(prompt)\n",
        "    print(f\"[{row['row_id']}] → {frame}\")\n",
        "    results.append(frame)\n",
        "    time.sleep(6)  # safety pause\n",
        "\n",
        "# Add results and merge with previous\n",
        "to_process[\"frame\"] = results\n",
        "combined = pd.concat([processed_df, to_process], ignore_index=True)\n",
        "\n",
        "# Save updated dataset\n",
        "combined.to_csv(output_path, index=False)\n",
        "print(\"✅ Saved updated file\")"
      ]
    },
    {
      "cell_type": "code",
      "execution_count": null,
      "metadata": {
        "colab": {
          "base_uri": "https://localhost:8080/"
        },
        "id": "QNTT75yTe5Rl",
        "outputId": "ee3138ea-a347-4aa6-96e5-ef3e5d511778"
      },
      "outputs": [
        {
          "data": {
            "text/plain": [
              "1108"
            ]
          },
          "execution_count": 20,
          "metadata": {},
          "output_type": "execute_result"
        }
      ],
      "source": [
        "df = pd.read_csv(\"/content/drive/MyDrive/Mediacloud/Russia/искусственный_интеллект_russia_2024-06-01_2025-06-01_frames_newsplease_mediacloud_gemini_2-5.csv\")\n",
        "\n",
        "len(df)"
      ]
    },
    {
      "cell_type": "code",
      "execution_count": null,
      "metadata": {
        "colab": {
          "base_uri": "https://localhost:8080/"
        },
        "id": "QZ0NrZQdwn6Z",
        "outputId": "8d7636bf-10da-4de5-c061-9da5504abab0"
      },
      "outputs": [
        {
          "data": {
            "text/plain": [
              "1002"
            ]
          },
          "execution_count": 21,
          "metadata": {},
          "output_type": "execute_result"
        }
      ],
      "source": [
        "df = df[df[\"frame\"] != \"error\"]\n",
        "df = df[df[\"frame\"] != \"Not AI related\"]\n",
        "len(df)"
      ]
    },
    {
      "cell_type": "code",
      "execution_count": null,
      "metadata": {
        "id": "rS68TDNUEp68"
      },
      "outputs": [],
      "source": [
        "output_path_cleaned = \"/content/drive/MyDrive/Mediacloud/Russia/искусственный_интеллект_russia_cleaned_2024-06-01_2025-06-01_frames_newsplease_mediacloud_gemini_2-5.csv\"\n",
        "df.to_csv(output_path_cleaned, index=False)"
      ]
    },
    {
      "cell_type": "code",
      "execution_count": null,
      "metadata": {
        "colab": {
          "base_uri": "https://localhost:8080/"
        },
        "id": "ycADlY2Bh1Qp",
        "outputId": "468cb4b8-92d7-41cb-bcfe-552aa1347e5d"
      },
      "outputs": [
        {
          "data": {
            "text/plain": [
              "1002"
            ]
          },
          "execution_count": 23,
          "metadata": {},
          "output_type": "execute_result"
        }
      ],
      "source": [
        "import pandas as pd\n",
        "\n",
        "df = pd.read_csv(\"/content/drive/MyDrive/Mediacloud/Russia/искусственный_интеллект_russia_cleaned_2024-06-01_2025-06-01_frames_newsplease_mediacloud_gemini_2-5.csv\")\n",
        "len(df)"
      ]
    },
    {
      "cell_type": "code",
      "execution_count": null,
      "metadata": {
        "id": "eAPs3rSLtiU5"
      },
      "outputs": [],
      "source": [
        "# 1. Install and import requirements\n",
        "!pip install -q google-generativeai\n",
        "import google.generativeai as genai\n",
        "import pandas as pd\n",
        "import time\n",
        "import os\n",
        "\n",
        "df = pd.read_csv(\"/content/drive/MyDrive/Mediacloud/Russia/искусственный_интеллект_russia_cleaned_2024-06-01_2025-06-01_frames_newsplease_mediacloud_gemini_2-5.csv\")\n",
        "df = df.reset_index(drop=True)\n",
        "df[\"row_id\"] = df.index\n",
        "\n",
        "output_path = \"/content/drive/MyDrive/Mediacloud/Russia/искусственный_интеллект_russia_cleaned_2024-06-01_2025-06-01_frames_sentiments_newsplease_mediacloud_gemini_2-5.csv\"\n",
        "\n",
        "# Load existing results (if any)\n",
        "if os.path.exists(output_path):\n",
        "    processed_df = pd.read_csv(output_path)\n",
        "    processed_ids = set(processed_df[\"row_id\"].values)\n",
        "else:\n",
        "    processed_df = pd.DataFrame()\n",
        "    processed_ids = set()\n",
        "\n",
        "to_process = df[~df[\"row_id\"].isin(processed_ids)].head(100)"
      ]
    },
    {
      "cell_type": "code",
      "execution_count": null,
      "metadata": {
        "colab": {
          "base_uri": "https://localhost:8080/",
          "height": 69
        },
        "id": "xeIw2thTto-d",
        "outputId": "1f2532df-3977-4f5c-d92c-0a058ab96936"
      },
      "outputs": [
        {
          "name": "stdout",
          "output_type": "stream",
          "text": [
            "[1000] → 3\n",
            "[1001] → 4\n",
            "✅ Saved updated file\n"
          ]
        }
      ],
      "source": [
        "from google import generativeai as genai\n",
        "import time\n",
        "\n",
        "genai.configure(api_key=\"Your API Key\")\n",
        "model = genai.GenerativeModel(\"gemini-2.5-flash\")\n",
        "\n",
        "def build_prompt(article_text):\n",
        "    return f\"\"\"\n",
        "You are an expert media analyst. Your task is to assess the sentiment of the article below regarding artificial intelligence (AI).\n",
        "\n",
        "Please read the article and assign a sentiment score on the following scale:\n",
        "\n",
        "- **-5**: Extremely negative tone about AI\n",
        "- **-4**: Very negative\n",
        "- **-3**: Moderately negative\n",
        "- **-2**: Somewhat negative\n",
        "- **-1**: Slightly negative\n",
        "- **0**:  Neutral or balanced\n",
        "- **1**:  Slightly positive\n",
        "- **2**:  Somewhat positive\n",
        "- **3**:  Moderately positive\n",
        "- **4**:  Very positive\n",
        "- **5**:  Extremely positive tone about AI\n",
        "\n",
        "### Article:\n",
        "{article_text}\n",
        "\n",
        "### Instructions:\n",
        "Return only the sentiment score (e.g., -3). Do not explain your reasoning or include any other text.\n",
        "\"\"\"\n",
        "\n",
        "def ask_gemini(prompt):\n",
        "    try:\n",
        "        response = model.generate_content(prompt)\n",
        "        return response.text.strip()\n",
        "    except Exception as e:\n",
        "        print(f\"Error: {e}\")\n",
        "        return \"error\"\n",
        "\n",
        "# Process batch\n",
        "results = []\n",
        "for i, row in to_process.iterrows():\n",
        "    text = row.get(\"maintext\", \"\")\n",
        "    if not isinstance(text, str) or not text.strip():\n",
        "        results.append(\"skipped\")\n",
        "        continue\n",
        "    prompt = build_prompt(text)\n",
        "    frame = ask_gemini(prompt)\n",
        "    print(f\"[{row['row_id']}] → {frame}\")\n",
        "    results.append(frame)\n",
        "    time.sleep(6)  # safety pause\n",
        "\n",
        "# Add results and merge with previous\n",
        "to_process[\"sentiment\"] = results\n",
        "combined = pd.concat([processed_df, to_process], ignore_index=True)\n",
        "\n",
        "# Save updated dataset\n",
        "combined.to_csv(output_path, index=False)\n",
        "print(\"✅ Saved updated file\")"
      ]
    },
    {
      "cell_type": "code",
      "execution_count": null,
      "metadata": {
        "colab": {
          "base_uri": "https://localhost:8080/"
        },
        "id": "8YPmMUaj1NZn",
        "outputId": "1e9f276d-b315-4f90-d4eb-0ac7776f4fc7"
      },
      "outputs": [
        {
          "data": {
            "text/plain": [
              "1000"
            ]
          },
          "execution_count": 29,
          "metadata": {},
          "output_type": "execute_result"
        }
      ],
      "source": [
        "df = pd.read_csv(\"/content/drive/MyDrive/Mediacloud/Russia/искусственный_интеллект_russia_cleaned_2024-06-01_2025-06-01_frames_sentiments_newsplease_mediacloud_gemini_2-5.csv\")\n",
        "\n",
        "len(df)"
      ]
    },
    {
      "cell_type": "code",
      "execution_count": null,
      "metadata": {
        "colab": {
          "base_uri": "https://localhost:8080/"
        },
        "id": "8bFERsp9hCNS",
        "outputId": "de2cbe80-5da8-4c97-a475-f7ecde6b1219"
      },
      "outputs": [
        {
          "data": {
            "text/plain": [
              "1000"
            ]
          },
          "execution_count": 30,
          "metadata": {},
          "output_type": "execute_result"
        }
      ],
      "source": [
        "df = df[df[\"sentiment\"] != \"error\"]\n",
        "len(df)"
      ]
    },
    {
      "cell_type": "code",
      "execution_count": null,
      "metadata": {
        "colab": {
          "base_uri": "https://localhost:8080/"
        },
        "id": "uQIu_mxxXqUh",
        "outputId": "b924531a-4006-450d-c7cc-7715790acb54"
      },
      "outputs": [
        {
          "data": {
            "text/plain": [
              "1000"
            ]
          },
          "execution_count": 28,
          "metadata": {},
          "output_type": "execute_result"
        }
      ],
      "source": [
        "output_path_cleaned = \"/content/drive/MyDrive/Mediacloud/Russia/искусственный_интеллект_russia_cleaned_2024-06-01_2025-06-01_frames_sentiments_newsplease_mediacloud_gemini_2-5.csv\"\n",
        "df.to_csv(output_path_cleaned, index=False)\n",
        "len(df)"
      ]
    }
  ],
  "metadata": {
    "colab": {
      "provenance": []
    },
    "kernelspec": {
      "display_name": "Python 3",
      "name": "python3"
    },
    "language_info": {
      "name": "python"
    }
  },
  "nbformat": 4,
  "nbformat_minor": 0
}
